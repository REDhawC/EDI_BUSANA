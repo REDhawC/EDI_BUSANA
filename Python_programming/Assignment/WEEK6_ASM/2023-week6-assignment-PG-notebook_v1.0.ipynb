{
 "cells": [
  {
   "cell_type": "code",
   "execution_count": 6,
   "id": "cae02b33",
   "metadata": {},
   "outputs": [
    {
     "data": {
      "text/html": [
       "<style>.container { width:100% !important; }</style>"
      ],
      "text/plain": [
       "<IPython.core.display.HTML object>"
      ]
     },
     "metadata": {},
     "output_type": "display_data"
    }
   ],
   "source": [
    "# experimental: you can run this cell to see your code full-width\n",
    "from IPython.display import display, HTML\n",
    "display(HTML(\"<style>.container { width:100% !important; }</style>\"))"
   ]
  },
  {
   "cell_type": "markdown",
   "id": "cc1427a0",
   "metadata": {},
   "source": [
    "# Python Programming - Pair Assignment - Week 6\n"
   ]
  },
  {
   "cell_type": "markdown",
   "id": "26c61b24",
   "metadata": {},
   "source": [
    "# Your Week 6 assignment task is the same as in week 3 but for a different dataset\n",
    "\n",
    "**Dataset: Guardian API**\n",
    "\n",
    "Imagine you are a junior data analyst working for an organisation who has some use for this data. Your job is to identify and present some insights from the data - to ask, and then answer a question relevant to this business (aka. 'a business question'). Look at the data - what type of questions can they answer? \n",
    "\n",
    "1. Explore the data using code\n",
    "2. Formulate and answer a business question (using the data)\n",
    "3. Describe what you found using 200 words and ONE graph.\n",
    "\n",
    "The question does not need to be complicated. The analysis does not need to be complicated - simple descriptives and visualisations are good enough! Your task is to use python to operate on data, find answer and support it with a graph or well-crafted table.\n",
    "\n",
    "Differences from previous assignments:\n",
    "\n",
    "- you can use Pandas&Numpys if you'd like\n",
    "- dataset is different\n",
    "- please produce only one visualisation (if you know how, and you really want to, you can combine a few graphs into one graph, but make sure they tell one story)\n",
    "- please do not change the filename, because computer system then loses your files (3 pairs almost got zero points last time, before we realised)\n",
    "- at the end of the notebook is the marking criteria"
   ]
  },
  {
   "cell_type": "markdown",
   "id": "7db3d6e1",
   "metadata": {},
   "source": [
    "### Deliverable:\n",
    "\n",
    "1. In this notebook please include all the code that you used to arrive at the conclusion. \n",
    "2. At the end of your notebook, you should also provide your 'mini-report':\n",
    "\n",
    "- a markdown (text) cell with your mini-report (200 words +/- 10%). For reference, 'Marking criteria' section below has around 220 words)\n",
    "- a cell which will generate the graph or table that accompanies your mini-report (you are allowed to combine number of graphs, if they are combined into one unit and make sense, eg. combining 3 bar charts side by side, or overlapping a line chart with a bar chart).\n",
    "- any visualisation library is allowed, but for your own learning, try to use a few different ones during the course."
   ]
  },
  {
   "cell_type": "markdown",
   "id": "77a6533d",
   "metadata": {},
   "source": [
    "### Marks:\n",
    "\n",
    "You will get points in university marking system for each of the below categories. \n",
    "\n",
    "0- 50% : Unsafisfactory\n",
    "\n",
    "50-60% : Good\n",
    "\n",
    "60-70% : Very Good\n",
    "\n",
    "70% +  : Excellent\n",
    "\n",
    "**Definition of 'Excellent': Text, graph and code that you would be proud to share on your LinkedIn, for your future employers to see.**"
   ]
  },
  {
   "cell_type": "markdown",
   "id": "5ac2d4b3",
   "metadata": {},
   "source": [
    "Your grade will be the average of your points in all below categories. This assignment is worth 10% of your grade for this course. You and your partner will get the same grade. Only ONE of you should submit the assignment.\n",
    "\n",
    "### Marking Criteria:\n",
    "\n",
    "**A) Business Question and Answer:** Did you manage to find a question that can be answered with given data? As an analyst you will often have to dive into available data and identify how it ccan help the business, or solve a problem, withou first knowing what the problem is. Also can you formulate a clear answer to the question you created?\n",
    "\n",
    "**B) Using the Data:** How well did you use the data to answer your question? Your answer should be supported by what you found in the data. Briefly describe why this was the correct data, and correct analysis to perform on it.\n",
    "\n",
    "**C) Visualisation:** Can you aid your argument/aswer with visual clues? Graph can say a thousand words, but it is also easy to make one which is confusing, or misleading. Use simple (or highly customised) graphs to make your argument clearer.\n",
    "\n",
    "**D) Code Quality:** Is your code clean, readable and DRY (Don't repeat yourself)? Are you using good readable variable names? Did you clean up your code and does it not include enay old/unused parts?\n",
    "\n",
    "**E) Code Structure:** Is your code well structured and broken down? Just like good writing has sentences, paragraphs and chapters, good code should be split into sections. Breakdown your code into cells and functions. Use meaningful signposts (eg. comments, function names) to guide the reader through your code.\n",
    "\n",
    "\n",
    "### Difficulty:\n",
    "\n",
    "This assignment should not take you and your partner more than 1-2h. There are not extra points for making the question DIFFICULT, but you are graded for CLEAN CODE and COMMUNICATING clearly."
   ]
  },
  {
   "cell_type": "markdown",
   "id": "6ba71d61",
   "metadata": {},
   "source": [
    "# Task: \n",
    "\n",
    "### For ginen datasets try to identify one interesting question that data could answer. Then write python code that finds answer to that question, and describe your findings in a visualisation and a few sentences. \n",
    "\n",
    "\n",
    "**1. look at the data.**\n",
    "\n",
    "are they in formats that you might need? (numbers, strings, dates, etc). Remember that you can change variables with data (eg. add new key-value pairs)\n",
    "\n",
    "**2. what are the questions this data could answer?**\n",
    "\n",
    "you are given an example questions, but if you want to pursue different questions, feel free to do that!\n",
    "\n",
    "**3. write code to extract some meaningful information from this data**\n",
    "\n",
    "make your code as meaningful as possible. make sure your variables and functions are meaningful.\n",
    "\n",
    "**4. visualise what you found.**\n",
    "\n",
    "this could be a simple graph, or a printed sentence or table\n",
    "\n",
    "**5. write a very short, two-sentence synopsis of what you found**\n",
    "\n",
    "What question you asked? What is the answer? What could it mean?"
   ]
  },
  {
   "cell_type": "markdown",
   "id": "1172f177",
   "metadata": {},
   "source": [
    "# FAQ:\n",
    "\n",
    "⚠️ You can use the dataset given to you. Only add additional datasets if they someohow compliement the ones you were given (eg. to position things on a map)\n",
    "\n",
    "⚠️ In your notebook you will explore the data and play around a bit. But you will be marked on the quality of all of your code, so make sure you clean up things you ended up not using.\n",
    "\n",
    "⚠️ Often during exploration people produce very many graphs, and that's ok. This graphs will NOT be marked. At the end PICK ONE GRAPH which accompanies your written mini-report best, and make sure it is included in a clear way with yoru writeup. If it will be unclear which graph is your picked one, we will mark a last one we see and ignore everything else.\n",
    "\n",
    "⚠️ Your writeup has a very strict word limit. It is ok to write text and comments amongst your code, but they will not count towards your writeup mark, or your writeup wordcount.\n",
    "\n",
    "⚠️ Easiest way to do well on this assignment is: \n",
    "\n",
    "- use meaningul variable/function names. \n",
    "- structure your code well in cells and functions\n",
    "- write a mini-report where things are backed by the analysis you ran with your code (i.e. are not just personal opinions, or known facts).\n",
    "\n",
    "Good luck!"
   ]
  },
  {
   "cell_type": "markdown",
   "id": "4065f899",
   "metadata": {},
   "source": [
    "# Your submission goes below:"
   ]
  },
  {
   "cell_type": "code",
   "execution_count": 7,
   "id": "0211c901",
   "metadata": {},
   "outputs": [
    {
     "name": "stderr",
     "output_type": "stream",
     "text": [
      "[nltk_data] Downloading package averaged_perceptron_tagger to\n",
      "[nltk_data]     C:\\Users\\redhawc\\AppData\\Roaming\\nltk_data...\n",
      "[nltk_data]   Package averaged_perceptron_tagger is already up-to-\n",
      "[nltk_data]       date!\n",
      "[nltk_data] Downloading package punkt to\n",
      "[nltk_data]     C:\\Users\\redhawc\\AppData\\Roaming\\nltk_data...\n",
      "[nltk_data]   Package punkt is already up-to-date!\n",
      "[nltk_data] Downloading package vader_lexicon to\n",
      "[nltk_data]     C:\\Users\\redhawc\\AppData\\Roaming\\nltk_data...\n",
      "[nltk_data]   Package vader_lexicon is already up-to-date!\n",
      "[nltk_data] Downloading package stopwords to\n",
      "[nltk_data]     C:\\Users\\redhawc\\AppData\\Roaming\\nltk_data...\n",
      "[nltk_data]   Package stopwords is already up-to-date!\n",
      "[nltk_data] Downloading package wordnet to\n",
      "[nltk_data]     C:\\Users\\redhawc\\AppData\\Roaming\\nltk_data...\n",
      "[nltk_data]   Package wordnet is already up-to-date!\n",
      "[nltk_data] Downloading package omw-1.4 to\n",
      "[nltk_data]     C:\\Users\\redhawc\\AppData\\Roaming\\nltk_data...\n",
      "[nltk_data]   Package omw-1.4 is already up-to-date!\n"
     ]
    },
    {
     "data": {
      "text/plain": [
       "True"
      ]
     },
     "execution_count": 7,
     "metadata": {},
     "output_type": "execute_result"
    }
   ],
   "source": [
    "import string\n",
    "from collections import defaultdict\n",
    "\n",
    "import nltk\n",
    "from nltk import word_tokenize\n",
    "from nltk.corpus import stopwords\n",
    "from nltk.stem import WordNetLemmatizer\n",
    "from nltk.sentiment import SentimentIntensityAnalyzer\n",
    "from nltk import pos_tag\n",
    "import requests\n",
    "import pandas as pd\n",
    "import copy\n",
    "import plotly.graph_objects as go\n",
    "import numpy as np\n",
    "import json\n",
    "\n",
    "nltk.download(\"averaged_perceptron_tagger\")\n",
    "nltk.download(\"punkt\")\n",
    "nltk.download(\"vader_lexicon\")\n",
    "nltk.download(\"stopwords\")\n",
    "nltk.download(\"wordnet\")\n",
    "nltk.download(\"omw-1.4\")"
   ]
  },
  {
   "cell_type": "code",
   "execution_count": 8,
   "id": "a2eae46b",
   "metadata": {},
   "outputs": [],
   "source": [
    "def search_news(\n",
    "    query: str,\n",
    "    from_date: str = \"2023-01-01\",\n",
    "    to_date: str = \"2023-06-01\",\n",
    "    page_size: int = 200,\n",
    "    order_by: str = \"oldest\",\n",
    "):\n",
    "    # Define the parameters for the API call\n",
    "\n",
    "    MY_API_KEY = \"985f45fc-3528-4c75-871b-6551f316a194\"\n",
    "    API_ENDPOINT = \"http://content.guardianapis.com/search\"\n",
    "\n",
    "    my_params = {\n",
    "        \"from-date\": from_date,\n",
    "        \"to-date\": to_date,\n",
    "        \"order-by\": order_by,\n",
    "        \"show-fields\": \"all\",\n",
    "        \"query-fields\": \"body\",\n",
    "        \"q\": query,\n",
    "        \"section\": \"football\",\n",
    "        \"page-size\": page_size,\n",
    "        \"api-key\": MY_API_KEY,\n",
    "    }\n",
    "\n",
    "    # Collect search results in data frame\n",
    "    current_page = 1\n",
    "    total_pages = float(\"inf\")\n",
    "    df_all = pd.DataFrame()\n",
    "\n",
    "    while current_page <= total_pages:\n",
    "        print(\"... extracting results from page\", current_page)\n",
    "        try:\n",
    "            my_params[\"page\"] = current_page\n",
    "            r = requests.get(API_ENDPOINT, my_params)\n",
    "            if r.status_code != 200:\n",
    "                if r.status_code == 401:\n",
    "                    print(\"Unauthorized. Check your API key.\")\n",
    "                elif r.status_code == 404:\n",
    "                    print(\"The resource could not be found.\")\n",
    "                else:\n",
    "                    print(f\"Error: {r.status_code}\")\n",
    "            data = r.json()\n",
    "            news_items = data[\"response\"][\"results\"]\n",
    "            df_page = pd.json_normalize(news_items)\n",
    "            df_all = pd.concat([df_all, df_page], ignore_index=True)\n",
    "        except Exception as e:\n",
    "            print(f\"Error: {e}\")\n",
    "            break\n",
    "        total_pages = data[\"response\"][\"pages\"]\n",
    "        current_page += 1\n",
    "\n",
    "    df_all[\"webPublicationDate\"] = pd.to_datetime(df_all[\"webPublicationDate\"])\n",
    "\n",
    "    # Extract year and month, then group by year and month\n",
    "    df_all[\"year_month\"] = df_all[\"webPublicationDate\"].dt.to_period(\"M\")\n",
    "    grouped_data = df_all.groupby(\"year_month\")\n",
    "    monthly_data_dict = {str(period): group for period, group in grouped_data}\n",
    "\n",
    "    return monthly_data_dict\n",
    "\n",
    "\n",
    "def get_all_article(\n",
    "    data,\n",
    "):\n",
    "    return data[\"fields.bodyText\"].tolist()\n",
    "\n",
    "\n",
    "def tokenize_articles(articles):\n",
    "    tokens = []\n",
    "    for article in articles:\n",
    "        tokens += word_tokenize(article)\n",
    "\n",
    "    lower_s_tokens = [word.lower() for word in tokens]  # lowercase list of words\n",
    "    return lower_s_tokens\n",
    "\n",
    "\n",
    "def remove_noises(tokens):\n",
    "    # Remove some stopwords\n",
    "    url = \"https://raw.githubusercontent.com/REDhawC/EDI_BUSANA/master/Python_programming/Assignment/WEEK6_ASM/uninteresting_words.csv\"\n",
    "\n",
    "    df_uninteresting_words = pd.read_csv(url)\n",
    "    uninteresting_words = df_uninteresting_words[\"word\"].tolist()\n",
    "    remove_these = set(\n",
    "        stopwords.words(\"english\")\n",
    "        + list(string.punctuation)\n",
    "        + list(string.digits)\n",
    "        + uninteresting_words\n",
    "    )\n",
    "\n",
    "    filtered_text = [token for token in tokens if not token in remove_these]\n",
    "    return filtered_text\n",
    "\n",
    "\n",
    "def pos_tagging(tokens):\n",
    "    \"\"\"\n",
    "    Perform POS tagging on the tokens and return the tagged tokens in a list.\n",
    "    \"\"\"\n",
    "    tagged_tokens = pos_tag(tokens)\n",
    "    nouns = [word for (word, pos) in tagged_tokens if (pos == \"NN\" or pos == \"NNS\")]\n",
    "    adjs = [\n",
    "        word\n",
    "        for (word, pos) in tagged_tokens\n",
    "        if (pos == \"JJ\" or pos == \"JJR\" or pos == \"JJS\")\n",
    "    ]\n",
    "    verbs = [\n",
    "        word\n",
    "        for (word, pos) in tagged_tokens\n",
    "        if (\n",
    "            pos == \"VB\"\n",
    "            or pos == \"VBD\"\n",
    "            or pos == \"VBG\"\n",
    "            or pos == \"VBN\"\n",
    "            or pos == \"VBP\"\n",
    "            or pos == \"VBZ\"\n",
    "        )\n",
    "    ]\n",
    "    return {\"nouns\": nouns, \"adjs\": adjs, \"verbs\": verbs}\n",
    "\n",
    "\n",
    "def lemmatise(tokens):\n",
    "    lemmatizer = WordNetLemmatizer()\n",
    "    lemmas = [lemmatizer.lemmatize(token) for token in tokens]\n",
    "    return lemmas\n",
    "\n",
    "\n",
    "def sentiment_analysis(words_list):\n",
    "    sia = SentimentIntensityAnalyzer()\n",
    "    positive_count = 0\n",
    "    negative_count = 0\n",
    "\n",
    "    for word in words_list:\n",
    "        # Get the word's sentiment polarity score\n",
    "        score = sia.polarity_scores(word)\n",
    "        if score[\"compound\"] > 0.1:\n",
    "            positive_count += 1\n",
    "        elif score[\"compound\"] < -0.1:\n",
    "            negative_count += 1\n",
    "\n",
    "    if negative_count == 0:\n",
    "        return float(\"inf\")\n",
    "    else:\n",
    "        return positive_count / negative_count\n",
    "\n",
    "\n",
    "def generate_monthly_text_mined_data_for_each_club(\n",
    "    target, from_date, to_date, page_size\n",
    "):\n",
    "    dict_all_months = search_news(target, from_date, to_date, page_size)\n",
    "\n",
    "    for month in dict_all_months:\n",
    "        print(f\"{target}-{month}\")\n",
    "        final_text = remove_noises(\n",
    "            tokenize_articles(get_all_article(dict_all_months[month]))\n",
    "        )\n",
    "\n",
    "        POS_tagged_text = pos_tagging(final_text)\n",
    "        dict_all_months[month] = sentiment_analysis(lemmatise(POS_tagged_text[\"adjs\"]))\n",
    "\n",
    "    print(f\"\\n\\n--------------------[{target} Done]-------------------\\n\\n\")\n",
    "\n",
    "    return dict_all_months"
   ]
  },
  {
   "cell_type": "code",
   "execution_count": 18,
   "id": "70e55942",
   "metadata": {},
   "outputs": [],
   "source": [
    "def calculate_monthly_medians(data):\n",
    "    # Calculate the median value for each month across all teams.\n",
    "\n",
    "    monthly_values = defaultdict(list)\n",
    "    for stats in data.values():\n",
    "        for date, value in stats.items():\n",
    "            monthly_values[date].append(value)\n",
    "    return {date: np.median(values) for date, values in monthly_values.items()}\n",
    "\n",
    "\n",
    "def adjust_data_by_median(data, monthly_medians, above_factor, below_factor):\n",
    "    # adjust data to enlarge its difference accrording to the median value for each month across all teams.\n",
    "    adjusted_data = defaultdict(dict)\n",
    "    for team, stats in data.items():\n",
    "        for date, value in stats.items():\n",
    "            factor = above_factor if value > monthly_medians[date] else below_factor\n",
    "            adjusted_data[team][date] = (\n",
    "                value - monthly_medians[date]\n",
    "            ) * factor + monthly_medians[date]\n",
    "    return adjusted_data\n",
    "\n",
    "\n",
    "def create_bubble_chart(adjusted_data, team_colors, monthly_rankings, adjust_factor=70):\n",
    "    fig = go.Figure()\n",
    "    for team, months_data in adjusted_data.items():\n",
    "        months = pd.to_datetime(sorted(months_data.keys()), format=\"%Y-%m\")\n",
    "        ratios = [months_data[month.strftime(\"%Y-%m\")] for month in months]\n",
    "        sizes = np.log(ratios) * adjust_factor\n",
    "\n",
    "        rankings_text = [\n",
    "            str(monthly_rankings[month.strftime(\"%Y-%m\")][team]) for month in months\n",
    "        ]\n",
    "\n",
    "        fig.add_trace(\n",
    "            go.Scatter(\n",
    "                x=months,\n",
    "                y=[team] * len(months),\n",
    "                mode=\"markers+text\",\n",
    "                marker=dict(\n",
    "                    size=sizes,\n",
    "                    sizemode=\"diameter\",\n",
    "                    color=team_colors[team],\n",
    "                    opacity=0.5,\n",
    "                ),\n",
    "                text=rankings_text,\n",
    "                hovertemplate=\"ranking(the number in the bubble)=%{text}<br>\"\n",
    "                + \"ratio(the size of the bubble)=%{marker.size:.2f}<extra></extra>\",\n",
    "                name=team,\n",
    "            )\n",
    "        )\n",
    "\n",
    "    # adding annotation\n",
    "    legend_text = (\n",
    "        \"The size of the bubbles indicates the positive/negative word ratio at the time.<br>\"\n",
    "        \"The number inside the bubble indicates the rank of the club at that time.\"\n",
    "    )\n",
    "    fig.add_annotation(\n",
    "        text=legend_text,\n",
    "        align=\"right\",\n",
    "        showarrow=False,\n",
    "        xref=\"paper\",\n",
    "        yref=\"paper\",\n",
    "        x=1,\n",
    "        y=1.10,\n",
    "        bordercolor=\"black\",\n",
    "        borderwidth=0,\n",
    "        bgcolor=\"white\",\n",
    "        font=dict(family=\"Courier New, monospace\", size=12, color=\"#000000\"),\n",
    "    )\n",
    "\n",
    "    fig.update_layout(\n",
    "        title=dict(\n",
    "            text=\"2022/23 Season: Positive/Negative Word Ratios of Big 6 Clubs in Premier League\",\n",
    "            font=dict(size=22),\n",
    "        ),\n",
    "        xaxis_title=\"Month\",\n",
    "        yaxis_title=\"Team\",\n",
    "        yaxis_categoryorder=\"array\",\n",
    "        yaxis_categoryarray=list(team_colors.keys()),\n",
    "        xaxis_tickangle=30,\n",
    "        xaxis_tickformat=\"%Y-%m\",\n",
    "        xaxis=dict(\n",
    "            tickmode=\"linear\",  \n",
    "            tick0=months.min(),  \n",
    "            dtick=\"M1\",  \n",
    "        ),\n",
    "        legend_title=\"Team\",\n",
    "        xaxis_rangeslider_visible=True,\n",
    "        width=1000,\n",
    "        height=800,\n",
    "    )\n",
    "    return fig"
   ]
  },
  {
   "cell_type": "code",
   "execution_count": 10,
   "id": "5707b31a",
   "metadata": {},
   "outputs": [
    {
     "name": "stdout",
     "output_type": "stream",
     "text": [
      "... extracting results from page 1\n",
      "... extracting results from page 2\n",
      "... extracting results from page 3\n",
      "... extracting results from page 4\n",
      "... extracting results from page 5\n",
      "... extracting results from page 6\n",
      "... extracting results from page 7\n",
      "... extracting results from page 8\n",
      "... extracting results from page 9\n",
      "... extracting results from page 10\n",
      "... extracting results from page 11\n",
      "... extracting results from page 12\n",
      "... extracting results from page 13\n",
      "... extracting results from page 14\n",
      "... extracting results from page 15\n",
      "... extracting results from page 16\n",
      "... extracting results from page 17\n",
      "... extracting results from page 18\n",
      "... extracting results from page 19\n",
      "... extracting results from page 20\n",
      "Manchester United-2022-08\n"
     ]
    },
    {
     "name": "stderr",
     "output_type": "stream",
     "text": [
      "C:\\Users\\redhawc\\AppData\\Local\\Temp\\ipykernel_50496\\2500412469.py:55: UserWarning: Converting to PeriodArray/Index representation will drop timezone information.\n",
      "  df_all[\"year_month\"] = df_all[\"webPublicationDate\"].dt.to_period(\"M\")\n"
     ]
    },
    {
     "name": "stdout",
     "output_type": "stream",
     "text": [
      "Manchester United-2022-09\n",
      "Manchester United-2022-10\n",
      "Manchester United-2022-11\n",
      "Manchester United-2022-12\n",
      "Manchester United-2023-01\n",
      "Manchester United-2023-02\n",
      "Manchester United-2023-03\n",
      "Manchester United-2023-04\n",
      "Manchester United-2023-05\n",
      "Manchester United-2023-06\n",
      "\n",
      "\n",
      "--------------------[Manchester United Done]-------------------\n",
      "\n",
      "\n",
      "... extracting results from page 1\n",
      "... extracting results from page 2\n",
      "... extracting results from page 3\n",
      "... extracting results from page 4\n",
      "... extracting results from page 5\n",
      "... extracting results from page 6\n",
      "... extracting results from page 7\n",
      "... extracting results from page 8\n",
      "... extracting results from page 9\n",
      "... extracting results from page 10\n",
      "... extracting results from page 11\n",
      "... extracting results from page 12\n",
      "... extracting results from page 13\n",
      "... extracting results from page 14\n",
      "... extracting results from page 15\n",
      "... extracting results from page 16\n",
      "... extracting results from page 17\n",
      "... extracting results from page 18\n",
      "... extracting results from page 19\n"
     ]
    },
    {
     "name": "stderr",
     "output_type": "stream",
     "text": [
      "C:\\Users\\redhawc\\AppData\\Local\\Temp\\ipykernel_50496\\2500412469.py:55: UserWarning: Converting to PeriodArray/Index representation will drop timezone information.\n",
      "  df_all[\"year_month\"] = df_all[\"webPublicationDate\"].dt.to_period(\"M\")\n"
     ]
    },
    {
     "name": "stdout",
     "output_type": "stream",
     "text": [
      "Manchester City-2022-08\n",
      "Manchester City-2022-09\n",
      "Manchester City-2022-10\n",
      "Manchester City-2022-11\n",
      "Manchester City-2022-12\n",
      "Manchester City-2023-01\n",
      "Manchester City-2023-02\n",
      "Manchester City-2023-03\n",
      "Manchester City-2023-04\n",
      "Manchester City-2023-05\n",
      "Manchester City-2023-06\n",
      "\n",
      "\n",
      "--------------------[Manchester City Done]-------------------\n",
      "\n",
      "\n",
      "... extracting results from page 1\n",
      "... extracting results from page 2\n",
      "... extracting results from page 3\n",
      "... extracting results from page 4\n",
      "... extracting results from page 5\n",
      "... extracting results from page 6\n",
      "... extracting results from page 7\n",
      "... extracting results from page 8\n",
      "... extracting results from page 9\n",
      "... extracting results from page 10\n",
      "... extracting results from page 11\n",
      "... extracting results from page 12\n",
      "... extracting results from page 13\n",
      "... extracting results from page 14\n",
      "... extracting results from page 15\n",
      "... extracting results from page 16\n"
     ]
    },
    {
     "name": "stderr",
     "output_type": "stream",
     "text": [
      "C:\\Users\\redhawc\\AppData\\Local\\Temp\\ipykernel_50496\\2500412469.py:55: UserWarning: Converting to PeriodArray/Index representation will drop timezone information.\n",
      "  df_all[\"year_month\"] = df_all[\"webPublicationDate\"].dt.to_period(\"M\")\n"
     ]
    },
    {
     "name": "stdout",
     "output_type": "stream",
     "text": [
      "Liverpool-2022-08\n",
      "Liverpool-2022-09\n",
      "Liverpool-2022-10\n",
      "Liverpool-2022-11\n",
      "Liverpool-2022-12\n",
      "Liverpool-2023-01\n",
      "Liverpool-2023-02\n",
      "Liverpool-2023-03\n",
      "Liverpool-2023-04\n",
      "Liverpool-2023-05\n",
      "Liverpool-2023-06\n",
      "\n",
      "\n",
      "--------------------[Liverpool Done]-------------------\n",
      "\n",
      "\n",
      "... extracting results from page 1\n",
      "... extracting results from page 2\n",
      "... extracting results from page 3\n",
      "... extracting results from page 4\n",
      "... extracting results from page 5\n",
      "... extracting results from page 6\n",
      "... extracting results from page 7\n",
      "... extracting results from page 8\n",
      "... extracting results from page 9\n",
      "... extracting results from page 10\n",
      "... extracting results from page 11\n",
      "... extracting results from page 12\n",
      "... extracting results from page 13\n",
      "... extracting results from page 14\n",
      "... extracting results from page 15\n",
      "... extracting results from page 16\n",
      "... extracting results from page 17\n",
      "... extracting results from page 18\n",
      "... extracting results from page 19\n",
      "Chelsea-2022-08\n"
     ]
    },
    {
     "name": "stderr",
     "output_type": "stream",
     "text": [
      "C:\\Users\\redhawc\\AppData\\Local\\Temp\\ipykernel_50496\\2500412469.py:55: UserWarning: Converting to PeriodArray/Index representation will drop timezone information.\n",
      "  df_all[\"year_month\"] = df_all[\"webPublicationDate\"].dt.to_period(\"M\")\n"
     ]
    },
    {
     "name": "stdout",
     "output_type": "stream",
     "text": [
      "Chelsea-2022-09\n",
      "Chelsea-2022-10\n",
      "Chelsea-2022-11\n",
      "Chelsea-2022-12\n",
      "Chelsea-2023-01\n",
      "Chelsea-2023-02\n",
      "Chelsea-2023-03\n",
      "Chelsea-2023-04\n",
      "Chelsea-2023-05\n",
      "Chelsea-2023-06\n",
      "\n",
      "\n",
      "--------------------[Chelsea Done]-------------------\n",
      "\n",
      "\n",
      "... extracting results from page 1\n",
      "... extracting results from page 2\n",
      "... extracting results from page 3\n",
      "... extracting results from page 4\n",
      "... extracting results from page 5\n",
      "... extracting results from page 6\n",
      "... extracting results from page 7\n",
      "... extracting results from page 8\n",
      "... extracting results from page 9\n",
      "... extracting results from page 10\n",
      "... extracting results from page 11\n",
      "... extracting results from page 12\n",
      "... extracting results from page 13\n",
      "... extracting results from page 14\n",
      "... extracting results from page 15\n",
      "... extracting results from page 16\n",
      "... extracting results from page 17\n"
     ]
    },
    {
     "name": "stderr",
     "output_type": "stream",
     "text": [
      "C:\\Users\\redhawc\\AppData\\Local\\Temp\\ipykernel_50496\\2500412469.py:55: UserWarning: Converting to PeriodArray/Index representation will drop timezone information.\n",
      "  df_all[\"year_month\"] = df_all[\"webPublicationDate\"].dt.to_period(\"M\")\n"
     ]
    },
    {
     "name": "stdout",
     "output_type": "stream",
     "text": [
      "Arsenal-2022-08\n",
      "Arsenal-2022-09\n",
      "Arsenal-2022-10\n",
      "Arsenal-2022-11\n",
      "Arsenal-2022-12\n",
      "Arsenal-2023-01\n",
      "Arsenal-2023-02\n",
      "Arsenal-2023-03\n",
      "Arsenal-2023-04\n",
      "Arsenal-2023-05\n",
      "Arsenal-2023-06\n",
      "\n",
      "\n",
      "--------------------[Arsenal Done]-------------------\n",
      "\n",
      "\n",
      "... extracting results from page 1\n",
      "... extracting results from page 2\n",
      "... extracting results from page 3\n",
      "... extracting results from page 4\n",
      "... extracting results from page 5\n",
      "... extracting results from page 6\n",
      "... extracting results from page 7\n",
      "... extracting results from page 8\n",
      "... extracting results from page 9\n",
      "... extracting results from page 10\n",
      "... extracting results from page 11\n",
      "... extracting results from page 12\n",
      "... extracting results from page 13\n"
     ]
    },
    {
     "name": "stderr",
     "output_type": "stream",
     "text": [
      "C:\\Users\\redhawc\\AppData\\Local\\Temp\\ipykernel_50496\\2500412469.py:55: UserWarning: Converting to PeriodArray/Index representation will drop timezone information.\n",
      "  df_all[\"year_month\"] = df_all[\"webPublicationDate\"].dt.to_period(\"M\")\n"
     ]
    },
    {
     "name": "stdout",
     "output_type": "stream",
     "text": [
      "Tottenham-2022-08\n",
      "Tottenham-2022-09\n",
      "Tottenham-2022-10\n",
      "Tottenham-2022-11\n",
      "Tottenham-2022-12\n",
      "Tottenham-2023-01\n",
      "Tottenham-2023-02\n",
      "Tottenham-2023-03\n",
      "Tottenham-2023-04\n",
      "Tottenham-2023-05\n",
      "Tottenham-2023-06\n",
      "\n",
      "\n",
      "--------------------[Tottenham Done]-------------------\n",
      "\n",
      "\n",
      "defaultdict(<class 'dict'>,\n",
      "            {'Arsenal': {'2022-08': 1.4496350364963504,\n",
      "                         '2022-09': 1.430327868852459,\n",
      "                         '2022-10': 1.3353204172876305,\n",
      "                         '2022-11': 1.4207027540360875,\n",
      "                         '2022-12': 1.6046511627906976,\n",
      "                         '2023-01': 1.3594559585492227,\n",
      "                         '2023-02': 1.4363767074047449,\n",
      "                         '2023-03': 1.4231642694928084,\n",
      "                         '2023-04': 1.5068493150684932,\n",
      "                         '2023-05': 1.375,\n",
      "                         '2023-06': 1.4913294797687862},\n",
      "             'Chelsea': {'2022-08': 1.4949944382647387,\n",
      "                         '2022-09': 1.4860279441117765,\n",
      "                         '2022-10': 1.337298810356893,\n",
      "                         '2022-11': 1.4336513443191674,\n",
      "                         '2022-12': 1.6035805626598465,\n",
      "                         '2023-01': 1.3640416047548292,\n",
      "                         '2023-02': 1.4715953307392997,\n",
      "                         '2023-03': 1.3313253012048192,\n",
      "                         '2023-04': 1.3821510297482837,\n",
      "                         '2023-05': 1.3966376089663761,\n",
      "                         '2023-06': 1.4817073170731707},\n",
      "             'Liverpool': {'2022-08': 1.4578177727784027,\n",
      "                           '2022-09': 1.4700214132762313,\n",
      "                           '2022-10': 1.2837273991655076,\n",
      "                           '2022-11': 1.481025641025641,\n",
      "                           '2022-12': 1.594885598923284,\n",
      "                           '2023-01': 1.4006187161639598,\n",
      "                           '2023-02': 1.4041759880686056,\n",
      "                           '2023-03': 1.3193069306930694,\n",
      "                           '2023-04': 1.3783031988873435,\n",
      "                           '2023-05': 1.355093256814921,\n",
      "                           '2023-06': 1.2746478873239437},\n",
      "             'Manchester City': {'2022-08': 1.5175537938844847,\n",
      "                                 '2022-09': 1.485818847209515,\n",
      "                                 '2022-10': 1.28973185088293,\n",
      "                                 '2022-11': 1.456451612903226,\n",
      "                                 '2022-12': 1.7110817941952507,\n",
      "                                 '2023-01': 1.3340395480225988,\n",
      "                                 '2023-02': 1.4347202295552368,\n",
      "                                 '2023-03': 1.4256651017214397,\n",
      "                                 '2023-04': 1.3548574752763234,\n",
      "                                 '2023-05': 1.3739793140990746,\n",
      "                                 '2023-06': 1.6486486486486487},\n",
      "             'Manchester United': {'2022-08': 1.478488982161595,\n",
      "                                   '2022-09': 1.58,\n",
      "                                   '2022-10': 1.3658340048348105,\n",
      "                                   '2022-11': 1.4285714285714286,\n",
      "                                   '2022-12': 1.6280898876404495,\n",
      "                                   '2023-01': 1.37524557956778,\n",
      "                                   '2023-02': 1.4729102167182662,\n",
      "                                   '2023-03': 1.4226475279106858,\n",
      "                                   '2023-04': 1.3597852028639619,\n",
      "                                   '2023-05': 1.4030226700251889,\n",
      "                                   '2023-06': 1.65625},\n",
      "             'Tottenham': {'2022-08': 1.3219284603421462,\n",
      "                           '2022-09': 1.4170337738619676,\n",
      "                           '2022-10': 1.234704112337011,\n",
      "                           '2022-11': 1.3497757847533631,\n",
      "                           '2022-12': 1.5828970331588132,\n",
      "                           '2023-01': 1.3152985074626866,\n",
      "                           '2023-02': 1.2950367647058822,\n",
      "                           '2023-03': 1.2132834424695977,\n",
      "                           '2023-04': 1.313164349959117,\n",
      "                           '2023-05': 1.2844600526777876,\n",
      "                           '2023-06': 1.5730337078651686}})\n"
     ]
    }
   ],
   "source": [
    "club_sentiment_dict = defaultdict(dict)\n",
    "\n",
    "for club in [\n",
    "    \"Manchester United\",\n",
    "    \"Manchester City\",\n",
    "    \"Liverpool\",\n",
    "    \"Chelsea\",\n",
    "    \"Arsenal\",\n",
    "    \"Tottenham\",\n",
    "]:\n",
    "    club_sentiment_dict[club] = generate_monthly_text_mined_data_for_each_club(\n",
    "        club, \"2022-08-06\", \"2023-06-06\", 100\n",
    "    )\n",
    "\n",
    "print(\"\\n\\n----------------[text mining done]----------------\\n\\n\")"
   ]
  },
  {
   "cell_type": "code",
   "execution_count": 22,
   "id": "3402ba87",
   "metadata": {
    "scrolled": true
   },
   "outputs": [
    {
     "data": {
      "application/vnd.plotly.v1+json": {
       "config": {
        "plotlyServerURL": "https://plot.ly"
       },
       "data": [
        {
         "hovertemplate": "ranking(the number in the bubble)=%{text}<br>ratio(the size of the bubble)=%{marker.size:.2f}<extra></extra>",
         "marker": {
          "color": "red",
          "opacity": 0.5,
          "size": [
           31.642560201100036,
           64.10446921499314,
           42.896493582864224,
           24.842677367302013,
           42.83013641580996,
           28.229171810001926,
           41.500615691372616,
           42.43959372273938,
           21.0346008514156,
           35.469632401708765,
           71.39169227145734
          ],
          "sizemode": "diameter"
         },
         "mode": "markers+text",
         "name": "Manchester United",
         "text": [
          "14",
          "5",
          "5",
          "5",
          "5",
          "3",
          "4",
          "3",
          "3",
          "3",
          "3"
         ],
         "type": "scatter",
         "x": [
          "2022-08-01T00:00:00",
          "2022-09-01T00:00:00",
          "2022-10-01T00:00:00",
          "2022-11-01T00:00:00",
          "2022-12-01T00:00:00",
          "2023-01-01T00:00:00",
          "2023-02-01T00:00:00",
          "2023-03-01T00:00:00",
          "2023-04-01T00:00:00",
          "2023-05-01T00:00:00",
          "2023-06-01T00:00:00"
         ],
         "y": [
          "Manchester United",
          "Manchester United",
          "Manchester United",
          "Manchester United",
          "Manchester United",
          "Manchester United",
          "Manchester United",
          "Manchester United",
          "Manchester United",
          "Manchester United",
          "Manchester United"
         ]
        },
        {
         "hovertemplate": "ranking(the number in the bubble)=%{text}<br>ratio(the size of the bubble)=%{marker.size:.2f}<extra></extra>",
         "marker": {
          "color": "royalblue",
          "opacity": 0.5,
          "size": [
           47.18312580515587,
           30.989094741424015,
           16.562183709328536,
           36.50338214142327,
           68.84439785243329,
           18.705534368064864,
           25.227469329954108,
           43.58221569017218,
           20.521903372961734,
           22.21377446510733,
           69.44596536972527
          ],
          "sizemode": "diameter"
         },
         "mode": "markers+text",
         "name": "Manchester City",
         "text": [
          "2",
          "2",
          "2",
          "2",
          "2",
          "1",
          "1",
          "1",
          "2",
          "2",
          "1"
         ],
         "type": "scatter",
         "x": [
          "2022-08-01T00:00:00",
          "2022-09-01T00:00:00",
          "2022-10-01T00:00:00",
          "2022-11-01T00:00:00",
          "2022-12-01T00:00:00",
          "2023-01-01T00:00:00",
          "2023-02-01T00:00:00",
          "2023-03-01T00:00:00",
          "2023-04-01T00:00:00",
          "2023-05-01T00:00:00",
          "2023-06-01T00:00:00"
         ],
         "y": [
          "Manchester City",
          "Manchester City",
          "Manchester City",
          "Manchester City",
          "Manchester City",
          "Manchester City",
          "Manchester City",
          "Manchester City",
          "Manchester City",
          "Manchester City",
          "Manchester City"
         ]
        },
        {
         "hovertemplate": "ranking(the number in the bubble)=%{text}<br>ratio(the size of the bubble)=%{marker.size:.2f}<extra></extra>",
         "marker": {
          "color": "darkred",
          "opacity": 0.5,
          "size": [
           25.887792789468257,
           26.592249698739792,
           15.89551108108352,
           46.03560957627836,
           32.26984477656068,
           39.19102793166758,
           22.179850340193557,
           16.268175840073674,
           26.568857827291325,
           20.26172019274513,
           1.1878568077475526
          ],
          "sizemode": "diameter"
         },
         "mode": "markers+text",
         "name": "Liverpool",
         "text": [
          "16",
          "7",
          "8",
          "7",
          "8",
          "10",
          "9",
          "9",
          "6",
          "8",
          "5"
         ],
         "type": "scatter",
         "x": [
          "2022-08-01T00:00:00",
          "2022-09-01T00:00:00",
          "2022-10-01T00:00:00",
          "2022-11-01T00:00:00",
          "2022-12-01T00:00:00",
          "2023-01-01T00:00:00",
          "2023-02-01T00:00:00",
          "2023-03-01T00:00:00",
          "2023-04-01T00:00:00",
          "2023-05-01T00:00:00",
          "2023-06-01T00:00:00"
         ],
         "y": [
          "Liverpool",
          "Liverpool",
          "Liverpool",
          "Liverpool",
          "Liverpool",
          "Liverpool",
          "Liverpool",
          "Liverpool",
          "Liverpool",
          "Liverpool",
          "Liverpool"
         ]
        },
        {
         "hovertemplate": "ranking(the number in the bubble)=%{text}<br>ratio(the size of the bubble)=%{marker.size:.2f}<extra></extra>",
         "marker": {
          "color": "blue",
          "opacity": 0.5,
          "size": [
           38.63359079088318,
           31.083043579294934,
           31.13935450197143,
           26.323067808565963,
           33.03335765852224,
           22.782683602136114,
           40.99000402156889,
           17.58928237623632,
           28.387806885501014,
           32.723682998611686,
           25.09754370890691
          ],
          "sizemode": "diameter"
         },
         "mode": "markers+text",
         "name": "Chelsea",
         "text": [
          "12",
          "6",
          "4",
          "4",
          "5",
          "9",
          "10",
          "10",
          "10",
          "11",
          "12"
         ],
         "type": "scatter",
         "x": [
          "2022-08-01T00:00:00",
          "2022-09-01T00:00:00",
          "2022-10-01T00:00:00",
          "2022-11-01T00:00:00",
          "2022-12-01T00:00:00",
          "2023-01-01T00:00:00",
          "2023-02-01T00:00:00",
          "2023-03-01T00:00:00",
          "2023-04-01T00:00:00",
          "2023-05-01T00:00:00",
          "2023-06-01T00:00:00"
         ],
         "y": [
          "Chelsea",
          "Chelsea",
          "Chelsea",
          "Chelsea",
          "Chelsea",
          "Chelsea",
          "Chelsea",
          "Chelsea",
          "Chelsea",
          "Chelsea",
          "Chelsea"
         ]
        },
        {
         "hovertemplate": "ranking(the number in the bubble)=%{text}<br>ratio(the size of the bubble)=%{marker.size:.2f}<extra></extra>",
         "marker": {
          "color": "green",
          "opacity": 0.5,
          "size": [
           25.09185318383318,
           22.684470284349473,
           30.24608254604617,
           24.065879567468425,
           33.31329582320956,
           21.377761394320853,
           25.710992935048957,
           42.63658916914967,
           70.73808801392477,
           22.52520136104791,
           26.032490399338908
          ],
          "sizemode": "diameter"
         },
         "mode": "markers+text",
         "name": "Arsenal",
         "text": [
          "1",
          "1",
          "1",
          "1",
          "1",
          "1",
          "2",
          "1",
          "1",
          "1",
          "2"
         ],
         "type": "scatter",
         "x": [
          "2022-08-01T00:00:00",
          "2022-09-01T00:00:00",
          "2022-10-01T00:00:00",
          "2022-11-01T00:00:00",
          "2022-12-01T00:00:00",
          "2023-01-01T00:00:00",
          "2023-02-01T00:00:00",
          "2023-03-01T00:00:00",
          "2023-04-01T00:00:00",
          "2023-05-01T00:00:00",
          "2023-06-01T00:00:00"
         ],
         "y": [
          "Arsenal",
          "Arsenal",
          "Arsenal",
          "Arsenal",
          "Arsenal",
          "Arsenal",
          "Arsenal",
          "Arsenal",
          "Arsenal",
          "Arsenal",
          "Arsenal"
         ]
        },
        {
         "hovertemplate": "ranking(the number in the bubble)=%{text}<br>ratio(the size of the bubble)=%{marker.size:.2f}<extra></extra>",
         "marker": {
          "color": "navy",
          "opacity": 0.5,
          "size": [
           11.330671001520093,
           21.325352899598773,
           10.200997339042688,
           16.645156030864154,
           31.203271019722663,
           16.66767102356005,
           10.058233972520155,
           3.3873372616708113,
           16.026796504253973,
           12.436862163007039,
           46.413509916127374
          ],
          "sizemode": "diameter"
         },
         "mode": "markers+text",
         "name": "Tottenham",
         "text": [
          "3",
          "3",
          "3",
          "3",
          "3",
          "5",
          "5",
          "4",
          "4",
          "5",
          "8"
         ],
         "type": "scatter",
         "x": [
          "2022-08-01T00:00:00",
          "2022-09-01T00:00:00",
          "2022-10-01T00:00:00",
          "2022-11-01T00:00:00",
          "2022-12-01T00:00:00",
          "2023-01-01T00:00:00",
          "2023-02-01T00:00:00",
          "2023-03-01T00:00:00",
          "2023-04-01T00:00:00",
          "2023-05-01T00:00:00",
          "2023-06-01T00:00:00"
         ],
         "y": [
          "Tottenham",
          "Tottenham",
          "Tottenham",
          "Tottenham",
          "Tottenham",
          "Tottenham",
          "Tottenham",
          "Tottenham",
          "Tottenham",
          "Tottenham",
          "Tottenham"
         ]
        }
       ],
       "layout": {
        "annotations": [
         {
          "align": "right",
          "bgcolor": "white",
          "bordercolor": "black",
          "borderwidth": 0,
          "font": {
           "color": "#000000",
           "family": "Courier New, monospace",
           "size": 12
          },
          "showarrow": false,
          "text": "The size of the bubbles indicates the positive/negative word ratio at the time.<br>The number inside the bubble indicates the rank of the club at that time.",
          "x": 1,
          "xref": "paper",
          "y": 1.1,
          "yref": "paper"
         }
        ],
        "height": 800,
        "legend": {
         "title": {
          "text": "Team"
         }
        },
        "template": {
         "data": {
          "bar": [
           {
            "error_x": {
             "color": "#2a3f5f"
            },
            "error_y": {
             "color": "#2a3f5f"
            },
            "marker": {
             "line": {
              "color": "#E5ECF6",
              "width": 0.5
             },
             "pattern": {
              "fillmode": "overlay",
              "size": 10,
              "solidity": 0.2
             }
            },
            "type": "bar"
           }
          ],
          "barpolar": [
           {
            "marker": {
             "line": {
              "color": "#E5ECF6",
              "width": 0.5
             },
             "pattern": {
              "fillmode": "overlay",
              "size": 10,
              "solidity": 0.2
             }
            },
            "type": "barpolar"
           }
          ],
          "carpet": [
           {
            "aaxis": {
             "endlinecolor": "#2a3f5f",
             "gridcolor": "white",
             "linecolor": "white",
             "minorgridcolor": "white",
             "startlinecolor": "#2a3f5f"
            },
            "baxis": {
             "endlinecolor": "#2a3f5f",
             "gridcolor": "white",
             "linecolor": "white",
             "minorgridcolor": "white",
             "startlinecolor": "#2a3f5f"
            },
            "type": "carpet"
           }
          ],
          "choropleth": [
           {
            "colorbar": {
             "outlinewidth": 0,
             "ticks": ""
            },
            "type": "choropleth"
           }
          ],
          "contour": [
           {
            "colorbar": {
             "outlinewidth": 0,
             "ticks": ""
            },
            "colorscale": [
             [
              0,
              "#0d0887"
             ],
             [
              0.1111111111111111,
              "#46039f"
             ],
             [
              0.2222222222222222,
              "#7201a8"
             ],
             [
              0.3333333333333333,
              "#9c179e"
             ],
             [
              0.4444444444444444,
              "#bd3786"
             ],
             [
              0.5555555555555556,
              "#d8576b"
             ],
             [
              0.6666666666666666,
              "#ed7953"
             ],
             [
              0.7777777777777778,
              "#fb9f3a"
             ],
             [
              0.8888888888888888,
              "#fdca26"
             ],
             [
              1,
              "#f0f921"
             ]
            ],
            "type": "contour"
           }
          ],
          "contourcarpet": [
           {
            "colorbar": {
             "outlinewidth": 0,
             "ticks": ""
            },
            "type": "contourcarpet"
           }
          ],
          "heatmap": [
           {
            "colorbar": {
             "outlinewidth": 0,
             "ticks": ""
            },
            "colorscale": [
             [
              0,
              "#0d0887"
             ],
             [
              0.1111111111111111,
              "#46039f"
             ],
             [
              0.2222222222222222,
              "#7201a8"
             ],
             [
              0.3333333333333333,
              "#9c179e"
             ],
             [
              0.4444444444444444,
              "#bd3786"
             ],
             [
              0.5555555555555556,
              "#d8576b"
             ],
             [
              0.6666666666666666,
              "#ed7953"
             ],
             [
              0.7777777777777778,
              "#fb9f3a"
             ],
             [
              0.8888888888888888,
              "#fdca26"
             ],
             [
              1,
              "#f0f921"
             ]
            ],
            "type": "heatmap"
           }
          ],
          "heatmapgl": [
           {
            "colorbar": {
             "outlinewidth": 0,
             "ticks": ""
            },
            "colorscale": [
             [
              0,
              "#0d0887"
             ],
             [
              0.1111111111111111,
              "#46039f"
             ],
             [
              0.2222222222222222,
              "#7201a8"
             ],
             [
              0.3333333333333333,
              "#9c179e"
             ],
             [
              0.4444444444444444,
              "#bd3786"
             ],
             [
              0.5555555555555556,
              "#d8576b"
             ],
             [
              0.6666666666666666,
              "#ed7953"
             ],
             [
              0.7777777777777778,
              "#fb9f3a"
             ],
             [
              0.8888888888888888,
              "#fdca26"
             ],
             [
              1,
              "#f0f921"
             ]
            ],
            "type": "heatmapgl"
           }
          ],
          "histogram": [
           {
            "marker": {
             "pattern": {
              "fillmode": "overlay",
              "size": 10,
              "solidity": 0.2
             }
            },
            "type": "histogram"
           }
          ],
          "histogram2d": [
           {
            "colorbar": {
             "outlinewidth": 0,
             "ticks": ""
            },
            "colorscale": [
             [
              0,
              "#0d0887"
             ],
             [
              0.1111111111111111,
              "#46039f"
             ],
             [
              0.2222222222222222,
              "#7201a8"
             ],
             [
              0.3333333333333333,
              "#9c179e"
             ],
             [
              0.4444444444444444,
              "#bd3786"
             ],
             [
              0.5555555555555556,
              "#d8576b"
             ],
             [
              0.6666666666666666,
              "#ed7953"
             ],
             [
              0.7777777777777778,
              "#fb9f3a"
             ],
             [
              0.8888888888888888,
              "#fdca26"
             ],
             [
              1,
              "#f0f921"
             ]
            ],
            "type": "histogram2d"
           }
          ],
          "histogram2dcontour": [
           {
            "colorbar": {
             "outlinewidth": 0,
             "ticks": ""
            },
            "colorscale": [
             [
              0,
              "#0d0887"
             ],
             [
              0.1111111111111111,
              "#46039f"
             ],
             [
              0.2222222222222222,
              "#7201a8"
             ],
             [
              0.3333333333333333,
              "#9c179e"
             ],
             [
              0.4444444444444444,
              "#bd3786"
             ],
             [
              0.5555555555555556,
              "#d8576b"
             ],
             [
              0.6666666666666666,
              "#ed7953"
             ],
             [
              0.7777777777777778,
              "#fb9f3a"
             ],
             [
              0.8888888888888888,
              "#fdca26"
             ],
             [
              1,
              "#f0f921"
             ]
            ],
            "type": "histogram2dcontour"
           }
          ],
          "mesh3d": [
           {
            "colorbar": {
             "outlinewidth": 0,
             "ticks": ""
            },
            "type": "mesh3d"
           }
          ],
          "parcoords": [
           {
            "line": {
             "colorbar": {
              "outlinewidth": 0,
              "ticks": ""
             }
            },
            "type": "parcoords"
           }
          ],
          "pie": [
           {
            "automargin": true,
            "type": "pie"
           }
          ],
          "scatter": [
           {
            "fillpattern": {
             "fillmode": "overlay",
             "size": 10,
             "solidity": 0.2
            },
            "type": "scatter"
           }
          ],
          "scatter3d": [
           {
            "line": {
             "colorbar": {
              "outlinewidth": 0,
              "ticks": ""
             }
            },
            "marker": {
             "colorbar": {
              "outlinewidth": 0,
              "ticks": ""
             }
            },
            "type": "scatter3d"
           }
          ],
          "scattercarpet": [
           {
            "marker": {
             "colorbar": {
              "outlinewidth": 0,
              "ticks": ""
             }
            },
            "type": "scattercarpet"
           }
          ],
          "scattergeo": [
           {
            "marker": {
             "colorbar": {
              "outlinewidth": 0,
              "ticks": ""
             }
            },
            "type": "scattergeo"
           }
          ],
          "scattergl": [
           {
            "marker": {
             "colorbar": {
              "outlinewidth": 0,
              "ticks": ""
             }
            },
            "type": "scattergl"
           }
          ],
          "scattermapbox": [
           {
            "marker": {
             "colorbar": {
              "outlinewidth": 0,
              "ticks": ""
             }
            },
            "type": "scattermapbox"
           }
          ],
          "scatterpolar": [
           {
            "marker": {
             "colorbar": {
              "outlinewidth": 0,
              "ticks": ""
             }
            },
            "type": "scatterpolar"
           }
          ],
          "scatterpolargl": [
           {
            "marker": {
             "colorbar": {
              "outlinewidth": 0,
              "ticks": ""
             }
            },
            "type": "scatterpolargl"
           }
          ],
          "scatterternary": [
           {
            "marker": {
             "colorbar": {
              "outlinewidth": 0,
              "ticks": ""
             }
            },
            "type": "scatterternary"
           }
          ],
          "surface": [
           {
            "colorbar": {
             "outlinewidth": 0,
             "ticks": ""
            },
            "colorscale": [
             [
              0,
              "#0d0887"
             ],
             [
              0.1111111111111111,
              "#46039f"
             ],
             [
              0.2222222222222222,
              "#7201a8"
             ],
             [
              0.3333333333333333,
              "#9c179e"
             ],
             [
              0.4444444444444444,
              "#bd3786"
             ],
             [
              0.5555555555555556,
              "#d8576b"
             ],
             [
              0.6666666666666666,
              "#ed7953"
             ],
             [
              0.7777777777777778,
              "#fb9f3a"
             ],
             [
              0.8888888888888888,
              "#fdca26"
             ],
             [
              1,
              "#f0f921"
             ]
            ],
            "type": "surface"
           }
          ],
          "table": [
           {
            "cells": {
             "fill": {
              "color": "#EBF0F8"
             },
             "line": {
              "color": "white"
             }
            },
            "header": {
             "fill": {
              "color": "#C8D4E3"
             },
             "line": {
              "color": "white"
             }
            },
            "type": "table"
           }
          ]
         },
         "layout": {
          "annotationdefaults": {
           "arrowcolor": "#2a3f5f",
           "arrowhead": 0,
           "arrowwidth": 1
          },
          "autotypenumbers": "strict",
          "coloraxis": {
           "colorbar": {
            "outlinewidth": 0,
            "ticks": ""
           }
          },
          "colorscale": {
           "diverging": [
            [
             0,
             "#8e0152"
            ],
            [
             0.1,
             "#c51b7d"
            ],
            [
             0.2,
             "#de77ae"
            ],
            [
             0.3,
             "#f1b6da"
            ],
            [
             0.4,
             "#fde0ef"
            ],
            [
             0.5,
             "#f7f7f7"
            ],
            [
             0.6,
             "#e6f5d0"
            ],
            [
             0.7,
             "#b8e186"
            ],
            [
             0.8,
             "#7fbc41"
            ],
            [
             0.9,
             "#4d9221"
            ],
            [
             1,
             "#276419"
            ]
           ],
           "sequential": [
            [
             0,
             "#0d0887"
            ],
            [
             0.1111111111111111,
             "#46039f"
            ],
            [
             0.2222222222222222,
             "#7201a8"
            ],
            [
             0.3333333333333333,
             "#9c179e"
            ],
            [
             0.4444444444444444,
             "#bd3786"
            ],
            [
             0.5555555555555556,
             "#d8576b"
            ],
            [
             0.6666666666666666,
             "#ed7953"
            ],
            [
             0.7777777777777778,
             "#fb9f3a"
            ],
            [
             0.8888888888888888,
             "#fdca26"
            ],
            [
             1,
             "#f0f921"
            ]
           ],
           "sequentialminus": [
            [
             0,
             "#0d0887"
            ],
            [
             0.1111111111111111,
             "#46039f"
            ],
            [
             0.2222222222222222,
             "#7201a8"
            ],
            [
             0.3333333333333333,
             "#9c179e"
            ],
            [
             0.4444444444444444,
             "#bd3786"
            ],
            [
             0.5555555555555556,
             "#d8576b"
            ],
            [
             0.6666666666666666,
             "#ed7953"
            ],
            [
             0.7777777777777778,
             "#fb9f3a"
            ],
            [
             0.8888888888888888,
             "#fdca26"
            ],
            [
             1,
             "#f0f921"
            ]
           ]
          },
          "colorway": [
           "#636efa",
           "#EF553B",
           "#00cc96",
           "#ab63fa",
           "#FFA15A",
           "#19d3f3",
           "#FF6692",
           "#B6E880",
           "#FF97FF",
           "#FECB52"
          ],
          "font": {
           "color": "#2a3f5f"
          },
          "geo": {
           "bgcolor": "white",
           "lakecolor": "white",
           "landcolor": "#E5ECF6",
           "showlakes": true,
           "showland": true,
           "subunitcolor": "white"
          },
          "hoverlabel": {
           "align": "left"
          },
          "hovermode": "closest",
          "mapbox": {
           "style": "light"
          },
          "paper_bgcolor": "white",
          "plot_bgcolor": "#E5ECF6",
          "polar": {
           "angularaxis": {
            "gridcolor": "white",
            "linecolor": "white",
            "ticks": ""
           },
           "bgcolor": "#E5ECF6",
           "radialaxis": {
            "gridcolor": "white",
            "linecolor": "white",
            "ticks": ""
           }
          },
          "scene": {
           "xaxis": {
            "backgroundcolor": "#E5ECF6",
            "gridcolor": "white",
            "gridwidth": 2,
            "linecolor": "white",
            "showbackground": true,
            "ticks": "",
            "zerolinecolor": "white"
           },
           "yaxis": {
            "backgroundcolor": "#E5ECF6",
            "gridcolor": "white",
            "gridwidth": 2,
            "linecolor": "white",
            "showbackground": true,
            "ticks": "",
            "zerolinecolor": "white"
           },
           "zaxis": {
            "backgroundcolor": "#E5ECF6",
            "gridcolor": "white",
            "gridwidth": 2,
            "linecolor": "white",
            "showbackground": true,
            "ticks": "",
            "zerolinecolor": "white"
           }
          },
          "shapedefaults": {
           "line": {
            "color": "#2a3f5f"
           }
          },
          "ternary": {
           "aaxis": {
            "gridcolor": "white",
            "linecolor": "white",
            "ticks": ""
           },
           "baxis": {
            "gridcolor": "white",
            "linecolor": "white",
            "ticks": ""
           },
           "bgcolor": "#E5ECF6",
           "caxis": {
            "gridcolor": "white",
            "linecolor": "white",
            "ticks": ""
           }
          },
          "title": {
           "x": 0.05
          },
          "xaxis": {
           "automargin": true,
           "gridcolor": "white",
           "linecolor": "white",
           "ticks": "",
           "title": {
            "standoff": 15
           },
           "zerolinecolor": "white",
           "zerolinewidth": 2
          },
          "yaxis": {
           "automargin": true,
           "gridcolor": "white",
           "linecolor": "white",
           "ticks": "",
           "title": {
            "standoff": 15
           },
           "zerolinecolor": "white",
           "zerolinewidth": 2
          }
         }
        },
        "title": {
         "font": {
          "size": 22
         },
         "text": "2022/23 Season: Positive/Negative Word Ratios of Big 6 Clubs in Premier League"
        },
        "width": 1000,
        "xaxis": {
         "dtick": "M1",
         "rangeslider": {
          "visible": true
         },
         "tick0": "2022-08-01T00:00:00",
         "tickangle": 30,
         "tickformat": "%Y-%m",
         "tickmode": "linear",
         "title": {
          "text": "Month"
         }
        },
        "yaxis": {
         "categoryarray": [
          "Manchester United",
          "Manchester City",
          "Liverpool",
          "Chelsea",
          "Arsenal",
          "Tottenham"
         ],
         "categoryorder": "array",
         "title": {
          "text": "Team"
         }
        }
       }
      }
     },
     "metadata": {},
     "output_type": "display_data"
    }
   ],
   "source": [
    "# import monthly rankings data to be used for tagging the bubbles\n",
    "url = \"https://raw.githubusercontent.com/REDhawC/EDI_BUSANA/master/Python_programming/Assignment/WEEK6_ASM/monthly_rankings.json\"\n",
    "response = requests.get(url)\n",
    "\n",
    "if response.status_code == 200:\n",
    "    monthly_rankings = json.loads(response.content.decode(\"utf-8\"))\n",
    "else:\n",
    "    print(f\"Failed to retrieve JSON data: HTTP {response.status_code}\")\n",
    "\n",
    "# Data processing and visualization code block\n",
    "data = copy.deepcopy(club_sentiment_dict)  # Copy the original sentiment data\n",
    "team_colors = {  # Define a color for each team\n",
    "    \"Manchester United\": \"red\",\n",
    "    \"Manchester City\": \"royalblue\",\n",
    "    \"Liverpool\": \"darkred\",\n",
    "    \"Chelsea\": \"blue\",\n",
    "    \"Arsenal\": \"green\",\n",
    "    \"Tottenham\": \"navy\",\n",
    "}\n",
    "\n",
    "# Constants for amplifying the data\n",
    "AMPLIFY_FACTOR_ABOVE = 10\n",
    "AMPLIFY_FACTOR_BELOW = 2\n",
    "\n",
    "# Calculate monthly medians and adjust the data accordingly\n",
    "monthly_medians = calculate_monthly_medians(data)\n",
    "adjusted_data = adjust_data_by_median(\n",
    "    data, monthly_medians, AMPLIFY_FACTOR_ABOVE, AMPLIFY_FACTOR_BELOW\n",
    ")\n",
    "\n",
    "# Create and display the bubble chart\n",
    "bubble_chart = create_bubble_chart(adjusted_data, team_colors, monthly_rankings)\n",
    "bubble_chart.show()  "
   ]
  },
  {
   "cell_type": "markdown",
   "id": "1b47e5cd",
   "metadata": {},
   "source": [
    "# Report\n",
    "\n",
    "Through text mining and sentiment analysis, adjectives were categorized into positive and negative groups based on the provided code, and their ratio was computed to understand how The Guardian perceives the Premier League's top six clubs: Manchester United, Liverpool, Manchester City, Chelsea, Arsenal, and Tottenham Hotspur.\n",
    "\n",
    "Notably, Tottenham Hotspur's sentiment trend stood out, displaying a consistently negative ratio despite maintaining an average 3rd place in the league. This suggests a disconnect between their performance on the field and guardian opinion.\n",
    "\n",
    "In contrast, Chelsea's sentiment remained stable over the analysed period, with no significant changes towards positive or negative sentiment. This reflects a consistent and even reputation for the club.\n",
    "\n",
    "The fluctuation in sentiment over time is attributed to various factors, particularly a club's performance in the Premier League. For example, in May 2023, Arsenal faced heightened criticism due to the at risk of being overtaken by Manchester City in the league standings. This illustrates how performance and standings impact public sentiment.\n",
    "\n",
    "These findings emphasize the complex relationship between a club's performance, public perception, and the importance of monitoring sentiment to make informed decisions during crucial moments in the league.\n"
   ]
  },
  {
   "cell_type": "code",
   "execution_count": null,
   "id": "71532a26",
   "metadata": {},
   "outputs": [],
   "source": []
  },
  {
   "cell_type": "code",
   "execution_count": null,
   "id": "835e66cd",
   "metadata": {},
   "outputs": [],
   "source": []
  },
  {
   "cell_type": "code",
   "execution_count": null,
   "id": "ecbec801",
   "metadata": {},
   "outputs": [],
   "source": []
  },
  {
   "cell_type": "markdown",
   "id": "2c1a2811",
   "metadata": {},
   "source": [
    "### Extra Fun: How would you mark your own assignemnt? \n",
    "\n",
    "This is NOT part of the mark, but feel free to complete it. In each of the categories, give yourself points (from 0 to 100) following the marking criteria on top of this notebook. What suggestions for improvement would you give to yourself? Remember 70 and higher means 'I would gladly post this on my LinkedIn'.\n",
    "\n",
    "🚧 **Example**:\n",
    "\n",
    "A) Business Question and Answer: 65\n",
    "\n",
    "B) Using the Data: 55\n",
    "\n",
    "C) Visualisation: 70\n",
    "\n",
    "D) Code Quality: 65\n",
    "\n",
    "E) Code Structure: 60\n",
    "\n",
    "Things I could improve (very short 2-3 bulletpoints): \n",
    "- I still don't fully understand how to use functions, so will practice more. \n",
    "- Data structure was quite hard, and I run out of time.\n",
    "\n",
    "\n",
    "🚧 End of example"
   ]
  },
  {
   "cell_type": "markdown",
   "id": "ff183d50",
   "metadata": {},
   "source": [
    "### Your turn (this is optional, but give it a try)\n",
    "\n",
    "Marking Criteria:\n",
    "\n",
    "A) Business Question and Answer: \n",
    "\n",
    "B) Using the Data: \n",
    "\n",
    "C) Visualisation: \n",
    "\n",
    "D) Code Quality:\n",
    "\n",
    "E) Code Structure: \n",
    "\n",
    "Things I could improve:\n",
    "\n",
    "..."
   ]
  }
 ],
 "metadata": {
  "kernelspec": {
   "display_name": "Python 3 (ipykernel)",
   "language": "python",
   "name": "python3"
  },
  "language_info": {
   "codemirror_mode": {
    "name": "ipython",
    "version": 3
   },
   "file_extension": ".py",
   "mimetype": "text/x-python",
   "name": "python",
   "nbconvert_exporter": "python",
   "pygments_lexer": "ipython3",
   "version": "3.11.2"
  }
 },
 "nbformat": 4,
 "nbformat_minor": 5
}
