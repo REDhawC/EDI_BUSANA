{
 "cells": [
  {
   "cell_type": "code",
   "execution_count": 15,
   "id": "6210e2b8",
   "metadata": {},
   "outputs": [
    {
     "data": {
      "text/html": [
       "<style>.container { width:100% !important; }</style>"
      ],
      "text/plain": [
       "<IPython.core.display.HTML object>"
      ]
     },
     "metadata": {},
     "output_type": "display_data"
    }
   ],
   "source": [
    "# experimental: you can run this cell to see your code full-width\n",
    "\n",
    "from IPython.display import display, HTML\n",
    "display(HTML(\"<style>.container { width:100% !important; }</style>\"))"
   ]
  },
  {
   "cell_type": "markdown",
   "id": "cf72289e",
   "metadata": {},
   "source": [
    "# Final Individual Assignment: \n",
    "\n",
    "\n",
    "## Answer 2 Business Questions using Companies House API\n",
    "\n",
    "This assignment follows exactly the same format as all of your other assignments for this course.\n",
    "\n",
    "**As in all the other assignments you are asked to:**\n",
    "\n",
    "- look at a dataset using python and identify a business question\n",
    "- write a mini-report that answers your business question \n",
    "- accompany your report with a visualisation (table, graph, etc)"
   ]
  },
  {
   "cell_type": "markdown",
   "id": "2646ae98",
   "metadata": {},
   "source": [
    "**What is different from previous assignments:**\n",
    "\n",
    "- this project is **individual**, you are not working in pairs\n",
    "- you are given a specific dataset (Companies House API)\n",
    "- you are asked to answer **TWO DIFFERENT QUESTIONS**. Each question will have its own code, report and visualisation\n",
    "- you need to identify questions by yourself. Ask about something that can be answered with this data. Also attempt to ask something that can be useful in a business context.\n",
    "- try to keep each of the 2 questions quite different from each other (eg. do not make them reuse all of the same code or identical visualisation)\n",
    "- all libraries and visualisation methods are allowed\n",
    "- your report does NOT need to use any complicated statistical or programming techniques. Rather try to look into what is available in the data and find something interestin in it\n",
    "- if you keep running out of your API allowance/quote (because you are making a lot of API calls), consider saving your API results in a file, and then getting more API results, and adding them to the same file."
   ]
  },
  {
   "cell_type": "markdown",
   "id": "cbf7762e",
   "metadata": {},
   "source": [
    "### Example Questions: You can use these, change them or design your own\n",
    "\n",
    "**What makes a company more fair in terms of gender equality?** Look at the data about ownership/voting  - does this data behave differently for people of different genders, ages and nationalities? hint: We can sometimes deduce a person's gender from their title (Mr, Mrs) but not always (Dr); also company house offers a limited number of options and not everyone can find their preferred title/pronoun there. You could eg. compare companies with the word X and word Y in their name, or look at some other variable to see which companies are more diverse than others.\n",
    "\n",
    "**When's a good time to start a tourism business?** Looking at tourism-related companies, do you see patterns in years/months of creation and cessation (closing)? Are companies created at some times more likely to survive for longer? note: to get tourism-related companies, first fetch company details for many tourism words ['travel','trip','cruise',...] and then check their Standard Industrial Classification (SIC) codes.\n",
    "\n",
    "**What is the best place in UK to set up a fintech company?** Did it change over the years? Look at locations of companies in a sector, and where they are based. Does the count of companies, or the lengths of time they survive, change over time? Does it change differently in different locations? note: to get industry's companies you could use the method described above (using many words and filtering SIC codes)\n",
    "\n",
    "Note: these really are just examples. Feel free to look at anything that is of interest to you, and can be answered with this data"
   ]
  },
  {
   "cell_type": "markdown",
   "id": "4f45b923",
   "metadata": {},
   "source": [
    "## Deliverables for each Question: Code, Mini-report, Visualisation\n",
    "\n",
    "### Code\n",
    "\n",
    "In your notebook please include all the **code** that you used to arrive at the conclusion. \n",
    "\n",
    "- It is absolutely ok to re-use your own code from one question in another question\n",
    "- But please write the most important parts of code for each Question that help you to answer the question \n",
    "\n",
    "\n",
    "### Mini-report\n",
    "\n",
    "At the end of your notebook, you should provide:\n",
    "\n",
    "- a markdown (text) cell with your mini-report (250 words +/- 10%). For reference, 'Marking criteria' section below has around 220 words)\n",
    "\n",
    "### Visualisation\n",
    "\n",
    "Use the data you extracted to further your argument with visualisations:\n",
    "\n",
    "- individual cells that will generate MAX TWO GRAPHS OR TABLES for EACH of your mini-reports (you are allowed to combine a number of graphs, if they are combined into one unit and make sense, eg. combining 3 bar charts side by side, or overlapping a line chart with a bar chart). Make sure it is clear which graph/graphs belong where and are to be marked."
   ]
  },
  {
   "cell_type": "markdown",
   "id": "06a0602c",
   "metadata": {},
   "source": [
    "Marking Criteria for each Question (same as in previous assignments)\n",
    "\n",
    "**Business Question and Answer:**\n",
    "\n",
    "Did you manage to find a question that can be answered with given data? As an analyst, you will often have to dive into available data and identify how it can help the business, or solve a problem, without first knowing what the problem is. Also, can you formulate a clear answer to the question you created?\n",
    " \n",
    "- 50% - C - GOOD - question and answer are clear, well defined and connect with the dataset\n",
    "- 60% - B - VERY GOOD - argument is clearly positioned in a business context, and attempts to provide value/insight\n",
    "- 70% - A - EXCELLENT - insights are novel, actionable and the writeup is of publishable quality.\n",
    "\n",
    "**Using the Data:**\n",
    "\n",
    "How well did you use the data to answer your question? Your answer should be supported by what you found in the data. Briefly describe why this was the correct data, and the correct analysis to perform on it.\n",
    " \n",
    "- 50% - C - GOOD - data selected is appropriate for the task, analysis is clear, the source is mentioned\n",
    "- 60% - B - VERY GOOD - data analysis section advances the argument, makes a clear point and is easy to read and understand\n",
    "- 70% - A - EXCELLENT - analysis is insightful, using multiple parts of the data set in a creative way\n",
    "\n",
    "**Visualisation:**\n",
    "\n",
    "Can you aid your argument/answer with visual clues? A graph can say a thousand words, but it is also easy to make one that is confusing, or misleading. Use simple (or highly customised) graphs to make your argument clearer.\n",
    " \n",
    "- 50% - C - GOOD - graph is communicative, appropriate and similar complexity as in the notes\n",
    "- 60% - B - VERY GOOD - graph is customised and combines a number of styles and types of visualisation\n",
    "- 70% - A - EXCELLENT - graph is using clear visual language to make a point, adds to the argument, and is of publishable quality\n",
    "\n",
    "**Code Quality:**\n",
    "\n",
    "Is your code clean, readable and DRY (Don't repeat yourself)? Are you using good readable variable names? Did you clean up your code and does it not include any old/unused parts?\n",
    " \n",
    "- 50% - C - GOOD - code has meaningful variable names, no needlessly repeated code\n",
    "- 60% - B - VERY GOOD - also signposted, reasonably commented and cleaned up\n",
    "- 70% - A - EXCELLENT - also code has a logical flow, consistency of names and granularity/size\n",
    "\n",
    "**Code Structure:**\n",
    "\n",
    "Is your code well structured and broken down? Just like good writing has sentences, paragraphs and chapters, good code should be split into sections. Break down your code into cells and functions. Use meaningful signposts (eg. comments, function names) to guide the reader through your code.\n",
    " \n",
    "- 50% - C - GOOD - code is broken down into cells, by the code's purpose\n",
    "- 60% - B - VERY GOOD - code is broken down by cell and also separated and readable. Attempts on reusing code are made\n",
    "- 70% - A - EXCELLENT - code is split into functions and/or objects and can be easily reused"
   ]
  },
  {
   "cell_type": "markdown",
   "id": "29ee9850",
   "metadata": {},
   "source": [
    "# API we will use: Companies House\n",
    "\n",
    "Companies house is the official public  register of all companies in the UK. You can search for companiers, peope etc. You can also get basic information about many companies, or request detailed information about one company. You will need to create an account - probably best if you use your university email address. You can find more information on companies house website and https://developer.company-information.service.gov.uk/get-started. "
   ]
  },
  {
   "cell_type": "markdown",
   "id": "548d60ec",
   "metadata": {},
   "source": [
    "**All possible API calls you can make:**\n",
    "\n",
    "There is a number of calls you can make from the API. Find all the details (and info about the format of answers) here: https://developer-specs.company-information.service.gov.uk/companies-house-public-data-api/reference"
   ]
  },
  {
   "cell_type": "markdown",
   "id": "57cc3a7c",
   "metadata": {},
   "source": [
    "**Extra notes:  Standard Industrial Classification (SIC)**\n",
    "\n",
    "company infomation includes 'industry type' as a SIC code. List of codes is here (you can load the file and get values from there) https://assets.publishing.service.gov.uk/government/uploads/system/uploads/attachment_data/file/527619/SIC07_CH_condensed_list_en.csv\n",
    "\n",
    "for example:\n",
    "\n",
    "- 72200 Research and experimental development on social sciences and humanities\n",
    "- 73110 Advertising agencies\n",
    "- 73120 Media representation services\n",
    "- 73200 Market research and public opinion polling\n",
    "- 74100 specialised design activities\n",
    "- 74201 Portrait photographic activities\n",
    "- 74202 Other specialist photography\n",
    "- 74203 Film processing"
   ]
  },
  {
   "cell_type": "markdown",
   "id": "a257e29e",
   "metadata": {},
   "source": [
    "# If you do not have one yet: creating a developer account and API  key \n",
    "\n",
    "You likely already have an account and key from your previous assignments - it's probably easiest and best if you reuse that account and key."
   ]
  },
  {
   "cell_type": "markdown",
   "id": "4111af6e",
   "metadata": {},
   "source": [
    "To create a new one:\n",
    "\n",
    "- Go to 'register a user account' link https://find-and-update.company-information.service.gov.uk/signin, enter your **school email** and then click the link you received by email. \n",
    "- setup a password\n",
    "- login to the page\n",
    "- go to New Application on top (https://developer.company-information.service.gov.uk/manage-applications/add)\n",
    "- ented a name and short description for your API project (just say it's a univeristy project) and choose **'Live' where you're asked 'environment for your application'**. Leave optional fields blank.\n",
    "- go to 'View all applications' (https://developer.company-information.service.gov.uk/manage-applications)\n",
    "- click on the name of your application, and then 'Create new key'\n",
    "- Select these options:\n",
    "-    Key name and description: here write anything, like 'python project'\n",
    "-    Select the type of API client key you want to create: **REST**\n",
    "- leave other options empty, and click 'Create Key'\n",
    "- When done, scroll down and copy-paste your key to this notebook. key will look a bit like this: \te3123ad12-fd44-4aad-9389-f7dccccc6788\n",
    "\n",
    "Once you are set up:\n",
    "\n",
    "- all the possible requests can be found here: https://developer-specs.company-information.service.gov.uk/companies-house-public-data-api/reference\n",
    "- by the way: you are allowed to ask 600 requests within each five-minute period, after that period, you get another 600. And so on. If you use up all the 600 questions, API will make you wait for a few seconds/minutes."
   ]
  },
  {
   "cell_type": "markdown",
   "id": "7d4daaac",
   "metadata": {},
   "source": [
    "# Some functions to get you started: \n",
    "\n"
   ]
  },
  {
   "cell_type": "code",
   "execution_count": 16,
   "id": "8ad22cd8",
   "metadata": {},
   "outputs": [
    {
     "name": "stdout",
     "output_type": "stream",
     "text": [
      "Requirement already satisfied: requests in c:\\users\\redhawc\\.pyenv\\pyenv-win\\versions\\3.11.2\\lib\\site-packages (2.31.0)\n",
      "Requirement already satisfied: charset-normalizer<4,>=2 in c:\\users\\redhawc\\.pyenv\\pyenv-win\\versions\\3.11.2\\lib\\site-packages (from requests) (3.3.0)\n",
      "Requirement already satisfied: idna<4,>=2.5 in c:\\users\\redhawc\\.pyenv\\pyenv-win\\versions\\3.11.2\\lib\\site-packages (from requests) (3.4)\n",
      "Requirement already satisfied: urllib3<3,>=1.21.1 in c:\\users\\redhawc\\.pyenv\\pyenv-win\\versions\\3.11.2\\lib\\site-packages (from requests) (2.0.7)\n",
      "Requirement already satisfied: certifi>=2017.4.17 in c:\\users\\redhawc\\.pyenv\\pyenv-win\\versions\\3.11.2\\lib\\site-packages (from requests) (2023.7.22)\n"
     ]
    },
    {
     "name": "stderr",
     "output_type": "stream",
     "text": [
      "\n",
      "[notice] A new release of pip available: 22.3.1 -> 23.3.1\n",
      "[notice] To update, run: python.exe -m pip install --upgrade pip\n"
     ]
    }
   ],
   "source": [
    "# list of library for this project\n",
    "%pip3 install requests\n",
    "import requests\n",
    "import pprint as pp\n",
    "import datetime\n",
    "from datetime import date \n",
    "from datetime import datetime\n",
    "import math\n",
    "import pandas as pd\n",
    "# you might need to add a few of your own"
   ]
  },
  {
   "cell_type": "code",
   "execution_count": 17,
   "id": "b24fd15d",
   "metadata": {},
   "outputs": [],
   "source": [
    "# function for calling the API to retrieve JSON\n",
    "def call_api_with(url_extension):\n",
    "    your_company_house_api_key = \"9ca44c28-e54d-4c26-9bf7-6c766c53c054\"\n",
    "\n",
    "    login_headers = {\"Authorization\": your_company_house_api_key}\n",
    "    url = f\"https://api.companieshouse.gov.uk/{url_extension}\"\n",
    "    # above: could be eg. https://api.companieshouse.gov.uk/search/companies?q=shop&items_per_page=1\n",
    "    print(f\"requesting: {url}\")\n",
    "    # above, optional: printing, so that you see visually how many calls you are making\n",
    "    res = requests.get(url, headers=login_headers)  # , verify=False)\n",
    "    return res.json()"
   ]
  },
  {
   "cell_type": "code",
   "execution_count": 18,
   "id": "fc5c6739",
   "metadata": {},
   "outputs": [],
   "source": [
    "# test to get one company\n",
    "def get_one_test_company_or_error():\n",
    "    url = f\"search/companies?q=shop&items_per_page=1\"\n",
    "    return call_api_with(url)"
   ]
  },
  {
   "cell_type": "code",
   "execution_count": 19,
   "id": "fc84e380",
   "metadata": {},
   "outputs": [],
   "source": [
    "# search company with specific query / keyword\n",
    "def search_for_companies_with_query(query, number_of_companies=100):\n",
    "    # for simplicity round up the number of returned companies to the nearest hundred. eg. 130 becomes 200\n",
    "    page_size = 100\n",
    "    number_of_pages = math.ceil(number_of_companies / page_size)  # round up\n",
    "    companies = []\n",
    "    for page_index in range(0, number_of_pages):\n",
    "        url = f\"search/companies?q={query}&items_per_page={page_size}&index_start={page_index*page_size}\"\n",
    "        companies += call_api_with(url).get(\"items\", [])\n",
    "    return companies"
   ]
  },
  {
   "cell_type": "code",
   "execution_count": 20,
   "id": "a06d9d0e",
   "metadata": {},
   "outputs": [],
   "source": [
    "# request to get company data based on company number\n",
    "def data_for_company(company_number):\n",
    "    url = f\"company/{company_number}\"\n",
    "    return call_api_with(url)"
   ]
  },
  {
   "cell_type": "code",
   "execution_count": 21,
   "id": "519efbdf",
   "metadata": {},
   "outputs": [],
   "source": [
    "# get all persons with significant control from company which contains specific keyword\n",
    "def all_significant_person_in_company(company_number):\n",
    "    url = f\"company/{company_number}/persons-with-significant-control\"\n",
    "    return call_api_with(url).get(\"items\", [])\n",
    "\n",
    "\n",
    "# get all persons with significant control from company which contains specific keyword\n",
    "\n",
    "\n",
    "def all_officers_in_company(company_number):\n",
    "    url = f\"company/{company_number}/officers\"\n",
    "\n",
    "    return call_api_with(url).get(\"items\", [])"
   ]
  },
  {
   "cell_type": "code",
   "execution_count": 22,
   "id": "29d6697b",
   "metadata": {},
   "outputs": [],
   "source": [
    "def detailed_info_about_companies_with_ids(companies_numbers):\n",
    "    results = []\n",
    "    for company_number in companies_numbers:\n",
    "        results.append(data_for_company(company_number))\n",
    "    return results"
   ]
  },
  {
   "cell_type": "code",
   "execution_count": 23,
   "id": "e63b61c6",
   "metadata": {},
   "outputs": [],
   "source": [
    "# you are likely to use top level functions like this one.\n",
    "def detailed_info_about_companies_with_name(name, how_many=10):\n",
    "    # eg. unless otherwise stated, just grab 10 companies detailed info\n",
    "    companies_basic_info = search_for_companies_with_query(name, how_many)\n",
    "    companies_ids = [company[\"company_number\"] for company in companies_basic_info]\n",
    "    companies = detailed_info_about_companies_with_ids(companies_ids[:how_many])\n",
    "    return companies"
   ]
  },
  {
   "cell_type": "code",
   "execution_count": null,
   "id": "47b7c937",
   "metadata": {},
   "outputs": [],
   "source": []
  },
  {
   "cell_type": "code",
   "execution_count": 76,
   "id": "1ce047b9",
   "metadata": {},
   "outputs": [
    {
     "name": "stdout",
     "output_type": "stream",
     "text": [
      "requesting: https://api.companieshouse.gov.uk/search/companies?q=SUMUP LIMITED&items_per_page=100&index_start=0\n",
      "requesting: https://api.companieshouse.gov.uk/company/05394570\n",
      "requesting: https://api.companieshouse.gov.uk/company/14091988\n",
      "requesting: https://api.companieshouse.gov.uk/company/14478034\n",
      "requesting: https://api.companieshouse.gov.uk/company/13895062\n",
      "requesting: https://api.companieshouse.gov.uk/company/07836562\n"
     ]
    }
   ],
   "source": [
    "# example usage.\n",
    "# note: To save your quota limits, try to fetch data first, and them analyse it.\n",
    "details = detailed_info_about_companies_with_name(\"SUMUP LIMITED\", how_many=5)"
   ]
  },
  {
   "cell_type": "code",
   "execution_count": 77,
   "id": "e5d60bd5",
   "metadata": {},
   "outputs": [
    {
     "name": "stdout",
     "output_type": "stream",
     "text": [
      "5\n",
      "['SUMUP LIMITED',\n",
      " 'SUMUP FASHION LIMITED',\n",
      " 'SUMUP MEDIA LIMITED',\n",
      " 'SUMUP ONLINE STORES UK LTD',\n",
      " 'SUMUP PAYMENTS LIMITED']\n"
     ]
    }
   ],
   "source": [
    "pp.pprint(len(details))\n",
    "pp.pprint([detail['company_name'] for detail in details])"
   ]
  },
  {
   "cell_type": "code",
   "execution_count": 78,
   "id": "f1836011",
   "metadata": {},
   "outputs": [
    {
     "name": "stdout",
     "output_type": "stream",
     "text": [
      "{'accounts': {'accounting_reference_date': {'day': '31', 'month': '10'},\n",
      "              'last_accounts': {'made_up_to': '2022-10-31',\n",
      "                                'period_end_on': '2022-10-31',\n",
      "                                'period_start_on': '2021-11-01',\n",
      "                                'type': 'micro-entity'},\n",
      "              'next_accounts': {'due_on': '2024-07-31',\n",
      "                                'overdue': False,\n",
      "                                'period_end_on': '2023-10-31',\n",
      "                                'period_start_on': '2022-11-01'},\n",
      "              'next_due': '2024-07-31',\n",
      "              'next_made_up_to': '2023-10-31',\n",
      "              'overdue': False},\n",
      " 'can_file': True,\n",
      " 'company_name': 'SUMUP LIMITED',\n",
      " 'company_number': '05394570',\n",
      " 'company_status': 'active',\n",
      " 'confirmation_statement': {'last_made_up_to': '2023-03-16',\n",
      "                            'next_due': '2024-03-30',\n",
      "                            'next_made_up_to': '2024-03-16',\n",
      "                            'overdue': False},\n",
      " 'date_of_creation': '2005-03-16',\n",
      " 'etag': '429df8e98c9d3eb0645aae1691e4bbe081ef5515',\n",
      " 'has_been_liquidated': False,\n",
      " 'has_charges': False,\n",
      " 'has_insolvency_history': False,\n",
      " 'has_super_secure_pscs': False,\n",
      " 'jurisdiction': 'england-wales',\n",
      " 'last_full_members_list_date': '2016-03-16',\n",
      " 'links': {'filing_history': '/company/05394570/filing-history',\n",
      "           'officers': '/company/05394570/officers',\n",
      "           'persons_with_significant_control': '/company/05394570/persons-with-significant-control',\n",
      "           'self': '/company/05394570'},\n",
      " 'registered_office_address': {'address_line_1': '28 Pangfield Park',\n",
      "                               'address_line_2': 'Coventry',\n",
      "                               'postal_code': 'CV5 9NL'},\n",
      " 'registered_office_is_in_dispute': False,\n",
      " 'sic_codes': ['69201'],\n",
      " 'status': 'active',\n",
      " 'type': 'ltd',\n",
      " 'undeliverable_registered_office_address': False}\n"
     ]
    }
   ],
   "source": [
    "pp.pprint(details[0])"
   ]
  },
  {
   "cell_type": "code",
   "execution_count": 79,
   "metadata": {},
   "outputs": [
    {
     "name": "stdout",
     "output_type": "stream",
     "text": [
      "requesting: https://api.companieshouse.gov.uk/company/05394570/officers\n"
     ]
    },
    {
     "data": {
      "text/html": [
       "<div>\n",
       "<style scoped>\n",
       "    .dataframe tbody tr th:only-of-type {\n",
       "        vertical-align: middle;\n",
       "    }\n",
       "\n",
       "    .dataframe tbody tr th {\n",
       "        vertical-align: top;\n",
       "    }\n",
       "\n",
       "    .dataframe thead th {\n",
       "        text-align: right;\n",
       "    }\n",
       "</style>\n",
       "<table border=\"1\" class=\"dataframe\">\n",
       "  <thead>\n",
       "    <tr style=\"text-align: right;\">\n",
       "      <th></th>\n",
       "      <th>officer_role</th>\n",
       "      <th>appointed_on</th>\n",
       "      <th>links</th>\n",
       "      <th>address</th>\n",
       "      <th>name</th>\n",
       "      <th>nationality</th>\n",
       "      <th>occupation</th>\n",
       "      <th>date_of_birth</th>\n",
       "      <th>country_of_residence</th>\n",
       "    </tr>\n",
       "  </thead>\n",
       "  <tbody>\n",
       "    <tr>\n",
       "      <th>0</th>\n",
       "      <td>secretary</td>\n",
       "      <td>2005-03-16</td>\n",
       "      <td>{'officer': {'appointments': '/officers/Dugfkr...</td>\n",
       "      <td>{'address_line_1': '28 Pangfield Park', 'local...</td>\n",
       "      <td>WILLIAMS, Angela Mary</td>\n",
       "      <td>NaN</td>\n",
       "      <td>NaN</td>\n",
       "      <td>NaN</td>\n",
       "      <td>NaN</td>\n",
       "    </tr>\n",
       "    <tr>\n",
       "      <th>1</th>\n",
       "      <td>director</td>\n",
       "      <td>2005-03-16</td>\n",
       "      <td>{'officer': {'appointments': '/officers/0VLyBm...</td>\n",
       "      <td>{'locality': 'Coventry', 'address_line_1': '28...</td>\n",
       "      <td>WILLIAMS, Michael John</td>\n",
       "      <td>British</td>\n",
       "      <td>Accountant</td>\n",
       "      <td>{'month': 3, 'year': 1950}</td>\n",
       "      <td>England</td>\n",
       "    </tr>\n",
       "  </tbody>\n",
       "</table>\n",
       "</div>"
      ],
      "text/plain": [
       "  officer_role appointed_on  \\\n",
       "0    secretary   2005-03-16   \n",
       "1     director   2005-03-16   \n",
       "\n",
       "                                               links  \\\n",
       "0  {'officer': {'appointments': '/officers/Dugfkr...   \n",
       "1  {'officer': {'appointments': '/officers/0VLyBm...   \n",
       "\n",
       "                                             address                    name  \\\n",
       "0  {'address_line_1': '28 Pangfield Park', 'local...   WILLIAMS, Angela Mary   \n",
       "1  {'locality': 'Coventry', 'address_line_1': '28...  WILLIAMS, Michael John   \n",
       "\n",
       "  nationality  occupation               date_of_birth country_of_residence  \n",
       "0         NaN         NaN                         NaN                  NaN  \n",
       "1     British  Accountant  {'month': 3, 'year': 1950}              England  "
      ]
     },
     "execution_count": 79,
     "metadata": {},
     "output_type": "execute_result"
    }
   ],
   "source": [
    "# all_officers_in_company\n",
    "officers = all_officers_in_company(details[0]['company_number'])\n",
    "pd.DataFrame(officers)\n",
    "# pp.pprint(officers)"
   ]
  },
  {
   "cell_type": "markdown",
   "id": "7499380a",
   "metadata": {},
   "source": [
    "### End of example code"
   ]
  },
  {
   "cell_type": "code",
   "execution_count": null,
   "id": "89bec50c",
   "metadata": {},
   "outputs": [],
   "source": []
  },
  {
   "cell_type": "markdown",
   "id": "4180115e",
   "metadata": {},
   "source": [
    "# Business Question 1:"
   ]
  },
  {
   "cell_type": "markdown",
   "id": "18915b62",
   "metadata": {},
   "source": [
    "### Business Question 1: Code:"
   ]
  },
  {
   "cell_type": "code",
   "execution_count": 40,
   "id": "7c9a234e",
   "metadata": {
    "deletable": false,
    "nbgrader": {
     "cell_type": "code",
     "checksum": "9a6e3a6a854c5207e8fcb66335471a5d",
     "grade": true,
     "grade_id": "cell-b5b5ea7c8326b1d9",
     "locked": false,
     "points": 100,
     "schema_version": 3,
     "solution": true,
     "task": false
    }
   },
   "outputs": [
    {
     "ename": "NotImplementedError",
     "evalue": "",
     "output_type": "error",
     "traceback": [
      "\u001b[1;31m---------------------------------------------------------------------------\u001b[0m",
      "\u001b[1;31mNotImplementedError\u001b[0m                       Traceback (most recent call last)",
      "\u001b[1;32mc:\\Users\\redhawc\\Desktop\\EDI_BUSANA\\Python_programming\\Assignment\\Final_ASM\\2023-Individual-Project-PG-v1.4.ipynb Cell 30\u001b[0m line \u001b[0;36m2\n\u001b[0;32m      <a href='vscode-notebook-cell:/c%3A/Users/redhawc/Desktop/EDI_BUSANA/Python_programming/Assignment/Final_ASM/2023-Individual-Project-PG-v1.4.ipynb#X42sZmlsZQ%3D%3D?line=0'>1</a>\u001b[0m \u001b[39m# YOUR CODE HERE\u001b[39;00m\n\u001b[1;32m----> <a href='vscode-notebook-cell:/c%3A/Users/redhawc/Desktop/EDI_BUSANA/Python_programming/Assignment/Final_ASM/2023-Individual-Project-PG-v1.4.ipynb#X42sZmlsZQ%3D%3D?line=1'>2</a>\u001b[0m \u001b[39mraise\u001b[39;00m \u001b[39mNotImplementedError\u001b[39;00m()\n",
      "\u001b[1;31mNotImplementedError\u001b[0m: "
     ]
    }
   ],
   "source": [
    "# YOUR CODE HERE\n",
    "raise NotImplementedError()"
   ]
  },
  {
   "cell_type": "code",
   "execution_count": null,
   "id": "17d4319c",
   "metadata": {},
   "outputs": [],
   "source": []
  },
  {
   "cell_type": "code",
   "execution_count": null,
   "id": "f9308860",
   "metadata": {},
   "outputs": [],
   "source": []
  },
  {
   "cell_type": "markdown",
   "id": "027592ea",
   "metadata": {},
   "source": [
    "### Business Question 1: Mini-report and visualisation:"
   ]
  },
  {
   "cell_type": "markdown",
   "metadata": {},
   "source": [
    "### Visualisation\n"
   ]
  },
  {
   "cell_type": "code",
   "execution_count": null,
   "metadata": {},
   "outputs": [],
   "source": []
  },
  {
   "cell_type": "markdown",
   "id": "9268c3a9",
   "metadata": {},
   "source": [
    "### Mini-report\n",
    "\n",
    "作为世界金融中心之一,UK是享誉全球的银行业聚集地,尤其是London更是有金融城之称.于是我提出了我的Business Question:哪个UK城市最适合建立新银行?\n",
    "\n",
    "为了探究这一问题,我使用Company House API的Advanced search搜索所有2015年后建立的sic code等于64191(sic code for Banks)的企业,以获得精准的搜索结果来制作分年份显示的可互动地图散点图.\n",
    "\n",
    "我们的结果非常有意思:\n",
    "\n"
   ]
  },
  {
   "cell_type": "markdown",
   "id": "6dc9e7e6",
   "metadata": {},
   "source": [
    "# Business Question 2:"
   ]
  },
  {
   "cell_type": "markdown",
   "id": "1cc860d0",
   "metadata": {},
   "source": [
    "### Business Question 2: Code:"
   ]
  },
  {
   "cell_type": "code",
   "execution_count": null,
   "id": "b2aad17e",
   "metadata": {
    "deletable": false,
    "nbgrader": {
     "cell_type": "code",
     "checksum": "5852b9053d1c37cb5d3d238ee64a94cf",
     "grade": true,
     "grade_id": "cell-7c8b65431ad41ec6",
     "locked": false,
     "points": 100,
     "schema_version": 3,
     "solution": true,
     "task": false
    }
   },
   "outputs": [],
   "source": [
    "# YOUR CODE HERE\n",
    "raise NotImplementedError()"
   ]
  },
  {
   "cell_type": "code",
   "execution_count": null,
   "id": "a9e48f86",
   "metadata": {},
   "outputs": [],
   "source": []
  },
  {
   "cell_type": "code",
   "execution_count": null,
   "id": "87ae26bd",
   "metadata": {},
   "outputs": [],
   "source": []
  },
  {
   "cell_type": "markdown",
   "id": "f5f4cee1",
   "metadata": {},
   "source": [
    "### Business Question 2: Mini-report and visualisation:"
   ]
  },
  {
   "cell_type": "markdown",
   "id": "d908526d",
   "metadata": {},
   "source": [
    "double-click to edit\n"
   ]
  },
  {
   "cell_type": "code",
   "execution_count": null,
   "id": "1094910b",
   "metadata": {},
   "outputs": [],
   "source": []
  }
 ],
 "metadata": {
  "kernelspec": {
   "display_name": "Python 3 (ipykernel)",
   "language": "python",
   "name": "python3"
  },
  "language_info": {
   "codemirror_mode": {
    "name": "ipython",
    "version": 3
   },
   "file_extension": ".py",
   "mimetype": "text/x-python",
   "name": "python",
   "nbconvert_exporter": "python",
   "pygments_lexer": "ipython3",
   "version": "3.11.2"
  }
 },
 "nbformat": 4,
 "nbformat_minor": 5
}
