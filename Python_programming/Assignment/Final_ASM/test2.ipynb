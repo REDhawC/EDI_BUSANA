{
 "cells": [
  {
   "cell_type": "code",
   "execution_count": 1,
   "metadata": {},
   "outputs": [],
   "source": [
    "import requests\n",
    "import pandas as pd\n",
    "import pprint as pp"
   ]
  },
  {
   "cell_type": "code",
   "execution_count": 2,
   "metadata": {},
   "outputs": [],
   "source": [
    "def advanced_company_search(**kwargs):\n",
    "    api_key = \"9ca44c28-e54d-4c26-9bf7-6c766c53c054\"\n",
    "    url = \"https://api.company-information.service.gov.uk/advanced-search/companies\"\n",
    "    headers = {\"Authorization\": api_key}\n",
    "    response = requests.get(url, headers=headers, params=kwargs)\n",
    "\n",
    "    if response.status_code == 200:\n",
    "        return response.json()\n",
    "    else:\n",
    "        return {\"error\": \"Request failed\", \"status_code\": response.status_code}\n",
    "\n",
    "\n",
    "# 示例用法\n",
    "search_params = {\n",
    "    \"sic_codes\": \"64191\",\n",
    "    \"incorporated_from\": \"2015-01-01\",\n",
    "    \"incorporated_to\": \"2023-01-01\",\n",
    "    \"size\": 5000,\n",
    "    \"start_index\": 0,\n",
    "}\n",
    "results_original = advanced_company_search(**search_params)"
   ]
  },
  {
   "cell_type": "code",
   "execution_count": 3,
   "metadata": {},
   "outputs": [
    {
     "name": "stdout",
     "output_type": "stream",
     "text": [
      "2760\n"
     ]
    }
   ],
   "source": [
    "results = results_original[\"items\"]\n",
    "\n",
    "print(len(results))\n",
    "\n",
    "locations = []"
   ]
  },
  {
   "cell_type": "code",
   "execution_count": 4,
   "metadata": {},
   "outputs": [],
   "source": [
    "# Convert the list to a DataFrame\n",
    "df = pd.DataFrame(results)\n"
   ]
  },
  {
   "cell_type": "code",
   "execution_count": 5,
   "metadata": {
    "vscode": {
     "languageId": "ruby"
    }
   },
   "outputs": [
    {
     "data": {
      "text/html": [
       "<div>\n",
       "<style scoped>\n",
       "    .dataframe tbody tr th:only-of-type {\n",
       "        vertical-align: middle;\n",
       "    }\n",
       "\n",
       "    .dataframe tbody tr th {\n",
       "        vertical-align: top;\n",
       "    }\n",
       "\n",
       "    .dataframe thead th {\n",
       "        text-align: right;\n",
       "    }\n",
       "</style>\n",
       "<table border=\"1\" class=\"dataframe\">\n",
       "  <thead>\n",
       "    <tr style=\"text-align: right;\">\n",
       "      <th></th>\n",
       "      <th>company_name</th>\n",
       "      <th>company_number</th>\n",
       "      <th>company_status</th>\n",
       "      <th>company_type</th>\n",
       "      <th>kind</th>\n",
       "      <th>links</th>\n",
       "      <th>date_of_cessation</th>\n",
       "      <th>date_of_creation</th>\n",
       "      <th>sic_codes</th>\n",
       "      <th>company_subtype</th>\n",
       "      <th>address_line_1</th>\n",
       "      <th>locality</th>\n",
       "      <th>postal_code</th>\n",
       "      <th>country</th>\n",
       "      <th>region</th>\n",
       "      <th>address_line_2</th>\n",
       "      <th>year_of_cessation</th>\n",
       "      <th>year_of_creation</th>\n",
       "    </tr>\n",
       "  </thead>\n",
       "  <tbody>\n",
       "    <tr>\n",
       "      <th>0</th>\n",
       "      <td>CAAMAQ LTD.</td>\n",
       "      <td>09638422</td>\n",
       "      <td>dissolved</td>\n",
       "      <td>ltd</td>\n",
       "      <td>search-results#company</td>\n",
       "      <td>{'company_profile': '/company/09638422'}</td>\n",
       "      <td>2017-11-21</td>\n",
       "      <td>2015-06-15</td>\n",
       "      <td>[64191]</td>\n",
       "      <td>NaN</td>\n",
       "      <td>107 Penarth Road Penarth Road</td>\n",
       "      <td>Cardiff</td>\n",
       "      <td>CF11 6JT</td>\n",
       "      <td>Wales</td>\n",
       "      <td>NaN</td>\n",
       "      <td>NaN</td>\n",
       "      <td>2017</td>\n",
       "      <td>2015</td>\n",
       "    </tr>\n",
       "    <tr>\n",
       "      <th>1</th>\n",
       "      <td>XELANT CONSULTING LTD</td>\n",
       "      <td>09638749</td>\n",
       "      <td>dissolved</td>\n",
       "      <td>ltd</td>\n",
       "      <td>search-results#company</td>\n",
       "      <td>{'company_profile': '/company/09638749'}</td>\n",
       "      <td>2018-03-06</td>\n",
       "      <td>2015-06-15</td>\n",
       "      <td>[64191]</td>\n",
       "      <td>NaN</td>\n",
       "      <td>15 Braybrooke Gardens</td>\n",
       "      <td>Saffron Walden</td>\n",
       "      <td>CB11 3WH</td>\n",
       "      <td>England</td>\n",
       "      <td>Essex</td>\n",
       "      <td>NaN</td>\n",
       "      <td>2018</td>\n",
       "      <td>2015</td>\n",
       "    </tr>\n",
       "    <tr>\n",
       "      <th>2</th>\n",
       "      <td>KJLIU LIMITED</td>\n",
       "      <td>09643634</td>\n",
       "      <td>dissolved</td>\n",
       "      <td>ltd</td>\n",
       "      <td>search-results#company</td>\n",
       "      <td>{'company_profile': '/company/09643634'}</td>\n",
       "      <td>2023-08-22</td>\n",
       "      <td>2015-06-17</td>\n",
       "      <td>[64191]</td>\n",
       "      <td>NaN</td>\n",
       "      <td>9 Augustine Drive</td>\n",
       "      <td>Ashford</td>\n",
       "      <td>TN25 7GH</td>\n",
       "      <td>England</td>\n",
       "      <td>NaN</td>\n",
       "      <td>Finberry</td>\n",
       "      <td>2023</td>\n",
       "      <td>2015</td>\n",
       "    </tr>\n",
       "    <tr>\n",
       "      <th>3</th>\n",
       "      <td>FRLC SERVICES LIMITED</td>\n",
       "      <td>09646354</td>\n",
       "      <td>dissolved</td>\n",
       "      <td>ltd</td>\n",
       "      <td>search-results#company</td>\n",
       "      <td>{'company_profile': '/company/09646354'}</td>\n",
       "      <td>2021-05-09</td>\n",
       "      <td>2015-06-18</td>\n",
       "      <td>[64191]</td>\n",
       "      <td>NaN</td>\n",
       "      <td>41 Kingston Street</td>\n",
       "      <td>Cambridge</td>\n",
       "      <td>CB1 2NU</td>\n",
       "      <td>NaN</td>\n",
       "      <td>NaN</td>\n",
       "      <td>NaN</td>\n",
       "      <td>2021</td>\n",
       "      <td>2015</td>\n",
       "    </tr>\n",
       "    <tr>\n",
       "      <th>4</th>\n",
       "      <td>SANAM SOLUTIONS LTD</td>\n",
       "      <td>09659664</td>\n",
       "      <td>active</td>\n",
       "      <td>ltd</td>\n",
       "      <td>search-results#company</td>\n",
       "      <td>{'company_profile': '/company/09659664'}</td>\n",
       "      <td>NaN</td>\n",
       "      <td>2015-06-26</td>\n",
       "      <td>[64191]</td>\n",
       "      <td>NaN</td>\n",
       "      <td>410 Gillott Road</td>\n",
       "      <td>Birmingham</td>\n",
       "      <td>B16 9LP</td>\n",
       "      <td>England</td>\n",
       "      <td>NaN</td>\n",
       "      <td>NaN</td>\n",
       "      <td>&lt;NA&gt;</td>\n",
       "      <td>2015</td>\n",
       "    </tr>\n",
       "  </tbody>\n",
       "</table>\n",
       "</div>"
      ],
      "text/plain": [
       "            company_name company_number company_status company_type  \\\n",
       "0            CAAMAQ LTD.       09638422      dissolved          ltd   \n",
       "1  XELANT CONSULTING LTD       09638749      dissolved          ltd   \n",
       "2          KJLIU LIMITED       09643634      dissolved          ltd   \n",
       "3  FRLC SERVICES LIMITED       09646354      dissolved          ltd   \n",
       "4    SANAM SOLUTIONS LTD       09659664         active          ltd   \n",
       "\n",
       "                     kind                                     links  \\\n",
       "0  search-results#company  {'company_profile': '/company/09638422'}   \n",
       "1  search-results#company  {'company_profile': '/company/09638749'}   \n",
       "2  search-results#company  {'company_profile': '/company/09643634'}   \n",
       "3  search-results#company  {'company_profile': '/company/09646354'}   \n",
       "4  search-results#company  {'company_profile': '/company/09659664'}   \n",
       "\n",
       "  date_of_cessation date_of_creation sic_codes company_subtype  \\\n",
       "0        2017-11-21       2015-06-15   [64191]             NaN   \n",
       "1        2018-03-06       2015-06-15   [64191]             NaN   \n",
       "2        2023-08-22       2015-06-17   [64191]             NaN   \n",
       "3        2021-05-09       2015-06-18   [64191]             NaN   \n",
       "4               NaN       2015-06-26   [64191]             NaN   \n",
       "\n",
       "                  address_line_1        locality postal_code  country region  \\\n",
       "0  107 Penarth Road Penarth Road         Cardiff    CF11 6JT    Wales    NaN   \n",
       "1          15 Braybrooke Gardens  Saffron Walden    CB11 3WH  England  Essex   \n",
       "2              9 Augustine Drive         Ashford    TN25 7GH  England    NaN   \n",
       "3             41 Kingston Street       Cambridge     CB1 2NU      NaN    NaN   \n",
       "4               410 Gillott Road      Birmingham     B16 9LP  England    NaN   \n",
       "\n",
       "  address_line_2  year_of_cessation  year_of_creation  \n",
       "0            NaN               2017              2015  \n",
       "1            NaN               2018              2015  \n",
       "2       Finberry               2023              2015  \n",
       "3            NaN               2021              2015  \n",
       "4            NaN               <NA>              2015  "
      ]
     },
     "execution_count": 5,
     "metadata": {},
     "output_type": "execute_result"
    }
   ],
   "source": [
    "# Expand the 'registered_office_address' column into separate columns\n",
    "address_df = df[\"registered_office_address\"].apply(pd.Series)\n",
    "\n",
    "# Join the new columns with the original DataFrame\n",
    "df = pd.concat([df.drop([\"registered_office_address\"], axis=1), address_df], axis=1)\n",
    "\n",
    "# Convert 'date_of_cessation' and 'date_of_creation' to datetime and get the year\n",
    "df[\"year_of_cessation\"] = pd.to_datetime(df[\"date_of_cessation\"]).dt.year\n",
    "df[\"year_of_creation\"] = pd.to_datetime(df[\"date_of_creation\"]).dt.year\n",
    "df['year_of_cessation'] = df['year_of_cessation'].astype('Int64')\n",
    "\n",
    "# Display the first few rows of the DataFrame\n",
    "df.head()"
   ]
  },
  {
   "cell_type": "code",
   "execution_count": 6,
   "metadata": {
    "vscode": {
     "languageId": "ruby"
    }
   },
   "outputs": [
    {
     "data": {
      "text/plain": [
       "24"
      ]
     },
     "execution_count": 6,
     "metadata": {},
     "output_type": "execute_result"
    }
   ],
   "source": [
    "# Select rows where 'locality' is 'Birmingham' and 'year_of_creation' is 2015\n",
    "selected_rows = df[(df['locality'] == 'Bradford') & (df['year_of_creation'] == 2017)]\n",
    "\n",
    "# Count the number of such rows\n",
    "num_companies = len(selected_rows)\n",
    "\n",
    "# Display the result\n",
    "num_companies"
   ]
  },
  {
   "cell_type": "code",
   "execution_count": 7,
   "metadata": {},
   "outputs": [
    {
     "data": {
      "text/html": [
       "<div>\n",
       "<style scoped>\n",
       "    .dataframe tbody tr th:only-of-type {\n",
       "        vertical-align: middle;\n",
       "    }\n",
       "\n",
       "    .dataframe tbody tr th {\n",
       "        vertical-align: top;\n",
       "    }\n",
       "\n",
       "    .dataframe thead th {\n",
       "        text-align: right;\n",
       "    }\n",
       "</style>\n",
       "<table border=\"1\" class=\"dataframe\">\n",
       "  <thead>\n",
       "    <tr style=\"text-align: right;\">\n",
       "      <th></th>\n",
       "      <th>locality</th>\n",
       "      <th>2015_created</th>\n",
       "      <th>2016_created</th>\n",
       "      <th>2017_created</th>\n",
       "      <th>2018_created</th>\n",
       "      <th>2019_created</th>\n",
       "      <th>2020_created</th>\n",
       "      <th>2021_created</th>\n",
       "      <th>2022_created</th>\n",
       "      <th>2015_ceased</th>\n",
       "      <th>...</th>\n",
       "      <th>2021_ceased</th>\n",
       "      <th>2022_ceased</th>\n",
       "      <th>2015_cessation_rate</th>\n",
       "      <th>2016_cessation_rate</th>\n",
       "      <th>2017_cessation_rate</th>\n",
       "      <th>2018_cessation_rate</th>\n",
       "      <th>2019_cessation_rate</th>\n",
       "      <th>2020_cessation_rate</th>\n",
       "      <th>2021_cessation_rate</th>\n",
       "      <th>2022_cessation_rate</th>\n",
       "    </tr>\n",
       "  </thead>\n",
       "  <tbody>\n",
       "    <tr>\n",
       "      <th>0</th>\n",
       "      <td>Cardiff</td>\n",
       "      <td>19.0</td>\n",
       "      <td>4.0</td>\n",
       "      <td>16.0</td>\n",
       "      <td>16.0</td>\n",
       "      <td>19.0</td>\n",
       "      <td>9.0</td>\n",
       "      <td>6.0</td>\n",
       "      <td>13.0</td>\n",
       "      <td>0.0</td>\n",
       "      <td>...</td>\n",
       "      <td>22.0</td>\n",
       "      <td>9.0</td>\n",
       "      <td>0.0</td>\n",
       "      <td>0.25</td>\n",
       "      <td>0.500000</td>\n",
       "      <td>0.250000</td>\n",
       "      <td>0.842105</td>\n",
       "      <td>1.222222</td>\n",
       "      <td>3.666667</td>\n",
       "      <td>0.692308</td>\n",
       "    </tr>\n",
       "    <tr>\n",
       "      <th>1</th>\n",
       "      <td>Saffron Walden</td>\n",
       "      <td>1.0</td>\n",
       "      <td>0.0</td>\n",
       "      <td>0.0</td>\n",
       "      <td>0.0</td>\n",
       "      <td>0.0</td>\n",
       "      <td>0.0</td>\n",
       "      <td>0.0</td>\n",
       "      <td>0.0</td>\n",
       "      <td>0.0</td>\n",
       "      <td>...</td>\n",
       "      <td>0.0</td>\n",
       "      <td>0.0</td>\n",
       "      <td>0.0</td>\n",
       "      <td>0.00</td>\n",
       "      <td>0.000000</td>\n",
       "      <td>0.000000</td>\n",
       "      <td>0.000000</td>\n",
       "      <td>0.000000</td>\n",
       "      <td>0.000000</td>\n",
       "      <td>0.000000</td>\n",
       "    </tr>\n",
       "    <tr>\n",
       "      <th>2</th>\n",
       "      <td>Ashford</td>\n",
       "      <td>2.0</td>\n",
       "      <td>0.0</td>\n",
       "      <td>0.0</td>\n",
       "      <td>0.0</td>\n",
       "      <td>2.0</td>\n",
       "      <td>0.0</td>\n",
       "      <td>0.0</td>\n",
       "      <td>0.0</td>\n",
       "      <td>0.0</td>\n",
       "      <td>...</td>\n",
       "      <td>1.0</td>\n",
       "      <td>0.0</td>\n",
       "      <td>0.0</td>\n",
       "      <td>0.00</td>\n",
       "      <td>0.000000</td>\n",
       "      <td>0.000000</td>\n",
       "      <td>0.000000</td>\n",
       "      <td>0.000000</td>\n",
       "      <td>0.000000</td>\n",
       "      <td>0.000000</td>\n",
       "    </tr>\n",
       "    <tr>\n",
       "      <th>3</th>\n",
       "      <td>Cambridge</td>\n",
       "      <td>6.0</td>\n",
       "      <td>1.0</td>\n",
       "      <td>8.0</td>\n",
       "      <td>3.0</td>\n",
       "      <td>1.0</td>\n",
       "      <td>0.0</td>\n",
       "      <td>0.0</td>\n",
       "      <td>1.0</td>\n",
       "      <td>0.0</td>\n",
       "      <td>...</td>\n",
       "      <td>8.0</td>\n",
       "      <td>7.0</td>\n",
       "      <td>0.0</td>\n",
       "      <td>0.00</td>\n",
       "      <td>0.000000</td>\n",
       "      <td>0.333333</td>\n",
       "      <td>2.000000</td>\n",
       "      <td>0.000000</td>\n",
       "      <td>0.000000</td>\n",
       "      <td>7.000000</td>\n",
       "    </tr>\n",
       "    <tr>\n",
       "      <th>4</th>\n",
       "      <td>Birmingham</td>\n",
       "      <td>9.0</td>\n",
       "      <td>4.0</td>\n",
       "      <td>11.0</td>\n",
       "      <td>19.0</td>\n",
       "      <td>13.0</td>\n",
       "      <td>3.0</td>\n",
       "      <td>0.0</td>\n",
       "      <td>1.0</td>\n",
       "      <td>0.0</td>\n",
       "      <td>...</td>\n",
       "      <td>10.0</td>\n",
       "      <td>6.0</td>\n",
       "      <td>0.0</td>\n",
       "      <td>0.00</td>\n",
       "      <td>0.272727</td>\n",
       "      <td>0.105263</td>\n",
       "      <td>0.384615</td>\n",
       "      <td>3.666667</td>\n",
       "      <td>0.000000</td>\n",
       "      <td>6.000000</td>\n",
       "    </tr>\n",
       "  </tbody>\n",
       "</table>\n",
       "<p>5 rows × 25 columns</p>\n",
       "</div>"
      ],
      "text/plain": [
       "         locality  2015_created  2016_created  2017_created  2018_created  \\\n",
       "0         Cardiff          19.0           4.0          16.0          16.0   \n",
       "1  Saffron Walden           1.0           0.0           0.0           0.0   \n",
       "2         Ashford           2.0           0.0           0.0           0.0   \n",
       "3       Cambridge           6.0           1.0           8.0           3.0   \n",
       "4      Birmingham           9.0           4.0          11.0          19.0   \n",
       "\n",
       "   2019_created  2020_created  2021_created  2022_created  2015_ceased  ...  \\\n",
       "0          19.0           9.0           6.0          13.0          0.0  ...   \n",
       "1           0.0           0.0           0.0           0.0          0.0  ...   \n",
       "2           2.0           0.0           0.0           0.0          0.0  ...   \n",
       "3           1.0           0.0           0.0           1.0          0.0  ...   \n",
       "4          13.0           3.0           0.0           1.0          0.0  ...   \n",
       "\n",
       "   2021_ceased  2022_ceased  2015_cessation_rate  2016_cessation_rate  \\\n",
       "0         22.0          9.0                  0.0                 0.25   \n",
       "1          0.0          0.0                  0.0                 0.00   \n",
       "2          1.0          0.0                  0.0                 0.00   \n",
       "3          8.0          7.0                  0.0                 0.00   \n",
       "4         10.0          6.0                  0.0                 0.00   \n",
       "\n",
       "   2017_cessation_rate  2018_cessation_rate  2019_cessation_rate  \\\n",
       "0             0.500000             0.250000             0.842105   \n",
       "1             0.000000             0.000000             0.000000   \n",
       "2             0.000000             0.000000             0.000000   \n",
       "3             0.000000             0.333333             2.000000   \n",
       "4             0.272727             0.105263             0.384615   \n",
       "\n",
       "   2020_cessation_rate  2021_cessation_rate  2022_cessation_rate  \n",
       "0             1.222222             3.666667             0.692308  \n",
       "1             0.000000             0.000000             0.000000  \n",
       "2             0.000000             0.000000             0.000000  \n",
       "3             0.000000             0.000000             7.000000  \n",
       "4             3.666667             0.000000             6.000000  \n",
       "\n",
       "[5 rows x 25 columns]"
      ]
     },
     "execution_count": 7,
     "metadata": {},
     "output_type": "execute_result"
    }
   ],
   "source": [
    "def calculate_cessation_rate(df):\n",
    "    # 初始化一个新的DataFrame来存储结果\n",
    "    years = range(2015, 2023)\n",
    "    columns = ['locality'] + [f'{year}_created' for year in years] + [f'{year}_ceased' for year in years] + [f'{year}_cessation_rate' for year in years]\n",
    "    summary_df = pd.DataFrame(columns=columns)\n",
    "    summary_df['locality'] = df['locality'].unique()\n",
    "\n",
    "    # 遍历每年进行计算\n",
    "    for year in years:\n",
    "        # 计算每个城市在特定年份创建的公司数量\n",
    "        created = df[df['year_of_creation'] == year].groupby('locality')['company_number'].count()\n",
    "        # 计算每个城市在特定年份停业的公司数量\n",
    "        ceased = df[df['year_of_cessation'] == year].groupby('locality')['company_number'].count()\n",
    "\n",
    "        summary_df[f'{year}_created'] = summary_df['locality'].map(created)\n",
    "        summary_df[f'{year}_ceased'] = summary_df['locality'].map(ceased)\n",
    "        summary_df[f'{year}_cessation_rate'] = summary_df[f'{year}_ceased'] / summary_df[f'{year}_created']\n",
    "\n",
    "    # 处理NaN值\n",
    "    summary_df.fillna(0, inplace=True)\n",
    "    \n",
    "    return summary_df\n",
    "\n",
    "# 使用函数计算并生成新的DataFrame\n",
    "new_df = calculate_cessation_rate(df)\n",
    "new_df.head()  # 展示前几行以检查结果"
   ]
  },
  {
   "cell_type": "code",
   "execution_count": 8,
   "metadata": {},
   "outputs": [
    {
     "data": {
      "text/plain": [
       "0    0.0\n",
       "Name: 2015_ceased, dtype: float64"
      ]
     },
     "execution_count": 8,
     "metadata": {},
     "output_type": "execute_result"
    }
   ],
   "source": [
    "new_df.loc[new_df['locality'] == 'Cardiff', '2015_ceased']"
   ]
  },
  {
   "cell_type": "code",
   "execution_count": 9,
   "metadata": {},
   "outputs": [],
   "source": [
    "# 计算每个城市的公司数量\n",
    "counts = df[\"locality\"].value_counts()\n",
    "\n",
    "# 获取公司数量大于30的城市列表\n",
    "counts_greater_than30 = counts[counts > 30]\n",
    "cities_to_keep = counts_greater_than30.index.tolist()\n",
    "\n",
    "# 过滤数据框以保留这些城市的数据\n",
    "filtered_df = new_df[new_df[\"locality\"].isin(cities_to_keep)]"
   ]
  },
  {
   "cell_type": "code",
   "execution_count": 10,
   "metadata": {},
   "outputs": [
    {
     "data": {
      "text/html": [
       "<div>\n",
       "<style scoped>\n",
       "    .dataframe tbody tr th:only-of-type {\n",
       "        vertical-align: middle;\n",
       "    }\n",
       "\n",
       "    .dataframe tbody tr th {\n",
       "        vertical-align: top;\n",
       "    }\n",
       "\n",
       "    .dataframe thead th {\n",
       "        text-align: right;\n",
       "    }\n",
       "</style>\n",
       "<table border=\"1\" class=\"dataframe\">\n",
       "  <thead>\n",
       "    <tr style=\"text-align: right;\">\n",
       "      <th></th>\n",
       "      <th>locality</th>\n",
       "      <th>2015_created</th>\n",
       "      <th>2016_created</th>\n",
       "      <th>2017_created</th>\n",
       "      <th>2018_created</th>\n",
       "      <th>2019_created</th>\n",
       "      <th>2020_created</th>\n",
       "      <th>2021_created</th>\n",
       "      <th>2022_created</th>\n",
       "      <th>2015_ceased</th>\n",
       "      <th>...</th>\n",
       "      <th>2021_ceased</th>\n",
       "      <th>2022_ceased</th>\n",
       "      <th>2015_cessation_rate</th>\n",
       "      <th>2016_cessation_rate</th>\n",
       "      <th>2017_cessation_rate</th>\n",
       "      <th>2018_cessation_rate</th>\n",
       "      <th>2019_cessation_rate</th>\n",
       "      <th>2020_cessation_rate</th>\n",
       "      <th>2021_cessation_rate</th>\n",
       "      <th>2022_cessation_rate</th>\n",
       "    </tr>\n",
       "  </thead>\n",
       "  <tbody>\n",
       "    <tr>\n",
       "      <th>0</th>\n",
       "      <td>Cardiff</td>\n",
       "      <td>19.0</td>\n",
       "      <td>4.0</td>\n",
       "      <td>16.0</td>\n",
       "      <td>16.0</td>\n",
       "      <td>19.0</td>\n",
       "      <td>9.0</td>\n",
       "      <td>6.0</td>\n",
       "      <td>13.0</td>\n",
       "      <td>0.0</td>\n",
       "      <td>...</td>\n",
       "      <td>22.0</td>\n",
       "      <td>9.0</td>\n",
       "      <td>0.0</td>\n",
       "      <td>0.250000</td>\n",
       "      <td>0.500000</td>\n",
       "      <td>0.250000</td>\n",
       "      <td>0.842105</td>\n",
       "      <td>1.222222</td>\n",
       "      <td>3.666667</td>\n",
       "      <td>0.692308</td>\n",
       "    </tr>\n",
       "    <tr>\n",
       "      <th>4</th>\n",
       "      <td>Birmingham</td>\n",
       "      <td>9.0</td>\n",
       "      <td>4.0</td>\n",
       "      <td>11.0</td>\n",
       "      <td>19.0</td>\n",
       "      <td>13.0</td>\n",
       "      <td>3.0</td>\n",
       "      <td>0.0</td>\n",
       "      <td>1.0</td>\n",
       "      <td>0.0</td>\n",
       "      <td>...</td>\n",
       "      <td>10.0</td>\n",
       "      <td>6.0</td>\n",
       "      <td>0.0</td>\n",
       "      <td>0.000000</td>\n",
       "      <td>0.272727</td>\n",
       "      <td>0.105263</td>\n",
       "      <td>0.384615</td>\n",
       "      <td>3.666667</td>\n",
       "      <td>0.000000</td>\n",
       "      <td>6.000000</td>\n",
       "    </tr>\n",
       "    <tr>\n",
       "      <th>5</th>\n",
       "      <td>London</td>\n",
       "      <td>73.0</td>\n",
       "      <td>76.0</td>\n",
       "      <td>146.0</td>\n",
       "      <td>133.0</td>\n",
       "      <td>104.0</td>\n",
       "      <td>133.0</td>\n",
       "      <td>143.0</td>\n",
       "      <td>124.0</td>\n",
       "      <td>0.0</td>\n",
       "      <td>...</td>\n",
       "      <td>141.0</td>\n",
       "      <td>136.0</td>\n",
       "      <td>0.0</td>\n",
       "      <td>0.052632</td>\n",
       "      <td>0.130137</td>\n",
       "      <td>0.473684</td>\n",
       "      <td>0.961538</td>\n",
       "      <td>0.601504</td>\n",
       "      <td>0.986014</td>\n",
       "      <td>1.096774</td>\n",
       "    </tr>\n",
       "    <tr>\n",
       "      <th>20</th>\n",
       "      <td>Manchester</td>\n",
       "      <td>5.0</td>\n",
       "      <td>7.0</td>\n",
       "      <td>11.0</td>\n",
       "      <td>16.0</td>\n",
       "      <td>5.0</td>\n",
       "      <td>2.0</td>\n",
       "      <td>4.0</td>\n",
       "      <td>2.0</td>\n",
       "      <td>0.0</td>\n",
       "      <td>...</td>\n",
       "      <td>9.0</td>\n",
       "      <td>4.0</td>\n",
       "      <td>0.0</td>\n",
       "      <td>0.000000</td>\n",
       "      <td>0.090909</td>\n",
       "      <td>0.312500</td>\n",
       "      <td>1.400000</td>\n",
       "      <td>2.000000</td>\n",
       "      <td>2.250000</td>\n",
       "      <td>2.000000</td>\n",
       "    </tr>\n",
       "    <tr>\n",
       "      <th>25</th>\n",
       "      <td>Liverpool</td>\n",
       "      <td>14.0</td>\n",
       "      <td>12.0</td>\n",
       "      <td>15.0</td>\n",
       "      <td>15.0</td>\n",
       "      <td>11.0</td>\n",
       "      <td>2.0</td>\n",
       "      <td>2.0</td>\n",
       "      <td>2.0</td>\n",
       "      <td>0.0</td>\n",
       "      <td>...</td>\n",
       "      <td>18.0</td>\n",
       "      <td>5.0</td>\n",
       "      <td>0.0</td>\n",
       "      <td>0.083333</td>\n",
       "      <td>0.133333</td>\n",
       "      <td>0.400000</td>\n",
       "      <td>0.909091</td>\n",
       "      <td>8.500000</td>\n",
       "      <td>9.000000</td>\n",
       "      <td>2.500000</td>\n",
       "    </tr>\n",
       "    <tr>\n",
       "      <th>35</th>\n",
       "      <td>Leeds</td>\n",
       "      <td>8.0</td>\n",
       "      <td>1.0</td>\n",
       "      <td>20.0</td>\n",
       "      <td>8.0</td>\n",
       "      <td>8.0</td>\n",
       "      <td>0.0</td>\n",
       "      <td>0.0</td>\n",
       "      <td>0.0</td>\n",
       "      <td>0.0</td>\n",
       "      <td>...</td>\n",
       "      <td>11.0</td>\n",
       "      <td>7.0</td>\n",
       "      <td>0.0</td>\n",
       "      <td>0.000000</td>\n",
       "      <td>0.150000</td>\n",
       "      <td>0.250000</td>\n",
       "      <td>0.875000</td>\n",
       "      <td>0.000000</td>\n",
       "      <td>0.000000</td>\n",
       "      <td>0.000000</td>\n",
       "    </tr>\n",
       "    <tr>\n",
       "      <th>45</th>\n",
       "      <td>Bradford</td>\n",
       "      <td>7.0</td>\n",
       "      <td>2.0</td>\n",
       "      <td>24.0</td>\n",
       "      <td>12.0</td>\n",
       "      <td>14.0</td>\n",
       "      <td>2.0</td>\n",
       "      <td>2.0</td>\n",
       "      <td>0.0</td>\n",
       "      <td>0.0</td>\n",
       "      <td>...</td>\n",
       "      <td>14.0</td>\n",
       "      <td>6.0</td>\n",
       "      <td>0.0</td>\n",
       "      <td>0.000000</td>\n",
       "      <td>0.125000</td>\n",
       "      <td>0.250000</td>\n",
       "      <td>0.571429</td>\n",
       "      <td>6.000000</td>\n",
       "      <td>7.000000</td>\n",
       "      <td>0.000000</td>\n",
       "    </tr>\n",
       "    <tr>\n",
       "      <th>118</th>\n",
       "      <td>Glasgow</td>\n",
       "      <td>11.0</td>\n",
       "      <td>6.0</td>\n",
       "      <td>18.0</td>\n",
       "      <td>11.0</td>\n",
       "      <td>15.0</td>\n",
       "      <td>3.0</td>\n",
       "      <td>0.0</td>\n",
       "      <td>0.0</td>\n",
       "      <td>0.0</td>\n",
       "      <td>...</td>\n",
       "      <td>19.0</td>\n",
       "      <td>6.0</td>\n",
       "      <td>0.0</td>\n",
       "      <td>0.000000</td>\n",
       "      <td>0.000000</td>\n",
       "      <td>0.636364</td>\n",
       "      <td>0.400000</td>\n",
       "      <td>3.333333</td>\n",
       "      <td>0.000000</td>\n",
       "      <td>0.000000</td>\n",
       "    </tr>\n",
       "    <tr>\n",
       "      <th>122</th>\n",
       "      <td>Edinburgh</td>\n",
       "      <td>6.0</td>\n",
       "      <td>6.0</td>\n",
       "      <td>11.0</td>\n",
       "      <td>6.0</td>\n",
       "      <td>3.0</td>\n",
       "      <td>0.0</td>\n",
       "      <td>2.0</td>\n",
       "      <td>0.0</td>\n",
       "      <td>0.0</td>\n",
       "      <td>...</td>\n",
       "      <td>6.0</td>\n",
       "      <td>3.0</td>\n",
       "      <td>0.0</td>\n",
       "      <td>0.000000</td>\n",
       "      <td>0.000000</td>\n",
       "      <td>0.666667</td>\n",
       "      <td>2.000000</td>\n",
       "      <td>0.000000</td>\n",
       "      <td>3.000000</td>\n",
       "      <td>0.000000</td>\n",
       "    </tr>\n",
       "    <tr>\n",
       "      <th>147</th>\n",
       "      <td>Leicester</td>\n",
       "      <td>5.0</td>\n",
       "      <td>2.0</td>\n",
       "      <td>7.0</td>\n",
       "      <td>7.0</td>\n",
       "      <td>13.0</td>\n",
       "      <td>3.0</td>\n",
       "      <td>2.0</td>\n",
       "      <td>1.0</td>\n",
       "      <td>0.0</td>\n",
       "      <td>...</td>\n",
       "      <td>9.0</td>\n",
       "      <td>5.0</td>\n",
       "      <td>0.0</td>\n",
       "      <td>0.000000</td>\n",
       "      <td>0.142857</td>\n",
       "      <td>0.142857</td>\n",
       "      <td>0.384615</td>\n",
       "      <td>2.000000</td>\n",
       "      <td>4.500000</td>\n",
       "      <td>5.000000</td>\n",
       "    </tr>\n",
       "  </tbody>\n",
       "</table>\n",
       "<p>10 rows × 25 columns</p>\n",
       "</div>"
      ],
      "text/plain": [
       "       locality  2015_created  2016_created  2017_created  2018_created  \\\n",
       "0       Cardiff          19.0           4.0          16.0          16.0   \n",
       "4    Birmingham           9.0           4.0          11.0          19.0   \n",
       "5        London          73.0          76.0         146.0         133.0   \n",
       "20   Manchester           5.0           7.0          11.0          16.0   \n",
       "25    Liverpool          14.0          12.0          15.0          15.0   \n",
       "35        Leeds           8.0           1.0          20.0           8.0   \n",
       "45     Bradford           7.0           2.0          24.0          12.0   \n",
       "118     Glasgow          11.0           6.0          18.0          11.0   \n",
       "122   Edinburgh           6.0           6.0          11.0           6.0   \n",
       "147   Leicester           5.0           2.0           7.0           7.0   \n",
       "\n",
       "     2019_created  2020_created  2021_created  2022_created  2015_ceased  ...  \\\n",
       "0            19.0           9.0           6.0          13.0          0.0  ...   \n",
       "4            13.0           3.0           0.0           1.0          0.0  ...   \n",
       "5           104.0         133.0         143.0         124.0          0.0  ...   \n",
       "20            5.0           2.0           4.0           2.0          0.0  ...   \n",
       "25           11.0           2.0           2.0           2.0          0.0  ...   \n",
       "35            8.0           0.0           0.0           0.0          0.0  ...   \n",
       "45           14.0           2.0           2.0           0.0          0.0  ...   \n",
       "118          15.0           3.0           0.0           0.0          0.0  ...   \n",
       "122           3.0           0.0           2.0           0.0          0.0  ...   \n",
       "147          13.0           3.0           2.0           1.0          0.0  ...   \n",
       "\n",
       "     2021_ceased  2022_ceased  2015_cessation_rate  2016_cessation_rate  \\\n",
       "0           22.0          9.0                  0.0             0.250000   \n",
       "4           10.0          6.0                  0.0             0.000000   \n",
       "5          141.0        136.0                  0.0             0.052632   \n",
       "20           9.0          4.0                  0.0             0.000000   \n",
       "25          18.0          5.0                  0.0             0.083333   \n",
       "35          11.0          7.0                  0.0             0.000000   \n",
       "45          14.0          6.0                  0.0             0.000000   \n",
       "118         19.0          6.0                  0.0             0.000000   \n",
       "122          6.0          3.0                  0.0             0.000000   \n",
       "147          9.0          5.0                  0.0             0.000000   \n",
       "\n",
       "     2017_cessation_rate  2018_cessation_rate  2019_cessation_rate  \\\n",
       "0               0.500000             0.250000             0.842105   \n",
       "4               0.272727             0.105263             0.384615   \n",
       "5               0.130137             0.473684             0.961538   \n",
       "20              0.090909             0.312500             1.400000   \n",
       "25              0.133333             0.400000             0.909091   \n",
       "35              0.150000             0.250000             0.875000   \n",
       "45              0.125000             0.250000             0.571429   \n",
       "118             0.000000             0.636364             0.400000   \n",
       "122             0.000000             0.666667             2.000000   \n",
       "147             0.142857             0.142857             0.384615   \n",
       "\n",
       "     2020_cessation_rate  2021_cessation_rate  2022_cessation_rate  \n",
       "0               1.222222             3.666667             0.692308  \n",
       "4               3.666667             0.000000             6.000000  \n",
       "5               0.601504             0.986014             1.096774  \n",
       "20              2.000000             2.250000             2.000000  \n",
       "25              8.500000             9.000000             2.500000  \n",
       "35              0.000000             0.000000             0.000000  \n",
       "45              6.000000             7.000000             0.000000  \n",
       "118             3.333333             0.000000             0.000000  \n",
       "122             0.000000             3.000000             0.000000  \n",
       "147             2.000000             4.500000             5.000000  \n",
       "\n",
       "[10 rows x 25 columns]"
      ]
     },
     "execution_count": 10,
     "metadata": {},
     "output_type": "execute_result"
    }
   ],
   "source": [
    "filtered_df"
   ]
  },
  {
   "cell_type": "code",
   "execution_count": 11,
   "metadata": {},
   "outputs": [
    {
     "name": "stderr",
     "output_type": "stream",
     "text": [
      "C:\\Users\\redhawc\\AppData\\Local\\Temp\\ipykernel_21056\\3311726706.py:22: SettingWithCopyWarning: \n",
      "A value is trying to be set on a copy of a slice from a DataFrame.\n",
      "Try using .loc[row_indexer,col_indexer] = value instead\n",
      "\n",
      "See the caveats in the documentation: https://pandas.pydata.org/pandas-docs/stable/user_guide/indexing.html#returning-a-view-versus-a-copy\n",
      "  filtered_df.loc[filtered_df['locality'] == city, 'latitude'] = lat\n",
      "C:\\Users\\redhawc\\AppData\\Local\\Temp\\ipykernel_21056\\3311726706.py:23: SettingWithCopyWarning: \n",
      "A value is trying to be set on a copy of a slice from a DataFrame.\n",
      "Try using .loc[row_indexer,col_indexer] = value instead\n",
      "\n",
      "See the caveats in the documentation: https://pandas.pydata.org/pandas-docs/stable/user_guide/indexing.html#returning-a-view-versus-a-copy\n",
      "  filtered_df.loc[filtered_df['locality'] == city, 'longitude'] = lon\n"
     ]
    },
    {
     "data": {
      "text/html": [
       "<div>\n",
       "<style scoped>\n",
       "    .dataframe tbody tr th:only-of-type {\n",
       "        vertical-align: middle;\n",
       "    }\n",
       "\n",
       "    .dataframe tbody tr th {\n",
       "        vertical-align: top;\n",
       "    }\n",
       "\n",
       "    .dataframe thead th {\n",
       "        text-align: right;\n",
       "    }\n",
       "</style>\n",
       "<table border=\"1\" class=\"dataframe\">\n",
       "  <thead>\n",
       "    <tr style=\"text-align: right;\">\n",
       "      <th></th>\n",
       "      <th>locality</th>\n",
       "      <th>2015_created</th>\n",
       "      <th>2016_created</th>\n",
       "      <th>2017_created</th>\n",
       "      <th>2018_created</th>\n",
       "      <th>2019_created</th>\n",
       "      <th>2020_created</th>\n",
       "      <th>2021_created</th>\n",
       "      <th>2022_created</th>\n",
       "      <th>2015_ceased</th>\n",
       "      <th>...</th>\n",
       "      <th>2015_cessation_rate</th>\n",
       "      <th>2016_cessation_rate</th>\n",
       "      <th>2017_cessation_rate</th>\n",
       "      <th>2018_cessation_rate</th>\n",
       "      <th>2019_cessation_rate</th>\n",
       "      <th>2020_cessation_rate</th>\n",
       "      <th>2021_cessation_rate</th>\n",
       "      <th>2022_cessation_rate</th>\n",
       "      <th>latitude</th>\n",
       "      <th>longitude</th>\n",
       "    </tr>\n",
       "  </thead>\n",
       "  <tbody>\n",
       "    <tr>\n",
       "      <th>0</th>\n",
       "      <td>Cardiff</td>\n",
       "      <td>19.0</td>\n",
       "      <td>4.0</td>\n",
       "      <td>16.0</td>\n",
       "      <td>16.0</td>\n",
       "      <td>19.0</td>\n",
       "      <td>9.0</td>\n",
       "      <td>6.0</td>\n",
       "      <td>13.0</td>\n",
       "      <td>0.0</td>\n",
       "      <td>...</td>\n",
       "      <td>0.0</td>\n",
       "      <td>0.250000</td>\n",
       "      <td>0.500000</td>\n",
       "      <td>0.250000</td>\n",
       "      <td>0.842105</td>\n",
       "      <td>1.222222</td>\n",
       "      <td>3.666667</td>\n",
       "      <td>0.692308</td>\n",
       "      <td>51.481655</td>\n",
       "      <td>-3.179193</td>\n",
       "    </tr>\n",
       "    <tr>\n",
       "      <th>4</th>\n",
       "      <td>Birmingham</td>\n",
       "      <td>9.0</td>\n",
       "      <td>4.0</td>\n",
       "      <td>11.0</td>\n",
       "      <td>19.0</td>\n",
       "      <td>13.0</td>\n",
       "      <td>3.0</td>\n",
       "      <td>0.0</td>\n",
       "      <td>1.0</td>\n",
       "      <td>0.0</td>\n",
       "      <td>...</td>\n",
       "      <td>0.0</td>\n",
       "      <td>0.000000</td>\n",
       "      <td>0.272727</td>\n",
       "      <td>0.105263</td>\n",
       "      <td>0.384615</td>\n",
       "      <td>3.666667</td>\n",
       "      <td>0.000000</td>\n",
       "      <td>6.000000</td>\n",
       "      <td>52.479699</td>\n",
       "      <td>-1.902691</td>\n",
       "    </tr>\n",
       "    <tr>\n",
       "      <th>5</th>\n",
       "      <td>London</td>\n",
       "      <td>73.0</td>\n",
       "      <td>76.0</td>\n",
       "      <td>146.0</td>\n",
       "      <td>133.0</td>\n",
       "      <td>104.0</td>\n",
       "      <td>133.0</td>\n",
       "      <td>143.0</td>\n",
       "      <td>124.0</td>\n",
       "      <td>0.0</td>\n",
       "      <td>...</td>\n",
       "      <td>0.0</td>\n",
       "      <td>0.052632</td>\n",
       "      <td>0.130137</td>\n",
       "      <td>0.473684</td>\n",
       "      <td>0.961538</td>\n",
       "      <td>0.601504</td>\n",
       "      <td>0.986014</td>\n",
       "      <td>1.096774</td>\n",
       "      <td>51.507446</td>\n",
       "      <td>-0.127765</td>\n",
       "    </tr>\n",
       "    <tr>\n",
       "      <th>20</th>\n",
       "      <td>Manchester</td>\n",
       "      <td>5.0</td>\n",
       "      <td>7.0</td>\n",
       "      <td>11.0</td>\n",
       "      <td>16.0</td>\n",
       "      <td>5.0</td>\n",
       "      <td>2.0</td>\n",
       "      <td>4.0</td>\n",
       "      <td>2.0</td>\n",
       "      <td>0.0</td>\n",
       "      <td>...</td>\n",
       "      <td>0.0</td>\n",
       "      <td>0.000000</td>\n",
       "      <td>0.090909</td>\n",
       "      <td>0.312500</td>\n",
       "      <td>1.400000</td>\n",
       "      <td>2.000000</td>\n",
       "      <td>2.250000</td>\n",
       "      <td>2.000000</td>\n",
       "      <td>53.479489</td>\n",
       "      <td>-2.245115</td>\n",
       "    </tr>\n",
       "    <tr>\n",
       "      <th>25</th>\n",
       "      <td>Liverpool</td>\n",
       "      <td>14.0</td>\n",
       "      <td>12.0</td>\n",
       "      <td>15.0</td>\n",
       "      <td>15.0</td>\n",
       "      <td>11.0</td>\n",
       "      <td>2.0</td>\n",
       "      <td>2.0</td>\n",
       "      <td>2.0</td>\n",
       "      <td>0.0</td>\n",
       "      <td>...</td>\n",
       "      <td>0.0</td>\n",
       "      <td>0.083333</td>\n",
       "      <td>0.133333</td>\n",
       "      <td>0.400000</td>\n",
       "      <td>0.909091</td>\n",
       "      <td>8.500000</td>\n",
       "      <td>9.000000</td>\n",
       "      <td>2.500000</td>\n",
       "      <td>53.407199</td>\n",
       "      <td>-2.991680</td>\n",
       "    </tr>\n",
       "  </tbody>\n",
       "</table>\n",
       "<p>5 rows × 27 columns</p>\n",
       "</div>"
      ],
      "text/plain": [
       "      locality  2015_created  2016_created  2017_created  2018_created  \\\n",
       "0      Cardiff          19.0           4.0          16.0          16.0   \n",
       "4   Birmingham           9.0           4.0          11.0          19.0   \n",
       "5       London          73.0          76.0         146.0         133.0   \n",
       "20  Manchester           5.0           7.0          11.0          16.0   \n",
       "25   Liverpool          14.0          12.0          15.0          15.0   \n",
       "\n",
       "    2019_created  2020_created  2021_created  2022_created  2015_ceased  ...  \\\n",
       "0           19.0           9.0           6.0          13.0          0.0  ...   \n",
       "4           13.0           3.0           0.0           1.0          0.0  ...   \n",
       "5          104.0         133.0         143.0         124.0          0.0  ...   \n",
       "20           5.0           2.0           4.0           2.0          0.0  ...   \n",
       "25          11.0           2.0           2.0           2.0          0.0  ...   \n",
       "\n",
       "    2015_cessation_rate  2016_cessation_rate  2017_cessation_rate  \\\n",
       "0                   0.0             0.250000             0.500000   \n",
       "4                   0.0             0.000000             0.272727   \n",
       "5                   0.0             0.052632             0.130137   \n",
       "20                  0.0             0.000000             0.090909   \n",
       "25                  0.0             0.083333             0.133333   \n",
       "\n",
       "    2018_cessation_rate  2019_cessation_rate  2020_cessation_rate  \\\n",
       "0              0.250000             0.842105             1.222222   \n",
       "4              0.105263             0.384615             3.666667   \n",
       "5              0.473684             0.961538             0.601504   \n",
       "20             0.312500             1.400000             2.000000   \n",
       "25             0.400000             0.909091             8.500000   \n",
       "\n",
       "    2021_cessation_rate  2022_cessation_rate   latitude  longitude  \n",
       "0              3.666667             0.692308  51.481655  -3.179193  \n",
       "4              0.000000             6.000000  52.479699  -1.902691  \n",
       "5              0.986014             1.096774  51.507446  -0.127765  \n",
       "20             2.250000             2.000000  53.479489  -2.245115  \n",
       "25             9.000000             2.500000  53.407199  -2.991680  \n",
       "\n",
       "[5 rows x 27 columns]"
      ]
     },
     "execution_count": 11,
     "metadata": {},
     "output_type": "execute_result"
    }
   ],
   "source": [
    "from geopy.geocoders import Nominatim\n",
    "import pandas as pd\n",
    "\n",
    "# 确保您已加载了DataFrame 'filtered_df'\n",
    "# 如果还没有加载，可以使用类似下面的代码加载它：\n",
    "# filtered_df = pd.read_csv('path_to_your_csv_file.csv')  # 替换为您的CSV文件路径\n",
    "\n",
    "# 初始化地理编码器\n",
    "geolocator = Nominatim(user_agent=\"geoapiExercises\")\n",
    "\n",
    "# 函数：根据城市名获取纬度和经度\n",
    "def get_lat_long(city):\n",
    "    try:\n",
    "        location = geolocator.geocode(city + \", UK\")  # 假设所有城市都在英国\n",
    "        return location.latitude, location.longitude\n",
    "    except:\n",
    "        return None, None\n",
    "\n",
    "# 为数据集中的每个城市添加经纬度\n",
    "for city in filtered_df['locality'].unique():\n",
    "    lat, lon = get_lat_long(city)\n",
    "    filtered_df.loc[filtered_df['locality'] == city, 'latitude'] = lat\n",
    "    filtered_df.loc[filtered_df['locality'] == city, 'longitude'] = lon\n",
    "\n",
    "# 检查添加了坐标的数据集\n",
    "filtered_df.head()\n",
    "# 可以选择保存更新后的数据\n"
   ]
  },
  {
   "cell_type": "code",
   "execution_count": 14,
   "metadata": {},
   "outputs": [
    {
     "name": "stderr",
     "output_type": "stream",
     "text": [
      "C:\\Users\\redhawc\\AppData\\Local\\Temp\\ipykernel_21056\\320219430.py:19: SettingWithCopyWarning:\n",
      "\n",
      "\n",
      "A value is trying to be set on a copy of a slice from a DataFrame.\n",
      "Try using .loc[row_indexer,col_indexer] = value instead\n",
      "\n",
      "See the caveats in the documentation: https://pandas.pydata.org/pandas-docs/stable/user_guide/indexing.html#returning-a-view-versus-a-copy\n",
      "\n",
      "C:\\Users\\redhawc\\AppData\\Local\\Temp\\ipykernel_21056\\320219430.py:19: SettingWithCopyWarning:\n",
      "\n",
      "\n",
      "A value is trying to be set on a copy of a slice from a DataFrame.\n",
      "Try using .loc[row_indexer,col_indexer] = value instead\n",
      "\n",
      "See the caveats in the documentation: https://pandas.pydata.org/pandas-docs/stable/user_guide/indexing.html#returning-a-view-versus-a-copy\n",
      "\n",
      "C:\\Users\\redhawc\\AppData\\Local\\Temp\\ipykernel_21056\\320219430.py:19: SettingWithCopyWarning:\n",
      "\n",
      "\n",
      "A value is trying to be set on a copy of a slice from a DataFrame.\n",
      "Try using .loc[row_indexer,col_indexer] = value instead\n",
      "\n",
      "See the caveats in the documentation: https://pandas.pydata.org/pandas-docs/stable/user_guide/indexing.html#returning-a-view-versus-a-copy\n",
      "\n",
      "C:\\Users\\redhawc\\AppData\\Local\\Temp\\ipykernel_21056\\320219430.py:19: SettingWithCopyWarning:\n",
      "\n",
      "\n",
      "A value is trying to be set on a copy of a slice from a DataFrame.\n",
      "Try using .loc[row_indexer,col_indexer] = value instead\n",
      "\n",
      "See the caveats in the documentation: https://pandas.pydata.org/pandas-docs/stable/user_guide/indexing.html#returning-a-view-versus-a-copy\n",
      "\n",
      "C:\\Users\\redhawc\\AppData\\Local\\Temp\\ipykernel_21056\\320219430.py:19: SettingWithCopyWarning:\n",
      "\n",
      "\n",
      "A value is trying to be set on a copy of a slice from a DataFrame.\n",
      "Try using .loc[row_indexer,col_indexer] = value instead\n",
      "\n",
      "See the caveats in the documentation: https://pandas.pydata.org/pandas-docs/stable/user_guide/indexing.html#returning-a-view-versus-a-copy\n",
      "\n",
      "C:\\Users\\redhawc\\AppData\\Local\\Temp\\ipykernel_21056\\320219430.py:19: SettingWithCopyWarning:\n",
      "\n",
      "\n",
      "A value is trying to be set on a copy of a slice from a DataFrame.\n",
      "Try using .loc[row_indexer,col_indexer] = value instead\n",
      "\n",
      "See the caveats in the documentation: https://pandas.pydata.org/pandas-docs/stable/user_guide/indexing.html#returning-a-view-versus-a-copy\n",
      "\n",
      "C:\\Users\\redhawc\\AppData\\Local\\Temp\\ipykernel_21056\\320219430.py:19: SettingWithCopyWarning:\n",
      "\n",
      "\n",
      "A value is trying to be set on a copy of a slice from a DataFrame.\n",
      "Try using .loc[row_indexer,col_indexer] = value instead\n",
      "\n",
      "See the caveats in the documentation: https://pandas.pydata.org/pandas-docs/stable/user_guide/indexing.html#returning-a-view-versus-a-copy\n",
      "\n"
     ]
    },
    {
     "data": {
      "application/vnd.plotly.v1+json": {
       "config": {
        "plotlyServerURL": "https://plot.ly"
       },
       "data": [
        {
         "customdata": [
          [
           4,
           0.25
          ],
          [
           4,
           0
          ],
          [
           76,
           0.05263157894736842
          ],
          [
           7,
           0
          ],
          [
           12,
           0.08333333333333333
          ],
          [
           1,
           0
          ],
          [
           2,
           0
          ],
          [
           6,
           0
          ],
          [
           6,
           0
          ],
          [
           2,
           0
          ]
         ],
         "hovertemplate": "<b>%{hovertext}</b><br><br>year=2016<br>Bank Created=%{customdata[0]}<br>latitude=%{lat}<br>longitude=%{lon}<br>Cessation Rate=%{marker.color}<extra></extra>",
         "hovertext": [
          "Cardiff",
          "Birmingham",
          "London",
          "Manchester",
          "Liverpool",
          "Leeds",
          "Bradford",
          "Glasgow",
          "Edinburgh",
          "Leicester"
         ],
         "lat": [
          51.4816546,
          52.4796992,
          51.5074456,
          53.4794892,
          53.4071991,
          53.7974185,
          53.7944229,
          55.861155,
          55.9533456,
          52.6362
         ],
         "legendgroup": "",
         "lon": [
          -3.1791934,
          -1.9026911,
          -0.1277653,
          -2.2451148,
          -2.99168,
          -1.5437941,
          -1.7519186,
          -4.2501687,
          -3.1883749,
          -1.1331969
         ],
         "marker": {
          "color": [
           0.25,
           0,
           0.05263157894736842,
           0,
           0.08333333333333333,
           0,
           0,
           0,
           0,
           0
          ],
          "coloraxis": "coloraxis",
          "opacity": 0.8,
          "size": [
           4,
           4,
           76,
           7,
           12,
           1,
           2,
           6,
           6,
           2
          ],
          "sizemode": "area",
          "sizeref": 0.0146
         },
         "mode": "markers",
         "name": "",
         "showlegend": false,
         "subplot": "mapbox",
         "type": "scattermapbox"
        }
       ],
       "frames": [
        {
         "data": [
          {
           "customdata": [
            [
             4,
             0.25
            ],
            [
             4,
             0
            ],
            [
             76,
             0.05263157894736842
            ],
            [
             7,
             0
            ],
            [
             12,
             0.08333333333333333
            ],
            [
             1,
             0
            ],
            [
             2,
             0
            ],
            [
             6,
             0
            ],
            [
             6,
             0
            ],
            [
             2,
             0
            ]
           ],
           "hovertemplate": "<b>%{hovertext}</b><br><br>year=2016<br>Bank Created=%{customdata[0]}<br>latitude=%{lat}<br>longitude=%{lon}<br>Cessation Rate=%{marker.color}<extra></extra>",
           "hovertext": [
            "Cardiff",
            "Birmingham",
            "London",
            "Manchester",
            "Liverpool",
            "Leeds",
            "Bradford",
            "Glasgow",
            "Edinburgh",
            "Leicester"
           ],
           "lat": [
            51.4816546,
            52.4796992,
            51.5074456,
            53.4794892,
            53.4071991,
            53.7974185,
            53.7944229,
            55.861155,
            55.9533456,
            52.6362
           ],
           "legendgroup": "",
           "lon": [
            -3.1791934,
            -1.9026911,
            -0.1277653,
            -2.2451148,
            -2.99168,
            -1.5437941,
            -1.7519186,
            -4.2501687,
            -3.1883749,
            -1.1331969
           ],
           "marker": {
            "color": [
             0.25,
             0,
             0.05263157894736842,
             0,
             0.08333333333333333,
             0,
             0,
             0,
             0,
             0
            ],
            "coloraxis": "coloraxis",
            "size": [
             4,
             4,
             76,
             7,
             12,
             1,
             2,
             6,
             6,
             2
            ],
            "sizemode": "area",
            "sizeref": 0.0146
           },
           "mode": "markers",
           "name": "",
           "showlegend": false,
           "subplot": "mapbox",
           "type": "scattermapbox"
          }
         ],
         "name": "2016"
        },
        {
         "data": [
          {
           "customdata": [
            [
             16,
             0.5
            ],
            [
             11,
             0.2727272727272727
            ],
            [
             146,
             0.13013698630136986
            ],
            [
             11,
             0.09090909090909091
            ],
            [
             15,
             0.13333333333333333
            ],
            [
             20,
             0.15
            ],
            [
             24,
             0.125
            ],
            [
             18,
             0
            ],
            [
             11,
             0
            ],
            [
             7,
             0.14285714285714285
            ]
           ],
           "hovertemplate": "<b>%{hovertext}</b><br><br>year=2017<br>Bank Created=%{customdata[0]}<br>latitude=%{lat}<br>longitude=%{lon}<br>Cessation Rate=%{marker.color}<extra></extra>",
           "hovertext": [
            "Cardiff",
            "Birmingham",
            "London",
            "Manchester",
            "Liverpool",
            "Leeds",
            "Bradford",
            "Glasgow",
            "Edinburgh",
            "Leicester"
           ],
           "lat": [
            51.4816546,
            52.4796992,
            51.5074456,
            53.4794892,
            53.4071991,
            53.7974185,
            53.7944229,
            55.861155,
            55.9533456,
            52.6362
           ],
           "legendgroup": "",
           "lon": [
            -3.1791934,
            -1.9026911,
            -0.1277653,
            -2.2451148,
            -2.99168,
            -1.5437941,
            -1.7519186,
            -4.2501687,
            -3.1883749,
            -1.1331969
           ],
           "marker": {
            "color": [
             0.5,
             0.2727272727272727,
             0.13013698630136986,
             0.09090909090909091,
             0.13333333333333333,
             0.15,
             0.125,
             0,
             0,
             0.14285714285714285
            ],
            "coloraxis": "coloraxis",
            "size": [
             16,
             11,
             146,
             11,
             15,
             20,
             24,
             18,
             11,
             7
            ],
            "sizemode": "area",
            "sizeref": 0.0146
           },
           "mode": "markers",
           "name": "",
           "showlegend": false,
           "subplot": "mapbox",
           "type": "scattermapbox"
          }
         ],
         "name": "2017"
        },
        {
         "data": [
          {
           "customdata": [
            [
             16,
             0.25
            ],
            [
             19,
             0.10526315789473684
            ],
            [
             133,
             0.47368421052631576
            ],
            [
             16,
             0.3125
            ],
            [
             15,
             0.4
            ],
            [
             8,
             0.25
            ],
            [
             12,
             0.25
            ],
            [
             11,
             0.6363636363636364
            ],
            [
             6,
             0.6666666666666666
            ],
            [
             7,
             0.14285714285714285
            ]
           ],
           "hovertemplate": "<b>%{hovertext}</b><br><br>year=2018<br>Bank Created=%{customdata[0]}<br>latitude=%{lat}<br>longitude=%{lon}<br>Cessation Rate=%{marker.color}<extra></extra>",
           "hovertext": [
            "Cardiff",
            "Birmingham",
            "London",
            "Manchester",
            "Liverpool",
            "Leeds",
            "Bradford",
            "Glasgow",
            "Edinburgh",
            "Leicester"
           ],
           "lat": [
            51.4816546,
            52.4796992,
            51.5074456,
            53.4794892,
            53.4071991,
            53.7974185,
            53.7944229,
            55.861155,
            55.9533456,
            52.6362
           ],
           "legendgroup": "",
           "lon": [
            -3.1791934,
            -1.9026911,
            -0.1277653,
            -2.2451148,
            -2.99168,
            -1.5437941,
            -1.7519186,
            -4.2501687,
            -3.1883749,
            -1.1331969
           ],
           "marker": {
            "color": [
             0.25,
             0.10526315789473684,
             0.47368421052631576,
             0.3125,
             0.4,
             0.25,
             0.25,
             0.6363636363636364,
             0.6666666666666666,
             0.14285714285714285
            ],
            "coloraxis": "coloraxis",
            "size": [
             16,
             19,
             133,
             16,
             15,
             8,
             12,
             11,
             6,
             7
            ],
            "sizemode": "area",
            "sizeref": 0.0146
           },
           "mode": "markers",
           "name": "",
           "showlegend": false,
           "subplot": "mapbox",
           "type": "scattermapbox"
          }
         ],
         "name": "2018"
        },
        {
         "data": [
          {
           "customdata": [
            [
             19,
             0.8421052631578947
            ],
            [
             13,
             0.38461538461538464
            ],
            [
             104,
             0.9615384615384616
            ],
            [
             5,
             1.4
            ],
            [
             11,
             0.9090909090909091
            ],
            [
             8,
             0.875
            ],
            [
             14,
             0.5714285714285714
            ],
            [
             15,
             0.4
            ],
            [
             3,
             2
            ],
            [
             13,
             0.38461538461538464
            ]
           ],
           "hovertemplate": "<b>%{hovertext}</b><br><br>year=2019<br>Bank Created=%{customdata[0]}<br>latitude=%{lat}<br>longitude=%{lon}<br>Cessation Rate=%{marker.color}<extra></extra>",
           "hovertext": [
            "Cardiff",
            "Birmingham",
            "London",
            "Manchester",
            "Liverpool",
            "Leeds",
            "Bradford",
            "Glasgow",
            "Edinburgh",
            "Leicester"
           ],
           "lat": [
            51.4816546,
            52.4796992,
            51.5074456,
            53.4794892,
            53.4071991,
            53.7974185,
            53.7944229,
            55.861155,
            55.9533456,
            52.6362
           ],
           "legendgroup": "",
           "lon": [
            -3.1791934,
            -1.9026911,
            -0.1277653,
            -2.2451148,
            -2.99168,
            -1.5437941,
            -1.7519186,
            -4.2501687,
            -3.1883749,
            -1.1331969
           ],
           "marker": {
            "color": [
             0.8421052631578947,
             0.38461538461538464,
             0.9615384615384616,
             1.4,
             0.9090909090909091,
             0.875,
             0.5714285714285714,
             0.4,
             2,
             0.38461538461538464
            ],
            "coloraxis": "coloraxis",
            "size": [
             19,
             13,
             104,
             5,
             11,
             8,
             14,
             15,
             3,
             13
            ],
            "sizemode": "area",
            "sizeref": 0.0146
           },
           "mode": "markers",
           "name": "",
           "showlegend": false,
           "subplot": "mapbox",
           "type": "scattermapbox"
          }
         ],
         "name": "2019"
        },
        {
         "data": [
          {
           "customdata": [
            [
             9,
             1.2222222222222223
            ],
            [
             3,
             3.6666666666666665
            ],
            [
             133,
             0.6015037593984962
            ],
            [
             2,
             2
            ],
            [
             2,
             8.5
            ],
            [
             0,
             0
            ],
            [
             2,
             6
            ],
            [
             3,
             3.3333333333333335
            ],
            [
             0,
             0
            ],
            [
             3,
             2
            ]
           ],
           "hovertemplate": "<b>%{hovertext}</b><br><br>year=2020<br>Bank Created=%{customdata[0]}<br>latitude=%{lat}<br>longitude=%{lon}<br>Cessation Rate=%{marker.color}<extra></extra>",
           "hovertext": [
            "Cardiff",
            "Birmingham",
            "London",
            "Manchester",
            "Liverpool",
            "Leeds",
            "Bradford",
            "Glasgow",
            "Edinburgh",
            "Leicester"
           ],
           "lat": [
            51.4816546,
            52.4796992,
            51.5074456,
            53.4794892,
            53.4071991,
            53.7974185,
            53.7944229,
            55.861155,
            55.9533456,
            52.6362
           ],
           "legendgroup": "",
           "lon": [
            -3.1791934,
            -1.9026911,
            -0.1277653,
            -2.2451148,
            -2.99168,
            -1.5437941,
            -1.7519186,
            -4.2501687,
            -3.1883749,
            -1.1331969
           ],
           "marker": {
            "color": [
             1.2222222222222223,
             3.6666666666666665,
             0.6015037593984962,
             2,
             8.5,
             0,
             6,
             3.3333333333333335,
             0,
             2
            ],
            "coloraxis": "coloraxis",
            "size": [
             9,
             3,
             133,
             2,
             2,
             0,
             2,
             3,
             0,
             3
            ],
            "sizemode": "area",
            "sizeref": 0.0146
           },
           "mode": "markers",
           "name": "",
           "showlegend": false,
           "subplot": "mapbox",
           "type": "scattermapbox"
          }
         ],
         "name": "2020"
        },
        {
         "data": [
          {
           "customdata": [
            [
             6,
             3.6666666666666665
            ],
            [
             0,
             0
            ],
            [
             143,
             0.986013986013986
            ],
            [
             4,
             2.25
            ],
            [
             2,
             9
            ],
            [
             0,
             0
            ],
            [
             2,
             7
            ],
            [
             0,
             0
            ],
            [
             2,
             3
            ],
            [
             2,
             4.5
            ]
           ],
           "hovertemplate": "<b>%{hovertext}</b><br><br>year=2021<br>Bank Created=%{customdata[0]}<br>latitude=%{lat}<br>longitude=%{lon}<br>Cessation Rate=%{marker.color}<extra></extra>",
           "hovertext": [
            "Cardiff",
            "Birmingham",
            "London",
            "Manchester",
            "Liverpool",
            "Leeds",
            "Bradford",
            "Glasgow",
            "Edinburgh",
            "Leicester"
           ],
           "lat": [
            51.4816546,
            52.4796992,
            51.5074456,
            53.4794892,
            53.4071991,
            53.7974185,
            53.7944229,
            55.861155,
            55.9533456,
            52.6362
           ],
           "legendgroup": "",
           "lon": [
            -3.1791934,
            -1.9026911,
            -0.1277653,
            -2.2451148,
            -2.99168,
            -1.5437941,
            -1.7519186,
            -4.2501687,
            -3.1883749,
            -1.1331969
           ],
           "marker": {
            "color": [
             3.6666666666666665,
             0,
             0.986013986013986,
             2.25,
             9,
             0,
             7,
             0,
             3,
             4.5
            ],
            "coloraxis": "coloraxis",
            "size": [
             6,
             0,
             143,
             4,
             2,
             0,
             2,
             0,
             2,
             2
            ],
            "sizemode": "area",
            "sizeref": 0.0146
           },
           "mode": "markers",
           "name": "",
           "showlegend": false,
           "subplot": "mapbox",
           "type": "scattermapbox"
          }
         ],
         "name": "2021"
        },
        {
         "data": [
          {
           "customdata": [
            [
             13,
             0.6923076923076923
            ],
            [
             1,
             6
            ],
            [
             124,
             1.096774193548387
            ],
            [
             2,
             2
            ],
            [
             2,
             2.5
            ],
            [
             0,
             0
            ],
            [
             0,
             0
            ],
            [
             0,
             0
            ],
            [
             0,
             0
            ],
            [
             1,
             5
            ]
           ],
           "hovertemplate": "<b>%{hovertext}</b><br><br>year=2022<br>Bank Created=%{customdata[0]}<br>latitude=%{lat}<br>longitude=%{lon}<br>Cessation Rate=%{marker.color}<extra></extra>",
           "hovertext": [
            "Cardiff",
            "Birmingham",
            "London",
            "Manchester",
            "Liverpool",
            "Leeds",
            "Bradford",
            "Glasgow",
            "Edinburgh",
            "Leicester"
           ],
           "lat": [
            51.4816546,
            52.4796992,
            51.5074456,
            53.4794892,
            53.4071991,
            53.7974185,
            53.7944229,
            55.861155,
            55.9533456,
            52.6362
           ],
           "legendgroup": "",
           "lon": [
            -3.1791934,
            -1.9026911,
            -0.1277653,
            -2.2451148,
            -2.99168,
            -1.5437941,
            -1.7519186,
            -4.2501687,
            -3.1883749,
            -1.1331969
           ],
           "marker": {
            "color": [
             0.6923076923076923,
             6,
             1.096774193548387,
             2,
             2.5,
             0,
             0,
             0,
             0,
             5
            ],
            "coloraxis": "coloraxis",
            "size": [
             13,
             1,
             124,
             2,
             2,
             0,
             0,
             0,
             0,
             1
            ],
            "sizemode": "area",
            "sizeref": 0.0146
           },
           "mode": "markers",
           "name": "",
           "showlegend": false,
           "subplot": "mapbox",
           "type": "scattermapbox"
          }
         ],
         "name": "2022"
        }
       ],
       "layout": {
        "annotations": [
         {
          "align": "left",
          "bgcolor": "white",
          "font": {
           "color": "black",
           "size": 12
          },
          "showarrow": false,
          "text": "The larger the bubble size, the more banks are established in the area;<br> the darker the color, the higher the bank closure rate (= number of closed banks / number of new banks) in the area.",
          "x": 0,
          "xref": "paper",
          "y": -0.1,
          "yref": "paper"
         }
        ],
        "coloraxis": {
         "cmax": 9,
         "cmin": 0,
         "colorbar": {
          "title": {
           "text": "Cessation Rate"
          }
         },
         "colorscale": [
          [
           0,
           "yellow"
          ],
          [
           1,
           "red"
          ]
         ]
        },
        "height": 600,
        "legend": {
         "itemsizing": "constant",
         "tracegroupgap": 0
        },
        "mapbox": {
         "center": {
          "lat": 53.439802969999995,
          "lon": -2.23138978
         },
         "domain": {
          "x": [
           0,
           1
          ],
          "y": [
           0,
           1
          ]
         },
         "style": "open-street-map",
         "zoom": 4.9
        },
        "margin": {
         "b": 0,
         "l": 0,
         "r": 0,
         "t": 50
        },
        "sliders": [
         {
          "active": 0,
          "currentvalue": {
           "prefix": "year="
          },
          "len": 0.9,
          "pad": {
           "b": 10,
           "t": 60
          },
          "steps": [
           {
            "args": [
             [
              "2016"
             ],
             {
              "frame": {
               "duration": 0,
               "redraw": true
              },
              "fromcurrent": true,
              "mode": "immediate",
              "transition": {
               "duration": 0,
               "easing": "linear"
              }
             }
            ],
            "label": "2016",
            "method": "animate"
           },
           {
            "args": [
             [
              "2017"
             ],
             {
              "frame": {
               "duration": 0,
               "redraw": true
              },
              "fromcurrent": true,
              "mode": "immediate",
              "transition": {
               "duration": 0,
               "easing": "linear"
              }
             }
            ],
            "label": "2017",
            "method": "animate"
           },
           {
            "args": [
             [
              "2018"
             ],
             {
              "frame": {
               "duration": 0,
               "redraw": true
              },
              "fromcurrent": true,
              "mode": "immediate",
              "transition": {
               "duration": 0,
               "easing": "linear"
              }
             }
            ],
            "label": "2018",
            "method": "animate"
           },
           {
            "args": [
             [
              "2019"
             ],
             {
              "frame": {
               "duration": 0,
               "redraw": true
              },
              "fromcurrent": true,
              "mode": "immediate",
              "transition": {
               "duration": 0,
               "easing": "linear"
              }
             }
            ],
            "label": "2019",
            "method": "animate"
           },
           {
            "args": [
             [
              "2020"
             ],
             {
              "frame": {
               "duration": 0,
               "redraw": true
              },
              "fromcurrent": true,
              "mode": "immediate",
              "transition": {
               "duration": 0,
               "easing": "linear"
              }
             }
            ],
            "label": "2020",
            "method": "animate"
           },
           {
            "args": [
             [
              "2021"
             ],
             {
              "frame": {
               "duration": 0,
               "redraw": true
              },
              "fromcurrent": true,
              "mode": "immediate",
              "transition": {
               "duration": 0,
               "easing": "linear"
              }
             }
            ],
            "label": "2021",
            "method": "animate"
           },
           {
            "args": [
             [
              "2022"
             ],
             {
              "frame": {
               "duration": 0,
               "redraw": true
              },
              "fromcurrent": true,
              "mode": "immediate",
              "transition": {
               "duration": 0,
               "easing": "linear"
              }
             }
            ],
            "label": "2022",
            "method": "animate"
           }
          ],
          "x": 0.1,
          "xanchor": "left",
          "y": 0,
          "yanchor": "top"
         }
        ],
        "template": {
         "data": {
          "bar": [
           {
            "error_x": {
             "color": "#2a3f5f"
            },
            "error_y": {
             "color": "#2a3f5f"
            },
            "marker": {
             "line": {
              "color": "#E5ECF6",
              "width": 0.5
             },
             "pattern": {
              "fillmode": "overlay",
              "size": 10,
              "solidity": 0.2
             }
            },
            "type": "bar"
           }
          ],
          "barpolar": [
           {
            "marker": {
             "line": {
              "color": "#E5ECF6",
              "width": 0.5
             },
             "pattern": {
              "fillmode": "overlay",
              "size": 10,
              "solidity": 0.2
             }
            },
            "type": "barpolar"
           }
          ],
          "carpet": [
           {
            "aaxis": {
             "endlinecolor": "#2a3f5f",
             "gridcolor": "white",
             "linecolor": "white",
             "minorgridcolor": "white",
             "startlinecolor": "#2a3f5f"
            },
            "baxis": {
             "endlinecolor": "#2a3f5f",
             "gridcolor": "white",
             "linecolor": "white",
             "minorgridcolor": "white",
             "startlinecolor": "#2a3f5f"
            },
            "type": "carpet"
           }
          ],
          "choropleth": [
           {
            "colorbar": {
             "outlinewidth": 0,
             "ticks": ""
            },
            "type": "choropleth"
           }
          ],
          "contour": [
           {
            "colorbar": {
             "outlinewidth": 0,
             "ticks": ""
            },
            "colorscale": [
             [
              0,
              "#0d0887"
             ],
             [
              0.1111111111111111,
              "#46039f"
             ],
             [
              0.2222222222222222,
              "#7201a8"
             ],
             [
              0.3333333333333333,
              "#9c179e"
             ],
             [
              0.4444444444444444,
              "#bd3786"
             ],
             [
              0.5555555555555556,
              "#d8576b"
             ],
             [
              0.6666666666666666,
              "#ed7953"
             ],
             [
              0.7777777777777778,
              "#fb9f3a"
             ],
             [
              0.8888888888888888,
              "#fdca26"
             ],
             [
              1,
              "#f0f921"
             ]
            ],
            "type": "contour"
           }
          ],
          "contourcarpet": [
           {
            "colorbar": {
             "outlinewidth": 0,
             "ticks": ""
            },
            "type": "contourcarpet"
           }
          ],
          "heatmap": [
           {
            "colorbar": {
             "outlinewidth": 0,
             "ticks": ""
            },
            "colorscale": [
             [
              0,
              "#0d0887"
             ],
             [
              0.1111111111111111,
              "#46039f"
             ],
             [
              0.2222222222222222,
              "#7201a8"
             ],
             [
              0.3333333333333333,
              "#9c179e"
             ],
             [
              0.4444444444444444,
              "#bd3786"
             ],
             [
              0.5555555555555556,
              "#d8576b"
             ],
             [
              0.6666666666666666,
              "#ed7953"
             ],
             [
              0.7777777777777778,
              "#fb9f3a"
             ],
             [
              0.8888888888888888,
              "#fdca26"
             ],
             [
              1,
              "#f0f921"
             ]
            ],
            "type": "heatmap"
           }
          ],
          "heatmapgl": [
           {
            "colorbar": {
             "outlinewidth": 0,
             "ticks": ""
            },
            "colorscale": [
             [
              0,
              "#0d0887"
             ],
             [
              0.1111111111111111,
              "#46039f"
             ],
             [
              0.2222222222222222,
              "#7201a8"
             ],
             [
              0.3333333333333333,
              "#9c179e"
             ],
             [
              0.4444444444444444,
              "#bd3786"
             ],
             [
              0.5555555555555556,
              "#d8576b"
             ],
             [
              0.6666666666666666,
              "#ed7953"
             ],
             [
              0.7777777777777778,
              "#fb9f3a"
             ],
             [
              0.8888888888888888,
              "#fdca26"
             ],
             [
              1,
              "#f0f921"
             ]
            ],
            "type": "heatmapgl"
           }
          ],
          "histogram": [
           {
            "marker": {
             "pattern": {
              "fillmode": "overlay",
              "size": 10,
              "solidity": 0.2
             }
            },
            "type": "histogram"
           }
          ],
          "histogram2d": [
           {
            "colorbar": {
             "outlinewidth": 0,
             "ticks": ""
            },
            "colorscale": [
             [
              0,
              "#0d0887"
             ],
             [
              0.1111111111111111,
              "#46039f"
             ],
             [
              0.2222222222222222,
              "#7201a8"
             ],
             [
              0.3333333333333333,
              "#9c179e"
             ],
             [
              0.4444444444444444,
              "#bd3786"
             ],
             [
              0.5555555555555556,
              "#d8576b"
             ],
             [
              0.6666666666666666,
              "#ed7953"
             ],
             [
              0.7777777777777778,
              "#fb9f3a"
             ],
             [
              0.8888888888888888,
              "#fdca26"
             ],
             [
              1,
              "#f0f921"
             ]
            ],
            "type": "histogram2d"
           }
          ],
          "histogram2dcontour": [
           {
            "colorbar": {
             "outlinewidth": 0,
             "ticks": ""
            },
            "colorscale": [
             [
              0,
              "#0d0887"
             ],
             [
              0.1111111111111111,
              "#46039f"
             ],
             [
              0.2222222222222222,
              "#7201a8"
             ],
             [
              0.3333333333333333,
              "#9c179e"
             ],
             [
              0.4444444444444444,
              "#bd3786"
             ],
             [
              0.5555555555555556,
              "#d8576b"
             ],
             [
              0.6666666666666666,
              "#ed7953"
             ],
             [
              0.7777777777777778,
              "#fb9f3a"
             ],
             [
              0.8888888888888888,
              "#fdca26"
             ],
             [
              1,
              "#f0f921"
             ]
            ],
            "type": "histogram2dcontour"
           }
          ],
          "mesh3d": [
           {
            "colorbar": {
             "outlinewidth": 0,
             "ticks": ""
            },
            "type": "mesh3d"
           }
          ],
          "parcoords": [
           {
            "line": {
             "colorbar": {
              "outlinewidth": 0,
              "ticks": ""
             }
            },
            "type": "parcoords"
           }
          ],
          "pie": [
           {
            "automargin": true,
            "type": "pie"
           }
          ],
          "scatter": [
           {
            "fillpattern": {
             "fillmode": "overlay",
             "size": 10,
             "solidity": 0.2
            },
            "type": "scatter"
           }
          ],
          "scatter3d": [
           {
            "line": {
             "colorbar": {
              "outlinewidth": 0,
              "ticks": ""
             }
            },
            "marker": {
             "colorbar": {
              "outlinewidth": 0,
              "ticks": ""
             }
            },
            "type": "scatter3d"
           }
          ],
          "scattercarpet": [
           {
            "marker": {
             "colorbar": {
              "outlinewidth": 0,
              "ticks": ""
             }
            },
            "type": "scattercarpet"
           }
          ],
          "scattergeo": [
           {
            "marker": {
             "colorbar": {
              "outlinewidth": 0,
              "ticks": ""
             }
            },
            "type": "scattergeo"
           }
          ],
          "scattergl": [
           {
            "marker": {
             "colorbar": {
              "outlinewidth": 0,
              "ticks": ""
             }
            },
            "type": "scattergl"
           }
          ],
          "scattermapbox": [
           {
            "marker": {
             "colorbar": {
              "outlinewidth": 0,
              "ticks": ""
             }
            },
            "type": "scattermapbox"
           }
          ],
          "scatterpolar": [
           {
            "marker": {
             "colorbar": {
              "outlinewidth": 0,
              "ticks": ""
             }
            },
            "type": "scatterpolar"
           }
          ],
          "scatterpolargl": [
           {
            "marker": {
             "colorbar": {
              "outlinewidth": 0,
              "ticks": ""
             }
            },
            "type": "scatterpolargl"
           }
          ],
          "scatterternary": [
           {
            "marker": {
             "colorbar": {
              "outlinewidth": 0,
              "ticks": ""
             }
            },
            "type": "scatterternary"
           }
          ],
          "surface": [
           {
            "colorbar": {
             "outlinewidth": 0,
             "ticks": ""
            },
            "colorscale": [
             [
              0,
              "#0d0887"
             ],
             [
              0.1111111111111111,
              "#46039f"
             ],
             [
              0.2222222222222222,
              "#7201a8"
             ],
             [
              0.3333333333333333,
              "#9c179e"
             ],
             [
              0.4444444444444444,
              "#bd3786"
             ],
             [
              0.5555555555555556,
              "#d8576b"
             ],
             [
              0.6666666666666666,
              "#ed7953"
             ],
             [
              0.7777777777777778,
              "#fb9f3a"
             ],
             [
              0.8888888888888888,
              "#fdca26"
             ],
             [
              1,
              "#f0f921"
             ]
            ],
            "type": "surface"
           }
          ],
          "table": [
           {
            "cells": {
             "fill": {
              "color": "#EBF0F8"
             },
             "line": {
              "color": "white"
             }
            },
            "header": {
             "fill": {
              "color": "#C8D4E3"
             },
             "line": {
              "color": "white"
             }
            },
            "type": "table"
           }
          ]
         },
         "layout": {
          "annotationdefaults": {
           "arrowcolor": "#2a3f5f",
           "arrowhead": 0,
           "arrowwidth": 1
          },
          "autotypenumbers": "strict",
          "coloraxis": {
           "colorbar": {
            "outlinewidth": 0,
            "ticks": ""
           }
          },
          "colorscale": {
           "diverging": [
            [
             0,
             "#8e0152"
            ],
            [
             0.1,
             "#c51b7d"
            ],
            [
             0.2,
             "#de77ae"
            ],
            [
             0.3,
             "#f1b6da"
            ],
            [
             0.4,
             "#fde0ef"
            ],
            [
             0.5,
             "#f7f7f7"
            ],
            [
             0.6,
             "#e6f5d0"
            ],
            [
             0.7,
             "#b8e186"
            ],
            [
             0.8,
             "#7fbc41"
            ],
            [
             0.9,
             "#4d9221"
            ],
            [
             1,
             "#276419"
            ]
           ],
           "sequential": [
            [
             0,
             "#0d0887"
            ],
            [
             0.1111111111111111,
             "#46039f"
            ],
            [
             0.2222222222222222,
             "#7201a8"
            ],
            [
             0.3333333333333333,
             "#9c179e"
            ],
            [
             0.4444444444444444,
             "#bd3786"
            ],
            [
             0.5555555555555556,
             "#d8576b"
            ],
            [
             0.6666666666666666,
             "#ed7953"
            ],
            [
             0.7777777777777778,
             "#fb9f3a"
            ],
            [
             0.8888888888888888,
             "#fdca26"
            ],
            [
             1,
             "#f0f921"
            ]
           ],
           "sequentialminus": [
            [
             0,
             "#0d0887"
            ],
            [
             0.1111111111111111,
             "#46039f"
            ],
            [
             0.2222222222222222,
             "#7201a8"
            ],
            [
             0.3333333333333333,
             "#9c179e"
            ],
            [
             0.4444444444444444,
             "#bd3786"
            ],
            [
             0.5555555555555556,
             "#d8576b"
            ],
            [
             0.6666666666666666,
             "#ed7953"
            ],
            [
             0.7777777777777778,
             "#fb9f3a"
            ],
            [
             0.8888888888888888,
             "#fdca26"
            ],
            [
             1,
             "#f0f921"
            ]
           ]
          },
          "colorway": [
           "#636efa",
           "#EF553B",
           "#00cc96",
           "#ab63fa",
           "#FFA15A",
           "#19d3f3",
           "#FF6692",
           "#B6E880",
           "#FF97FF",
           "#FECB52"
          ],
          "font": {
           "color": "#2a3f5f"
          },
          "geo": {
           "bgcolor": "white",
           "lakecolor": "white",
           "landcolor": "#E5ECF6",
           "showlakes": true,
           "showland": true,
           "subunitcolor": "white"
          },
          "hoverlabel": {
           "align": "left"
          },
          "hovermode": "closest",
          "mapbox": {
           "style": "light"
          },
          "paper_bgcolor": "white",
          "plot_bgcolor": "#E5ECF6",
          "polar": {
           "angularaxis": {
            "gridcolor": "white",
            "linecolor": "white",
            "ticks": ""
           },
           "bgcolor": "#E5ECF6",
           "radialaxis": {
            "gridcolor": "white",
            "linecolor": "white",
            "ticks": ""
           }
          },
          "scene": {
           "xaxis": {
            "backgroundcolor": "#E5ECF6",
            "gridcolor": "white",
            "gridwidth": 2,
            "linecolor": "white",
            "showbackground": true,
            "ticks": "",
            "zerolinecolor": "white"
           },
           "yaxis": {
            "backgroundcolor": "#E5ECF6",
            "gridcolor": "white",
            "gridwidth": 2,
            "linecolor": "white",
            "showbackground": true,
            "ticks": "",
            "zerolinecolor": "white"
           },
           "zaxis": {
            "backgroundcolor": "#E5ECF6",
            "gridcolor": "white",
            "gridwidth": 2,
            "linecolor": "white",
            "showbackground": true,
            "ticks": "",
            "zerolinecolor": "white"
           }
          },
          "shapedefaults": {
           "line": {
            "color": "#2a3f5f"
           }
          },
          "ternary": {
           "aaxis": {
            "gridcolor": "white",
            "linecolor": "white",
            "ticks": ""
           },
           "baxis": {
            "gridcolor": "white",
            "linecolor": "white",
            "ticks": ""
           },
           "bgcolor": "#E5ECF6",
           "caxis": {
            "gridcolor": "white",
            "linecolor": "white",
            "ticks": ""
           }
          },
          "title": {
           "x": 0.05
          },
          "xaxis": {
           "automargin": true,
           "gridcolor": "white",
           "linecolor": "white",
           "ticks": "",
           "title": {
            "standoff": 15
           },
           "zerolinecolor": "white",
           "zerolinewidth": 2
          },
          "yaxis": {
           "automargin": true,
           "gridcolor": "white",
           "linecolor": "white",
           "ticks": "",
           "title": {
            "standoff": 15
           },
           "zerolinecolor": "white",
           "zerolinewidth": 2
          }
         }
        },
        "title": {
         "text": "Visualisation of New Bank Creation and Bank Cessation Rate<br> in the UK from 2016 to 2022"
        },
        "updatemenus": [
         {
          "buttons": [
           {
            "args": [
             null,
             {
              "frame": {
               "duration": 500,
               "redraw": true
              },
              "fromcurrent": true,
              "mode": "immediate",
              "transition": {
               "duration": 500,
               "easing": "linear"
              }
             }
            ],
            "label": "&#9654;",
            "method": "animate"
           },
           {
            "args": [
             [
              null
             ],
             {
              "frame": {
               "duration": 0,
               "redraw": true
              },
              "fromcurrent": true,
              "mode": "immediate",
              "transition": {
               "duration": 0,
               "easing": "linear"
              }
             }
            ],
            "label": "&#9724;",
            "method": "animate"
           }
          ],
          "direction": "left",
          "pad": {
           "r": 10,
           "t": 70
          },
          "showactive": false,
          "type": "buttons",
          "x": 0.1,
          "xanchor": "right",
          "y": 0,
          "yanchor": "top"
         }
        ]
       }
      }
     },
     "metadata": {},
     "output_type": "display_data"
    }
   ],
   "source": [
    "import plotly.express as px\n",
    "import pandas as pd\n",
    "\n",
    "# 假设您已经加载了带有经纬度的filtered_df\n",
    "# filtered_df = pd.read_csv('path_to_your_updated_csv_file.csv')\n",
    "\n",
    "# 准备数据，将年份数据合并到一列\n",
    "data = []\n",
    "for year in range(2016, 2023):\n",
    "    temp_df = filtered_df[\n",
    "        [\n",
    "            \"locality\",\n",
    "            \"latitude\",\n",
    "            \"longitude\",\n",
    "            f\"{year}_created\",\n",
    "            f\"{year}_cessation_rate\",\n",
    "        ]\n",
    "    ]\n",
    "    temp_df[\"year\"] = year\n",
    "    temp_df = temp_df.rename(\n",
    "        columns={\n",
    "            f\"{year}_created\": \"Bank Created\",\n",
    "            f\"{year}_cessation_rate\": \"Cessation Rate\",\n",
    "        }\n",
    "    )\n",
    "    data.append(temp_df)\n",
    "map_data = pd.concat(data)\n",
    "\n",
    "# 确定cessation_rate的最小值和最大值\n",
    "min_cessation_rate = map_data[\"Cessation Rate\"].min()\n",
    "max_cessation_rate = map_data[\"Cessation Rate\"].max()\n",
    "\n",
    "custom_color_scale = [[0, \"yellow\"], [1, \"red\"]]  # 浅黄色  # 深红色\n",
    "\n",
    "# 创建气泡图\n",
    "fig = px.scatter_mapbox(\n",
    "    map_data,\n",
    "    lat=\"latitude\",\n",
    "    lon=\"longitude\",\n",
    "    hover_name=\"locality\",\n",
    "    hover_data=[\"Bank Created\", \"Cessation Rate\"],\n",
    "    color=\"Cessation Rate\",\n",
    "    size=\"Bank Created\",\n",
    "    animation_frame=\"year\",\n",
    "    color_continuous_scale=custom_color_scale,\n",
    "    range_color=[min_cessation_rate, max_cessation_rate],  # 设置颜色比例尺范围\n",
    "    size_max=100,\n",
    "    zoom=4.9,\n",
    "    height=600,\n",
    ")\n",
    "\n",
    "# 设置地图样式\n",
    "fig.update_layout(\n",
    "    mapbox_style=\"open-street-map\",\n",
    "    margin={\"r\": 0, \"t\": 50, \"l\": 0, \"b\": 0},\n",
    "    title=\"Visualisation of New Bank Creation and Bank Cessation Rate<br> in the UK from 2016 to 2022\",\n",
    ")\n",
    "\n",
    "fig.update_traces(marker=dict(opacity=0.80))\n",
    "# 添加注释\n",
    "fig.add_annotation(\n",
    "    text=\"The larger the bubble size, the more banks are established in the area;<br> the darker the color, the higher the bank closure rate (= number of closed banks / number of new banks) in the area.\",\n",
    "    align=\"left\",\n",
    "    showarrow=False,\n",
    "    xref=\"paper\",\n",
    "    yref=\"paper\",\n",
    "    x=0,\n",
    "    y=-0.1,\n",
    "    bgcolor=\"white\",\n",
    "    font=dict(size=12, color=\"black\"),  # 调整为您希望的大小\n",
    ")\n",
    "\n",
    "\n",
    "# 显示图表\n",
    "fig.show()"
   ]
  },
  {
   "cell_type": "markdown",
   "metadata": {},
   "source": [
    "### Mini-report\n",
    "\n",
    "As a global financial centre, the UK, especially London—the 'City of Finance,' is renowned for its banking services. This led to my business question: Which UK city is the most suitable for establishing a new bank?\n",
    "\n",
    "To investigate this question, I utilized the Advanced search feature of the Companies House API to search for all businesses established since 2015 with the SIC code 64191 (the SIC code for Banks). This yielded precise search results, which were used to create an interactive, year-by-year scatter bubble plot map.\n",
    "\n",
    "The visualization shows that, before 2020, major UK cities including Cardiff and Leeds maintained a high number of new bank establishments and a low rate of bank closures each year, reflecting a relative prosperity in the banking sector. However, possibly influenced by Covid-19 in 2020, all cities except London experienced a reduction in bubble size and a darkening of their colour, indicating a significant decrease in new bank establishments and a surge in bank closure rates. Particularly in Edinburgh, there were no new banks established. However, London maintained a relatively low bank closure rate and even saw an increase in new bank establishments. This might be attributed to the scale effect of London's banking industry, offering a kind of 'strength in numbers' for new banks during market downturns. In the subsequent years of 2021-2022, the bubbles representing all cities were noticeably darker and smaller than those before 2020, representing the severe situation in the banking sector. Yet, London continued to display its vitality as a financial hub with its larger and lighter-coloured bubble. Undoubtedly, London is the most suitable city in the UK for establishing a new bank.\n",
    "\n",
    "\n"
   ]
  }
 ],
 "metadata": {
  "kernelspec": {
   "display_name": "Python 3",
   "language": "python",
   "name": "python3"
  },
  "language_info": {
   "codemirror_mode": {
    "name": "ipython",
    "version": 3
   },
   "file_extension": ".py",
   "mimetype": "text/x-python",
   "name": "python",
   "nbconvert_exporter": "python",
   "pygments_lexer": "ipython3",
   "version": "3.11.2"
  }
 },
 "nbformat": 4,
 "nbformat_minor": 2
}
