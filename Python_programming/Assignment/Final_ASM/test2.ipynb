{
 "cells": [
  {
   "cell_type": "code",
   "execution_count": 1,
   "metadata": {},
   "outputs": [],
   "source": [
    "import requests\n",
    "import pandas as pd\n",
    "import pprint as pp"
   ]
  },
  {
   "cell_type": "code",
   "execution_count": 2,
   "metadata": {},
   "outputs": [],
   "source": [
    "def call_api_with(url_extension):\n",
    "    your_company_house_api_key = \"9ca44c28-e54d-4c26-9bf7-6c766c53c054\"\n",
    "\n",
    "    login_headers = {\"Authorization\": your_company_house_api_key}\n",
    "    url = f\"https://api.companieshouse.gov.uk/{url_extension}\"\n",
    "    # above: could be eg. https://api.companieshouse.gov.uk/search/companies?q=shop&items_per_page=1\n",
    "    print(f\"requesting: {url}\")\n",
    "    # above, optional: printing, so that you see visually how many calls you are making\n",
    "    res = requests.get(url, headers=login_headers)  # , verify=False)\n",
    "    return res.json()\n",
    "\n",
    "def all_officers_in_company(company_number):\n",
    "    url = f\"company/{company_number}/officers\"\n",
    "\n",
    "    return call_api_with(url).get(\"items\", [])\n",
    "\n"
   ]
  },
  {
   "cell_type": "code",
   "execution_count": null,
   "metadata": {},
   "outputs": [],
   "source": [
    "top10FintechCompanies = pd.read_csv(\n",
    "    \"https://raw.githubusercontent.com/REDhawC/EDI_BUSANA/master/Python_programming/Assignment/Final_ASM/TOP10_Fintech_Companies.csv\"\n",
    ")\n",
    "\n",
    "officers = all_officers_in_company(details[0][\"company_number\"])\n",
    "pd.DataFrame(officers)"
   ]
  },
  {
   "cell_type": "code",
   "execution_count": 3,
   "metadata": {},
   "outputs": [
    {
     "name": "stdout",
     "output_type": "stream",
     "text": [
      "2760\n"
     ]
    }
   ],
   "source": [
    "results = results_original[\"items\"]\n",
    "\n",
    "print(len(results))\n",
    "\n",
    "locations = []"
   ]
  },
  {
   "cell_type": "markdown",
   "metadata": {},
   "source": [
    "### Mini-report\n",
    "\n",
    "As a global financial centre, the UK, especially London—the 'City of Finance,' is renowned for its banking services. This led to my business question: Which UK city is the most suitable for establishing a new bank?\n",
    "\n",
    "To investigate this question, I utilized the Advanced search feature of the Companies House API to search for all businesses established since 2015 with the SIC code 64191 (the SIC code for Banks). This yielded precise search results, which were used to create an interactive, year-by-year scatter bubble plot map.\n",
    "\n",
    "The visualization shows that, before 2020, major UK cities including Cardiff and Leeds maintained a high number of new bank establishments and a low rate of bank closures each year, reflecting a relative prosperity in the banking sector. However, possibly influenced by Covid-19 in 2020, all cities except London experienced a reduction in bubble size and a darkening of their colour, indicating a significant decrease in new bank establishments and a surge in bank closure rates. Particularly in Edinburgh, there were no new banks established. However, London maintained a relatively low bank closure rate and even saw an increase in new bank establishments. This might be attributed to the scale effect of London's banking industry, offering a kind of 'strength in numbers' for new banks during market downturns. In the subsequent years of 2021-2022, the bubbles representing all cities were noticeably darker and smaller than those before 2020, representing the severe situation in the banking sector. Yet, London continued to display its vitality as a financial hub with its larger and lighter-coloured bubble. Undoubtedly, London is the most suitable city in the UK for establishing a new bank.\n",
    "\n",
    "\n"
   ]
  }
 ],
 "metadata": {
  "kernelspec": {
   "display_name": "Python 3",
   "language": "python",
   "name": "python3"
  },
  "language_info": {
   "codemirror_mode": {
    "name": "ipython",
    "version": 3
   },
   "file_extension": ".py",
   "mimetype": "text/x-python",
   "name": "python",
   "nbconvert_exporter": "python",
   "pygments_lexer": "ipython3",
   "version": "3.11.2"
  }
 },
 "nbformat": 4,
 "nbformat_minor": 2
}
