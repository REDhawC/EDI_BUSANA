{
 "cells": [
  {
   "cell_type": "code",
   "execution_count": 1,
   "metadata": {},
   "outputs": [
    {
     "name": "stdout",
     "output_type": "stream",
     "text": [
      "Twitter ranks worst in climate change misinformation report\n",
      "Rishi Sunak urged to stop attacking Climate Change Committee\n",
      "Starbucks develops coffee seeds that can withstand climate change effects\n",
      "Devastating Hawaii fires made ‘much more dangerous’ by climate change\n",
      "I only read about climate change now because I have to | First Dog on the Moon\n",
      "Longer heatwaves driven by ‘turbo-charged’ climate change, say scientists\n",
      "‘It’s not climate change, it’s everything change’: sci-fi authors take on the global crisis\n",
      "Experts say climate change likely to increase US malaria cases\n",
      "‘Climate change is out of control’, UN says | First Thing\n",
      "How to protest climate change nicely, with Brenda the Civil Disobedience Penguin | First Dog on the Moon\n"
     ]
    }
   ],
   "source": [
    "import requests\n",
    "\n",
    "# Define the endpoint and parameters\n",
    "url = \"https://content.guardianapis.com/search\"\n",
    "params = {\n",
    "    \"q\": \"climate change\",\n",
    "    \"api-key\": \"db8a118a-c02b-447d-a224-3b598624becc\",\n",
    "    \"from-date\": \"2023-01-01\",\n",
    "    \"to-date\": \"2023-10-20\",\n",
    "}\n",
    "\n",
    "# Make the request\n",
    "response = requests.get(url, params=params)\n",
    "\n",
    "# Check for a valid response\n",
    "if response.status_code == 200:\n",
    "    # Parse the JSON response\n",
    "    data = response.json()\n",
    "    # Iterate through the results and print the webTitle of each article\n",
    "    for result in data[\"response\"][\"results\"]:\n",
    "        print(result[\"webTitle\"])\n",
    "else:\n",
    "    print(f\"Failed to retrieve data: {response.status_code}\")"
   ]
  }
 ],
 "metadata": {
  "kernelspec": {
   "display_name": "Python 3",
   "language": "python",
   "name": "python3"
  },
  "language_info": {
   "codemirror_mode": {
    "name": "ipython",
    "version": 3
   },
   "file_extension": ".py",
   "mimetype": "text/x-python",
   "name": "python",
   "nbconvert_exporter": "python",
   "pygments_lexer": "ipython3",
   "version": "3.11.2"
  }
 },
 "nbformat": 4,
 "nbformat_minor": 2
}
