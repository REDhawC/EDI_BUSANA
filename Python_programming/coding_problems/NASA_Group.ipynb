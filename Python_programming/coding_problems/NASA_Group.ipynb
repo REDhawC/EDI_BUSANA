{
 "cells": [
  {
   "cell_type": "code",
   "execution_count": 7,
   "id": "e5a92081",
   "metadata": {},
   "outputs": [],
   "source": [
    "import pprint as pp\n",
    "import requests\n",
    "import pandas as pd\n",
    "import requests"
   ]
  },
  {
   "cell_type": "code",
   "execution_count": 8,
   "metadata": {},
   "outputs": [],
   "source": [
    "# import glob\n",
    "# import pandas as pd\n",
    "\n",
    "# # 设置您的文件夹路径\n",
    "# folder_path = \"../coding_problems/rainfall\"\n",
    "\n",
    "# # 使用glob模块来获取文件夹下所有的csv文件\n",
    "# csv_files = glob.glob(folder_path + \"/*.csv\")\n",
    "\n",
    "# # 创建一个空的列表用来存储所有数据\n",
    "# all_data = []\n",
    "\n",
    "# # 循环遍历所有CSV文件\n",
    "# for filename in csv_files:\n",
    "#     # 读取每个CSV文件\n",
    "#     # 找到'avgtmp.csv'之前的部分\n",
    "#     end_index = filename.rfind(\"rain.csv\")\n",
    "\n",
    "#     # 找到最后一个'\\'的位置\n",
    "#     start_index = filename.rfind(\"\\\\\", 0, end_index)\n",
    "\n",
    "#     # 截取两者之间的字符串作为newName\n",
    "#     newName = filename[start_index + 1 : end_index]\n",
    "#     df = pd.read_csv(filename, skiprows=4)\n",
    "#     # 将\"Date\"列转换为日期格式，并设置为索引\n",
    "#     df[\"Date\"] = pd.to_datetime(df[\"Date\"], format=\"%Y%m\")\n",
    "#     df.set_index(\"Date\", inplace=True)\n",
    "\n",
    "#     # 按季度重新采样数据，并计算每个季度的平均值\n",
    "#     df_resampled = df.resample(\"Q\").mean()\n",
    "\n",
    "#     # 创建一个新的DataFrame，其中每个季度的平均值是一个新的列\n",
    "#     row = pd.DataFrame(\n",
    "#         {newName: df_resampled[\"Value\"].values},\n",
    "#         index=df_resampled.index.to_period(\"Q\").astype(str),\n",
    "#     )\n",
    "\n",
    "#     # 将读取的数据追加到all_data列表\n",
    "#     all_data.append(row.T)\n",
    "\n",
    "# # 使用concat函数合并所有的数据\n",
    "# all_data = pd.concat(all_data, axis=0)\n",
    "\n",
    "# # 修改第一列的列名为'State'\n",
    "# all_data.rename_axis(\"State\", axis=0, inplace=True)\n",
    "# all_data.rename_axis(None, axis=1, inplace=True)\n",
    "# # 重置索引并将新列命名为'State'\n",
    "# all_data.reset_index(inplace=True)\n",
    "# all_data.rename(columns={\"index\": \"State\"}, inplace=True)\n",
    "\n",
    "\n",
    "# # all_data现在包含了所有CSV文件的数据\n",
    "# all_data[\"State\"]"
   ]
  },
  {
   "cell_type": "code",
   "execution_count": 9,
   "metadata": {},
   "outputs": [],
   "source": [
    "# all_data.to_csv(\"PrecipitationByStates.csv\", index=False)\n",
    "# all_data.to_csv(\"TemperatureByStates.csv\", index=False)"
   ]
  },
  {
   "cell_type": "code",
   "execution_count": 10,
   "id": "b5a50b51",
   "metadata": {},
   "outputs": [],
   "source": [
    "def get_latest_events():\n",
    "    try:\n",
    "        response = requests.get(\"https://eonet.gsfc.nasa.gov/api/v3/events\")\n",
    "        if response.status_code == 200:\n",
    "            return response.json()\n",
    "        else:\n",
    "            print(f\"Error: {response.status_code}\")\n",
    "            return None\n",
    "    except Exception as e:\n",
    "        print(f\"An error occurred: {e}\")\n",
    "        return None\n",
    "\n",
    "\n",
    "def preprocess_wildfires_df(events):\n",
    "    events = get_latest_events()\n",
    "    if events:\n",
    "        # Extract relevant information from each event and add it to a list\n",
    "        data = []\n",
    "        for event in events[\"events\"]:\n",
    "            data.append(\n",
    "                {\n",
    "                    \"Event\": event[\"title\"],\n",
    "                    \"Categories\": event[\"categories\"][0][\"title\"]\n",
    "                    if event[\"categories\"]\n",
    "                    else None,\n",
    "                    \"Date\": event[\"geometry\"][0][\"date\"] if event[\"geometry\"] else None,\n",
    "                    \"Location\": event[\"geometry\"][0][\"coordinates\"]\n",
    "                    if event[\"geometry\"]\n",
    "                    else None,\n",
    "                }\n",
    "            )\n",
    "        # Convert the list of dictionaries to a DataFrame\n",
    "        df = pd.DataFrame(data)\n",
    "        df[\"Country\"] = df[\"Event\"].apply(\n",
    "            lambda event: \"United States\"\n",
    "            if \"States\" in event\n",
    "            else event.split(\",\")[-1].strip()\n",
    "        )\n",
    "        df[\"Date\"] = pd.to_datetime(df[\"Date\"])\n",
    "        df[\"Year\"] = df[\"Date\"].dt.year\n",
    "        df[\"Season\"] = df[\"Date\"].dt.to_period(\"Q\").astype(str)\n",
    "\n",
    "        df[[\"Longitude\", \"Latitude\"]] = pd.DataFrame(\n",
    "            df[\"Location\"].tolist(), index=df.index\n",
    "        )\n",
    "\n",
    "    df = df[(df[\"Country\"] == \"United States\") & (df[\"Categories\"] == \"Wildfires\")]\n",
    "\n",
    "    return df"
   ]
  },
  {
   "cell_type": "code",
   "execution_count": 11,
   "metadata": {},
   "outputs": [
    {
     "name": "stderr",
     "output_type": "stream",
     "text": [
      "C:\\Users\\redhawc\\AppData\\Local\\Temp\\ipykernel_25332\\3915679507.py:41: UserWarning:\n",
      "\n",
      "Converting to PeriodArray/Index representation will drop timezone information.\n",
      "\n"
     ]
    }
   ],
   "source": [
    "events = get_latest_events()\n",
    "df = preprocess_wildfires_df(events)"
   ]
  },
  {
   "cell_type": "code",
   "execution_count": 12,
   "metadata": {},
   "outputs": [
    {
     "data": {
      "text/html": [
       "<div>\n",
       "<style scoped>\n",
       "    .dataframe tbody tr th:only-of-type {\n",
       "        vertical-align: middle;\n",
       "    }\n",
       "\n",
       "    .dataframe tbody tr th {\n",
       "        vertical-align: top;\n",
       "    }\n",
       "\n",
       "    .dataframe thead th {\n",
       "        text-align: right;\n",
       "    }\n",
       "</style>\n",
       "<table border=\"1\" class=\"dataframe\">\n",
       "  <thead>\n",
       "    <tr style=\"text-align: right;\">\n",
       "      <th></th>\n",
       "      <th>Event</th>\n",
       "      <th>Categories</th>\n",
       "      <th>Date</th>\n",
       "      <th>Location</th>\n",
       "      <th>Country</th>\n",
       "      <th>Year</th>\n",
       "      <th>Season</th>\n",
       "      <th>Longitude</th>\n",
       "      <th>Latitude</th>\n",
       "    </tr>\n",
       "  </thead>\n",
       "  <tbody>\n",
       "    <tr>\n",
       "      <th>22</th>\n",
       "      <td>Major Fire, Ocala National Forest, Florida, Un...</td>\n",
       "      <td>Wildfires</td>\n",
       "      <td>2023-04-27 14:15:00+00:00</td>\n",
       "      <td>[-81.688889, 29.229722]</td>\n",
       "      <td>United States</td>\n",
       "      <td>2023</td>\n",
       "      <td>2023Q2</td>\n",
       "      <td>-81.688889</td>\n",
       "      <td>29.229722</td>\n",
       "    </tr>\n",
       "    <tr>\n",
       "      <th>55</th>\n",
       "      <td>Garceau Fire, W of Polson, Montana, United States</td>\n",
       "      <td>Wildfires</td>\n",
       "      <td>2022-08-16 00:00:00+00:00</td>\n",
       "      <td>[-114.489, 47.694]</td>\n",
       "      <td>United States</td>\n",
       "      <td>2022</td>\n",
       "      <td>2022Q3</td>\n",
       "      <td>-114.489000</td>\n",
       "      <td>47.694000</td>\n",
       "    </tr>\n",
       "    <tr>\n",
       "      <th>105</th>\n",
       "      <td>Wildfire - N of Merced, California - United St...</td>\n",
       "      <td>Wildfires</td>\n",
       "      <td>2022-02-16 20:44:00+00:00</td>\n",
       "      <td>[-120.533005422, 37.543469882]</td>\n",
       "      <td>United States</td>\n",
       "      <td>2022</td>\n",
       "      <td>2022Q1</td>\n",
       "      <td>-120.533005</td>\n",
       "      <td>37.543470</td>\n",
       "    </tr>\n",
       "    <tr>\n",
       "      <th>106</th>\n",
       "      <td>Wildfire - E of Mesa, Arizona - United States</td>\n",
       "      <td>Wildfires</td>\n",
       "      <td>2022-02-13 20:40:00+00:00</td>\n",
       "      <td>[-110.862229905, 33.417091555]</td>\n",
       "      <td>United States</td>\n",
       "      <td>2022</td>\n",
       "      <td>2022Q1</td>\n",
       "      <td>-110.862230</td>\n",
       "      <td>33.417092</td>\n",
       "    </tr>\n",
       "    <tr>\n",
       "      <th>111</th>\n",
       "      <td>Wildfire - E of Mesa, Arizona - United States</td>\n",
       "      <td>Wildfires</td>\n",
       "      <td>2022-01-28 08:38:00+00:00</td>\n",
       "      <td>[-110.860071422, 33.416654251]</td>\n",
       "      <td>United States</td>\n",
       "      <td>2022</td>\n",
       "      <td>2022Q1</td>\n",
       "      <td>-110.860071</td>\n",
       "      <td>33.416654</td>\n",
       "    </tr>\n",
       "  </tbody>\n",
       "</table>\n",
       "</div>"
      ],
      "text/plain": [
       "                                                 Event Categories  \\\n",
       "22   Major Fire, Ocala National Forest, Florida, Un...  Wildfires   \n",
       "55   Garceau Fire, W of Polson, Montana, United States  Wildfires   \n",
       "105  Wildfire - N of Merced, California - United St...  Wildfires   \n",
       "106      Wildfire - E of Mesa, Arizona - United States  Wildfires   \n",
       "111      Wildfire - E of Mesa, Arizona - United States  Wildfires   \n",
       "\n",
       "                         Date                        Location        Country  \\\n",
       "22  2023-04-27 14:15:00+00:00         [-81.688889, 29.229722]  United States   \n",
       "55  2022-08-16 00:00:00+00:00              [-114.489, 47.694]  United States   \n",
       "105 2022-02-16 20:44:00+00:00  [-120.533005422, 37.543469882]  United States   \n",
       "106 2022-02-13 20:40:00+00:00  [-110.862229905, 33.417091555]  United States   \n",
       "111 2022-01-28 08:38:00+00:00  [-110.860071422, 33.416654251]  United States   \n",
       "\n",
       "     Year  Season   Longitude   Latitude  \n",
       "22   2023  2023Q2  -81.688889  29.229722  \n",
       "55   2022  2022Q3 -114.489000  47.694000  \n",
       "105  2022  2022Q1 -120.533005  37.543470  \n",
       "106  2022  2022Q1 -110.862230  33.417092  \n",
       "111  2022  2022Q1 -110.860071  33.416654  "
      ]
     },
     "execution_count": 12,
     "metadata": {},
     "output_type": "execute_result"
    }
   ],
   "source": [
    "df.head()"
   ]
  },
  {
   "cell_type": "code",
   "execution_count": 13,
   "metadata": {},
   "outputs": [],
   "source": [
    "# !pip install plotly geopandas pyshp shapely"
   ]
  },
  {
   "cell_type": "code",
   "execution_count": 14,
   "metadata": {},
   "outputs": [],
   "source": [
    "# import pandas as pd\n",
    "\n",
    "# us_cities = pd.read_csv(\n",
    "#     \"https://raw.githubusercontent.com/plotly/datasets/master/us-cities-top-1k.csv\"\n",
    "# )\n",
    "\n",
    "# import plotly.express as px\n",
    "\n",
    "# fig = px.scatter_mapbox(\n",
    "#     df,\n",
    "#     lat=\"Latitude\",\n",
    "#     lon=\"Longitude\",\n",
    "#     hover_name=\"Date\",\n",
    "#     hover_data=[\"Date\", \"Event\"],\n",
    "#     color_discrete_sequence=[\"fuchsia\"],\n",
    "#     zoom=3,\n",
    "#     height=300,\n",
    "# )\n",
    "# fig.update_layout(\n",
    "#     mapbox_style=\"white-bg\",\n",
    "#     mapbox_layers=[\n",
    "#         {\n",
    "#             \"below\": \"traces\",\n",
    "#             \"sourcetype\": \"raster\",\n",
    "#             \"sourceattribution\": \"United States Geological Survey\",\n",
    "#             \"source\": [\n",
    "#                 \"https://basemap.nationalmap.gov/arcgis/rest/services/USGSImageryOnly/MapServer/tile/{z}/{y}/{x}\"\n",
    "#             ],\n",
    "#         },\n",
    "#         {\n",
    "#             \"sourcetype\": \"raster\",\n",
    "#             \"sourceattribution\": \"Government of Canada\",\n",
    "#             \"source\": [\n",
    "#                 \"https://geo.weather.gc.ca/geomet/?\"\n",
    "#                 \"SERVICE=WMS&VERSION=1.3.0&REQUEST=GetMap&BBOX={bbox-epsg-3857}&CRS=EPSG:3857\"\n",
    "#                 \"&WIDTH=1000&HEIGHT=1000&LAYERS=RADAR_1KM_RDBR&TILED=true&FORMAT=image/png\"\n",
    "#             ],\n",
    "#         },\n",
    "#     ],\n",
    "# )\n",
    "# fig.update_layout(margin={\"r\": 0, \"t\": 0, \"l\": 0, \"b\": 0})\n",
    "# fig.show()"
   ]
  },
  {
   "cell_type": "code",
   "execution_count": 15,
   "metadata": {},
   "outputs": [],
   "source": [
    "# from urllib.request import urlopen\n",
    "# import json\n",
    "\n",
    "# with urlopen(\n",
    "#     \"https://raw.githubusercontent.com/plotly/datasets/master/geojson-counties-fips.json\"\n",
    "# ) as response:\n",
    "#     counties = json.load(response)\n",
    "\n",
    "# import pandas as pd\n",
    "\n",
    "# df = pd.read_csv(\n",
    "#     \"https://raw.githubusercontent.com/plotly/datasets/master/fips-unemp-16.csv\",\n",
    "#     dtype={\"fips\": str},\n",
    "# )\n",
    "\n",
    "# import plotly.graph_objects as go\n",
    "\n",
    "# fig = go.Figure(\n",
    "#     go.Choroplethmapbox(\n",
    "#         geojson=counties,\n",
    "#         locations=df.fips,\n",
    "#         z=df.unemp,\n",
    "#         colorscale=\"Viridis\",\n",
    "#         zmin=0,\n",
    "#         zmax=12,\n",
    "#         marker_opacity=0.5,\n",
    "#         marker_line_width=0,\n",
    "#     )\n",
    "# )\n",
    "# fig.update_layout(\n",
    "#     mapbox_style=\"carto-positron\",\n",
    "#     mapbox_zoom=3,\n",
    "#     mapbox_center={\"lat\": 37.0902, \"lon\": -95.7129},\n",
    "# )\n",
    "# fig.update_layout(margin={\"r\": 0, \"t\": 0, \"l\": 0, \"b\": 0})\n",
    "# fig.show()"
   ]
  },
  {
   "cell_type": "code",
   "execution_count": 16,
   "metadata": {},
   "outputs": [],
   "source": [
    "temperature = pd.read_csv(\"./TemperatureByStates_Updated.csv\")\n",
    "precipitation = pd.read_csv(\"./PrecipitationByStates_Updated.csv\")"
   ]
  },
  {
   "cell_type": "code",
   "execution_count": 17,
   "metadata": {},
   "outputs": [
    {
     "data": {
      "text/html": [
       "<div>\n",
       "<style scoped>\n",
       "    .dataframe tbody tr th:only-of-type {\n",
       "        vertical-align: middle;\n",
       "    }\n",
       "\n",
       "    .dataframe tbody tr th {\n",
       "        vertical-align: top;\n",
       "    }\n",
       "\n",
       "    .dataframe thead th {\n",
       "        text-align: right;\n",
       "    }\n",
       "</style>\n",
       "<table border=\"1\" class=\"dataframe\">\n",
       "  <thead>\n",
       "    <tr style=\"text-align: right;\">\n",
       "      <th></th>\n",
       "      <th>State</th>\n",
       "      <th>2021Q1</th>\n",
       "      <th>2021Q2</th>\n",
       "      <th>2021Q3</th>\n",
       "      <th>2021Q4</th>\n",
       "      <th>2022Q1</th>\n",
       "      <th>2022Q2</th>\n",
       "      <th>2022Q3</th>\n",
       "      <th>2022Q4</th>\n",
       "      <th>2023Q1</th>\n",
       "      <th>2023Q2</th>\n",
       "      <th>2023Q3</th>\n",
       "      <th>2023Q4</th>\n",
       "      <th>code</th>\n",
       "      <th>state</th>\n",
       "    </tr>\n",
       "  </thead>\n",
       "  <tbody>\n",
       "    <tr>\n",
       "      <th>0</th>\n",
       "      <td>Alabama</td>\n",
       "      <td>5.330000</td>\n",
       "      <td>6.323333</td>\n",
       "      <td>6.583333</td>\n",
       "      <td>3.483333</td>\n",
       "      <td>5.880000</td>\n",
       "      <td>4.620000</td>\n",
       "      <td>4.783333</td>\n",
       "      <td>4.000000</td>\n",
       "      <td>5.556667</td>\n",
       "      <td>4.923333</td>\n",
       "      <td>3.876667</td>\n",
       "      <td>1.40</td>\n",
       "      <td>AL</td>\n",
       "      <td>Alabama</td>\n",
       "    </tr>\n",
       "    <tr>\n",
       "      <th>1</th>\n",
       "      <td>Alaska</td>\n",
       "      <td>2.623333</td>\n",
       "      <td>2.260000</td>\n",
       "      <td>4.353333</td>\n",
       "      <td>3.656667</td>\n",
       "      <td>3.463333</td>\n",
       "      <td>1.140000</td>\n",
       "      <td>5.653333</td>\n",
       "      <td>4.073333</td>\n",
       "      <td>2.593333</td>\n",
       "      <td>2.600000</td>\n",
       "      <td>4.526667</td>\n",
       "      <td>4.06</td>\n",
       "      <td>AK</td>\n",
       "      <td>Alaska</td>\n",
       "    </tr>\n",
       "    <tr>\n",
       "      <th>2</th>\n",
       "      <td>Arizona</td>\n",
       "      <td>0.756667</td>\n",
       "      <td>0.150000</td>\n",
       "      <td>2.430000</td>\n",
       "      <td>0.853333</td>\n",
       "      <td>0.426667</td>\n",
       "      <td>0.240000</td>\n",
       "      <td>2.320000</td>\n",
       "      <td>1.036667</td>\n",
       "      <td>1.790000</td>\n",
       "      <td>0.190000</td>\n",
       "      <td>1.186667</td>\n",
       "      <td>0.20</td>\n",
       "      <td>AZ</td>\n",
       "      <td>Arizona</td>\n",
       "    </tr>\n",
       "    <tr>\n",
       "      <th>3</th>\n",
       "      <td>Arkansas</td>\n",
       "      <td>4.556667</td>\n",
       "      <td>5.713333</td>\n",
       "      <td>3.203333</td>\n",
       "      <td>3.270000</td>\n",
       "      <td>4.520000</td>\n",
       "      <td>5.443333</td>\n",
       "      <td>2.956667</td>\n",
       "      <td>4.310000</td>\n",
       "      <td>6.276667</td>\n",
       "      <td>4.440000</td>\n",
       "      <td>3.593333</td>\n",
       "      <td>4.67</td>\n",
       "      <td>AR</td>\n",
       "      <td>Arkansas</td>\n",
       "    </tr>\n",
       "    <tr>\n",
       "      <th>4</th>\n",
       "      <td>California</td>\n",
       "      <td>2.256667</td>\n",
       "      <td>0.180000</td>\n",
       "      <td>0.250000</td>\n",
       "      <td>3.623333</td>\n",
       "      <td>0.580000</td>\n",
       "      <td>0.816667</td>\n",
       "      <td>0.453333</td>\n",
       "      <td>2.846667</td>\n",
       "      <td>6.286667</td>\n",
       "      <td>0.633333</td>\n",
       "      <td>0.466667</td>\n",
       "      <td>0.45</td>\n",
       "      <td>CA</td>\n",
       "      <td>California</td>\n",
       "    </tr>\n",
       "  </tbody>\n",
       "</table>\n",
       "</div>"
      ],
      "text/plain": [
       "        State    2021Q1    2021Q2    2021Q3    2021Q4    2022Q1    2022Q2  \\\n",
       "0     Alabama  5.330000  6.323333  6.583333  3.483333  5.880000  4.620000   \n",
       "1      Alaska  2.623333  2.260000  4.353333  3.656667  3.463333  1.140000   \n",
       "2     Arizona  0.756667  0.150000  2.430000  0.853333  0.426667  0.240000   \n",
       "3    Arkansas  4.556667  5.713333  3.203333  3.270000  4.520000  5.443333   \n",
       "4  California  2.256667  0.180000  0.250000  3.623333  0.580000  0.816667   \n",
       "\n",
       "     2022Q3    2022Q4    2023Q1    2023Q2    2023Q3  2023Q4 code       state  \n",
       "0  4.783333  4.000000  5.556667  4.923333  3.876667    1.40   AL     Alabama  \n",
       "1  5.653333  4.073333  2.593333  2.600000  4.526667    4.06   AK      Alaska  \n",
       "2  2.320000  1.036667  1.790000  0.190000  1.186667    0.20   AZ     Arizona  \n",
       "3  2.956667  4.310000  6.276667  4.440000  3.593333    4.67   AR    Arkansas  \n",
       "4  0.453333  2.846667  6.286667  0.633333  0.466667    0.45   CA  California  "
      ]
     },
     "execution_count": 17,
     "metadata": {},
     "output_type": "execute_result"
    }
   ],
   "source": [
    "precipitation.head()"
   ]
  },
  {
   "cell_type": "code",
   "execution_count": 18,
   "metadata": {},
   "outputs": [
    {
     "data": {
      "text/html": [
       "<div>\n",
       "<style scoped>\n",
       "    .dataframe tbody tr th:only-of-type {\n",
       "        vertical-align: middle;\n",
       "    }\n",
       "\n",
       "    .dataframe tbody tr th {\n",
       "        vertical-align: top;\n",
       "    }\n",
       "\n",
       "    .dataframe thead th {\n",
       "        text-align: right;\n",
       "    }\n",
       "</style>\n",
       "<table border=\"1\" class=\"dataframe\">\n",
       "  <thead>\n",
       "    <tr style=\"text-align: right;\">\n",
       "      <th></th>\n",
       "      <th>Event</th>\n",
       "      <th>Categories</th>\n",
       "      <th>Date</th>\n",
       "      <th>Location</th>\n",
       "      <th>Country</th>\n",
       "      <th>Year</th>\n",
       "      <th>Season</th>\n",
       "      <th>Longitude</th>\n",
       "      <th>Latitude</th>\n",
       "    </tr>\n",
       "  </thead>\n",
       "  <tbody>\n",
       "    <tr>\n",
       "      <th>22</th>\n",
       "      <td>Major Fire, Ocala National Forest, Florida, Un...</td>\n",
       "      <td>Wildfires</td>\n",
       "      <td>2023-04-27 14:15:00+00:00</td>\n",
       "      <td>[-81.688889, 29.229722]</td>\n",
       "      <td>United States</td>\n",
       "      <td>2023</td>\n",
       "      <td>2023Q2</td>\n",
       "      <td>-81.688889</td>\n",
       "      <td>29.229722</td>\n",
       "    </tr>\n",
       "    <tr>\n",
       "      <th>55</th>\n",
       "      <td>Garceau Fire, W of Polson, Montana, United States</td>\n",
       "      <td>Wildfires</td>\n",
       "      <td>2022-08-16 00:00:00+00:00</td>\n",
       "      <td>[-114.489, 47.694]</td>\n",
       "      <td>United States</td>\n",
       "      <td>2022</td>\n",
       "      <td>2022Q3</td>\n",
       "      <td>-114.489000</td>\n",
       "      <td>47.694000</td>\n",
       "    </tr>\n",
       "    <tr>\n",
       "      <th>105</th>\n",
       "      <td>Wildfire - N of Merced, California - United St...</td>\n",
       "      <td>Wildfires</td>\n",
       "      <td>2022-02-16 20:44:00+00:00</td>\n",
       "      <td>[-120.533005422, 37.543469882]</td>\n",
       "      <td>United States</td>\n",
       "      <td>2022</td>\n",
       "      <td>2022Q1</td>\n",
       "      <td>-120.533005</td>\n",
       "      <td>37.543470</td>\n",
       "    </tr>\n",
       "    <tr>\n",
       "      <th>106</th>\n",
       "      <td>Wildfire - E of Mesa, Arizona - United States</td>\n",
       "      <td>Wildfires</td>\n",
       "      <td>2022-02-13 20:40:00+00:00</td>\n",
       "      <td>[-110.862229905, 33.417091555]</td>\n",
       "      <td>United States</td>\n",
       "      <td>2022</td>\n",
       "      <td>2022Q1</td>\n",
       "      <td>-110.862230</td>\n",
       "      <td>33.417092</td>\n",
       "    </tr>\n",
       "    <tr>\n",
       "      <th>111</th>\n",
       "      <td>Wildfire - E of Mesa, Arizona - United States</td>\n",
       "      <td>Wildfires</td>\n",
       "      <td>2022-01-28 08:38:00+00:00</td>\n",
       "      <td>[-110.860071422, 33.416654251]</td>\n",
       "      <td>United States</td>\n",
       "      <td>2022</td>\n",
       "      <td>2022Q1</td>\n",
       "      <td>-110.860071</td>\n",
       "      <td>33.416654</td>\n",
       "    </tr>\n",
       "  </tbody>\n",
       "</table>\n",
       "</div>"
      ],
      "text/plain": [
       "                                                 Event Categories  \\\n",
       "22   Major Fire, Ocala National Forest, Florida, Un...  Wildfires   \n",
       "55   Garceau Fire, W of Polson, Montana, United States  Wildfires   \n",
       "105  Wildfire - N of Merced, California - United St...  Wildfires   \n",
       "106      Wildfire - E of Mesa, Arizona - United States  Wildfires   \n",
       "111      Wildfire - E of Mesa, Arizona - United States  Wildfires   \n",
       "\n",
       "                         Date                        Location        Country  \\\n",
       "22  2023-04-27 14:15:00+00:00         [-81.688889, 29.229722]  United States   \n",
       "55  2022-08-16 00:00:00+00:00              [-114.489, 47.694]  United States   \n",
       "105 2022-02-16 20:44:00+00:00  [-120.533005422, 37.543469882]  United States   \n",
       "106 2022-02-13 20:40:00+00:00  [-110.862229905, 33.417091555]  United States   \n",
       "111 2022-01-28 08:38:00+00:00  [-110.860071422, 33.416654251]  United States   \n",
       "\n",
       "     Year  Season   Longitude   Latitude  \n",
       "22   2023  2023Q2  -81.688889  29.229722  \n",
       "55   2022  2022Q3 -114.489000  47.694000  \n",
       "105  2022  2022Q1 -120.533005  37.543470  \n",
       "106  2022  2022Q1 -110.862230  33.417092  \n",
       "111  2022  2022Q1 -110.860071  33.416654  "
      ]
     },
     "execution_count": 18,
     "metadata": {},
     "output_type": "execute_result"
    }
   ],
   "source": [
    "df.head()"
   ]
  },
  {
   "cell_type": "code",
   "execution_count": 19,
   "metadata": {},
   "outputs": [],
   "source": [
    "# import plotly.graph_objects as go\n",
    "\n",
    "# temperture[\"text\"] = temperture[\"state\"] + \"<br>\"\n",
    "\n",
    "\n",
    "# fig = go.Figure(\n",
    "#     data=go.Choropleth(\n",
    "#         locations=temperture[\"code\"],\n",
    "#         z=temperture[\"2021Q1\"].astype(float),\n",
    "#         locationmode=\"USA-states\",\n",
    "#         colorscale=\"Reds\",\n",
    "#         autocolorscale=False,\n",
    "#         text=temperture[\"text\"],  # hover text\n",
    "#         marker_line_color=\"white\",  # line markers between states\n",
    "#         colorbar_title=\"↑ Temperature\",\n",
    "#     )\n",
    "# )\n",
    "\n",
    "# # Add scatter plot for wildfire data\n",
    "# fig.add_trace(\n",
    "#     go.Scattergeo(\n",
    "#         lon=df[\"Longitude\"],\n",
    "#         lat=df[\"Latitude\"],\n",
    "#         text=[\"🔥\" for _ in range(len(df))],  # 使用火焰 emoj\n",
    "#         mode=\"text\",  # 将模式设置为\"text\"以显示文本标记\n",
    "#         textfont=dict(\n",
    "#             family=\"Arial\",  # 可以选择合适的字体\n",
    "#             size=12,  # 调整大小以适合你的图表\n",
    "#             color=\"red\",  # 文本的颜色，这里是红色\n",
    "#         ),\n",
    "#     )\n",
    "# )\n",
    "\n",
    "\n",
    "# fig.update_layout(\n",
    "#     title_text=\"2021-2023 US Wildfire Cases Visualisation<br> Compared With Temperature & Precipitation By State\",\n",
    "#     geo=dict(\n",
    "#         scope=\"usa\",\n",
    "#         projection=go.layout.geo.Projection(type=\"albers usa\"),\n",
    "#         showlakes=True,  # lakes\n",
    "#         lakecolor=\"rgb(255, 255, 255)\",\n",
    "#     ),\n",
    "# )\n",
    "\n",
    "# fig.show()"
   ]
  },
  {
   "cell_type": "code",
   "execution_count": 20,
   "metadata": {},
   "outputs": [],
   "source": [
    "# import plotly.graph_objects as go\n",
    "\n",
    "# # 假设 temperature 是您的温度数据集\n",
    "# temperature[\"text\"] = temperature[\"state\"] + \"<br>\"\n",
    "\n",
    "# # 创建图表\n",
    "# fig = go.Figure()\n",
    "\n",
    "# # 添加初始季度的温度数据\n",
    "# fig.add_trace(\n",
    "#     go.Choropleth(\n",
    "#         locations=temperature[\"code\"],\n",
    "#         z=temperature[\"2021Q1\"].astype(float),  # 初始显示2021Q1数据\n",
    "#         locationmode=\"USA-states\",\n",
    "#         colorscale=\"Reds\",\n",
    "#         autocolorscale=False,\n",
    "#         text=temperature[\"text\"],  # hover text\n",
    "#         marker_line_color=\"white\",  # line markers between states\n",
    "#         colorbar_title=\"↑ Temperature\",\n",
    "#     )\n",
    "# )\n",
    "\n",
    "# # 假设 df 是您的野火数据集\n",
    "# # 添加野火数据\n",
    "# fig.add_trace(\n",
    "#     go.Scattergeo(\n",
    "#         lon=df[\"Longitude\"],\n",
    "#         lat=df[\"Latitude\"],\n",
    "#         text=[\"🔥\" for _ in range(len(df))],  # 使用火焰 emoji\n",
    "#         mode=\"text\",  # 将模式设置为\"text\"以显示文本标记\n",
    "#         textfont=dict(\n",
    "#             family=\"Arial\",  # 可以选择合适的字体\n",
    "#             size=12,  # 调整大小以适合你的图表\n",
    "#             color=\"red\",  # 文本的颜色，这里是红色\n",
    "#         ),\n",
    "#     )\n",
    "# )\n",
    "\n",
    "# # 更新布局\n",
    "# fig.update_layout(\n",
    "#     title_text=\"2021-2023 US Wildfire Cases Visualisation<br>Compared With Temperature & Precipitation By State\",\n",
    "#     geo=dict(\n",
    "#         scope=\"usa\",\n",
    "#         projection=go.layout.geo.Projection(type=\"albers usa\"),\n",
    "#         showlakes=True,  # lakes\n",
    "#         lakecolor=\"rgb(255, 255, 255)\",\n",
    "#     ),\n",
    "# )\n",
    "\n",
    "# # 添加滑动条以切换季度\n",
    "# seasons = [\n",
    "#     \"2021Q1\",\n",
    "#     \"2021Q2\",\n",
    "#     \"2021Q3\",\n",
    "#     \"2021Q4\",\n",
    "#     \"2022Q1\",\n",
    "#     \"2022Q2\",\n",
    "#     \"2022Q3\",\n",
    "#     \"2022Q4\",\n",
    "#     \"2023Q1\",\n",
    "#     \"2023Q2\",\n",
    "#     \"2023Q3\",\n",
    "#     \"2023Q4\",\n",
    "# ]\n",
    "# steps = []\n",
    "\n",
    "# for season in seasons:\n",
    "#     step = dict(\n",
    "#         method=\"update\",\n",
    "#         args=[\n",
    "#             {\"z\": [temperature[season].astype(float), None]},\n",
    "#             {\"title\": f\"Temperature - {season}\"},\n",
    "#         ],\n",
    "#         label=season,\n",
    "#     )\n",
    "#     steps.append(step)\n",
    "\n",
    "# slider = dict(active=0, currentvalue={\"prefix\": \"Season: \"}, steps=steps)\n",
    "\n",
    "# fig.update_layout(sliders=[slider])\n",
    "\n",
    "# # 显示图表\n",
    "# fig.show()"
   ]
  },
  {
   "cell_type": "code",
   "execution_count": 21,
   "metadata": {},
   "outputs": [
    {
     "data": {
      "application/vnd.plotly.v1+json": {
       "config": {
        "plotlyServerURL": "https://plot.ly"
       },
       "data": [
        {
         "autocolorscale": false,
         "colorbar": {
          "title": {
           "text": "↑ Temperature"
          }
         },
         "colorscale": [
          [
           0,
           "rgb(255,245,240)"
          ],
          [
           0.125,
           "rgb(254,224,210)"
          ],
          [
           0.25,
           "rgb(252,187,161)"
          ],
          [
           0.375,
           "rgb(252,146,114)"
          ],
          [
           0.5,
           "rgb(251,106,74)"
          ],
          [
           0.625,
           "rgb(239,59,44)"
          ],
          [
           0.75,
           "rgb(203,24,29)"
          ],
          [
           0.875,
           "rgb(165,15,21)"
          ],
          [
           1,
           "rgb(103,0,13)"
          ]
         ],
         "locationmode": "USA-states",
         "locations": [
          "AL",
          "AK",
          "AZ",
          "AR",
          "CA",
          "CO",
          "CT",
          "DE",
          "FL",
          "GA",
          "ID",
          "IL",
          "IN",
          "IA",
          "KS",
          "KY",
          "LA",
          "ME",
          "MD",
          "MA",
          "MI",
          "MN",
          "MS",
          "MO",
          "MT",
          "NE",
          "NV",
          "NH",
          "NJ",
          "NM",
          "NY",
          "NC",
          "ND",
          "OH",
          "OK",
          "OR",
          "PA",
          "RI",
          "SC",
          "SD",
          "TN",
          "TX",
          "UT",
          "VT",
          "VA",
          "WA",
          "WV",
          "WI",
          "WY"
         ],
         "marker": {
          "line": {
           "color": "white"
          }
         },
         "text": [
          "Alabama<br>",
          "Alaska<br>",
          "Arizona<br>",
          "Arkansas<br>",
          "California<br>",
          "Colorado<br>",
          "Connecticut<br>",
          "Delaware<br>",
          "Florida<br>",
          "Georgia<br>",
          "Idaho<br>",
          "Illinois<br>",
          "Indiana<br>",
          "Iowa<br>",
          "Kansas<br>",
          "Kentucky<br>",
          "Louisiana<br>",
          "Maine<br>",
          "Maryland<br>",
          "Massachusetts<br>",
          "Michigan<br>",
          "Minnesota<br>",
          "Mississippi<br>",
          "Missouri<br>",
          "Montana<br>",
          "Nebraska<br>",
          "Nevada<br>",
          "New Hampshire<br>",
          "New Jersey<br>",
          "New Mexico<br>",
          "New York<br>",
          "North Carolina<br>",
          "North Dakota<br>",
          "Ohio<br>",
          "Oklahoma<br>",
          "Oregon<br>",
          "Pennsylvania<br>",
          "Rhode Island<br>",
          "South Carolina<br>",
          "South Dakota<br>",
          "Tennessee<br>",
          "Texas<br>",
          "Utah<br>",
          "Vermont<br>",
          "Virginia<br>",
          "Washington<br>",
          "West Virginia<br>",
          "Wisconsin<br>",
          "Wyoming<br>"
         ],
         "type": "choropleth",
         "visible": true,
         "z": [
          77.73333333,
          47.56666667,
          78.6,
          78.1,
          76.33333333,
          66.6,
          69.7,
          74.9,
          81.4,
          77.7,
          64.3,
          73.26666667,
          72.36666667,
          70.96666667,
          76.7,
          73.8,
          80.43333333,
          63.63333333,
          74.63333333,
          69.1,
          67.03333333,
          67.36666667,
          78.66666667,
          75.2,
          65.16666667,
          72.3,
          71.9,
          65.1,
          73.43333333,
          71.26666667,
          66.6,
          75.16666667,
          68.3,
          71.5,
          79.33333333,
          65.73333333,
          69.36666667,
          70.4,
          77.66666667,
          70.93333333,
          74.63333333,
          80.33333333,
          70.5,
          64.4,
          73.56666667,
          64.5,
          70.53333333,
          66.6,
          64.1
         ]
        },
        {
         "lat": [],
         "lon": [],
         "mode": "text",
         "text": [],
         "textfont": {
          "color": "red",
          "family": "Arial",
          "size": 12
         },
         "type": "scattergeo",
         "visible": false
        },
        {
         "lat": [],
         "lon": [],
         "mode": "text",
         "text": [],
         "textfont": {
          "color": "red",
          "family": "Arial",
          "size": 12
         },
         "type": "scattergeo",
         "visible": false
        },
        {
         "lat": [
          39.188019314,
          36.090993645,
          40.707903489,
          34.676320178,
          36.518072392,
          33.417542977,
          37.969258033,
          34.182264114,
          42.686670839,
          33.416821311,
          38.924589754,
          47.93565,
          47.56328,
          40.73292,
          42.685232232,
          48.94482,
          39.40551,
          42.21,
          48.76877,
          48.16566,
          41.56375,
          42.90764,
          46.84509,
          39.11329,
          48.815,
          48.575,
          41.1534,
          41.50178,
          43.95022,
          40.748,
          47.77489,
          48.21894,
          40.34992,
          46.17848,
          45.60727,
          47.82259,
          46.5346,
          48.35746,
          48.54019,
          46.15516,
          48.77414,
          48.35426,
          47.00918,
          47.91946,
          48.46294,
          45.03283,
          46.81666,
          47.63211,
          45.1798,
          45.17826,
          38.670339768,
          43.62011,
          45.69798,
          48.57827,
          48.139651026,
          35.43096,
          37.33621,
          39.25635,
          46.2923,
          47.54926,
          45.57376
         ],
         "lon": [
          -121.619186074,
          -118.664197288,
          -122.300586725,
          -118.757917621,
          -118.793009903,
          -110.861358494,
          -120.397719545,
          -117.443074933,
          -111.591190059,
          -110.859687743,
          -122.604087947,
          -117.72662,
          -91.62542,
          -111.64845,
          -111.592808877,
          -118.21131,
          -121.29963,
          -120.599,
          -119.79643,
          -119.14283,
          -123.39812,
          -122.83812,
          -121.15523,
          -120.97613,
          -119.079,
          -119.832,
          -123.05161,
          -121.92528,
          -122.47228,
          -123.31743,
          -113.99586,
          -116.92985,
          -123.06769,
          -117.72063,
          -113.84928,
          -117.47202,
          -111.30538,
          -118.48844,
          -117.5832,
          -110.28626,
          -114.42992,
          -116.00995,
          -110.88619,
          -117.97914,
          -118.13894,
          -109.21818,
          -113.3085,
          -116.02637,
          -113.45966,
          -114.37901,
          -119.830586901,
          -121.46825,
          -121.27131,
          -120.522,
          -118.910256697,
          -114.08793,
          -119.84447,
          -123.23517,
          -117.35373,
          -117.5498,
          -121.11953
         ],
         "mode": "text",
         "text": [
          "🔥",
          "🔥",
          "🔥",
          "🔥",
          "🔥",
          "🔥",
          "🔥",
          "🔥",
          "🔥",
          "🔥",
          "🔥",
          "🔥",
          "🔥",
          "🔥",
          "🔥",
          "🔥",
          "🔥",
          "🔥",
          "🔥",
          "🔥",
          "🔥",
          "🔥",
          "🔥",
          "🔥",
          "🔥",
          "🔥",
          "🔥",
          "🔥",
          "🔥",
          "🔥",
          "🔥",
          "🔥",
          "🔥",
          "🔥",
          "🔥",
          "🔥",
          "🔥",
          "🔥",
          "🔥",
          "🔥",
          "🔥",
          "🔥",
          "🔥",
          "🔥",
          "🔥",
          "🔥",
          "🔥",
          "🔥",
          "🔥",
          "🔥",
          "🔥",
          "🔥",
          "🔥",
          "🔥",
          "🔥",
          "🔥",
          "🔥",
          "🔥",
          "🔥",
          "🔥",
          "🔥"
         ],
         "textfont": {
          "color": "red",
          "family": "Arial",
          "size": 12
         },
         "type": "scattergeo",
         "visible": true
        },
        {
         "lat": [
          39.95983,
          34.396954841,
          33.417201559,
          35.36753333,
          42.686767291,
          33.954878389,
          35.621645413,
          45.009877614,
          33.416293179,
          32.974491635,
          39.080745035,
          39.092390021,
          36.082566967,
          34.50631889
         ],
         "lon": [
          -105.19282,
          -117.729843629,
          -110.861196043,
          -120.045451449,
          -111.590258883,
          -117.488521503,
          -115.354724564,
          -123.929934447,
          -110.861165478,
          -113.498576997,
          -122.164046901,
          -121.667893746,
          -120.07159514,
          -120.106440487
         ],
         "mode": "text",
         "text": [
          "🔥",
          "🔥",
          "🔥",
          "🔥",
          "🔥",
          "🔥",
          "🔥",
          "🔥",
          "🔥",
          "🔥",
          "🔥",
          "🔥",
          "🔥",
          "🔥"
         ],
         "textfont": {
          "color": "red",
          "family": "Arial",
          "size": 12
         },
         "type": "scattergeo",
         "visible": false
        },
        {
         "lat": [
          37.543469882,
          33.417091555,
          33.416654251
         ],
         "lon": [
          -120.533005422,
          -110.862229905,
          -110.860071422
         ],
         "mode": "text",
         "text": [
          "🔥",
          "🔥",
          "🔥"
         ],
         "textfont": {
          "color": "red",
          "family": "Arial",
          "size": 12
         },
         "type": "scattergeo",
         "visible": false
        },
        {
         "lat": [],
         "lon": [],
         "mode": "text",
         "text": [],
         "textfont": {
          "color": "red",
          "family": "Arial",
          "size": 12
         },
         "type": "scattergeo",
         "visible": false
        },
        {
         "lat": [
          47.694
         ],
         "lon": [
          -114.489
         ],
         "mode": "text",
         "text": [
          "🔥"
         ],
         "textfont": {
          "color": "red",
          "family": "Arial",
          "size": 12
         },
         "type": "scattergeo",
         "visible": false
        },
        {
         "lat": [],
         "lon": [],
         "mode": "text",
         "text": [],
         "textfont": {
          "color": "red",
          "family": "Arial",
          "size": 12
         },
         "type": "scattergeo",
         "visible": false
        },
        {
         "lat": [],
         "lon": [],
         "mode": "text",
         "text": [],
         "textfont": {
          "color": "red",
          "family": "Arial",
          "size": 12
         },
         "type": "scattergeo",
         "visible": false
        },
        {
         "lat": [
          29.229722
         ],
         "lon": [
          -81.688889
         ],
         "mode": "text",
         "text": [
          "🔥"
         ],
         "textfont": {
          "color": "red",
          "family": "Arial",
          "size": 12
         },
         "type": "scattergeo",
         "visible": false
        },
        {
         "lat": [],
         "lon": [],
         "mode": "text",
         "text": [],
         "textfont": {
          "color": "red",
          "family": "Arial",
          "size": 12
         },
         "type": "scattergeo",
         "visible": false
        },
        {
         "lat": [],
         "lon": [],
         "mode": "text",
         "text": [],
         "textfont": {
          "color": "red",
          "family": "Arial",
          "size": 12
         },
         "type": "scattergeo",
         "visible": false
        }
       ],
       "layout": {
        "geo": {
         "lakecolor": "rgb(255, 255, 255)",
         "projection": {
          "type": "albers usa"
         },
         "scope": "usa",
         "showlakes": true
        },
        "sliders": [
         {
          "active": 2,
          "currentvalue": {
           "prefix": "Season: "
          },
          "steps": [
           {
            "args": [
             {
              "visible": [
               true,
               true,
               false,
               false,
               false,
               false,
               false,
               false,
               false,
               false,
               false,
               false,
               false
              ],
              "z": [
               [
                50.96666667,
                6.9,
                46.16666667,
                43.8,
                47.03333333,
                29.1,
                32.33333333,
                39.8,
                63.4,
                52.36666667,
                28.93333333,
                32.16666667,
                33.33333333,
                26.23333333,
                35.4,
                39.46666667,
                53.53333333,
                23.1,
                38.93333333,
                31.56666667,
                26.4,
                20.1,
                50.26666667,
                35.96666667,
                25.5,
                29.46666667,
                36.16666667,
                25.33333333,
                36.56666667,
                39.06666667,
                26.9,
                45.36666667,
                20.9,
                33.63333333,
                41.63333333,
                35.8,
                32.23333333,
                34.13333333,
                50.26666667,
                26.23333333,
                43.56666667,
                50.23333333,
                32.9,
                23.4,
                40.56666667,
                35.23333333,
                36.66666667,
                22.63333333,
                24.33333333
               ]
              ]
             }
            ],
            "label": "2021Q1",
            "method": "restyle"
           },
           {
            "args": [
             {
              "visible": [
               true,
               false,
               true,
               false,
               false,
               false,
               false,
               false,
               false,
               false,
               false,
               false,
               false
              ],
              "z": [
               [
                69.33333333,
                38.36666667,
                69.9,
                67.36666667,
                65.86666667,
                53.9,
                58.56666667,
                64.13333333,
                75.56666667,
                69.5,
                52.3,
                62.56666667,
                61.4,
                60.6,
                63.4,
                63.46666667,
                72.46666667,
                53.5,
                63.43333333,
                58.2,
                55.63333333,
                55.76666667,
                69.93333333,
                63.8,
                51.46666667,
                59.23333333,
                59.7,
                54.86666667,
                61.73333333,
                63,
                55.83333333,
                65.96666667,
                54.26666667,
                60.56666667,
                66.9,
                54.6,
                58.33333333,
                58.8,
                69.3,
                56.96666667,
                64.76666667,
                71.96666667,
                58.8,
                53.96666667,
                63.2,
                54.66666667,
                59.73333333,
                56.43333333,
                50.56666667
               ]
              ]
             }
            ],
            "label": "2021Q2",
            "method": "restyle"
           },
           {
            "args": [
             {
              "visible": [
               true,
               false,
               false,
               true,
               false,
               false,
               false,
               false,
               false,
               false,
               false,
               false,
               false
              ],
              "z": [
               [
                77.73333333,
                47.56666667,
                78.6,
                78.1,
                76.33333333,
                66.6,
                69.7,
                74.9,
                81.4,
                77.7,
                64.3,
                73.26666667,
                72.36666667,
                70.96666667,
                76.7,
                73.8,
                80.43333333,
                63.63333333,
                74.63333333,
                69.1,
                67.03333333,
                67.36666667,
                78.66666667,
                75.2,
                65.16666667,
                72.3,
                71.9,
                65.1,
                73.43333333,
                71.26666667,
                66.6,
                75.16666667,
                68.3,
                71.5,
                79.33333333,
                65.73333333,
                69.36666667,
                70.4,
                77.66666667,
                70.93333333,
                74.63333333,
                80.33333333,
                70.5,
                64.4,
                73.56666667,
                64.5,
                70.53333333,
                66.6,
                64.1
               ]
              ]
             }
            ],
            "label": "2021Q3",
            "method": "restyle"
           },
           {
            "args": [
             {
              "visible": [
               true,
               false,
               false,
               false,
               true,
               false,
               false,
               false,
               false,
               false,
               false,
               false,
               false
              ],
              "z": [
               [
                58.76666667,
                13.1,
                53.76666667,
                56.1,
                52.16666667,
                40.3,
                44.93333333,
                50.76666667,
                68.4,
                58.83333333,
                36.13333333,
                47.1,
                46.9,
                42.2,
                48.96666667,
                51.13333333,
                63.5,
                36.66666667,
                50.36666667,
                44.36666667,
                40.53333333,
                33.96666667,
                59.86666667,
                50.23333333,
                33.73333333,
                43.2,
                42.4,
                38.96666667,
                48.6,
                48.4,
                41.53333333,
                54.43333333,
                31.73333333,
                47,
                55.33333333,
                40.63333333,
                44.76666667,
                46.63333333,
                57.66666667,
                37.96666667,
                53.13333333,
                62.06666667,
                40.5,
                38.03333333,
                50.86666667,
                38.63333333,
                47.63333333,
                37.4,
                35.56666667
               ]
              ]
             }
            ],
            "label": "2021Q4",
            "method": "restyle"
           },
           {
            "args": [
             {
              "visible": [
               true,
               false,
               false,
               false,
               false,
               true,
               false,
               false,
               false,
               false,
               false,
               false,
               false
              ],
              "z": [
               [
                50.43333333,
                9.633333333,
                46.56666667,
                44.36666667,
                49.23333333,
                28.86666667,
                31.33333333,
                39.36666667,
                63.03333333,
                52.56666667,
                28.06666667,
                31.06666667,
                32.63333333,
                24.36666667,
                35.2,
                39.56666667,
                52.8,
                19.63333333,
                38.66666667,
                30.5,
                21.93333333,
                12.06666667,
                50.03333333,
                35.7,
                26.3,
                30.13333333,
                37.33333333,
                23.5,
                36.03333333,
                38.4,
                24.43333333,
                46,
                15.03333333,
                32.66666667,
                42.03333333,
                37.43333333,
                30.5,
                33.33333333,
                51.1,
                24.2,
                43,
                49.53333333,
                32.96666667,
                21.2,
                40.9,
                35.53333333,
                35.76666667,
                17.9,
                25.26666667
               ]
              ]
             }
            ],
            "label": "2022Q1",
            "method": "restyle"
           },
           {
            "args": [
             {
              "visible": [
               true,
               false,
               false,
               false,
               false,
               false,
               true,
               false,
               false,
               false,
               false,
               false,
               false
              ],
              "z": [
               [
                72.13333333,
                39.23333333,
                69.36666667,
                69.63333333,
                63.43333333,
                53.8,
                58.3,
                63.53333333,
                77.16666667,
                72.13333333,
                46.8,
                62.8,
                62.13333333,
                58.9,
                64.83333333,
                65.36666667,
                75.7,
                51.7,
                63.26666667,
                57.43333333,
                54.26666667,
                52.36666667,
                73.4,
                64.76666667,
                47.4,
                58.86666667,
                56.16666667,
                53.83333333,
                61.4,
                64.23333333,
                55.36666667,
                67.53333333,
                50.36666667,
                61.03333333,
                70.4,
                48.7,
                58.2,
                58.3,
                71.33333333,
                54.26666667,
                67.13333333,
                76.8,
                56.23333333,
                53.33333333,
                64.16666667,
                49.06666667,
                60.83333333,
                53.93333333,
                47.33333333
               ]
              ]
             }
            ],
            "label": "2022Q2",
            "method": "restyle"
           },
           {
            "args": [
             {
              "visible": [
               true,
               false,
               false,
               false,
               false,
               false,
               false,
               true,
               false,
               false,
               false,
               false,
               false
              ],
              "z": [
               [
                78.3,
                48.8,
                78.73333333,
                79.1,
                76.5,
                66.83333333,
                70.83333333,
                75.43333333,
                81.96666667,
                78.26666667,
                66.56666667,
                72.1,
                71.46666667,
                70.43333333,
                77.36666667,
                73.9,
                81,
                64,
                74.3,
                69.86666667,
                66.06666667,
                65.73333333,
                79.26666667,
                75.23333333,
                66.46666667,
                72.96666667,
                72.63333333,
                65.53333333,
                74.23333333,
                72.1,
                66.73333333,
                75.26666667,
                67.03333333,
                70.5,
                81.73333333,
                67.56666667,
                68.9,
                70.96666667,
                78.06666667,
                71.06666667,
                75.26666667,
                82.73333333,
                71.4,
                64.63333333,
                73.16666667,
                66.46666667,
                69.63333333,
                65.73333333,
                65.36666667
               ]
              ]
             }
            ],
            "label": "2022Q3",
            "method": "restyle"
           },
           {
            "args": [
             {
              "visible": [
               true,
               false,
               false,
               false,
               false,
               false,
               false,
               false,
               true,
               false,
               false,
               false,
               false
              ],
              "z": [
               [
                55.26666667,
                17.5,
                50.16666667,
                51.5,
                51.26666667,
                34.83333333,
                43.73333333,
                47.8,
                67.56666667,
                56.26666667,
                32.26666667,
                42.13333333,
                42.53333333,
                36.26666667,
                43.13333333,
                46.5,
                59.46666667,
                38.03333333,
                46.63333333,
                43.4,
                37.93333333,
                29.86666667,
                55.96666667,
                44.43333333,
                28.13333333,
                36.4,
                39.9,
                38.83333333,
                45.76666667,
                43.83333333,
                39.6,
                50.76666667,
                25.33333333,
                42.9,
                49.8,
                39.16666667,
                40.93333333,
                45.46666667,
                54.66666667,
                31.23333333,
                48.73333333,
                56.8,
                37,
                37.93333333,
                46.73333333,
                37.36666667,
                43.2,
                33.86666667,
                29.63333333
               ]
              ]
             }
            ],
            "label": "2022Q4",
            "method": "restyle"
           },
           {
            "args": [
             {
              "visible": [
               true,
               false,
               false,
               false,
               false,
               false,
               false,
               false,
               false,
               true,
               false,
               false,
               false
              ],
              "z": [
               [
                55.53333333,
                10.16666667,
                43.16666667,
                49.36666667,
                43.2,
                26.76666667,
                36.56666667,
                43.9,
                66.13333333,
                56.3,
                25.2,
                37.2,
                38.6,
                28.13333333,
                36.73333333,
                45.1,
                59.33333333,
                24.23333333,
                43.33333333,
                35.06666667,
                28.7,
                16.86666667,
                56.06666667,
                40.33333333,
                23.2,
                28.43333333,
                31.36666667,
                28.66666667,
                40.83333333,
                39.06666667,
                30.36666667,
                49.93333333,
                14,
                38.63333333,
                45.56666667,
                32.7,
                36.43333333,
                37.36666667,
                54.6,
                21.93333333,
                48.03333333,
                54.66666667,
                28.4,
                26.86666667,
                45.5,
                34.23333333,
                41.13333333,
                24.46666667,
                21.6
               ]
              ]
             }
            ],
            "label": "2023Q1",
            "method": "restyle"
           },
           {
            "args": [
             {
              "visible": [
               true,
               false,
               false,
               false,
               false,
               false,
               false,
               false,
               false,
               false,
               true,
               false,
               false
              ],
              "z": [
               [
                70.13333333,
                35.46666667,
                65.76666667,
                69.2,
                61.33333333,
                52.1,
                57.76666667,
                63.46666667,
                76.7,
                69.83333333,
                50.13333333,
                63.06666667,
                61.3,
                61.16666667,
                64.6,
                63.6,
                74.36666667,
                51,
                62.7,
                56.9,
                54.86666667,
                55.5,
                71.7,
                65.4,
                52,
                60,
                55.36666667,
                53.16666667,
                60.73333333,
                61.33333333,
                54.96666667,
                64.96666667,
                54.63333333,
                59.53333333,
                68.26666667,
                52.43333333,
                57.36666667,
                57.4,
                68.16666667,
                57.4,
                65.26666667,
                73.5,
                55,
                52.7,
                62.46666667,
                54.06666667,
                59,
                55.6,
                49.13333333
               ]
              ]
             }
            ],
            "label": "2023Q2",
            "method": "restyle"
           },
           {
            "args": [
             {
              "visible": [
               true,
               false,
               false,
               false,
               false,
               false,
               false,
               false,
               false,
               false,
               false,
               true,
               false
              ],
              "z": [
               [
                79.8,
                50,
                79.9,
                79.16666667,
                74.23333333,
                65.86666667,
                69.93333333,
                74.56666667,
                83.16666667,
                79.26666667,
                63.66666667,
                72.43333333,
                71,
                70.56666667,
                76.46666667,
                73.56666667,
                84.46666667,
                64.83333333,
                74.2,
                69.03333333,
                65.33333333,
                66.2,
                81.6,
                74.93333333,
                64.23333333,
                71.3,
                69.76666667,
                65.53333333,
                72.5,
                74.23333333,
                66,
                75.5,
                65.6,
                70.03333333,
                80.76666667,
                64.73333333,
                68.23333333,
                70.06666667,
                78.46666667,
                69.1,
                74.8,
                85.1,
                69.7,
                64.8,
                73.2,
                64.46666667,
                69.7,
                66.46666667,
                62.86666667
               ]
              ]
             }
            ],
            "label": "2023Q3",
            "method": "restyle"
           },
           {
            "args": [
             {
              "visible": [
               true,
               false,
               false,
               false,
               false,
               false,
               false,
               false,
               false,
               false,
               false,
               false,
               true
              ],
              "z": [
               [
                65.2,
                27.8,
                64.6,
                64.1,
                62.1,
                48.2,
                56.1,
                60.2,
                73.4,
                65,
                46.1,
                56.7,
                56.4,
                53.4,
                57.8,
                59.2,
                69.4,
                51.7,
                59.6,
                55.9,
                50.6,
                47.7,
                66.8,
                58.9,
                42.4,
                51.2,
                52.4,
                52.3,
                58.2,
                57.5,
                53.1,
                61,
                43.8,
                55.8,
                62.7,
                50,
                54.1,
                57,
                63.9,
                47.3,
                61,
                68.5,
                51,
                51.6,
                59,
                49.2,
                55.9,
                49.4,
                43.5
               ]
              ]
             }
            ],
            "label": "2023Q4",
            "method": "restyle"
           }
          ]
         }
        ],
        "template": {
         "data": {
          "bar": [
           {
            "error_x": {
             "color": "#2a3f5f"
            },
            "error_y": {
             "color": "#2a3f5f"
            },
            "marker": {
             "line": {
              "color": "#E5ECF6",
              "width": 0.5
             },
             "pattern": {
              "fillmode": "overlay",
              "size": 10,
              "solidity": 0.2
             }
            },
            "type": "bar"
           }
          ],
          "barpolar": [
           {
            "marker": {
             "line": {
              "color": "#E5ECF6",
              "width": 0.5
             },
             "pattern": {
              "fillmode": "overlay",
              "size": 10,
              "solidity": 0.2
             }
            },
            "type": "barpolar"
           }
          ],
          "carpet": [
           {
            "aaxis": {
             "endlinecolor": "#2a3f5f",
             "gridcolor": "white",
             "linecolor": "white",
             "minorgridcolor": "white",
             "startlinecolor": "#2a3f5f"
            },
            "baxis": {
             "endlinecolor": "#2a3f5f",
             "gridcolor": "white",
             "linecolor": "white",
             "minorgridcolor": "white",
             "startlinecolor": "#2a3f5f"
            },
            "type": "carpet"
           }
          ],
          "choropleth": [
           {
            "colorbar": {
             "outlinewidth": 0,
             "ticks": ""
            },
            "type": "choropleth"
           }
          ],
          "contour": [
           {
            "colorbar": {
             "outlinewidth": 0,
             "ticks": ""
            },
            "colorscale": [
             [
              0,
              "#0d0887"
             ],
             [
              0.1111111111111111,
              "#46039f"
             ],
             [
              0.2222222222222222,
              "#7201a8"
             ],
             [
              0.3333333333333333,
              "#9c179e"
             ],
             [
              0.4444444444444444,
              "#bd3786"
             ],
             [
              0.5555555555555556,
              "#d8576b"
             ],
             [
              0.6666666666666666,
              "#ed7953"
             ],
             [
              0.7777777777777778,
              "#fb9f3a"
             ],
             [
              0.8888888888888888,
              "#fdca26"
             ],
             [
              1,
              "#f0f921"
             ]
            ],
            "type": "contour"
           }
          ],
          "contourcarpet": [
           {
            "colorbar": {
             "outlinewidth": 0,
             "ticks": ""
            },
            "type": "contourcarpet"
           }
          ],
          "heatmap": [
           {
            "colorbar": {
             "outlinewidth": 0,
             "ticks": ""
            },
            "colorscale": [
             [
              0,
              "#0d0887"
             ],
             [
              0.1111111111111111,
              "#46039f"
             ],
             [
              0.2222222222222222,
              "#7201a8"
             ],
             [
              0.3333333333333333,
              "#9c179e"
             ],
             [
              0.4444444444444444,
              "#bd3786"
             ],
             [
              0.5555555555555556,
              "#d8576b"
             ],
             [
              0.6666666666666666,
              "#ed7953"
             ],
             [
              0.7777777777777778,
              "#fb9f3a"
             ],
             [
              0.8888888888888888,
              "#fdca26"
             ],
             [
              1,
              "#f0f921"
             ]
            ],
            "type": "heatmap"
           }
          ],
          "heatmapgl": [
           {
            "colorbar": {
             "outlinewidth": 0,
             "ticks": ""
            },
            "colorscale": [
             [
              0,
              "#0d0887"
             ],
             [
              0.1111111111111111,
              "#46039f"
             ],
             [
              0.2222222222222222,
              "#7201a8"
             ],
             [
              0.3333333333333333,
              "#9c179e"
             ],
             [
              0.4444444444444444,
              "#bd3786"
             ],
             [
              0.5555555555555556,
              "#d8576b"
             ],
             [
              0.6666666666666666,
              "#ed7953"
             ],
             [
              0.7777777777777778,
              "#fb9f3a"
             ],
             [
              0.8888888888888888,
              "#fdca26"
             ],
             [
              1,
              "#f0f921"
             ]
            ],
            "type": "heatmapgl"
           }
          ],
          "histogram": [
           {
            "marker": {
             "pattern": {
              "fillmode": "overlay",
              "size": 10,
              "solidity": 0.2
             }
            },
            "type": "histogram"
           }
          ],
          "histogram2d": [
           {
            "colorbar": {
             "outlinewidth": 0,
             "ticks": ""
            },
            "colorscale": [
             [
              0,
              "#0d0887"
             ],
             [
              0.1111111111111111,
              "#46039f"
             ],
             [
              0.2222222222222222,
              "#7201a8"
             ],
             [
              0.3333333333333333,
              "#9c179e"
             ],
             [
              0.4444444444444444,
              "#bd3786"
             ],
             [
              0.5555555555555556,
              "#d8576b"
             ],
             [
              0.6666666666666666,
              "#ed7953"
             ],
             [
              0.7777777777777778,
              "#fb9f3a"
             ],
             [
              0.8888888888888888,
              "#fdca26"
             ],
             [
              1,
              "#f0f921"
             ]
            ],
            "type": "histogram2d"
           }
          ],
          "histogram2dcontour": [
           {
            "colorbar": {
             "outlinewidth": 0,
             "ticks": ""
            },
            "colorscale": [
             [
              0,
              "#0d0887"
             ],
             [
              0.1111111111111111,
              "#46039f"
             ],
             [
              0.2222222222222222,
              "#7201a8"
             ],
             [
              0.3333333333333333,
              "#9c179e"
             ],
             [
              0.4444444444444444,
              "#bd3786"
             ],
             [
              0.5555555555555556,
              "#d8576b"
             ],
             [
              0.6666666666666666,
              "#ed7953"
             ],
             [
              0.7777777777777778,
              "#fb9f3a"
             ],
             [
              0.8888888888888888,
              "#fdca26"
             ],
             [
              1,
              "#f0f921"
             ]
            ],
            "type": "histogram2dcontour"
           }
          ],
          "mesh3d": [
           {
            "colorbar": {
             "outlinewidth": 0,
             "ticks": ""
            },
            "type": "mesh3d"
           }
          ],
          "parcoords": [
           {
            "line": {
             "colorbar": {
              "outlinewidth": 0,
              "ticks": ""
             }
            },
            "type": "parcoords"
           }
          ],
          "pie": [
           {
            "automargin": true,
            "type": "pie"
           }
          ],
          "scatter": [
           {
            "fillpattern": {
             "fillmode": "overlay",
             "size": 10,
             "solidity": 0.2
            },
            "type": "scatter"
           }
          ],
          "scatter3d": [
           {
            "line": {
             "colorbar": {
              "outlinewidth": 0,
              "ticks": ""
             }
            },
            "marker": {
             "colorbar": {
              "outlinewidth": 0,
              "ticks": ""
             }
            },
            "type": "scatter3d"
           }
          ],
          "scattercarpet": [
           {
            "marker": {
             "colorbar": {
              "outlinewidth": 0,
              "ticks": ""
             }
            },
            "type": "scattercarpet"
           }
          ],
          "scattergeo": [
           {
            "marker": {
             "colorbar": {
              "outlinewidth": 0,
              "ticks": ""
             }
            },
            "type": "scattergeo"
           }
          ],
          "scattergl": [
           {
            "marker": {
             "colorbar": {
              "outlinewidth": 0,
              "ticks": ""
             }
            },
            "type": "scattergl"
           }
          ],
          "scattermapbox": [
           {
            "marker": {
             "colorbar": {
              "outlinewidth": 0,
              "ticks": ""
             }
            },
            "type": "scattermapbox"
           }
          ],
          "scatterpolar": [
           {
            "marker": {
             "colorbar": {
              "outlinewidth": 0,
              "ticks": ""
             }
            },
            "type": "scatterpolar"
           }
          ],
          "scatterpolargl": [
           {
            "marker": {
             "colorbar": {
              "outlinewidth": 0,
              "ticks": ""
             }
            },
            "type": "scatterpolargl"
           }
          ],
          "scatterternary": [
           {
            "marker": {
             "colorbar": {
              "outlinewidth": 0,
              "ticks": ""
             }
            },
            "type": "scatterternary"
           }
          ],
          "surface": [
           {
            "colorbar": {
             "outlinewidth": 0,
             "ticks": ""
            },
            "colorscale": [
             [
              0,
              "#0d0887"
             ],
             [
              0.1111111111111111,
              "#46039f"
             ],
             [
              0.2222222222222222,
              "#7201a8"
             ],
             [
              0.3333333333333333,
              "#9c179e"
             ],
             [
              0.4444444444444444,
              "#bd3786"
             ],
             [
              0.5555555555555556,
              "#d8576b"
             ],
             [
              0.6666666666666666,
              "#ed7953"
             ],
             [
              0.7777777777777778,
              "#fb9f3a"
             ],
             [
              0.8888888888888888,
              "#fdca26"
             ],
             [
              1,
              "#f0f921"
             ]
            ],
            "type": "surface"
           }
          ],
          "table": [
           {
            "cells": {
             "fill": {
              "color": "#EBF0F8"
             },
             "line": {
              "color": "white"
             }
            },
            "header": {
             "fill": {
              "color": "#C8D4E3"
             },
             "line": {
              "color": "white"
             }
            },
            "type": "table"
           }
          ]
         },
         "layout": {
          "annotationdefaults": {
           "arrowcolor": "#2a3f5f",
           "arrowhead": 0,
           "arrowwidth": 1
          },
          "autotypenumbers": "strict",
          "coloraxis": {
           "colorbar": {
            "outlinewidth": 0,
            "ticks": ""
           }
          },
          "colorscale": {
           "diverging": [
            [
             0,
             "#8e0152"
            ],
            [
             0.1,
             "#c51b7d"
            ],
            [
             0.2,
             "#de77ae"
            ],
            [
             0.3,
             "#f1b6da"
            ],
            [
             0.4,
             "#fde0ef"
            ],
            [
             0.5,
             "#f7f7f7"
            ],
            [
             0.6,
             "#e6f5d0"
            ],
            [
             0.7,
             "#b8e186"
            ],
            [
             0.8,
             "#7fbc41"
            ],
            [
             0.9,
             "#4d9221"
            ],
            [
             1,
             "#276419"
            ]
           ],
           "sequential": [
            [
             0,
             "#0d0887"
            ],
            [
             0.1111111111111111,
             "#46039f"
            ],
            [
             0.2222222222222222,
             "#7201a8"
            ],
            [
             0.3333333333333333,
             "#9c179e"
            ],
            [
             0.4444444444444444,
             "#bd3786"
            ],
            [
             0.5555555555555556,
             "#d8576b"
            ],
            [
             0.6666666666666666,
             "#ed7953"
            ],
            [
             0.7777777777777778,
             "#fb9f3a"
            ],
            [
             0.8888888888888888,
             "#fdca26"
            ],
            [
             1,
             "#f0f921"
            ]
           ],
           "sequentialminus": [
            [
             0,
             "#0d0887"
            ],
            [
             0.1111111111111111,
             "#46039f"
            ],
            [
             0.2222222222222222,
             "#7201a8"
            ],
            [
             0.3333333333333333,
             "#9c179e"
            ],
            [
             0.4444444444444444,
             "#bd3786"
            ],
            [
             0.5555555555555556,
             "#d8576b"
            ],
            [
             0.6666666666666666,
             "#ed7953"
            ],
            [
             0.7777777777777778,
             "#fb9f3a"
            ],
            [
             0.8888888888888888,
             "#fdca26"
            ],
            [
             1,
             "#f0f921"
            ]
           ]
          },
          "colorway": [
           "#636efa",
           "#EF553B",
           "#00cc96",
           "#ab63fa",
           "#FFA15A",
           "#19d3f3",
           "#FF6692",
           "#B6E880",
           "#FF97FF",
           "#FECB52"
          ],
          "font": {
           "color": "#2a3f5f"
          },
          "geo": {
           "bgcolor": "white",
           "lakecolor": "white",
           "landcolor": "#E5ECF6",
           "showlakes": true,
           "showland": true,
           "subunitcolor": "white"
          },
          "hoverlabel": {
           "align": "left"
          },
          "hovermode": "closest",
          "mapbox": {
           "style": "light"
          },
          "paper_bgcolor": "white",
          "plot_bgcolor": "#E5ECF6",
          "polar": {
           "angularaxis": {
            "gridcolor": "white",
            "linecolor": "white",
            "ticks": ""
           },
           "bgcolor": "#E5ECF6",
           "radialaxis": {
            "gridcolor": "white",
            "linecolor": "white",
            "ticks": ""
           }
          },
          "scene": {
           "xaxis": {
            "backgroundcolor": "#E5ECF6",
            "gridcolor": "white",
            "gridwidth": 2,
            "linecolor": "white",
            "showbackground": true,
            "ticks": "",
            "zerolinecolor": "white"
           },
           "yaxis": {
            "backgroundcolor": "#E5ECF6",
            "gridcolor": "white",
            "gridwidth": 2,
            "linecolor": "white",
            "showbackground": true,
            "ticks": "",
            "zerolinecolor": "white"
           },
           "zaxis": {
            "backgroundcolor": "#E5ECF6",
            "gridcolor": "white",
            "gridwidth": 2,
            "linecolor": "white",
            "showbackground": true,
            "ticks": "",
            "zerolinecolor": "white"
           }
          },
          "shapedefaults": {
           "line": {
            "color": "#2a3f5f"
           }
          },
          "ternary": {
           "aaxis": {
            "gridcolor": "white",
            "linecolor": "white",
            "ticks": ""
           },
           "baxis": {
            "gridcolor": "white",
            "linecolor": "white",
            "ticks": ""
           },
           "bgcolor": "#E5ECF6",
           "caxis": {
            "gridcolor": "white",
            "linecolor": "white",
            "ticks": ""
           }
          },
          "title": {
           "x": 0.05
          },
          "xaxis": {
           "automargin": true,
           "gridcolor": "white",
           "linecolor": "white",
           "ticks": "",
           "title": {
            "standoff": 15
           },
           "zerolinecolor": "white",
           "zerolinewidth": 2
          },
          "yaxis": {
           "automargin": true,
           "gridcolor": "white",
           "linecolor": "white",
           "ticks": "",
           "title": {
            "standoff": 15
           },
           "zerolinecolor": "white",
           "zerolinewidth": 2
          }
         }
        },
        "title": {
         "text": "2021-2023 US Wildfire Cases Visualisation<br>Compared With Temperature & Precipitation By State"
        }
       }
      }
     },
     "metadata": {},
     "output_type": "display_data"
    }
   ],
   "source": [
    "import plotly.graph_objects as go\n",
    "\n",
    "# 假设 temperature 是您的温度数据集\n",
    "temperature[\"text\"] = temperature[\"state\"] + \"<br>\"\n",
    "\n",
    "# 创建图表\n",
    "fig = go.Figure()\n",
    "\n",
    "# 添加初始季度的温度数据轨迹\n",
    "temperature_trace = go.Choropleth(\n",
    "    visible=True,  # 保证初始季度的温度数据可见\n",
    "    locations=temperature[\"code\"],\n",
    "    z=temperature[\"2021Q3\"].astype(float),  # 初始显示2021Q3\n",
    "    locationmode=\"USA-states\",\n",
    "    colorscale=\"Reds\",\n",
    "    autocolorscale=False,\n",
    "    text=temperature[\"text\"],  # hover text\n",
    "    marker_line_color=\"white\",  # line markers between states\n",
    "    colorbar_title=\"↑ Temperature\",\n",
    ")\n",
    "fig.add_trace(temperature_trace)\n",
    "\n",
    "# 假设 wildfires 是您的野火数据集\n",
    "# 为每个季度添加野火数据轨迹\n",
    "seasons = [\n",
    "    \"2021Q1\",\n",
    "    \"2021Q2\",\n",
    "    \"2021Q3\",\n",
    "    \"2021Q4\",\n",
    "    \"2022Q1\",\n",
    "    \"2022Q2\",\n",
    "    \"2022Q3\",\n",
    "    \"2022Q4\",\n",
    "    \"2023Q1\",\n",
    "    \"2023Q2\",\n",
    "    \"2023Q3\",\n",
    "    \"2023Q4\",\n",
    "]\n",
    "for season in seasons:\n",
    "    season_df = df[df[\"Season\"] == season]\n",
    "    fig.add_trace(\n",
    "        go.Scattergeo(\n",
    "            visible=(season == \"2021Q3\"),  # 仅对初始季度设为可见\n",
    "            lon=season_df[\"Longitude\"],\n",
    "            lat=season_df[\"Latitude\"],\n",
    "            text=[\"🔥\" for _ in range(len(season_df))],  # 使用火焰 emoji\n",
    "            mode=\"text\",  # 将模式设置为\"text\"以显示文本标记\n",
    "            textfont=dict(\n",
    "                family=\"Arial\",  # 可以选择合适的字体\n",
    "                size=12,  # 调整大小以适合你的图表\n",
    "                color=\"red\",  # 文本的颜色，这里是红色\n",
    "            ),\n",
    "        )\n",
    "    )\n",
    "\n",
    "# 更新布局\n",
    "fig.update_layout(\n",
    "    title_text=\"2021-2023 US Wildfire Cases Visualisation<br>Compared With Temperature & Precipitation By State\",\n",
    "    geo=dict(\n",
    "        scope=\"usa\",\n",
    "        projection=go.layout.geo.Projection(type=\"albers usa\"),\n",
    "        showlakes=True,  # lakes\n",
    "        lakecolor=\"rgb(255, 255, 255)\",\n",
    "    ),\n",
    ")\n",
    "\n",
    "# 添加滑动条以切换季度\n",
    "steps = []\n",
    "for index1, season in enumerate(seasons):\n",
    "    step = dict(\n",
    "        method=\"restyle\",\n",
    "        args=[\n",
    "            {\n",
    "                \"z\": [temperature[season].astype(float)],\n",
    "                \"visible\": [True]\n",
    "                + [index1 == index2 for index2 in range(len(seasons))],\n",
    "            },\n",
    "        ],\n",
    "        label=season,\n",
    "    )\n",
    "    steps.append(step)\n",
    "\n",
    "slider = dict(active=2, currentvalue={\"prefix\": \"Season: \"}, steps=steps)\n",
    "\n",
    "fig.update_layout(sliders=[slider])\n",
    "\n",
    "# 显示图表\n",
    "fig.show()"
   ]
  },
  {
   "cell_type": "code",
   "execution_count": 22,
   "metadata": {},
   "outputs": [],
   "source": [
    "# visualisation(temperture, Precipitation, df)"
   ]
  },
  {
   "cell_type": "code",
   "execution_count": 23,
   "metadata": {},
   "outputs": [
    {
     "name": "stdout",
     "output_type": "stream",
     "text": [
      "Requirement already satisfied: dash in c:\\users\\redhawc\\.pyenv\\pyenv-win\\versions\\3.11.2\\lib\\site-packages (2.14.1)\n",
      "Requirement already satisfied: Flask<3.1,>=1.0.4 in c:\\users\\redhawc\\.pyenv\\pyenv-win\\versions\\3.11.2\\lib\\site-packages (from dash) (3.0.0)\n",
      "Requirement already satisfied: Werkzeug<3.1 in c:\\users\\redhawc\\.pyenv\\pyenv-win\\versions\\3.11.2\\lib\\site-packages (from dash) (3.0.1)\n",
      "Requirement already satisfied: plotly>=5.0.0 in c:\\users\\redhawc\\.pyenv\\pyenv-win\\versions\\3.11.2\\lib\\site-packages (from dash) (5.17.0)\n",
      "Requirement already satisfied: dash-html-components==2.0.0 in c:\\users\\redhawc\\.pyenv\\pyenv-win\\versions\\3.11.2\\lib\\site-packages (from dash) (2.0.0)\n",
      "Requirement already satisfied: dash-core-components==2.0.0 in c:\\users\\redhawc\\.pyenv\\pyenv-win\\versions\\3.11.2\\lib\\site-packages (from dash) (2.0.0)\n",
      "Requirement already satisfied: dash-table==5.0.0 in c:\\users\\redhawc\\.pyenv\\pyenv-win\\versions\\3.11.2\\lib\\site-packages (from dash) (5.0.0)\n",
      "Requirement already satisfied: typing-extensions>=4.1.1 in c:\\users\\redhawc\\.pyenv\\pyenv-win\\versions\\3.11.2\\lib\\site-packages (from dash) (4.8.0)\n",
      "Requirement already satisfied: requests in c:\\users\\redhawc\\.pyenv\\pyenv-win\\versions\\3.11.2\\lib\\site-packages (from dash) (2.31.0)\n",
      "Requirement already satisfied: retrying in c:\\users\\redhawc\\.pyenv\\pyenv-win\\versions\\3.11.2\\lib\\site-packages (from dash) (1.3.4)\n",
      "Requirement already satisfied: ansi2html in c:\\users\\redhawc\\.pyenv\\pyenv-win\\versions\\3.11.2\\lib\\site-packages (from dash) (1.8.0)\n",
      "Requirement already satisfied: nest-asyncio in c:\\users\\redhawc\\.pyenv\\pyenv-win\\versions\\3.11.2\\lib\\site-packages (from dash) (1.5.6)\n",
      "Requirement already satisfied: setuptools in c:\\users\\redhawc\\.pyenv\\pyenv-win\\versions\\3.11.2\\lib\\site-packages (from dash) (65.5.0)\n",
      "Requirement already satisfied: importlib-metadata in c:\\users\\redhawc\\.pyenv\\pyenv-win\\versions\\3.11.2\\lib\\site-packages (from dash) (6.8.0)\n",
      "Requirement already satisfied: Jinja2>=3.1.2 in c:\\users\\redhawc\\.pyenv\\pyenv-win\\versions\\3.11.2\\lib\\site-packages (from Flask<3.1,>=1.0.4->dash) (3.1.2)\n",
      "Requirement already satisfied: itsdangerous>=2.1.2 in c:\\users\\redhawc\\.pyenv\\pyenv-win\\versions\\3.11.2\\lib\\site-packages (from Flask<3.1,>=1.0.4->dash) (2.1.2)\n",
      "Requirement already satisfied: click>=8.1.3 in c:\\users\\redhawc\\.pyenv\\pyenv-win\\versions\\3.11.2\\lib\\site-packages (from Flask<3.1,>=1.0.4->dash) (8.1.7)\n",
      "Requirement already satisfied: blinker>=1.6.2 in c:\\users\\redhawc\\.pyenv\\pyenv-win\\versions\\3.11.2\\lib\\site-packages (from Flask<3.1,>=1.0.4->dash) (1.7.0)\n",
      "Requirement already satisfied: tenacity>=6.2.0 in c:\\users\\redhawc\\.pyenv\\pyenv-win\\versions\\3.11.2\\lib\\site-packages (from plotly>=5.0.0->dash) (8.2.3)\n",
      "Requirement already satisfied: packaging in c:\\users\\redhawc\\.pyenv\\pyenv-win\\versions\\3.11.2\\lib\\site-packages (from plotly>=5.0.0->dash) (23.1)\n",
      "Requirement already satisfied: MarkupSafe>=2.1.1 in c:\\users\\redhawc\\.pyenv\\pyenv-win\\versions\\3.11.2\\lib\\site-packages (from Werkzeug<3.1->dash) (2.1.3)\n",
      "Requirement already satisfied: zipp>=0.5 in c:\\users\\redhawc\\.pyenv\\pyenv-win\\versions\\3.11.2\\lib\\site-packages (from importlib-metadata->dash) (3.17.0)\n",
      "Requirement already satisfied: charset-normalizer<4,>=2 in c:\\users\\redhawc\\.pyenv\\pyenv-win\\versions\\3.11.2\\lib\\site-packages (from requests->dash) (3.3.0)\n",
      "Requirement already satisfied: idna<4,>=2.5 in c:\\users\\redhawc\\.pyenv\\pyenv-win\\versions\\3.11.2\\lib\\site-packages (from requests->dash) (3.4)\n",
      "Requirement already satisfied: urllib3<3,>=1.21.1 in c:\\users\\redhawc\\.pyenv\\pyenv-win\\versions\\3.11.2\\lib\\site-packages (from requests->dash) (2.0.7)\n",
      "Requirement already satisfied: certifi>=2017.4.17 in c:\\users\\redhawc\\.pyenv\\pyenv-win\\versions\\3.11.2\\lib\\site-packages (from requests->dash) (2023.7.22)\n",
      "Requirement already satisfied: six>=1.7.0 in c:\\users\\redhawc\\.pyenv\\pyenv-win\\versions\\3.11.2\\lib\\site-packages (from retrying->dash) (1.16.0)\n",
      "Requirement already satisfied: colorama in c:\\users\\redhawc\\.pyenv\\pyenv-win\\versions\\3.11.2\\lib\\site-packages (from click>=8.1.3->Flask<3.1,>=1.0.4->dash) (0.4.6)\n"
     ]
    },
    {
     "name": "stderr",
     "output_type": "stream",
     "text": [
      "\n",
      "[notice] A new release of pip available: 22.3.1 -> 23.3.1\n",
      "[notice] To update, run: python.exe -m pip install --upgrade pip\n"
     ]
    }
   ],
   "source": [
    "# !pip install dash"
   ]
  },
  {
   "cell_type": "code",
   "execution_count": 24,
   "metadata": {},
   "outputs": [
    {
     "name": "stderr",
     "output_type": "stream",
     "text": [
      "c:\\Users\\redhawc\\.pyenv\\pyenv-win\\versions\\3.11.2\\Lib\\site-packages\\dash\\dash.py:538: UserWarning:\n",
      "\n",
      "JupyterDash is deprecated, use Dash instead.\n",
      "See https://dash.plotly.com/dash-in-jupyter for more details.\n",
      "\n"
     ]
    },
    {
     "ename": "TypeError",
     "evalue": "'NoneType' object cannot be interpreted as an integer",
     "output_type": "error",
     "traceback": [
      "\u001b[1;31m---------------------------------------------------------------------------\u001b[0m",
      "\u001b[1;31mTypeError\u001b[0m                                 Traceback (most recent call last)",
      "\u001b[1;32mc:\\Users\\redhawc\\Desktop\\EDI_BUSANA\\Python_programming\\coding_problems\\NASA_Group.ipynb Cell 18\u001b[0m line \u001b[0;36m2\n\u001b[0;32m     <a href='vscode-notebook-cell:/c%3A/Users/redhawc/Desktop/EDI_BUSANA/Python_programming/coding_problems/NASA_Group.ipynb#X23sZmlsZQ%3D%3D?line=19'>20</a>\u001b[0m \u001b[39m@app\u001b[39m\u001b[39m.\u001b[39mcallback(\n\u001b[0;32m     <a href='vscode-notebook-cell:/c%3A/Users/redhawc/Desktop/EDI_BUSANA/Python_programming/coding_problems/NASA_Group.ipynb#X23sZmlsZQ%3D%3D?line=20'>21</a>\u001b[0m     Output(\u001b[39m'\u001b[39m\u001b[39mdisplay-selected-value\u001b[39m\u001b[39m'\u001b[39m, \u001b[39m'\u001b[39m\u001b[39mchildren\u001b[39m\u001b[39m'\u001b[39m),\n\u001b[0;32m     <a href='vscode-notebook-cell:/c%3A/Users/redhawc/Desktop/EDI_BUSANA/Python_programming/coding_problems/NASA_Group.ipynb#X23sZmlsZQ%3D%3D?line=21'>22</a>\u001b[0m     [Input(\u001b[39m'\u001b[39m\u001b[39mdropdown\u001b[39m\u001b[39m'\u001b[39m, \u001b[39m'\u001b[39m\u001b[39mvalue\u001b[39m\u001b[39m'\u001b[39m)]\n\u001b[0;32m     <a href='vscode-notebook-cell:/c%3A/Users/redhawc/Desktop/EDI_BUSANA/Python_programming/coding_problems/NASA_Group.ipynb#X23sZmlsZQ%3D%3D?line=22'>23</a>\u001b[0m )\n\u001b[0;32m     <a href='vscode-notebook-cell:/c%3A/Users/redhawc/Desktop/EDI_BUSANA/Python_programming/coding_problems/NASA_Group.ipynb#X23sZmlsZQ%3D%3D?line=23'>24</a>\u001b[0m \u001b[39mdef\u001b[39;00m \u001b[39mupdate_output\u001b[39m(value):\n\u001b[0;32m     <a href='vscode-notebook-cell:/c%3A/Users/redhawc/Desktop/EDI_BUSANA/Python_programming/coding_problems/NASA_Group.ipynb#X23sZmlsZQ%3D%3D?line=24'>25</a>\u001b[0m     \u001b[39mreturn\u001b[39;00m \u001b[39mf\u001b[39m\u001b[39m'\u001b[39m\u001b[39m您选择了: \u001b[39m\u001b[39m{\u001b[39;00mvalue\u001b[39m}\u001b[39;00m\u001b[39m'\u001b[39m\n\u001b[1;32m---> <a href='vscode-notebook-cell:/c%3A/Users/redhawc/Desktop/EDI_BUSANA/Python_programming/coding_problems/NASA_Group.ipynb#X23sZmlsZQ%3D%3D?line=26'>27</a>\u001b[0m app\u001b[39m.\u001b[39;49mrun_server(mode\u001b[39m=\u001b[39;49m\u001b[39m'\u001b[39;49m\u001b[39minline\u001b[39;49m\u001b[39m'\u001b[39;49m)  \u001b[39m# 使用内联模式\u001b[39;00m\n",
      "File \u001b[1;32mc:\\Users\\redhawc\\.pyenv\\pyenv-win\\versions\\3.11.2\\Lib\\site-packages\\jupyter_dash\\jupyter_app.py:222\u001b[0m, in \u001b[0;36mJupyterDash.run_server\u001b[1;34m(self, mode, width, height, inline_exceptions, **kwargs)\u001b[0m\n\u001b[0;32m    220\u001b[0m old_server \u001b[39m=\u001b[39m \u001b[39mself\u001b[39m\u001b[39m.\u001b[39m_server_threads\u001b[39m.\u001b[39mget((host, port))\n\u001b[0;32m    221\u001b[0m \u001b[39mif\u001b[39;00m old_server:\n\u001b[1;32m--> 222\u001b[0m     old_server\u001b[39m.\u001b[39;49mkill()\n\u001b[0;32m    223\u001b[0m     old_server\u001b[39m.\u001b[39mjoin()\n\u001b[0;32m    224\u001b[0m     \u001b[39mdel\u001b[39;00m \u001b[39mself\u001b[39m\u001b[39m.\u001b[39m_server_threads[(host, port)]\n",
      "File \u001b[1;32mc:\\Users\\redhawc\\.pyenv\\pyenv-win\\versions\\3.11.2\\Lib\\site-packages\\jupyter_dash\\_stoppable_thread.py:16\u001b[0m, in \u001b[0;36mStoppableThread.kill\u001b[1;34m(self)\u001b[0m\n\u001b[0;32m     13\u001b[0m \u001b[39mdef\u001b[39;00m \u001b[39mkill\u001b[39m(\u001b[39mself\u001b[39m):\n\u001b[0;32m     14\u001b[0m     thread_id \u001b[39m=\u001b[39m \u001b[39mself\u001b[39m\u001b[39m.\u001b[39mget_id()\n\u001b[0;32m     15\u001b[0m     res \u001b[39m=\u001b[39m ctypes\u001b[39m.\u001b[39mpythonapi\u001b[39m.\u001b[39mPyThreadState_SetAsyncExc(\n\u001b[1;32m---> 16\u001b[0m         ctypes\u001b[39m.\u001b[39;49mc_long(thread_id), ctypes\u001b[39m.\u001b[39mpy_object(\u001b[39mSystemExit\u001b[39;00m)\n\u001b[0;32m     17\u001b[0m     )\n\u001b[0;32m     18\u001b[0m     \u001b[39mif\u001b[39;00m res \u001b[39m==\u001b[39m \u001b[39m0\u001b[39m:\n\u001b[0;32m     19\u001b[0m         \u001b[39mraise\u001b[39;00m \u001b[39mValueError\u001b[39;00m(\u001b[39mf\u001b[39m\u001b[39m\"\u001b[39m\u001b[39mInvalid thread id: \u001b[39m\u001b[39m{\u001b[39;00mthread_id\u001b[39m}\u001b[39;00m\u001b[39m\"\u001b[39m)\n",
      "\u001b[1;31mTypeError\u001b[0m: 'NoneType' object cannot be interpreted as an integer"
     ]
    }
   ],
   "source": [
    "from jupyter_dash import JupyterDash\n",
    "from dash import html, dcc\n",
    "from dash.dependencies import Input, Output\n",
    "\n",
    "app = JupyterDash(__name__)\n",
    "\n",
    "app.layout = html.Div([\n",
    "    dcc.Dropdown(\n",
    "        id='dropdown',\n",
    "        options=[\n",
    "            {'label': '选项 1', 'value': '选项 1'},\n",
    "            {'label': '选项 2', 'value': '选项 2'},\n",
    "            {'label': '选项 3', 'value': '选项 3'}\n",
    "        ],\n",
    "        value='选项 1'\n",
    "    ),\n",
    "    html.Div(id='display-selected-value')\n",
    "])\n",
    "\n",
    "@app.callback(\n",
    "    Output('display-selected-value', 'children'),\n",
    "    [Input('dropdown', 'value')]\n",
    ")\n",
    "def update_output(value):\n",
    "    return f'您选择了: {value}'\n",
    "\n",
    "app.run_server(mode='inline')  # 使用内联模式\n"
   ]
  }
 ],
 "metadata": {
  "kernelspec": {
   "display_name": "Python 3 (ipykernel)",
   "language": "python",
   "name": "python3"
  },
  "language_info": {
   "codemirror_mode": {
    "name": "ipython",
    "version": 3
   },
   "file_extension": ".py",
   "mimetype": "text/x-python",
   "name": "python",
   "nbconvert_exporter": "python",
   "pygments_lexer": "ipython3",
   "version": "3.11.2"
  }
 },
 "nbformat": 4,
 "nbformat_minor": 5
}
