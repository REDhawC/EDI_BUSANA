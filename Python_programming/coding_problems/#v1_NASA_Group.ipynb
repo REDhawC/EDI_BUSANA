{
 "cells": [
  {
   "cell_type": "code",
   "execution_count": 12,
   "id": "e5a92081",
   "metadata": {},
   "outputs": [],
   "source": [
    "import pprint as pp\n",
    "import requests\n",
    "import pandas as pd\n",
    "import requests\n",
    "import plotly.graph_objects as go"
   ]
  },
  {
   "cell_type": "code",
   "execution_count": 13,
   "id": "b5a50b51",
   "metadata": {},
   "outputs": [],
   "source": [
    "def get_latest_events():\n",
    "    try:\n",
    "        response = requests.get(\"https://eonet.gsfc.nasa.gov/api/v3/events\")\n",
    "        if response.status_code == 200:\n",
    "            return response.json()\n",
    "        else:\n",
    "            print(f\"Error: {response.status_code}\")\n",
    "            return None\n",
    "    except Exception as e:\n",
    "        print(f\"An error occurred: {e}\")\n",
    "        return None\n",
    "\n",
    "\n",
    "def preprocess_wildfires_df(events):\n",
    "    events = get_latest_events()\n",
    "    if events:\n",
    "        # Extract relevant information from each event and add it to a list\n",
    "        data = []\n",
    "        for event in events[\"events\"]:\n",
    "            data.append(\n",
    "                {\n",
    "                    \"Event\": event[\"title\"],\n",
    "                    \"Categories\": event[\"categories\"][0][\"title\"]\n",
    "                    if event[\"categories\"]\n",
    "                    else None,\n",
    "                    \"Date\": event[\"geometry\"][0][\"date\"] if event[\"geometry\"] else None,\n",
    "                    \"Location\": event[\"geometry\"][0][\"coordinates\"]\n",
    "                    if event[\"geometry\"]\n",
    "                    else None,\n",
    "                }\n",
    "            )\n",
    "        # Convert the list of dictionaries to a DataFrame\n",
    "        df = pd.DataFrame(data)\n",
    "        df[\"Country\"] = df[\"Event\"].apply(\n",
    "            lambda event: \"United States\"\n",
    "            if \"States\" in event\n",
    "            else event.split(\",\")[-1].strip()\n",
    "        )\n",
    "        df[\"Date\"] = pd.to_datetime(df[\"Date\"])\n",
    "        df[\"Year\"] = df[\"Date\"].dt.year\n",
    "        df[\"Season\"] = df[\"Date\"].dt.to_period(\"Q\").astype(str)\n",
    "\n",
    "        df[[\"Longitude\", \"Latitude\"]] = pd.DataFrame(\n",
    "            df[\"Location\"].tolist(), index=df.index\n",
    "        )\n",
    "\n",
    "    df = df[(df[\"Country\"] == \"United States\") & (df[\"Categories\"] == \"Wildfires\")]\n",
    "    seasons = df[\"Season\"].unique()\n",
    "    new_seasons = {season: season[:4] + \" \" + season[4:] for season in seasons}\n",
    "    df[\"Season\"] = df[\"Season\"].replace(new_seasons)\n",
    "\n",
    "    return df"
   ]
  },
  {
   "cell_type": "code",
   "execution_count": 14,
   "metadata": {},
   "outputs": [
    {
     "name": "stderr",
     "output_type": "stream",
     "text": [
      "C:\\Users\\redhawc\\AppData\\Local\\Temp\\ipykernel_23300\\2294503821.py:41: UserWarning:\n",
      "\n",
      "Converting to PeriodArray/Index representation will drop timezone information.\n",
      "\n"
     ]
    }
   ],
   "source": [
    "events = get_latest_events()\n",
    "df = preprocess_wildfires_df(events)"
   ]
  },
  {
   "cell_type": "code",
   "execution_count": 15,
   "metadata": {},
   "outputs": [
    {
     "data": {
      "text/html": [
       "<div>\n",
       "<style scoped>\n",
       "    .dataframe tbody tr th:only-of-type {\n",
       "        vertical-align: middle;\n",
       "    }\n",
       "\n",
       "    .dataframe tbody tr th {\n",
       "        vertical-align: top;\n",
       "    }\n",
       "\n",
       "    .dataframe thead th {\n",
       "        text-align: right;\n",
       "    }\n",
       "</style>\n",
       "<table border=\"1\" class=\"dataframe\">\n",
       "  <thead>\n",
       "    <tr style=\"text-align: right;\">\n",
       "      <th></th>\n",
       "      <th>Event</th>\n",
       "      <th>Categories</th>\n",
       "      <th>Date</th>\n",
       "      <th>Location</th>\n",
       "      <th>Country</th>\n",
       "      <th>Year</th>\n",
       "      <th>Season</th>\n",
       "      <th>Longitude</th>\n",
       "      <th>Latitude</th>\n",
       "    </tr>\n",
       "  </thead>\n",
       "  <tbody>\n",
       "    <tr>\n",
       "      <th>22</th>\n",
       "      <td>Major Fire, Ocala National Forest, Florida, Un...</td>\n",
       "      <td>Wildfires</td>\n",
       "      <td>2023-04-27 14:15:00+00:00</td>\n",
       "      <td>[-81.688889, 29.229722]</td>\n",
       "      <td>United States</td>\n",
       "      <td>2023</td>\n",
       "      <td>2023 Q2</td>\n",
       "      <td>-81.688889</td>\n",
       "      <td>29.229722</td>\n",
       "    </tr>\n",
       "    <tr>\n",
       "      <th>55</th>\n",
       "      <td>Garceau Fire, W of Polson, Montana, United States</td>\n",
       "      <td>Wildfires</td>\n",
       "      <td>2022-08-16 00:00:00+00:00</td>\n",
       "      <td>[-114.489, 47.694]</td>\n",
       "      <td>United States</td>\n",
       "      <td>2022</td>\n",
       "      <td>2022 Q3</td>\n",
       "      <td>-114.489000</td>\n",
       "      <td>47.694000</td>\n",
       "    </tr>\n",
       "    <tr>\n",
       "      <th>105</th>\n",
       "      <td>Wildfire - N of Merced, California - United St...</td>\n",
       "      <td>Wildfires</td>\n",
       "      <td>2022-02-16 20:44:00+00:00</td>\n",
       "      <td>[-120.533005422, 37.543469882]</td>\n",
       "      <td>United States</td>\n",
       "      <td>2022</td>\n",
       "      <td>2022 Q1</td>\n",
       "      <td>-120.533005</td>\n",
       "      <td>37.543470</td>\n",
       "    </tr>\n",
       "    <tr>\n",
       "      <th>106</th>\n",
       "      <td>Wildfire - E of Mesa, Arizona - United States</td>\n",
       "      <td>Wildfires</td>\n",
       "      <td>2022-02-13 20:40:00+00:00</td>\n",
       "      <td>[-110.862229905, 33.417091555]</td>\n",
       "      <td>United States</td>\n",
       "      <td>2022</td>\n",
       "      <td>2022 Q1</td>\n",
       "      <td>-110.862230</td>\n",
       "      <td>33.417092</td>\n",
       "    </tr>\n",
       "    <tr>\n",
       "      <th>111</th>\n",
       "      <td>Wildfire - E of Mesa, Arizona - United States</td>\n",
       "      <td>Wildfires</td>\n",
       "      <td>2022-01-28 08:38:00+00:00</td>\n",
       "      <td>[-110.860071422, 33.416654251]</td>\n",
       "      <td>United States</td>\n",
       "      <td>2022</td>\n",
       "      <td>2022 Q1</td>\n",
       "      <td>-110.860071</td>\n",
       "      <td>33.416654</td>\n",
       "    </tr>\n",
       "  </tbody>\n",
       "</table>\n",
       "</div>"
      ],
      "text/plain": [
       "                                                 Event Categories  \\\n",
       "22   Major Fire, Ocala National Forest, Florida, Un...  Wildfires   \n",
       "55   Garceau Fire, W of Polson, Montana, United States  Wildfires   \n",
       "105  Wildfire - N of Merced, California - United St...  Wildfires   \n",
       "106      Wildfire - E of Mesa, Arizona - United States  Wildfires   \n",
       "111      Wildfire - E of Mesa, Arizona - United States  Wildfires   \n",
       "\n",
       "                         Date                        Location        Country  \\\n",
       "22  2023-04-27 14:15:00+00:00         [-81.688889, 29.229722]  United States   \n",
       "55  2022-08-16 00:00:00+00:00              [-114.489, 47.694]  United States   \n",
       "105 2022-02-16 20:44:00+00:00  [-120.533005422, 37.543469882]  United States   \n",
       "106 2022-02-13 20:40:00+00:00  [-110.862229905, 33.417091555]  United States   \n",
       "111 2022-01-28 08:38:00+00:00  [-110.860071422, 33.416654251]  United States   \n",
       "\n",
       "     Year   Season   Longitude   Latitude  \n",
       "22   2023  2023 Q2  -81.688889  29.229722  \n",
       "55   2022  2022 Q3 -114.489000  47.694000  \n",
       "105  2022  2022 Q1 -120.533005  37.543470  \n",
       "106  2022  2022 Q1 -110.862230  33.417092  \n",
       "111  2022  2022 Q1 -110.860071  33.416654  "
      ]
     },
     "execution_count": 15,
     "metadata": {},
     "output_type": "execute_result"
    }
   ],
   "source": [
    "df.head()"
   ]
  },
  {
   "cell_type": "code",
   "execution_count": 16,
   "metadata": {},
   "outputs": [
    {
     "name": "stdout",
     "output_type": "stream",
     "text": [
      "Requirement already satisfied: plotly in c:\\users\\redhawc\\.pyenv\\pyenv-win\\versions\\3.11.2\\lib\\site-packages (5.17.0)\n",
      "Requirement already satisfied: geopandas in c:\\users\\redhawc\\.pyenv\\pyenv-win\\versions\\3.11.2\\lib\\site-packages (0.14.1)\n",
      "Requirement already satisfied: pyshp in c:\\users\\redhawc\\.pyenv\\pyenv-win\\versions\\3.11.2\\lib\\site-packages (2.3.1)\n",
      "Requirement already satisfied: shapely in c:\\users\\redhawc\\.pyenv\\pyenv-win\\versions\\3.11.2\\lib\\site-packages (2.0.2)\n",
      "Requirement already satisfied: tenacity>=6.2.0 in c:\\users\\redhawc\\.pyenv\\pyenv-win\\versions\\3.11.2\\lib\\site-packages (from plotly) (8.2.3)\n",
      "Requirement already satisfied: packaging in c:\\users\\redhawc\\.pyenv\\pyenv-win\\versions\\3.11.2\\lib\\site-packages (from plotly) (23.1)\n",
      "Requirement already satisfied: fiona>=1.8.21 in c:\\users\\redhawc\\.pyenv\\pyenv-win\\versions\\3.11.2\\lib\\site-packages (from geopandas) (1.9.5)\n",
      "Requirement already satisfied: pandas>=1.4.0 in c:\\users\\redhawc\\.pyenv\\pyenv-win\\versions\\3.11.2\\lib\\site-packages (from geopandas) (2.1.3)\n",
      "Requirement already satisfied: pyproj>=3.3.0 in c:\\users\\redhawc\\.pyenv\\pyenv-win\\versions\\3.11.2\\lib\\site-packages (from geopandas) (3.6.1)\n",
      "Requirement already satisfied: numpy>=1.14 in c:\\users\\redhawc\\.pyenv\\pyenv-win\\versions\\3.11.2\\lib\\site-packages (from shapely) (1.25.2)\n",
      "Requirement already satisfied: attrs>=19.2.0 in c:\\users\\redhawc\\.pyenv\\pyenv-win\\versions\\3.11.2\\lib\\site-packages (from fiona>=1.8.21->geopandas) (23.1.0)\n",
      "Requirement already satisfied: certifi in c:\\users\\redhawc\\.pyenv\\pyenv-win\\versions\\3.11.2\\lib\\site-packages (from fiona>=1.8.21->geopandas) (2023.7.22)\n",
      "Requirement already satisfied: click~=8.0 in c:\\users\\redhawc\\.pyenv\\pyenv-win\\versions\\3.11.2\\lib\\site-packages (from fiona>=1.8.21->geopandas) (8.1.7)\n",
      "Requirement already satisfied: click-plugins>=1.0 in c:\\users\\redhawc\\.pyenv\\pyenv-win\\versions\\3.11.2\\lib\\site-packages (from fiona>=1.8.21->geopandas) (1.1.1)\n",
      "Requirement already satisfied: cligj>=0.5 in c:\\users\\redhawc\\.pyenv\\pyenv-win\\versions\\3.11.2\\lib\\site-packages (from fiona>=1.8.21->geopandas) (0.7.2)\n",
      "Requirement already satisfied: six in c:\\users\\redhawc\\.pyenv\\pyenv-win\\versions\\3.11.2\\lib\\site-packages (from fiona>=1.8.21->geopandas) (1.16.0)\n",
      "Requirement already satisfied: setuptools in c:\\users\\redhawc\\.pyenv\\pyenv-win\\versions\\3.11.2\\lib\\site-packages (from fiona>=1.8.21->geopandas) (65.5.0)\n",
      "Requirement already satisfied: python-dateutil>=2.8.2 in c:\\users\\redhawc\\.pyenv\\pyenv-win\\versions\\3.11.2\\lib\\site-packages (from pandas>=1.4.0->geopandas) (2.8.2)\n",
      "Requirement already satisfied: pytz>=2020.1 in c:\\users\\redhawc\\.pyenv\\pyenv-win\\versions\\3.11.2\\lib\\site-packages (from pandas>=1.4.0->geopandas) (2023.3.post1)\n",
      "Requirement already satisfied: tzdata>=2022.1 in c:\\users\\redhawc\\.pyenv\\pyenv-win\\versions\\3.11.2\\lib\\site-packages (from pandas>=1.4.0->geopandas) (2023.3)\n",
      "Requirement already satisfied: colorama in c:\\users\\redhawc\\.pyenv\\pyenv-win\\versions\\3.11.2\\lib\\site-packages (from click~=8.0->fiona>=1.8.21->geopandas) (0.4.6)\n"
     ]
    },
    {
     "name": "stderr",
     "output_type": "stream",
     "text": [
      "\n",
      "[notice] A new release of pip available: 22.3.1 -> 23.3.1\n",
      "[notice] To update, run: python.exe -m pip install --upgrade pip\n"
     ]
    }
   ],
   "source": [
    "!pip install plotly geopandas pyshp shapely"
   ]
  },
  {
   "cell_type": "code",
   "execution_count": 17,
   "metadata": {},
   "outputs": [],
   "source": [
    "temperature = pd.read_csv(\"https://raw.githubusercontent.com/REDhawC/EDI_BUSANA/master/Python_programming/coding_problems/TemperatureByStates_Updated.csv\")\n",
    "precipitation = pd.read_csv(\"https://raw.githubusercontent.com/REDhawC/EDI_BUSANA/master/Python_programming/coding_problems/PrecipitationByStates_Updated.csv\")"
   ]
  },
  {
   "cell_type": "code",
   "execution_count": 18,
   "metadata": {},
   "outputs": [
    {
     "data": {
      "text/html": [
       "<div>\n",
       "<style scoped>\n",
       "    .dataframe tbody tr th:only-of-type {\n",
       "        vertical-align: middle;\n",
       "    }\n",
       "\n",
       "    .dataframe tbody tr th {\n",
       "        vertical-align: top;\n",
       "    }\n",
       "\n",
       "    .dataframe thead th {\n",
       "        text-align: right;\n",
       "    }\n",
       "</style>\n",
       "<table border=\"1\" class=\"dataframe\">\n",
       "  <thead>\n",
       "    <tr style=\"text-align: right;\">\n",
       "      <th></th>\n",
       "      <th>State</th>\n",
       "      <th>2021 Q1</th>\n",
       "      <th>2021 Q2</th>\n",
       "      <th>2021 Q3</th>\n",
       "      <th>2021 Q4</th>\n",
       "      <th>2022 Q1</th>\n",
       "      <th>2022 Q2</th>\n",
       "      <th>2022 Q3</th>\n",
       "      <th>2022 Q4</th>\n",
       "      <th>2023 Q1</th>\n",
       "      <th>2023 Q2</th>\n",
       "      <th>2023 Q3</th>\n",
       "      <th>2023 Q4</th>\n",
       "      <th>code</th>\n",
       "      <th>state</th>\n",
       "    </tr>\n",
       "  </thead>\n",
       "  <tbody>\n",
       "    <tr>\n",
       "      <th>0</th>\n",
       "      <td>Alabama</td>\n",
       "      <td>50.966667</td>\n",
       "      <td>69.333333</td>\n",
       "      <td>77.733333</td>\n",
       "      <td>58.766667</td>\n",
       "      <td>50.433333</td>\n",
       "      <td>72.133333</td>\n",
       "      <td>78.300000</td>\n",
       "      <td>55.266667</td>\n",
       "      <td>55.533333</td>\n",
       "      <td>70.133333</td>\n",
       "      <td>79.800000</td>\n",
       "      <td>65.2</td>\n",
       "      <td>AL</td>\n",
       "      <td>Alabama</td>\n",
       "    </tr>\n",
       "    <tr>\n",
       "      <th>1</th>\n",
       "      <td>Alaska</td>\n",
       "      <td>6.900000</td>\n",
       "      <td>38.366667</td>\n",
       "      <td>47.566667</td>\n",
       "      <td>13.100000</td>\n",
       "      <td>9.633333</td>\n",
       "      <td>39.233333</td>\n",
       "      <td>48.800000</td>\n",
       "      <td>17.500000</td>\n",
       "      <td>10.166667</td>\n",
       "      <td>35.466667</td>\n",
       "      <td>50.000000</td>\n",
       "      <td>27.8</td>\n",
       "      <td>AK</td>\n",
       "      <td>Alaska</td>\n",
       "    </tr>\n",
       "    <tr>\n",
       "      <th>2</th>\n",
       "      <td>Arizona</td>\n",
       "      <td>46.166667</td>\n",
       "      <td>69.900000</td>\n",
       "      <td>78.600000</td>\n",
       "      <td>53.766667</td>\n",
       "      <td>46.566667</td>\n",
       "      <td>69.366667</td>\n",
       "      <td>78.733333</td>\n",
       "      <td>50.166667</td>\n",
       "      <td>43.166667</td>\n",
       "      <td>65.766667</td>\n",
       "      <td>79.900000</td>\n",
       "      <td>64.6</td>\n",
       "      <td>AZ</td>\n",
       "      <td>Arizona</td>\n",
       "    </tr>\n",
       "    <tr>\n",
       "      <th>3</th>\n",
       "      <td>Arkansas</td>\n",
       "      <td>43.800000</td>\n",
       "      <td>67.366667</td>\n",
       "      <td>78.100000</td>\n",
       "      <td>56.100000</td>\n",
       "      <td>44.366667</td>\n",
       "      <td>69.633333</td>\n",
       "      <td>79.100000</td>\n",
       "      <td>51.500000</td>\n",
       "      <td>49.366667</td>\n",
       "      <td>69.200000</td>\n",
       "      <td>79.166667</td>\n",
       "      <td>64.1</td>\n",
       "      <td>AR</td>\n",
       "      <td>Arkansas</td>\n",
       "    </tr>\n",
       "    <tr>\n",
       "      <th>4</th>\n",
       "      <td>California</td>\n",
       "      <td>47.033333</td>\n",
       "      <td>65.866667</td>\n",
       "      <td>76.333333</td>\n",
       "      <td>52.166667</td>\n",
       "      <td>49.233333</td>\n",
       "      <td>63.433333</td>\n",
       "      <td>76.500000</td>\n",
       "      <td>51.266667</td>\n",
       "      <td>43.200000</td>\n",
       "      <td>61.333333</td>\n",
       "      <td>74.233333</td>\n",
       "      <td>62.1</td>\n",
       "      <td>CA</td>\n",
       "      <td>California</td>\n",
       "    </tr>\n",
       "  </tbody>\n",
       "</table>\n",
       "</div>"
      ],
      "text/plain": [
       "        State    2021 Q1    2021 Q2    2021 Q3    2021 Q4    2022 Q1  \\\n",
       "0     Alabama  50.966667  69.333333  77.733333  58.766667  50.433333   \n",
       "1      Alaska   6.900000  38.366667  47.566667  13.100000   9.633333   \n",
       "2     Arizona  46.166667  69.900000  78.600000  53.766667  46.566667   \n",
       "3    Arkansas  43.800000  67.366667  78.100000  56.100000  44.366667   \n",
       "4  California  47.033333  65.866667  76.333333  52.166667  49.233333   \n",
       "\n",
       "     2022 Q2    2022 Q3    2022 Q4    2023 Q1    2023 Q2    2023 Q3  2023 Q4  \\\n",
       "0  72.133333  78.300000  55.266667  55.533333  70.133333  79.800000     65.2   \n",
       "1  39.233333  48.800000  17.500000  10.166667  35.466667  50.000000     27.8   \n",
       "2  69.366667  78.733333  50.166667  43.166667  65.766667  79.900000     64.6   \n",
       "3  69.633333  79.100000  51.500000  49.366667  69.200000  79.166667     64.1   \n",
       "4  63.433333  76.500000  51.266667  43.200000  61.333333  74.233333     62.1   \n",
       "\n",
       "  code       state  \n",
       "0   AL     Alabama  \n",
       "1   AK      Alaska  \n",
       "2   AZ     Arizona  \n",
       "3   AR    Arkansas  \n",
       "4   CA  California  "
      ]
     },
     "execution_count": 18,
     "metadata": {},
     "output_type": "execute_result"
    }
   ],
   "source": [
    "temperature.head()"
   ]
  },
  {
   "cell_type": "code",
   "execution_count": 19,
   "metadata": {},
   "outputs": [
    {
     "name": "stdout",
     "output_type": "stream",
     "text": [
      "['2023 Q2' '2022 Q3' '2022 Q1' '2021 Q4' '2021 Q3']\n"
     ]
    }
   ],
   "source": [
    "print(df[\"Season\"].unique())"
   ]
  },
  {
   "cell_type": "code",
   "execution_count": 20,
   "metadata": {},
   "outputs": [
    {
     "data": {
      "application/vnd.plotly.v1+json": {
       "config": {
        "plotlyServerURL": "https://plot.ly"
       },
       "data": [
        {
         "autocolorscale": false,
         "colorbar": {
          "title": {
           "text": "↑ Temperature"
          }
         },
         "colorscale": [
          [
           0,
           "rgb(255,245,240)"
          ],
          [
           0.125,
           "rgb(254,224,210)"
          ],
          [
           0.25,
           "rgb(252,187,161)"
          ],
          [
           0.375,
           "rgb(252,146,114)"
          ],
          [
           0.5,
           "rgb(251,106,74)"
          ],
          [
           0.625,
           "rgb(239,59,44)"
          ],
          [
           0.75,
           "rgb(203,24,29)"
          ],
          [
           0.875,
           "rgb(165,15,21)"
          ],
          [
           1,
           "rgb(103,0,13)"
          ]
         ],
         "locationmode": "USA-states",
         "locations": [
          "AL",
          "AK",
          "AZ",
          "AR",
          "CA",
          "CO",
          "CT",
          "DE",
          "FL",
          "GA",
          "ID",
          "IL",
          "IN",
          "IA",
          "KS",
          "KY",
          "LA",
          "ME",
          "MD",
          "MA",
          "MI",
          "MN",
          "MS",
          "MO",
          "MT",
          "NE",
          "NV",
          "NH",
          "NJ",
          "NM",
          "NY",
          "NC",
          "ND",
          "OH",
          "OK",
          "OR",
          "PA",
          "RI",
          "SC",
          "SD",
          "TN",
          "TX",
          "UT",
          "VT",
          "VA",
          "WA",
          "WV",
          "WI",
          "WY"
         ],
         "marker": {
          "line": {
           "color": "white"
          }
         },
         "name": "Temperature",
         "type": "choropleth",
         "visible": true,
         "z": [
          77.73333333,
          47.56666667,
          78.6,
          78.1,
          76.33333333,
          66.6,
          69.7,
          74.9,
          81.4,
          77.7,
          64.3,
          73.26666667,
          72.36666667,
          70.96666667,
          76.7,
          73.8,
          80.43333333,
          63.63333333,
          74.63333333,
          69.1,
          67.03333333,
          67.36666667,
          78.66666667,
          75.2,
          65.16666667,
          72.3,
          71.9,
          65.1,
          73.43333333,
          71.26666667,
          66.6,
          75.16666667,
          68.3,
          71.5,
          79.33333333,
          65.73333333,
          69.36666667,
          70.4,
          77.66666667,
          70.93333333,
          74.63333333,
          80.33333333,
          70.5,
          64.4,
          73.56666667,
          64.5,
          70.53333333,
          66.6,
          64.1
         ]
        },
        {
         "locationmode": "USA-states",
         "locations": [
          "AL",
          "AK",
          "AZ",
          "AR",
          "CA",
          "CO",
          "CT",
          "DE",
          "FL",
          "GA",
          "ID",
          "IL",
          "IN",
          "IA",
          "KS",
          "KY",
          "LA",
          "ME",
          "MD",
          "MA",
          "MI",
          "MN",
          "MS",
          "MO",
          "MT",
          "NE",
          "NV",
          "NH",
          "NJ",
          "NM",
          "NY",
          "NC",
          "ND",
          "OH",
          "OK",
          "OR",
          "PA",
          "RI",
          "SC",
          "SD",
          "TN",
          "TX",
          "UT",
          "VT",
          "VA",
          "WA",
          "WV",
          "WI",
          "WY"
         ],
         "marker": {
          "color": "skyblue",
          "line": {
           "width": 0
          },
          "opacity": 1,
          "size": [
           13.166666666666666,
           8.706666666666665,
           4.86,
           6.406666666666666,
           0.5,
           3.186666666666666,
           15.079999999999998,
           9.706666666666667,
           16.453333333333333,
           13.046666666666667,
           1.7733333333333334,
           7.326666666666667,
           8.613333333333333,
           6.98,
           5.4,
           10.473333333333334,
           13.26,
           9.72,
           10.846666666666666,
           15.373333333333335,
           7.813333333333331,
           5.86,
           13.013333333333334,
           6.786666666666666,
           2.0866666666666664,
           4.96,
           0.9,
           12.606666666666667,
           13.700000000000001,
           4.373333333333334,
           12.233333333333334,
           10.1,
           3.4599999999999995,
           9.16,
           4.886666666666667,
           1.5,
           12.74,
           13.386666666666665,
           10.813333333333333,
           4.7,
           11.366666666666667,
           5.466666666666666,
           3.1199999999999997,
           10.08,
           9.886666666666665,
           2.5733333333333337,
           8.94,
           7.926666666666666,
           2.28
          ]
         },
         "name": "Precipitation",
         "type": "scattergeo",
         "visible": true
        },
        {
         "lat": [],
         "lon": [],
         "mode": "text",
         "name": "Wildfire",
         "text": [],
         "textfont": {
          "color": "red",
          "family": "Arial",
          "size": 12
         },
         "type": "scattergeo",
         "visible": false
        },
        {
         "lat": [],
         "lon": [],
         "mode": "text",
         "name": "Wildfire",
         "text": [],
         "textfont": {
          "color": "red",
          "family": "Arial",
          "size": 12
         },
         "type": "scattergeo",
         "visible": false
        },
        {
         "lat": [
          39.188019314,
          36.090993645,
          40.707903489,
          34.676320178,
          36.518072392,
          33.417542977,
          37.969258033,
          34.182264114,
          42.686670839,
          33.416821311,
          38.924589754,
          47.93565,
          47.56328,
          40.73292,
          42.685232232,
          48.94482,
          39.40551,
          42.21,
          48.76877,
          48.16566,
          41.56375,
          42.90764,
          46.84509,
          39.11329,
          48.815,
          48.575,
          41.1534,
          41.50178,
          43.95022,
          40.748,
          47.77489,
          48.21894,
          40.34992,
          46.17848,
          45.60727,
          47.82259,
          46.5346,
          48.35746,
          48.54019,
          46.15516,
          48.77414,
          48.35426,
          47.00918,
          47.91946,
          48.46294,
          45.03283,
          46.81666,
          47.63211,
          45.1798,
          45.17826,
          38.670339768,
          43.62011,
          45.69798,
          48.57827,
          48.139651026,
          35.43096,
          37.33621,
          39.25635,
          46.2923,
          47.54926,
          45.57376
         ],
         "lon": [
          -121.619186074,
          -118.664197288,
          -122.300586725,
          -118.757917621,
          -118.793009903,
          -110.861358494,
          -120.397719545,
          -117.443074933,
          -111.591190059,
          -110.859687743,
          -122.604087947,
          -117.72662,
          -91.62542,
          -111.64845,
          -111.592808877,
          -118.21131,
          -121.29963,
          -120.599,
          -119.79643,
          -119.14283,
          -123.39812,
          -122.83812,
          -121.15523,
          -120.97613,
          -119.079,
          -119.832,
          -123.05161,
          -121.92528,
          -122.47228,
          -123.31743,
          -113.99586,
          -116.92985,
          -123.06769,
          -117.72063,
          -113.84928,
          -117.47202,
          -111.30538,
          -118.48844,
          -117.5832,
          -110.28626,
          -114.42992,
          -116.00995,
          -110.88619,
          -117.97914,
          -118.13894,
          -109.21818,
          -113.3085,
          -116.02637,
          -113.45966,
          -114.37901,
          -119.830586901,
          -121.46825,
          -121.27131,
          -120.522,
          -118.910256697,
          -114.08793,
          -119.84447,
          -123.23517,
          -117.35373,
          -117.5498,
          -121.11953
         ],
         "mode": "text",
         "name": "Wildfire",
         "text": [
          "🔥",
          "🔥",
          "🔥",
          "🔥",
          "🔥",
          "🔥",
          "🔥",
          "🔥",
          "🔥",
          "🔥",
          "🔥",
          "🔥",
          "🔥",
          "🔥",
          "🔥",
          "🔥",
          "🔥",
          "🔥",
          "🔥",
          "🔥",
          "🔥",
          "🔥",
          "🔥",
          "🔥",
          "🔥",
          "🔥",
          "🔥",
          "🔥",
          "🔥",
          "🔥",
          "🔥",
          "🔥",
          "🔥",
          "🔥",
          "🔥",
          "🔥",
          "🔥",
          "🔥",
          "🔥",
          "🔥",
          "🔥",
          "🔥",
          "🔥",
          "🔥",
          "🔥",
          "🔥",
          "🔥",
          "🔥",
          "🔥",
          "🔥",
          "🔥",
          "🔥",
          "🔥",
          "🔥",
          "🔥",
          "🔥",
          "🔥",
          "🔥",
          "🔥",
          "🔥",
          "🔥"
         ],
         "textfont": {
          "color": "red",
          "family": "Arial",
          "size": 12
         },
         "type": "scattergeo",
         "visible": true
        },
        {
         "lat": [
          39.95983,
          34.396954841,
          33.417201559,
          35.36753333,
          42.686767291,
          33.954878389,
          35.621645413,
          45.009877614,
          33.416293179,
          32.974491635,
          39.080745035,
          39.092390021,
          36.082566967,
          34.50631889
         ],
         "lon": [
          -105.19282,
          -117.729843629,
          -110.861196043,
          -120.045451449,
          -111.590258883,
          -117.488521503,
          -115.354724564,
          -123.929934447,
          -110.861165478,
          -113.498576997,
          -122.164046901,
          -121.667893746,
          -120.07159514,
          -120.106440487
         ],
         "mode": "text",
         "name": "Wildfire",
         "text": [
          "🔥",
          "🔥",
          "🔥",
          "🔥",
          "🔥",
          "🔥",
          "🔥",
          "🔥",
          "🔥",
          "🔥",
          "🔥",
          "🔥",
          "🔥",
          "🔥"
         ],
         "textfont": {
          "color": "red",
          "family": "Arial",
          "size": 12
         },
         "type": "scattergeo",
         "visible": false
        },
        {
         "lat": [
          37.543469882,
          33.417091555,
          33.416654251
         ],
         "lon": [
          -120.533005422,
          -110.862229905,
          -110.860071422
         ],
         "mode": "text",
         "name": "Wildfire",
         "text": [
          "🔥",
          "🔥",
          "🔥"
         ],
         "textfont": {
          "color": "red",
          "family": "Arial",
          "size": 12
         },
         "type": "scattergeo",
         "visible": false
        },
        {
         "lat": [],
         "lon": [],
         "mode": "text",
         "name": "Wildfire",
         "text": [],
         "textfont": {
          "color": "red",
          "family": "Arial",
          "size": 12
         },
         "type": "scattergeo",
         "visible": false
        },
        {
         "lat": [
          47.694
         ],
         "lon": [
          -114.489
         ],
         "mode": "text",
         "name": "Wildfire",
         "text": [
          "🔥"
         ],
         "textfont": {
          "color": "red",
          "family": "Arial",
          "size": 12
         },
         "type": "scattergeo",
         "visible": false
        },
        {
         "lat": [],
         "lon": [],
         "mode": "text",
         "name": "Wildfire",
         "text": [],
         "textfont": {
          "color": "red",
          "family": "Arial",
          "size": 12
         },
         "type": "scattergeo",
         "visible": false
        },
        {
         "lat": [],
         "lon": [],
         "mode": "text",
         "name": "Wildfire",
         "text": [],
         "textfont": {
          "color": "red",
          "family": "Arial",
          "size": 12
         },
         "type": "scattergeo",
         "visible": false
        },
        {
         "lat": [
          29.229722
         ],
         "lon": [
          -81.688889
         ],
         "mode": "text",
         "name": "Wildfire",
         "text": [
          "🔥"
         ],
         "textfont": {
          "color": "red",
          "family": "Arial",
          "size": 12
         },
         "type": "scattergeo",
         "visible": false
        },
        {
         "lat": [],
         "lon": [],
         "mode": "text",
         "name": "Wildfire",
         "text": [],
         "textfont": {
          "color": "red",
          "family": "Arial",
          "size": 12
         },
         "type": "scattergeo",
         "visible": false
        },
        {
         "lat": [],
         "lon": [],
         "mode": "text",
         "name": "Wildfire",
         "text": [],
         "textfont": {
          "color": "red",
          "family": "Arial",
          "size": 12
         },
         "type": "scattergeo",
         "visible": false
        }
       ],
       "layout": {
        "annotations": [
         {
          "align": "center",
          "font": {
           "color": "purple",
           "size": 12
          },
          "showarrow": false,
          "text": "The bigger the bubble is, the more precipitation in this region.",
          "x": 0.5,
          "xref": "paper",
          "y": -0.15,
          "yref": "paper"
         }
        ],
        "geo": {
         "lakecolor": "rgb(255, 255, 255)",
         "projection": {
          "type": "albers usa"
         },
         "scope": "usa",
         "showlakes": true
        },
        "showlegend": false,
        "sliders": [
         {
          "active": 2,
          "currentvalue": {
           "prefix": "Season: "
          },
          "steps": [
           {
            "args": [
             {
              "marker.size": [
               [
                10.66,
                5.246666666666666,
                1.5133333333333334,
                9.113333333333333,
                4.513333333333333,
                2.6133333333333333,
                5.206666666666666,
                8.306666666666667,
                5.1000000000000005,
                10.053333333333333,
                4.38,
                5.4,
                5.653333333333333,
                3.2066666666666666,
                3.76,
                10.273333333333333,
                8.72,
                4.513333333333333,
                6.553333333333334,
                5.113333333333332,
                2.62,
                1.54,
                11.046666666666667,
                6.473333333333334,
                1.8133333333333332,
                3.5933333333333337,
                1.78,
                4.426666666666667,
                6.953333333333333,
                0.94,
                4.093333333333333,
                10.200000000000001,
                0.3666666666666666,
                4.66,
                4.16,
                7.213333333333334,
                5.08,
                5.82,
                9.46,
                1.26,
                12.34666666666667,
                2.6666666666666665,
                1.9,
                3.94,
                7.673333333333335,
                10.360000000000001,
                7.133333333333333,
                2.3933333333333326,
                2.173333333333334
               ]
              ],
              "visible": [
               true,
               true,
               true,
               false,
               false,
               false,
               false,
               false,
               false,
               false,
               false,
               false,
               false,
               false
              ],
              "z": [
               [
                50.96666667,
                6.9,
                46.16666667,
                43.8,
                47.03333333,
                29.1,
                32.33333333,
                39.8,
                63.4,
                52.36666667,
                28.93333333,
                32.16666667,
                33.33333333,
                26.23333333,
                35.4,
                39.46666667,
                53.53333333,
                23.1,
                38.93333333,
                31.56666667,
                26.4,
                20.1,
                50.26666667,
                35.96666667,
                25.5,
                29.46666667,
                36.16666667,
                25.33333333,
                36.56666667,
                39.06666667,
                26.9,
                45.36666667,
                20.9,
                33.63333333,
                41.63333333,
                35.8,
                32.23333333,
                34.13333333,
                50.26666667,
                26.23333333,
                43.56666667,
                50.23333333,
                32.9,
                23.4,
                40.56666667,
                35.23333333,
                36.66666667,
                22.63333333,
                24.33333333
               ]
              ]
             }
            ],
            "label": "2021 Q1",
            "method": "update"
           },
           {
            "args": [
             {
              "marker.size": [
               [
                12.646666666666667,
                4.52,
                0.3,
                11.426666666666668,
                0.36,
                3.4599999999999995,
                7.02,
                5.6933333333333325,
                9.706666666666667,
                8.446666666666667,
                1.8666666666666665,
                8.346666666666666,
                8.393333333333333,
                5.8066666666666675,
                6.58,
                7.78,
                17.8,
                5.466666666666668,
                6.626666666666666,
                7.98,
                6.026666666666666,
                4.04,
                14.32,
                9.946666666666667,
                2.8733333333333326,
                4.78,
                0.8466666666666666,
                6.1000000000000005,
                6.373333333333334,
                2.12,
                6.573333333333332,
                7.113333333333332,
                3.4800000000000004,
                7.28,
                9.386666666666665,
                1.8,
                7.073333333333332,
                7.28,
                6.873333333333332,
                3.28,
                7.74,
                8.253333333333334,
                0.88,
                6.246666666666666,
                6.013333333333333,
                2.42,
                7.52,
                6.166666666666666,
                2.5066666666666664
               ]
              ],
              "visible": [
               true,
               true,
               false,
               true,
               false,
               false,
               false,
               false,
               false,
               false,
               false,
               false,
               false,
               false
              ],
              "z": [
               [
                69.33333333,
                38.36666667,
                69.9,
                67.36666667,
                65.86666667,
                53.9,
                58.56666667,
                64.13333333,
                75.56666667,
                69.5,
                52.3,
                62.56666667,
                61.4,
                60.6,
                63.4,
                63.46666667,
                72.46666667,
                53.5,
                63.43333333,
                58.2,
                55.63333333,
                55.76666667,
                69.93333333,
                63.8,
                51.46666667,
                59.23333333,
                59.7,
                54.86666667,
                61.73333333,
                63,
                55.83333333,
                65.96666667,
                54.26666667,
                60.56666667,
                66.9,
                54.6,
                58.33333333,
                58.8,
                69.3,
                56.96666667,
                64.76666667,
                71.96666667,
                58.8,
                53.96666667,
                63.2,
                54.66666667,
                59.73333333,
                56.43333333,
                50.56666667
               ]
              ]
             }
            ],
            "label": "2021 Q2",
            "method": "update"
           },
           {
            "args": [
             {
              "marker.size": [
               [
                13.166666666666666,
                8.706666666666665,
                4.86,
                6.406666666666666,
                0.5,
                3.186666666666666,
                15.079999999999998,
                9.706666666666667,
                16.453333333333333,
                13.046666666666667,
                1.7733333333333334,
                7.326666666666667,
                8.613333333333333,
                6.98,
                5.4,
                10.473333333333334,
                13.26,
                9.72,
                10.846666666666666,
                15.373333333333335,
                7.813333333333331,
                5.86,
                13.013333333333334,
                6.786666666666666,
                2.0866666666666664,
                4.96,
                0.9,
                12.606666666666667,
                13.700000000000001,
                4.373333333333334,
                12.233333333333334,
                10.1,
                3.4599999999999995,
                9.16,
                4.886666666666667,
                1.5,
                12.74,
                13.386666666666665,
                10.813333333333333,
                4.7,
                11.366666666666667,
                5.466666666666666,
                3.1199999999999997,
                10.08,
                9.886666666666665,
                2.5733333333333337,
                8.94,
                7.926666666666666,
                2.28
               ]
              ],
              "visible": [
               true,
               true,
               false,
               false,
               true,
               false,
               false,
               false,
               false,
               false,
               false,
               false,
               false,
               false
              ],
              "z": [
               [
                77.73333333,
                47.56666667,
                78.6,
                78.1,
                76.33333333,
                66.6,
                69.7,
                74.9,
                81.4,
                77.7,
                64.3,
                73.26666667,
                72.36666667,
                70.96666667,
                76.7,
                73.8,
                80.43333333,
                63.63333333,
                74.63333333,
                69.1,
                67.03333333,
                67.36666667,
                78.66666667,
                75.2,
                65.16666667,
                72.3,
                71.9,
                65.1,
                73.43333333,
                71.26666667,
                66.6,
                75.16666667,
                68.3,
                71.5,
                79.33333333,
                65.73333333,
                69.36666667,
                70.4,
                77.66666667,
                70.93333333,
                74.63333333,
                80.33333333,
                70.5,
                64.4,
                73.56666667,
                64.5,
                70.53333333,
                66.6,
                64.1
               ]
              ]
             }
            ],
            "label": "2021 Q3",
            "method": "update"
           },
           {
            "args": [
             {
              "marker.size": [
               [
                6.966666666666666,
                7.313333333333331,
                1.7066666666666668,
                6.54,
                7.246666666666667,
                2.14,
                6.74,
                3.56,
                5.66,
                6.546666666666666,
                5.986666666666667,
                6.266666666666666,
                7.646666666666666,
                4.566666666666666,
                2.4266666666666663,
                7.066666666666666,
                4.406666666666667,
                6.8,
                3.6866666666666665,
                8.08,
                5.460000000000001,
                4.273333333333333,
                5.286666666666666,
                6.133333333333333,
                2.766666666666667,
                1.7333333333333334,
                2.86,
                7.52,
                4.886666666666667,
                0.7933333333333332,
                7.933333333333331,
                4.32,
                3.1133333333333333,
                6.6866666666666665,
                3.98,
                8.493333333333334,
                5.846666666666667,
                6.746666666666666,
                4.5,
                2.86,
                7.733333333333332,
                2.806666666666666,
                3.1333333333333337,
                7.473333333333334,
                3.6666666666666665,
                13.893333333333333,
                4.793333333333333,
                3.4466666666666668,
                2.6199999999999997
               ]
              ],
              "visible": [
               true,
               true,
               false,
               false,
               false,
               true,
               false,
               false,
               false,
               false,
               false,
               false,
               false,
               false
              ],
              "z": [
               [
                58.76666667,
                13.1,
                53.76666667,
                56.1,
                52.16666667,
                40.3,
                44.93333333,
                50.76666667,
                68.4,
                58.83333333,
                36.13333333,
                47.1,
                46.9,
                42.2,
                48.96666667,
                51.13333333,
                63.5,
                36.66666667,
                50.36666667,
                44.36666667,
                40.53333333,
                33.96666667,
                59.86666667,
                50.23333333,
                33.73333333,
                43.2,
                42.4,
                38.96666667,
                48.6,
                48.4,
                41.53333333,
                54.43333333,
                31.73333333,
                47,
                55.33333333,
                40.63333333,
                44.76666667,
                46.63333333,
                57.66666667,
                37.96666667,
                53.13333333,
                62.06666667,
                40.5,
                38.03333333,
                50.86666667,
                38.63333333,
                47.63333333,
                37.4,
                35.56666667
               ]
              ]
             }
            ],
            "label": "2021 Q4",
            "method": "update"
           },
           {
            "args": [
             {
              "marker.size": [
               [
                11.76,
                6.926666666666667,
                0.8533333333333334,
                9.040000000000001,
                1.16,
                2.1066666666666674,
                6.346666666666667,
                6.026666666666666,
                5.9,
                8.086666666666668,
                3.1066666666666674,
                5.6866666666666665,
                6.82,
                2.473333333333333,
                1.9333333333333336,
                10.08,
                7.56,
                6.38,
                5.88,
                7.22,
                4.233333333333333,
                1.6933333333333334,
                10.566666666666665,
                6.053333333333334,
                1.8533333333333333,
                0.82,
                0.6733333333333332,
                6.346666666666667,
                5.8066666666666675,
                0.7599999999999998,
                5.98,
                7.833333333333333,
                0.6666666666666666,
                6.646666666666667,
                3.293333333333333,
                4.446666666666666,
                6.3933333333333335,
                8.346666666666666,
                6.566666666666666,
                0.6133333333333332,
                12.76,
                1.9933333333333336,
                1.14,
                5.753333333333333,
                7.166666666666666,
                8.806666666666667,
                7.766666666666666,
                2.8866666666666667,
                1.4466666666666665
               ]
              ],
              "visible": [
               true,
               true,
               false,
               false,
               false,
               false,
               true,
               false,
               false,
               false,
               false,
               false,
               false,
               false
              ],
              "z": [
               [
                50.43333333,
                9.633333333,
                46.56666667,
                44.36666667,
                49.23333333,
                28.86666667,
                31.33333333,
                39.36666667,
                63.03333333,
                52.56666667,
                28.06666667,
                31.06666667,
                32.63333333,
                24.36666667,
                35.2,
                39.56666667,
                52.8,
                19.63333333,
                38.66666667,
                30.5,
                21.93333333,
                12.06666667,
                50.03333333,
                35.7,
                26.3,
                30.13333333,
                37.33333333,
                23.5,
                36.03333333,
                38.4,
                24.43333333,
                46,
                15.03333333,
                32.66666667,
                42.03333333,
                37.43333333,
                30.5,
                33.33333333,
                51.1,
                24.2,
                43,
                49.53333333,
                32.96666667,
                21.2,
                40.9,
                35.53333333,
                35.76666667,
                17.9,
                25.26666667
               ]
              ]
             }
            ],
            "label": "2022 Q1",
            "method": "update"
           },
           {
            "args": [
             {
              "marker.size": [
               [
                9.24,
                2.28,
                0.48,
                10.886666666666665,
                1.6333333333333335,
                2.4933333333333336,
                7.24,
                7.646666666666666,
                9.793333333333335,
                6.72,
                5.1000000000000005,
                6.919999999999999,
                7.14,
                6.8933333333333335,
                6.533333333333334,
                7.966666666666666,
                7.526666666666666,
                7.033333333333334,
                8.700000000000001,
                6.046666666666666,
                6.273333333333333,
                7.693333333333334,
                9.053333333333333,
                9.013333333333334,
                4.806666666666667,
                4.713333333333334,
                0.7933333333333332,
                6.886666666666667,
                9.113333333333333,
                1.7866666666666668,
                7.746666666666667,
                6.573333333333332,
                6.78,
                8.113333333333333,
                8.433333333333334,
                7.026666666666667,
                8.686666666666667,
                6.260000000000001,
                7.246666666666667,
                5.593333333333334,
                7.833333333333333,
                3.3466666666666662,
                1.2066666666666668,
                7.68,
                7.706666666666667,
                8.066666666666666,
                9.086666666666668,
                6.866666666666667,
                3.7466666666666666
               ]
              ],
              "visible": [
               true,
               true,
               false,
               false,
               false,
               false,
               false,
               true,
               false,
               false,
               false,
               false,
               false,
               false
              ],
              "z": [
               [
                72.13333333,
                39.23333333,
                69.36666667,
                69.63333333,
                63.43333333,
                53.8,
                58.3,
                63.53333333,
                77.16666667,
                72.13333333,
                46.8,
                62.8,
                62.13333333,
                58.9,
                64.83333333,
                65.36666667,
                75.7,
                51.7,
                63.26666667,
                57.43333333,
                54.26666667,
                52.36666667,
                73.4,
                64.76666667,
                47.4,
                58.86666667,
                56.16666667,
                53.83333333,
                61.4,
                64.23333333,
                55.36666667,
                67.53333333,
                50.36666667,
                61.03333333,
                70.4,
                48.7,
                58.2,
                58.3,
                71.33333333,
                54.26666667,
                67.13333333,
                76.8,
                56.23333333,
                53.33333333,
                64.16666667,
                49.06666667,
                60.83333333,
                53.93333333,
                47.33333333
               ]
              ]
             }
            ],
            "label": "2022 Q2",
            "method": "update"
           },
           {
            "args": [
             {
              "marker.size": [
               [
                9.566666666666666,
                11.306666666666667,
                4.64,
                5.913333333333333,
                0.9066666666666666,
                3.96,
                7.273333333333331,
                5.886666666666667,
                16.133333333333333,
                9.893333333333333,
                1.3,
                7.92,
                7.72,
                5.746666666666666,
                3.733333333333333,
                9.68,
                11.92,
                9.366666666666667,
                7.54,
                6.913333333333334,
                6.34,
                5.573333333333332,
                10.88,
                6.373333333333334,
                2.4933333333333336,
                3.613333333333333,
                1.88,
                8.786666666666667,
                5.026666666666666,
                4.633333333333334,
                8.020000000000001,
                10.133333333333333,
                3.2066666666666666,
                8.146666666666667,
                3.0400000000000005,
                0.7066666666666666,
                7.866666666666667,
                6.920000000000001,
                10.133333333333333,
                3.473333333333333,
                8.373333333333333,
                4.513333333333334,
                2.56,
                8.606666666666667,
                8.333333333333334,
                0.8066666666666666,
                10.073333333333332,
                7.473333333333334,
                2.413333333333333
               ]
              ],
              "visible": [
               true,
               true,
               false,
               false,
               false,
               false,
               false,
               false,
               true,
               false,
               false,
               false,
               false,
               false
              ],
              "z": [
               [
                78.3,
                48.8,
                78.73333333,
                79.1,
                76.5,
                66.83333333,
                70.83333333,
                75.43333333,
                81.96666667,
                78.26666667,
                66.56666667,
                72.1,
                71.46666667,
                70.43333333,
                77.36666667,
                73.9,
                81,
                64,
                74.3,
                69.86666667,
                66.06666667,
                65.73333333,
                79.26666667,
                75.23333333,
                66.46666667,
                72.96666667,
                72.63333333,
                65.53333333,
                74.23333333,
                72.1,
                66.73333333,
                75.26666667,
                67.03333333,
                70.5,
                81.73333333,
                67.56666667,
                68.9,
                70.96666667,
                78.06666667,
                71.06666667,
                75.26666667,
                82.73333333,
                71.4,
                64.63333333,
                73.16666667,
                66.46666667,
                69.63333333,
                65.73333333,
                65.36666667
               ]
              ]
             }
            ],
            "label": "2022 Q3",
            "method": "update"
           },
           {
            "args": [
             {
              "marker.size": [
               [
                8,
                8.146666666666667,
                2.0733333333333333,
                8.62,
                5.6933333333333325,
                2.4066666666666667,
                8.366666666666667,
                7.953333333333333,
                4.7,
                5.853333333333333,
                5.18,
                4.266666666666667,
                3.7733333333333334,
                3.1,
                1.96,
                5.146666666666667,
                10.046666666666667,
                10.513333333333334,
                7.28,
                8.846666666666666,
                4.9,
                2.92,
                9.219999999999999,
                5.413333333333334,
                3.033333333333333,
                1.2533333333333334,
                2.306666666666666,
                8.78,
                9.4,
                2.2333333333333334,
                7.006666666666667,
                6.553333333333334,
                1.9133333333333336,
                3.9266666666666654,
                4.946666666666666,
                7.493333333333333,
                7,
                9.813333333333333,
                6.34,
                1.6466666666666665,
                7.553333333333334,
                4.306666666666667,
                2.693333333333334,
                7.24,
                7.1866666666666665,
                10.573333333333332,
                5.986666666666667,
                4.24,
                2.2066666666666666
               ]
              ],
              "visible": [
               true,
               true,
               false,
               false,
               false,
               false,
               false,
               false,
               false,
               true,
               false,
               false,
               false,
               false
              ],
              "z": [
               [
                55.26666667,
                17.5,
                50.16666667,
                51.5,
                51.26666667,
                34.83333333,
                43.73333333,
                47.8,
                67.56666667,
                56.26666667,
                32.26666667,
                42.13333333,
                42.53333333,
                36.26666667,
                43.13333333,
                46.5,
                59.46666667,
                38.03333333,
                46.63333333,
                43.4,
                37.93333333,
                29.86666667,
                55.96666667,
                44.43333333,
                28.13333333,
                36.4,
                39.9,
                38.83333333,
                45.76666667,
                43.83333333,
                39.6,
                50.76666667,
                25.33333333,
                42.9,
                49.8,
                39.16666667,
                40.93333333,
                45.46666667,
                54.66666667,
                31.23333333,
                48.73333333,
                56.8,
                37,
                37.93333333,
                46.73333333,
                37.36666667,
                43.2,
                33.86666667,
                29.63333333
               ]
              ]
             }
            ],
            "label": "2022 Q4",
            "method": "update"
           },
           {
            "args": [
             {
              "marker.size": [
               [
                11.113333333333337,
                5.1866666666666665,
                3.58,
                12.553333333333333,
                12.573333333333332,
                3.233333333333333,
                7.273333333333331,
                4.033333333333334,
                3.9,
                9.96,
                4.533333333333333,
                6.493333333333333,
                8.153333333333334,
                3.766666666666666,
                1.8266666666666669,
                9.693333333333333,
                9.22,
                6.260000000000001,
                4.013333333333333,
                8.386666666666668,
                5.18,
                2.5733333333333337,
                11.513333333333334,
                7,
                2.04,
                1.9666666666666668,
                3.686666666666666,
                7,
                5.16,
                1.38,
                6.193333333333334,
                7.1933333333333325,
                1.0466666666666666,
                7.153333333333333,
                4.580000000000001,
                6.486666666666667,
                5.813333333333333,
                8.26,
                8.466666666666667,
                1.7466666666666668,
                11.08,
                2.6466666666666665,
                4.613333333333332,
                6.1866666666666665,
                5.386666666666667,
                7.266666666666666,
                6.446666666666666,
                4.36,
                2.6
               ]
              ],
              "visible": [
               true,
               true,
               false,
               false,
               false,
               false,
               false,
               false,
               false,
               false,
               true,
               false,
               false,
               false
              ],
              "z": [
               [
                55.53333333,
                10.16666667,
                43.16666667,
                49.36666667,
                43.2,
                26.76666667,
                36.56666667,
                43.9,
                66.13333333,
                56.3,
                25.2,
                37.2,
                38.6,
                28.13333333,
                36.73333333,
                45.1,
                59.33333333,
                24.23333333,
                43.33333333,
                35.06666667,
                28.7,
                16.86666667,
                56.06666667,
                40.33333333,
                23.2,
                28.43333333,
                31.36666667,
                28.66666667,
                40.83333333,
                39.06666667,
                30.36666667,
                49.93333333,
                14,
                38.63333333,
                45.56666667,
                32.7,
                36.43333333,
                37.36666667,
                54.6,
                21.93333333,
                48.03333333,
                54.66666667,
                28.4,
                26.86666667,
                45.5,
                34.23333333,
                41.13333333,
                24.46666667,
                21.6
               ]
              ]
             }
            ],
            "label": "2023 Q1",
            "method": "update"
           },
           {
            "args": [
             {
              "marker.size": [
               [
                9.846666666666666,
                5.2,
                0.38,
                8.88,
                1.2666666666666666,
                4.533333333333333,
                6.906666666666666,
                8.040000000000001,
                11.74,
                9.766666666666667,
                4,
                4.573333333333332,
                5.26,
                5.066666666666666,
                5.966666666666666,
                7.18,
                8.733333333333334,
                8.7,
                6.04,
                7.653333333333332,
                5.16,
                4.793333333333334,
                10.16,
                4.32,
                5.306666666666666,
                5.713333333333334,
                1.6199999999999999,
                9.366666666666667,
                7.64,
                1.72,
                6.773333333333333,
                8.98,
                4.92,
                5.853333333333334,
                7.3,
                4.006666666666667,
                6.113333333333332,
                7.713333333333334,
                9.700000000000001,
                5.593333333333334,
                7.933333333333334,
                5.96,
                1.5599999999999998,
                8.040000000000001,
                7.9,
                4.24,
                6.673333333333333,
                5.02,
                4.793333333333334
               ]
              ],
              "visible": [
               true,
               true,
               false,
               false,
               false,
               false,
               false,
               false,
               false,
               false,
               false,
               true,
               false,
               false
              ],
              "z": [
               [
                70.13333333,
                35.46666667,
                65.76666667,
                69.2,
                61.33333333,
                52.1,
                57.76666667,
                63.46666667,
                76.7,
                69.83333333,
                50.13333333,
                63.06666667,
                61.3,
                61.16666667,
                64.6,
                63.6,
                74.36666667,
                51,
                62.7,
                56.9,
                54.86666667,
                55.5,
                71.7,
                65.4,
                52,
                60,
                55.36666667,
                53.16666667,
                60.73333333,
                61.33333333,
                54.96666667,
                64.96666667,
                54.63333333,
                59.53333333,
                68.26666667,
                52.43333333,
                57.36666667,
                57.4,
                68.16666667,
                57.4,
                65.26666667,
                73.5,
                55,
                52.7,
                62.46666667,
                54.06666667,
                59,
                55.6,
                49.13333333
               ]
              ]
             }
            ],
            "label": "2023 Q2",
            "method": "update"
           },
           {
            "args": [
             {
              "marker.size": [
               [
                7.753333333333334,
                9.053333333333333,
                2.3733333333333335,
                7.1866666666666665,
                0.9333333333333332,
                3.16,
                17.16,
                9.593333333333334,
                12.64,
                9.146666666666667,
                2.4533333333333336,
                7.42,
                6.966666666666666,
                5.513333333333333,
                5.94,
                8.18,
                5.046666666666666,
                11.466666666666667,
                8.433333333333334,
                14.36,
                6.913333333333333,
                4.986666666666667,
                5.693333333333334,
                8.26,
                2.8533333333333335,
                6.073333333333332,
                2.22,
                12.926666666666668,
                12.046666666666667,
                2.7,
                10.213333333333333,
                9.606666666666667,
                4.1000000000000005,
                7.293333333333333,
                7.22,
                1.6933333333333334,
                10.033333333333333,
                13.18,
                9.746666666666668,
                5.593333333333334,
                9.1,
                2.8866666666666667,
                2.4466666666666668,
                12.766666666666667,
                8.373333333333333,
                2.3333333333333335,
                8.62,
                6.553333333333334,
                3.1133333333333333
               ]
              ],
              "visible": [
               true,
               true,
               false,
               false,
               false,
               false,
               false,
               false,
               false,
               false,
               false,
               false,
               true,
               false
              ],
              "z": [
               [
                79.8,
                50,
                79.9,
                79.16666667,
                74.23333333,
                65.86666667,
                69.93333333,
                74.56666667,
                83.16666667,
                79.26666667,
                63.66666667,
                72.43333333,
                71,
                70.56666667,
                76.46666667,
                73.56666667,
                84.46666667,
                64.83333333,
                74.2,
                69.03333333,
                65.33333333,
                66.2,
                81.6,
                74.93333333,
                64.23333333,
                71.3,
                69.76666667,
                65.53333333,
                72.5,
                74.23333333,
                66,
                75.5,
                65.6,
                70.03333333,
                80.76666667,
                64.73333333,
                68.23333333,
                70.06666667,
                78.46666667,
                69.1,
                74.8,
                85.1,
                69.7,
                64.8,
                73.2,
                64.46666667,
                69.7,
                66.46666667,
                62.86666667
               ]
              ]
             }
            ],
            "label": "2023 Q3",
            "method": "update"
           },
           {
            "args": [
             {
              "marker.size": [
               [
                2.8,
                8.12,
                0.4,
                9.34,
                0.9,
                2.1,
                6.68,
                2.8,
                5.48,
                4.12,
                2.94,
                6.46,
                6.86,
                6.24,
                3.86,
                4.86,
                2.88,
                9.78,
                2.96,
                6.48,
                7.64,
                5.62,
                1.76,
                6.04,
                3.22,
                4.68,
                1.24,
                7.58,
                4.32,
                1.08,
                7.86,
                2.26,
                3.24,
                6.28,
                7.82,
                4.3,
                6.36,
                6.5,
                3.96,
                4.84,
                2.28,
                7.04,
                1.48,
                10,
                2.48,
                5.24,
                4.66,
                8.28,
                3.64
               ]
              ],
              "visible": [
               true,
               true,
               false,
               false,
               false,
               false,
               false,
               false,
               false,
               false,
               false,
               false,
               false,
               true
              ],
              "z": [
               [
                65.2,
                27.8,
                64.6,
                64.1,
                62.1,
                48.2,
                56.1,
                60.2,
                73.4,
                65,
                46.1,
                56.7,
                56.4,
                53.4,
                57.8,
                59.2,
                69.4,
                51.7,
                59.6,
                55.9,
                50.6,
                47.7,
                66.8,
                58.9,
                42.4,
                51.2,
                52.4,
                52.3,
                58.2,
                57.5,
                53.1,
                61,
                43.8,
                55.8,
                62.7,
                50,
                54.1,
                57,
                63.9,
                47.3,
                61,
                68.5,
                51,
                51.6,
                59,
                49.2,
                55.9,
                49.4,
                43.5
               ]
              ]
             }
            ],
            "label": "2023 Q4",
            "method": "update"
           }
          ]
         }
        ],
        "template": {
         "data": {
          "bar": [
           {
            "error_x": {
             "color": "#2a3f5f"
            },
            "error_y": {
             "color": "#2a3f5f"
            },
            "marker": {
             "line": {
              "color": "#E5ECF6",
              "width": 0.5
             },
             "pattern": {
              "fillmode": "overlay",
              "size": 10,
              "solidity": 0.2
             }
            },
            "type": "bar"
           }
          ],
          "barpolar": [
           {
            "marker": {
             "line": {
              "color": "#E5ECF6",
              "width": 0.5
             },
             "pattern": {
              "fillmode": "overlay",
              "size": 10,
              "solidity": 0.2
             }
            },
            "type": "barpolar"
           }
          ],
          "carpet": [
           {
            "aaxis": {
             "endlinecolor": "#2a3f5f",
             "gridcolor": "white",
             "linecolor": "white",
             "minorgridcolor": "white",
             "startlinecolor": "#2a3f5f"
            },
            "baxis": {
             "endlinecolor": "#2a3f5f",
             "gridcolor": "white",
             "linecolor": "white",
             "minorgridcolor": "white",
             "startlinecolor": "#2a3f5f"
            },
            "type": "carpet"
           }
          ],
          "choropleth": [
           {
            "colorbar": {
             "outlinewidth": 0,
             "ticks": ""
            },
            "type": "choropleth"
           }
          ],
          "contour": [
           {
            "colorbar": {
             "outlinewidth": 0,
             "ticks": ""
            },
            "colorscale": [
             [
              0,
              "#0d0887"
             ],
             [
              0.1111111111111111,
              "#46039f"
             ],
             [
              0.2222222222222222,
              "#7201a8"
             ],
             [
              0.3333333333333333,
              "#9c179e"
             ],
             [
              0.4444444444444444,
              "#bd3786"
             ],
             [
              0.5555555555555556,
              "#d8576b"
             ],
             [
              0.6666666666666666,
              "#ed7953"
             ],
             [
              0.7777777777777778,
              "#fb9f3a"
             ],
             [
              0.8888888888888888,
              "#fdca26"
             ],
             [
              1,
              "#f0f921"
             ]
            ],
            "type": "contour"
           }
          ],
          "contourcarpet": [
           {
            "colorbar": {
             "outlinewidth": 0,
             "ticks": ""
            },
            "type": "contourcarpet"
           }
          ],
          "heatmap": [
           {
            "colorbar": {
             "outlinewidth": 0,
             "ticks": ""
            },
            "colorscale": [
             [
              0,
              "#0d0887"
             ],
             [
              0.1111111111111111,
              "#46039f"
             ],
             [
              0.2222222222222222,
              "#7201a8"
             ],
             [
              0.3333333333333333,
              "#9c179e"
             ],
             [
              0.4444444444444444,
              "#bd3786"
             ],
             [
              0.5555555555555556,
              "#d8576b"
             ],
             [
              0.6666666666666666,
              "#ed7953"
             ],
             [
              0.7777777777777778,
              "#fb9f3a"
             ],
             [
              0.8888888888888888,
              "#fdca26"
             ],
             [
              1,
              "#f0f921"
             ]
            ],
            "type": "heatmap"
           }
          ],
          "heatmapgl": [
           {
            "colorbar": {
             "outlinewidth": 0,
             "ticks": ""
            },
            "colorscale": [
             [
              0,
              "#0d0887"
             ],
             [
              0.1111111111111111,
              "#46039f"
             ],
             [
              0.2222222222222222,
              "#7201a8"
             ],
             [
              0.3333333333333333,
              "#9c179e"
             ],
             [
              0.4444444444444444,
              "#bd3786"
             ],
             [
              0.5555555555555556,
              "#d8576b"
             ],
             [
              0.6666666666666666,
              "#ed7953"
             ],
             [
              0.7777777777777778,
              "#fb9f3a"
             ],
             [
              0.8888888888888888,
              "#fdca26"
             ],
             [
              1,
              "#f0f921"
             ]
            ],
            "type": "heatmapgl"
           }
          ],
          "histogram": [
           {
            "marker": {
             "pattern": {
              "fillmode": "overlay",
              "size": 10,
              "solidity": 0.2
             }
            },
            "type": "histogram"
           }
          ],
          "histogram2d": [
           {
            "colorbar": {
             "outlinewidth": 0,
             "ticks": ""
            },
            "colorscale": [
             [
              0,
              "#0d0887"
             ],
             [
              0.1111111111111111,
              "#46039f"
             ],
             [
              0.2222222222222222,
              "#7201a8"
             ],
             [
              0.3333333333333333,
              "#9c179e"
             ],
             [
              0.4444444444444444,
              "#bd3786"
             ],
             [
              0.5555555555555556,
              "#d8576b"
             ],
             [
              0.6666666666666666,
              "#ed7953"
             ],
             [
              0.7777777777777778,
              "#fb9f3a"
             ],
             [
              0.8888888888888888,
              "#fdca26"
             ],
             [
              1,
              "#f0f921"
             ]
            ],
            "type": "histogram2d"
           }
          ],
          "histogram2dcontour": [
           {
            "colorbar": {
             "outlinewidth": 0,
             "ticks": ""
            },
            "colorscale": [
             [
              0,
              "#0d0887"
             ],
             [
              0.1111111111111111,
              "#46039f"
             ],
             [
              0.2222222222222222,
              "#7201a8"
             ],
             [
              0.3333333333333333,
              "#9c179e"
             ],
             [
              0.4444444444444444,
              "#bd3786"
             ],
             [
              0.5555555555555556,
              "#d8576b"
             ],
             [
              0.6666666666666666,
              "#ed7953"
             ],
             [
              0.7777777777777778,
              "#fb9f3a"
             ],
             [
              0.8888888888888888,
              "#fdca26"
             ],
             [
              1,
              "#f0f921"
             ]
            ],
            "type": "histogram2dcontour"
           }
          ],
          "mesh3d": [
           {
            "colorbar": {
             "outlinewidth": 0,
             "ticks": ""
            },
            "type": "mesh3d"
           }
          ],
          "parcoords": [
           {
            "line": {
             "colorbar": {
              "outlinewidth": 0,
              "ticks": ""
             }
            },
            "type": "parcoords"
           }
          ],
          "pie": [
           {
            "automargin": true,
            "type": "pie"
           }
          ],
          "scatter": [
           {
            "fillpattern": {
             "fillmode": "overlay",
             "size": 10,
             "solidity": 0.2
            },
            "type": "scatter"
           }
          ],
          "scatter3d": [
           {
            "line": {
             "colorbar": {
              "outlinewidth": 0,
              "ticks": ""
             }
            },
            "marker": {
             "colorbar": {
              "outlinewidth": 0,
              "ticks": ""
             }
            },
            "type": "scatter3d"
           }
          ],
          "scattercarpet": [
           {
            "marker": {
             "colorbar": {
              "outlinewidth": 0,
              "ticks": ""
             }
            },
            "type": "scattercarpet"
           }
          ],
          "scattergeo": [
           {
            "marker": {
             "colorbar": {
              "outlinewidth": 0,
              "ticks": ""
             }
            },
            "type": "scattergeo"
           }
          ],
          "scattergl": [
           {
            "marker": {
             "colorbar": {
              "outlinewidth": 0,
              "ticks": ""
             }
            },
            "type": "scattergl"
           }
          ],
          "scattermapbox": [
           {
            "marker": {
             "colorbar": {
              "outlinewidth": 0,
              "ticks": ""
             }
            },
            "type": "scattermapbox"
           }
          ],
          "scatterpolar": [
           {
            "marker": {
             "colorbar": {
              "outlinewidth": 0,
              "ticks": ""
             }
            },
            "type": "scatterpolar"
           }
          ],
          "scatterpolargl": [
           {
            "marker": {
             "colorbar": {
              "outlinewidth": 0,
              "ticks": ""
             }
            },
            "type": "scatterpolargl"
           }
          ],
          "scatterternary": [
           {
            "marker": {
             "colorbar": {
              "outlinewidth": 0,
              "ticks": ""
             }
            },
            "type": "scatterternary"
           }
          ],
          "surface": [
           {
            "colorbar": {
             "outlinewidth": 0,
             "ticks": ""
            },
            "colorscale": [
             [
              0,
              "#0d0887"
             ],
             [
              0.1111111111111111,
              "#46039f"
             ],
             [
              0.2222222222222222,
              "#7201a8"
             ],
             [
              0.3333333333333333,
              "#9c179e"
             ],
             [
              0.4444444444444444,
              "#bd3786"
             ],
             [
              0.5555555555555556,
              "#d8576b"
             ],
             [
              0.6666666666666666,
              "#ed7953"
             ],
             [
              0.7777777777777778,
              "#fb9f3a"
             ],
             [
              0.8888888888888888,
              "#fdca26"
             ],
             [
              1,
              "#f0f921"
             ]
            ],
            "type": "surface"
           }
          ],
          "table": [
           {
            "cells": {
             "fill": {
              "color": "#EBF0F8"
             },
             "line": {
              "color": "white"
             }
            },
            "header": {
             "fill": {
              "color": "#C8D4E3"
             },
             "line": {
              "color": "white"
             }
            },
            "type": "table"
           }
          ]
         },
         "layout": {
          "annotationdefaults": {
           "arrowcolor": "#2a3f5f",
           "arrowhead": 0,
           "arrowwidth": 1
          },
          "autotypenumbers": "strict",
          "coloraxis": {
           "colorbar": {
            "outlinewidth": 0,
            "ticks": ""
           }
          },
          "colorscale": {
           "diverging": [
            [
             0,
             "#8e0152"
            ],
            [
             0.1,
             "#c51b7d"
            ],
            [
             0.2,
             "#de77ae"
            ],
            [
             0.3,
             "#f1b6da"
            ],
            [
             0.4,
             "#fde0ef"
            ],
            [
             0.5,
             "#f7f7f7"
            ],
            [
             0.6,
             "#e6f5d0"
            ],
            [
             0.7,
             "#b8e186"
            ],
            [
             0.8,
             "#7fbc41"
            ],
            [
             0.9,
             "#4d9221"
            ],
            [
             1,
             "#276419"
            ]
           ],
           "sequential": [
            [
             0,
             "#0d0887"
            ],
            [
             0.1111111111111111,
             "#46039f"
            ],
            [
             0.2222222222222222,
             "#7201a8"
            ],
            [
             0.3333333333333333,
             "#9c179e"
            ],
            [
             0.4444444444444444,
             "#bd3786"
            ],
            [
             0.5555555555555556,
             "#d8576b"
            ],
            [
             0.6666666666666666,
             "#ed7953"
            ],
            [
             0.7777777777777778,
             "#fb9f3a"
            ],
            [
             0.8888888888888888,
             "#fdca26"
            ],
            [
             1,
             "#f0f921"
            ]
           ],
           "sequentialminus": [
            [
             0,
             "#0d0887"
            ],
            [
             0.1111111111111111,
             "#46039f"
            ],
            [
             0.2222222222222222,
             "#7201a8"
            ],
            [
             0.3333333333333333,
             "#9c179e"
            ],
            [
             0.4444444444444444,
             "#bd3786"
            ],
            [
             0.5555555555555556,
             "#d8576b"
            ],
            [
             0.6666666666666666,
             "#ed7953"
            ],
            [
             0.7777777777777778,
             "#fb9f3a"
            ],
            [
             0.8888888888888888,
             "#fdca26"
            ],
            [
             1,
             "#f0f921"
            ]
           ]
          },
          "colorway": [
           "#636efa",
           "#EF553B",
           "#00cc96",
           "#ab63fa",
           "#FFA15A",
           "#19d3f3",
           "#FF6692",
           "#B6E880",
           "#FF97FF",
           "#FECB52"
          ],
          "font": {
           "color": "#2a3f5f"
          },
          "geo": {
           "bgcolor": "white",
           "lakecolor": "white",
           "landcolor": "#E5ECF6",
           "showlakes": true,
           "showland": true,
           "subunitcolor": "white"
          },
          "hoverlabel": {
           "align": "left"
          },
          "hovermode": "closest",
          "mapbox": {
           "style": "light"
          },
          "paper_bgcolor": "white",
          "plot_bgcolor": "#E5ECF6",
          "polar": {
           "angularaxis": {
            "gridcolor": "white",
            "linecolor": "white",
            "ticks": ""
           },
           "bgcolor": "#E5ECF6",
           "radialaxis": {
            "gridcolor": "white",
            "linecolor": "white",
            "ticks": ""
           }
          },
          "scene": {
           "xaxis": {
            "backgroundcolor": "#E5ECF6",
            "gridcolor": "white",
            "gridwidth": 2,
            "linecolor": "white",
            "showbackground": true,
            "ticks": "",
            "zerolinecolor": "white"
           },
           "yaxis": {
            "backgroundcolor": "#E5ECF6",
            "gridcolor": "white",
            "gridwidth": 2,
            "linecolor": "white",
            "showbackground": true,
            "ticks": "",
            "zerolinecolor": "white"
           },
           "zaxis": {
            "backgroundcolor": "#E5ECF6",
            "gridcolor": "white",
            "gridwidth": 2,
            "linecolor": "white",
            "showbackground": true,
            "ticks": "",
            "zerolinecolor": "white"
           }
          },
          "shapedefaults": {
           "line": {
            "color": "#2a3f5f"
           }
          },
          "ternary": {
           "aaxis": {
            "gridcolor": "white",
            "linecolor": "white",
            "ticks": ""
           },
           "baxis": {
            "gridcolor": "white",
            "linecolor": "white",
            "ticks": ""
           },
           "bgcolor": "#E5ECF6",
           "caxis": {
            "gridcolor": "white",
            "linecolor": "white",
            "ticks": ""
           }
          },
          "title": {
           "x": 0.05
          },
          "xaxis": {
           "automargin": true,
           "gridcolor": "white",
           "linecolor": "white",
           "ticks": "",
           "title": {
            "standoff": 15
           },
           "zerolinecolor": "white",
           "zerolinewidth": 2
          },
          "yaxis": {
           "automargin": true,
           "gridcolor": "white",
           "linecolor": "white",
           "ticks": "",
           "title": {
            "standoff": 15
           },
           "zerolinecolor": "white",
           "zerolinewidth": 2
          }
         }
        },
        "title": {
         "text": "2021-2023 US Wildfire Cases Visualisation<br>Compared With Temperature & Precipitation By State"
        }
       }
      }
     },
     "metadata": {},
     "output_type": "display_data"
    }
   ],
   "source": [
    "# 假设 temperature 是您的温度数据集\n",
    "temperature[\"text\"] = temperature[\"state\"] + \"<br>\"\n",
    "\n",
    "# 创建图表\n",
    "fig = go.Figure()\n",
    "\n",
    "# 添加初始季度的温度数据轨迹\n",
    "temperature_trace = go.Choropleth(\n",
    "    visible=True,  # 保证初始季度的温度数据可见\n",
    "    locations=temperature[\"code\"],\n",
    "    z=temperature[\"2021 Q3\"].astype(float),  # 初始显示2021Q3\n",
    "    locationmode=\"USA-states\",\n",
    "    colorscale=\"Reds\",\n",
    "    name=\"Temperature\",\n",
    "    autocolorscale=False,\n",
    "    marker_line_color=\"white\",  # line markers between states\n",
    "    colorbar_title=\"↑ Temperature\",\n",
    ")\n",
    "fig.add_trace(temperature_trace)\n",
    "\n",
    "# 使用气泡图来显示降水量\n",
    "precipitation_trace = go.Scattergeo(\n",
    "    visible=True,\n",
    "    locations=precipitation[\"code\"],  # 使用州代码作为位置标识\n",
    "    locationmode=\"USA-states\",\n",
    "    marker=dict(\n",
    "        size=precipitation[\"2021 Q3\"] * 2,  # 使用降水量数据来决定气泡大小\n",
    "        color=\"skyblue\",\n",
    "        opacity=1,\n",
    "        line=dict(width=0),\n",
    "    ),\n",
    "    name=\"Precipitation\",\n",
    ")\n",
    "fig.add_trace(precipitation_trace)\n",
    "\n",
    "# 假设 wildfires 是您的野火数据集\n",
    "# 为每个季度添加野火数据轨迹\n",
    "seasons = [\n",
    "    \"2021 Q1\",\n",
    "    \"2021 Q2\",\n",
    "    \"2021 Q3\",\n",
    "    \"2021 Q4\",\n",
    "    \"2022 Q1\",\n",
    "    \"2022 Q2\",\n",
    "    \"2022 Q3\",\n",
    "    \"2022 Q4\",\n",
    "    \"2023 Q1\",\n",
    "    \"2023 Q2\",\n",
    "    \"2023 Q3\",\n",
    "    \"2023 Q4\",\n",
    "]\n",
    "for season in seasons:\n",
    "    season_df = df[df[\"Season\"] == season]\n",
    "    fig.add_trace(\n",
    "        go.Scattergeo(\n",
    "            visible=(season == \"2021 Q3\"),  # 仅对初始季度设为可见\n",
    "            lon=season_df[\"Longitude\"],\n",
    "            lat=season_df[\"Latitude\"],\n",
    "            text=[\"🔥\" for _ in range(len(season_df))],  # 使用火焰 emoji\n",
    "            mode=\"text\",  # 将模式设置为\"text\"以显示文本标记\n",
    "            name=\"Wildfire\",\n",
    "            textfont=dict(\n",
    "                family=\"Arial\",  # 可以选择合适的字体\n",
    "                size=12,  # 调整大小以适合你的图表\n",
    "                color=\"red\",  # 文本的颜色，这里是红色\n",
    "            ),\n",
    "        )\n",
    "    )\n",
    "\n",
    "# 更新布局\n",
    "fig.update_layout(\n",
    "    title_text=\"2021-2023 US Wildfire Cases Visualisation<br>Compared With Temperature & Precipitation By State\",\n",
    "    geo=dict(\n",
    "        scope=\"usa\",\n",
    "        projection=go.layout.geo.Projection(type=\"albers usa\"),\n",
    "        showlakes=True,  # lakes\n",
    "        lakecolor=\"rgb(255, 255, 255)\",\n",
    "    ),\n",
    "    showlegend=False,\n",
    ")\n",
    "\n",
    "\n",
    "# 添加滑动条以切换季度\n",
    "steps = []\n",
    "for index1, season in enumerate(seasons):\n",
    "    step = dict(\n",
    "        method=\"update\",\n",
    "        args=[\n",
    "            {\n",
    "                \"z\": [temperature[season].astype(float)],  # 更新温度数据\n",
    "                \"marker.size\": [precipitation[season] * 2],  # 更新降水量数据的气泡大小\n",
    "                \"visible\": [True, True]  # 保持温度和降水量数据可见\n",
    "                + [index1 == index2 for index2 in range(len(seasons))],  # 更新野火数据的可见性\n",
    "            },\n",
    "        ],\n",
    "        label=season,\n",
    "    )\n",
    "    steps.append(step)\n",
    "\n",
    "slider = dict(active=2, currentvalue={\"prefix\": \"Season: \"}, steps=steps)\n",
    "\n",
    "fig.update_layout(sliders=[slider])\n",
    "\n",
    "# 添加注释\n",
    "fig.add_annotation(\n",
    "    x=0.5,\n",
    "    y=-0.15,\n",
    "    xref=\"paper\",\n",
    "    yref=\"paper\",\n",
    "    text=\"The bigger the bubble is, the more precipitation in this region.\",\n",
    "    showarrow=False,\n",
    "    font=dict(size=12, color=\"purple\"),\n",
    "    align=\"center\",\n",
    ")\n",
    "\n",
    "# 显示图表\n",
    "fig.show()"
   ]
  },
  {
   "cell_type": "code",
   "execution_count": 21,
   "metadata": {},
   "outputs": [],
   "source": [
    "# visualisation(temperture, Precipitation, df)"
   ]
  }
 ],
 "metadata": {
  "kernelspec": {
   "display_name": "Python 3 (ipykernel)",
   "language": "python",
   "name": "python3"
  },
  "language_info": {
   "codemirror_mode": {
    "name": "ipython",
    "version": 3
   },
   "file_extension": ".py",
   "mimetype": "text/x-python",
   "name": "python",
   "nbconvert_exporter": "python",
   "pygments_lexer": "ipython3",
   "version": "3.11.2"
  }
 },
 "nbformat": 4,
 "nbformat_minor": 5
}
