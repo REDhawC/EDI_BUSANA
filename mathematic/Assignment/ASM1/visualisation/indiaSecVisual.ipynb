{
 "cells": [
  {
   "cell_type": "code",
   "execution_count": 148,
   "metadata": {},
   "outputs": [],
   "source": [
    "import pandas as pd\n",
    "import plotly.graph_objects as go\n",
    "import geopandas as gpd\n",
    "import kaleido"
   ]
  },
  {
   "cell_type": "code",
   "execution_count": 149,
   "metadata": {},
   "outputs": [],
   "source": [
    "area = pd.read_csv(\"./area.csv\")\n",
    "\n",
    "mapping = {\n",
    "    \"odisha\": \"Odisha\",\n",
    "    \"jharkhand\": \"Jharkhand\",\n",
    "    \"manipur\": \"Manipur\",\n",
    "    \"nagaland\": \"Nagaland\",\n",
    "    \"madhya_pradesh\": \"Madhya Pradesh\",\n",
    "    \"uttarakhand\": \"Uttarakhand\",\n",
    "    \"uttar_pradesh\": \"Uttar Pradesh\",\n",
    "    \"mizoram\": \"Mizoram\",\n",
    "    \"meghalaya\": \"Meghalaya\",\n",
    "    \"maharashtra\": \"Maharashtra\",\n",
    "    \"west_bengal\": \"West Bengal\",\n",
    "    \"gujarat\": \"Gujarat\",\n",
    "    \"assam\": \"Assam\",\n",
    "    \"bihar\": \"Bihar\",\n",
    "    \"jammu_and_kashmir\": \"Jammu & Kashmir\",\n",
    "    \"dadra_and_nagar_haveli\": \"Dadra and Nagar Haveli and Daman and Diu\",\n",
    "    \"arunachal_pradesh\": \"Arunachal Pradesh\",\n",
    "    \"karnataka\": \"Karnataka\",\n",
    "    \"chhattisgarh\": \"Chhattisgarh\",\n",
    "    \"tripura\": \"Tripura\",\n",
    "    \"himachal_pradesh\": \"Himachal Pradesh\",\n",
    "    \"chandigarh\": \"Chandigarh\",\n",
    "    \"telangana\": \"Telangana\",\n",
    "    \"sikkim\": \"Sikkim\",\n",
    "    \"rajasthan\": \"Rajasthan\",\n",
    "    \"punjab\": \"Punjab\",\n",
    "    \"andhra_pradesh\": \"Andhra Pradesh\",\n",
    "    \"haryana\": \"Haryana\",\n",
    "    \"kerala\": \"Kerala\",\n",
    "    \"tamil_nadu\": \"Tamil Nadu\",\n",
    "    \"puducherry\": \"Puducherry\",\n",
    "    \"andaman_and_nicobar_islands\": \"Andaman & Nicobar\",\n",
    "    \"goa\": \"Goa\",\n",
    "}"
   ]
  },
  {
   "cell_type": "code",
   "execution_count": 150,
   "metadata": {},
   "outputs": [
    {
     "data": {
      "text/html": [
       "<div>\n",
       "<style scoped>\n",
       "    .dataframe tbody tr th:only-of-type {\n",
       "        vertical-align: middle;\n",
       "    }\n",
       "\n",
       "    .dataframe tbody tr th {\n",
       "        vertical-align: top;\n",
       "    }\n",
       "\n",
       "    .dataframe thead th {\n",
       "        text-align: right;\n",
       "    }\n",
       "</style>\n",
       "<table border=\"1\" class=\"dataframe\">\n",
       "  <thead>\n",
       "    <tr style=\"text-align: right;\">\n",
       "      <th></th>\n",
       "      <th>state</th>\n",
       "      <th>Kharif</th>\n",
       "      <th>Rabi</th>\n",
       "      <th>Summer</th>\n",
       "    </tr>\n",
       "  </thead>\n",
       "  <tbody>\n",
       "    <tr>\n",
       "      <th>0</th>\n",
       "      <td>uttar_pradesh</td>\n",
       "      <td>25950750</td>\n",
       "      <td>25950750</td>\n",
       "      <td>25950750</td>\n",
       "    </tr>\n",
       "    <tr>\n",
       "      <th>1</th>\n",
       "      <td>rajasthan</td>\n",
       "      <td>24703500</td>\n",
       "      <td>24703500</td>\n",
       "      <td>0</td>\n",
       "    </tr>\n",
       "    <tr>\n",
       "      <th>2</th>\n",
       "      <td>madhya_pradesh</td>\n",
       "      <td>23375750</td>\n",
       "      <td>23375750</td>\n",
       "      <td>0</td>\n",
       "    </tr>\n",
       "    <tr>\n",
       "      <th>3</th>\n",
       "      <td>maharashtra</td>\n",
       "      <td>22706250</td>\n",
       "      <td>22706250</td>\n",
       "      <td>22706250</td>\n",
       "    </tr>\n",
       "    <tr>\n",
       "      <th>4</th>\n",
       "      <td>gujarat</td>\n",
       "      <td>12736500</td>\n",
       "      <td>12736500</td>\n",
       "      <td>12736500</td>\n",
       "    </tr>\n",
       "  </tbody>\n",
       "</table>\n",
       "</div>"
      ],
      "text/plain": [
       "            state    Kharif      Rabi    Summer\n",
       "0   uttar_pradesh  25950750  25950750  25950750\n",
       "1       rajasthan  24703500  24703500         0\n",
       "2  madhya_pradesh  23375750  23375750         0\n",
       "3     maharashtra  22706250  22706250  22706250\n",
       "4         gujarat  12736500  12736500  12736500"
      ]
     },
     "execution_count": 150,
     "metadata": {},
     "output_type": "execute_result"
    }
   ],
   "source": [
    "area.head()"
   ]
  },
  {
   "cell_type": "code",
   "execution_count": 151,
   "metadata": {},
   "outputs": [
    {
     "data": {
      "text/html": [
       "<div>\n",
       "<style scoped>\n",
       "    .dataframe tbody tr th:only-of-type {\n",
       "        vertical-align: middle;\n",
       "    }\n",
       "\n",
       "    .dataframe tbody tr th {\n",
       "        vertical-align: top;\n",
       "    }\n",
       "\n",
       "    .dataframe thead th {\n",
       "        text-align: right;\n",
       "    }\n",
       "</style>\n",
       "<table border=\"1\" class=\"dataframe\">\n",
       "  <thead>\n",
       "    <tr style=\"text-align: right;\">\n",
       "      <th></th>\n",
       "      <th>state</th>\n",
       "      <th>Kharif</th>\n",
       "      <th>Rabi</th>\n",
       "      <th>Summer</th>\n",
       "    </tr>\n",
       "  </thead>\n",
       "  <tbody>\n",
       "    <tr>\n",
       "      <th>0</th>\n",
       "      <td>Uttar Pradesh</td>\n",
       "      <td>25950750</td>\n",
       "      <td>25950750</td>\n",
       "      <td>25950750</td>\n",
       "    </tr>\n",
       "    <tr>\n",
       "      <th>1</th>\n",
       "      <td>Rajasthan</td>\n",
       "      <td>24703500</td>\n",
       "      <td>24703500</td>\n",
       "      <td>0</td>\n",
       "    </tr>\n",
       "    <tr>\n",
       "      <th>2</th>\n",
       "      <td>Madhya Pradesh</td>\n",
       "      <td>23375750</td>\n",
       "      <td>23375750</td>\n",
       "      <td>0</td>\n",
       "    </tr>\n",
       "    <tr>\n",
       "      <th>3</th>\n",
       "      <td>Maharashtra</td>\n",
       "      <td>22706250</td>\n",
       "      <td>22706250</td>\n",
       "      <td>22706250</td>\n",
       "    </tr>\n",
       "    <tr>\n",
       "      <th>4</th>\n",
       "      <td>Gujarat</td>\n",
       "      <td>12736500</td>\n",
       "      <td>12736500</td>\n",
       "      <td>12736500</td>\n",
       "    </tr>\n",
       "  </tbody>\n",
       "</table>\n",
       "</div>"
      ],
      "text/plain": [
       "            state    Kharif      Rabi    Summer\n",
       "0   Uttar Pradesh  25950750  25950750  25950750\n",
       "1       Rajasthan  24703500  24703500         0\n",
       "2  Madhya Pradesh  23375750  23375750         0\n",
       "3     Maharashtra  22706250  22706250  22706250\n",
       "4         Gujarat  12736500  12736500  12736500"
      ]
     },
     "execution_count": 151,
     "metadata": {},
     "output_type": "execute_result"
    }
   ],
   "source": [
    "area[\"state\"] = area[\"state\"].map(mapping)\n",
    "\n",
    "# Display the first few rows of the DataFrame\n",
    "area.head()"
   ]
  },
  {
   "cell_type": "code",
   "execution_count": 152,
   "metadata": {},
   "outputs": [
    {
     "name": "stderr",
     "output_type": "stream",
     "text": [
      "C:\\Users\\redhawc\\AppData\\Local\\Temp\\ipykernel_73460\\1145364152.py:4: UserWarning:\n",
      "\n",
      "Geometry is in a geographic CRS. Results from 'centroid' are likely incorrect. Use 'GeoSeries.to_crs()' to re-project geometries to a projected CRS before this operation.\n",
      "\n",
      "\n"
     ]
    },
    {
     "data": {
      "text/plain": [
       "(36, 5)"
      ]
     },
     "execution_count": 152,
     "metadata": {},
     "output_type": "execute_result"
    }
   ],
   "source": [
    "geojson_url = \"https://gist.githubusercontent.com/jbrobst/56c13bbbf9d97d187fea01ca62ea5112/raw/e388c4cae20aa53cb5090210a42ebb9b765c0a36/india_states.geojson\"\n",
    "geo_df = gpd.read_file(geojson_url)\n",
    "\n",
    "geo_df[\"center\"] = geo_df[\"geometry\"].centroid\n",
    "geo_df[\"lon\"] = geo_df[\"center\"].apply(lambda p: p.x)\n",
    "geo_df[\"lat\"] = geo_df[\"center\"].apply(lambda p: p.y)\n",
    "\n",
    "# Find the index of 'Chandigarh' in the DataFrame\n",
    "index = geo_df[geo_df[\"ST_NM\"] == \"Chandigarh\"].index[0]\n",
    "\n",
    "# Adjust the latitude value\n",
    "geo_df.loc[index, \"lat\"] = (\n",
    "    geo_df.loc[index, \"lat\"] - 0.02\n",
    ")  # Adjust this value as needed\n",
    "\n",
    "# Display the first few rows of the DataFrame\n",
    "geo_df.shape"
   ]
  },
  {
   "cell_type": "code",
   "execution_count": 153,
   "metadata": {},
   "outputs": [],
   "source": [
    "# Find the index of 'Chandigarh' in the DataFrame\n",
    "index1 = geo_df[geo_df[\"ST_NM\"] == \"Punjab\"].index[0]\n",
    "index2 = geo_df[geo_df[\"ST_NM\"] == \"West Bengal\"].index[0]\n",
    "index3 = geo_df[geo_df[\"ST_NM\"] == \"Assam\"].index[0]\n",
    "\n",
    "# Adjust the latitude value\n",
    "geo_df.loc[index1, \"lat\"] = (\n",
    "    geo_df.loc[index1, \"lat\"] + 0.6\n",
    ")  # Adjust this value as needed\n",
    "# Adjust the latitude value\n",
    "geo_df.loc[index2, \"lat\"] = (\n",
    "    geo_df.loc[index2, \"lat\"] - 0.6\n",
    ")  # Adjust this value as needed\n",
    "geo_df.loc[index3, \"lat\"] = (\n",
    "    geo_df.loc[index3, \"lat\"] + 0.2\n",
    ")  # Adjust this value as needed\n",
    "\n",
    "# Display the first few rows of the DataFrame\n",
    "\n",
    "geo_df = pd.merge(geo_df, area, how=\"right\", left_on=\"ST_NM\", right_on=\"state\")"
   ]
  },
  {
   "cell_type": "code",
   "execution_count": 154,
   "metadata": {},
   "outputs": [
    {
     "data": {
      "text/html": [
       "<div>\n",
       "<style scoped>\n",
       "    .dataframe tbody tr th:only-of-type {\n",
       "        vertical-align: middle;\n",
       "    }\n",
       "\n",
       "    .dataframe tbody tr th {\n",
       "        vertical-align: top;\n",
       "    }\n",
       "\n",
       "    .dataframe thead th {\n",
       "        text-align: right;\n",
       "    }\n",
       "</style>\n",
       "<table border=\"1\" class=\"dataframe\">\n",
       "  <thead>\n",
       "    <tr style=\"text-align: right;\">\n",
       "      <th></th>\n",
       "      <th>ST_NM</th>\n",
       "      <th>geometry</th>\n",
       "      <th>center</th>\n",
       "      <th>lon</th>\n",
       "      <th>lat</th>\n",
       "      <th>state</th>\n",
       "      <th>Kharif</th>\n",
       "      <th>Rabi</th>\n",
       "      <th>Summer</th>\n",
       "    </tr>\n",
       "  </thead>\n",
       "  <tbody>\n",
       "    <tr>\n",
       "      <th>0</th>\n",
       "      <td>Uttar Pradesh</td>\n",
       "      <td>MULTIPOLYGON (((79.39598 25.03224, 79.37381 25...</td>\n",
       "      <td>POINT (80.56605 26.92330)</td>\n",
       "      <td>80.566053</td>\n",
       "      <td>26.923298</td>\n",
       "      <td>Uttar Pradesh</td>\n",
       "      <td>25950750</td>\n",
       "      <td>25950750</td>\n",
       "      <td>25950750</td>\n",
       "    </tr>\n",
       "    <tr>\n",
       "      <th>1</th>\n",
       "      <td>Rajasthan</td>\n",
       "      <td>POLYGON ((74.52716 29.94279, 74.51002 29.90819...</td>\n",
       "      <td>POINT (73.84984 26.58441)</td>\n",
       "      <td>73.849842</td>\n",
       "      <td>26.584408</td>\n",
       "      <td>Rajasthan</td>\n",
       "      <td>24703500</td>\n",
       "      <td>24703500</td>\n",
       "      <td>0</td>\n",
       "    </tr>\n",
       "    <tr>\n",
       "      <th>2</th>\n",
       "      <td>Madhya Pradesh</td>\n",
       "      <td>POLYGON ((82.81031 23.96288, 82.77822 23.93717...</td>\n",
       "      <td>POINT (78.28915 23.53814)</td>\n",
       "      <td>78.289153</td>\n",
       "      <td>23.538136</td>\n",
       "      <td>Madhya Pradesh</td>\n",
       "      <td>23375750</td>\n",
       "      <td>23375750</td>\n",
       "      <td>0</td>\n",
       "    </tr>\n",
       "    <tr>\n",
       "      <th>3</th>\n",
       "      <td>Maharashtra</td>\n",
       "      <td>MULTIPOLYGON (((80.66004 21.33411, 80.68159 21...</td>\n",
       "      <td>POINT (76.10751 19.45150)</td>\n",
       "      <td>76.107510</td>\n",
       "      <td>19.451500</td>\n",
       "      <td>Maharashtra</td>\n",
       "      <td>22706250</td>\n",
       "      <td>22706250</td>\n",
       "      <td>22706250</td>\n",
       "    </tr>\n",
       "    <tr>\n",
       "      <th>4</th>\n",
       "      <td>Gujarat</td>\n",
       "      <td>MULTIPOLYGON (((72.36233 22.02915, 72.38864 22...</td>\n",
       "      <td>POINT (71.57223 22.69839)</td>\n",
       "      <td>71.572226</td>\n",
       "      <td>22.698394</td>\n",
       "      <td>Gujarat</td>\n",
       "      <td>12736500</td>\n",
       "      <td>12736500</td>\n",
       "      <td>12736500</td>\n",
       "    </tr>\n",
       "    <tr>\n",
       "      <th>5</th>\n",
       "      <td>Karnataka</td>\n",
       "      <td>POLYGON ((77.55144 18.29191, 77.57026 18.29252...</td>\n",
       "      <td>POINT (76.16747 14.71041)</td>\n",
       "      <td>76.167475</td>\n",
       "      <td>14.710406</td>\n",
       "      <td>Karnataka</td>\n",
       "      <td>12080250</td>\n",
       "      <td>12080250</td>\n",
       "      <td>12080250</td>\n",
       "    </tr>\n",
       "    <tr>\n",
       "      <th>6</th>\n",
       "      <td>Andhra Pradesh</td>\n",
       "      <td>POLYGON ((84.76474 19.07728, 84.74627 19.04820...</td>\n",
       "      <td>POINT (79.96565 15.75611)</td>\n",
       "      <td>79.965647</td>\n",
       "      <td>15.756113</td>\n",
       "      <td>Andhra Pradesh</td>\n",
       "      <td>10806750</td>\n",
       "      <td>10806750</td>\n",
       "      <td>0</td>\n",
       "    </tr>\n",
       "    <tr>\n",
       "      <th>7</th>\n",
       "      <td>West Bengal</td>\n",
       "      <td>MULTIPOLYGON (((88.23656 21.48690, 88.22884 21...</td>\n",
       "      <td>POINT (87.98379 23.81183)</td>\n",
       "      <td>87.983785</td>\n",
       "      <td>23.211829</td>\n",
       "      <td>West Bengal</td>\n",
       "      <td>9530000</td>\n",
       "      <td>9530000</td>\n",
       "      <td>9530000</td>\n",
       "    </tr>\n",
       "    <tr>\n",
       "      <th>8</th>\n",
       "      <td>Punjab</td>\n",
       "      <td>POLYGON ((76.77673 30.90429, 76.78433 30.87791...</td>\n",
       "      <td>POINT (75.41580 30.84223)</td>\n",
       "      <td>75.415804</td>\n",
       "      <td>31.442227</td>\n",
       "      <td>Punjab</td>\n",
       "      <td>7870000</td>\n",
       "      <td>7870000</td>\n",
       "      <td>0</td>\n",
       "    </tr>\n",
       "    <tr>\n",
       "      <th>9</th>\n",
       "      <td>Bihar</td>\n",
       "      <td>POLYGON ((88.10540 26.55108, 88.13494 26.52347...</td>\n",
       "      <td>POINT (85.61004 25.67931)</td>\n",
       "      <td>85.610042</td>\n",
       "      <td>25.679308</td>\n",
       "      <td>Bihar</td>\n",
       "      <td>7669500</td>\n",
       "      <td>7669500</td>\n",
       "      <td>7669500</td>\n",
       "    </tr>\n",
       "    <tr>\n",
       "      <th>10</th>\n",
       "      <td>Haryana</td>\n",
       "      <td>POLYGON ((77.58561 30.37956, 77.60352 30.36922...</td>\n",
       "      <td>POINT (76.34018 29.19814)</td>\n",
       "      <td>76.340180</td>\n",
       "      <td>29.198138</td>\n",
       "      <td>Haryana</td>\n",
       "      <td>6468000</td>\n",
       "      <td>6468000</td>\n",
       "      <td>0</td>\n",
       "    </tr>\n",
       "    <tr>\n",
       "      <th>11</th>\n",
       "      <td>Telangana</td>\n",
       "      <td>POLYGON ((80.27289 18.72299, 80.27929 18.72118...</td>\n",
       "      <td>POINT (79.00869 17.80072)</td>\n",
       "      <td>79.008686</td>\n",
       "      <td>17.800720</td>\n",
       "      <td>Telangana</td>\n",
       "      <td>5801500</td>\n",
       "      <td>5801500</td>\n",
       "      <td>0</td>\n",
       "    </tr>\n",
       "    <tr>\n",
       "      <th>12</th>\n",
       "      <td>Tamil Nadu</td>\n",
       "      <td>MULTIPOLYGON (((79.78144 11.90281, 79.79652 11...</td>\n",
       "      <td>POINT (78.40845 11.01406)</td>\n",
       "      <td>78.408454</td>\n",
       "      <td>11.014055</td>\n",
       "      <td>Tamil Nadu</td>\n",
       "      <td>5730500</td>\n",
       "      <td>0</td>\n",
       "      <td>5730500</td>\n",
       "    </tr>\n",
       "    <tr>\n",
       "      <th>13</th>\n",
       "      <td>Chhattisgarh</td>\n",
       "      <td>POLYGON ((83.32988 24.10169, 83.34979 24.09640...</td>\n",
       "      <td>POINT (82.04096 21.26613)</td>\n",
       "      <td>82.040964</td>\n",
       "      <td>21.266132</td>\n",
       "      <td>Chhattisgarh</td>\n",
       "      <td>5695250</td>\n",
       "      <td>5695250</td>\n",
       "      <td>0</td>\n",
       "    </tr>\n",
       "    <tr>\n",
       "      <th>14</th>\n",
       "      <td>Odisha</td>\n",
       "      <td>POLYGON ((84.76474 19.07728, 84.70610 19.11661...</td>\n",
       "      <td>POINT (84.43062 20.51399)</td>\n",
       "      <td>84.430619</td>\n",
       "      <td>20.513987</td>\n",
       "      <td>Odisha</td>\n",
       "      <td>5093500</td>\n",
       "      <td>5093500</td>\n",
       "      <td>5093500</td>\n",
       "    </tr>\n",
       "    <tr>\n",
       "      <th>15</th>\n",
       "      <td>Assam</td>\n",
       "      <td>POLYGON ((95.19465 27.03132, 95.15008 26.99934...</td>\n",
       "      <td>POINT (92.82634 26.35498)</td>\n",
       "      <td>92.826343</td>\n",
       "      <td>26.554978</td>\n",
       "      <td>Assam</td>\n",
       "      <td>4108250</td>\n",
       "      <td>4108250</td>\n",
       "      <td>4108250</td>\n",
       "    </tr>\n",
       "    <tr>\n",
       "      <th>16</th>\n",
       "      <td>Kerala</td>\n",
       "      <td>POLYGON ((76.43134 11.66648, 76.44341 11.64370...</td>\n",
       "      <td>POINT (76.40848 10.45041)</td>\n",
       "      <td>76.408482</td>\n",
       "      <td>10.450407</td>\n",
       "      <td>Kerala</td>\n",
       "      <td>2624000</td>\n",
       "      <td>2624000</td>\n",
       "      <td>2624000</td>\n",
       "    </tr>\n",
       "    <tr>\n",
       "      <th>17</th>\n",
       "      <td>Jharkhand</td>\n",
       "      <td>POLYGON ((87.71137 25.25768, 87.77867 25.25054...</td>\n",
       "      <td>POINT (85.56364 23.65614)</td>\n",
       "      <td>85.563637</td>\n",
       "      <td>23.656140</td>\n",
       "      <td>Jharkhand</td>\n",
       "      <td>1578250</td>\n",
       "      <td>1578250</td>\n",
       "      <td>0</td>\n",
       "    </tr>\n",
       "    <tr>\n",
       "      <th>18</th>\n",
       "      <td>Jammu &amp; Kashmir</td>\n",
       "      <td>POLYGON ((76.77123 33.24963, 76.77888 33.23971...</td>\n",
       "      <td>POINT (74.85840 33.64512)</td>\n",
       "      <td>74.858400</td>\n",
       "      <td>33.645120</td>\n",
       "      <td>Jammu &amp; Kashmir</td>\n",
       "      <td>1169750</td>\n",
       "      <td>1169750</td>\n",
       "      <td>0</td>\n",
       "    </tr>\n",
       "    <tr>\n",
       "      <th>19</th>\n",
       "      <td>Uttarakhand</td>\n",
       "      <td>POLYGON ((80.06509 28.83673, 80.05923 28.81687...</td>\n",
       "      <td>POINT (79.20658 30.15661)</td>\n",
       "      <td>79.206583</td>\n",
       "      <td>30.156612</td>\n",
       "      <td>Uttarakhand</td>\n",
       "      <td>1113000</td>\n",
       "      <td>1113000</td>\n",
       "      <td>1113000</td>\n",
       "    </tr>\n",
       "    <tr>\n",
       "      <th>20</th>\n",
       "      <td>Himachal Pradesh</td>\n",
       "      <td>POLYGON ((78.39859 32.52574, 78.41521 32.52245...</td>\n",
       "      <td>POINT (77.24451 31.92623)</td>\n",
       "      <td>77.244508</td>\n",
       "      <td>31.926226</td>\n",
       "      <td>Himachal Pradesh</td>\n",
       "      <td>931000</td>\n",
       "      <td>931000</td>\n",
       "      <td>0</td>\n",
       "    </tr>\n",
       "    <tr>\n",
       "      <th>21</th>\n",
       "      <td>Nagaland</td>\n",
       "      <td>POLYGON ((95.19465 27.03132, 95.19717 27.00183...</td>\n",
       "      <td>POINT (94.46702 26.06263)</td>\n",
       "      <td>94.467017</td>\n",
       "      <td>26.062634</td>\n",
       "      <td>Nagaland</td>\n",
       "      <td>490500</td>\n",
       "      <td>490500</td>\n",
       "      <td>0</td>\n",
       "    </tr>\n",
       "    <tr>\n",
       "      <th>22</th>\n",
       "      <td>Tripura</td>\n",
       "      <td>POLYGON ((92.21170 24.50448, 92.22977 24.50244...</td>\n",
       "      <td>POINT (91.73907 23.74514)</td>\n",
       "      <td>91.739069</td>\n",
       "      <td>23.745138</td>\n",
       "      <td>Tripura</td>\n",
       "      <td>475750</td>\n",
       "      <td>475750</td>\n",
       "      <td>0</td>\n",
       "    </tr>\n",
       "    <tr>\n",
       "      <th>23</th>\n",
       "      <td>Manipur</td>\n",
       "      <td>POLYGON ((94.67545 25.44561, 94.67293 25.42398...</td>\n",
       "      <td>POINT (93.87884 24.73508)</td>\n",
       "      <td>93.878842</td>\n",
       "      <td>24.735076</td>\n",
       "      <td>Manipur</td>\n",
       "      <td>358500</td>\n",
       "      <td>358500</td>\n",
       "      <td>358500</td>\n",
       "    </tr>\n",
       "    <tr>\n",
       "      <th>24</th>\n",
       "      <td>Meghalaya</td>\n",
       "      <td>POLYGON ((92.42522 25.02966, 92.40163 25.03363...</td>\n",
       "      <td>POINT (91.27736 25.53558)</td>\n",
       "      <td>91.277356</td>\n",
       "      <td>25.535577</td>\n",
       "      <td>Meghalaya</td>\n",
       "      <td>341250</td>\n",
       "      <td>341250</td>\n",
       "      <td>341250</td>\n",
       "    </tr>\n",
       "    <tr>\n",
       "      <th>25</th>\n",
       "      <td>Arunachal Pradesh</td>\n",
       "      <td>POLYGON ((95.23392 26.68246, 95.23282 26.70579...</td>\n",
       "      <td>POINT (94.67483 28.03607)</td>\n",
       "      <td>94.674833</td>\n",
       "      <td>28.036066</td>\n",
       "      <td>Arunachal Pradesh</td>\n",
       "      <td>280000</td>\n",
       "      <td>280000</td>\n",
       "      <td>0</td>\n",
       "    </tr>\n",
       "    <tr>\n",
       "      <th>26</th>\n",
       "      <td>Goa</td>\n",
       "      <td>POLYGON ((74.11835 15.65204, 74.13561 15.64840...</td>\n",
       "      <td>POINT (74.05415 15.36388)</td>\n",
       "      <td>74.054147</td>\n",
       "      <td>15.363876</td>\n",
       "      <td>Goa</td>\n",
       "      <td>160750</td>\n",
       "      <td>160750</td>\n",
       "      <td>0</td>\n",
       "    </tr>\n",
       "    <tr>\n",
       "      <th>27</th>\n",
       "      <td>Sikkim</td>\n",
       "      <td>POLYGON ((88.74553 27.14203, 88.73457 27.13482...</td>\n",
       "      <td>POINT (88.47340 27.56992)</td>\n",
       "      <td>88.473403</td>\n",
       "      <td>27.569923</td>\n",
       "      <td>Sikkim</td>\n",
       "      <td>141000</td>\n",
       "      <td>141000</td>\n",
       "      <td>0</td>\n",
       "    </tr>\n",
       "    <tr>\n",
       "      <th>28</th>\n",
       "      <td>Mizoram</td>\n",
       "      <td>POLYGON ((93.00870 24.41178, 93.02462 24.39255...</td>\n",
       "      <td>POINT (92.83177 23.30781)</td>\n",
       "      <td>92.831772</td>\n",
       "      <td>23.307807</td>\n",
       "      <td>Mizoram</td>\n",
       "      <td>118000</td>\n",
       "      <td>118000</td>\n",
       "      <td>0</td>\n",
       "    </tr>\n",
       "    <tr>\n",
       "      <th>29</th>\n",
       "      <td>Puducherry</td>\n",
       "      <td>MULTIPOLYGON (((79.85436 10.98332, 79.85183 10...</td>\n",
       "      <td>POINT (79.86026 11.85152)</td>\n",
       "      <td>79.860265</td>\n",
       "      <td>11.851520</td>\n",
       "      <td>Puducherry</td>\n",
       "      <td>26250</td>\n",
       "      <td>26250</td>\n",
       "      <td>26250</td>\n",
       "    </tr>\n",
       "    <tr>\n",
       "      <th>30</th>\n",
       "      <td>Dadra and Nagar Haveli and Daman and Diu</td>\n",
       "      <td>MULTIPOLYGON (((73.21066 20.12045, 73.21315 20...</td>\n",
       "      <td>POINT (72.93083 20.24255)</td>\n",
       "      <td>72.930832</td>\n",
       "      <td>20.242552</td>\n",
       "      <td>Dadra and Nagar Haveli and Daman and Diu</td>\n",
       "      <td>23750</td>\n",
       "      <td>23750</td>\n",
       "      <td>0</td>\n",
       "    </tr>\n",
       "    <tr>\n",
       "      <th>31</th>\n",
       "      <td>Andaman &amp; Nicobar</td>\n",
       "      <td>MULTIPOLYGON (((93.83720 7.24024, 93.83092 7.2...</td>\n",
       "      <td>POINT (92.95771 11.19797)</td>\n",
       "      <td>92.957713</td>\n",
       "      <td>11.197969</td>\n",
       "      <td>Andaman &amp; Nicobar</td>\n",
       "      <td>22750</td>\n",
       "      <td>22750</td>\n",
       "      <td>0</td>\n",
       "    </tr>\n",
       "    <tr>\n",
       "      <th>32</th>\n",
       "      <td>Chandigarh</td>\n",
       "      <td>POLYGON ((76.83806 30.75487, 76.83301 30.73887...</td>\n",
       "      <td>POINT (76.78078 30.72836)</td>\n",
       "      <td>76.780780</td>\n",
       "      <td>30.708361</td>\n",
       "      <td>Chandigarh</td>\n",
       "      <td>2000</td>\n",
       "      <td>2000</td>\n",
       "      <td>0</td>\n",
       "    </tr>\n",
       "  </tbody>\n",
       "</table>\n",
       "</div>"
      ],
      "text/plain": [
       "                                       ST_NM  \\\n",
       "0                              Uttar Pradesh   \n",
       "1                                  Rajasthan   \n",
       "2                             Madhya Pradesh   \n",
       "3                                Maharashtra   \n",
       "4                                    Gujarat   \n",
       "5                                  Karnataka   \n",
       "6                             Andhra Pradesh   \n",
       "7                                West Bengal   \n",
       "8                                     Punjab   \n",
       "9                                      Bihar   \n",
       "10                                   Haryana   \n",
       "11                                 Telangana   \n",
       "12                                Tamil Nadu   \n",
       "13                              Chhattisgarh   \n",
       "14                                    Odisha   \n",
       "15                                     Assam   \n",
       "16                                    Kerala   \n",
       "17                                 Jharkhand   \n",
       "18                           Jammu & Kashmir   \n",
       "19                               Uttarakhand   \n",
       "20                          Himachal Pradesh   \n",
       "21                                  Nagaland   \n",
       "22                                   Tripura   \n",
       "23                                   Manipur   \n",
       "24                                 Meghalaya   \n",
       "25                         Arunachal Pradesh   \n",
       "26                                       Goa   \n",
       "27                                    Sikkim   \n",
       "28                                   Mizoram   \n",
       "29                                Puducherry   \n",
       "30  Dadra and Nagar Haveli and Daman and Diu   \n",
       "31                         Andaman & Nicobar   \n",
       "32                                Chandigarh   \n",
       "\n",
       "                                             geometry  \\\n",
       "0   MULTIPOLYGON (((79.39598 25.03224, 79.37381 25...   \n",
       "1   POLYGON ((74.52716 29.94279, 74.51002 29.90819...   \n",
       "2   POLYGON ((82.81031 23.96288, 82.77822 23.93717...   \n",
       "3   MULTIPOLYGON (((80.66004 21.33411, 80.68159 21...   \n",
       "4   MULTIPOLYGON (((72.36233 22.02915, 72.38864 22...   \n",
       "5   POLYGON ((77.55144 18.29191, 77.57026 18.29252...   \n",
       "6   POLYGON ((84.76474 19.07728, 84.74627 19.04820...   \n",
       "7   MULTIPOLYGON (((88.23656 21.48690, 88.22884 21...   \n",
       "8   POLYGON ((76.77673 30.90429, 76.78433 30.87791...   \n",
       "9   POLYGON ((88.10540 26.55108, 88.13494 26.52347...   \n",
       "10  POLYGON ((77.58561 30.37956, 77.60352 30.36922...   \n",
       "11  POLYGON ((80.27289 18.72299, 80.27929 18.72118...   \n",
       "12  MULTIPOLYGON (((79.78144 11.90281, 79.79652 11...   \n",
       "13  POLYGON ((83.32988 24.10169, 83.34979 24.09640...   \n",
       "14  POLYGON ((84.76474 19.07728, 84.70610 19.11661...   \n",
       "15  POLYGON ((95.19465 27.03132, 95.15008 26.99934...   \n",
       "16  POLYGON ((76.43134 11.66648, 76.44341 11.64370...   \n",
       "17  POLYGON ((87.71137 25.25768, 87.77867 25.25054...   \n",
       "18  POLYGON ((76.77123 33.24963, 76.77888 33.23971...   \n",
       "19  POLYGON ((80.06509 28.83673, 80.05923 28.81687...   \n",
       "20  POLYGON ((78.39859 32.52574, 78.41521 32.52245...   \n",
       "21  POLYGON ((95.19465 27.03132, 95.19717 27.00183...   \n",
       "22  POLYGON ((92.21170 24.50448, 92.22977 24.50244...   \n",
       "23  POLYGON ((94.67545 25.44561, 94.67293 25.42398...   \n",
       "24  POLYGON ((92.42522 25.02966, 92.40163 25.03363...   \n",
       "25  POLYGON ((95.23392 26.68246, 95.23282 26.70579...   \n",
       "26  POLYGON ((74.11835 15.65204, 74.13561 15.64840...   \n",
       "27  POLYGON ((88.74553 27.14203, 88.73457 27.13482...   \n",
       "28  POLYGON ((93.00870 24.41178, 93.02462 24.39255...   \n",
       "29  MULTIPOLYGON (((79.85436 10.98332, 79.85183 10...   \n",
       "30  MULTIPOLYGON (((73.21066 20.12045, 73.21315 20...   \n",
       "31  MULTIPOLYGON (((93.83720 7.24024, 93.83092 7.2...   \n",
       "32  POLYGON ((76.83806 30.75487, 76.83301 30.73887...   \n",
       "\n",
       "                       center        lon        lat  \\\n",
       "0   POINT (80.56605 26.92330)  80.566053  26.923298   \n",
       "1   POINT (73.84984 26.58441)  73.849842  26.584408   \n",
       "2   POINT (78.28915 23.53814)  78.289153  23.538136   \n",
       "3   POINT (76.10751 19.45150)  76.107510  19.451500   \n",
       "4   POINT (71.57223 22.69839)  71.572226  22.698394   \n",
       "5   POINT (76.16747 14.71041)  76.167475  14.710406   \n",
       "6   POINT (79.96565 15.75611)  79.965647  15.756113   \n",
       "7   POINT (87.98379 23.81183)  87.983785  23.211829   \n",
       "8   POINT (75.41580 30.84223)  75.415804  31.442227   \n",
       "9   POINT (85.61004 25.67931)  85.610042  25.679308   \n",
       "10  POINT (76.34018 29.19814)  76.340180  29.198138   \n",
       "11  POINT (79.00869 17.80072)  79.008686  17.800720   \n",
       "12  POINT (78.40845 11.01406)  78.408454  11.014055   \n",
       "13  POINT (82.04096 21.26613)  82.040964  21.266132   \n",
       "14  POINT (84.43062 20.51399)  84.430619  20.513987   \n",
       "15  POINT (92.82634 26.35498)  92.826343  26.554978   \n",
       "16  POINT (76.40848 10.45041)  76.408482  10.450407   \n",
       "17  POINT (85.56364 23.65614)  85.563637  23.656140   \n",
       "18  POINT (74.85840 33.64512)  74.858400  33.645120   \n",
       "19  POINT (79.20658 30.15661)  79.206583  30.156612   \n",
       "20  POINT (77.24451 31.92623)  77.244508  31.926226   \n",
       "21  POINT (94.46702 26.06263)  94.467017  26.062634   \n",
       "22  POINT (91.73907 23.74514)  91.739069  23.745138   \n",
       "23  POINT (93.87884 24.73508)  93.878842  24.735076   \n",
       "24  POINT (91.27736 25.53558)  91.277356  25.535577   \n",
       "25  POINT (94.67483 28.03607)  94.674833  28.036066   \n",
       "26  POINT (74.05415 15.36388)  74.054147  15.363876   \n",
       "27  POINT (88.47340 27.56992)  88.473403  27.569923   \n",
       "28  POINT (92.83177 23.30781)  92.831772  23.307807   \n",
       "29  POINT (79.86026 11.85152)  79.860265  11.851520   \n",
       "30  POINT (72.93083 20.24255)  72.930832  20.242552   \n",
       "31  POINT (92.95771 11.19797)  92.957713  11.197969   \n",
       "32  POINT (76.78078 30.72836)  76.780780  30.708361   \n",
       "\n",
       "                                       state    Kharif      Rabi    Summer  \n",
       "0                              Uttar Pradesh  25950750  25950750  25950750  \n",
       "1                                  Rajasthan  24703500  24703500         0  \n",
       "2                             Madhya Pradesh  23375750  23375750         0  \n",
       "3                                Maharashtra  22706250  22706250  22706250  \n",
       "4                                    Gujarat  12736500  12736500  12736500  \n",
       "5                                  Karnataka  12080250  12080250  12080250  \n",
       "6                             Andhra Pradesh  10806750  10806750         0  \n",
       "7                                West Bengal   9530000   9530000   9530000  \n",
       "8                                     Punjab   7870000   7870000         0  \n",
       "9                                      Bihar   7669500   7669500   7669500  \n",
       "10                                   Haryana   6468000   6468000         0  \n",
       "11                                 Telangana   5801500   5801500         0  \n",
       "12                                Tamil Nadu   5730500         0   5730500  \n",
       "13                              Chhattisgarh   5695250   5695250         0  \n",
       "14                                    Odisha   5093500   5093500   5093500  \n",
       "15                                     Assam   4108250   4108250   4108250  \n",
       "16                                    Kerala   2624000   2624000   2624000  \n",
       "17                                 Jharkhand   1578250   1578250         0  \n",
       "18                           Jammu & Kashmir   1169750   1169750         0  \n",
       "19                               Uttarakhand   1113000   1113000   1113000  \n",
       "20                          Himachal Pradesh    931000    931000         0  \n",
       "21                                  Nagaland    490500    490500         0  \n",
       "22                                   Tripura    475750    475750         0  \n",
       "23                                   Manipur    358500    358500    358500  \n",
       "24                                 Meghalaya    341250    341250    341250  \n",
       "25                         Arunachal Pradesh    280000    280000         0  \n",
       "26                                       Goa    160750    160750         0  \n",
       "27                                    Sikkim    141000    141000         0  \n",
       "28                                   Mizoram    118000    118000         0  \n",
       "29                                Puducherry     26250     26250     26250  \n",
       "30  Dadra and Nagar Haveli and Daman and Diu     23750     23750         0  \n",
       "31                         Andaman & Nicobar     22750     22750         0  \n",
       "32                                Chandigarh      2000      2000         0  "
      ]
     },
     "execution_count": 154,
     "metadata": {},
     "output_type": "execute_result"
    }
   ],
   "source": [
    "# geo_df = geo_df.assign(Rabi=geo_df[\"Kharif\"], Summer=geo_df[\"Kharif\"])\n",
    "\n",
    "# # Export the DataFrame to a CSV file\n",
    "# geo_df.to_csv(\"geo_df.csv\", index=False)\n",
    "\n",
    "geo_df"
   ]
  },
  {
   "cell_type": "code",
   "execution_count": 155,
   "metadata": {},
   "outputs": [
    {
     "data": {
      "application/vnd.plotly.v1+json": {
       "config": {
        "plotlyServerURL": "https://plot.ly"
       },
       "data": [
        {
         "colorscale": [
          [
           0,
           "grey"
          ],
          [
           0.5,
           "lightgreen"
          ],
          [
           1,
           "green"
          ]
         ],
         "featureidkey": "properties.ST_NM",
         "geojson": "https://gist.githubusercontent.com/jbrobst/56c13bbbf9d97d187fea01ca62ea5112/raw/e388c4cae20aa53cb5090210a42ebb9b765c0a36/india_states.geojson",
         "hoverinfo": "location+text",
         "locations": [
          "Uttar Pradesh",
          "Rajasthan",
          "Madhya Pradesh",
          "Maharashtra",
          "Gujarat",
          "Karnataka",
          "Andhra Pradesh",
          "West Bengal",
          "Punjab",
          "Bihar",
          "Haryana",
          "Telangana",
          "Tamil Nadu",
          "Chhattisgarh",
          "Odisha",
          "Assam",
          "Kerala",
          "Jharkhand",
          "Jammu & Kashmir",
          "Uttarakhand",
          "Himachal Pradesh",
          "Nagaland",
          "Tripura",
          "Manipur",
          "Meghalaya",
          "Arunachal Pradesh",
          "Goa",
          "Sikkim",
          "Mizoram",
          "Puducherry",
          "Dadra and Nagar Haveli and Daman and Diu",
          "Andaman & Nicobar",
          "Chandigarh"
         ],
         "marker": {
          "line": {
           "color": "burlywood"
          }
         },
         "type": "choropleth",
         "z": [
          25950750,
          24703500,
          23375750,
          22706250,
          12736500,
          12080250,
          10806750,
          9530000,
          7870000,
          7669500,
          6468000,
          5801500,
          0,
          5695250,
          5093500,
          4108250,
          2624000,
          1578250,
          1169750,
          1113000,
          931000,
          490500,
          475750,
          358500,
          341250,
          280000,
          160750,
          141000,
          118000,
          26250,
          23750,
          22750,
          2000
         ],
         "zmin": 0
        },
        {
         "lat": [
          26.923298352608214,
          26.584407666563767,
          23.538135963929847,
          19.451500358423914,
          22.69839433488582,
          14.710405551302284,
          15.756113460734964,
          23.211829251836775,
          31.442226635713364,
          25.679308370917205,
          29.198138148009594,
          17.80072036096087,
          11.01405549421972,
          21.26613164744112,
          20.513987029808025,
          26.55497847998204,
          10.450407387317862,
          23.65613966615685,
          33.64511955131811,
          30.156611868236627,
          31.926225889963035,
          26.06263369503263,
          23.745137620836996,
          24.735076113494813,
          25.53557728306151,
          28.036066389221745,
          15.36387631250899,
          27.569923150949375,
          23.307807060427923,
          11.851519914672929,
          20.242551887312832,
          11.197968822798963,
          30.708361392535775
         ],
         "lon": [
          80.566053063026,
          73.84984184046439,
          78.28915293669499,
          76.10751008526249,
          71.57222579220684,
          76.16747452915338,
          79.96564733254941,
          87.98378526747015,
          75.41580388296326,
          85.61004153869405,
          76.34018047967007,
          79.00868646725074,
          78.40845445799587,
          82.04096397209855,
          84.43061890111004,
          92.82634309387305,
          76.40848222253885,
          85.56363713960563,
          74.85839980588838,
          79.20658342280629,
          77.24450791093216,
          94.46701721365893,
          91.73906864094313,
          93.87884193997611,
          91.27735620953041,
          94.6748326791631,
          74.05414749664932,
          88.47340321820725,
          92.83177176819507,
          79.86026451499595,
          72.93083224907231,
          92.95771321465169,
          76.78078044460244
         ],
         "mode": "text",
         "text": [
          "Uttar Pradesh",
          "Rajasthan",
          "Madhya Pradesh",
          "Maharashtra",
          "Gujarat",
          "Karnataka",
          "Andhra Pradesh",
          "West Bengal",
          "Punjab",
          "Bihar",
          "Haryana",
          "Telangana",
          "Tamil Nadu",
          "Chhattisgarh",
          "Odisha",
          "Assam",
          "Kerala",
          "Jharkhand",
          "Jammu & Kashmir",
          "Uttarakhand",
          "Himachal Pradesh",
          "Nagaland",
          "Tripura",
          "Manipur",
          "Meghalaya",
          "Arunachal Pradesh",
          "Goa",
          "Sikkim",
          "Mizoram",
          "Puducherry",
          "Dadra and Nagar Haveli and Daman and Diu",
          "Andaman & Nicobar",
          "Chandigarh"
         ],
         "textfont": {
          "color": "darkred",
          "size": 22
         },
         "type": "scattergeo"
        }
       ],
       "layout": {
        "geo": {
         "fitbounds": "locations",
         "visible": false
        },
        "height": 1200,
        "margin": {
         "b": 0,
         "l": 0,
         "r": 0,
         "t": 30
        },
        "template": {
         "data": {
          "bar": [
           {
            "error_x": {
             "color": "#2a3f5f"
            },
            "error_y": {
             "color": "#2a3f5f"
            },
            "marker": {
             "line": {
              "color": "#E5ECF6",
              "width": 0.5
             },
             "pattern": {
              "fillmode": "overlay",
              "size": 10,
              "solidity": 0.2
             }
            },
            "type": "bar"
           }
          ],
          "barpolar": [
           {
            "marker": {
             "line": {
              "color": "#E5ECF6",
              "width": 0.5
             },
             "pattern": {
              "fillmode": "overlay",
              "size": 10,
              "solidity": 0.2
             }
            },
            "type": "barpolar"
           }
          ],
          "carpet": [
           {
            "aaxis": {
             "endlinecolor": "#2a3f5f",
             "gridcolor": "white",
             "linecolor": "white",
             "minorgridcolor": "white",
             "startlinecolor": "#2a3f5f"
            },
            "baxis": {
             "endlinecolor": "#2a3f5f",
             "gridcolor": "white",
             "linecolor": "white",
             "minorgridcolor": "white",
             "startlinecolor": "#2a3f5f"
            },
            "type": "carpet"
           }
          ],
          "choropleth": [
           {
            "colorbar": {
             "outlinewidth": 0,
             "ticks": ""
            },
            "type": "choropleth"
           }
          ],
          "contour": [
           {
            "colorbar": {
             "outlinewidth": 0,
             "ticks": ""
            },
            "colorscale": [
             [
              0,
              "#0d0887"
             ],
             [
              0.1111111111111111,
              "#46039f"
             ],
             [
              0.2222222222222222,
              "#7201a8"
             ],
             [
              0.3333333333333333,
              "#9c179e"
             ],
             [
              0.4444444444444444,
              "#bd3786"
             ],
             [
              0.5555555555555556,
              "#d8576b"
             ],
             [
              0.6666666666666666,
              "#ed7953"
             ],
             [
              0.7777777777777778,
              "#fb9f3a"
             ],
             [
              0.8888888888888888,
              "#fdca26"
             ],
             [
              1,
              "#f0f921"
             ]
            ],
            "type": "contour"
           }
          ],
          "contourcarpet": [
           {
            "colorbar": {
             "outlinewidth": 0,
             "ticks": ""
            },
            "type": "contourcarpet"
           }
          ],
          "heatmap": [
           {
            "colorbar": {
             "outlinewidth": 0,
             "ticks": ""
            },
            "colorscale": [
             [
              0,
              "#0d0887"
             ],
             [
              0.1111111111111111,
              "#46039f"
             ],
             [
              0.2222222222222222,
              "#7201a8"
             ],
             [
              0.3333333333333333,
              "#9c179e"
             ],
             [
              0.4444444444444444,
              "#bd3786"
             ],
             [
              0.5555555555555556,
              "#d8576b"
             ],
             [
              0.6666666666666666,
              "#ed7953"
             ],
             [
              0.7777777777777778,
              "#fb9f3a"
             ],
             [
              0.8888888888888888,
              "#fdca26"
             ],
             [
              1,
              "#f0f921"
             ]
            ],
            "type": "heatmap"
           }
          ],
          "heatmapgl": [
           {
            "colorbar": {
             "outlinewidth": 0,
             "ticks": ""
            },
            "colorscale": [
             [
              0,
              "#0d0887"
             ],
             [
              0.1111111111111111,
              "#46039f"
             ],
             [
              0.2222222222222222,
              "#7201a8"
             ],
             [
              0.3333333333333333,
              "#9c179e"
             ],
             [
              0.4444444444444444,
              "#bd3786"
             ],
             [
              0.5555555555555556,
              "#d8576b"
             ],
             [
              0.6666666666666666,
              "#ed7953"
             ],
             [
              0.7777777777777778,
              "#fb9f3a"
             ],
             [
              0.8888888888888888,
              "#fdca26"
             ],
             [
              1,
              "#f0f921"
             ]
            ],
            "type": "heatmapgl"
           }
          ],
          "histogram": [
           {
            "marker": {
             "pattern": {
              "fillmode": "overlay",
              "size": 10,
              "solidity": 0.2
             }
            },
            "type": "histogram"
           }
          ],
          "histogram2d": [
           {
            "colorbar": {
             "outlinewidth": 0,
             "ticks": ""
            },
            "colorscale": [
             [
              0,
              "#0d0887"
             ],
             [
              0.1111111111111111,
              "#46039f"
             ],
             [
              0.2222222222222222,
              "#7201a8"
             ],
             [
              0.3333333333333333,
              "#9c179e"
             ],
             [
              0.4444444444444444,
              "#bd3786"
             ],
             [
              0.5555555555555556,
              "#d8576b"
             ],
             [
              0.6666666666666666,
              "#ed7953"
             ],
             [
              0.7777777777777778,
              "#fb9f3a"
             ],
             [
              0.8888888888888888,
              "#fdca26"
             ],
             [
              1,
              "#f0f921"
             ]
            ],
            "type": "histogram2d"
           }
          ],
          "histogram2dcontour": [
           {
            "colorbar": {
             "outlinewidth": 0,
             "ticks": ""
            },
            "colorscale": [
             [
              0,
              "#0d0887"
             ],
             [
              0.1111111111111111,
              "#46039f"
             ],
             [
              0.2222222222222222,
              "#7201a8"
             ],
             [
              0.3333333333333333,
              "#9c179e"
             ],
             [
              0.4444444444444444,
              "#bd3786"
             ],
             [
              0.5555555555555556,
              "#d8576b"
             ],
             [
              0.6666666666666666,
              "#ed7953"
             ],
             [
              0.7777777777777778,
              "#fb9f3a"
             ],
             [
              0.8888888888888888,
              "#fdca26"
             ],
             [
              1,
              "#f0f921"
             ]
            ],
            "type": "histogram2dcontour"
           }
          ],
          "mesh3d": [
           {
            "colorbar": {
             "outlinewidth": 0,
             "ticks": ""
            },
            "type": "mesh3d"
           }
          ],
          "parcoords": [
           {
            "line": {
             "colorbar": {
              "outlinewidth": 0,
              "ticks": ""
             }
            },
            "type": "parcoords"
           }
          ],
          "pie": [
           {
            "automargin": true,
            "type": "pie"
           }
          ],
          "scatter": [
           {
            "fillpattern": {
             "fillmode": "overlay",
             "size": 10,
             "solidity": 0.2
            },
            "type": "scatter"
           }
          ],
          "scatter3d": [
           {
            "line": {
             "colorbar": {
              "outlinewidth": 0,
              "ticks": ""
             }
            },
            "marker": {
             "colorbar": {
              "outlinewidth": 0,
              "ticks": ""
             }
            },
            "type": "scatter3d"
           }
          ],
          "scattercarpet": [
           {
            "marker": {
             "colorbar": {
              "outlinewidth": 0,
              "ticks": ""
             }
            },
            "type": "scattercarpet"
           }
          ],
          "scattergeo": [
           {
            "marker": {
             "colorbar": {
              "outlinewidth": 0,
              "ticks": ""
             }
            },
            "type": "scattergeo"
           }
          ],
          "scattergl": [
           {
            "marker": {
             "colorbar": {
              "outlinewidth": 0,
              "ticks": ""
             }
            },
            "type": "scattergl"
           }
          ],
          "scattermapbox": [
           {
            "marker": {
             "colorbar": {
              "outlinewidth": 0,
              "ticks": ""
             }
            },
            "type": "scattermapbox"
           }
          ],
          "scatterpolar": [
           {
            "marker": {
             "colorbar": {
              "outlinewidth": 0,
              "ticks": ""
             }
            },
            "type": "scatterpolar"
           }
          ],
          "scatterpolargl": [
           {
            "marker": {
             "colorbar": {
              "outlinewidth": 0,
              "ticks": ""
             }
            },
            "type": "scatterpolargl"
           }
          ],
          "scatterternary": [
           {
            "marker": {
             "colorbar": {
              "outlinewidth": 0,
              "ticks": ""
             }
            },
            "type": "scatterternary"
           }
          ],
          "surface": [
           {
            "colorbar": {
             "outlinewidth": 0,
             "ticks": ""
            },
            "colorscale": [
             [
              0,
              "#0d0887"
             ],
             [
              0.1111111111111111,
              "#46039f"
             ],
             [
              0.2222222222222222,
              "#7201a8"
             ],
             [
              0.3333333333333333,
              "#9c179e"
             ],
             [
              0.4444444444444444,
              "#bd3786"
             ],
             [
              0.5555555555555556,
              "#d8576b"
             ],
             [
              0.6666666666666666,
              "#ed7953"
             ],
             [
              0.7777777777777778,
              "#fb9f3a"
             ],
             [
              0.8888888888888888,
              "#fdca26"
             ],
             [
              1,
              "#f0f921"
             ]
            ],
            "type": "surface"
           }
          ],
          "table": [
           {
            "cells": {
             "fill": {
              "color": "#EBF0F8"
             },
             "line": {
              "color": "white"
             }
            },
            "header": {
             "fill": {
              "color": "#C8D4E3"
             },
             "line": {
              "color": "white"
             }
            },
            "type": "table"
           }
          ]
         },
         "layout": {
          "annotationdefaults": {
           "arrowcolor": "#2a3f5f",
           "arrowhead": 0,
           "arrowwidth": 1
          },
          "autotypenumbers": "strict",
          "coloraxis": {
           "colorbar": {
            "outlinewidth": 0,
            "ticks": ""
           }
          },
          "colorscale": {
           "diverging": [
            [
             0,
             "#8e0152"
            ],
            [
             0.1,
             "#c51b7d"
            ],
            [
             0.2,
             "#de77ae"
            ],
            [
             0.3,
             "#f1b6da"
            ],
            [
             0.4,
             "#fde0ef"
            ],
            [
             0.5,
             "#f7f7f7"
            ],
            [
             0.6,
             "#e6f5d0"
            ],
            [
             0.7,
             "#b8e186"
            ],
            [
             0.8,
             "#7fbc41"
            ],
            [
             0.9,
             "#4d9221"
            ],
            [
             1,
             "#276419"
            ]
           ],
           "sequential": [
            [
             0,
             "#0d0887"
            ],
            [
             0.1111111111111111,
             "#46039f"
            ],
            [
             0.2222222222222222,
             "#7201a8"
            ],
            [
             0.3333333333333333,
             "#9c179e"
            ],
            [
             0.4444444444444444,
             "#bd3786"
            ],
            [
             0.5555555555555556,
             "#d8576b"
            ],
            [
             0.6666666666666666,
             "#ed7953"
            ],
            [
             0.7777777777777778,
             "#fb9f3a"
            ],
            [
             0.8888888888888888,
             "#fdca26"
            ],
            [
             1,
             "#f0f921"
            ]
           ],
           "sequentialminus": [
            [
             0,
             "#0d0887"
            ],
            [
             0.1111111111111111,
             "#46039f"
            ],
            [
             0.2222222222222222,
             "#7201a8"
            ],
            [
             0.3333333333333333,
             "#9c179e"
            ],
            [
             0.4444444444444444,
             "#bd3786"
            ],
            [
             0.5555555555555556,
             "#d8576b"
            ],
            [
             0.6666666666666666,
             "#ed7953"
            ],
            [
             0.7777777777777778,
             "#fb9f3a"
            ],
            [
             0.8888888888888888,
             "#fdca26"
            ],
            [
             1,
             "#f0f921"
            ]
           ]
          },
          "colorway": [
           "#636efa",
           "#EF553B",
           "#00cc96",
           "#ab63fa",
           "#FFA15A",
           "#19d3f3",
           "#FF6692",
           "#B6E880",
           "#FF97FF",
           "#FECB52"
          ],
          "font": {
           "color": "#2a3f5f"
          },
          "geo": {
           "bgcolor": "white",
           "lakecolor": "white",
           "landcolor": "#E5ECF6",
           "showlakes": true,
           "showland": true,
           "subunitcolor": "white"
          },
          "hoverlabel": {
           "align": "left"
          },
          "hovermode": "closest",
          "mapbox": {
           "style": "light"
          },
          "paper_bgcolor": "white",
          "plot_bgcolor": "#E5ECF6",
          "polar": {
           "angularaxis": {
            "gridcolor": "white",
            "linecolor": "white",
            "ticks": ""
           },
           "bgcolor": "#E5ECF6",
           "radialaxis": {
            "gridcolor": "white",
            "linecolor": "white",
            "ticks": ""
           }
          },
          "scene": {
           "xaxis": {
            "backgroundcolor": "#E5ECF6",
            "gridcolor": "white",
            "gridwidth": 2,
            "linecolor": "white",
            "showbackground": true,
            "ticks": "",
            "zerolinecolor": "white"
           },
           "yaxis": {
            "backgroundcolor": "#E5ECF6",
            "gridcolor": "white",
            "gridwidth": 2,
            "linecolor": "white",
            "showbackground": true,
            "ticks": "",
            "zerolinecolor": "white"
           },
           "zaxis": {
            "backgroundcolor": "#E5ECF6",
            "gridcolor": "white",
            "gridwidth": 2,
            "linecolor": "white",
            "showbackground": true,
            "ticks": "",
            "zerolinecolor": "white"
           }
          },
          "shapedefaults": {
           "line": {
            "color": "#2a3f5f"
           }
          },
          "ternary": {
           "aaxis": {
            "gridcolor": "white",
            "linecolor": "white",
            "ticks": ""
           },
           "baxis": {
            "gridcolor": "white",
            "linecolor": "white",
            "ticks": ""
           },
           "bgcolor": "#E5ECF6",
           "caxis": {
            "gridcolor": "white",
            "linecolor": "white",
            "ticks": ""
           }
          },
          "title": {
           "x": 0.05
          },
          "xaxis": {
           "automargin": true,
           "gridcolor": "white",
           "linecolor": "white",
           "ticks": "",
           "title": {
            "standoff": 15
           },
           "zerolinecolor": "white",
           "zerolinewidth": 2
          },
          "yaxis": {
           "automargin": true,
           "gridcolor": "white",
           "linecolor": "white",
           "ticks": "",
           "title": {
            "standoff": 15
           },
           "zerolinecolor": "white",
           "zerolinewidth": 2
          }
         }
        },
        "width": 3600
       }
      }
     },
     "metadata": {},
     "output_type": "display_data"
    }
   ],
   "source": [
    "# Merge the dataframes using a left join\n",
    "\n",
    "\n",
    "# # Fill NaN values in the 'Kharif' column with 0\n",
    "# geo_df[\"Kharif\"] = geo_df[\"Kharif\"].fillna(0)\n",
    "\n",
    "# 创建 Choropleth 图层\n",
    "fig = go.Figure(\n",
    "    data=go.Choropleth(\n",
    "        geojson=geojson_url,\n",
    "        featureidkey=\"properties.ST_NM\",\n",
    "        locations=geo_df[\"ST_NM\"],\n",
    "        zmin=0,\n",
    "        z=geo_df[\"Rabi\"],\n",
    "        colorscale=[\"grey\", \"lightgreen\", \"green\"],\n",
    "        hoverinfo=\"location+text\",\n",
    "        marker_line_color=\"burlywood\",\n",
    "    )\n",
    ")\n",
    "\n",
    "# 添加散点图层以固定显示文本\n",
    "fig.add_trace(\n",
    "    go.Scattergeo(\n",
    "        lon=geo_df[\"lon\"],\n",
    "        lat=geo_df[\"lat\"],\n",
    "        text=geo_df[\"ST_NM\"],\n",
    "        mode=\"text\",\n",
    "        textfont=dict(size=22, color=\"darkred\"),  # 设置字体大小，您可以根据需要调整\n",
    "    )\n",
    ")\n",
    "\n",
    "fig.update_geos(fitbounds=\"locations\", visible=False)\n",
    "\n",
    "fig.update_geos(fitbounds=\"locations\", visible=False)\n",
    "fig.update_layout(\n",
    "    width=3600,\n",
    "    height=1200,\n",
    "    margin={\"r\": 0, \"t\": 30, \"l\": 0, \"b\": 0},  # Increase top margin\n",
    "    # title_text=\"Rabi\",\n",
    ")\n",
    "fig.show()\n",
    "fig.write_image(\"#Area_Rabi.png\", scale=2)"
   ]
  },
  {
   "cell_type": "code",
   "execution_count": 156,
   "metadata": {},
   "outputs": [
    {
     "data": {
      "application/vnd.plotly.v1+json": {
       "config": {
        "plotlyServerURL": "https://plot.ly"
       },
       "data": [
        {
         "colorscale": [
          [
           0,
           "grey"
          ],
          [
           0.5,
           "lightgreen"
          ],
          [
           1,
           "green"
          ]
         ],
         "featureidkey": "properties.ST_NM",
         "geojson": "https://gist.githubusercontent.com/jbrobst/56c13bbbf9d97d187fea01ca62ea5112/raw/e388c4cae20aa53cb5090210a42ebb9b765c0a36/india_states.geojson",
         "hoverinfo": "location+text",
         "locations": [
          "Uttar Pradesh",
          "Rajasthan",
          "Madhya Pradesh",
          "Maharashtra",
          "Gujarat",
          "Karnataka",
          "Andhra Pradesh",
          "West Bengal",
          "Punjab",
          "Bihar",
          "Haryana",
          "Telangana",
          "Tamil Nadu",
          "Chhattisgarh",
          "Odisha",
          "Assam",
          "Kerala",
          "Jharkhand",
          "Jammu & Kashmir",
          "Uttarakhand",
          "Himachal Pradesh",
          "Nagaland",
          "Tripura",
          "Manipur",
          "Meghalaya",
          "Arunachal Pradesh",
          "Goa",
          "Sikkim",
          "Mizoram",
          "Puducherry",
          "Dadra and Nagar Haveli and Daman and Diu",
          "Andaman & Nicobar",
          "Chandigarh"
         ],
         "marker": {
          "line": {
           "color": "burlywood"
          }
         },
         "type": "choropleth",
         "z": [
          25950750,
          24703500,
          23375750,
          22706250,
          12736500,
          12080250,
          10806750,
          9530000,
          7870000,
          7669500,
          6468000,
          5801500,
          5730500,
          5695250,
          5093500,
          4108250,
          2624000,
          1578250,
          1169750,
          1113000,
          931000,
          490500,
          475750,
          358500,
          341250,
          280000,
          160750,
          141000,
          118000,
          26250,
          23750,
          22750,
          2000
         ],
         "zmin": 0
        },
        {
         "lat": [
          26.923298352608214,
          26.584407666563767,
          23.538135963929847,
          19.451500358423914,
          22.69839433488582,
          14.710405551302284,
          15.756113460734964,
          23.211829251836775,
          31.442226635713364,
          25.679308370917205,
          29.198138148009594,
          17.80072036096087,
          11.01405549421972,
          21.26613164744112,
          20.513987029808025,
          26.55497847998204,
          10.450407387317862,
          23.65613966615685,
          33.64511955131811,
          30.156611868236627,
          31.926225889963035,
          26.06263369503263,
          23.745137620836996,
          24.735076113494813,
          25.53557728306151,
          28.036066389221745,
          15.36387631250899,
          27.569923150949375,
          23.307807060427923,
          11.851519914672929,
          20.242551887312832,
          11.197968822798963,
          30.708361392535775
         ],
         "lon": [
          80.566053063026,
          73.84984184046439,
          78.28915293669499,
          76.10751008526249,
          71.57222579220684,
          76.16747452915338,
          79.96564733254941,
          87.98378526747015,
          75.41580388296326,
          85.61004153869405,
          76.34018047967007,
          79.00868646725074,
          78.40845445799587,
          82.04096397209855,
          84.43061890111004,
          92.82634309387305,
          76.40848222253885,
          85.56363713960563,
          74.85839980588838,
          79.20658342280629,
          77.24450791093216,
          94.46701721365893,
          91.73906864094313,
          93.87884193997611,
          91.27735620953041,
          94.6748326791631,
          74.05414749664932,
          88.47340321820725,
          92.83177176819507,
          79.86026451499595,
          72.93083224907231,
          92.95771321465169,
          76.78078044460244
         ],
         "mode": "text",
         "text": [
          "Uttar Pradesh",
          "Rajasthan",
          "Madhya Pradesh",
          "Maharashtra",
          "Gujarat",
          "Karnataka",
          "Andhra Pradesh",
          "West Bengal",
          "Punjab",
          "Bihar",
          "Haryana",
          "Telangana",
          "Tamil Nadu",
          "Chhattisgarh",
          "Odisha",
          "Assam",
          "Kerala",
          "Jharkhand",
          "Jammu & Kashmir",
          "Uttarakhand",
          "Himachal Pradesh",
          "Nagaland",
          "Tripura",
          "Manipur",
          "Meghalaya",
          "Arunachal Pradesh",
          "Goa",
          "Sikkim",
          "Mizoram",
          "Puducherry",
          "Dadra and Nagar Haveli and Daman and Diu",
          "Andaman & Nicobar",
          "Chandigarh"
         ],
         "textfont": {
          "color": "darkred",
          "size": 22
         },
         "type": "scattergeo"
        }
       ],
       "layout": {
        "geo": {
         "fitbounds": "locations",
         "visible": false
        },
        "height": 1200,
        "margin": {
         "b": 0,
         "l": 0,
         "r": 0,
         "t": 30
        },
        "template": {
         "data": {
          "bar": [
           {
            "error_x": {
             "color": "#2a3f5f"
            },
            "error_y": {
             "color": "#2a3f5f"
            },
            "marker": {
             "line": {
              "color": "#E5ECF6",
              "width": 0.5
             },
             "pattern": {
              "fillmode": "overlay",
              "size": 10,
              "solidity": 0.2
             }
            },
            "type": "bar"
           }
          ],
          "barpolar": [
           {
            "marker": {
             "line": {
              "color": "#E5ECF6",
              "width": 0.5
             },
             "pattern": {
              "fillmode": "overlay",
              "size": 10,
              "solidity": 0.2
             }
            },
            "type": "barpolar"
           }
          ],
          "carpet": [
           {
            "aaxis": {
             "endlinecolor": "#2a3f5f",
             "gridcolor": "white",
             "linecolor": "white",
             "minorgridcolor": "white",
             "startlinecolor": "#2a3f5f"
            },
            "baxis": {
             "endlinecolor": "#2a3f5f",
             "gridcolor": "white",
             "linecolor": "white",
             "minorgridcolor": "white",
             "startlinecolor": "#2a3f5f"
            },
            "type": "carpet"
           }
          ],
          "choropleth": [
           {
            "colorbar": {
             "outlinewidth": 0,
             "ticks": ""
            },
            "type": "choropleth"
           }
          ],
          "contour": [
           {
            "colorbar": {
             "outlinewidth": 0,
             "ticks": ""
            },
            "colorscale": [
             [
              0,
              "#0d0887"
             ],
             [
              0.1111111111111111,
              "#46039f"
             ],
             [
              0.2222222222222222,
              "#7201a8"
             ],
             [
              0.3333333333333333,
              "#9c179e"
             ],
             [
              0.4444444444444444,
              "#bd3786"
             ],
             [
              0.5555555555555556,
              "#d8576b"
             ],
             [
              0.6666666666666666,
              "#ed7953"
             ],
             [
              0.7777777777777778,
              "#fb9f3a"
             ],
             [
              0.8888888888888888,
              "#fdca26"
             ],
             [
              1,
              "#f0f921"
             ]
            ],
            "type": "contour"
           }
          ],
          "contourcarpet": [
           {
            "colorbar": {
             "outlinewidth": 0,
             "ticks": ""
            },
            "type": "contourcarpet"
           }
          ],
          "heatmap": [
           {
            "colorbar": {
             "outlinewidth": 0,
             "ticks": ""
            },
            "colorscale": [
             [
              0,
              "#0d0887"
             ],
             [
              0.1111111111111111,
              "#46039f"
             ],
             [
              0.2222222222222222,
              "#7201a8"
             ],
             [
              0.3333333333333333,
              "#9c179e"
             ],
             [
              0.4444444444444444,
              "#bd3786"
             ],
             [
              0.5555555555555556,
              "#d8576b"
             ],
             [
              0.6666666666666666,
              "#ed7953"
             ],
             [
              0.7777777777777778,
              "#fb9f3a"
             ],
             [
              0.8888888888888888,
              "#fdca26"
             ],
             [
              1,
              "#f0f921"
             ]
            ],
            "type": "heatmap"
           }
          ],
          "heatmapgl": [
           {
            "colorbar": {
             "outlinewidth": 0,
             "ticks": ""
            },
            "colorscale": [
             [
              0,
              "#0d0887"
             ],
             [
              0.1111111111111111,
              "#46039f"
             ],
             [
              0.2222222222222222,
              "#7201a8"
             ],
             [
              0.3333333333333333,
              "#9c179e"
             ],
             [
              0.4444444444444444,
              "#bd3786"
             ],
             [
              0.5555555555555556,
              "#d8576b"
             ],
             [
              0.6666666666666666,
              "#ed7953"
             ],
             [
              0.7777777777777778,
              "#fb9f3a"
             ],
             [
              0.8888888888888888,
              "#fdca26"
             ],
             [
              1,
              "#f0f921"
             ]
            ],
            "type": "heatmapgl"
           }
          ],
          "histogram": [
           {
            "marker": {
             "pattern": {
              "fillmode": "overlay",
              "size": 10,
              "solidity": 0.2
             }
            },
            "type": "histogram"
           }
          ],
          "histogram2d": [
           {
            "colorbar": {
             "outlinewidth": 0,
             "ticks": ""
            },
            "colorscale": [
             [
              0,
              "#0d0887"
             ],
             [
              0.1111111111111111,
              "#46039f"
             ],
             [
              0.2222222222222222,
              "#7201a8"
             ],
             [
              0.3333333333333333,
              "#9c179e"
             ],
             [
              0.4444444444444444,
              "#bd3786"
             ],
             [
              0.5555555555555556,
              "#d8576b"
             ],
             [
              0.6666666666666666,
              "#ed7953"
             ],
             [
              0.7777777777777778,
              "#fb9f3a"
             ],
             [
              0.8888888888888888,
              "#fdca26"
             ],
             [
              1,
              "#f0f921"
             ]
            ],
            "type": "histogram2d"
           }
          ],
          "histogram2dcontour": [
           {
            "colorbar": {
             "outlinewidth": 0,
             "ticks": ""
            },
            "colorscale": [
             [
              0,
              "#0d0887"
             ],
             [
              0.1111111111111111,
              "#46039f"
             ],
             [
              0.2222222222222222,
              "#7201a8"
             ],
             [
              0.3333333333333333,
              "#9c179e"
             ],
             [
              0.4444444444444444,
              "#bd3786"
             ],
             [
              0.5555555555555556,
              "#d8576b"
             ],
             [
              0.6666666666666666,
              "#ed7953"
             ],
             [
              0.7777777777777778,
              "#fb9f3a"
             ],
             [
              0.8888888888888888,
              "#fdca26"
             ],
             [
              1,
              "#f0f921"
             ]
            ],
            "type": "histogram2dcontour"
           }
          ],
          "mesh3d": [
           {
            "colorbar": {
             "outlinewidth": 0,
             "ticks": ""
            },
            "type": "mesh3d"
           }
          ],
          "parcoords": [
           {
            "line": {
             "colorbar": {
              "outlinewidth": 0,
              "ticks": ""
             }
            },
            "type": "parcoords"
           }
          ],
          "pie": [
           {
            "automargin": true,
            "type": "pie"
           }
          ],
          "scatter": [
           {
            "fillpattern": {
             "fillmode": "overlay",
             "size": 10,
             "solidity": 0.2
            },
            "type": "scatter"
           }
          ],
          "scatter3d": [
           {
            "line": {
             "colorbar": {
              "outlinewidth": 0,
              "ticks": ""
             }
            },
            "marker": {
             "colorbar": {
              "outlinewidth": 0,
              "ticks": ""
             }
            },
            "type": "scatter3d"
           }
          ],
          "scattercarpet": [
           {
            "marker": {
             "colorbar": {
              "outlinewidth": 0,
              "ticks": ""
             }
            },
            "type": "scattercarpet"
           }
          ],
          "scattergeo": [
           {
            "marker": {
             "colorbar": {
              "outlinewidth": 0,
              "ticks": ""
             }
            },
            "type": "scattergeo"
           }
          ],
          "scattergl": [
           {
            "marker": {
             "colorbar": {
              "outlinewidth": 0,
              "ticks": ""
             }
            },
            "type": "scattergl"
           }
          ],
          "scattermapbox": [
           {
            "marker": {
             "colorbar": {
              "outlinewidth": 0,
              "ticks": ""
             }
            },
            "type": "scattermapbox"
           }
          ],
          "scatterpolar": [
           {
            "marker": {
             "colorbar": {
              "outlinewidth": 0,
              "ticks": ""
             }
            },
            "type": "scatterpolar"
           }
          ],
          "scatterpolargl": [
           {
            "marker": {
             "colorbar": {
              "outlinewidth": 0,
              "ticks": ""
             }
            },
            "type": "scatterpolargl"
           }
          ],
          "scatterternary": [
           {
            "marker": {
             "colorbar": {
              "outlinewidth": 0,
              "ticks": ""
             }
            },
            "type": "scatterternary"
           }
          ],
          "surface": [
           {
            "colorbar": {
             "outlinewidth": 0,
             "ticks": ""
            },
            "colorscale": [
             [
              0,
              "#0d0887"
             ],
             [
              0.1111111111111111,
              "#46039f"
             ],
             [
              0.2222222222222222,
              "#7201a8"
             ],
             [
              0.3333333333333333,
              "#9c179e"
             ],
             [
              0.4444444444444444,
              "#bd3786"
             ],
             [
              0.5555555555555556,
              "#d8576b"
             ],
             [
              0.6666666666666666,
              "#ed7953"
             ],
             [
              0.7777777777777778,
              "#fb9f3a"
             ],
             [
              0.8888888888888888,
              "#fdca26"
             ],
             [
              1,
              "#f0f921"
             ]
            ],
            "type": "surface"
           }
          ],
          "table": [
           {
            "cells": {
             "fill": {
              "color": "#EBF0F8"
             },
             "line": {
              "color": "white"
             }
            },
            "header": {
             "fill": {
              "color": "#C8D4E3"
             },
             "line": {
              "color": "white"
             }
            },
            "type": "table"
           }
          ]
         },
         "layout": {
          "annotationdefaults": {
           "arrowcolor": "#2a3f5f",
           "arrowhead": 0,
           "arrowwidth": 1
          },
          "autotypenumbers": "strict",
          "coloraxis": {
           "colorbar": {
            "outlinewidth": 0,
            "ticks": ""
           }
          },
          "colorscale": {
           "diverging": [
            [
             0,
             "#8e0152"
            ],
            [
             0.1,
             "#c51b7d"
            ],
            [
             0.2,
             "#de77ae"
            ],
            [
             0.3,
             "#f1b6da"
            ],
            [
             0.4,
             "#fde0ef"
            ],
            [
             0.5,
             "#f7f7f7"
            ],
            [
             0.6,
             "#e6f5d0"
            ],
            [
             0.7,
             "#b8e186"
            ],
            [
             0.8,
             "#7fbc41"
            ],
            [
             0.9,
             "#4d9221"
            ],
            [
             1,
             "#276419"
            ]
           ],
           "sequential": [
            [
             0,
             "#0d0887"
            ],
            [
             0.1111111111111111,
             "#46039f"
            ],
            [
             0.2222222222222222,
             "#7201a8"
            ],
            [
             0.3333333333333333,
             "#9c179e"
            ],
            [
             0.4444444444444444,
             "#bd3786"
            ],
            [
             0.5555555555555556,
             "#d8576b"
            ],
            [
             0.6666666666666666,
             "#ed7953"
            ],
            [
             0.7777777777777778,
             "#fb9f3a"
            ],
            [
             0.8888888888888888,
             "#fdca26"
            ],
            [
             1,
             "#f0f921"
            ]
           ],
           "sequentialminus": [
            [
             0,
             "#0d0887"
            ],
            [
             0.1111111111111111,
             "#46039f"
            ],
            [
             0.2222222222222222,
             "#7201a8"
            ],
            [
             0.3333333333333333,
             "#9c179e"
            ],
            [
             0.4444444444444444,
             "#bd3786"
            ],
            [
             0.5555555555555556,
             "#d8576b"
            ],
            [
             0.6666666666666666,
             "#ed7953"
            ],
            [
             0.7777777777777778,
             "#fb9f3a"
            ],
            [
             0.8888888888888888,
             "#fdca26"
            ],
            [
             1,
             "#f0f921"
            ]
           ]
          },
          "colorway": [
           "#636efa",
           "#EF553B",
           "#00cc96",
           "#ab63fa",
           "#FFA15A",
           "#19d3f3",
           "#FF6692",
           "#B6E880",
           "#FF97FF",
           "#FECB52"
          ],
          "font": {
           "color": "#2a3f5f"
          },
          "geo": {
           "bgcolor": "white",
           "lakecolor": "white",
           "landcolor": "#E5ECF6",
           "showlakes": true,
           "showland": true,
           "subunitcolor": "white"
          },
          "hoverlabel": {
           "align": "left"
          },
          "hovermode": "closest",
          "mapbox": {
           "style": "light"
          },
          "paper_bgcolor": "white",
          "plot_bgcolor": "#E5ECF6",
          "polar": {
           "angularaxis": {
            "gridcolor": "white",
            "linecolor": "white",
            "ticks": ""
           },
           "bgcolor": "#E5ECF6",
           "radialaxis": {
            "gridcolor": "white",
            "linecolor": "white",
            "ticks": ""
           }
          },
          "scene": {
           "xaxis": {
            "backgroundcolor": "#E5ECF6",
            "gridcolor": "white",
            "gridwidth": 2,
            "linecolor": "white",
            "showbackground": true,
            "ticks": "",
            "zerolinecolor": "white"
           },
           "yaxis": {
            "backgroundcolor": "#E5ECF6",
            "gridcolor": "white",
            "gridwidth": 2,
            "linecolor": "white",
            "showbackground": true,
            "ticks": "",
            "zerolinecolor": "white"
           },
           "zaxis": {
            "backgroundcolor": "#E5ECF6",
            "gridcolor": "white",
            "gridwidth": 2,
            "linecolor": "white",
            "showbackground": true,
            "ticks": "",
            "zerolinecolor": "white"
           }
          },
          "shapedefaults": {
           "line": {
            "color": "#2a3f5f"
           }
          },
          "ternary": {
           "aaxis": {
            "gridcolor": "white",
            "linecolor": "white",
            "ticks": ""
           },
           "baxis": {
            "gridcolor": "white",
            "linecolor": "white",
            "ticks": ""
           },
           "bgcolor": "#E5ECF6",
           "caxis": {
            "gridcolor": "white",
            "linecolor": "white",
            "ticks": ""
           }
          },
          "title": {
           "x": 0.05
          },
          "xaxis": {
           "automargin": true,
           "gridcolor": "white",
           "linecolor": "white",
           "ticks": "",
           "title": {
            "standoff": 15
           },
           "zerolinecolor": "white",
           "zerolinewidth": 2
          },
          "yaxis": {
           "automargin": true,
           "gridcolor": "white",
           "linecolor": "white",
           "ticks": "",
           "title": {
            "standoff": 15
           },
           "zerolinecolor": "white",
           "zerolinewidth": 2
          }
         }
        },
        "title": {
         "text": "Kharif"
        },
        "width": 2000
       }
      }
     },
     "metadata": {},
     "output_type": "display_data"
    }
   ],
   "source": [
    "# 创建 Choropleth 图层\n",
    "fig = go.Figure(\n",
    "    data=go.Choropleth(\n",
    "        geojson=geojson_url,\n",
    "        featureidkey=\"properties.ST_NM\",\n",
    "        locations=geo_df[\"ST_NM\"],\n",
    "        zmin=0,\n",
    "        z=geo_df[\"Kharif\"],\n",
    "        colorscale=[\"grey\", \"lightgreen\", \"green\"],\n",
    "        hoverinfo=\"location+text\",\n",
    "        marker_line_color=\"burlywood\",\n",
    "    )\n",
    ")\n",
    "\n",
    "# 添加散点图层以固定显示文本\n",
    "fig.add_trace(\n",
    "    go.Scattergeo(\n",
    "        lon=geo_df[\"lon\"],\n",
    "        lat=geo_df[\"lat\"],\n",
    "        text=geo_df[\"ST_NM\"],\n",
    "        mode=\"text\",\n",
    "        textfont=dict(size=22, color=\"darkred\"),  # 设置字体大小，您可以根据需要调整\n",
    "    )\n",
    ")\n",
    "\n",
    "fig.update_geos(fitbounds=\"locations\", visible=False)\n",
    "\n",
    "fig.update_geos(fitbounds=\"locations\", visible=False)\n",
    "fig.update_layout(\n",
    "\n",
    "    width=2000,\n",
    "\n",
    "    height=1200,\n",
    "\n",
    "    margin={\"r\": 0, \"t\": 30, \"l\": 0, \"b\": 0},  # Increase top margin\n",
    "\n",
    "    title_text=\"Kharif\",\n",
    "\n",
    ")\n",
    "\n",
    "fig.show()\n",
    "\n",
    "fig.write_image(\"#Area_Kharif.png\", scale=2)"
   ]
  },
  {
   "cell_type": "code",
   "execution_count": 157,
   "metadata": {},
   "outputs": [
    {
     "data": {
      "application/vnd.plotly.v1+json": {
       "config": {
        "plotlyServerURL": "https://plot.ly"
       },
       "data": [
        {
         "colorscale": [
          [
           0,
           "grey"
          ],
          [
           0.5,
           "lightgreen"
          ],
          [
           1,
           "green"
          ]
         ],
         "featureidkey": "properties.ST_NM",
         "geojson": "https://gist.githubusercontent.com/jbrobst/56c13bbbf9d97d187fea01ca62ea5112/raw/e388c4cae20aa53cb5090210a42ebb9b765c0a36/india_states.geojson",
         "hoverinfo": "location+text",
         "locations": [
          "Uttar Pradesh",
          "Rajasthan",
          "Madhya Pradesh",
          "Maharashtra",
          "Gujarat",
          "Karnataka",
          "Andhra Pradesh",
          "West Bengal",
          "Punjab",
          "Bihar",
          "Haryana",
          "Telangana",
          "Tamil Nadu",
          "Chhattisgarh",
          "Odisha",
          "Assam",
          "Kerala",
          "Jharkhand",
          "Jammu & Kashmir",
          "Uttarakhand",
          "Himachal Pradesh",
          "Nagaland",
          "Tripura",
          "Manipur",
          "Meghalaya",
          "Arunachal Pradesh",
          "Goa",
          "Sikkim",
          "Mizoram",
          "Puducherry",
          "Dadra and Nagar Haveli and Daman and Diu",
          "Andaman & Nicobar",
          "Chandigarh"
         ],
         "marker": {
          "line": {
           "color": "burlywood"
          }
         },
         "type": "choropleth",
         "z": [
          25950750,
          0,
          0,
          22706250,
          12736500,
          12080250,
          0,
          9530000,
          0,
          7669500,
          0,
          0,
          5730500,
          0,
          5093500,
          4108250,
          2624000,
          0,
          0,
          1113000,
          0,
          0,
          0,
          358500,
          341250,
          0,
          0,
          0,
          0,
          26250,
          0,
          0,
          0
         ],
         "zmin": 0
        },
        {
         "lat": [
          26.923298352608214,
          26.584407666563767,
          23.538135963929847,
          19.451500358423914,
          22.69839433488582,
          14.710405551302284,
          15.756113460734964,
          23.211829251836775,
          31.442226635713364,
          25.679308370917205,
          29.198138148009594,
          17.80072036096087,
          11.01405549421972,
          21.26613164744112,
          20.513987029808025,
          26.55497847998204,
          10.450407387317862,
          23.65613966615685,
          33.64511955131811,
          30.156611868236627,
          31.926225889963035,
          26.06263369503263,
          23.745137620836996,
          24.735076113494813,
          25.53557728306151,
          28.036066389221745,
          15.36387631250899,
          27.569923150949375,
          23.307807060427923,
          11.851519914672929,
          20.242551887312832,
          11.197968822798963,
          30.708361392535775
         ],
         "lon": [
          80.566053063026,
          73.84984184046439,
          78.28915293669499,
          76.10751008526249,
          71.57222579220684,
          76.16747452915338,
          79.96564733254941,
          87.98378526747015,
          75.41580388296326,
          85.61004153869405,
          76.34018047967007,
          79.00868646725074,
          78.40845445799587,
          82.04096397209855,
          84.43061890111004,
          92.82634309387305,
          76.40848222253885,
          85.56363713960563,
          74.85839980588838,
          79.20658342280629,
          77.24450791093216,
          94.46701721365893,
          91.73906864094313,
          93.87884193997611,
          91.27735620953041,
          94.6748326791631,
          74.05414749664932,
          88.47340321820725,
          92.83177176819507,
          79.86026451499595,
          72.93083224907231,
          92.95771321465169,
          76.78078044460244
         ],
         "mode": "text",
         "text": [
          "Uttar Pradesh",
          "Rajasthan",
          "Madhya Pradesh",
          "Maharashtra",
          "Gujarat",
          "Karnataka",
          "Andhra Pradesh",
          "West Bengal",
          "Punjab",
          "Bihar",
          "Haryana",
          "Telangana",
          "Tamil Nadu",
          "Chhattisgarh",
          "Odisha",
          "Assam",
          "Kerala",
          "Jharkhand",
          "Jammu & Kashmir",
          "Uttarakhand",
          "Himachal Pradesh",
          "Nagaland",
          "Tripura",
          "Manipur",
          "Meghalaya",
          "Arunachal Pradesh",
          "Goa",
          "Sikkim",
          "Mizoram",
          "Puducherry",
          "Dadra and Nagar Haveli and Daman and Diu",
          "Andaman & Nicobar",
          "Chandigarh"
         ],
         "textfont": {
          "color": "darkred",
          "size": 22
         },
         "type": "scattergeo"
        }
       ],
       "layout": {
        "geo": {
         "fitbounds": "locations",
         "visible": false
        },
        "height": 1200,
        "margin": {
         "b": 0,
         "l": 0,
         "r": 0,
         "t": 30
        },
        "template": {
         "data": {
          "bar": [
           {
            "error_x": {
             "color": "#2a3f5f"
            },
            "error_y": {
             "color": "#2a3f5f"
            },
            "marker": {
             "line": {
              "color": "#E5ECF6",
              "width": 0.5
             },
             "pattern": {
              "fillmode": "overlay",
              "size": 10,
              "solidity": 0.2
             }
            },
            "type": "bar"
           }
          ],
          "barpolar": [
           {
            "marker": {
             "line": {
              "color": "#E5ECF6",
              "width": 0.5
             },
             "pattern": {
              "fillmode": "overlay",
              "size": 10,
              "solidity": 0.2
             }
            },
            "type": "barpolar"
           }
          ],
          "carpet": [
           {
            "aaxis": {
             "endlinecolor": "#2a3f5f",
             "gridcolor": "white",
             "linecolor": "white",
             "minorgridcolor": "white",
             "startlinecolor": "#2a3f5f"
            },
            "baxis": {
             "endlinecolor": "#2a3f5f",
             "gridcolor": "white",
             "linecolor": "white",
             "minorgridcolor": "white",
             "startlinecolor": "#2a3f5f"
            },
            "type": "carpet"
           }
          ],
          "choropleth": [
           {
            "colorbar": {
             "outlinewidth": 0,
             "ticks": ""
            },
            "type": "choropleth"
           }
          ],
          "contour": [
           {
            "colorbar": {
             "outlinewidth": 0,
             "ticks": ""
            },
            "colorscale": [
             [
              0,
              "#0d0887"
             ],
             [
              0.1111111111111111,
              "#46039f"
             ],
             [
              0.2222222222222222,
              "#7201a8"
             ],
             [
              0.3333333333333333,
              "#9c179e"
             ],
             [
              0.4444444444444444,
              "#bd3786"
             ],
             [
              0.5555555555555556,
              "#d8576b"
             ],
             [
              0.6666666666666666,
              "#ed7953"
             ],
             [
              0.7777777777777778,
              "#fb9f3a"
             ],
             [
              0.8888888888888888,
              "#fdca26"
             ],
             [
              1,
              "#f0f921"
             ]
            ],
            "type": "contour"
           }
          ],
          "contourcarpet": [
           {
            "colorbar": {
             "outlinewidth": 0,
             "ticks": ""
            },
            "type": "contourcarpet"
           }
          ],
          "heatmap": [
           {
            "colorbar": {
             "outlinewidth": 0,
             "ticks": ""
            },
            "colorscale": [
             [
              0,
              "#0d0887"
             ],
             [
              0.1111111111111111,
              "#46039f"
             ],
             [
              0.2222222222222222,
              "#7201a8"
             ],
             [
              0.3333333333333333,
              "#9c179e"
             ],
             [
              0.4444444444444444,
              "#bd3786"
             ],
             [
              0.5555555555555556,
              "#d8576b"
             ],
             [
              0.6666666666666666,
              "#ed7953"
             ],
             [
              0.7777777777777778,
              "#fb9f3a"
             ],
             [
              0.8888888888888888,
              "#fdca26"
             ],
             [
              1,
              "#f0f921"
             ]
            ],
            "type": "heatmap"
           }
          ],
          "heatmapgl": [
           {
            "colorbar": {
             "outlinewidth": 0,
             "ticks": ""
            },
            "colorscale": [
             [
              0,
              "#0d0887"
             ],
             [
              0.1111111111111111,
              "#46039f"
             ],
             [
              0.2222222222222222,
              "#7201a8"
             ],
             [
              0.3333333333333333,
              "#9c179e"
             ],
             [
              0.4444444444444444,
              "#bd3786"
             ],
             [
              0.5555555555555556,
              "#d8576b"
             ],
             [
              0.6666666666666666,
              "#ed7953"
             ],
             [
              0.7777777777777778,
              "#fb9f3a"
             ],
             [
              0.8888888888888888,
              "#fdca26"
             ],
             [
              1,
              "#f0f921"
             ]
            ],
            "type": "heatmapgl"
           }
          ],
          "histogram": [
           {
            "marker": {
             "pattern": {
              "fillmode": "overlay",
              "size": 10,
              "solidity": 0.2
             }
            },
            "type": "histogram"
           }
          ],
          "histogram2d": [
           {
            "colorbar": {
             "outlinewidth": 0,
             "ticks": ""
            },
            "colorscale": [
             [
              0,
              "#0d0887"
             ],
             [
              0.1111111111111111,
              "#46039f"
             ],
             [
              0.2222222222222222,
              "#7201a8"
             ],
             [
              0.3333333333333333,
              "#9c179e"
             ],
             [
              0.4444444444444444,
              "#bd3786"
             ],
             [
              0.5555555555555556,
              "#d8576b"
             ],
             [
              0.6666666666666666,
              "#ed7953"
             ],
             [
              0.7777777777777778,
              "#fb9f3a"
             ],
             [
              0.8888888888888888,
              "#fdca26"
             ],
             [
              1,
              "#f0f921"
             ]
            ],
            "type": "histogram2d"
           }
          ],
          "histogram2dcontour": [
           {
            "colorbar": {
             "outlinewidth": 0,
             "ticks": ""
            },
            "colorscale": [
             [
              0,
              "#0d0887"
             ],
             [
              0.1111111111111111,
              "#46039f"
             ],
             [
              0.2222222222222222,
              "#7201a8"
             ],
             [
              0.3333333333333333,
              "#9c179e"
             ],
             [
              0.4444444444444444,
              "#bd3786"
             ],
             [
              0.5555555555555556,
              "#d8576b"
             ],
             [
              0.6666666666666666,
              "#ed7953"
             ],
             [
              0.7777777777777778,
              "#fb9f3a"
             ],
             [
              0.8888888888888888,
              "#fdca26"
             ],
             [
              1,
              "#f0f921"
             ]
            ],
            "type": "histogram2dcontour"
           }
          ],
          "mesh3d": [
           {
            "colorbar": {
             "outlinewidth": 0,
             "ticks": ""
            },
            "type": "mesh3d"
           }
          ],
          "parcoords": [
           {
            "line": {
             "colorbar": {
              "outlinewidth": 0,
              "ticks": ""
             }
            },
            "type": "parcoords"
           }
          ],
          "pie": [
           {
            "automargin": true,
            "type": "pie"
           }
          ],
          "scatter": [
           {
            "fillpattern": {
             "fillmode": "overlay",
             "size": 10,
             "solidity": 0.2
            },
            "type": "scatter"
           }
          ],
          "scatter3d": [
           {
            "line": {
             "colorbar": {
              "outlinewidth": 0,
              "ticks": ""
             }
            },
            "marker": {
             "colorbar": {
              "outlinewidth": 0,
              "ticks": ""
             }
            },
            "type": "scatter3d"
           }
          ],
          "scattercarpet": [
           {
            "marker": {
             "colorbar": {
              "outlinewidth": 0,
              "ticks": ""
             }
            },
            "type": "scattercarpet"
           }
          ],
          "scattergeo": [
           {
            "marker": {
             "colorbar": {
              "outlinewidth": 0,
              "ticks": ""
             }
            },
            "type": "scattergeo"
           }
          ],
          "scattergl": [
           {
            "marker": {
             "colorbar": {
              "outlinewidth": 0,
              "ticks": ""
             }
            },
            "type": "scattergl"
           }
          ],
          "scattermapbox": [
           {
            "marker": {
             "colorbar": {
              "outlinewidth": 0,
              "ticks": ""
             }
            },
            "type": "scattermapbox"
           }
          ],
          "scatterpolar": [
           {
            "marker": {
             "colorbar": {
              "outlinewidth": 0,
              "ticks": ""
             }
            },
            "type": "scatterpolar"
           }
          ],
          "scatterpolargl": [
           {
            "marker": {
             "colorbar": {
              "outlinewidth": 0,
              "ticks": ""
             }
            },
            "type": "scatterpolargl"
           }
          ],
          "scatterternary": [
           {
            "marker": {
             "colorbar": {
              "outlinewidth": 0,
              "ticks": ""
             }
            },
            "type": "scatterternary"
           }
          ],
          "surface": [
           {
            "colorbar": {
             "outlinewidth": 0,
             "ticks": ""
            },
            "colorscale": [
             [
              0,
              "#0d0887"
             ],
             [
              0.1111111111111111,
              "#46039f"
             ],
             [
              0.2222222222222222,
              "#7201a8"
             ],
             [
              0.3333333333333333,
              "#9c179e"
             ],
             [
              0.4444444444444444,
              "#bd3786"
             ],
             [
              0.5555555555555556,
              "#d8576b"
             ],
             [
              0.6666666666666666,
              "#ed7953"
             ],
             [
              0.7777777777777778,
              "#fb9f3a"
             ],
             [
              0.8888888888888888,
              "#fdca26"
             ],
             [
              1,
              "#f0f921"
             ]
            ],
            "type": "surface"
           }
          ],
          "table": [
           {
            "cells": {
             "fill": {
              "color": "#EBF0F8"
             },
             "line": {
              "color": "white"
             }
            },
            "header": {
             "fill": {
              "color": "#C8D4E3"
             },
             "line": {
              "color": "white"
             }
            },
            "type": "table"
           }
          ]
         },
         "layout": {
          "annotationdefaults": {
           "arrowcolor": "#2a3f5f",
           "arrowhead": 0,
           "arrowwidth": 1
          },
          "autotypenumbers": "strict",
          "coloraxis": {
           "colorbar": {
            "outlinewidth": 0,
            "ticks": ""
           }
          },
          "colorscale": {
           "diverging": [
            [
             0,
             "#8e0152"
            ],
            [
             0.1,
             "#c51b7d"
            ],
            [
             0.2,
             "#de77ae"
            ],
            [
             0.3,
             "#f1b6da"
            ],
            [
             0.4,
             "#fde0ef"
            ],
            [
             0.5,
             "#f7f7f7"
            ],
            [
             0.6,
             "#e6f5d0"
            ],
            [
             0.7,
             "#b8e186"
            ],
            [
             0.8,
             "#7fbc41"
            ],
            [
             0.9,
             "#4d9221"
            ],
            [
             1,
             "#276419"
            ]
           ],
           "sequential": [
            [
             0,
             "#0d0887"
            ],
            [
             0.1111111111111111,
             "#46039f"
            ],
            [
             0.2222222222222222,
             "#7201a8"
            ],
            [
             0.3333333333333333,
             "#9c179e"
            ],
            [
             0.4444444444444444,
             "#bd3786"
            ],
            [
             0.5555555555555556,
             "#d8576b"
            ],
            [
             0.6666666666666666,
             "#ed7953"
            ],
            [
             0.7777777777777778,
             "#fb9f3a"
            ],
            [
             0.8888888888888888,
             "#fdca26"
            ],
            [
             1,
             "#f0f921"
            ]
           ],
           "sequentialminus": [
            [
             0,
             "#0d0887"
            ],
            [
             0.1111111111111111,
             "#46039f"
            ],
            [
             0.2222222222222222,
             "#7201a8"
            ],
            [
             0.3333333333333333,
             "#9c179e"
            ],
            [
             0.4444444444444444,
             "#bd3786"
            ],
            [
             0.5555555555555556,
             "#d8576b"
            ],
            [
             0.6666666666666666,
             "#ed7953"
            ],
            [
             0.7777777777777778,
             "#fb9f3a"
            ],
            [
             0.8888888888888888,
             "#fdca26"
            ],
            [
             1,
             "#f0f921"
            ]
           ]
          },
          "colorway": [
           "#636efa",
           "#EF553B",
           "#00cc96",
           "#ab63fa",
           "#FFA15A",
           "#19d3f3",
           "#FF6692",
           "#B6E880",
           "#FF97FF",
           "#FECB52"
          ],
          "font": {
           "color": "#2a3f5f"
          },
          "geo": {
           "bgcolor": "white",
           "lakecolor": "white",
           "landcolor": "#E5ECF6",
           "showlakes": true,
           "showland": true,
           "subunitcolor": "white"
          },
          "hoverlabel": {
           "align": "left"
          },
          "hovermode": "closest",
          "mapbox": {
           "style": "light"
          },
          "paper_bgcolor": "white",
          "plot_bgcolor": "#E5ECF6",
          "polar": {
           "angularaxis": {
            "gridcolor": "white",
            "linecolor": "white",
            "ticks": ""
           },
           "bgcolor": "#E5ECF6",
           "radialaxis": {
            "gridcolor": "white",
            "linecolor": "white",
            "ticks": ""
           }
          },
          "scene": {
           "xaxis": {
            "backgroundcolor": "#E5ECF6",
            "gridcolor": "white",
            "gridwidth": 2,
            "linecolor": "white",
            "showbackground": true,
            "ticks": "",
            "zerolinecolor": "white"
           },
           "yaxis": {
            "backgroundcolor": "#E5ECF6",
            "gridcolor": "white",
            "gridwidth": 2,
            "linecolor": "white",
            "showbackground": true,
            "ticks": "",
            "zerolinecolor": "white"
           },
           "zaxis": {
            "backgroundcolor": "#E5ECF6",
            "gridcolor": "white",
            "gridwidth": 2,
            "linecolor": "white",
            "showbackground": true,
            "ticks": "",
            "zerolinecolor": "white"
           }
          },
          "shapedefaults": {
           "line": {
            "color": "#2a3f5f"
           }
          },
          "ternary": {
           "aaxis": {
            "gridcolor": "white",
            "linecolor": "white",
            "ticks": ""
           },
           "baxis": {
            "gridcolor": "white",
            "linecolor": "white",
            "ticks": ""
           },
           "bgcolor": "#E5ECF6",
           "caxis": {
            "gridcolor": "white",
            "linecolor": "white",
            "ticks": ""
           }
          },
          "title": {
           "x": 0.05
          },
          "xaxis": {
           "automargin": true,
           "gridcolor": "white",
           "linecolor": "white",
           "ticks": "",
           "title": {
            "standoff": 15
           },
           "zerolinecolor": "white",
           "zerolinewidth": 2
          },
          "yaxis": {
           "automargin": true,
           "gridcolor": "white",
           "linecolor": "white",
           "ticks": "",
           "title": {
            "standoff": 15
           },
           "zerolinecolor": "white",
           "zerolinewidth": 2
          }
         }
        },
        "title": {
         "text": "Summer"
        },
        "width": 2000
       }
      }
     },
     "metadata": {},
     "output_type": "display_data"
    }
   ],
   "source": [
    "# 创建 Choropleth 图层\n",
    "fig = go.Figure(\n",
    "    data=go.Choropleth(\n",
    "        geojson=geojson_url,\n",
    "        featureidkey=\"properties.ST_NM\",\n",
    "        locations=geo_df[\"ST_NM\"],\n",
    "        zmin=0,\n",
    "        z=geo_df[\"Summer\"],\n",
    "        colorscale=[\"grey\", \"lightgreen\", \"green\"],\n",
    "        hoverinfo=\"location+text\",\n",
    "        marker_line_color=\"burlywood\",\n",
    "    )\n",
    ")\n",
    "\n",
    "# 添加散点图层以固定显示文本\n",
    "fig.add_trace(\n",
    "    go.Scattergeo(\n",
    "        lon=geo_df[\"lon\"],\n",
    "        lat=geo_df[\"lat\"],\n",
    "        text=geo_df[\"ST_NM\"],\n",
    "        mode=\"text\",\n",
    "        textfont=dict(size=22, color=\"darkred\"),  # 设置字体大小，您可以根据需要调整\n",
    "    )\n",
    ")\n",
    "\n",
    "fig.update_geos(fitbounds=\"locations\", visible=False)\n",
    "\n",
    "fig.update_geos(fitbounds=\"locations\", visible=False)\n",
    "fig.update_layout(\n",
    "    width=2000,\n",
    "    height=1200,\n",
    "    margin={\"r\": 0, \"t\": 30, \"l\": 0, \"b\": 0},  # Increase top margin\n",
    "    title_text=\"Summer\",\n",
    ")\n",
    "\n",
    "\n",
    "fig.show()\n",
    "\n",
    "\n",
    "fig.write_image(\"#Area_Summer.png\", scale=2)"
   ]
  }
 ],
 "metadata": {
  "kernelspec": {
   "display_name": "Python 3",
   "language": "python",
   "name": "python3"
  },
  "language_info": {
   "codemirror_mode": {
    "name": "ipython",
    "version": 3
   },
   "file_extension": ".py",
   "mimetype": "text/x-python",
   "name": "python",
   "nbconvert_exporter": "python",
   "pygments_lexer": "ipython3",
   "version": "3.11.2"
  }
 },
 "nbformat": 4,
 "nbformat_minor": 2
}
