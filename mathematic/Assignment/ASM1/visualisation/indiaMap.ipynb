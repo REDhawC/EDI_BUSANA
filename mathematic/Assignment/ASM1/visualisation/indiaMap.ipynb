{
 "cells": [
  {
   "cell_type": "code",
   "execution_count": 49,
   "metadata": {},
   "outputs": [],
   "source": [
    "import pandas as pd\n",
    "import plotly.express as px\n",
    "import kaleido\n",
    "\n",
    "df = pd.read_csv(\n",
    "    \"https://gist.githubusercontent.com/jbrobst/56c13bbbf9d97d187fea01ca62ea5112/raw/e388c4cae20aa53cb5090210a42ebb9b765c0a36/active_cases_2020-07-17_0800.csv\"\n",
    ")\n",
    "\n",
    "state_area = pd.read_csv(\"./agricultural_data.csv\")\n",
    "# Drop the unnecessary columns\n",
    "state_area = state_area.drop([\" Kharif\", \" Rabi\"], axis=1)\n",
    "# Rename the remaining column\n",
    "state_area = state_area.rename(columns={\" Summer\": \"area\"})\n",
    "\n",
    "\n",
    "reModel2 = pd.read_csv(\"./##Model2_reallocated.csv\")\n",
    "BenifitModel2 = pd.read_csv(\"./#Model2_rotationbenefit.csv\")\n",
    "reModel1 = pd.read_csv(\"./##Model1_reallocated.csv\")"
   ]
  },
  {
   "cell_type": "code",
   "execution_count": 50,
   "metadata": {},
   "outputs": [],
   "source": [
    "mapping = {\n",
    "    \"odisha\": \"Odisha\",\n",
    "    \"jharkhand\": \"Jharkhand\",\n",
    "    \"manipur\": \"Manipur\",\n",
    "    \"nagaland\": \"Nagaland\",\n",
    "    \"madhya_pradesh\": \"Madhya Pradesh\",\n",
    "    \"uttarakhand\": \"Uttarakhand\",\n",
    "    \"uttar_pradesh\": \"Uttar Pradesh\",\n",
    "    \"mizoram\": \"Mizoram\",\n",
    "    \"meghalaya\": \"Meghalaya\",\n",
    "    \"maharashtra\": \"Maharashtra\",\n",
    "    \"west_bengal\": \"West Bengal\",\n",
    "    \"gujarat\": \"Gujarat\",\n",
    "    \"assam\": \"Assam\",\n",
    "    \"bihar\": \"Bihar\",\n",
    "    \"jammu_and_kashmir\": \"Jammu & Kashmir\",\n",
    "    \"dadra_and_nagar_haveli\": \"Dadra and Nagar Haveli and Daman and Diu\",\n",
    "    \"arunachal_pradesh\": \"Arunachal Pradesh\",\n",
    "    \"karnataka\": \"Karnataka\",\n",
    "    \"chhattisgarh\": \"Chhattisgarh\",\n",
    "    \"tripura\": \"Tripura\",\n",
    "    \"himachal_pradesh\": \"Himachal Pradesh\",\n",
    "    \"chandigarh\": \"Chandigarh\",\n",
    "    \"telangana\": \"Telangana\",\n",
    "    \"sikkim\": \"Sikkim\",\n",
    "    \"rajasthan\": \"Rajasthan\",\n",
    "    \"punjab\": \"Punjab\",\n",
    "    \"andhra_pradesh\": \"Andhra Pradesh\",\n",
    "    \"haryana\": \"Haryana\",\n",
    "    \"kerala\": \"Kerala\",\n",
    "    \"tamil_nadu\": \"Tamil Nadu\",\n",
    "    \"puducherry\": \"Puducherry\",\n",
    "    \"andaman_and_nicobar_islands\": \"Andaman & Nicobar\",\n",
    "    \"goa\": \"Goa\",\n",
    "}"
   ]
  },
  {
   "cell_type": "code",
   "execution_count": 51,
   "metadata": {},
   "outputs": [
    {
     "data": {
      "text/plain": [
       "0                            Andaman & Nicobar\n",
       "1                               Andhra Pradesh\n",
       "2                            Arunachal Pradesh\n",
       "3                                        Assam\n",
       "4                                        Bihar\n",
       "5                                   Chandigarh\n",
       "6                                 Chhattisgarh\n",
       "7     Dadra and Nagar Haveli and Daman and Diu\n",
       "8                                          Goa\n",
       "9                                      Gujarat\n",
       "10                                     Haryana\n",
       "11                            Himachal Pradesh\n",
       "12                             Jammu & Kashmir\n",
       "13                                   Jharkhand\n",
       "14                                   Karnataka\n",
       "15                                      Kerala\n",
       "16                              Madhya Pradesh\n",
       "17                                 Maharashtra\n",
       "18                                     Manipur\n",
       "19                                   Meghalaya\n",
       "20                                     Mizoram\n",
       "21                                    Nagaland\n",
       "22                                      Odisha\n",
       "23                                  Puducherry\n",
       "24                                      Punjab\n",
       "25                                   Rajasthan\n",
       "26                                      Sikkim\n",
       "27                                  Tamil Nadu\n",
       "28                                   Telangana\n",
       "29                                     Tripura\n",
       "30                               Uttar Pradesh\n",
       "31                                 Uttarakhand\n",
       "32                                 West Bengal\n",
       "Name: state, dtype: object"
      ]
     },
     "execution_count": 51,
     "metadata": {},
     "output_type": "execute_result"
    }
   ],
   "source": [
    "state_area['state']"
   ]
  },
  {
   "cell_type": "code",
   "execution_count": 52,
   "metadata": {},
   "outputs": [
    {
     "data": {
      "text/html": [
       "<div>\n",
       "<style scoped>\n",
       "    .dataframe tbody tr th:only-of-type {\n",
       "        vertical-align: middle;\n",
       "    }\n",
       "\n",
       "    .dataframe tbody tr th {\n",
       "        vertical-align: top;\n",
       "    }\n",
       "\n",
       "    .dataframe thead th {\n",
       "        text-align: right;\n",
       "    }\n",
       "</style>\n",
       "<table border=\"1\" class=\"dataframe\">\n",
       "  <thead>\n",
       "    <tr style=\"text-align: right;\">\n",
       "      <th></th>\n",
       "      <th>crop</th>\n",
       "      <th>state</th>\n",
       "      <th>Kharif</th>\n",
       "      <th>Rabi</th>\n",
       "      <th>Summer</th>\n",
       "    </tr>\n",
       "  </thead>\n",
       "  <tbody>\n",
       "    <tr>\n",
       "      <th>0</th>\n",
       "      <td>rice</td>\n",
       "      <td>.andaman_and_nicobar_islands</td>\n",
       "      <td>4299.75</td>\n",
       "      <td>NaN</td>\n",
       "      <td>NaN</td>\n",
       "    </tr>\n",
       "    <tr>\n",
       "      <th>1</th>\n",
       "      <td>rice</td>\n",
       "      <td>.andhra_pradesh</td>\n",
       "      <td>2042475.75</td>\n",
       "      <td>2042475.75</td>\n",
       "      <td>NaN</td>\n",
       "    </tr>\n",
       "    <tr>\n",
       "      <th>2</th>\n",
       "      <td>rice</td>\n",
       "      <td>.arunachal_pradesh</td>\n",
       "      <td>52920.00</td>\n",
       "      <td>NaN</td>\n",
       "      <td>NaN</td>\n",
       "    </tr>\n",
       "    <tr>\n",
       "      <th>3</th>\n",
       "      <td>rice</td>\n",
       "      <td>.assam</td>\n",
       "      <td>776459.25</td>\n",
       "      <td>776459.25</td>\n",
       "      <td>776459.25</td>\n",
       "    </tr>\n",
       "    <tr>\n",
       "      <th>4</th>\n",
       "      <td>rice</td>\n",
       "      <td>.bihar</td>\n",
       "      <td>NaN</td>\n",
       "      <td>1020043.50</td>\n",
       "      <td>1449535.50</td>\n",
       "    </tr>\n",
       "    <tr>\n",
       "      <th>...</th>\n",
       "      <td>...</td>\n",
       "      <td>...</td>\n",
       "      <td>...</td>\n",
       "      <td>...</td>\n",
       "      <td>...</td>\n",
       "    </tr>\n",
       "    <tr>\n",
       "      <th>151</th>\n",
       "      <td>soyabean</td>\n",
       "      <td>.sikkim</td>\n",
       "      <td>26649.00</td>\n",
       "      <td>NaN</td>\n",
       "      <td>NaN</td>\n",
       "    </tr>\n",
       "    <tr>\n",
       "      <th>152</th>\n",
       "      <td>soyabean</td>\n",
       "      <td>.telangana</td>\n",
       "      <td>771599.50</td>\n",
       "      <td>NaN</td>\n",
       "      <td>NaN</td>\n",
       "    </tr>\n",
       "    <tr>\n",
       "      <th>153</th>\n",
       "      <td>soyabean</td>\n",
       "      <td>.uttar_pradesh</td>\n",
       "      <td>3451449.75</td>\n",
       "      <td>NaN</td>\n",
       "      <td>NaN</td>\n",
       "    </tr>\n",
       "    <tr>\n",
       "      <th>154</th>\n",
       "      <td>soyabean</td>\n",
       "      <td>.uttarakhand</td>\n",
       "      <td>210357.00</td>\n",
       "      <td>NaN</td>\n",
       "      <td>NaN</td>\n",
       "    </tr>\n",
       "    <tr>\n",
       "      <th>155</th>\n",
       "      <td>soyabean</td>\n",
       "      <td>.west_bengal</td>\n",
       "      <td>1801170.00</td>\n",
       "      <td>NaN</td>\n",
       "      <td>NaN</td>\n",
       "    </tr>\n",
       "  </tbody>\n",
       "</table>\n",
       "<p>156 rows × 5 columns</p>\n",
       "</div>"
      ],
      "text/plain": [
       "         crop                         state      Kharif        Rabi  \\\n",
       "0        rice  .andaman_and_nicobar_islands     4299.75         NaN   \n",
       "1        rice               .andhra_pradesh  2042475.75  2042475.75   \n",
       "2        rice            .arunachal_pradesh    52920.00         NaN   \n",
       "3        rice                        .assam   776459.25   776459.25   \n",
       "4        rice                        .bihar         NaN  1020043.50   \n",
       "..        ...                           ...         ...         ...   \n",
       "151  soyabean                       .sikkim    26649.00         NaN   \n",
       "152  soyabean                    .telangana   771599.50         NaN   \n",
       "153  soyabean                .uttar_pradesh  3451449.75         NaN   \n",
       "154  soyabean                  .uttarakhand   210357.00         NaN   \n",
       "155  soyabean                  .west_bengal  1801170.00         NaN   \n",
       "\n",
       "         Summer  \n",
       "0           NaN  \n",
       "1           NaN  \n",
       "2           NaN  \n",
       "3     776459.25  \n",
       "4    1449535.50  \n",
       "..          ...  \n",
       "151         NaN  \n",
       "152         NaN  \n",
       "153         NaN  \n",
       "154         NaN  \n",
       "155         NaN  \n",
       "\n",
       "[156 rows x 5 columns]"
      ]
     },
     "execution_count": 52,
     "metadata": {},
     "output_type": "execute_result"
    }
   ],
   "source": [
    "reModel2"
   ]
  },
  {
   "cell_type": "code",
   "execution_count": 53,
   "metadata": {},
   "outputs": [
    {
     "name": "stdout",
     "output_type": "stream",
     "text": [
      "   crop              state  Kharif    Rabi  Summer      area\n",
      "0  rice  Andaman & Nicobar     4.0     NaN     NaN     22750\n",
      "1  rice     Andhra Pradesh  2042.0  2042.0     NaN  10806750\n",
      "2  rice  Arunachal Pradesh    53.0     NaN     NaN    280000\n",
      "3  rice              Assam   776.0   776.0   776.0   4108250\n",
      "4  rice              Bihar     NaN  1020.0  1450.0   7669500 \n",
      "\n",
      "\n",
      "   crop              state  Kharif    Rabi  Summer      area\n",
      "0  rice  Andaman & Nicobar     4.0     NaN     NaN     22750\n",
      "1  rice     Andhra Pradesh  2042.0  2042.0     NaN  10806750\n",
      "2  rice  Arunachal Pradesh    53.0     NaN     NaN    280000\n",
      "3  rice              Assam   776.0   776.0   776.0   4108250\n",
      "4  rice              Bihar     NaN  1020.0  1450.0   7669500 \n",
      "\n",
      "\n",
      "    crop                                     state        Rabi  Summer\n",
      "0  wheat                            Andhra Pradesh  1437297.75     NaN\n",
      "1  wheat                         Arunachal Pradesh       52920     NaN\n",
      "2  wheat                                     Assam   776459.25     NaN\n",
      "3  wheat                                Chandigarh         378     NaN\n",
      "4  wheat  Dadra and Nagar Haveli and Daman and Diu     4488.75     NaN \n",
      "\n",
      "\n"
     ]
    }
   ],
   "source": [
    "import pandas as pd\n",
    "\n",
    "\n",
    "def modify_state(df, mapping):\n",
    "    df[\"state\"] = df[\"state\"].str.replace(\"^.\", \"\", regex=True)\n",
    "    df[\"state\"] = df[\"state\"].replace(mapping)\n",
    "    return df\n",
    "\n",
    "\n",
    "def divide_columns(df, state_area):\n",
    "    df = pd.merge(df, state_area, on=\"state\", how=\"left\")\n",
    "    for column in [\"Kharif\", \"Rabi\", \"Summer\"]:\n",
    "        df[column] = (df[column] / 1000).round(0)\n",
    "    return df\n",
    "\n",
    "\n",
    "# Modify the 'state' column and merge with state_area\n",
    "reModel1 = modify_state(reModel1, mapping)\n",
    "reModel2 = modify_state(reModel2, mapping)\n",
    "BenifitModel2 = modify_state(BenifitModel2, mapping)\n",
    "\n",
    "# Divide the 'Kharif', 'Rabi', 'Summer' columns by the 'area' column\n",
    "reModel1 = divide_columns(reModel1, state_area)\n",
    "reModel2 = divide_columns(reModel2, state_area)\n",
    "\n",
    "print(reModel1.head(), \"\\n\\n\")\n",
    "print(reModel2.head(), \"\\n\\n\")\n",
    "print(BenifitModel2.head(), \"\\n\\n\")"
   ]
  },
  {
   "cell_type": "code",
   "execution_count": 54,
   "metadata": {},
   "outputs": [
    {
     "data": {
      "text/html": [
       "<div>\n",
       "<style scoped>\n",
       "    .dataframe tbody tr th:only-of-type {\n",
       "        vertical-align: middle;\n",
       "    }\n",
       "\n",
       "    .dataframe tbody tr th {\n",
       "        vertical-align: top;\n",
       "    }\n",
       "\n",
       "    .dataframe thead th {\n",
       "        text-align: right;\n",
       "    }\n",
       "</style>\n",
       "<table border=\"1\" class=\"dataframe\">\n",
       "  <thead>\n",
       "    <tr style=\"text-align: right;\">\n",
       "      <th></th>\n",
       "      <th>crop</th>\n",
       "      <th>state</th>\n",
       "      <th>Rabi</th>\n",
       "      <th>Summer</th>\n",
       "      <th>text</th>\n",
       "    </tr>\n",
       "  </thead>\n",
       "  <tbody>\n",
       "    <tr>\n",
       "      <th>0</th>\n",
       "      <td>wheat</td>\n",
       "      <td>Andhra Pradesh</td>\n",
       "      <td>1437297.75</td>\n",
       "      <td>NaN</td>\n",
       "      <td>wheat: 1437297.75</td>\n",
       "    </tr>\n",
       "    <tr>\n",
       "      <th>1</th>\n",
       "      <td>wheat</td>\n",
       "      <td>Arunachal Pradesh</td>\n",
       "      <td>52920</td>\n",
       "      <td>NaN</td>\n",
       "      <td>wheat: 52920</td>\n",
       "    </tr>\n",
       "    <tr>\n",
       "      <th>2</th>\n",
       "      <td>wheat</td>\n",
       "      <td>Assam</td>\n",
       "      <td>776459.25</td>\n",
       "      <td>NaN</td>\n",
       "      <td>wheat: 776459.25</td>\n",
       "    </tr>\n",
       "    <tr>\n",
       "      <th>3</th>\n",
       "      <td>wheat</td>\n",
       "      <td>Chandigarh</td>\n",
       "      <td>378</td>\n",
       "      <td>NaN</td>\n",
       "      <td>wheat: 378</td>\n",
       "    </tr>\n",
       "    <tr>\n",
       "      <th>4</th>\n",
       "      <td>wheat</td>\n",
       "      <td>Dadra and Nagar Haveli and Daman and Diu</td>\n",
       "      <td>4488.75</td>\n",
       "      <td>NaN</td>\n",
       "      <td>wheat: 4488.75</td>\n",
       "    </tr>\n",
       "    <tr>\n",
       "      <th>5</th>\n",
       "      <td>wheat</td>\n",
       "      <td>Gujarat</td>\n",
       "      <td>2407198.5</td>\n",
       "      <td>NaN</td>\n",
       "      <td>wheat: 2407198.5</td>\n",
       "    </tr>\n",
       "    <tr>\n",
       "      <th>6</th>\n",
       "      <td>wheat</td>\n",
       "      <td>Haryana</td>\n",
       "      <td>1222452</td>\n",
       "      <td>NaN</td>\n",
       "      <td>wheat: 1222452</td>\n",
       "    </tr>\n",
       "    <tr>\n",
       "      <th>7</th>\n",
       "      <td>wheat</td>\n",
       "      <td>Himachal Pradesh</td>\n",
       "      <td>175959</td>\n",
       "      <td>NaN</td>\n",
       "      <td>wheat: 175959</td>\n",
       "    </tr>\n",
       "    <tr>\n",
       "      <th>8</th>\n",
       "      <td>wheat</td>\n",
       "      <td>Jammu &amp; Kashmir</td>\n",
       "      <td>221082.75</td>\n",
       "      <td>NaN</td>\n",
       "      <td>wheat: 221082.75</td>\n",
       "    </tr>\n",
       "    <tr>\n",
       "      <th>9</th>\n",
       "      <td>wheat</td>\n",
       "      <td>Jharkhand</td>\n",
       "      <td>298289.25</td>\n",
       "      <td>NaN</td>\n",
       "      <td>wheat: 298289.25</td>\n",
       "    </tr>\n",
       "    <tr>\n",
       "      <th>10</th>\n",
       "      <td>wheat</td>\n",
       "      <td>Madhya Pradesh</td>\n",
       "      <td>4418016.75</td>\n",
       "      <td>NaN</td>\n",
       "      <td>wheat: 4418016.75</td>\n",
       "    </tr>\n",
       "    <tr>\n",
       "      <th>11</th>\n",
       "      <td>wheat</td>\n",
       "      <td>Maharashtra</td>\n",
       "      <td>4291481.25</td>\n",
       "      <td>NaN</td>\n",
       "      <td>wheat: 4291481.25&lt;br&gt;soyabean: 4291481.25</td>\n",
       "    </tr>\n",
       "    <tr>\n",
       "      <th>12</th>\n",
       "      <td>wheat</td>\n",
       "      <td>Odisha</td>\n",
       "      <td>677435.500  962671.500</td>\n",
       "      <td>NaN</td>\n",
       "      <td>wheat: 677435.500  962671.500</td>\n",
       "    </tr>\n",
       "    <tr>\n",
       "      <th>13</th>\n",
       "      <td>wheat</td>\n",
       "      <td>Punjab</td>\n",
       "      <td>1487430</td>\n",
       "      <td>NaN</td>\n",
       "      <td>wheat: 1487430</td>\n",
       "    </tr>\n",
       "    <tr>\n",
       "      <th>14</th>\n",
       "      <td>wheat</td>\n",
       "      <td>Rajasthan</td>\n",
       "      <td>4668961.5</td>\n",
       "      <td>NaN</td>\n",
       "      <td>wheat: 4668961.5</td>\n",
       "    </tr>\n",
       "    <tr>\n",
       "      <th>15</th>\n",
       "      <td>wheat</td>\n",
       "      <td>Sikkim</td>\n",
       "      <td>26649</td>\n",
       "      <td>NaN</td>\n",
       "      <td>wheat: 26649</td>\n",
       "    </tr>\n",
       "    <tr>\n",
       "      <th>16</th>\n",
       "      <td>wheat</td>\n",
       "      <td>Telangana</td>\n",
       "      <td>1096483.5</td>\n",
       "      <td>NaN</td>\n",
       "      <td>wheat: 1096483.5</td>\n",
       "    </tr>\n",
       "    <tr>\n",
       "      <th>17</th>\n",
       "      <td>wheat</td>\n",
       "      <td>Tripura</td>\n",
       "      <td>89916.75</td>\n",
       "      <td>NaN</td>\n",
       "      <td>wheat: 89916.75</td>\n",
       "    </tr>\n",
       "    <tr>\n",
       "      <th>18</th>\n",
       "      <td>wheat</td>\n",
       "      <td>Uttar Pradesh</td>\n",
       "      <td>4904691.75</td>\n",
       "      <td>NaN</td>\n",
       "      <td>wheat: 4904691.75</td>\n",
       "    </tr>\n",
       "    <tr>\n",
       "      <th>19</th>\n",
       "      <td>wheat</td>\n",
       "      <td>Uttarakhand</td>\n",
       "      <td>210357</td>\n",
       "      <td>NaN</td>\n",
       "      <td>wheat: 210357</td>\n",
       "    </tr>\n",
       "    <tr>\n",
       "      <th>20</th>\n",
       "      <td>cotton</td>\n",
       "      <td>Karnataka</td>\n",
       "      <td>2283167.25</td>\n",
       "      <td>NaN</td>\n",
       "      <td>cotton: 2283167.25</td>\n",
       "    </tr>\n",
       "    <tr>\n",
       "      <th>21</th>\n",
       "      <td>cotton</td>\n",
       "      <td>Manipur</td>\n",
       "      <td>67756.5</td>\n",
       "      <td>NaN</td>\n",
       "      <td>cotton: 67756.5</td>\n",
       "    </tr>\n",
       "    <tr>\n",
       "      <th>22</th>\n",
       "      <td>cotton</td>\n",
       "      <td>Meghalaya</td>\n",
       "      <td>45386.25</td>\n",
       "      <td>NaN</td>\n",
       "      <td>cotton: 45386.25</td>\n",
       "    </tr>\n",
       "  </tbody>\n",
       "</table>\n",
       "</div>"
      ],
      "text/plain": [
       "      crop                                     state                    Rabi  \\\n",
       "0    wheat                            Andhra Pradesh              1437297.75   \n",
       "1    wheat                         Arunachal Pradesh                   52920   \n",
       "2    wheat                                     Assam               776459.25   \n",
       "3    wheat                                Chandigarh                     378   \n",
       "4    wheat  Dadra and Nagar Haveli and Daman and Diu                 4488.75   \n",
       "5    wheat                                   Gujarat               2407198.5   \n",
       "6    wheat                                   Haryana                 1222452   \n",
       "7    wheat                          Himachal Pradesh                  175959   \n",
       "8    wheat                           Jammu & Kashmir               221082.75   \n",
       "9    wheat                                 Jharkhand               298289.25   \n",
       "10   wheat                            Madhya Pradesh              4418016.75   \n",
       "11   wheat                               Maharashtra              4291481.25   \n",
       "12   wheat                                    Odisha  677435.500  962671.500   \n",
       "13   wheat                                    Punjab                 1487430   \n",
       "14   wheat                                 Rajasthan               4668961.5   \n",
       "15   wheat                                    Sikkim                   26649   \n",
       "16   wheat                                 Telangana               1096483.5   \n",
       "17   wheat                                   Tripura                89916.75   \n",
       "18   wheat                             Uttar Pradesh              4904691.75   \n",
       "19   wheat                               Uttarakhand                  210357   \n",
       "20  cotton                                 Karnataka              2283167.25   \n",
       "21  cotton                                   Manipur                 67756.5   \n",
       "22  cotton                                 Meghalaya                45386.25   \n",
       "\n",
       "    Summer                                       text  \n",
       "0      NaN                          wheat: 1437297.75  \n",
       "1      NaN                               wheat: 52920  \n",
       "2      NaN                           wheat: 776459.25  \n",
       "3      NaN                                 wheat: 378  \n",
       "4      NaN                             wheat: 4488.75  \n",
       "5      NaN                           wheat: 2407198.5  \n",
       "6      NaN                             wheat: 1222452  \n",
       "7      NaN                              wheat: 175959  \n",
       "8      NaN                           wheat: 221082.75  \n",
       "9      NaN                           wheat: 298289.25  \n",
       "10     NaN                          wheat: 4418016.75  \n",
       "11     NaN  wheat: 4291481.25<br>soyabean: 4291481.25  \n",
       "12     NaN              wheat: 677435.500  962671.500  \n",
       "13     NaN                             wheat: 1487430  \n",
       "14     NaN                           wheat: 4668961.5  \n",
       "15     NaN                               wheat: 26649  \n",
       "16     NaN                           wheat: 1096483.5  \n",
       "17     NaN                            wheat: 89916.75  \n",
       "18     NaN                          wheat: 4904691.75  \n",
       "19     NaN                              wheat: 210357  \n",
       "20     NaN                         cotton: 2283167.25  \n",
       "21     NaN                            cotton: 67756.5  \n",
       "22     NaN                           cotton: 45386.25  "
      ]
     },
     "execution_count": 54,
     "metadata": {},
     "output_type": "execute_result"
    }
   ],
   "source": [
    "# BenifitModel2\n",
    "# # 首先，创建一个新的 'text' 列，格式为 'crop: value'\n",
    "# BenifitModel2[\"text\"] = BenifitModel2[\"crop\"] + \": \" + BenifitModel2[\"Rabi\"].astype(str)\n",
    "\n",
    "# BenifitModel2 = state_area.merge(BenifitModel2, on=\"state\", how=\"left\")\n",
    "# BenifitModel2[\"Rabi\"].fillna(0, inplace=True)\n",
    "# BenifitModel2[\"Summer\"].fillna(0, inplace=True)\n",
    "\n",
    "# Create a new 'text' column, formatted as 'crop: value'\n",
    "BenifitModel2[\"text\"] = BenifitModel2[\"crop\"] + \": \" + BenifitModel2[\"Rabi\"].astype(str)\n",
    "\n",
    "# Use groupby to combine all text information for the same state\n",
    "grouped_text = (\n",
    "    BenifitModel2.groupby(\"state\")[\"text\"].apply(lambda x: \"<br>\".join(x)).reset_index()\n",
    ")\n",
    "\n",
    "# Merge the combined text information back into the original DataFrame\n",
    "BenifitModel2_combined = BenifitModel2.drop(\"text\", axis=1).merge(\n",
    "    grouped_text, on=\"state\"\n",
    ")\n",
    "\n",
    "# Remove duplicate rows, keeping only a unique row for each state\n",
    "BenifitModel2_combined = BenifitModel2_combined.drop_duplicates(\n",
    "    subset=\"state\"\n",
    ").reset_index(drop=True)\n",
    "\n",
    "# Display the first few rows of the combined DataFrame\n",
    "BenifitModel2_combined"
   ]
  },
  {
   "cell_type": "code",
   "execution_count": 55,
   "metadata": {},
   "outputs": [
    {
     "name": "stdout",
     "output_type": "stream",
     "text": [
      "state              crop      value \n",
      "Andaman & Nicobar  rice      4.0       1\n",
      "Manipur            jute      68.0      1\n",
      "Rajasthan          maize     3286.0    1\n",
      "                   cotton    4669.0    1\n",
      "Punjab             rice      1487.0    1\n",
      "                                      ..\n",
      "Himachal Pradesh   maize     176.0     1\n",
      "                   cotton    124.0     1\n",
      "Haryana            rice      1222.0    1\n",
      "                   maize     1222.0    1\n",
      "West Bengal        soyabean  1801.0    1\n",
      "Name: count, Length: 113, dtype: int64\n",
      "state              crop       value \n",
      "Andaman & Nicobar  maize      4.0       1\n",
      "Andhra Pradesh     horsegram  2042.0    1\n",
      "Odisha             potato     963.0     1\n",
      "                   maize      963.0     1\n",
      "                   horsegram  677.0     1\n",
      "                                       ..\n",
      "Jammu & Kashmir    potato     221.0     1\n",
      "Himachal Pradesh   wheat      176.0     1\n",
      "                   potato     176.0     1\n",
      "Haryana            wheat      1222.0    1\n",
      "West Bengal        rice       1267.0    1\n",
      "Name: count, Length: 80, dtype: int64\n",
      "state          crop       value \n",
      "Assam          rice       776.0     1\n",
      "Odisha         horsegram  677.0     1\n",
      "West Bengal    potato     1801.0    1\n",
      "               maize      1801.0    1\n",
      "Uttarakhand    rice       210.0     1\n",
      "               maize      210.0     1\n",
      "Uttar Pradesh  rice       4905.0    1\n",
      "               maize      4905.0    1\n",
      "Puducherry     rice       5.0       1\n",
      "               cotton     5.0       1\n",
      "Odisha         wheat      963.0     1\n",
      "               rice       963.0     1\n",
      "               maize      963.0     1\n",
      "Meghalaya      rice       64.0      1\n",
      "Bihar          maize      1450.0    1\n",
      "Manipur        potato     68.0      1\n",
      "               jute       68.0      1\n",
      "Maharashtra    rice       4291.0    1\n",
      "               maize      4291.0    1\n",
      "Kerala         rice       496.0     1\n",
      "Karnataka      rice       2283.0    1\n",
      "               potato     2283.0    1\n",
      "               maize      2283.0    1\n",
      "Gujarat        rice       2407.0    1\n",
      "               maize      2407.0    1\n",
      "Bihar          rice       1450.0    1\n",
      "West Bengal    rice       1801.0    1\n",
      "Name: count, dtype: int64\n"
     ]
    }
   ],
   "source": [
    "import pandas as pd\n",
    "\n",
    "# 假设 reModel1 是您的原始 DataFrame\n",
    "\n",
    "# 先将 reModel1 转换为 \"长格式\" (long format)\n",
    "long_df = reModel1.melt(\n",
    "    id_vars=[\"crop\", \"state\", \"area\"],\n",
    "    value_vars=[\"Kharif\", \"Rabi\", \"Summer\"],\n",
    "    var_name=\"season\",\n",
    "    value_name=\"value\",\n",
    ")\n",
    "\n",
    "# 创建每个季节的数据集\n",
    "m1_Kharif = long_df[(long_df[\"season\"] == \"Kharif\") & (long_df[\"value\"].notna())]\n",
    "m1_Rabi = long_df[(long_df[\"season\"] == \"Rabi\") & (long_df[\"value\"].notna())]\n",
    "m1_Summer = long_df[(long_df[\"season\"] == \"Summer\") & (long_df[\"value\"].notna())]\n",
    "\n",
    "# 重置每个数据集的索引，并只保留需要的列\n",
    "m1_Kharif = m1_Kharif[[\"state\", \"crop\", \"value\"]].reset_index(drop=True)\n",
    "m1_Rabi = m1_Rabi[[\"state\", \"crop\", \"value\"]].reset_index(drop=True)\n",
    "m1_Summer = m1_Summer[[\"state\", \"crop\", \"value\"]].reset_index(drop=True)\n",
    "\n",
    "# 显示每个数据集的前几行以进行检查\n",
    "print(m1_Kharif.value_counts())\n",
    "print(m1_Rabi.value_counts())\n",
    "print(m1_Summer.value_counts())"
   ]
  },
  {
   "cell_type": "code",
   "execution_count": 56,
   "metadata": {},
   "outputs": [
    {
     "name": "stdout",
     "output_type": "stream",
     "text": [
      "state              crop       value \n",
      "Andaman & Nicobar  maize      4.0       1\n",
      "Andhra Pradesh     horsegram  2042.0    1\n",
      "Odisha             potato     963.0     1\n",
      "                   maize      963.0     1\n",
      "                   horsegram  677.0     1\n",
      "                                       ..\n",
      "Jammu & Kashmir    potato     221.0     1\n",
      "Himachal Pradesh   wheat      176.0     1\n",
      "                   potato     176.0     1\n",
      "Haryana            wheat      1222.0    1\n",
      "West Bengal        rice       1267.0    1\n",
      "Name: count, Length: 80, dtype: int64\n"
     ]
    }
   ],
   "source": [
    "import pandas as pd\n",
    "\n",
    "# 假设 reModel1 是您的原始 DataFrame\n",
    "\n",
    "# 先将 reModel1 转换为 \"长格式\" (long format)\n",
    "long_df = reModel2.melt(\n",
    "    id_vars=[\"crop\", \"state\", \"area\"],\n",
    "    value_vars=[\"Kharif\", \"Rabi\", \"Summer\"],\n",
    "    var_name=\"season\",\n",
    "    value_name=\"value\",\n",
    ")\n",
    "\n",
    "# 创建每个季节的数据集\n",
    "m2_Rabi = long_df[(long_df[\"season\"] == \"Rabi\") & (long_df[\"value\"].notna())]\n",
    "\n",
    "\n",
    "# 重置每个数据集的索引，并只保留需要的列\n",
    "m2_Rabi = m1_Rabi[[\"state\", \"crop\", \"value\"]].reset_index(drop=True)\n",
    "\n",
    "# 显示每个数据集的前几行以进行检查\n",
    "print(m2_Rabi.value_counts())"
   ]
  },
  {
   "cell_type": "code",
   "execution_count": 57,
   "metadata": {},
   "outputs": [
    {
     "data": {
      "text/html": [
       "<div>\n",
       "<style scoped>\n",
       "    .dataframe tbody tr th:only-of-type {\n",
       "        vertical-align: middle;\n",
       "    }\n",
       "\n",
       "    .dataframe tbody tr th {\n",
       "        vertical-align: top;\n",
       "    }\n",
       "\n",
       "    .dataframe thead th {\n",
       "        text-align: right;\n",
       "    }\n",
       "</style>\n",
       "<table border=\"1\" class=\"dataframe\">\n",
       "  <thead>\n",
       "    <tr style=\"text-align: right;\">\n",
       "      <th></th>\n",
       "      <th>state</th>\n",
       "      <th>crop</th>\n",
       "      <th>value</th>\n",
       "    </tr>\n",
       "  </thead>\n",
       "  <tbody>\n",
       "    <tr>\n",
       "      <th>0</th>\n",
       "      <td>Andhra Pradesh</td>\n",
       "      <td>rice</td>\n",
       "      <td>2042.0</td>\n",
       "    </tr>\n",
       "    <tr>\n",
       "      <th>1</th>\n",
       "      <td>Assam</td>\n",
       "      <td>rice</td>\n",
       "      <td>776.0</td>\n",
       "    </tr>\n",
       "    <tr>\n",
       "      <th>2</th>\n",
       "      <td>Bihar</td>\n",
       "      <td>rice</td>\n",
       "      <td>1020.0</td>\n",
       "    </tr>\n",
       "    <tr>\n",
       "      <th>3</th>\n",
       "      <td>Dadra and Nagar Haveli and Daman and Diu</td>\n",
       "      <td>rice</td>\n",
       "      <td>4.0</td>\n",
       "    </tr>\n",
       "    <tr>\n",
       "      <th>4</th>\n",
       "      <td>Goa</td>\n",
       "      <td>rice</td>\n",
       "      <td>30.0</td>\n",
       "    </tr>\n",
       "    <tr>\n",
       "      <th>...</th>\n",
       "      <td>...</td>\n",
       "      <td>...</td>\n",
       "      <td>...</td>\n",
       "    </tr>\n",
       "    <tr>\n",
       "      <th>75</th>\n",
       "      <td>Uttar Pradesh</td>\n",
       "      <td>potato</td>\n",
       "      <td>4905.0</td>\n",
       "    </tr>\n",
       "    <tr>\n",
       "      <th>76</th>\n",
       "      <td>Uttarakhand</td>\n",
       "      <td>potato</td>\n",
       "      <td>210.0</td>\n",
       "    </tr>\n",
       "    <tr>\n",
       "      <th>77</th>\n",
       "      <td>West Bengal</td>\n",
       "      <td>potato</td>\n",
       "      <td>1801.0</td>\n",
       "    </tr>\n",
       "    <tr>\n",
       "      <th>78</th>\n",
       "      <td>Maharashtra</td>\n",
       "      <td>soyabean</td>\n",
       "      <td>4291.0</td>\n",
       "    </tr>\n",
       "    <tr>\n",
       "      <th>79</th>\n",
       "      <td>Manipur</td>\n",
       "      <td>soyabean</td>\n",
       "      <td>48.0</td>\n",
       "    </tr>\n",
       "  </tbody>\n",
       "</table>\n",
       "<p>80 rows × 3 columns</p>\n",
       "</div>"
      ],
      "text/plain": [
       "                                       state      crop   value\n",
       "0                             Andhra Pradesh      rice  2042.0\n",
       "1                                      Assam      rice   776.0\n",
       "2                                      Bihar      rice  1020.0\n",
       "3   Dadra and Nagar Haveli and Daman and Diu      rice     4.0\n",
       "4                                        Goa      rice    30.0\n",
       "..                                       ...       ...     ...\n",
       "75                             Uttar Pradesh    potato  4905.0\n",
       "76                               Uttarakhand    potato   210.0\n",
       "77                               West Bengal    potato  1801.0\n",
       "78                               Maharashtra  soyabean  4291.0\n",
       "79                                   Manipur  soyabean    48.0\n",
       "\n",
       "[80 rows x 3 columns]"
      ]
     },
     "execution_count": 57,
     "metadata": {},
     "output_type": "execute_result"
    }
   ],
   "source": [
    "m2_Rabi"
   ]
  },
  {
   "cell_type": "code",
   "execution_count": 58,
   "metadata": {},
   "outputs": [
    {
     "data": {
      "text/html": [
       "<div>\n",
       "<style scoped>\n",
       "    .dataframe tbody tr th:only-of-type {\n",
       "        vertical-align: middle;\n",
       "    }\n",
       "\n",
       "    .dataframe tbody tr th {\n",
       "        vertical-align: top;\n",
       "    }\n",
       "\n",
       "    .dataframe thead th {\n",
       "        text-align: right;\n",
       "    }\n",
       "</style>\n",
       "<table border=\"1\" class=\"dataframe\">\n",
       "  <thead>\n",
       "    <tr style=\"text-align: right;\">\n",
       "      <th></th>\n",
       "      <th>state</th>\n",
       "      <th>crop</th>\n",
       "      <th>value</th>\n",
       "      <th>text</th>\n",
       "    </tr>\n",
       "  </thead>\n",
       "  <tbody>\n",
       "    <tr>\n",
       "      <th>0</th>\n",
       "      <td>Andaman &amp; Nicobar</td>\n",
       "      <td>rice</td>\n",
       "      <td>4.0</td>\n",
       "      <td>rice: 4.0k</td>\n",
       "    </tr>\n",
       "    <tr>\n",
       "      <th>1</th>\n",
       "      <td>Andhra Pradesh</td>\n",
       "      <td>rice</td>\n",
       "      <td>2042.0</td>\n",
       "      <td>rice: 2042.0k, &lt;br&gt; cotton: 2042.0k, &lt;br&gt; maiz...</td>\n",
       "    </tr>\n",
       "    <tr>\n",
       "      <th>2</th>\n",
       "      <td>Arunachal Pradesh</td>\n",
       "      <td>rice</td>\n",
       "      <td>53.0</td>\n",
       "      <td>rice: 53.0k, &lt;br&gt; maize: 53.0k, &lt;br&gt; soyabean:...</td>\n",
       "    </tr>\n",
       "    <tr>\n",
       "      <th>3</th>\n",
       "      <td>Assam</td>\n",
       "      <td>rice</td>\n",
       "      <td>776.0</td>\n",
       "      <td>rice: 776.0k, &lt;br&gt; cotton: 776.0k, &lt;br&gt; maize:...</td>\n",
       "    </tr>\n",
       "    <tr>\n",
       "      <th>4</th>\n",
       "      <td>Chandigarh</td>\n",
       "      <td>rice</td>\n",
       "      <td>0.0</td>\n",
       "      <td>rice: 0.0k, &lt;br&gt; maize: 0.0k</td>\n",
       "    </tr>\n",
       "  </tbody>\n",
       "</table>\n",
       "</div>"
      ],
      "text/plain": [
       "               state  crop   value  \\\n",
       "0  Andaman & Nicobar  rice     4.0   \n",
       "1     Andhra Pradesh  rice  2042.0   \n",
       "2  Arunachal Pradesh  rice    53.0   \n",
       "3              Assam  rice   776.0   \n",
       "4         Chandigarh  rice     0.0   \n",
       "\n",
       "                                                text  \n",
       "0                                         rice: 4.0k  \n",
       "1  rice: 2042.0k, <br> cotton: 2042.0k, <br> maiz...  \n",
       "2  rice: 53.0k, <br> maize: 53.0k, <br> soyabean:...  \n",
       "3  rice: 776.0k, <br> cotton: 776.0k, <br> maize:...  \n",
       "4                       rice: 0.0k, <br> maize: 0.0k  "
      ]
     },
     "execution_count": 58,
     "metadata": {},
     "output_type": "execute_result"
    }
   ],
   "source": [
    "import pandas as pd\n",
    "\n",
    "# 假设 m1_Kharif 是您的 DataFrame\n",
    "\n",
    "# 首先，创建一个新的 'text' 列，格式为 'crop: value'\n",
    "m1_Kharif[\"text\"] = m1_Kharif[\"crop\"] + \": \" + m1_Kharif[\"value\"].astype(str) + \"k\"\n",
    "\n",
    "# 使用 groupby 来合并同一个州的所有作物信息\n",
    "grouped_text = (\n",
    "    m1_Kharif.groupby(\"state\")[\"text\"].apply(lambda x: \", <br> \".join(x)).reset_index()\n",
    ")\n",
    "\n",
    "# 将合并后的文本信息重新合并到原始 DataFrame\n",
    "m1_Kharif_combined = m1_Kharif.drop(\"text\", axis=1).merge(grouped_text, on=\"state\")\n",
    "\n",
    "# 删除重复行，保留每个州的唯一行\n",
    "m1_Kharif_combined = m1_Kharif_combined.drop_duplicates(subset=\"state\").reset_index(\n",
    "    drop=True\n",
    ")\n",
    "m1_Kharif_combined[\"text\"] = m1_Kharif_combined[\"text\"].apply(\n",
    "    lambda x: \"<br>\".join(x.split(\"<br>\")[:3])\n",
    ")\n",
    "# 显示合并后的 DataFrame 的前几行\n",
    "m1_Kharif_combined.head()"
   ]
  },
  {
   "cell_type": "code",
   "execution_count": 59,
   "metadata": {},
   "outputs": [
    {
     "data": {
      "text/html": [
       "<div>\n",
       "<style scoped>\n",
       "    .dataframe tbody tr th:only-of-type {\n",
       "        vertical-align: middle;\n",
       "    }\n",
       "\n",
       "    .dataframe tbody tr th {\n",
       "        vertical-align: top;\n",
       "    }\n",
       "\n",
       "    .dataframe thead th {\n",
       "        text-align: right;\n",
       "    }\n",
       "</style>\n",
       "<table border=\"1\" class=\"dataframe\">\n",
       "  <thead>\n",
       "    <tr style=\"text-align: right;\">\n",
       "      <th></th>\n",
       "      <th>state</th>\n",
       "      <th>crop</th>\n",
       "      <th>value</th>\n",
       "      <th>text</th>\n",
       "    </tr>\n",
       "  </thead>\n",
       "  <tbody>\n",
       "    <tr>\n",
       "      <th>0</th>\n",
       "      <td>Andhra Pradesh</td>\n",
       "      <td>rice</td>\n",
       "      <td>2042.0</td>\n",
       "      <td>rice: 2042.0k, &lt;br&gt; wheat: 1437.0k, &lt;br&gt; maize...</td>\n",
       "    </tr>\n",
       "    <tr>\n",
       "      <th>1</th>\n",
       "      <td>Assam</td>\n",
       "      <td>rice</td>\n",
       "      <td>776.0</td>\n",
       "      <td>rice: 776.0k, &lt;br&gt; wheat: 776.0k</td>\n",
       "    </tr>\n",
       "    <tr>\n",
       "      <th>2</th>\n",
       "      <td>Bihar</td>\n",
       "      <td>rice</td>\n",
       "      <td>1020.0</td>\n",
       "      <td>rice: 1020.0k, &lt;br&gt; wheat: 1450.0k, &lt;br&gt; maize...</td>\n",
       "    </tr>\n",
       "    <tr>\n",
       "      <th>3</th>\n",
       "      <td>Dadra and Nagar Haveli and Daman and Diu</td>\n",
       "      <td>rice</td>\n",
       "      <td>4.0</td>\n",
       "      <td>rice: 4.0k, &lt;br&gt; wheat: 4.0k, &lt;br&gt; maize: 4.0k</td>\n",
       "    </tr>\n",
       "    <tr>\n",
       "      <th>4</th>\n",
       "      <td>Goa</td>\n",
       "      <td>rice</td>\n",
       "      <td>30.0</td>\n",
       "      <td>rice: 30.0k</td>\n",
       "    </tr>\n",
       "  </tbody>\n",
       "</table>\n",
       "</div>"
      ],
      "text/plain": [
       "                                      state  crop   value  \\\n",
       "0                            Andhra Pradesh  rice  2042.0   \n",
       "1                                     Assam  rice   776.0   \n",
       "2                                     Bihar  rice  1020.0   \n",
       "3  Dadra and Nagar Haveli and Daman and Diu  rice     4.0   \n",
       "4                                       Goa  rice    30.0   \n",
       "\n",
       "                                                text  \n",
       "0  rice: 2042.0k, <br> wheat: 1437.0k, <br> maize...  \n",
       "1                   rice: 776.0k, <br> wheat: 776.0k  \n",
       "2  rice: 1020.0k, <br> wheat: 1450.0k, <br> maize...  \n",
       "3     rice: 4.0k, <br> wheat: 4.0k, <br> maize: 4.0k  \n",
       "4                                        rice: 30.0k  "
      ]
     },
     "execution_count": 59,
     "metadata": {},
     "output_type": "execute_result"
    }
   ],
   "source": [
    "import pandas as pd\n",
    "\n",
    "# Assuming m1_Rabi is your DataFrame\n",
    "\n",
    "# First, create a new 'text' column, formatted as 'crop: value'\n",
    "m1_Rabi[\"text\"] = m1_Rabi[\"crop\"] + \": \" + m1_Rabi[\"value\"].astype(str)+'k'\n",
    "\n",
    "# Use groupby to combine all crop information for the same state\n",
    "grouped_text = (\n",
    "    m1_Rabi.groupby(\"state\")[\"text\"].apply(lambda x: \", <br> \".join(x)).reset_index()\n",
    ")\n",
    "\n",
    "# Merge the combined text information back into the original DataFrame\n",
    "m1_Rabi_combined = m1_Rabi.drop(\"text\", axis=1).merge(grouped_text, on=\"state\")\n",
    "\n",
    "# Remove duplicate rows, keeping only a unique row for each state\n",
    "m1_Rabi_combined = m1_Rabi_combined.drop_duplicates(subset=\"state\").reset_index(\n",
    "    drop=True\n",
    ")\n",
    "m1_Rabi_combined[\"text\"] = m1_Rabi_combined[\"text\"].apply(\n",
    "    lambda x: \"<br>\".join(x.split(\"<br>\")[:3])\n",
    ")\n",
    "# Display the first few rows of the combined DataFrame\n",
    "m1_Rabi_combined.head()"
   ]
  },
  {
   "cell_type": "code",
   "execution_count": null,
   "metadata": {},
   "outputs": [],
   "source": []
  },
  {
   "cell_type": "code",
   "execution_count": 60,
   "metadata": {},
   "outputs": [
    {
     "data": {
      "text/html": [
       "<div>\n",
       "<style scoped>\n",
       "    .dataframe tbody tr th:only-of-type {\n",
       "        vertical-align: middle;\n",
       "    }\n",
       "\n",
       "    .dataframe tbody tr th {\n",
       "        vertical-align: top;\n",
       "    }\n",
       "\n",
       "    .dataframe thead th {\n",
       "        text-align: right;\n",
       "    }\n",
       "</style>\n",
       "<table border=\"1\" class=\"dataframe\">\n",
       "  <thead>\n",
       "    <tr style=\"text-align: right;\">\n",
       "      <th></th>\n",
       "      <th>state</th>\n",
       "      <th>crop</th>\n",
       "      <th>value</th>\n",
       "      <th>text</th>\n",
       "    </tr>\n",
       "  </thead>\n",
       "  <tbody>\n",
       "    <tr>\n",
       "      <th>0</th>\n",
       "      <td>Andhra Pradesh</td>\n",
       "      <td>rice</td>\n",
       "      <td>2042.0</td>\n",
       "      <td>rice: 2042.0k, &lt;br&gt; wheat: 1437.0k, &lt;br&gt; maize...</td>\n",
       "    </tr>\n",
       "    <tr>\n",
       "      <th>1</th>\n",
       "      <td>Assam</td>\n",
       "      <td>rice</td>\n",
       "      <td>776.0</td>\n",
       "      <td>rice: 776.0k, &lt;br&gt; wheat: 776.0k</td>\n",
       "    </tr>\n",
       "    <tr>\n",
       "      <th>2</th>\n",
       "      <td>Bihar</td>\n",
       "      <td>rice</td>\n",
       "      <td>1020.0</td>\n",
       "      <td>rice: 1020.0k, &lt;br&gt; wheat: 1450.0k, &lt;br&gt; maize...</td>\n",
       "    </tr>\n",
       "    <tr>\n",
       "      <th>3</th>\n",
       "      <td>Dadra and Nagar Haveli and Daman and Diu</td>\n",
       "      <td>rice</td>\n",
       "      <td>4.0</td>\n",
       "      <td>rice: 4.0k, &lt;br&gt; wheat: 4.0k, &lt;br&gt; maize: 4.0k</td>\n",
       "    </tr>\n",
       "    <tr>\n",
       "      <th>4</th>\n",
       "      <td>Goa</td>\n",
       "      <td>rice</td>\n",
       "      <td>30.0</td>\n",
       "      <td>rice: 30.0k</td>\n",
       "    </tr>\n",
       "  </tbody>\n",
       "</table>\n",
       "</div>"
      ],
      "text/plain": [
       "                                      state  crop   value  \\\n",
       "0                            Andhra Pradesh  rice  2042.0   \n",
       "1                                     Assam  rice   776.0   \n",
       "2                                     Bihar  rice  1020.0   \n",
       "3  Dadra and Nagar Haveli and Daman and Diu  rice     4.0   \n",
       "4                                       Goa  rice    30.0   \n",
       "\n",
       "                                                text  \n",
       "0  rice: 2042.0k, <br> wheat: 1437.0k, <br> maize...  \n",
       "1                   rice: 776.0k, <br> wheat: 776.0k  \n",
       "2  rice: 1020.0k, <br> wheat: 1450.0k, <br> maize...  \n",
       "3     rice: 4.0k, <br> wheat: 4.0k, <br> maize: 4.0k  \n",
       "4                                        rice: 30.0k  "
      ]
     },
     "execution_count": 60,
     "metadata": {},
     "output_type": "execute_result"
    }
   ],
   "source": [
    "import pandas as pd\n",
    "\n",
    "# Assuming m2_Rabi is your DataFrame\n",
    "\n",
    "# First, create a new 'text' column, formatted as 'crop: value'\n",
    "m2_Rabi[\"text\"] = m2_Rabi[\"crop\"] + \": \" + m2_Rabi[\"value\"].astype(str) + \"k\"\n",
    "\n",
    "# Use groupby to combine all crop information for the same state\n",
    "grouped_text = (\n",
    "    m2_Rabi.groupby(\"state\")[\"text\"].apply(lambda x: \", <br> \".join(x)).reset_index()\n",
    ")\n",
    "\n",
    "# Merge the combined text information back into the original DataFrame\n",
    "m2_Rabi_combined = m2_Rabi.drop(\"text\", axis=1).merge(grouped_text, on=\"state\")\n",
    "\n",
    "# Remove duplicate rows, keeping only a unique row for each state\n",
    "m2_Rabi_combined = m2_Rabi_combined.drop_duplicates(subset=\"state\").reset_index(\n",
    "    drop=True\n",
    ")\n",
    "m2_Rabi_combined[\"text\"] = m2_Rabi_combined[\"text\"].apply(\n",
    "    lambda x: \"<br>\".join(x.split(\"<br>\")[:3])\n",
    ")\n",
    "# Display the first few rows of the combined DataFrame\n",
    "m2_Rabi_combined.head()"
   ]
  },
  {
   "cell_type": "code",
   "execution_count": 61,
   "metadata": {},
   "outputs": [
    {
     "data": {
      "text/html": [
       "<div>\n",
       "<style scoped>\n",
       "    .dataframe tbody tr th:only-of-type {\n",
       "        vertical-align: middle;\n",
       "    }\n",
       "\n",
       "    .dataframe tbody tr th {\n",
       "        vertical-align: top;\n",
       "    }\n",
       "\n",
       "    .dataframe thead th {\n",
       "        text-align: right;\n",
       "    }\n",
       "</style>\n",
       "<table border=\"1\" class=\"dataframe\">\n",
       "  <thead>\n",
       "    <tr style=\"text-align: right;\">\n",
       "      <th></th>\n",
       "      <th>crop</th>\n",
       "      <th>state</th>\n",
       "      <th>Rabi</th>\n",
       "      <th>Summer</th>\n",
       "      <th>text</th>\n",
       "    </tr>\n",
       "  </thead>\n",
       "  <tbody>\n",
       "    <tr>\n",
       "      <th>0</th>\n",
       "      <td>wheat</td>\n",
       "      <td>Andhra Pradesh</td>\n",
       "      <td>1437297.75</td>\n",
       "      <td>NaN</td>\n",
       "      <td>Rotation Benifit:&lt;br&gt;wheat: 1437297.75&lt;br&gt;Area...</td>\n",
       "    </tr>\n",
       "    <tr>\n",
       "      <th>1</th>\n",
       "      <td>wheat</td>\n",
       "      <td>Arunachal Pradesh</td>\n",
       "      <td>52920</td>\n",
       "      <td>NaN</td>\n",
       "      <td>Rotation Benifit:&lt;br&gt;wheat: 52920&lt;br&gt;Area Size...</td>\n",
       "    </tr>\n",
       "    <tr>\n",
       "      <th>2</th>\n",
       "      <td>wheat</td>\n",
       "      <td>Assam</td>\n",
       "      <td>776459.25</td>\n",
       "      <td>NaN</td>\n",
       "      <td>Rotation Benifit:&lt;br&gt;wheat: 776459.25&lt;br&gt;Area ...</td>\n",
       "    </tr>\n",
       "    <tr>\n",
       "      <th>3</th>\n",
       "      <td>wheat</td>\n",
       "      <td>Chandigarh</td>\n",
       "      <td>378</td>\n",
       "      <td>NaN</td>\n",
       "      <td>Rotation Benifit:&lt;br&gt;wheat: 378&lt;br&gt;Area Size:&lt;...</td>\n",
       "    </tr>\n",
       "    <tr>\n",
       "      <th>4</th>\n",
       "      <td>wheat</td>\n",
       "      <td>Dadra and Nagar Haveli and Daman and Diu</td>\n",
       "      <td>4488.75</td>\n",
       "      <td>NaN</td>\n",
       "      <td>Rotation Benifit:&lt;br&gt;wheat: 4488.75&lt;br&gt;Area Si...</td>\n",
       "    </tr>\n",
       "  </tbody>\n",
       "</table>\n",
       "</div>"
      ],
      "text/plain": [
       "    crop                                     state        Rabi  Summer  \\\n",
       "0  wheat                            Andhra Pradesh  1437297.75     NaN   \n",
       "1  wheat                         Arunachal Pradesh       52920     NaN   \n",
       "2  wheat                                     Assam   776459.25     NaN   \n",
       "3  wheat                                Chandigarh         378     NaN   \n",
       "4  wheat  Dadra and Nagar Haveli and Daman and Diu     4488.75     NaN   \n",
       "\n",
       "                                                text  \n",
       "0  Rotation Benifit:<br>wheat: 1437297.75<br>Area...  \n",
       "1  Rotation Benifit:<br>wheat: 52920<br>Area Size...  \n",
       "2  Rotation Benifit:<br>wheat: 776459.25<br>Area ...  \n",
       "3  Rotation Benifit:<br>wheat: 378<br>Area Size:<...  \n",
       "4  Rotation Benifit:<br>wheat: 4488.75<br>Area Si...  "
      ]
     },
     "execution_count": 61,
     "metadata": {},
     "output_type": "execute_result"
    }
   ],
   "source": [
    "# Merge the two DataFrames on 'state'\n",
    "merged_df = pd.merge(\n",
    "    BenifitModel2_combined,\n",
    "    m2_Rabi_combined[[\"state\", \"text\"]],\n",
    "    on=\"state\",\n",
    "    suffixes=(\"_Benifit\", \"_Rabi\"),\n",
    ")\n",
    "\n",
    "# Combine the 'text' columns\n",
    "merged_df[\"text\"] = (\n",
    "    \"Rotation Benifit:<br>\"\n",
    "    + merged_df[\"text_Benifit\"]\n",
    "    + \"<br>\"\n",
    "    + \"Area Size:<br>\"\n",
    "    + merged_df[\"text_Rabi\"]\n",
    ")\n",
    "\n",
    "# Drop the original 'text' columns\n",
    "merged_df = merged_df.drop([\"text_Benifit\", \"text_Rabi\"], axis=1)\n",
    "\n",
    "# Display the first few rows of the merged DataFrame\n",
    "merged_df.head()"
   ]
  },
  {
   "cell_type": "code",
   "execution_count": 62,
   "metadata": {},
   "outputs": [
    {
     "name": "stderr",
     "output_type": "stream",
     "text": [
      "C:\\Users\\redhawc\\AppData\\Local\\Temp\\ipykernel_55160\\791791699.py:29: UserWarning:\n",
      "\n",
      "Geometry is in a geographic CRS. Results from 'centroid' are likely incorrect. Use 'GeoSeries.to_crs()' to re-project geometries to a projected CRS before this operation.\n",
      "\n",
      "\n"
     ]
    },
    {
     "data": {
      "application/vnd.plotly.v1+json": {
       "config": {
        "plotlyServerURL": "https://plot.ly"
       },
       "data": [
        {
         "colorscale": [
          [
           0,
           "white"
          ],
          [
           1,
           "white"
          ]
         ],
         "featureidkey": "properties.ST_NM",
         "geojson": "https://gist.githubusercontent.com/jbrobst/56c13bbbf9d97d187fea01ca62ea5112/raw/e388c4cae20aa53cb5090210a42ebb9b765c0a36/india_states.geojson",
         "hoverinfo": "location+text",
         "locations": [
          "Arunachal Pradesh",
          "Assam",
          "Chandigarh",
          "Karnataka",
          "Manipur",
          "Meghalaya",
          "Mizoram",
          "Nagaland",
          "Punjab",
          "Rajasthan",
          "Sikkim",
          "Tripura",
          "Uttarakhand",
          "Telangana",
          "Bihar",
          "Kerala",
          "Madhya Pradesh",
          "Andaman & Nicobar",
          "Gujarat",
          "Odisha",
          "Dadra and Nagar Haveli and Daman and Diu",
          "Jammu & Kashmir",
          "Chhattisgarh",
          "Goa",
          "Haryana",
          "Himachal Pradesh",
          "Jharkhand",
          "Tamil Nadu",
          "Uttar Pradesh",
          "West Bengal",
          "Andhra Pradesh",
          "Puducherry",
          "Maharashtra"
         ],
         "marker": {
          "line": {
           "color": "brown"
          }
         },
         "text": [
          "rice: 53.0k, <br> maize: 53.0k, <br> soyabean: 53.0k",
          "rice: 776.0k, <br> cotton: 776.0k, <br> maize: 546.0k, ",
          "rice: 0.0k, <br> maize: 0.0k",
          "rice: 1607.0k, <br> cotton: 2283.0k, <br> maize: 2283.0k, ",
          "rice: 68.0k, <br> maize: 68.0k, <br> jute: 68.0k, ",
          "rice: 64.0k, <br> cotton: 64.0k, <br> jute: 64.0k, ",
          "cotton: 22.0k, <br> maize: 16.0k, <br> potato: 22.0k, ",
          "cotton: 93.0k, <br> jute: 93.0k, <br> potato: 93.0k, ",
          "rice: 1487.0k, <br> cotton: 1487.0k, <br> maize: 1487.0k",
          "rice: 4669.0k, <br> cotton: 4669.0k, <br> maize: 3286.0k, ",
          "rice: 27.0k, <br> maize: 27.0k, <br> soyabean: 27.0k",
          "rice: 90.0k, <br> cotton: 90.0k, <br> maize: 63.0k, ",
          "rice: 148.0k, <br> horsegram: 210.0k, <br> potato: 210.0k, ",
          "rice: 772.0k, <br> cotton: 1096.0k, <br> maize: 1096.0k, ",
          "cotton: 1020.0k, <br> maize: 1450.0k, <br> jute: 1450.0k, ",
          "rice: 496.0k, <br> cotton: 496.0k",
          "cotton: 4418.0k, <br> maize: 3109.0k, <br> jute: 4418.0k, ",
          "rice: 4.0k",
          "rice: 2407.0k, <br> cotton: 2407.0k, <br> maize: 2407.0k, ",
          "rice: 677.0k, <br> cotton: 963.0k, <br> maize: 963.0k, ",
          "rice: 4.0k, <br> maize: 4.0k",
          "rice: 221.0k, <br> cotton: 156.0k, <br> maize: 221.0k, ",
          "cotton: 1076.0k, <br> horsegram: 1076.0k, <br> potato: 1076.0k, ",
          "rice: 30.0k",
          "rice: 1222.0k, <br> cotton: 1222.0k, <br> maize: 1222.0k, ",
          "cotton: 124.0k, <br> maize: 176.0k, <br> potato: 176.0k, ",
          "rice: 298.0k, <br> maize: 298.0k",
          "rice: 1083.0k, <br> cotton: 1083.0k, <br> maize: 1083.0k, ",
          "rice: 4905.0k, <br> cotton: 4905.0k, <br> maize: 4905.0k, ",
          "cotton: 1801.0k, <br> maize: 1267.0k, <br> jute: 1801.0k, ",
          "rice: 2042.0k, <br> cotton: 2042.0k, <br> maize: 2042.0k, ",
          "rice: 5.0k, <br> cotton: 5.0k",
          "rice: 4291.0k, <br> cotton: 4291.0k, <br> maize: 3020.0k, "
         ],
         "type": "choropleth",
         "z": [
          53,
          776,
          0,
          1607,
          68,
          64,
          22,
          93,
          1487,
          4669,
          27,
          90,
          148,
          772,
          1020,
          496,
          4418,
          4,
          2407,
          677,
          4,
          221,
          1076,
          30,
          1222,
          124,
          298,
          1083,
          4905,
          1801,
          2042,
          5,
          4291
         ]
        },
        {
         "lat": [
          28.036066389221745,
          26.35497847998204,
          30.728361392535774,
          14.710405551302284,
          24.735076113494813,
          25.53557728306151,
          23.307807060427923,
          26.06263369503263,
          30.842226635713363,
          26.584407666563767,
          27.569923150949375,
          23.745137620836996,
          30.156611868236627,
          17.80072036096087,
          25.679308370917205,
          10.450407387317862,
          23.538135963929847,
          11.197968822798963,
          22.69839433488582,
          20.513987029808025,
          20.242551887312832,
          33.64511955131811,
          21.26613164744112,
          15.36387631250899,
          29.198138148009594,
          31.926225889963035,
          23.65613966615685,
          11.01405549421972,
          26.923298352608214,
          23.811829251836777,
          15.756113460734964,
          11.851519914672929,
          19.451500358423914
         ],
         "lon": [
          94.6748326791631,
          92.82634309387305,
          76.78078044460244,
          76.16747452915338,
          93.87884193997611,
          91.27735620953041,
          92.83177176819507,
          94.46701721365893,
          75.41580388296326,
          73.84984184046439,
          88.47340321820725,
          91.73906864094313,
          79.20658342280629,
          79.00868646725074,
          85.61004153869405,
          76.40848222253885,
          78.28915293669499,
          92.95771321465169,
          71.57222579220684,
          84.43061890111004,
          72.93083224907231,
          74.85839980588838,
          82.04096397209855,
          74.05414749664932,
          76.34018047967007,
          77.24450791093216,
          85.56363713960563,
          78.40845445799587,
          80.566053063026,
          87.98378526747015,
          79.96564733254941,
          79.86026451499595,
          76.10751008526249
         ],
         "mode": "text",
         "text": [
          "rice: 53.0k, <br> maize: 53.0k, <br> soyabean: 53.0k",
          "rice: 776.0k, <br> cotton: 776.0k, <br> maize: 546.0k, ",
          "rice: 0.0k, <br> maize: 0.0k",
          "rice: 1607.0k, <br> cotton: 2283.0k, <br> maize: 2283.0k, ",
          "rice: 68.0k, <br> maize: 68.0k, <br> jute: 68.0k, ",
          "rice: 64.0k, <br> cotton: 64.0k, <br> jute: 64.0k, ",
          "cotton: 22.0k, <br> maize: 16.0k, <br> potato: 22.0k, ",
          "cotton: 93.0k, <br> jute: 93.0k, <br> potato: 93.0k, ",
          "rice: 1487.0k, <br> cotton: 1487.0k, <br> maize: 1487.0k",
          "rice: 4669.0k, <br> cotton: 4669.0k, <br> maize: 3286.0k, ",
          "rice: 27.0k, <br> maize: 27.0k, <br> soyabean: 27.0k",
          "rice: 90.0k, <br> cotton: 90.0k, <br> maize: 63.0k, ",
          "rice: 148.0k, <br> horsegram: 210.0k, <br> potato: 210.0k, ",
          "rice: 772.0k, <br> cotton: 1096.0k, <br> maize: 1096.0k, ",
          "cotton: 1020.0k, <br> maize: 1450.0k, <br> jute: 1450.0k, ",
          "rice: 496.0k, <br> cotton: 496.0k",
          "cotton: 4418.0k, <br> maize: 3109.0k, <br> jute: 4418.0k, ",
          "rice: 4.0k",
          "rice: 2407.0k, <br> cotton: 2407.0k, <br> maize: 2407.0k, ",
          "rice: 677.0k, <br> cotton: 963.0k, <br> maize: 963.0k, ",
          "rice: 4.0k, <br> maize: 4.0k",
          "rice: 221.0k, <br> cotton: 156.0k, <br> maize: 221.0k, ",
          "cotton: 1076.0k, <br> horsegram: 1076.0k, <br> potato: 1076.0k, ",
          "rice: 30.0k",
          "rice: 1222.0k, <br> cotton: 1222.0k, <br> maize: 1222.0k, ",
          "cotton: 124.0k, <br> maize: 176.0k, <br> potato: 176.0k, ",
          "rice: 298.0k, <br> maize: 298.0k",
          "rice: 1083.0k, <br> cotton: 1083.0k, <br> maize: 1083.0k, ",
          "rice: 4905.0k, <br> cotton: 4905.0k, <br> maize: 4905.0k, ",
          "cotton: 1801.0k, <br> maize: 1267.0k, <br> jute: 1801.0k, ",
          "rice: 2042.0k, <br> cotton: 2042.0k, <br> maize: 2042.0k, ",
          "rice: 5.0k, <br> cotton: 5.0k",
          "rice: 4291.0k, <br> cotton: 4291.0k, <br> maize: 3020.0k, "
         ],
         "textfont": {
          "color": "darkred",
          "size": 8
         },
         "type": "scattergeo"
        }
       ],
       "layout": {
        "geo": {
         "fitbounds": "locations",
         "visible": false
        },
        "height": 1200,
        "margin": {
         "b": 0,
         "l": 0,
         "r": 0,
         "t": 0
        },
        "template": {
         "data": {
          "bar": [
           {
            "error_x": {
             "color": "#2a3f5f"
            },
            "error_y": {
             "color": "#2a3f5f"
            },
            "marker": {
             "line": {
              "color": "#E5ECF6",
              "width": 0.5
             },
             "pattern": {
              "fillmode": "overlay",
              "size": 10,
              "solidity": 0.2
             }
            },
            "type": "bar"
           }
          ],
          "barpolar": [
           {
            "marker": {
             "line": {
              "color": "#E5ECF6",
              "width": 0.5
             },
             "pattern": {
              "fillmode": "overlay",
              "size": 10,
              "solidity": 0.2
             }
            },
            "type": "barpolar"
           }
          ],
          "carpet": [
           {
            "aaxis": {
             "endlinecolor": "#2a3f5f",
             "gridcolor": "white",
             "linecolor": "white",
             "minorgridcolor": "white",
             "startlinecolor": "#2a3f5f"
            },
            "baxis": {
             "endlinecolor": "#2a3f5f",
             "gridcolor": "white",
             "linecolor": "white",
             "minorgridcolor": "white",
             "startlinecolor": "#2a3f5f"
            },
            "type": "carpet"
           }
          ],
          "choropleth": [
           {
            "colorbar": {
             "outlinewidth": 0,
             "ticks": ""
            },
            "type": "choropleth"
           }
          ],
          "contour": [
           {
            "colorbar": {
             "outlinewidth": 0,
             "ticks": ""
            },
            "colorscale": [
             [
              0,
              "#0d0887"
             ],
             [
              0.1111111111111111,
              "#46039f"
             ],
             [
              0.2222222222222222,
              "#7201a8"
             ],
             [
              0.3333333333333333,
              "#9c179e"
             ],
             [
              0.4444444444444444,
              "#bd3786"
             ],
             [
              0.5555555555555556,
              "#d8576b"
             ],
             [
              0.6666666666666666,
              "#ed7953"
             ],
             [
              0.7777777777777778,
              "#fb9f3a"
             ],
             [
              0.8888888888888888,
              "#fdca26"
             ],
             [
              1,
              "#f0f921"
             ]
            ],
            "type": "contour"
           }
          ],
          "contourcarpet": [
           {
            "colorbar": {
             "outlinewidth": 0,
             "ticks": ""
            },
            "type": "contourcarpet"
           }
          ],
          "heatmap": [
           {
            "colorbar": {
             "outlinewidth": 0,
             "ticks": ""
            },
            "colorscale": [
             [
              0,
              "#0d0887"
             ],
             [
              0.1111111111111111,
              "#46039f"
             ],
             [
              0.2222222222222222,
              "#7201a8"
             ],
             [
              0.3333333333333333,
              "#9c179e"
             ],
             [
              0.4444444444444444,
              "#bd3786"
             ],
             [
              0.5555555555555556,
              "#d8576b"
             ],
             [
              0.6666666666666666,
              "#ed7953"
             ],
             [
              0.7777777777777778,
              "#fb9f3a"
             ],
             [
              0.8888888888888888,
              "#fdca26"
             ],
             [
              1,
              "#f0f921"
             ]
            ],
            "type": "heatmap"
           }
          ],
          "heatmapgl": [
           {
            "colorbar": {
             "outlinewidth": 0,
             "ticks": ""
            },
            "colorscale": [
             [
              0,
              "#0d0887"
             ],
             [
              0.1111111111111111,
              "#46039f"
             ],
             [
              0.2222222222222222,
              "#7201a8"
             ],
             [
              0.3333333333333333,
              "#9c179e"
             ],
             [
              0.4444444444444444,
              "#bd3786"
             ],
             [
              0.5555555555555556,
              "#d8576b"
             ],
             [
              0.6666666666666666,
              "#ed7953"
             ],
             [
              0.7777777777777778,
              "#fb9f3a"
             ],
             [
              0.8888888888888888,
              "#fdca26"
             ],
             [
              1,
              "#f0f921"
             ]
            ],
            "type": "heatmapgl"
           }
          ],
          "histogram": [
           {
            "marker": {
             "pattern": {
              "fillmode": "overlay",
              "size": 10,
              "solidity": 0.2
             }
            },
            "type": "histogram"
           }
          ],
          "histogram2d": [
           {
            "colorbar": {
             "outlinewidth": 0,
             "ticks": ""
            },
            "colorscale": [
             [
              0,
              "#0d0887"
             ],
             [
              0.1111111111111111,
              "#46039f"
             ],
             [
              0.2222222222222222,
              "#7201a8"
             ],
             [
              0.3333333333333333,
              "#9c179e"
             ],
             [
              0.4444444444444444,
              "#bd3786"
             ],
             [
              0.5555555555555556,
              "#d8576b"
             ],
             [
              0.6666666666666666,
              "#ed7953"
             ],
             [
              0.7777777777777778,
              "#fb9f3a"
             ],
             [
              0.8888888888888888,
              "#fdca26"
             ],
             [
              1,
              "#f0f921"
             ]
            ],
            "type": "histogram2d"
           }
          ],
          "histogram2dcontour": [
           {
            "colorbar": {
             "outlinewidth": 0,
             "ticks": ""
            },
            "colorscale": [
             [
              0,
              "#0d0887"
             ],
             [
              0.1111111111111111,
              "#46039f"
             ],
             [
              0.2222222222222222,
              "#7201a8"
             ],
             [
              0.3333333333333333,
              "#9c179e"
             ],
             [
              0.4444444444444444,
              "#bd3786"
             ],
             [
              0.5555555555555556,
              "#d8576b"
             ],
             [
              0.6666666666666666,
              "#ed7953"
             ],
             [
              0.7777777777777778,
              "#fb9f3a"
             ],
             [
              0.8888888888888888,
              "#fdca26"
             ],
             [
              1,
              "#f0f921"
             ]
            ],
            "type": "histogram2dcontour"
           }
          ],
          "mesh3d": [
           {
            "colorbar": {
             "outlinewidth": 0,
             "ticks": ""
            },
            "type": "mesh3d"
           }
          ],
          "parcoords": [
           {
            "line": {
             "colorbar": {
              "outlinewidth": 0,
              "ticks": ""
             }
            },
            "type": "parcoords"
           }
          ],
          "pie": [
           {
            "automargin": true,
            "type": "pie"
           }
          ],
          "scatter": [
           {
            "fillpattern": {
             "fillmode": "overlay",
             "size": 10,
             "solidity": 0.2
            },
            "type": "scatter"
           }
          ],
          "scatter3d": [
           {
            "line": {
             "colorbar": {
              "outlinewidth": 0,
              "ticks": ""
             }
            },
            "marker": {
             "colorbar": {
              "outlinewidth": 0,
              "ticks": ""
             }
            },
            "type": "scatter3d"
           }
          ],
          "scattercarpet": [
           {
            "marker": {
             "colorbar": {
              "outlinewidth": 0,
              "ticks": ""
             }
            },
            "type": "scattercarpet"
           }
          ],
          "scattergeo": [
           {
            "marker": {
             "colorbar": {
              "outlinewidth": 0,
              "ticks": ""
             }
            },
            "type": "scattergeo"
           }
          ],
          "scattergl": [
           {
            "marker": {
             "colorbar": {
              "outlinewidth": 0,
              "ticks": ""
             }
            },
            "type": "scattergl"
           }
          ],
          "scattermapbox": [
           {
            "marker": {
             "colorbar": {
              "outlinewidth": 0,
              "ticks": ""
             }
            },
            "type": "scattermapbox"
           }
          ],
          "scatterpolar": [
           {
            "marker": {
             "colorbar": {
              "outlinewidth": 0,
              "ticks": ""
             }
            },
            "type": "scatterpolar"
           }
          ],
          "scatterpolargl": [
           {
            "marker": {
             "colorbar": {
              "outlinewidth": 0,
              "ticks": ""
             }
            },
            "type": "scatterpolargl"
           }
          ],
          "scatterternary": [
           {
            "marker": {
             "colorbar": {
              "outlinewidth": 0,
              "ticks": ""
             }
            },
            "type": "scatterternary"
           }
          ],
          "surface": [
           {
            "colorbar": {
             "outlinewidth": 0,
             "ticks": ""
            },
            "colorscale": [
             [
              0,
              "#0d0887"
             ],
             [
              0.1111111111111111,
              "#46039f"
             ],
             [
              0.2222222222222222,
              "#7201a8"
             ],
             [
              0.3333333333333333,
              "#9c179e"
             ],
             [
              0.4444444444444444,
              "#bd3786"
             ],
             [
              0.5555555555555556,
              "#d8576b"
             ],
             [
              0.6666666666666666,
              "#ed7953"
             ],
             [
              0.7777777777777778,
              "#fb9f3a"
             ],
             [
              0.8888888888888888,
              "#fdca26"
             ],
             [
              1,
              "#f0f921"
             ]
            ],
            "type": "surface"
           }
          ],
          "table": [
           {
            "cells": {
             "fill": {
              "color": "#EBF0F8"
             },
             "line": {
              "color": "white"
             }
            },
            "header": {
             "fill": {
              "color": "#C8D4E3"
             },
             "line": {
              "color": "white"
             }
            },
            "type": "table"
           }
          ]
         },
         "layout": {
          "annotationdefaults": {
           "arrowcolor": "#2a3f5f",
           "arrowhead": 0,
           "arrowwidth": 1
          },
          "autotypenumbers": "strict",
          "coloraxis": {
           "colorbar": {
            "outlinewidth": 0,
            "ticks": ""
           }
          },
          "colorscale": {
           "diverging": [
            [
             0,
             "#8e0152"
            ],
            [
             0.1,
             "#c51b7d"
            ],
            [
             0.2,
             "#de77ae"
            ],
            [
             0.3,
             "#f1b6da"
            ],
            [
             0.4,
             "#fde0ef"
            ],
            [
             0.5,
             "#f7f7f7"
            ],
            [
             0.6,
             "#e6f5d0"
            ],
            [
             0.7,
             "#b8e186"
            ],
            [
             0.8,
             "#7fbc41"
            ],
            [
             0.9,
             "#4d9221"
            ],
            [
             1,
             "#276419"
            ]
           ],
           "sequential": [
            [
             0,
             "#0d0887"
            ],
            [
             0.1111111111111111,
             "#46039f"
            ],
            [
             0.2222222222222222,
             "#7201a8"
            ],
            [
             0.3333333333333333,
             "#9c179e"
            ],
            [
             0.4444444444444444,
             "#bd3786"
            ],
            [
             0.5555555555555556,
             "#d8576b"
            ],
            [
             0.6666666666666666,
             "#ed7953"
            ],
            [
             0.7777777777777778,
             "#fb9f3a"
            ],
            [
             0.8888888888888888,
             "#fdca26"
            ],
            [
             1,
             "#f0f921"
            ]
           ],
           "sequentialminus": [
            [
             0,
             "#0d0887"
            ],
            [
             0.1111111111111111,
             "#46039f"
            ],
            [
             0.2222222222222222,
             "#7201a8"
            ],
            [
             0.3333333333333333,
             "#9c179e"
            ],
            [
             0.4444444444444444,
             "#bd3786"
            ],
            [
             0.5555555555555556,
             "#d8576b"
            ],
            [
             0.6666666666666666,
             "#ed7953"
            ],
            [
             0.7777777777777778,
             "#fb9f3a"
            ],
            [
             0.8888888888888888,
             "#fdca26"
            ],
            [
             1,
             "#f0f921"
            ]
           ]
          },
          "colorway": [
           "#636efa",
           "#EF553B",
           "#00cc96",
           "#ab63fa",
           "#FFA15A",
           "#19d3f3",
           "#FF6692",
           "#B6E880",
           "#FF97FF",
           "#FECB52"
          ],
          "font": {
           "color": "#2a3f5f"
          },
          "geo": {
           "bgcolor": "white",
           "lakecolor": "white",
           "landcolor": "#E5ECF6",
           "showlakes": true,
           "showland": true,
           "subunitcolor": "white"
          },
          "hoverlabel": {
           "align": "left"
          },
          "hovermode": "closest",
          "mapbox": {
           "style": "light"
          },
          "paper_bgcolor": "white",
          "plot_bgcolor": "#E5ECF6",
          "polar": {
           "angularaxis": {
            "gridcolor": "white",
            "linecolor": "white",
            "ticks": ""
           },
           "bgcolor": "#E5ECF6",
           "radialaxis": {
            "gridcolor": "white",
            "linecolor": "white",
            "ticks": ""
           }
          },
          "scene": {
           "xaxis": {
            "backgroundcolor": "#E5ECF6",
            "gridcolor": "white",
            "gridwidth": 2,
            "linecolor": "white",
            "showbackground": true,
            "ticks": "",
            "zerolinecolor": "white"
           },
           "yaxis": {
            "backgroundcolor": "#E5ECF6",
            "gridcolor": "white",
            "gridwidth": 2,
            "linecolor": "white",
            "showbackground": true,
            "ticks": "",
            "zerolinecolor": "white"
           },
           "zaxis": {
            "backgroundcolor": "#E5ECF6",
            "gridcolor": "white",
            "gridwidth": 2,
            "linecolor": "white",
            "showbackground": true,
            "ticks": "",
            "zerolinecolor": "white"
           }
          },
          "shapedefaults": {
           "line": {
            "color": "#2a3f5f"
           }
          },
          "ternary": {
           "aaxis": {
            "gridcolor": "white",
            "linecolor": "white",
            "ticks": ""
           },
           "baxis": {
            "gridcolor": "white",
            "linecolor": "white",
            "ticks": ""
           },
           "bgcolor": "#E5ECF6",
           "caxis": {
            "gridcolor": "white",
            "linecolor": "white",
            "ticks": ""
           }
          },
          "title": {
           "x": 0.05
          },
          "xaxis": {
           "automargin": true,
           "gridcolor": "white",
           "linecolor": "white",
           "ticks": "",
           "title": {
            "standoff": 15
           },
           "zerolinecolor": "white",
           "zerolinewidth": 2
          },
          "yaxis": {
           "automargin": true,
           "gridcolor": "white",
           "linecolor": "white",
           "ticks": "",
           "title": {
            "standoff": 15
           },
           "zerolinecolor": "white",
           "zerolinewidth": 2
          }
         }
        },
        "width": 1800
       }
      }
     },
     "metadata": {},
     "output_type": "display_data"
    }
   ],
   "source": [
    "import plotly.graph_objects as go\n",
    "import geopandas as gpd\n",
    "import kaleido\n",
    "\n",
    "# 读取地理数据\n",
    "geojson_url = \"https://gist.githubusercontent.com/jbrobst/56c13bbbf9d97d187fea01ca62ea5112/raw/e388c4cae20aa53cb5090210a42ebb9b765c0a36/india_states.geojson\"\n",
    "geo_df = gpd.read_file(geojson_url)\n",
    "\n",
    "geo_df\n",
    "\n",
    "# 使用 m1_Kharif 数据合并地理数据\n",
    "geo_df = geo_df.merge(m1_Kharif_combined, left_on=\"ST_NM\", right_on=\"state\")\n",
    "\n",
    "# 创建 Choropleth 图层\n",
    "fig = go.Figure(\n",
    "    data=go.Choropleth(\n",
    "        geojson=geojson_url,\n",
    "        featureidkey=\"properties.ST_NM\",\n",
    "        locations=geo_df[\"state\"],\n",
    "        z=geo_df[\"value\"],  # 使用 'value' 作为区分的依据\n",
    "        text=geo_df[\"text\"],  # 使用合并的 'text' 列\n",
    "        colorscale=[\"white\", \"white\"],  # 更改色阶以更好地显示数据\n",
    "        hoverinfo=\"location+text\",\n",
    "        marker_line_color=\"brown\",\n",
    "    )\n",
    ")\n",
    "\n",
    "# 计算每个州的中心点坐标\n",
    "geo_df[\"center\"] = geo_df[\"geometry\"].centroid\n",
    "geo_df[\"lon\"] = geo_df[\"center\"].apply(lambda p: p.x)\n",
    "geo_df[\"lat\"] = geo_df[\"center\"].apply(lambda p: p.y)\n",
    "\n",
    "# 添加散点图层以固定显示文本\n",
    "fig.add_trace(\n",
    "    go.Scattergeo(\n",
    "        lon=geo_df[\"lon\"],\n",
    "        lat=geo_df[\"lat\"],\n",
    "        text=geo_df[\"text\"],\n",
    "        mode=\"text\",\n",
    "        textfont=dict(size=8, color=\"darkred\"),  # 设置字体大小，您可以根据需要调整\n",
    "    )\n",
    ")\n",
    "\n",
    "fig.update_geos(fitbounds=\"locations\", visible=False)\n",
    "\n",
    "fig.update_layout(\n",
    "    width=1800,  # 宽度, 您可以根据需要调整\n",
    "    height=1200,  # 高度, 您可以根据需要调整\n",
    "    margin={\"r\": 0, \"t\": 0, \"l\": 0, \"b\": 0},\n",
    ")\n",
    "fig.show()\n",
    "fig.write_image(\"model1_Karif.png\", scale=2)"
   ]
  },
  {
   "cell_type": "code",
   "execution_count": 63,
   "metadata": {},
   "outputs": [
    {
     "name": "stderr",
     "output_type": "stream",
     "text": [
      "C:\\Users\\redhawc\\AppData\\Local\\Temp\\ipykernel_55160\\316415501.py:29: UserWarning:\n",
      "\n",
      "Geometry is in a geographic CRS. Results from 'centroid' are likely incorrect. Use 'GeoSeries.to_crs()' to re-project geometries to a projected CRS before this operation.\n",
      "\n",
      "\n"
     ]
    },
    {
     "data": {
      "application/vnd.plotly.v1+json": {
       "config": {
        "plotlyServerURL": "https://plot.ly"
       },
       "data": [
        {
         "colorscale": [
          [
           0,
           "white"
          ],
          [
           1,
           "white"
          ]
         ],
         "featureidkey": "properties.ST_NM",
         "geojson": "https://gist.githubusercontent.com/jbrobst/56c13bbbf9d97d187fea01ca62ea5112/raw/e388c4cae20aa53cb5090210a42ebb9b765c0a36/india_states.geojson",
         "hoverinfo": "location+text",
         "locations": [
          "Arunachal Pradesh",
          "Assam",
          "Chandigarh",
          "Karnataka",
          "Manipur",
          "Meghalaya",
          "Mizoram",
          "Nagaland",
          "Punjab",
          "Rajasthan",
          "Sikkim",
          "Tripura",
          "Uttarakhand",
          "Telangana",
          "Bihar",
          "Kerala",
          "Madhya Pradesh",
          "Andaman & Nicobar",
          "Gujarat",
          "Odisha",
          "Dadra and Nagar Haveli and Daman and Diu",
          "Jammu & Kashmir",
          "Chhattisgarh",
          "Goa",
          "Haryana",
          "Himachal Pradesh",
          "Jharkhand",
          "Uttar Pradesh",
          "West Bengal",
          "Andhra Pradesh",
          "Puducherry",
          "Maharashtra"
         ],
         "marker": {
          "line": {
           "color": "brown"
          }
         },
         "text": [
          "wheat: 53.0k",
          "rice: 776.0k, <br> wheat: 776.0k",
          "wheat: 0.0k",
          "rice: 1607.0k, <br> cotton: 2283.0k, <br> maize: 2283.0k, ",
          "rice: 68.0k, <br> cotton: 68.0k, <br> potato: 68.0k, ",
          "rice: 64.0k, <br> cotton: 45.0k, <br> jute: 64.0k, ",
          "rice: 22.0k, <br> wheat: 16.0k, <br> maize: 22.0k, ",
          "rice: 93.0k, <br> wheat: 93.0k, <br> maize: 65.0k, ",
          "wheat: 1487.0k",
          "wheat: 4669.0k",
          "wheat: 27.0k",
          "wheat: 90.0k",
          "rice: 210.0k, <br> wheat: 210.0k, <br> maize: 148.0k, ",
          "rice: 1096.0k, <br> wheat: 1096.0k, <br> maize: 1096.0k, ",
          "rice: 1020.0k, <br> wheat: 1450.0k, <br> maize: 1450.0k, ",
          "rice: 496.0k",
          "wheat: 4418.0k, <br> horsegram: 4418.0k",
          "maize: 4.0k",
          "wheat: 2407.0k, <br> maize: 2407.0k",
          "rice: 963.0k, <br> maize: 963.0k, <br> horsegram: 677.0k, ",
          "rice: 4.0k, <br> wheat: 4.0k, <br> maize: 4.0k",
          "wheat: 221.0k, <br> potato: 221.0k",
          "wheat: 1076.0k, <br> horsegram: 1076.0k, <br> potato: 1076.0k",
          "rice: 30.0k",
          "wheat: 1222.0k",
          "wheat: 176.0k, <br> potato: 176.0k",
          "rice: 298.0k, <br> wheat: 298.0k, <br> potato: 298.0k",
          "wheat: 4905.0k, <br> maize: 4905.0k, <br> potato: 4905.0k",
          "rice: 1267.0k, <br> maize: 1801.0k, <br> horsegram: 1801.0k, ",
          "rice: 2042.0k, <br> wheat: 1437.0k, <br> maize: 2042.0k, ",
          "rice: 5.0k",
          "wheat: 4291.0k, <br> maize: 4291.0k, <br> soyabean: 4291.0k"
         ],
         "type": "choropleth",
         "z": [
          53,
          776,
          0,
          1607,
          68,
          64,
          22,
          93,
          1487,
          4669,
          27,
          90,
          210,
          1096,
          1020,
          496,
          4418,
          4,
          2407,
          963,
          4,
          221,
          1076,
          30,
          1222,
          176,
          298,
          4905,
          1267,
          2042,
          5,
          4291
         ]
        },
        {
         "lat": [
          28.036066389221745,
          26.35497847998204,
          30.728361392535774,
          14.710405551302284,
          24.735076113494813,
          25.53557728306151,
          23.307807060427923,
          26.06263369503263,
          30.842226635713363,
          26.584407666563767,
          27.569923150949375,
          23.745137620836996,
          30.156611868236627,
          17.80072036096087,
          25.679308370917205,
          10.450407387317862,
          23.538135963929847,
          11.197968822798963,
          22.69839433488582,
          20.513987029808025,
          20.242551887312832,
          33.64511955131811,
          21.26613164744112,
          15.36387631250899,
          29.198138148009594,
          31.926225889963035,
          23.65613966615685,
          26.923298352608214,
          23.811829251836777,
          15.756113460734964,
          11.851519914672929,
          19.451500358423914
         ],
         "lon": [
          94.6748326791631,
          92.82634309387305,
          76.78078044460244,
          76.16747452915338,
          93.87884193997611,
          91.27735620953041,
          92.83177176819507,
          94.46701721365893,
          75.41580388296326,
          73.84984184046439,
          88.47340321820725,
          91.73906864094313,
          79.20658342280629,
          79.00868646725074,
          85.61004153869405,
          76.40848222253885,
          78.28915293669499,
          92.95771321465169,
          71.57222579220684,
          84.43061890111004,
          72.93083224907231,
          74.85839980588838,
          82.04096397209855,
          74.05414749664932,
          76.34018047967007,
          77.24450791093216,
          85.56363713960563,
          80.566053063026,
          87.98378526747015,
          79.96564733254941,
          79.86026451499595,
          76.10751008526249
         ],
         "mode": "text",
         "text": [
          "wheat: 53.0k",
          "rice: 776.0k, <br> wheat: 776.0k",
          "wheat: 0.0k",
          "rice: 1607.0k, <br> cotton: 2283.0k, <br> maize: 2283.0k, ",
          "rice: 68.0k, <br> cotton: 68.0k, <br> potato: 68.0k, ",
          "rice: 64.0k, <br> cotton: 45.0k, <br> jute: 64.0k, ",
          "rice: 22.0k, <br> wheat: 16.0k, <br> maize: 22.0k, ",
          "rice: 93.0k, <br> wheat: 93.0k, <br> maize: 65.0k, ",
          "wheat: 1487.0k",
          "wheat: 4669.0k",
          "wheat: 27.0k",
          "wheat: 90.0k",
          "rice: 210.0k, <br> wheat: 210.0k, <br> maize: 148.0k, ",
          "rice: 1096.0k, <br> wheat: 1096.0k, <br> maize: 1096.0k, ",
          "rice: 1020.0k, <br> wheat: 1450.0k, <br> maize: 1450.0k, ",
          "rice: 496.0k",
          "wheat: 4418.0k, <br> horsegram: 4418.0k",
          "maize: 4.0k",
          "wheat: 2407.0k, <br> maize: 2407.0k",
          "rice: 963.0k, <br> maize: 963.0k, <br> horsegram: 677.0k, ",
          "rice: 4.0k, <br> wheat: 4.0k, <br> maize: 4.0k",
          "wheat: 221.0k, <br> potato: 221.0k",
          "wheat: 1076.0k, <br> horsegram: 1076.0k, <br> potato: 1076.0k",
          "rice: 30.0k",
          "wheat: 1222.0k",
          "wheat: 176.0k, <br> potato: 176.0k",
          "rice: 298.0k, <br> wheat: 298.0k, <br> potato: 298.0k",
          "wheat: 4905.0k, <br> maize: 4905.0k, <br> potato: 4905.0k",
          "rice: 1267.0k, <br> maize: 1801.0k, <br> horsegram: 1801.0k, ",
          "rice: 2042.0k, <br> wheat: 1437.0k, <br> maize: 2042.0k, ",
          "rice: 5.0k",
          "wheat: 4291.0k, <br> maize: 4291.0k, <br> soyabean: 4291.0k"
         ],
         "textfont": {
          "color": "darkred",
          "size": 8
         },
         "type": "scattergeo"
        }
       ],
       "layout": {
        "geo": {
         "fitbounds": "locations",
         "visible": false
        },
        "height": 1200,
        "margin": {
         "b": 0,
         "l": 0,
         "r": 0,
         "t": 0
        },
        "template": {
         "data": {
          "bar": [
           {
            "error_x": {
             "color": "#2a3f5f"
            },
            "error_y": {
             "color": "#2a3f5f"
            },
            "marker": {
             "line": {
              "color": "#E5ECF6",
              "width": 0.5
             },
             "pattern": {
              "fillmode": "overlay",
              "size": 10,
              "solidity": 0.2
             }
            },
            "type": "bar"
           }
          ],
          "barpolar": [
           {
            "marker": {
             "line": {
              "color": "#E5ECF6",
              "width": 0.5
             },
             "pattern": {
              "fillmode": "overlay",
              "size": 10,
              "solidity": 0.2
             }
            },
            "type": "barpolar"
           }
          ],
          "carpet": [
           {
            "aaxis": {
             "endlinecolor": "#2a3f5f",
             "gridcolor": "white",
             "linecolor": "white",
             "minorgridcolor": "white",
             "startlinecolor": "#2a3f5f"
            },
            "baxis": {
             "endlinecolor": "#2a3f5f",
             "gridcolor": "white",
             "linecolor": "white",
             "minorgridcolor": "white",
             "startlinecolor": "#2a3f5f"
            },
            "type": "carpet"
           }
          ],
          "choropleth": [
           {
            "colorbar": {
             "outlinewidth": 0,
             "ticks": ""
            },
            "type": "choropleth"
           }
          ],
          "contour": [
           {
            "colorbar": {
             "outlinewidth": 0,
             "ticks": ""
            },
            "colorscale": [
             [
              0,
              "#0d0887"
             ],
             [
              0.1111111111111111,
              "#46039f"
             ],
             [
              0.2222222222222222,
              "#7201a8"
             ],
             [
              0.3333333333333333,
              "#9c179e"
             ],
             [
              0.4444444444444444,
              "#bd3786"
             ],
             [
              0.5555555555555556,
              "#d8576b"
             ],
             [
              0.6666666666666666,
              "#ed7953"
             ],
             [
              0.7777777777777778,
              "#fb9f3a"
             ],
             [
              0.8888888888888888,
              "#fdca26"
             ],
             [
              1,
              "#f0f921"
             ]
            ],
            "type": "contour"
           }
          ],
          "contourcarpet": [
           {
            "colorbar": {
             "outlinewidth": 0,
             "ticks": ""
            },
            "type": "contourcarpet"
           }
          ],
          "heatmap": [
           {
            "colorbar": {
             "outlinewidth": 0,
             "ticks": ""
            },
            "colorscale": [
             [
              0,
              "#0d0887"
             ],
             [
              0.1111111111111111,
              "#46039f"
             ],
             [
              0.2222222222222222,
              "#7201a8"
             ],
             [
              0.3333333333333333,
              "#9c179e"
             ],
             [
              0.4444444444444444,
              "#bd3786"
             ],
             [
              0.5555555555555556,
              "#d8576b"
             ],
             [
              0.6666666666666666,
              "#ed7953"
             ],
             [
              0.7777777777777778,
              "#fb9f3a"
             ],
             [
              0.8888888888888888,
              "#fdca26"
             ],
             [
              1,
              "#f0f921"
             ]
            ],
            "type": "heatmap"
           }
          ],
          "heatmapgl": [
           {
            "colorbar": {
             "outlinewidth": 0,
             "ticks": ""
            },
            "colorscale": [
             [
              0,
              "#0d0887"
             ],
             [
              0.1111111111111111,
              "#46039f"
             ],
             [
              0.2222222222222222,
              "#7201a8"
             ],
             [
              0.3333333333333333,
              "#9c179e"
             ],
             [
              0.4444444444444444,
              "#bd3786"
             ],
             [
              0.5555555555555556,
              "#d8576b"
             ],
             [
              0.6666666666666666,
              "#ed7953"
             ],
             [
              0.7777777777777778,
              "#fb9f3a"
             ],
             [
              0.8888888888888888,
              "#fdca26"
             ],
             [
              1,
              "#f0f921"
             ]
            ],
            "type": "heatmapgl"
           }
          ],
          "histogram": [
           {
            "marker": {
             "pattern": {
              "fillmode": "overlay",
              "size": 10,
              "solidity": 0.2
             }
            },
            "type": "histogram"
           }
          ],
          "histogram2d": [
           {
            "colorbar": {
             "outlinewidth": 0,
             "ticks": ""
            },
            "colorscale": [
             [
              0,
              "#0d0887"
             ],
             [
              0.1111111111111111,
              "#46039f"
             ],
             [
              0.2222222222222222,
              "#7201a8"
             ],
             [
              0.3333333333333333,
              "#9c179e"
             ],
             [
              0.4444444444444444,
              "#bd3786"
             ],
             [
              0.5555555555555556,
              "#d8576b"
             ],
             [
              0.6666666666666666,
              "#ed7953"
             ],
             [
              0.7777777777777778,
              "#fb9f3a"
             ],
             [
              0.8888888888888888,
              "#fdca26"
             ],
             [
              1,
              "#f0f921"
             ]
            ],
            "type": "histogram2d"
           }
          ],
          "histogram2dcontour": [
           {
            "colorbar": {
             "outlinewidth": 0,
             "ticks": ""
            },
            "colorscale": [
             [
              0,
              "#0d0887"
             ],
             [
              0.1111111111111111,
              "#46039f"
             ],
             [
              0.2222222222222222,
              "#7201a8"
             ],
             [
              0.3333333333333333,
              "#9c179e"
             ],
             [
              0.4444444444444444,
              "#bd3786"
             ],
             [
              0.5555555555555556,
              "#d8576b"
             ],
             [
              0.6666666666666666,
              "#ed7953"
             ],
             [
              0.7777777777777778,
              "#fb9f3a"
             ],
             [
              0.8888888888888888,
              "#fdca26"
             ],
             [
              1,
              "#f0f921"
             ]
            ],
            "type": "histogram2dcontour"
           }
          ],
          "mesh3d": [
           {
            "colorbar": {
             "outlinewidth": 0,
             "ticks": ""
            },
            "type": "mesh3d"
           }
          ],
          "parcoords": [
           {
            "line": {
             "colorbar": {
              "outlinewidth": 0,
              "ticks": ""
             }
            },
            "type": "parcoords"
           }
          ],
          "pie": [
           {
            "automargin": true,
            "type": "pie"
           }
          ],
          "scatter": [
           {
            "fillpattern": {
             "fillmode": "overlay",
             "size": 10,
             "solidity": 0.2
            },
            "type": "scatter"
           }
          ],
          "scatter3d": [
           {
            "line": {
             "colorbar": {
              "outlinewidth": 0,
              "ticks": ""
             }
            },
            "marker": {
             "colorbar": {
              "outlinewidth": 0,
              "ticks": ""
             }
            },
            "type": "scatter3d"
           }
          ],
          "scattercarpet": [
           {
            "marker": {
             "colorbar": {
              "outlinewidth": 0,
              "ticks": ""
             }
            },
            "type": "scattercarpet"
           }
          ],
          "scattergeo": [
           {
            "marker": {
             "colorbar": {
              "outlinewidth": 0,
              "ticks": ""
             }
            },
            "type": "scattergeo"
           }
          ],
          "scattergl": [
           {
            "marker": {
             "colorbar": {
              "outlinewidth": 0,
              "ticks": ""
             }
            },
            "type": "scattergl"
           }
          ],
          "scattermapbox": [
           {
            "marker": {
             "colorbar": {
              "outlinewidth": 0,
              "ticks": ""
             }
            },
            "type": "scattermapbox"
           }
          ],
          "scatterpolar": [
           {
            "marker": {
             "colorbar": {
              "outlinewidth": 0,
              "ticks": ""
             }
            },
            "type": "scatterpolar"
           }
          ],
          "scatterpolargl": [
           {
            "marker": {
             "colorbar": {
              "outlinewidth": 0,
              "ticks": ""
             }
            },
            "type": "scatterpolargl"
           }
          ],
          "scatterternary": [
           {
            "marker": {
             "colorbar": {
              "outlinewidth": 0,
              "ticks": ""
             }
            },
            "type": "scatterternary"
           }
          ],
          "surface": [
           {
            "colorbar": {
             "outlinewidth": 0,
             "ticks": ""
            },
            "colorscale": [
             [
              0,
              "#0d0887"
             ],
             [
              0.1111111111111111,
              "#46039f"
             ],
             [
              0.2222222222222222,
              "#7201a8"
             ],
             [
              0.3333333333333333,
              "#9c179e"
             ],
             [
              0.4444444444444444,
              "#bd3786"
             ],
             [
              0.5555555555555556,
              "#d8576b"
             ],
             [
              0.6666666666666666,
              "#ed7953"
             ],
             [
              0.7777777777777778,
              "#fb9f3a"
             ],
             [
              0.8888888888888888,
              "#fdca26"
             ],
             [
              1,
              "#f0f921"
             ]
            ],
            "type": "surface"
           }
          ],
          "table": [
           {
            "cells": {
             "fill": {
              "color": "#EBF0F8"
             },
             "line": {
              "color": "white"
             }
            },
            "header": {
             "fill": {
              "color": "#C8D4E3"
             },
             "line": {
              "color": "white"
             }
            },
            "type": "table"
           }
          ]
         },
         "layout": {
          "annotationdefaults": {
           "arrowcolor": "#2a3f5f",
           "arrowhead": 0,
           "arrowwidth": 1
          },
          "autotypenumbers": "strict",
          "coloraxis": {
           "colorbar": {
            "outlinewidth": 0,
            "ticks": ""
           }
          },
          "colorscale": {
           "diverging": [
            [
             0,
             "#8e0152"
            ],
            [
             0.1,
             "#c51b7d"
            ],
            [
             0.2,
             "#de77ae"
            ],
            [
             0.3,
             "#f1b6da"
            ],
            [
             0.4,
             "#fde0ef"
            ],
            [
             0.5,
             "#f7f7f7"
            ],
            [
             0.6,
             "#e6f5d0"
            ],
            [
             0.7,
             "#b8e186"
            ],
            [
             0.8,
             "#7fbc41"
            ],
            [
             0.9,
             "#4d9221"
            ],
            [
             1,
             "#276419"
            ]
           ],
           "sequential": [
            [
             0,
             "#0d0887"
            ],
            [
             0.1111111111111111,
             "#46039f"
            ],
            [
             0.2222222222222222,
             "#7201a8"
            ],
            [
             0.3333333333333333,
             "#9c179e"
            ],
            [
             0.4444444444444444,
             "#bd3786"
            ],
            [
             0.5555555555555556,
             "#d8576b"
            ],
            [
             0.6666666666666666,
             "#ed7953"
            ],
            [
             0.7777777777777778,
             "#fb9f3a"
            ],
            [
             0.8888888888888888,
             "#fdca26"
            ],
            [
             1,
             "#f0f921"
            ]
           ],
           "sequentialminus": [
            [
             0,
             "#0d0887"
            ],
            [
             0.1111111111111111,
             "#46039f"
            ],
            [
             0.2222222222222222,
             "#7201a8"
            ],
            [
             0.3333333333333333,
             "#9c179e"
            ],
            [
             0.4444444444444444,
             "#bd3786"
            ],
            [
             0.5555555555555556,
             "#d8576b"
            ],
            [
             0.6666666666666666,
             "#ed7953"
            ],
            [
             0.7777777777777778,
             "#fb9f3a"
            ],
            [
             0.8888888888888888,
             "#fdca26"
            ],
            [
             1,
             "#f0f921"
            ]
           ]
          },
          "colorway": [
           "#636efa",
           "#EF553B",
           "#00cc96",
           "#ab63fa",
           "#FFA15A",
           "#19d3f3",
           "#FF6692",
           "#B6E880",
           "#FF97FF",
           "#FECB52"
          ],
          "font": {
           "color": "#2a3f5f"
          },
          "geo": {
           "bgcolor": "white",
           "lakecolor": "white",
           "landcolor": "#E5ECF6",
           "showlakes": true,
           "showland": true,
           "subunitcolor": "white"
          },
          "hoverlabel": {
           "align": "left"
          },
          "hovermode": "closest",
          "mapbox": {
           "style": "light"
          },
          "paper_bgcolor": "white",
          "plot_bgcolor": "#E5ECF6",
          "polar": {
           "angularaxis": {
            "gridcolor": "white",
            "linecolor": "white",
            "ticks": ""
           },
           "bgcolor": "#E5ECF6",
           "radialaxis": {
            "gridcolor": "white",
            "linecolor": "white",
            "ticks": ""
           }
          },
          "scene": {
           "xaxis": {
            "backgroundcolor": "#E5ECF6",
            "gridcolor": "white",
            "gridwidth": 2,
            "linecolor": "white",
            "showbackground": true,
            "ticks": "",
            "zerolinecolor": "white"
           },
           "yaxis": {
            "backgroundcolor": "#E5ECF6",
            "gridcolor": "white",
            "gridwidth": 2,
            "linecolor": "white",
            "showbackground": true,
            "ticks": "",
            "zerolinecolor": "white"
           },
           "zaxis": {
            "backgroundcolor": "#E5ECF6",
            "gridcolor": "white",
            "gridwidth": 2,
            "linecolor": "white",
            "showbackground": true,
            "ticks": "",
            "zerolinecolor": "white"
           }
          },
          "shapedefaults": {
           "line": {
            "color": "#2a3f5f"
           }
          },
          "ternary": {
           "aaxis": {
            "gridcolor": "white",
            "linecolor": "white",
            "ticks": ""
           },
           "baxis": {
            "gridcolor": "white",
            "linecolor": "white",
            "ticks": ""
           },
           "bgcolor": "#E5ECF6",
           "caxis": {
            "gridcolor": "white",
            "linecolor": "white",
            "ticks": ""
           }
          },
          "title": {
           "x": 0.05
          },
          "xaxis": {
           "automargin": true,
           "gridcolor": "white",
           "linecolor": "white",
           "ticks": "",
           "title": {
            "standoff": 15
           },
           "zerolinecolor": "white",
           "zerolinewidth": 2
          },
          "yaxis": {
           "automargin": true,
           "gridcolor": "white",
           "linecolor": "white",
           "ticks": "",
           "title": {
            "standoff": 15
           },
           "zerolinecolor": "white",
           "zerolinewidth": 2
          }
         }
        },
        "width": 1800
       }
      }
     },
     "metadata": {},
     "output_type": "display_data"
    }
   ],
   "source": [
    "import plotly.graph_objects as go\n",
    "import geopandas as gpd\n",
    "import kaleido\n",
    "\n",
    "# 读取地理数据\n",
    "geojson_url = \"https://gist.githubusercontent.com/jbrobst/56c13bbbf9d97d187fea01ca62ea5112/raw/e388c4cae20aa53cb5090210a42ebb9b765c0a36/india_states.geojson\"\n",
    "geo_df = gpd.read_file(geojson_url)\n",
    "\n",
    "geo_df\n",
    "\n",
    "# 使用 m1_Kharif 数据合并地理数据\n",
    "geo_df = geo_df.merge(m1_Rabi_combined, left_on=\"ST_NM\", right_on=\"state\")\n",
    "\n",
    "# 创建 Choropleth 图层\n",
    "fig = go.Figure(\n",
    "    data=go.Choropleth(\n",
    "        geojson=geojson_url,\n",
    "        featureidkey=\"properties.ST_NM\",\n",
    "        locations=geo_df[\"state\"],\n",
    "        z=geo_df[\"value\"],  # 使用 'value' 作为区分的依据\n",
    "        text=geo_df[\"text\"],  # 使用合并的 'text' 列\n",
    "        colorscale=[\"white\", \"white\"],  # 更改色阶以更好地显示数据\n",
    "        hoverinfo=\"location+text\",\n",
    "        marker_line_color=\"brown\",\n",
    "    )\n",
    ")\n",
    "\n",
    "# 计算每个州的中心点坐标\n",
    "geo_df[\"center\"] = geo_df[\"geometry\"].centroid\n",
    "geo_df[\"lon\"] = geo_df[\"center\"].apply(lambda p: p.x)\n",
    "geo_df[\"lat\"] = geo_df[\"center\"].apply(lambda p: p.y)\n",
    "\n",
    "# 添加散点图层以固定显示文本\n",
    "fig.add_trace(\n",
    "    go.Scattergeo(\n",
    "        lon=geo_df[\"lon\"],\n",
    "        lat=geo_df[\"lat\"],\n",
    "        text=geo_df[\"text\"],\n",
    "        mode=\"text\",\n",
    "        textfont=dict(size=8, color=\"darkred\"),  # 设置字体大小，您可以根据需要调整\n",
    "    )\n",
    ")\n",
    "\n",
    "fig.update_geos(fitbounds=\"locations\", visible=False)\n",
    "\n",
    "fig.update_layout(\n",
    "    width=1800,  # 宽度, 您可以根据需要调整\n",
    "    height=1200,  # 高度, 您可以根据需要调整\n",
    "    margin={\"r\": 0, \"t\": 0, \"l\": 0, \"b\": 0},\n",
    ")\n",
    "fig.show()\n",
    "fig.write_image(\"model1_Rabi.png\", scale=2)"
   ]
  },
  {
   "cell_type": "code",
   "execution_count": 64,
   "metadata": {},
   "outputs": [
    {
     "name": "stderr",
     "output_type": "stream",
     "text": [
      "C:\\Users\\redhawc\\AppData\\Local\\Temp\\ipykernel_55160\\3919667804.py:25: UserWarning:\n",
      "\n",
      "Geometry is in a geographic CRS. Results from 'centroid' are likely incorrect. Use 'GeoSeries.to_crs()' to re-project geometries to a projected CRS before this operation.\n",
      "\n",
      "\n"
     ]
    },
    {
     "data": {
      "application/vnd.plotly.v1+json": {
       "config": {
        "plotlyServerURL": "https://plot.ly"
       },
       "data": [
        {
         "colorscale": [
          [
           0,
           "lightgrey"
          ],
          [
           1,
           "green"
          ]
         ],
         "featureidkey": "properties.ST_NM",
         "geojson": "https://gist.githubusercontent.com/jbrobst/56c13bbbf9d97d187fea01ca62ea5112/raw/e388c4cae20aa53cb5090210a42ebb9b765c0a36/india_states.geojson",
         "hoverinfo": "location+text",
         "locations": [
          "Arunachal Pradesh",
          "Assam",
          "Chandigarh",
          "Karnataka",
          "Manipur",
          "Meghalaya",
          "Punjab",
          "Rajasthan",
          "Sikkim",
          "Tripura",
          "Uttarakhand",
          "Telangana",
          "Madhya Pradesh",
          "Gujarat",
          "Odisha",
          "Dadra and Nagar Haveli and Daman and Diu",
          "Jammu & Kashmir",
          "Haryana",
          "Himachal Pradesh",
          "Jharkhand",
          "Uttar Pradesh",
          "Andhra Pradesh",
          "Maharashtra"
         ],
         "marker": {
          "line": {
           "color": "brown"
          }
         },
         "text": [
          "Rotation Benifit:<br>wheat: 52920<br>Area Size:<br>wheat: 53.0k",
          "Rotation Benifit:<br>wheat: 776459.25<br>Area Size:<br>rice: 776.0k, <br> wheat: 776.0k",
          "Rotation Benifit:<br>wheat: 378<br>Area Size:<br>wheat: 0.0k",
          "Rotation Benifit:<br>cotton: 2283167.25<br>Area Size:<br>rice: 1607.0k, <br> cotton: 2283.0k, <br> maize: 2283.0k, ",
          "Rotation Benifit:<br>cotton: 67756.5<br>Area Size:<br>rice: 68.0k, <br> cotton: 68.0k, <br> potato: 68.0k, ",
          "Rotation Benifit:<br>cotton: 45386.25<br>Area Size:<br>rice: 64.0k, <br> cotton: 45.0k, <br> jute: 64.0k, ",
          "Rotation Benifit:<br>wheat: 1487430<br>Area Size:<br>wheat: 1487.0k",
          "Rotation Benifit:<br>wheat: 4668961.5<br>Area Size:<br>wheat: 4669.0k",
          "Rotation Benifit:<br>wheat: 26649<br>Area Size:<br>wheat: 27.0k",
          "Rotation Benifit:<br>wheat: 89916.75<br>Area Size:<br>wheat: 90.0k",
          "Rotation Benifit:<br>wheat: 210357<br>Area Size:<br>rice: 210.0k, <br> wheat: 210.0k, <br> maize: 148.0k, ",
          "Rotation Benifit:<br>wheat: 1096483.5<br>Area Size:<br>rice: 1096.0k, <br> wheat: 1096.0k, <br> maize: 1096.0k, ",
          "Rotation Benifit:<br>wheat: 4418016.75<br>Area Size:<br>wheat: 4418.0k, <br> horsegram: 4418.0k",
          "Rotation Benifit:<br>wheat: 2407198.5<br>Area Size:<br>wheat: 2407.0k, <br> maize: 2407.0k",
          "Rotation Benifit:<br>wheat: 677435.500  962671.500<br>Area Size:<br>rice: 963.0k, <br> maize: 963.0k, <br> horsegram: 677.0k, ",
          "Rotation Benifit:<br>wheat: 4488.75<br>Area Size:<br>rice: 4.0k, <br> wheat: 4.0k, <br> maize: 4.0k",
          "Rotation Benifit:<br>wheat: 221082.75<br>Area Size:<br>wheat: 221.0k, <br> potato: 221.0k",
          "Rotation Benifit:<br>wheat: 1222452<br>Area Size:<br>wheat: 1222.0k",
          "Rotation Benifit:<br>wheat: 175959<br>Area Size:<br>wheat: 176.0k, <br> potato: 176.0k",
          "Rotation Benifit:<br>wheat: 298289.25<br>Area Size:<br>rice: 298.0k, <br> wheat: 298.0k, <br> potato: 298.0k",
          "Rotation Benifit:<br>wheat: 4904691.75<br>Area Size:<br>wheat: 4905.0k, <br> maize: 4905.0k, <br> potato: 4905.0k",
          "Rotation Benifit:<br>wheat: 1437297.75<br>Area Size:<br>rice: 2042.0k, <br> wheat: 1437.0k, <br> maize: 2042.0k, ",
          "Rotation Benifit:<br>wheat: 4291481.25<br>soyabean: 4291481.25<br>Area Size:<br>wheat: 4291.0k, <br> maize: 4291.0k, <br> soyabean: 4291.0k"
         ],
         "type": "choropleth",
         "z": [
          "52920",
          "776459.25",
          "378",
          "2283167.25",
          "67756.5",
          "45386.25",
          "1487430",
          "4668961.5",
          "26649",
          "89916.75",
          "210357",
          "1096483.5",
          "4418016.75",
          "2407198.5",
          "677435.500  962671.500",
          "4488.75",
          "221082.75",
          "1222452",
          "175959",
          "298289.25",
          "4904691.75",
          "1437297.75",
          "4291481.25"
         ]
        },
        {
         "lat": [
          28.036066389221745,
          26.35497847998204,
          30.728361392535774,
          14.710405551302284,
          24.735076113494813,
          25.53557728306151,
          30.842226635713363,
          26.584407666563767,
          27.569923150949375,
          23.745137620836996,
          30.156611868236627,
          17.80072036096087,
          23.538135963929847,
          22.69839433488582,
          20.513987029808025,
          20.242551887312832,
          33.64511955131811,
          29.198138148009594,
          31.926225889963035,
          23.65613966615685,
          26.923298352608214,
          15.756113460734964,
          19.451500358423914
         ],
         "lon": [
          94.6748326791631,
          92.82634309387305,
          76.78078044460244,
          76.16747452915338,
          93.87884193997611,
          91.27735620953041,
          75.41580388296326,
          73.84984184046439,
          88.47340321820725,
          91.73906864094313,
          79.20658342280629,
          79.00868646725074,
          78.28915293669499,
          71.57222579220684,
          84.43061890111004,
          72.93083224907231,
          74.85839980588838,
          76.34018047967007,
          77.24450791093216,
          85.56363713960563,
          80.566053063026,
          79.96564733254941,
          76.10751008526249
         ],
         "mode": "text",
         "text": [
          "Rotation Benifit:<br>wheat: 52920<br>Area Size:<br>wheat: 53.0k",
          "Rotation Benifit:<br>wheat: 776459.25<br>Area Size:<br>rice: 776.0k, <br> wheat: 776.0k",
          "Rotation Benifit:<br>wheat: 378<br>Area Size:<br>wheat: 0.0k",
          "Rotation Benifit:<br>cotton: 2283167.25<br>Area Size:<br>rice: 1607.0k, <br> cotton: 2283.0k, <br> maize: 2283.0k, ",
          "Rotation Benifit:<br>cotton: 67756.5<br>Area Size:<br>rice: 68.0k, <br> cotton: 68.0k, <br> potato: 68.0k, ",
          "Rotation Benifit:<br>cotton: 45386.25<br>Area Size:<br>rice: 64.0k, <br> cotton: 45.0k, <br> jute: 64.0k, ",
          "Rotation Benifit:<br>wheat: 1487430<br>Area Size:<br>wheat: 1487.0k",
          "Rotation Benifit:<br>wheat: 4668961.5<br>Area Size:<br>wheat: 4669.0k",
          "Rotation Benifit:<br>wheat: 26649<br>Area Size:<br>wheat: 27.0k",
          "Rotation Benifit:<br>wheat: 89916.75<br>Area Size:<br>wheat: 90.0k",
          "Rotation Benifit:<br>wheat: 210357<br>Area Size:<br>rice: 210.0k, <br> wheat: 210.0k, <br> maize: 148.0k, ",
          "Rotation Benifit:<br>wheat: 1096483.5<br>Area Size:<br>rice: 1096.0k, <br> wheat: 1096.0k, <br> maize: 1096.0k, ",
          "Rotation Benifit:<br>wheat: 4418016.75<br>Area Size:<br>wheat: 4418.0k, <br> horsegram: 4418.0k",
          "Rotation Benifit:<br>wheat: 2407198.5<br>Area Size:<br>wheat: 2407.0k, <br> maize: 2407.0k",
          "Rotation Benifit:<br>wheat: 677435.500  962671.500<br>Area Size:<br>rice: 963.0k, <br> maize: 963.0k, <br> horsegram: 677.0k, ",
          "Rotation Benifit:<br>wheat: 4488.75<br>Area Size:<br>rice: 4.0k, <br> wheat: 4.0k, <br> maize: 4.0k",
          "Rotation Benifit:<br>wheat: 221082.75<br>Area Size:<br>wheat: 221.0k, <br> potato: 221.0k",
          "Rotation Benifit:<br>wheat: 1222452<br>Area Size:<br>wheat: 1222.0k",
          "Rotation Benifit:<br>wheat: 175959<br>Area Size:<br>wheat: 176.0k, <br> potato: 176.0k",
          "Rotation Benifit:<br>wheat: 298289.25<br>Area Size:<br>rice: 298.0k, <br> wheat: 298.0k, <br> potato: 298.0k",
          "Rotation Benifit:<br>wheat: 4904691.75<br>Area Size:<br>wheat: 4905.0k, <br> maize: 4905.0k, <br> potato: 4905.0k",
          "Rotation Benifit:<br>wheat: 1437297.75<br>Area Size:<br>rice: 2042.0k, <br> wheat: 1437.0k, <br> maize: 2042.0k, ",
          "Rotation Benifit:<br>wheat: 4291481.25<br>soyabean: 4291481.25<br>Area Size:<br>wheat: 4291.0k, <br> maize: 4291.0k, <br> soyabean: 4291.0k"
         ],
         "textfont": {
          "color": "darkgreen",
          "size": 6
         },
         "type": "scattergeo"
        }
       ],
       "layout": {
        "geo": {
         "fitbounds": "locations",
         "visible": false
        },
        "height": 1200,
        "margin": {
         "b": 0,
         "l": 0,
         "r": 0,
         "t": 0
        },
        "template": {
         "data": {
          "bar": [
           {
            "error_x": {
             "color": "#2a3f5f"
            },
            "error_y": {
             "color": "#2a3f5f"
            },
            "marker": {
             "line": {
              "color": "#E5ECF6",
              "width": 0.5
             },
             "pattern": {
              "fillmode": "overlay",
              "size": 10,
              "solidity": 0.2
             }
            },
            "type": "bar"
           }
          ],
          "barpolar": [
           {
            "marker": {
             "line": {
              "color": "#E5ECF6",
              "width": 0.5
             },
             "pattern": {
              "fillmode": "overlay",
              "size": 10,
              "solidity": 0.2
             }
            },
            "type": "barpolar"
           }
          ],
          "carpet": [
           {
            "aaxis": {
             "endlinecolor": "#2a3f5f",
             "gridcolor": "white",
             "linecolor": "white",
             "minorgridcolor": "white",
             "startlinecolor": "#2a3f5f"
            },
            "baxis": {
             "endlinecolor": "#2a3f5f",
             "gridcolor": "white",
             "linecolor": "white",
             "minorgridcolor": "white",
             "startlinecolor": "#2a3f5f"
            },
            "type": "carpet"
           }
          ],
          "choropleth": [
           {
            "colorbar": {
             "outlinewidth": 0,
             "ticks": ""
            },
            "type": "choropleth"
           }
          ],
          "contour": [
           {
            "colorbar": {
             "outlinewidth": 0,
             "ticks": ""
            },
            "colorscale": [
             [
              0,
              "#0d0887"
             ],
             [
              0.1111111111111111,
              "#46039f"
             ],
             [
              0.2222222222222222,
              "#7201a8"
             ],
             [
              0.3333333333333333,
              "#9c179e"
             ],
             [
              0.4444444444444444,
              "#bd3786"
             ],
             [
              0.5555555555555556,
              "#d8576b"
             ],
             [
              0.6666666666666666,
              "#ed7953"
             ],
             [
              0.7777777777777778,
              "#fb9f3a"
             ],
             [
              0.8888888888888888,
              "#fdca26"
             ],
             [
              1,
              "#f0f921"
             ]
            ],
            "type": "contour"
           }
          ],
          "contourcarpet": [
           {
            "colorbar": {
             "outlinewidth": 0,
             "ticks": ""
            },
            "type": "contourcarpet"
           }
          ],
          "heatmap": [
           {
            "colorbar": {
             "outlinewidth": 0,
             "ticks": ""
            },
            "colorscale": [
             [
              0,
              "#0d0887"
             ],
             [
              0.1111111111111111,
              "#46039f"
             ],
             [
              0.2222222222222222,
              "#7201a8"
             ],
             [
              0.3333333333333333,
              "#9c179e"
             ],
             [
              0.4444444444444444,
              "#bd3786"
             ],
             [
              0.5555555555555556,
              "#d8576b"
             ],
             [
              0.6666666666666666,
              "#ed7953"
             ],
             [
              0.7777777777777778,
              "#fb9f3a"
             ],
             [
              0.8888888888888888,
              "#fdca26"
             ],
             [
              1,
              "#f0f921"
             ]
            ],
            "type": "heatmap"
           }
          ],
          "heatmapgl": [
           {
            "colorbar": {
             "outlinewidth": 0,
             "ticks": ""
            },
            "colorscale": [
             [
              0,
              "#0d0887"
             ],
             [
              0.1111111111111111,
              "#46039f"
             ],
             [
              0.2222222222222222,
              "#7201a8"
             ],
             [
              0.3333333333333333,
              "#9c179e"
             ],
             [
              0.4444444444444444,
              "#bd3786"
             ],
             [
              0.5555555555555556,
              "#d8576b"
             ],
             [
              0.6666666666666666,
              "#ed7953"
             ],
             [
              0.7777777777777778,
              "#fb9f3a"
             ],
             [
              0.8888888888888888,
              "#fdca26"
             ],
             [
              1,
              "#f0f921"
             ]
            ],
            "type": "heatmapgl"
           }
          ],
          "histogram": [
           {
            "marker": {
             "pattern": {
              "fillmode": "overlay",
              "size": 10,
              "solidity": 0.2
             }
            },
            "type": "histogram"
           }
          ],
          "histogram2d": [
           {
            "colorbar": {
             "outlinewidth": 0,
             "ticks": ""
            },
            "colorscale": [
             [
              0,
              "#0d0887"
             ],
             [
              0.1111111111111111,
              "#46039f"
             ],
             [
              0.2222222222222222,
              "#7201a8"
             ],
             [
              0.3333333333333333,
              "#9c179e"
             ],
             [
              0.4444444444444444,
              "#bd3786"
             ],
             [
              0.5555555555555556,
              "#d8576b"
             ],
             [
              0.6666666666666666,
              "#ed7953"
             ],
             [
              0.7777777777777778,
              "#fb9f3a"
             ],
             [
              0.8888888888888888,
              "#fdca26"
             ],
             [
              1,
              "#f0f921"
             ]
            ],
            "type": "histogram2d"
           }
          ],
          "histogram2dcontour": [
           {
            "colorbar": {
             "outlinewidth": 0,
             "ticks": ""
            },
            "colorscale": [
             [
              0,
              "#0d0887"
             ],
             [
              0.1111111111111111,
              "#46039f"
             ],
             [
              0.2222222222222222,
              "#7201a8"
             ],
             [
              0.3333333333333333,
              "#9c179e"
             ],
             [
              0.4444444444444444,
              "#bd3786"
             ],
             [
              0.5555555555555556,
              "#d8576b"
             ],
             [
              0.6666666666666666,
              "#ed7953"
             ],
             [
              0.7777777777777778,
              "#fb9f3a"
             ],
             [
              0.8888888888888888,
              "#fdca26"
             ],
             [
              1,
              "#f0f921"
             ]
            ],
            "type": "histogram2dcontour"
           }
          ],
          "mesh3d": [
           {
            "colorbar": {
             "outlinewidth": 0,
             "ticks": ""
            },
            "type": "mesh3d"
           }
          ],
          "parcoords": [
           {
            "line": {
             "colorbar": {
              "outlinewidth": 0,
              "ticks": ""
             }
            },
            "type": "parcoords"
           }
          ],
          "pie": [
           {
            "automargin": true,
            "type": "pie"
           }
          ],
          "scatter": [
           {
            "fillpattern": {
             "fillmode": "overlay",
             "size": 10,
             "solidity": 0.2
            },
            "type": "scatter"
           }
          ],
          "scatter3d": [
           {
            "line": {
             "colorbar": {
              "outlinewidth": 0,
              "ticks": ""
             }
            },
            "marker": {
             "colorbar": {
              "outlinewidth": 0,
              "ticks": ""
             }
            },
            "type": "scatter3d"
           }
          ],
          "scattercarpet": [
           {
            "marker": {
             "colorbar": {
              "outlinewidth": 0,
              "ticks": ""
             }
            },
            "type": "scattercarpet"
           }
          ],
          "scattergeo": [
           {
            "marker": {
             "colorbar": {
              "outlinewidth": 0,
              "ticks": ""
             }
            },
            "type": "scattergeo"
           }
          ],
          "scattergl": [
           {
            "marker": {
             "colorbar": {
              "outlinewidth": 0,
              "ticks": ""
             }
            },
            "type": "scattergl"
           }
          ],
          "scattermapbox": [
           {
            "marker": {
             "colorbar": {
              "outlinewidth": 0,
              "ticks": ""
             }
            },
            "type": "scattermapbox"
           }
          ],
          "scatterpolar": [
           {
            "marker": {
             "colorbar": {
              "outlinewidth": 0,
              "ticks": ""
             }
            },
            "type": "scatterpolar"
           }
          ],
          "scatterpolargl": [
           {
            "marker": {
             "colorbar": {
              "outlinewidth": 0,
              "ticks": ""
             }
            },
            "type": "scatterpolargl"
           }
          ],
          "scatterternary": [
           {
            "marker": {
             "colorbar": {
              "outlinewidth": 0,
              "ticks": ""
             }
            },
            "type": "scatterternary"
           }
          ],
          "surface": [
           {
            "colorbar": {
             "outlinewidth": 0,
             "ticks": ""
            },
            "colorscale": [
             [
              0,
              "#0d0887"
             ],
             [
              0.1111111111111111,
              "#46039f"
             ],
             [
              0.2222222222222222,
              "#7201a8"
             ],
             [
              0.3333333333333333,
              "#9c179e"
             ],
             [
              0.4444444444444444,
              "#bd3786"
             ],
             [
              0.5555555555555556,
              "#d8576b"
             ],
             [
              0.6666666666666666,
              "#ed7953"
             ],
             [
              0.7777777777777778,
              "#fb9f3a"
             ],
             [
              0.8888888888888888,
              "#fdca26"
             ],
             [
              1,
              "#f0f921"
             ]
            ],
            "type": "surface"
           }
          ],
          "table": [
           {
            "cells": {
             "fill": {
              "color": "#EBF0F8"
             },
             "line": {
              "color": "white"
             }
            },
            "header": {
             "fill": {
              "color": "#C8D4E3"
             },
             "line": {
              "color": "white"
             }
            },
            "type": "table"
           }
          ]
         },
         "layout": {
          "annotationdefaults": {
           "arrowcolor": "#2a3f5f",
           "arrowhead": 0,
           "arrowwidth": 1
          },
          "autotypenumbers": "strict",
          "coloraxis": {
           "colorbar": {
            "outlinewidth": 0,
            "ticks": ""
           }
          },
          "colorscale": {
           "diverging": [
            [
             0,
             "#8e0152"
            ],
            [
             0.1,
             "#c51b7d"
            ],
            [
             0.2,
             "#de77ae"
            ],
            [
             0.3,
             "#f1b6da"
            ],
            [
             0.4,
             "#fde0ef"
            ],
            [
             0.5,
             "#f7f7f7"
            ],
            [
             0.6,
             "#e6f5d0"
            ],
            [
             0.7,
             "#b8e186"
            ],
            [
             0.8,
             "#7fbc41"
            ],
            [
             0.9,
             "#4d9221"
            ],
            [
             1,
             "#276419"
            ]
           ],
           "sequential": [
            [
             0,
             "#0d0887"
            ],
            [
             0.1111111111111111,
             "#46039f"
            ],
            [
             0.2222222222222222,
             "#7201a8"
            ],
            [
             0.3333333333333333,
             "#9c179e"
            ],
            [
             0.4444444444444444,
             "#bd3786"
            ],
            [
             0.5555555555555556,
             "#d8576b"
            ],
            [
             0.6666666666666666,
             "#ed7953"
            ],
            [
             0.7777777777777778,
             "#fb9f3a"
            ],
            [
             0.8888888888888888,
             "#fdca26"
            ],
            [
             1,
             "#f0f921"
            ]
           ],
           "sequentialminus": [
            [
             0,
             "#0d0887"
            ],
            [
             0.1111111111111111,
             "#46039f"
            ],
            [
             0.2222222222222222,
             "#7201a8"
            ],
            [
             0.3333333333333333,
             "#9c179e"
            ],
            [
             0.4444444444444444,
             "#bd3786"
            ],
            [
             0.5555555555555556,
             "#d8576b"
            ],
            [
             0.6666666666666666,
             "#ed7953"
            ],
            [
             0.7777777777777778,
             "#fb9f3a"
            ],
            [
             0.8888888888888888,
             "#fdca26"
            ],
            [
             1,
             "#f0f921"
            ]
           ]
          },
          "colorway": [
           "#636efa",
           "#EF553B",
           "#00cc96",
           "#ab63fa",
           "#FFA15A",
           "#19d3f3",
           "#FF6692",
           "#B6E880",
           "#FF97FF",
           "#FECB52"
          ],
          "font": {
           "color": "#2a3f5f"
          },
          "geo": {
           "bgcolor": "white",
           "lakecolor": "white",
           "landcolor": "#E5ECF6",
           "showlakes": true,
           "showland": true,
           "subunitcolor": "white"
          },
          "hoverlabel": {
           "align": "left"
          },
          "hovermode": "closest",
          "mapbox": {
           "style": "light"
          },
          "paper_bgcolor": "white",
          "plot_bgcolor": "#E5ECF6",
          "polar": {
           "angularaxis": {
            "gridcolor": "white",
            "linecolor": "white",
            "ticks": ""
           },
           "bgcolor": "#E5ECF6",
           "radialaxis": {
            "gridcolor": "white",
            "linecolor": "white",
            "ticks": ""
           }
          },
          "scene": {
           "xaxis": {
            "backgroundcolor": "#E5ECF6",
            "gridcolor": "white",
            "gridwidth": 2,
            "linecolor": "white",
            "showbackground": true,
            "ticks": "",
            "zerolinecolor": "white"
           },
           "yaxis": {
            "backgroundcolor": "#E5ECF6",
            "gridcolor": "white",
            "gridwidth": 2,
            "linecolor": "white",
            "showbackground": true,
            "ticks": "",
            "zerolinecolor": "white"
           },
           "zaxis": {
            "backgroundcolor": "#E5ECF6",
            "gridcolor": "white",
            "gridwidth": 2,
            "linecolor": "white",
            "showbackground": true,
            "ticks": "",
            "zerolinecolor": "white"
           }
          },
          "shapedefaults": {
           "line": {
            "color": "#2a3f5f"
           }
          },
          "ternary": {
           "aaxis": {
            "gridcolor": "white",
            "linecolor": "white",
            "ticks": ""
           },
           "baxis": {
            "gridcolor": "white",
            "linecolor": "white",
            "ticks": ""
           },
           "bgcolor": "#E5ECF6",
           "caxis": {
            "gridcolor": "white",
            "linecolor": "white",
            "ticks": ""
           }
          },
          "title": {
           "x": 0.05
          },
          "xaxis": {
           "automargin": true,
           "gridcolor": "white",
           "linecolor": "white",
           "ticks": "",
           "title": {
            "standoff": 15
           },
           "zerolinecolor": "white",
           "zerolinewidth": 2
          },
          "yaxis": {
           "automargin": true,
           "gridcolor": "white",
           "linecolor": "white",
           "ticks": "",
           "title": {
            "standoff": 15
           },
           "zerolinecolor": "white",
           "zerolinewidth": 2
          }
         }
        },
        "width": 1800
       }
      }
     },
     "metadata": {},
     "output_type": "display_data"
    }
   ],
   "source": [
    "import plotly.graph_objects as go\n",
    "import geopandas as gpd\n",
    "\n",
    "# ...（读取地理数据的代码）\n",
    "geojson_url = \"https://gist.githubusercontent.com/jbrobst/56c13bbbf9d97d187fea01ca62ea5112/raw/e388c4cae20aa53cb5090210a42ebb9b765c0a36/india_states.geojson\"\n",
    "geo_df = gpd.read_file(geojson_url)\n",
    "# 假设 BenifitModel2 是您的数据集\n",
    "geo_df = geo_df.merge(merged_df, left_on=\"ST_NM\", right_on=\"state\")\n",
    "\n",
    "# 创建 Choropleth 图层\n",
    "fig = go.Figure(\n",
    "    data=go.Choropleth(\n",
    "        geojson=geojson_url,\n",
    "        featureidkey=\"properties.ST_NM\",\n",
    "        locations=geo_df[\"state\"],\n",
    "        z=geo_df[\"Rabi\"],  # 使用 'Rabi' 作为区分的依据\n",
    "        text=geo_df[\"text\"],  # 使用合并的 'text' 列\n",
    "        colorscale=[\"lightgrey\", \"green\"],  # 使用浅灰色到绿色的色阶\n",
    "        hoverinfo=\"location+text\",\n",
    "        marker_line_color=\"brown\",\n",
    "    )\n",
    ")\n",
    "\n",
    "# 计算每个州的中心点坐标\n",
    "geo_df[\"center\"] = geo_df[\"geometry\"].centroid\n",
    "geo_df[\"lon\"] = geo_df[\"center\"].apply(lambda p: p.x)\n",
    "geo_df[\"lat\"] = geo_df[\"center\"].apply(lambda p: p.y)\n",
    "\n",
    "# 添加散点图层以固定显示文本\n",
    "fig.add_trace(\n",
    "    go.Scattergeo(\n",
    "        lon=geo_df[\"lon\"],\n",
    "        lat=geo_df[\"lat\"],\n",
    "        text=geo_df[\"text\"],\n",
    "        mode=\"text\",\n",
    "        textfont=dict(size=6, color=\"darkred\"),  # 设置字体大小，您可以根据需要调整\n",
    "    )\n",
    ")\n",
    "\n",
    "fig.update_geos(fitbounds=\"locations\", visible=False)\n",
    "\n",
    "fig.update_layout(\n",
    "    width=1800,  # 宽度, 您可以根据需要调整\n",
    "    height=1200,  # 高度, 您可以根据需要调整\n",
    "    margin={\"r\": 0, \"t\": 0, \"l\": 0, \"b\": 0},\n",
    ")\n",
    "\n",
    "fig.update_geos(fitbounds=\"locations\", visible=False)\n",
    "fig.update_layout(width=1800, height=1200, margin={\"r\": 0, \"t\": 0, \"l\": 0, \"b\": 0})\n",
    "fig.show()\n",
    "fig.write_image(\"model2_rotate.png\", scale=2)"
   ]
  }
 ],
 "metadata": {
  "kernelspec": {
   "display_name": "Python 3",
   "language": "python",
   "name": "python3"
  },
  "language_info": {
   "codemirror_mode": {
    "name": "ipython",
    "version": 3
   },
   "file_extension": ".py",
   "mimetype": "text/x-python",
   "name": "python",
   "nbconvert_exporter": "python",
   "pygments_lexer": "ipython3",
   "version": "3.11.2"
  }
 },
 "nbformat": 4,
 "nbformat_minor": 2
}
