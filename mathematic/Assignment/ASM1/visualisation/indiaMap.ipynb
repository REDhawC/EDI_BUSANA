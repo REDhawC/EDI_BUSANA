{
 "cells": [
  {
   "cell_type": "code",
   "execution_count": 449,
   "metadata": {},
   "outputs": [],
   "source": [
    "import pandas as pd\n",
    "import plotly.express as px\n",
    "import kaleido\n",
    "\n",
    "df = pd.read_csv(\n",
    "    \"https://gist.githubusercontent.com/jbrobst/56c13bbbf9d97d187fea01ca62ea5112/raw/e388c4cae20aa53cb5090210a42ebb9b765c0a36/active_cases_2020-07-17_0800.csv\"\n",
    ")\n",
    "\n",
    "state_area = pd.read_csv(\"./agricultural_data.csv\")\n",
    "# Drop the unnecessary columns\n",
    "state_area = state_area.drop([\" Kharif\", \" Rabi\"], axis=1)\n",
    "# Rename the remaining column\n",
    "state_area = state_area.rename(columns={\" Summer\": \"area\"})\n",
    "\n",
    "\n",
    "reModel2 = pd.read_csv(\"./##Model2_reallocated.csv\")\n",
    "BenifitModel2 = pd.read_csv(\"./#Model2_rotationbenefit.csv\")\n",
    "reModel1 = pd.read_csv(\"./##Model1_reallocated.csv\")"
   ]
  },
  {
   "cell_type": "code",
   "execution_count": 450,
   "metadata": {},
   "outputs": [],
   "source": [
    "mapping = {\n",
    "    \"odisha\": \"Odisha\",\n",
    "    \"jharkhand\": \"Jharkhand\",\n",
    "    \"manipur\": \"Manipur\",\n",
    "    \"nagaland\": \"Nagaland\",\n",
    "    \"madhya_pradesh\": \"Madhya Pradesh\",\n",
    "    \"uttarakhand\": \"Uttarakhand\",\n",
    "    \"uttar_pradesh\": \"Uttar Pradesh\",\n",
    "    \"mizoram\": \"Mizoram\",\n",
    "    \"meghalaya\": \"Meghalaya\",\n",
    "    \"maharashtra\": \"Maharashtra\",\n",
    "    \"west_bengal\": \"West Bengal\",\n",
    "    \"gujarat\": \"Gujarat\",\n",
    "    \"assam\": \"Assam\",\n",
    "    \"bihar\": \"Bihar\",\n",
    "    \"jammu_and_kashmir\": \"Jammu & Kashmir\",\n",
    "    \"dadra_and_nagar_haveli\": \"Dadra and Nagar Haveli and Daman and Diu\",\n",
    "    \"arunachal_pradesh\": \"Arunachal Pradesh\",\n",
    "    \"karnataka\": \"Karnataka\",\n",
    "    \"chhattisgarh\": \"Chhattisgarh\",\n",
    "    \"tripura\": \"Tripura\",\n",
    "    \"himachal_pradesh\": \"Himachal Pradesh\",\n",
    "    \"chandigarh\": \"Chandigarh\",\n",
    "    \"telangana\": \"Telangana\",\n",
    "    \"sikkim\": \"Sikkim\",\n",
    "    \"rajasthan\": \"Rajasthan\",\n",
    "    \"punjab\": \"Punjab\",\n",
    "    \"andhra_pradesh\": \"Andhra Pradesh\",\n",
    "    \"haryana\": \"Haryana\",\n",
    "    \"kerala\": \"Kerala\",\n",
    "    \"tamil_nadu\": \"Tamil Nadu\",\n",
    "    \"puducherry\": \"Puducherry\",\n",
    "    \"andaman_and_nicobar_islands\": \"Andaman & Nicobar\",\n",
    "    \"goa\": \"Goa\",\n",
    "}"
   ]
  },
  {
   "cell_type": "code",
   "execution_count": 451,
   "metadata": {},
   "outputs": [
    {
     "data": {
      "text/plain": [
       "0                            Andaman & Nicobar\n",
       "1                               Andhra Pradesh\n",
       "2                            Arunachal Pradesh\n",
       "3                                        Assam\n",
       "4                                        Bihar\n",
       "5                                   Chandigarh\n",
       "6                                 Chhattisgarh\n",
       "7     Dadra and Nagar Haveli and Daman and Diu\n",
       "8                                          Goa\n",
       "9                                      Gujarat\n",
       "10                                     Haryana\n",
       "11                            Himachal Pradesh\n",
       "12                             Jammu & Kashmir\n",
       "13                                   Jharkhand\n",
       "14                                   Karnataka\n",
       "15                                      Kerala\n",
       "16                              Madhya Pradesh\n",
       "17                                 Maharashtra\n",
       "18                                     Manipur\n",
       "19                                   Meghalaya\n",
       "20                                     Mizoram\n",
       "21                                    Nagaland\n",
       "22                                      Odisha\n",
       "23                                  Puducherry\n",
       "24                                      Punjab\n",
       "25                                   Rajasthan\n",
       "26                                      Sikkim\n",
       "27                                  Tamil Nadu\n",
       "28                                   Telangana\n",
       "29                                     Tripura\n",
       "30                               Uttar Pradesh\n",
       "31                                 Uttarakhand\n",
       "32                                 West Bengal\n",
       "Name: state, dtype: object"
      ]
     },
     "execution_count": 451,
     "metadata": {},
     "output_type": "execute_result"
    }
   ],
   "source": [
    "state_area['state']"
   ]
  },
  {
   "cell_type": "code",
   "execution_count": 454,
   "metadata": {},
   "outputs": [
    {
     "name": "stdout",
     "output_type": "stream",
     "text": [
      "<class 'pandas.core.frame.DataFrame'>\n",
      "RangeIndex: 24 entries, 0 to 23\n",
      "Data columns (total 4 columns):\n",
      " #   Column  Non-Null Count  Dtype  \n",
      "---  ------  --------------  -----  \n",
      " 0   crop    24 non-null     object \n",
      " 1   state   24 non-null     object \n",
      " 2   Rabi    24 non-null     object \n",
      " 3   Summer  0 non-null      float64\n",
      "dtypes: float64(1), object(3)\n",
      "memory usage: 900.0+ bytes\n"
     ]
    }
   ],
   "source": [
    "BenifitModel2[\"Rabi\"] = pd.to_numeric(BenifitModel2[\"Rabi\"], errors=\"coerce\")"
   ]
  },
  {
   "cell_type": "code",
   "execution_count": 453,
   "metadata": {},
   "outputs": [
    {
     "ename": "TypeError",
     "evalue": "unsupported operand type(s) for /: 'str' and 'int'",
     "output_type": "error",
     "traceback": [
      "\u001b[1;31m---------------------------------------------------------------------------\u001b[0m",
      "\u001b[1;31mTypeError\u001b[0m                                 Traceback (most recent call last)",
      "File \u001b[1;32mc:\\Users\\redhawc\\.pyenv\\pyenv-win\\versions\\3.11.2\\Lib\\site-packages\\pandas\\core\\ops\\array_ops.py:220\u001b[0m, in \u001b[0;36m_na_arithmetic_op\u001b[1;34m(left, right, op, is_cmp)\u001b[0m\n\u001b[0;32m    219\u001b[0m \u001b[39mtry\u001b[39;00m:\n\u001b[1;32m--> 220\u001b[0m     result \u001b[39m=\u001b[39m func(left, right)\n\u001b[0;32m    221\u001b[0m \u001b[39mexcept\u001b[39;00m \u001b[39mTypeError\u001b[39;00m:\n",
      "File \u001b[1;32mc:\\Users\\redhawc\\.pyenv\\pyenv-win\\versions\\3.11.2\\Lib\\site-packages\\pandas\\core\\computation\\expressions.py:242\u001b[0m, in \u001b[0;36mevaluate\u001b[1;34m(op, a, b, use_numexpr)\u001b[0m\n\u001b[0;32m    240\u001b[0m     \u001b[39mif\u001b[39;00m use_numexpr:\n\u001b[0;32m    241\u001b[0m         \u001b[39m# error: \"None\" not callable\u001b[39;00m\n\u001b[1;32m--> 242\u001b[0m         \u001b[39mreturn\u001b[39;00m _evaluate(op, op_str, a, b)  \u001b[39m# type: ignore[misc]\u001b[39;00m\n\u001b[0;32m    243\u001b[0m \u001b[39mreturn\u001b[39;00m _evaluate_standard(op, op_str, a, b)\n",
      "File \u001b[1;32mc:\\Users\\redhawc\\.pyenv\\pyenv-win\\versions\\3.11.2\\Lib\\site-packages\\pandas\\core\\computation\\expressions.py:73\u001b[0m, in \u001b[0;36m_evaluate_standard\u001b[1;34m(op, op_str, a, b)\u001b[0m\n\u001b[0;32m     72\u001b[0m     _store_test_result(\u001b[39mFalse\u001b[39;00m)\n\u001b[1;32m---> 73\u001b[0m \u001b[39mreturn\u001b[39;00m op(a, b)\n",
      "\u001b[1;31mTypeError\u001b[0m: unsupported operand type(s) for /: 'str' and 'int'",
      "\nDuring handling of the above exception, another exception occurred:\n",
      "\u001b[1;31mTypeError\u001b[0m                                 Traceback (most recent call last)",
      "\u001b[1;32mc:\\Users\\redhawc\\Desktop\\EDI_BUSANA\\mathematic\\Assignment\\ASM1\\visualisation\\indiaMap.ipynb Cell 5\u001b[0m line \u001b[0;36m3\n\u001b[0;32m     <a href='vscode-notebook-cell:/c%3A/Users/redhawc/Desktop/EDI_BUSANA/mathematic/Assignment/ASM1/visualisation/indiaMap.ipynb#X32sZmlsZQ%3D%3D?line=29'>30</a>\u001b[0m reModel1 \u001b[39m=\u001b[39m divide_columns(reModel1, state_area)\n\u001b[0;32m     <a href='vscode-notebook-cell:/c%3A/Users/redhawc/Desktop/EDI_BUSANA/mathematic/Assignment/ASM1/visualisation/indiaMap.ipynb#X32sZmlsZQ%3D%3D?line=30'>31</a>\u001b[0m reModel2 \u001b[39m=\u001b[39m divide_columns(reModel2, state_area)\n\u001b[1;32m---> <a href='vscode-notebook-cell:/c%3A/Users/redhawc/Desktop/EDI_BUSANA/mathematic/Assignment/ASM1/visualisation/indiaMap.ipynb#X32sZmlsZQ%3D%3D?line=31'>32</a>\u001b[0m BenifitModel2 \u001b[39m=\u001b[39m divide_columns2(BenifitModel2, state_area)\n\u001b[0;32m     <a href='vscode-notebook-cell:/c%3A/Users/redhawc/Desktop/EDI_BUSANA/mathematic/Assignment/ASM1/visualisation/indiaMap.ipynb#X32sZmlsZQ%3D%3D?line=33'>34</a>\u001b[0m \u001b[39mprint\u001b[39m(reModel1\u001b[39m.\u001b[39mhead(), \u001b[39m\"\u001b[39m\u001b[39m\\n\u001b[39;00m\u001b[39m\\n\u001b[39;00m\u001b[39m\"\u001b[39m)\n\u001b[0;32m     <a href='vscode-notebook-cell:/c%3A/Users/redhawc/Desktop/EDI_BUSANA/mathematic/Assignment/ASM1/visualisation/indiaMap.ipynb#X32sZmlsZQ%3D%3D?line=34'>35</a>\u001b[0m \u001b[39mprint\u001b[39m(reModel2\u001b[39m.\u001b[39mhead(), \u001b[39m\"\u001b[39m\u001b[39m\\n\u001b[39;00m\u001b[39m\\n\u001b[39;00m\u001b[39m\"\u001b[39m)\n",
      "\u001b[1;32mc:\\Users\\redhawc\\Desktop\\EDI_BUSANA\\mathematic\\Assignment\\ASM1\\visualisation\\indiaMap.ipynb Cell 5\u001b[0m line \u001b[0;36m2\n\u001b[0;32m     <a href='vscode-notebook-cell:/c%3A/Users/redhawc/Desktop/EDI_BUSANA/mathematic/Assignment/ASM1/visualisation/indiaMap.ipynb#X32sZmlsZQ%3D%3D?line=17'>18</a>\u001b[0m df \u001b[39m=\u001b[39m pd\u001b[39m.\u001b[39mmerge(df, state_area, on\u001b[39m=\u001b[39m\u001b[39m\"\u001b[39m\u001b[39mstate\u001b[39m\u001b[39m\"\u001b[39m, how\u001b[39m=\u001b[39m\u001b[39m\"\u001b[39m\u001b[39mleft\u001b[39m\u001b[39m\"\u001b[39m)\n\u001b[0;32m     <a href='vscode-notebook-cell:/c%3A/Users/redhawc/Desktop/EDI_BUSANA/mathematic/Assignment/ASM1/visualisation/indiaMap.ipynb#X32sZmlsZQ%3D%3D?line=18'>19</a>\u001b[0m \u001b[39mfor\u001b[39;00m column \u001b[39min\u001b[39;00m [\u001b[39m\"\u001b[39m\u001b[39mRabi\u001b[39m\u001b[39m\"\u001b[39m]:\n\u001b[1;32m---> <a href='vscode-notebook-cell:/c%3A/Users/redhawc/Desktop/EDI_BUSANA/mathematic/Assignment/ASM1/visualisation/indiaMap.ipynb#X32sZmlsZQ%3D%3D?line=19'>20</a>\u001b[0m     df[column] \u001b[39m=\u001b[39m (df[column] \u001b[39m/\u001b[39;49m \u001b[39m1000\u001b[39;49m)\u001b[39m.\u001b[39mround(\u001b[39m0\u001b[39m)\n\u001b[0;32m     <a href='vscode-notebook-cell:/c%3A/Users/redhawc/Desktop/EDI_BUSANA/mathematic/Assignment/ASM1/visualisation/indiaMap.ipynb#X32sZmlsZQ%3D%3D?line=20'>21</a>\u001b[0m \u001b[39mreturn\u001b[39;00m df\n",
      "File \u001b[1;32mc:\\Users\\redhawc\\.pyenv\\pyenv-win\\versions\\3.11.2\\Lib\\site-packages\\pandas\\core\\ops\\common.py:76\u001b[0m, in \u001b[0;36m_unpack_zerodim_and_defer.<locals>.new_method\u001b[1;34m(self, other)\u001b[0m\n\u001b[0;32m     72\u001b[0m             \u001b[39mreturn\u001b[39;00m \u001b[39mNotImplemented\u001b[39m\n\u001b[0;32m     74\u001b[0m other \u001b[39m=\u001b[39m item_from_zerodim(other)\n\u001b[1;32m---> 76\u001b[0m \u001b[39mreturn\u001b[39;00m method(\u001b[39mself\u001b[39;49m, other)\n",
      "File \u001b[1;32mc:\\Users\\redhawc\\.pyenv\\pyenv-win\\versions\\3.11.2\\Lib\\site-packages\\pandas\\core\\arraylike.py:210\u001b[0m, in \u001b[0;36mOpsMixin.__truediv__\u001b[1;34m(self, other)\u001b[0m\n\u001b[0;32m    208\u001b[0m \u001b[39m@unpack_zerodim_and_defer\u001b[39m(\u001b[39m\"\u001b[39m\u001b[39m__truediv__\u001b[39m\u001b[39m\"\u001b[39m)\n\u001b[0;32m    209\u001b[0m \u001b[39mdef\u001b[39;00m \u001b[39m__truediv__\u001b[39m(\u001b[39mself\u001b[39m, other):\n\u001b[1;32m--> 210\u001b[0m     \u001b[39mreturn\u001b[39;00m \u001b[39mself\u001b[39;49m\u001b[39m.\u001b[39;49m_arith_method(other, operator\u001b[39m.\u001b[39;49mtruediv)\n",
      "File \u001b[1;32mc:\\Users\\redhawc\\.pyenv\\pyenv-win\\versions\\3.11.2\\Lib\\site-packages\\pandas\\core\\series.py:5815\u001b[0m, in \u001b[0;36mSeries._arith_method\u001b[1;34m(self, other, op)\u001b[0m\n\u001b[0;32m   5813\u001b[0m \u001b[39mdef\u001b[39;00m \u001b[39m_arith_method\u001b[39m(\u001b[39mself\u001b[39m, other, op):\n\u001b[0;32m   5814\u001b[0m     \u001b[39mself\u001b[39m, other \u001b[39m=\u001b[39m \u001b[39mself\u001b[39m\u001b[39m.\u001b[39m_align_for_op(other)\n\u001b[1;32m-> 5815\u001b[0m     \u001b[39mreturn\u001b[39;00m base\u001b[39m.\u001b[39;49mIndexOpsMixin\u001b[39m.\u001b[39;49m_arith_method(\u001b[39mself\u001b[39;49m, other, op)\n",
      "File \u001b[1;32mc:\\Users\\redhawc\\.pyenv\\pyenv-win\\versions\\3.11.2\\Lib\\site-packages\\pandas\\core\\base.py:1381\u001b[0m, in \u001b[0;36mIndexOpsMixin._arith_method\u001b[1;34m(self, other, op)\u001b[0m\n\u001b[0;32m   1378\u001b[0m     rvalues \u001b[39m=\u001b[39m np\u001b[39m.\u001b[39marange(rvalues\u001b[39m.\u001b[39mstart, rvalues\u001b[39m.\u001b[39mstop, rvalues\u001b[39m.\u001b[39mstep)\n\u001b[0;32m   1380\u001b[0m \u001b[39mwith\u001b[39;00m np\u001b[39m.\u001b[39merrstate(\u001b[39mall\u001b[39m\u001b[39m=\u001b[39m\u001b[39m\"\u001b[39m\u001b[39mignore\u001b[39m\u001b[39m\"\u001b[39m):\n\u001b[1;32m-> 1381\u001b[0m     result \u001b[39m=\u001b[39m ops\u001b[39m.\u001b[39;49marithmetic_op(lvalues, rvalues, op)\n\u001b[0;32m   1383\u001b[0m \u001b[39mreturn\u001b[39;00m \u001b[39mself\u001b[39m\u001b[39m.\u001b[39m_construct_result(result, name\u001b[39m=\u001b[39mres_name)\n",
      "File \u001b[1;32mc:\\Users\\redhawc\\.pyenv\\pyenv-win\\versions\\3.11.2\\Lib\\site-packages\\pandas\\core\\ops\\array_ops.py:285\u001b[0m, in \u001b[0;36marithmetic_op\u001b[1;34m(left, right, op)\u001b[0m\n\u001b[0;32m    281\u001b[0m     _bool_arith_check(op, left, right)  \u001b[39m# type: ignore[arg-type]\u001b[39;00m\n\u001b[0;32m    283\u001b[0m     \u001b[39m# error: Argument 1 to \"_na_arithmetic_op\" has incompatible type\u001b[39;00m\n\u001b[0;32m    284\u001b[0m     \u001b[39m# \"Union[ExtensionArray, ndarray[Any, Any]]\"; expected \"ndarray[Any, Any]\"\u001b[39;00m\n\u001b[1;32m--> 285\u001b[0m     res_values \u001b[39m=\u001b[39m _na_arithmetic_op(left, right, op)  \u001b[39m# type: ignore[arg-type]\u001b[39;00m\n\u001b[0;32m    287\u001b[0m \u001b[39mreturn\u001b[39;00m res_values\n",
      "File \u001b[1;32mc:\\Users\\redhawc\\.pyenv\\pyenv-win\\versions\\3.11.2\\Lib\\site-packages\\pandas\\core\\ops\\array_ops.py:229\u001b[0m, in \u001b[0;36m_na_arithmetic_op\u001b[1;34m(left, right, op, is_cmp)\u001b[0m\n\u001b[0;32m    221\u001b[0m \u001b[39mexcept\u001b[39;00m \u001b[39mTypeError\u001b[39;00m:\n\u001b[0;32m    222\u001b[0m     \u001b[39mif\u001b[39;00m \u001b[39mnot\u001b[39;00m is_cmp \u001b[39mand\u001b[39;00m (\n\u001b[0;32m    223\u001b[0m         left\u001b[39m.\u001b[39mdtype \u001b[39m==\u001b[39m \u001b[39mobject\u001b[39m \u001b[39mor\u001b[39;00m \u001b[39mgetattr\u001b[39m(right, \u001b[39m\"\u001b[39m\u001b[39mdtype\u001b[39m\u001b[39m\"\u001b[39m, \u001b[39mNone\u001b[39;00m) \u001b[39m==\u001b[39m \u001b[39mobject\u001b[39m\n\u001b[0;32m    224\u001b[0m     ):\n\u001b[1;32m   (...)\u001b[0m\n\u001b[0;32m    227\u001b[0m         \u001b[39m# Don't do this for comparisons, as that will handle complex numbers\u001b[39;00m\n\u001b[0;32m    228\u001b[0m         \u001b[39m#  incorrectly, see GH#32047\u001b[39;00m\n\u001b[1;32m--> 229\u001b[0m         result \u001b[39m=\u001b[39m _masked_arith_op(left, right, op)\n\u001b[0;32m    230\u001b[0m     \u001b[39melse\u001b[39;00m:\n\u001b[0;32m    231\u001b[0m         \u001b[39mraise\u001b[39;00m\n",
      "File \u001b[1;32mc:\\Users\\redhawc\\.pyenv\\pyenv-win\\versions\\3.11.2\\Lib\\site-packages\\pandas\\core\\ops\\array_ops.py:184\u001b[0m, in \u001b[0;36m_masked_arith_op\u001b[1;34m(x, y, op)\u001b[0m\n\u001b[0;32m    181\u001b[0m         mask \u001b[39m=\u001b[39m np\u001b[39m.\u001b[39mwhere(y \u001b[39m==\u001b[39m \u001b[39m1\u001b[39m, \u001b[39mFalse\u001b[39;00m, mask)\n\u001b[0;32m    183\u001b[0m     \u001b[39mif\u001b[39;00m mask\u001b[39m.\u001b[39many():\n\u001b[1;32m--> 184\u001b[0m         result[mask] \u001b[39m=\u001b[39m op(xrav[mask], y)\n\u001b[0;32m    186\u001b[0m np\u001b[39m.\u001b[39mputmask(result, \u001b[39m~\u001b[39mmask, np\u001b[39m.\u001b[39mnan)\n\u001b[0;32m    187\u001b[0m result \u001b[39m=\u001b[39m result\u001b[39m.\u001b[39mreshape(x\u001b[39m.\u001b[39mshape)  \u001b[39m# 2D compat\u001b[39;00m\n",
      "\u001b[1;31mTypeError\u001b[0m: unsupported operand type(s) for /: 'str' and 'int'"
     ]
    }
   ],
   "source": [
    "import pandas as pd\n",
    "\n",
    "\n",
    "def modify_state(df, mapping):\n",
    "    df[\"state\"] = df[\"state\"].str.replace(\"^.\", \"\", regex=True)\n",
    "    df[\"state\"] = df[\"state\"].replace(mapping)\n",
    "    return df\n",
    "\n",
    "\n",
    "def divide_columns(df, state_area):\n",
    "    df = pd.merge(df, state_area, on=\"state\", how=\"left\")\n",
    "    for column in [\"Kharif\", \"Rabi\", \"Summer\"]:\n",
    "        df[column] = (df[column] / 1000).round(0)\n",
    "    return df\n",
    "\n",
    "\n",
    "def divide_columns2(df, state_area):\n",
    "    df = pd.merge(df, state_area, on=\"state\", how=\"left\")\n",
    "    for column in [\"Rabi\"]:\n",
    "        df[column] = (df[column] / 1000).round(0)\n",
    "    return df\n",
    "\n",
    "\n",
    "# Modify the 'state' column and merge with state_area\n",
    "reModel1 = modify_state(reModel1, mapping)\n",
    "reModel2 = modify_state(reModel2, mapping)\n",
    "BenifitModel2 = modify_state(BenifitModel2, mapping)\n",
    "\n",
    "# Divide the 'Kharif', 'Rabi', 'Summer' columns by the 'area' column\n",
    "reModel1 = divide_columns(reModel1, state_area)\n",
    "reModel2 = divide_columns(reModel2, state_area)\n",
    "BenifitModel2 = divide_columns2(BenifitModel2, state_area)\n",
    "\n",
    "print(reModel1.head(), \"\\n\\n\")\n",
    "print(reModel2.head(), \"\\n\\n\")\n",
    "print(BenifitModel2.head(), \"\\n\\n\")"
   ]
  },
  {
   "cell_type": "code",
   "execution_count": null,
   "metadata": {},
   "outputs": [
    {
     "name": "stdout",
     "output_type": "stream",
     "text": [
      "<class 'pandas.core.frame.DataFrame'>\n",
      "RangeIndex: 24 entries, 0 to 23\n",
      "Data columns (total 4 columns):\n",
      " #   Column  Non-Null Count  Dtype  \n",
      "---  ------  --------------  -----  \n",
      " 0   crop    24 non-null     object \n",
      " 1   state   24 non-null     object \n",
      " 2   Rabi    24 non-null     object \n",
      " 3   Summer  0 non-null      float64\n",
      "dtypes: float64(1), object(3)\n",
      "memory usage: 900.0+ bytes\n"
     ]
    }
   ],
   "source": [
    "BenifitModel2.info()"
   ]
  },
  {
   "cell_type": "code",
   "execution_count": null,
   "metadata": {},
   "outputs": [
    {
     "ename": "TypeError",
     "evalue": "unsupported operand type(s) for /: 'str' and 'int'",
     "output_type": "error",
     "traceback": [
      "\u001b[1;31m---------------------------------------------------------------------------\u001b[0m",
      "\u001b[1;31mTypeError\u001b[0m                                 Traceback (most recent call last)",
      "File \u001b[1;32mc:\\Users\\redhawc\\.pyenv\\pyenv-win\\versions\\3.11.2\\Lib\\site-packages\\pandas\\core\\ops\\array_ops.py:220\u001b[0m, in \u001b[0;36m_na_arithmetic_op\u001b[1;34m(left, right, op, is_cmp)\u001b[0m\n\u001b[0;32m    219\u001b[0m \u001b[39mtry\u001b[39;00m:\n\u001b[1;32m--> 220\u001b[0m     result \u001b[39m=\u001b[39m func(left, right)\n\u001b[0;32m    221\u001b[0m \u001b[39mexcept\u001b[39;00m \u001b[39mTypeError\u001b[39;00m:\n",
      "File \u001b[1;32mc:\\Users\\redhawc\\.pyenv\\pyenv-win\\versions\\3.11.2\\Lib\\site-packages\\pandas\\core\\computation\\expressions.py:242\u001b[0m, in \u001b[0;36mevaluate\u001b[1;34m(op, a, b, use_numexpr)\u001b[0m\n\u001b[0;32m    240\u001b[0m     \u001b[39mif\u001b[39;00m use_numexpr:\n\u001b[0;32m    241\u001b[0m         \u001b[39m# error: \"None\" not callable\u001b[39;00m\n\u001b[1;32m--> 242\u001b[0m         \u001b[39mreturn\u001b[39;00m _evaluate(op, op_str, a, b)  \u001b[39m# type: ignore[misc]\u001b[39;00m\n\u001b[0;32m    243\u001b[0m \u001b[39mreturn\u001b[39;00m _evaluate_standard(op, op_str, a, b)\n",
      "File \u001b[1;32mc:\\Users\\redhawc\\.pyenv\\pyenv-win\\versions\\3.11.2\\Lib\\site-packages\\pandas\\core\\computation\\expressions.py:73\u001b[0m, in \u001b[0;36m_evaluate_standard\u001b[1;34m(op, op_str, a, b)\u001b[0m\n\u001b[0;32m     72\u001b[0m     _store_test_result(\u001b[39mFalse\u001b[39;00m)\n\u001b[1;32m---> 73\u001b[0m \u001b[39mreturn\u001b[39;00m op(a, b)\n",
      "\u001b[1;31mTypeError\u001b[0m: unsupported operand type(s) for /: 'str' and 'int'",
      "\nDuring handling of the above exception, another exception occurred:\n",
      "\u001b[1;31mTypeError\u001b[0m                                 Traceback (most recent call last)",
      "\u001b[1;32mc:\\Users\\redhawc\\Desktop\\EDI_BUSANA\\mathematic\\Assignment\\ASM1\\visualisation\\indiaMap.ipynb Cell 7\u001b[0m line \u001b[0;36m2\n\u001b[0;32m      <a href='vscode-notebook-cell:/c%3A/Users/redhawc/Desktop/EDI_BUSANA/mathematic/Assignment/ASM1/visualisation/indiaMap.ipynb#X33sZmlsZQ%3D%3D?line=0'>1</a>\u001b[0m \u001b[39m# Create a new 'text' column, formatted as 'crop: value'\u001b[39;00m\n\u001b[1;32m----> <a href='vscode-notebook-cell:/c%3A/Users/redhawc/Desktop/EDI_BUSANA/mathematic/Assignment/ASM1/visualisation/indiaMap.ipynb#X33sZmlsZQ%3D%3D?line=1'>2</a>\u001b[0m BenifitModel2[\u001b[39m\"\u001b[39m\u001b[39mtext\u001b[39m\u001b[39m\"\u001b[39m] \u001b[39m=\u001b[39m BenifitModel2[\u001b[39m\"\u001b[39m\u001b[39mcrop\u001b[39m\u001b[39m\"\u001b[39m] \u001b[39m+\u001b[39m \u001b[39m\"\u001b[39m\u001b[39m: \u001b[39m\u001b[39m\"\u001b[39m \u001b[39m+\u001b[39m (BenifitModel2[\u001b[39m\"\u001b[39;49m\u001b[39mRabi\u001b[39;49m\u001b[39m\"\u001b[39;49m]\u001b[39m/\u001b[39;49m\u001b[39m1000\u001b[39;49m)\u001b[39m.\u001b[39mastype(\u001b[39mstr\u001b[39m)\u001b[39m+\u001b[39m\u001b[39m'\u001b[39m\u001b[39mk\u001b[39m\u001b[39m'\u001b[39m\n\u001b[0;32m      <a href='vscode-notebook-cell:/c%3A/Users/redhawc/Desktop/EDI_BUSANA/mathematic/Assignment/ASM1/visualisation/indiaMap.ipynb#X33sZmlsZQ%3D%3D?line=3'>4</a>\u001b[0m \u001b[39m# Use groupby to combine all text information for the same state\u001b[39;00m\n\u001b[0;32m      <a href='vscode-notebook-cell:/c%3A/Users/redhawc/Desktop/EDI_BUSANA/mathematic/Assignment/ASM1/visualisation/indiaMap.ipynb#X33sZmlsZQ%3D%3D?line=4'>5</a>\u001b[0m grouped_text \u001b[39m=\u001b[39m (\n\u001b[0;32m      <a href='vscode-notebook-cell:/c%3A/Users/redhawc/Desktop/EDI_BUSANA/mathematic/Assignment/ASM1/visualisation/indiaMap.ipynb#X33sZmlsZQ%3D%3D?line=5'>6</a>\u001b[0m     BenifitModel2\u001b[39m.\u001b[39mgroupby(\u001b[39m\"\u001b[39m\u001b[39mstate\u001b[39m\u001b[39m\"\u001b[39m)[\u001b[39m\"\u001b[39m\u001b[39mtext\u001b[39m\u001b[39m\"\u001b[39m]\u001b[39m.\u001b[39mapply(\u001b[39mlambda\u001b[39;00m x: \u001b[39m\"\u001b[39m\u001b[39m<br>\u001b[39m\u001b[39m\"\u001b[39m\u001b[39m.\u001b[39mjoin(x))\u001b[39m.\u001b[39mreset_index()\n\u001b[0;32m      <a href='vscode-notebook-cell:/c%3A/Users/redhawc/Desktop/EDI_BUSANA/mathematic/Assignment/ASM1/visualisation/indiaMap.ipynb#X33sZmlsZQ%3D%3D?line=6'>7</a>\u001b[0m )\n",
      "File \u001b[1;32mc:\\Users\\redhawc\\.pyenv\\pyenv-win\\versions\\3.11.2\\Lib\\site-packages\\pandas\\core\\ops\\common.py:76\u001b[0m, in \u001b[0;36m_unpack_zerodim_and_defer.<locals>.new_method\u001b[1;34m(self, other)\u001b[0m\n\u001b[0;32m     72\u001b[0m             \u001b[39mreturn\u001b[39;00m \u001b[39mNotImplemented\u001b[39m\n\u001b[0;32m     74\u001b[0m other \u001b[39m=\u001b[39m item_from_zerodim(other)\n\u001b[1;32m---> 76\u001b[0m \u001b[39mreturn\u001b[39;00m method(\u001b[39mself\u001b[39;49m, other)\n",
      "File \u001b[1;32mc:\\Users\\redhawc\\.pyenv\\pyenv-win\\versions\\3.11.2\\Lib\\site-packages\\pandas\\core\\arraylike.py:210\u001b[0m, in \u001b[0;36mOpsMixin.__truediv__\u001b[1;34m(self, other)\u001b[0m\n\u001b[0;32m    208\u001b[0m \u001b[39m@unpack_zerodim_and_defer\u001b[39m(\u001b[39m\"\u001b[39m\u001b[39m__truediv__\u001b[39m\u001b[39m\"\u001b[39m)\n\u001b[0;32m    209\u001b[0m \u001b[39mdef\u001b[39;00m \u001b[39m__truediv__\u001b[39m(\u001b[39mself\u001b[39m, other):\n\u001b[1;32m--> 210\u001b[0m     \u001b[39mreturn\u001b[39;00m \u001b[39mself\u001b[39;49m\u001b[39m.\u001b[39;49m_arith_method(other, operator\u001b[39m.\u001b[39;49mtruediv)\n",
      "File \u001b[1;32mc:\\Users\\redhawc\\.pyenv\\pyenv-win\\versions\\3.11.2\\Lib\\site-packages\\pandas\\core\\series.py:5815\u001b[0m, in \u001b[0;36mSeries._arith_method\u001b[1;34m(self, other, op)\u001b[0m\n\u001b[0;32m   5813\u001b[0m \u001b[39mdef\u001b[39;00m \u001b[39m_arith_method\u001b[39m(\u001b[39mself\u001b[39m, other, op):\n\u001b[0;32m   5814\u001b[0m     \u001b[39mself\u001b[39m, other \u001b[39m=\u001b[39m \u001b[39mself\u001b[39m\u001b[39m.\u001b[39m_align_for_op(other)\n\u001b[1;32m-> 5815\u001b[0m     \u001b[39mreturn\u001b[39;00m base\u001b[39m.\u001b[39;49mIndexOpsMixin\u001b[39m.\u001b[39;49m_arith_method(\u001b[39mself\u001b[39;49m, other, op)\n",
      "File \u001b[1;32mc:\\Users\\redhawc\\.pyenv\\pyenv-win\\versions\\3.11.2\\Lib\\site-packages\\pandas\\core\\base.py:1381\u001b[0m, in \u001b[0;36mIndexOpsMixin._arith_method\u001b[1;34m(self, other, op)\u001b[0m\n\u001b[0;32m   1378\u001b[0m     rvalues \u001b[39m=\u001b[39m np\u001b[39m.\u001b[39marange(rvalues\u001b[39m.\u001b[39mstart, rvalues\u001b[39m.\u001b[39mstop, rvalues\u001b[39m.\u001b[39mstep)\n\u001b[0;32m   1380\u001b[0m \u001b[39mwith\u001b[39;00m np\u001b[39m.\u001b[39merrstate(\u001b[39mall\u001b[39m\u001b[39m=\u001b[39m\u001b[39m\"\u001b[39m\u001b[39mignore\u001b[39m\u001b[39m\"\u001b[39m):\n\u001b[1;32m-> 1381\u001b[0m     result \u001b[39m=\u001b[39m ops\u001b[39m.\u001b[39;49marithmetic_op(lvalues, rvalues, op)\n\u001b[0;32m   1383\u001b[0m \u001b[39mreturn\u001b[39;00m \u001b[39mself\u001b[39m\u001b[39m.\u001b[39m_construct_result(result, name\u001b[39m=\u001b[39mres_name)\n",
      "File \u001b[1;32mc:\\Users\\redhawc\\.pyenv\\pyenv-win\\versions\\3.11.2\\Lib\\site-packages\\pandas\\core\\ops\\array_ops.py:285\u001b[0m, in \u001b[0;36marithmetic_op\u001b[1;34m(left, right, op)\u001b[0m\n\u001b[0;32m    281\u001b[0m     _bool_arith_check(op, left, right)  \u001b[39m# type: ignore[arg-type]\u001b[39;00m\n\u001b[0;32m    283\u001b[0m     \u001b[39m# error: Argument 1 to \"_na_arithmetic_op\" has incompatible type\u001b[39;00m\n\u001b[0;32m    284\u001b[0m     \u001b[39m# \"Union[ExtensionArray, ndarray[Any, Any]]\"; expected \"ndarray[Any, Any]\"\u001b[39;00m\n\u001b[1;32m--> 285\u001b[0m     res_values \u001b[39m=\u001b[39m _na_arithmetic_op(left, right, op)  \u001b[39m# type: ignore[arg-type]\u001b[39;00m\n\u001b[0;32m    287\u001b[0m \u001b[39mreturn\u001b[39;00m res_values\n",
      "File \u001b[1;32mc:\\Users\\redhawc\\.pyenv\\pyenv-win\\versions\\3.11.2\\Lib\\site-packages\\pandas\\core\\ops\\array_ops.py:229\u001b[0m, in \u001b[0;36m_na_arithmetic_op\u001b[1;34m(left, right, op, is_cmp)\u001b[0m\n\u001b[0;32m    221\u001b[0m \u001b[39mexcept\u001b[39;00m \u001b[39mTypeError\u001b[39;00m:\n\u001b[0;32m    222\u001b[0m     \u001b[39mif\u001b[39;00m \u001b[39mnot\u001b[39;00m is_cmp \u001b[39mand\u001b[39;00m (\n\u001b[0;32m    223\u001b[0m         left\u001b[39m.\u001b[39mdtype \u001b[39m==\u001b[39m \u001b[39mobject\u001b[39m \u001b[39mor\u001b[39;00m \u001b[39mgetattr\u001b[39m(right, \u001b[39m\"\u001b[39m\u001b[39mdtype\u001b[39m\u001b[39m\"\u001b[39m, \u001b[39mNone\u001b[39;00m) \u001b[39m==\u001b[39m \u001b[39mobject\u001b[39m\n\u001b[0;32m    224\u001b[0m     ):\n\u001b[1;32m   (...)\u001b[0m\n\u001b[0;32m    227\u001b[0m         \u001b[39m# Don't do this for comparisons, as that will handle complex numbers\u001b[39;00m\n\u001b[0;32m    228\u001b[0m         \u001b[39m#  incorrectly, see GH#32047\u001b[39;00m\n\u001b[1;32m--> 229\u001b[0m         result \u001b[39m=\u001b[39m _masked_arith_op(left, right, op)\n\u001b[0;32m    230\u001b[0m     \u001b[39melse\u001b[39;00m:\n\u001b[0;32m    231\u001b[0m         \u001b[39mraise\u001b[39;00m\n",
      "File \u001b[1;32mc:\\Users\\redhawc\\.pyenv\\pyenv-win\\versions\\3.11.2\\Lib\\site-packages\\pandas\\core\\ops\\array_ops.py:184\u001b[0m, in \u001b[0;36m_masked_arith_op\u001b[1;34m(x, y, op)\u001b[0m\n\u001b[0;32m    181\u001b[0m         mask \u001b[39m=\u001b[39m np\u001b[39m.\u001b[39mwhere(y \u001b[39m==\u001b[39m \u001b[39m1\u001b[39m, \u001b[39mFalse\u001b[39;00m, mask)\n\u001b[0;32m    183\u001b[0m     \u001b[39mif\u001b[39;00m mask\u001b[39m.\u001b[39many():\n\u001b[1;32m--> 184\u001b[0m         result[mask] \u001b[39m=\u001b[39m op(xrav[mask], y)\n\u001b[0;32m    186\u001b[0m np\u001b[39m.\u001b[39mputmask(result, \u001b[39m~\u001b[39mmask, np\u001b[39m.\u001b[39mnan)\n\u001b[0;32m    187\u001b[0m result \u001b[39m=\u001b[39m result\u001b[39m.\u001b[39mreshape(x\u001b[39m.\u001b[39mshape)  \u001b[39m# 2D compat\u001b[39;00m\n",
      "\u001b[1;31mTypeError\u001b[0m: unsupported operand type(s) for /: 'str' and 'int'"
     ]
    }
   ],
   "source": [
    "# Create a new 'text' column, formatted as 'crop: value'\n",
    "BenifitModel2[\"text\"] = BenifitModel2[\"crop\"] + \": \" + (BenifitModel2[\"Rabi\"]).astype(str)+'k'\n",
    "\n",
    "# Use groupby to combine all text information for the same state\n",
    "grouped_text = (\n",
    "    BenifitModel2.groupby(\"state\")[\"text\"].apply(lambda x: \"<br>\".join(x)).reset_index()\n",
    ")\n",
    "\n",
    "# Merge the combined text information back into the original DataFrame\n",
    "BenifitModel2_combined = BenifitModel2.drop(\"text\", axis=1).merge(\n",
    "    grouped_text, on=\"state\"\n",
    ")\n",
    "\n",
    "# Remove duplicate rows, keeping only a unique row for each state\n",
    "BenifitModel2_combined = BenifitModel2_combined.drop_duplicates(\n",
    "    subset=\"state\"\n",
    ").reset_index(drop=True)\n",
    "\n",
    "# Display the first few rows of the combined DataFrame\n",
    "BenifitModel2_combined"
   ]
  },
  {
   "cell_type": "code",
   "execution_count": null,
   "metadata": {},
   "outputs": [
    {
     "name": "stdout",
     "output_type": "stream",
     "text": [
      "state              crop      value \n",
      "Andaman & Nicobar  rice      4.0       1\n",
      "Manipur            jute      68.0      1\n",
      "Rajasthan          maize     3286.0    1\n",
      "                   cotton    4669.0    1\n",
      "Punjab             rice      1487.0    1\n",
      "                                      ..\n",
      "Himachal Pradesh   maize     176.0     1\n",
      "                   cotton    124.0     1\n",
      "Haryana            rice      1222.0    1\n",
      "                   maize     1222.0    1\n",
      "West Bengal        soyabean  1801.0    1\n",
      "Name: count, Length: 113, dtype: int64\n",
      "state              crop       value \n",
      "Andaman & Nicobar  maize      4.0       1\n",
      "Andhra Pradesh     horsegram  2042.0    1\n",
      "Odisha             potato     963.0     1\n",
      "                   maize      963.0     1\n",
      "                   horsegram  677.0     1\n",
      "                                       ..\n",
      "Jammu & Kashmir    potato     221.0     1\n",
      "Himachal Pradesh   wheat      176.0     1\n",
      "                   potato     176.0     1\n",
      "Haryana            wheat      1222.0    1\n",
      "West Bengal        rice       1267.0    1\n",
      "Name: count, Length: 80, dtype: int64\n",
      "state          crop       value \n",
      "Assam          rice       776.0     1\n",
      "Odisha         horsegram  677.0     1\n",
      "West Bengal    potato     1801.0    1\n",
      "               maize      1801.0    1\n",
      "Uttarakhand    rice       210.0     1\n",
      "               maize      210.0     1\n",
      "Uttar Pradesh  rice       4905.0    1\n",
      "               maize      4905.0    1\n",
      "Puducherry     rice       5.0       1\n",
      "               cotton     5.0       1\n",
      "Odisha         wheat      963.0     1\n",
      "               rice       963.0     1\n",
      "               maize      963.0     1\n",
      "Meghalaya      rice       64.0      1\n",
      "Bihar          maize      1450.0    1\n",
      "Manipur        potato     68.0      1\n",
      "               jute       68.0      1\n",
      "Maharashtra    rice       4291.0    1\n",
      "               maize      4291.0    1\n",
      "Kerala         rice       496.0     1\n",
      "Karnataka      rice       2283.0    1\n",
      "               potato     2283.0    1\n",
      "               maize      2283.0    1\n",
      "Gujarat        rice       2407.0    1\n",
      "               maize      2407.0    1\n",
      "Bihar          rice       1450.0    1\n",
      "West Bengal    rice       1801.0    1\n",
      "Name: count, dtype: int64\n"
     ]
    }
   ],
   "source": [
    "import pandas as pd\n",
    "\n",
    "# 假设 reModel1 是您的原始 DataFrame\n",
    "\n",
    "# 先将 reModel1 转换为 \"长格式\" (long format)\n",
    "long_df = reModel1.melt(\n",
    "    id_vars=[\"crop\", \"state\", \"area\"],\n",
    "    value_vars=[\"Kharif\", \"Rabi\", \"Summer\"],\n",
    "    var_name=\"season\",\n",
    "    value_name=\"value\",\n",
    ")\n",
    "\n",
    "# 创建每个季节的数据集\n",
    "m1_Kharif = long_df[(long_df[\"season\"] == \"Kharif\") & (long_df[\"value\"].notna())]\n",
    "m1_Rabi = long_df[(long_df[\"season\"] == \"Rabi\") & (long_df[\"value\"].notna())]\n",
    "m1_Summer = long_df[(long_df[\"season\"] == \"Summer\") & (long_df[\"value\"].notna())]\n",
    "\n",
    "# 重置每个数据集的索引，并只保留需要的列\n",
    "m1_Kharif = m1_Kharif[[\"state\", \"crop\", \"value\"]].reset_index(drop=True)\n",
    "m1_Rabi = m1_Rabi[[\"state\", \"crop\", \"value\"]].reset_index(drop=True)\n",
    "m1_Summer = m1_Summer[[\"state\", \"crop\", \"value\"]].reset_index(drop=True)\n",
    "\n",
    "# 显示每个数据集的前几行以进行检查\n",
    "print(m1_Kharif.value_counts())\n",
    "print(m1_Rabi.value_counts())\n",
    "print(m1_Summer.value_counts())"
   ]
  },
  {
   "cell_type": "code",
   "execution_count": null,
   "metadata": {},
   "outputs": [
    {
     "name": "stdout",
     "output_type": "stream",
     "text": [
      "state              crop       value \n",
      "Andaman & Nicobar  maize      4.0       1\n",
      "Andhra Pradesh     horsegram  2042.0    1\n",
      "Odisha             rice       963.0     1\n",
      "                   potato     963.0     1\n",
      "                   maize      963.0     1\n",
      "                                       ..\n",
      "Jammu & Kashmir    potato     221.0     1\n",
      "Himachal Pradesh   wheat      176.0     1\n",
      "                   potato     176.0     1\n",
      "Haryana            wheat      1222.0    1\n",
      "West Bengal        rice       1267.0    1\n",
      "Name: count, Length: 80, dtype: int64\n",
      "state              crop      value \n",
      "Andaman & Nicobar  rice      4.0       1\n",
      "Manipur            jute      68.0      1\n",
      "Rajasthan          maize     3286.0    1\n",
      "                   cotton    4669.0    1\n",
      "Punjab             rice      1487.0    1\n",
      "                                      ..\n",
      "Himachal Pradesh   potato    176.0     1\n",
      "                   maize     124.0     1\n",
      "Haryana            rice      1222.0    1\n",
      "                   maize     1222.0    1\n",
      "West Bengal        soyabean  1801.0    1\n",
      "Name: count, Length: 113, dtype: int64\n"
     ]
    }
   ],
   "source": [
    "import pandas as pd\n",
    "\n",
    "# 假设 reModel1 是您的原始 DataFrame\n",
    "\n",
    "# 先将 reModel1 转换为 \"长格式\" (long format)\n",
    "long_df = reModel2.melt(\n",
    "    id_vars=[\"crop\", \"state\", \"area\"],\n",
    "    value_vars=[\"Kharif\", \"Rabi\", \"Summer\"],\n",
    "    var_name=\"season\",\n",
    "    value_name=\"value\",\n",
    ")\n",
    "\n",
    "# 创建每个季节的数据集\n",
    "m2_Kharif = long_df[(long_df[\"season\"] == \"Kharif\") & (long_df[\"value\"].notna())]\n",
    "m2_Rabi = long_df[(long_df[\"season\"] == \"Rabi\") & (long_df[\"value\"].notna())]\n",
    "\n",
    "\n",
    "# 重置每个数据集的索引，并只保留需要的列\n",
    "m2_Kharif = m2_Kharif[[\"state\", \"crop\", \"value\"]].reset_index(drop=True)\n",
    "m2_Rabi = m2_Rabi[[\"state\", \"crop\", \"value\"]].reset_index(drop=True)\n",
    "\n",
    "# 显示每个数据集的前几行以进行检查\n",
    "print(m2_Rabi.value_counts())\n",
    "print(m2_Kharif.value_counts())"
   ]
  },
  {
   "cell_type": "code",
   "execution_count": null,
   "metadata": {},
   "outputs": [
    {
     "data": {
      "text/html": [
       "<div>\n",
       "<style scoped>\n",
       "    .dataframe tbody tr th:only-of-type {\n",
       "        vertical-align: middle;\n",
       "    }\n",
       "\n",
       "    .dataframe tbody tr th {\n",
       "        vertical-align: top;\n",
       "    }\n",
       "\n",
       "    .dataframe thead th {\n",
       "        text-align: right;\n",
       "    }\n",
       "</style>\n",
       "<table border=\"1\" class=\"dataframe\">\n",
       "  <thead>\n",
       "    <tr style=\"text-align: right;\">\n",
       "      <th></th>\n",
       "      <th>state</th>\n",
       "      <th>crop</th>\n",
       "      <th>value</th>\n",
       "    </tr>\n",
       "  </thead>\n",
       "  <tbody>\n",
       "    <tr>\n",
       "      <th>0</th>\n",
       "      <td>Andhra Pradesh</td>\n",
       "      <td>rice</td>\n",
       "      <td>2042.0</td>\n",
       "    </tr>\n",
       "    <tr>\n",
       "      <th>1</th>\n",
       "      <td>Assam</td>\n",
       "      <td>rice</td>\n",
       "      <td>776.0</td>\n",
       "    </tr>\n",
       "    <tr>\n",
       "      <th>2</th>\n",
       "      <td>Bihar</td>\n",
       "      <td>rice</td>\n",
       "      <td>1020.0</td>\n",
       "    </tr>\n",
       "    <tr>\n",
       "      <th>3</th>\n",
       "      <td>Dadra and Nagar Haveli and Daman and Diu</td>\n",
       "      <td>rice</td>\n",
       "      <td>4.0</td>\n",
       "    </tr>\n",
       "    <tr>\n",
       "      <th>4</th>\n",
       "      <td>Goa</td>\n",
       "      <td>rice</td>\n",
       "      <td>30.0</td>\n",
       "    </tr>\n",
       "    <tr>\n",
       "      <th>...</th>\n",
       "      <td>...</td>\n",
       "      <td>...</td>\n",
       "      <td>...</td>\n",
       "    </tr>\n",
       "    <tr>\n",
       "      <th>75</th>\n",
       "      <td>Uttar Pradesh</td>\n",
       "      <td>potato</td>\n",
       "      <td>4905.0</td>\n",
       "    </tr>\n",
       "    <tr>\n",
       "      <th>76</th>\n",
       "      <td>Uttarakhand</td>\n",
       "      <td>potato</td>\n",
       "      <td>210.0</td>\n",
       "    </tr>\n",
       "    <tr>\n",
       "      <th>77</th>\n",
       "      <td>West Bengal</td>\n",
       "      <td>potato</td>\n",
       "      <td>1801.0</td>\n",
       "    </tr>\n",
       "    <tr>\n",
       "      <th>78</th>\n",
       "      <td>Maharashtra</td>\n",
       "      <td>soyabean</td>\n",
       "      <td>4291.0</td>\n",
       "    </tr>\n",
       "    <tr>\n",
       "      <th>79</th>\n",
       "      <td>Manipur</td>\n",
       "      <td>soyabean</td>\n",
       "      <td>48.0</td>\n",
       "    </tr>\n",
       "  </tbody>\n",
       "</table>\n",
       "<p>80 rows × 3 columns</p>\n",
       "</div>"
      ],
      "text/plain": [
       "                                       state      crop   value\n",
       "0                             Andhra Pradesh      rice  2042.0\n",
       "1                                      Assam      rice   776.0\n",
       "2                                      Bihar      rice  1020.0\n",
       "3   Dadra and Nagar Haveli and Daman and Diu      rice     4.0\n",
       "4                                        Goa      rice    30.0\n",
       "..                                       ...       ...     ...\n",
       "75                             Uttar Pradesh    potato  4905.0\n",
       "76                               Uttarakhand    potato   210.0\n",
       "77                               West Bengal    potato  1801.0\n",
       "78                               Maharashtra  soyabean  4291.0\n",
       "79                                   Manipur  soyabean    48.0\n",
       "\n",
       "[80 rows x 3 columns]"
      ]
     },
     "execution_count": 403,
     "metadata": {},
     "output_type": "execute_result"
    }
   ],
   "source": [
    "m2_Rabi"
   ]
  },
  {
   "cell_type": "code",
   "execution_count": null,
   "metadata": {},
   "outputs": [
    {
     "data": {
      "text/html": [
       "<div>\n",
       "<style scoped>\n",
       "    .dataframe tbody tr th:only-of-type {\n",
       "        vertical-align: middle;\n",
       "    }\n",
       "\n",
       "    .dataframe tbody tr th {\n",
       "        vertical-align: top;\n",
       "    }\n",
       "\n",
       "    .dataframe thead th {\n",
       "        text-align: right;\n",
       "    }\n",
       "</style>\n",
       "<table border=\"1\" class=\"dataframe\">\n",
       "  <thead>\n",
       "    <tr style=\"text-align: right;\">\n",
       "      <th></th>\n",
       "      <th>state</th>\n",
       "      <th>crop</th>\n",
       "      <th>value</th>\n",
       "      <th>text</th>\n",
       "    </tr>\n",
       "  </thead>\n",
       "  <tbody>\n",
       "    <tr>\n",
       "      <th>0</th>\n",
       "      <td>Andaman &amp; Nicobar</td>\n",
       "      <td>rice</td>\n",
       "      <td>4.0</td>\n",
       "      <td>rice: 4.0k</td>\n",
       "    </tr>\n",
       "    <tr>\n",
       "      <th>1</th>\n",
       "      <td>Andhra Pradesh</td>\n",
       "      <td>rice</td>\n",
       "      <td>2042.0</td>\n",
       "      <td>rice: 2042.0k, &lt;br&gt; cotton: 2042.0k, &lt;br&gt; maiz...</td>\n",
       "    </tr>\n",
       "    <tr>\n",
       "      <th>2</th>\n",
       "      <td>Arunachal Pradesh</td>\n",
       "      <td>rice</td>\n",
       "      <td>53.0</td>\n",
       "      <td>rice: 53.0k, &lt;br&gt; maize: 53.0k, &lt;br&gt; soyabean:...</td>\n",
       "    </tr>\n",
       "    <tr>\n",
       "      <th>3</th>\n",
       "      <td>Assam</td>\n",
       "      <td>rice</td>\n",
       "      <td>776.0</td>\n",
       "      <td>rice: 776.0k, &lt;br&gt; cotton: 776.0k, &lt;br&gt; maize:...</td>\n",
       "    </tr>\n",
       "    <tr>\n",
       "      <th>4</th>\n",
       "      <td>Chandigarh</td>\n",
       "      <td>rice</td>\n",
       "      <td>0.0</td>\n",
       "      <td>rice: 0.0k, &lt;br&gt; maize: 0.0k</td>\n",
       "    </tr>\n",
       "  </tbody>\n",
       "</table>\n",
       "</div>"
      ],
      "text/plain": [
       "               state  crop   value  \\\n",
       "0  Andaman & Nicobar  rice     4.0   \n",
       "1     Andhra Pradesh  rice  2042.0   \n",
       "2  Arunachal Pradesh  rice    53.0   \n",
       "3              Assam  rice   776.0   \n",
       "4         Chandigarh  rice     0.0   \n",
       "\n",
       "                                                text  \n",
       "0                                         rice: 4.0k  \n",
       "1  rice: 2042.0k, <br> cotton: 2042.0k, <br> maiz...  \n",
       "2  rice: 53.0k, <br> maize: 53.0k, <br> soyabean:...  \n",
       "3  rice: 776.0k, <br> cotton: 776.0k, <br> maize:...  \n",
       "4                       rice: 0.0k, <br> maize: 0.0k  "
      ]
     },
     "execution_count": 404,
     "metadata": {},
     "output_type": "execute_result"
    }
   ],
   "source": [
    "import pandas as pd\n",
    "\n",
    "# 假设 m1_Kharif 是您的 DataFrame\n",
    "\n",
    "# 首先，创建一个新的 'text' 列，格式为 'crop: value'\n",
    "m1_Kharif[\"text\"] = m1_Kharif[\"crop\"] + \": \" + m1_Kharif[\"value\"].astype(str) + \"k\"\n",
    "\n",
    "# 使用 groupby 来合并同一个州的所有作物信息\n",
    "grouped_text = (\n",
    "    m1_Kharif.groupby(\"state\")[\"text\"].apply(lambda x: \", <br> \".join(x)).reset_index()\n",
    ")\n",
    "\n",
    "# 将合并后的文本信息重新合并到原始 DataFrame\n",
    "m1_Kharif_combined = m1_Kharif.drop(\"text\", axis=1).merge(grouped_text, on=\"state\")\n",
    "\n",
    "# 删除重复行，保留每个州的唯一行\n",
    "m1_Kharif_combined = m1_Kharif_combined.drop_duplicates(subset=\"state\").reset_index(\n",
    "    drop=True\n",
    ")\n",
    "m1_Kharif_combined[\"text\"] = m1_Kharif_combined[\"text\"].apply(\n",
    "    lambda x: \"<br>\".join(x.split(\"<br>\")[:3])\n",
    ")\n",
    "# 显示合并后的 DataFrame 的前几行\n",
    "m1_Kharif_combined.head()"
   ]
  },
  {
   "cell_type": "code",
   "execution_count": null,
   "metadata": {},
   "outputs": [
    {
     "data": {
      "text/html": [
       "<div>\n",
       "<style scoped>\n",
       "    .dataframe tbody tr th:only-of-type {\n",
       "        vertical-align: middle;\n",
       "    }\n",
       "\n",
       "    .dataframe tbody tr th {\n",
       "        vertical-align: top;\n",
       "    }\n",
       "\n",
       "    .dataframe thead th {\n",
       "        text-align: right;\n",
       "    }\n",
       "</style>\n",
       "<table border=\"1\" class=\"dataframe\">\n",
       "  <thead>\n",
       "    <tr style=\"text-align: right;\">\n",
       "      <th></th>\n",
       "      <th>state</th>\n",
       "      <th>crop</th>\n",
       "      <th>value</th>\n",
       "      <th>text</th>\n",
       "    </tr>\n",
       "  </thead>\n",
       "  <tbody>\n",
       "    <tr>\n",
       "      <th>0</th>\n",
       "      <td>Andhra Pradesh</td>\n",
       "      <td>rice</td>\n",
       "      <td>2042.0</td>\n",
       "      <td>rice: 2042.0k, &lt;br&gt; wheat: 1437.0k, &lt;br&gt; maize...</td>\n",
       "    </tr>\n",
       "    <tr>\n",
       "      <th>1</th>\n",
       "      <td>Assam</td>\n",
       "      <td>rice</td>\n",
       "      <td>776.0</td>\n",
       "      <td>rice: 776.0k, &lt;br&gt; wheat: 776.0k</td>\n",
       "    </tr>\n",
       "    <tr>\n",
       "      <th>2</th>\n",
       "      <td>Bihar</td>\n",
       "      <td>rice</td>\n",
       "      <td>1020.0</td>\n",
       "      <td>rice: 1020.0k, &lt;br&gt; wheat: 1450.0k, &lt;br&gt; maize...</td>\n",
       "    </tr>\n",
       "    <tr>\n",
       "      <th>3</th>\n",
       "      <td>Dadra and Nagar Haveli and Daman and Diu</td>\n",
       "      <td>rice</td>\n",
       "      <td>4.0</td>\n",
       "      <td>rice: 4.0k, &lt;br&gt; wheat: 4.0k, &lt;br&gt; maize: 4.0k</td>\n",
       "    </tr>\n",
       "    <tr>\n",
       "      <th>4</th>\n",
       "      <td>Goa</td>\n",
       "      <td>rice</td>\n",
       "      <td>30.0</td>\n",
       "      <td>rice: 30.0k</td>\n",
       "    </tr>\n",
       "  </tbody>\n",
       "</table>\n",
       "</div>"
      ],
      "text/plain": [
       "                                      state  crop   value  \\\n",
       "0                            Andhra Pradesh  rice  2042.0   \n",
       "1                                     Assam  rice   776.0   \n",
       "2                                     Bihar  rice  1020.0   \n",
       "3  Dadra and Nagar Haveli and Daman and Diu  rice     4.0   \n",
       "4                                       Goa  rice    30.0   \n",
       "\n",
       "                                                text  \n",
       "0  rice: 2042.0k, <br> wheat: 1437.0k, <br> maize...  \n",
       "1                   rice: 776.0k, <br> wheat: 776.0k  \n",
       "2  rice: 1020.0k, <br> wheat: 1450.0k, <br> maize...  \n",
       "3     rice: 4.0k, <br> wheat: 4.0k, <br> maize: 4.0k  \n",
       "4                                        rice: 30.0k  "
      ]
     },
     "execution_count": 405,
     "metadata": {},
     "output_type": "execute_result"
    }
   ],
   "source": [
    "import pandas as pd\n",
    "\n",
    "# Assuming m1_Rabi is your DataFrame\n",
    "\n",
    "# First, create a new 'text' column, formatted as 'crop: value'\n",
    "m1_Rabi[\"text\"] = m1_Rabi[\"crop\"] + \": \" + m1_Rabi[\"value\"].astype(str)+'k'\n",
    "\n",
    "# Use groupby to combine all crop information for the same state\n",
    "grouped_text = (\n",
    "    m1_Rabi.groupby(\"state\")[\"text\"].apply(lambda x: \", <br> \".join(x)).reset_index()\n",
    ")\n",
    "\n",
    "# Merge the combined text information back into the original DataFrame\n",
    "m1_Rabi_combined = m1_Rabi.drop(\"text\", axis=1).merge(grouped_text, on=\"state\")\n",
    "\n",
    "# Remove duplicate rows, keeping only a unique row for each state\n",
    "m1_Rabi_combined = m1_Rabi_combined.drop_duplicates(subset=\"state\").reset_index(\n",
    "    drop=True\n",
    ")\n",
    "m1_Rabi_combined[\"text\"] = m1_Rabi_combined[\"text\"].apply(\n",
    "    lambda x: \"<br>\".join(x.split(\"<br>\")[:3])\n",
    ")\n",
    "# Display the first few rows of the combined DataFrame\n",
    "m1_Rabi_combined.head()"
   ]
  },
  {
   "cell_type": "code",
   "execution_count": null,
   "metadata": {},
   "outputs": [],
   "source": []
  },
  {
   "cell_type": "code",
   "execution_count": null,
   "metadata": {},
   "outputs": [
    {
     "data": {
      "text/html": [
       "<div>\n",
       "<style scoped>\n",
       "    .dataframe tbody tr th:only-of-type {\n",
       "        vertical-align: middle;\n",
       "    }\n",
       "\n",
       "    .dataframe tbody tr th {\n",
       "        vertical-align: top;\n",
       "    }\n",
       "\n",
       "    .dataframe thead th {\n",
       "        text-align: right;\n",
       "    }\n",
       "</style>\n",
       "<table border=\"1\" class=\"dataframe\">\n",
       "  <thead>\n",
       "    <tr style=\"text-align: right;\">\n",
       "      <th></th>\n",
       "      <th>state</th>\n",
       "      <th>crop</th>\n",
       "      <th>value</th>\n",
       "      <th>text</th>\n",
       "    </tr>\n",
       "  </thead>\n",
       "  <tbody>\n",
       "    <tr>\n",
       "      <th>0</th>\n",
       "      <td>Andhra Pradesh</td>\n",
       "      <td>rice</td>\n",
       "      <td>2042.0</td>\n",
       "      <td>rice: 2042.0k, &lt;br&gt; wheat: 1437.0k, &lt;br&gt; maize...</td>\n",
       "    </tr>\n",
       "    <tr>\n",
       "      <th>1</th>\n",
       "      <td>Assam</td>\n",
       "      <td>rice</td>\n",
       "      <td>776.0</td>\n",
       "      <td>rice: 776.0k, &lt;br&gt; wheat: 776.0k</td>\n",
       "    </tr>\n",
       "    <tr>\n",
       "      <th>2</th>\n",
       "      <td>Bihar</td>\n",
       "      <td>rice</td>\n",
       "      <td>1020.0</td>\n",
       "      <td>rice: 1020.0k, &lt;br&gt; wheat: 1450.0k, &lt;br&gt; maize...</td>\n",
       "    </tr>\n",
       "    <tr>\n",
       "      <th>3</th>\n",
       "      <td>Dadra and Nagar Haveli and Daman and Diu</td>\n",
       "      <td>rice</td>\n",
       "      <td>4.0</td>\n",
       "      <td>rice: 4.0k, &lt;br&gt; wheat: 4.0k, &lt;br&gt; maize: 4.0k</td>\n",
       "    </tr>\n",
       "    <tr>\n",
       "      <th>4</th>\n",
       "      <td>Goa</td>\n",
       "      <td>rice</td>\n",
       "      <td>30.0</td>\n",
       "      <td>rice: 30.0k</td>\n",
       "    </tr>\n",
       "  </tbody>\n",
       "</table>\n",
       "</div>"
      ],
      "text/plain": [
       "                                      state  crop   value  \\\n",
       "0                            Andhra Pradesh  rice  2042.0   \n",
       "1                                     Assam  rice   776.0   \n",
       "2                                     Bihar  rice  1020.0   \n",
       "3  Dadra and Nagar Haveli and Daman and Diu  rice     4.0   \n",
       "4                                       Goa  rice    30.0   \n",
       "\n",
       "                                                text  \n",
       "0  rice: 2042.0k, <br> wheat: 1437.0k, <br> maize...  \n",
       "1                   rice: 776.0k, <br> wheat: 776.0k  \n",
       "2  rice: 1020.0k, <br> wheat: 1450.0k, <br> maize...  \n",
       "3     rice: 4.0k, <br> wheat: 4.0k, <br> maize: 4.0k  \n",
       "4                                        rice: 30.0k  "
      ]
     },
     "execution_count": 406,
     "metadata": {},
     "output_type": "execute_result"
    }
   ],
   "source": [
    "import pandas as pd\n",
    "\n",
    "# Assuming m2_Rabi is your DataFrame\n",
    "\n",
    "# First, create a new 'text' column, formatted as 'crop: value'\n",
    "m2_Rabi[\"text\"] = m2_Rabi[\"crop\"] + \": \" + m2_Rabi[\"value\"].astype(str) + \"k\"\n",
    "\n",
    "# Use groupby to combine all crop information for the same state\n",
    "grouped_text = (\n",
    "    m2_Rabi.groupby(\"state\")[\"text\"].apply(lambda x: \", <br> \".join(x)).reset_index()\n",
    ")\n",
    "\n",
    "# Merge the combined text information back into the original DataFrame\n",
    "m2_Rabi_combined = m2_Rabi.drop(\"text\", axis=1).merge(grouped_text, on=\"state\")\n",
    "\n",
    "# Remove duplicate rows, keeping only a unique row for each state\n",
    "m2_Rabi_combined = m2_Rabi_combined.drop_duplicates(subset=\"state\").reset_index(\n",
    "    drop=True\n",
    ")\n",
    "m2_Rabi_combined[\"text\"] = m2_Rabi_combined[\"text\"].apply(\n",
    "    lambda x: \"<br>\".join(x.split(\"<br>\")[:3])\n",
    ")\n",
    "# Display the first few rows of the combined DataFrame\n",
    "m2_Rabi_combined.head()"
   ]
  },
  {
   "cell_type": "code",
   "execution_count": null,
   "metadata": {},
   "outputs": [
    {
     "data": {
      "text/html": [
       "<div>\n",
       "<style scoped>\n",
       "    .dataframe tbody tr th:only-of-type {\n",
       "        vertical-align: middle;\n",
       "    }\n",
       "\n",
       "    .dataframe tbody tr th {\n",
       "        vertical-align: top;\n",
       "    }\n",
       "\n",
       "    .dataframe thead th {\n",
       "        text-align: right;\n",
       "    }\n",
       "</style>\n",
       "<table border=\"1\" class=\"dataframe\">\n",
       "  <thead>\n",
       "    <tr style=\"text-align: right;\">\n",
       "      <th></th>\n",
       "      <th>state</th>\n",
       "      <th>crop</th>\n",
       "      <th>value</th>\n",
       "      <th>text</th>\n",
       "    </tr>\n",
       "  </thead>\n",
       "  <tbody>\n",
       "    <tr>\n",
       "      <th>0</th>\n",
       "      <td>Andaman &amp; Nicobar</td>\n",
       "      <td>rice</td>\n",
       "      <td>4.0</td>\n",
       "      <td>rice: 4.0k</td>\n",
       "    </tr>\n",
       "    <tr>\n",
       "      <th>1</th>\n",
       "      <td>Andhra Pradesh</td>\n",
       "      <td>rice</td>\n",
       "      <td>2042.0</td>\n",
       "      <td>rice: 2042.0k, &lt;br&gt; cotton: 2042.0k, &lt;br&gt; maiz...</td>\n",
       "    </tr>\n",
       "    <tr>\n",
       "      <th>2</th>\n",
       "      <td>Arunachal Pradesh</td>\n",
       "      <td>rice</td>\n",
       "      <td>53.0</td>\n",
       "      <td>rice: 53.0k, &lt;br&gt; maize: 53.0k, &lt;br&gt; soyabean:...</td>\n",
       "    </tr>\n",
       "    <tr>\n",
       "      <th>3</th>\n",
       "      <td>Assam</td>\n",
       "      <td>rice</td>\n",
       "      <td>776.0</td>\n",
       "      <td>rice: 776.0k, &lt;br&gt; cotton: 776.0k, &lt;br&gt; maize:...</td>\n",
       "    </tr>\n",
       "    <tr>\n",
       "      <th>4</th>\n",
       "      <td>Chandigarh</td>\n",
       "      <td>rice</td>\n",
       "      <td>0.0</td>\n",
       "      <td>rice: 0.0k, &lt;br&gt; maize: 0.0k</td>\n",
       "    </tr>\n",
       "  </tbody>\n",
       "</table>\n",
       "</div>"
      ],
      "text/plain": [
       "               state  crop   value  \\\n",
       "0  Andaman & Nicobar  rice     4.0   \n",
       "1     Andhra Pradesh  rice  2042.0   \n",
       "2  Arunachal Pradesh  rice    53.0   \n",
       "3              Assam  rice   776.0   \n",
       "4         Chandigarh  rice     0.0   \n",
       "\n",
       "                                                text  \n",
       "0                                         rice: 4.0k  \n",
       "1  rice: 2042.0k, <br> cotton: 2042.0k, <br> maiz...  \n",
       "2  rice: 53.0k, <br> maize: 53.0k, <br> soyabean:...  \n",
       "3  rice: 776.0k, <br> cotton: 776.0k, <br> maize:...  \n",
       "4                       rice: 0.0k, <br> maize: 0.0k  "
      ]
     },
     "execution_count": 407,
     "metadata": {},
     "output_type": "execute_result"
    }
   ],
   "source": [
    "import pandas as pd\n",
    "\n",
    "# Assuming m2_Kharif is your DataFrame\n",
    "\n",
    "# First, create a new 'text' column, formatted as 'crop: value'\n",
    "m2_Kharif[\"text\"] = m2_Kharif[\"crop\"] + \": \" + m2_Kharif[\"value\"].astype(str) + \"k\"\n",
    "\n",
    "# Use groupby to combine all crop information for the same state\n",
    "grouped_text = (\n",
    "    m2_Kharif.groupby(\"state\")[\"text\"].apply(lambda x: \", <br> \".join(x)).reset_index()\n",
    ")\n",
    "\n",
    "# Merge the combined text information back into the original DataFrame\n",
    "m2_Kharif_combined = m2_Kharif.drop(\"text\", axis=1).merge(grouped_text, on=\"state\")\n",
    "\n",
    "# Remove duplicate rows, keeping only a unique row for each state\n",
    "m2_Kharif_combined = m2_Kharif_combined.drop_duplicates(subset=\"state\").reset_index(\n",
    "    drop=True\n",
    ")\n",
    "m2_Kharif_combined[\"text\"] = m2_Kharif_combined[\"text\"].apply(\n",
    "    lambda x: \"<br>\".join(x.split(\"<br>\")[:3])\n",
    ")\n",
    "# Display the first few rows of the combined DataFrame\n",
    "m2_Kharif_combined.head()"
   ]
  },
  {
   "cell_type": "code",
   "execution_count": null,
   "metadata": {},
   "outputs": [
    {
     "data": {
      "text/html": [
       "<div>\n",
       "<style scoped>\n",
       "    .dataframe tbody tr th:only-of-type {\n",
       "        vertical-align: middle;\n",
       "    }\n",
       "\n",
       "    .dataframe tbody tr th {\n",
       "        vertical-align: top;\n",
       "    }\n",
       "\n",
       "    .dataframe thead th {\n",
       "        text-align: right;\n",
       "    }\n",
       "</style>\n",
       "<table border=\"1\" class=\"dataframe\">\n",
       "  <thead>\n",
       "    <tr style=\"text-align: right;\">\n",
       "      <th></th>\n",
       "      <th>crop</th>\n",
       "      <th>state</th>\n",
       "      <th>Rabi</th>\n",
       "      <th>Summer</th>\n",
       "      <th>text</th>\n",
       "    </tr>\n",
       "  </thead>\n",
       "  <tbody>\n",
       "    <tr>\n",
       "      <th>0</th>\n",
       "      <td>wheat</td>\n",
       "      <td>Andhra Pradesh</td>\n",
       "      <td>1437297.75</td>\n",
       "      <td>NaN</td>\n",
       "      <td>wheat: 1437297.75</td>\n",
       "    </tr>\n",
       "    <tr>\n",
       "      <th>1</th>\n",
       "      <td>wheat</td>\n",
       "      <td>Arunachal Pradesh</td>\n",
       "      <td>52920</td>\n",
       "      <td>NaN</td>\n",
       "      <td>wheat: 52920</td>\n",
       "    </tr>\n",
       "    <tr>\n",
       "      <th>2</th>\n",
       "      <td>wheat</td>\n",
       "      <td>Assam</td>\n",
       "      <td>776459.25</td>\n",
       "      <td>NaN</td>\n",
       "      <td>wheat: 776459.25</td>\n",
       "    </tr>\n",
       "    <tr>\n",
       "      <th>3</th>\n",
       "      <td>wheat</td>\n",
       "      <td>Chandigarh</td>\n",
       "      <td>378</td>\n",
       "      <td>NaN</td>\n",
       "      <td>wheat: 378</td>\n",
       "    </tr>\n",
       "    <tr>\n",
       "      <th>4</th>\n",
       "      <td>wheat</td>\n",
       "      <td>Dadra and Nagar Haveli and Daman and Diu</td>\n",
       "      <td>4488.75</td>\n",
       "      <td>NaN</td>\n",
       "      <td>wheat: 4488.75</td>\n",
       "    </tr>\n",
       "    <tr>\n",
       "      <th>5</th>\n",
       "      <td>wheat</td>\n",
       "      <td>Gujarat</td>\n",
       "      <td>2407198.5</td>\n",
       "      <td>NaN</td>\n",
       "      <td>wheat: 2407198.5</td>\n",
       "    </tr>\n",
       "    <tr>\n",
       "      <th>6</th>\n",
       "      <td>wheat</td>\n",
       "      <td>Haryana</td>\n",
       "      <td>1222452</td>\n",
       "      <td>NaN</td>\n",
       "      <td>wheat: 1222452</td>\n",
       "    </tr>\n",
       "    <tr>\n",
       "      <th>7</th>\n",
       "      <td>wheat</td>\n",
       "      <td>Himachal Pradesh</td>\n",
       "      <td>175959</td>\n",
       "      <td>NaN</td>\n",
       "      <td>wheat: 175959</td>\n",
       "    </tr>\n",
       "    <tr>\n",
       "      <th>8</th>\n",
       "      <td>wheat</td>\n",
       "      <td>Jammu &amp; Kashmir</td>\n",
       "      <td>221082.75</td>\n",
       "      <td>NaN</td>\n",
       "      <td>wheat: 221082.75</td>\n",
       "    </tr>\n",
       "    <tr>\n",
       "      <th>9</th>\n",
       "      <td>wheat</td>\n",
       "      <td>Jharkhand</td>\n",
       "      <td>298289.25</td>\n",
       "      <td>NaN</td>\n",
       "      <td>wheat: 298289.25</td>\n",
       "    </tr>\n",
       "    <tr>\n",
       "      <th>10</th>\n",
       "      <td>wheat</td>\n",
       "      <td>Madhya Pradesh</td>\n",
       "      <td>4418016.75</td>\n",
       "      <td>NaN</td>\n",
       "      <td>wheat: 4418016.75</td>\n",
       "    </tr>\n",
       "    <tr>\n",
       "      <th>11</th>\n",
       "      <td>wheat</td>\n",
       "      <td>Maharashtra</td>\n",
       "      <td>4291481.25</td>\n",
       "      <td>NaN</td>\n",
       "      <td>wheat: 4291481.25&lt;br&gt;soyabean: 4291481.25</td>\n",
       "    </tr>\n",
       "    <tr>\n",
       "      <th>12</th>\n",
       "      <td>wheat</td>\n",
       "      <td>Odisha</td>\n",
       "      <td>677435.500  962671.500</td>\n",
       "      <td>NaN</td>\n",
       "      <td>wheat: 677435.500  962671.500</td>\n",
       "    </tr>\n",
       "    <tr>\n",
       "      <th>13</th>\n",
       "      <td>wheat</td>\n",
       "      <td>Punjab</td>\n",
       "      <td>1487430</td>\n",
       "      <td>NaN</td>\n",
       "      <td>wheat: 1487430</td>\n",
       "    </tr>\n",
       "    <tr>\n",
       "      <th>14</th>\n",
       "      <td>wheat</td>\n",
       "      <td>Rajasthan</td>\n",
       "      <td>4668961.5</td>\n",
       "      <td>NaN</td>\n",
       "      <td>wheat: 4668961.5</td>\n",
       "    </tr>\n",
       "    <tr>\n",
       "      <th>15</th>\n",
       "      <td>wheat</td>\n",
       "      <td>Sikkim</td>\n",
       "      <td>26649</td>\n",
       "      <td>NaN</td>\n",
       "      <td>wheat: 26649</td>\n",
       "    </tr>\n",
       "    <tr>\n",
       "      <th>16</th>\n",
       "      <td>wheat</td>\n",
       "      <td>Telangana</td>\n",
       "      <td>1096483.5</td>\n",
       "      <td>NaN</td>\n",
       "      <td>wheat: 1096483.5</td>\n",
       "    </tr>\n",
       "    <tr>\n",
       "      <th>17</th>\n",
       "      <td>wheat</td>\n",
       "      <td>Tripura</td>\n",
       "      <td>89916.75</td>\n",
       "      <td>NaN</td>\n",
       "      <td>wheat: 89916.75</td>\n",
       "    </tr>\n",
       "    <tr>\n",
       "      <th>18</th>\n",
       "      <td>wheat</td>\n",
       "      <td>Uttar Pradesh</td>\n",
       "      <td>4904691.75</td>\n",
       "      <td>NaN</td>\n",
       "      <td>wheat: 4904691.75</td>\n",
       "    </tr>\n",
       "    <tr>\n",
       "      <th>19</th>\n",
       "      <td>wheat</td>\n",
       "      <td>Uttarakhand</td>\n",
       "      <td>210357</td>\n",
       "      <td>NaN</td>\n",
       "      <td>wheat: 210357</td>\n",
       "    </tr>\n",
       "    <tr>\n",
       "      <th>20</th>\n",
       "      <td>cotton</td>\n",
       "      <td>Karnataka</td>\n",
       "      <td>2283167.25</td>\n",
       "      <td>NaN</td>\n",
       "      <td>cotton: 2283167.25</td>\n",
       "    </tr>\n",
       "    <tr>\n",
       "      <th>21</th>\n",
       "      <td>cotton</td>\n",
       "      <td>Manipur</td>\n",
       "      <td>67756.5</td>\n",
       "      <td>NaN</td>\n",
       "      <td>cotton: 67756.5</td>\n",
       "    </tr>\n",
       "    <tr>\n",
       "      <th>22</th>\n",
       "      <td>cotton</td>\n",
       "      <td>Meghalaya</td>\n",
       "      <td>45386.25</td>\n",
       "      <td>NaN</td>\n",
       "      <td>cotton: 45386.25</td>\n",
       "    </tr>\n",
       "  </tbody>\n",
       "</table>\n",
       "</div>"
      ],
      "text/plain": [
       "      crop                                     state                    Rabi  \\\n",
       "0    wheat                            Andhra Pradesh              1437297.75   \n",
       "1    wheat                         Arunachal Pradesh                   52920   \n",
       "2    wheat                                     Assam               776459.25   \n",
       "3    wheat                                Chandigarh                     378   \n",
       "4    wheat  Dadra and Nagar Haveli and Daman and Diu                 4488.75   \n",
       "5    wheat                                   Gujarat               2407198.5   \n",
       "6    wheat                                   Haryana                 1222452   \n",
       "7    wheat                          Himachal Pradesh                  175959   \n",
       "8    wheat                           Jammu & Kashmir               221082.75   \n",
       "9    wheat                                 Jharkhand               298289.25   \n",
       "10   wheat                            Madhya Pradesh              4418016.75   \n",
       "11   wheat                               Maharashtra              4291481.25   \n",
       "12   wheat                                    Odisha  677435.500  962671.500   \n",
       "13   wheat                                    Punjab                 1487430   \n",
       "14   wheat                                 Rajasthan               4668961.5   \n",
       "15   wheat                                    Sikkim                   26649   \n",
       "16   wheat                                 Telangana               1096483.5   \n",
       "17   wheat                                   Tripura                89916.75   \n",
       "18   wheat                             Uttar Pradesh              4904691.75   \n",
       "19   wheat                               Uttarakhand                  210357   \n",
       "20  cotton                                 Karnataka              2283167.25   \n",
       "21  cotton                                   Manipur                 67756.5   \n",
       "22  cotton                                 Meghalaya                45386.25   \n",
       "\n",
       "    Summer                                       text  \n",
       "0      NaN                          wheat: 1437297.75  \n",
       "1      NaN                               wheat: 52920  \n",
       "2      NaN                           wheat: 776459.25  \n",
       "3      NaN                                 wheat: 378  \n",
       "4      NaN                             wheat: 4488.75  \n",
       "5      NaN                           wheat: 2407198.5  \n",
       "6      NaN                             wheat: 1222452  \n",
       "7      NaN                              wheat: 175959  \n",
       "8      NaN                           wheat: 221082.75  \n",
       "9      NaN                           wheat: 298289.25  \n",
       "10     NaN                          wheat: 4418016.75  \n",
       "11     NaN  wheat: 4291481.25<br>soyabean: 4291481.25  \n",
       "12     NaN              wheat: 677435.500  962671.500  \n",
       "13     NaN                             wheat: 1487430  \n",
       "14     NaN                           wheat: 4668961.5  \n",
       "15     NaN                               wheat: 26649  \n",
       "16     NaN                           wheat: 1096483.5  \n",
       "17     NaN                            wheat: 89916.75  \n",
       "18     NaN                          wheat: 4904691.75  \n",
       "19     NaN                              wheat: 210357  \n",
       "20     NaN                         cotton: 2283167.25  \n",
       "21     NaN                            cotton: 67756.5  \n",
       "22     NaN                           cotton: 45386.25  "
      ]
     },
     "execution_count": 416,
     "metadata": {},
     "output_type": "execute_result"
    }
   ],
   "source": [
    "BenifitModel2_combined"
   ]
  },
  {
   "cell_type": "code",
   "execution_count": null,
   "metadata": {},
   "outputs": [
    {
     "data": {
      "text/html": [
       "<div>\n",
       "<style scoped>\n",
       "    .dataframe tbody tr th:only-of-type {\n",
       "        vertical-align: middle;\n",
       "    }\n",
       "\n",
       "    .dataframe tbody tr th {\n",
       "        vertical-align: top;\n",
       "    }\n",
       "\n",
       "    .dataframe thead th {\n",
       "        text-align: right;\n",
       "    }\n",
       "</style>\n",
       "<table border=\"1\" class=\"dataframe\">\n",
       "  <thead>\n",
       "    <tr style=\"text-align: right;\">\n",
       "      <th></th>\n",
       "      <th>crop</th>\n",
       "      <th>state</th>\n",
       "      <th>Rabi</th>\n",
       "      <th>Summer</th>\n",
       "      <th>text</th>\n",
       "    </tr>\n",
       "  </thead>\n",
       "  <tbody>\n",
       "    <tr>\n",
       "      <th>0</th>\n",
       "      <td>wheat</td>\n",
       "      <td>Andhra Pradesh</td>\n",
       "      <td>1437297.75</td>\n",
       "      <td>NaN</td>\n",
       "      <td>Rotation Benifit:&lt;br&gt;wheat: 1437297.75&lt;br&gt;Area...</td>\n",
       "    </tr>\n",
       "    <tr>\n",
       "      <th>1</th>\n",
       "      <td>wheat</td>\n",
       "      <td>Arunachal Pradesh</td>\n",
       "      <td>52920</td>\n",
       "      <td>NaN</td>\n",
       "      <td>Rotation Benifit:&lt;br&gt;wheat: 52920&lt;br&gt;Area Size...</td>\n",
       "    </tr>\n",
       "    <tr>\n",
       "      <th>2</th>\n",
       "      <td>wheat</td>\n",
       "      <td>Assam</td>\n",
       "      <td>776459.25</td>\n",
       "      <td>NaN</td>\n",
       "      <td>Rotation Benifit:&lt;br&gt;wheat: 776459.25&lt;br&gt;Area ...</td>\n",
       "    </tr>\n",
       "    <tr>\n",
       "      <th>3</th>\n",
       "      <td>wheat</td>\n",
       "      <td>Chandigarh</td>\n",
       "      <td>378</td>\n",
       "      <td>NaN</td>\n",
       "      <td>Rotation Benifit:&lt;br&gt;wheat: 378&lt;br&gt;Area Size:&lt;...</td>\n",
       "    </tr>\n",
       "    <tr>\n",
       "      <th>4</th>\n",
       "      <td>wheat</td>\n",
       "      <td>Dadra and Nagar Haveli and Daman and Diu</td>\n",
       "      <td>4488.75</td>\n",
       "      <td>NaN</td>\n",
       "      <td>Rotation Benifit:&lt;br&gt;wheat: 4488.75&lt;br&gt;Area Si...</td>\n",
       "    </tr>\n",
       "  </tbody>\n",
       "</table>\n",
       "</div>"
      ],
      "text/plain": [
       "    crop                                     state        Rabi  Summer  \\\n",
       "0  wheat                            Andhra Pradesh  1437297.75     NaN   \n",
       "1  wheat                         Arunachal Pradesh       52920     NaN   \n",
       "2  wheat                                     Assam   776459.25     NaN   \n",
       "3  wheat                                Chandigarh         378     NaN   \n",
       "4  wheat  Dadra and Nagar Haveli and Daman and Diu     4488.75     NaN   \n",
       "\n",
       "                                                text  \n",
       "0  Rotation Benifit:<br>wheat: 1437297.75<br>Area...  \n",
       "1  Rotation Benifit:<br>wheat: 52920<br>Area Size...  \n",
       "2  Rotation Benifit:<br>wheat: 776459.25<br>Area ...  \n",
       "3  Rotation Benifit:<br>wheat: 378<br>Area Size:<...  \n",
       "4  Rotation Benifit:<br>wheat: 4488.75<br>Area Si...  "
      ]
     },
     "execution_count": 408,
     "metadata": {},
     "output_type": "execute_result"
    }
   ],
   "source": [
    "# Merge the two DataFrames on 'state'\n",
    "merged_df_Rabi = pd.merge(\n",
    "    BenifitModel2_combined,\n",
    "    m2_Rabi_combined[[\"state\", \"text\"]],\n",
    "    on=\"state\",\n",
    "    suffixes=(\"_Benifit\", \"_Rabi\"),\n",
    ")\n",
    "\n",
    "# Combine the 'text' columns\n",
    "merged_df_Rabi[\"text\"] = (\n",
    "    \"Rotation Benifit:<br>\"\n",
    "    + merged_df_Rabi[\"text_Benifit\"]\n",
    "    + \"<br>\"\n",
    "    + \"Area Size:<br>\"\n",
    "    + merged_df_Rabi[\"text_Rabi\"]\n",
    ")\n",
    "\n",
    "# Drop the original 'text' columns\n",
    "merged_df_Rabi = merged_df_Rabi.drop([\"text_Benifit\", \"text_Rabi\"], axis=1)\n",
    "\n",
    "# Display the first few rows of the merged DataFrame\n",
    "merged_df_Rabi.head()"
   ]
  },
  {
   "cell_type": "code",
   "execution_count": null,
   "metadata": {},
   "outputs": [
    {
     "data": {
      "text/html": [
       "<div>\n",
       "<style scoped>\n",
       "    .dataframe tbody tr th:only-of-type {\n",
       "        vertical-align: middle;\n",
       "    }\n",
       "\n",
       "    .dataframe tbody tr th {\n",
       "        vertical-align: top;\n",
       "    }\n",
       "\n",
       "    .dataframe thead th {\n",
       "        text-align: right;\n",
       "    }\n",
       "</style>\n",
       "<table border=\"1\" class=\"dataframe\">\n",
       "  <thead>\n",
       "    <tr style=\"text-align: right;\">\n",
       "      <th></th>\n",
       "      <th>crop</th>\n",
       "      <th>state</th>\n",
       "      <th>Rabi</th>\n",
       "      <th>Summer</th>\n",
       "      <th>text</th>\n",
       "    </tr>\n",
       "  </thead>\n",
       "  <tbody>\n",
       "    <tr>\n",
       "      <th>0</th>\n",
       "      <td>wheat</td>\n",
       "      <td>Andhra Pradesh</td>\n",
       "      <td>1437297.75</td>\n",
       "      <td>0.0</td>\n",
       "      <td>Area Size:&lt;br&gt;rice: 2042.0k, &lt;br&gt; cotton: 2042...</td>\n",
       "    </tr>\n",
       "    <tr>\n",
       "      <th>1</th>\n",
       "      <td>wheat</td>\n",
       "      <td>Arunachal Pradesh</td>\n",
       "      <td>52920</td>\n",
       "      <td>0.0</td>\n",
       "      <td>Area Size:&lt;br&gt;rice: 53.0k, &lt;br&gt; maize: 53.0k, ...</td>\n",
       "    </tr>\n",
       "    <tr>\n",
       "      <th>2</th>\n",
       "      <td>wheat</td>\n",
       "      <td>Assam</td>\n",
       "      <td>776459.25</td>\n",
       "      <td>0.0</td>\n",
       "      <td>Area Size:&lt;br&gt;rice: 776.0k, &lt;br&gt; cotton: 776.0...</td>\n",
       "    </tr>\n",
       "    <tr>\n",
       "      <th>3</th>\n",
       "      <td>wheat</td>\n",
       "      <td>Chandigarh</td>\n",
       "      <td>378</td>\n",
       "      <td>0.0</td>\n",
       "      <td>Area Size:&lt;br&gt;rice: 0.0k, &lt;br&gt; maize: 0.0k</td>\n",
       "    </tr>\n",
       "    <tr>\n",
       "      <th>4</th>\n",
       "      <td>wheat</td>\n",
       "      <td>Dadra and Nagar Haveli and Daman and Diu</td>\n",
       "      <td>4488.75</td>\n",
       "      <td>0.0</td>\n",
       "      <td>Area Size:&lt;br&gt;rice: 4.0k, &lt;br&gt; maize: 4.0k</td>\n",
       "    </tr>\n",
       "  </tbody>\n",
       "</table>\n",
       "</div>"
      ],
      "text/plain": [
       "    crop                                     state        Rabi  Summer  \\\n",
       "0  wheat                            Andhra Pradesh  1437297.75     0.0   \n",
       "1  wheat                         Arunachal Pradesh       52920     0.0   \n",
       "2  wheat                                     Assam   776459.25     0.0   \n",
       "3  wheat                                Chandigarh         378     0.0   \n",
       "4  wheat  Dadra and Nagar Haveli and Daman and Diu     4488.75     0.0   \n",
       "\n",
       "                                                text  \n",
       "0  Area Size:<br>rice: 2042.0k, <br> cotton: 2042...  \n",
       "1  Area Size:<br>rice: 53.0k, <br> maize: 53.0k, ...  \n",
       "2  Area Size:<br>rice: 776.0k, <br> cotton: 776.0...  \n",
       "3         Area Size:<br>rice: 0.0k, <br> maize: 0.0k  \n",
       "4         Area Size:<br>rice: 4.0k, <br> maize: 4.0k  "
      ]
     },
     "execution_count": 409,
     "metadata": {},
     "output_type": "execute_result"
    }
   ],
   "source": [
    "# Merge the two DataFrames on 'state'\n",
    "merged_df_Kharif = pd.merge(\n",
    "    BenifitModel2_combined,\n",
    "    m2_Kharif_combined[[\"state\", \"text\"]],\n",
    "    on=\"state\",\n",
    "    suffixes=(\"_Benifit\", \"_Kharif\"),\n",
    ")\n",
    "\n",
    "# Combine the 'text' columns\n",
    "merged_df_Kharif[\"text\"] = \"Area Size:<br>\" + merged_df_Kharif[\"text_Kharif\"]\n",
    "\n",
    "# Drop the original 'text' columns\n",
    "merged_df_Kharif = merged_df_Kharif.drop([\"text_Benifit\", \"text_Kharif\"], axis=1)\n",
    "\n",
    "# Fill NaN values in 'Summer' column with 0\n",
    "merged_df_Kharif[\"Summer\"] = merged_df_Kharif[\"Summer\"].fillna(0)\n",
    "\n",
    "# Display the first few rows of the DataFrame\n",
    "merged_df_Kharif.head()"
   ]
  },
  {
   "cell_type": "code",
   "execution_count": null,
   "metadata": {},
   "outputs": [
    {
     "name": "stderr",
     "output_type": "stream",
     "text": [
      "C:\\Users\\redhawc\\AppData\\Local\\Temp\\ipykernel_55160\\630832872.py:29: UserWarning:\n",
      "\n",
      "Geometry is in a geographic CRS. Results from 'centroid' are likely incorrect. Use 'GeoSeries.to_crs()' to re-project geometries to a projected CRS before this operation.\n",
      "\n",
      "\n"
     ]
    },
    {
     "data": {
      "application/vnd.plotly.v1+json": {
       "config": {
        "plotlyServerURL": "https://plot.ly"
       },
       "data": [
        {
         "colorscale": [
          [
           0,
           "white"
          ],
          [
           1,
           "white"
          ]
         ],
         "featureidkey": "properties.ST_NM",
         "geojson": "https://gist.githubusercontent.com/jbrobst/56c13bbbf9d97d187fea01ca62ea5112/raw/e388c4cae20aa53cb5090210a42ebb9b765c0a36/india_states.geojson",
         "hoverinfo": "location+text",
         "locations": [
          "Arunachal Pradesh",
          "Assam",
          "Chandigarh",
          "Karnataka",
          "Manipur",
          "Meghalaya",
          "Mizoram",
          "Nagaland",
          "Punjab",
          "Rajasthan",
          "Sikkim",
          "Tripura",
          "Uttarakhand",
          "Telangana",
          "Bihar",
          "Kerala",
          "Madhya Pradesh",
          "Andaman & Nicobar",
          "Gujarat",
          "Odisha",
          "Dadra and Nagar Haveli and Daman and Diu",
          "Jammu & Kashmir",
          "Chhattisgarh",
          "Goa",
          "Haryana",
          "Himachal Pradesh",
          "Jharkhand",
          "Tamil Nadu",
          "Uttar Pradesh",
          "West Bengal",
          "Andhra Pradesh",
          "Puducherry",
          "Maharashtra"
         ],
         "marker": {
          "line": {
           "color": "burlywood"
          }
         },
         "text": [
          "rice: 53.0k, <br> maize: 53.0k, <br> soyabean: 53.0k",
          "rice: 776.0k, <br> cotton: 776.0k, <br> maize: 546.0k, ",
          "rice: 0.0k, <br> maize: 0.0k",
          "rice: 1607.0k, <br> cotton: 2283.0k, <br> maize: 2283.0k, ",
          "rice: 68.0k, <br> maize: 68.0k, <br> jute: 68.0k, ",
          "rice: 64.0k, <br> cotton: 64.0k, <br> jute: 64.0k, ",
          "cotton: 22.0k, <br> maize: 16.0k, <br> potato: 22.0k, ",
          "cotton: 93.0k, <br> jute: 93.0k, <br> potato: 93.0k, ",
          "rice: 1487.0k, <br> cotton: 1487.0k, <br> maize: 1487.0k",
          "rice: 4669.0k, <br> cotton: 4669.0k, <br> maize: 3286.0k, ",
          "rice: 27.0k, <br> maize: 27.0k, <br> soyabean: 27.0k",
          "rice: 90.0k, <br> cotton: 90.0k, <br> maize: 63.0k, ",
          "rice: 148.0k, <br> horsegram: 210.0k, <br> potato: 210.0k, ",
          "rice: 772.0k, <br> cotton: 1096.0k, <br> maize: 1096.0k, ",
          "cotton: 1020.0k, <br> maize: 1450.0k, <br> jute: 1450.0k, ",
          "rice: 496.0k, <br> cotton: 496.0k",
          "cotton: 4418.0k, <br> maize: 3109.0k, <br> jute: 4418.0k, ",
          "rice: 4.0k",
          "rice: 2407.0k, <br> cotton: 2407.0k, <br> maize: 2407.0k, ",
          "rice: 677.0k, <br> cotton: 963.0k, <br> maize: 963.0k, ",
          "rice: 4.0k, <br> maize: 4.0k",
          "rice: 221.0k, <br> cotton: 156.0k, <br> maize: 221.0k, ",
          "cotton: 1076.0k, <br> horsegram: 1076.0k, <br> potato: 1076.0k, ",
          "rice: 30.0k",
          "rice: 1222.0k, <br> cotton: 1222.0k, <br> maize: 1222.0k, ",
          "cotton: 124.0k, <br> maize: 176.0k, <br> potato: 176.0k, ",
          "rice: 298.0k, <br> maize: 298.0k",
          "rice: 1083.0k, <br> cotton: 1083.0k, <br> maize: 1083.0k, ",
          "rice: 4905.0k, <br> cotton: 4905.0k, <br> maize: 4905.0k, ",
          "cotton: 1801.0k, <br> maize: 1267.0k, <br> jute: 1801.0k, ",
          "rice: 2042.0k, <br> cotton: 2042.0k, <br> maize: 2042.0k, ",
          "rice: 5.0k, <br> cotton: 5.0k",
          "rice: 4291.0k, <br> cotton: 4291.0k, <br> maize: 3020.0k, "
         ],
         "type": "choropleth",
         "z": [
          53,
          776,
          0,
          1607,
          68,
          64,
          22,
          93,
          1487,
          4669,
          27,
          90,
          148,
          772,
          1020,
          496,
          4418,
          4,
          2407,
          677,
          4,
          221,
          1076,
          30,
          1222,
          124,
          298,
          1083,
          4905,
          1801,
          2042,
          5,
          4291
         ]
        },
        {
         "lat": [
          28.036066389221745,
          26.35497847998204,
          30.728361392535774,
          14.710405551302284,
          24.735076113494813,
          25.53557728306151,
          23.307807060427923,
          26.06263369503263,
          30.842226635713363,
          26.584407666563767,
          27.569923150949375,
          23.745137620836996,
          30.156611868236627,
          17.80072036096087,
          25.679308370917205,
          10.450407387317862,
          23.538135963929847,
          11.197968822798963,
          22.69839433488582,
          20.513987029808025,
          20.242551887312832,
          33.64511955131811,
          21.26613164744112,
          15.36387631250899,
          29.198138148009594,
          31.926225889963035,
          23.65613966615685,
          11.01405549421972,
          26.923298352608214,
          23.811829251836777,
          15.756113460734964,
          11.851519914672929,
          19.451500358423914
         ],
         "lon": [
          94.6748326791631,
          92.82634309387305,
          76.78078044460244,
          76.16747452915338,
          93.87884193997611,
          91.27735620953041,
          92.83177176819507,
          94.46701721365893,
          75.41580388296326,
          73.84984184046439,
          88.47340321820725,
          91.73906864094313,
          79.20658342280629,
          79.00868646725074,
          85.61004153869405,
          76.40848222253885,
          78.28915293669499,
          92.95771321465169,
          71.57222579220684,
          84.43061890111004,
          72.93083224907231,
          74.85839980588838,
          82.04096397209855,
          74.05414749664932,
          76.34018047967007,
          77.24450791093216,
          85.56363713960563,
          78.40845445799587,
          80.566053063026,
          87.98378526747015,
          79.96564733254941,
          79.86026451499595,
          76.10751008526249
         ],
         "mode": "text",
         "text": [
          "rice: 53.0k, <br> maize: 53.0k, <br> soyabean: 53.0k",
          "rice: 776.0k, <br> cotton: 776.0k, <br> maize: 546.0k, ",
          "rice: 0.0k, <br> maize: 0.0k",
          "rice: 1607.0k, <br> cotton: 2283.0k, <br> maize: 2283.0k, ",
          "rice: 68.0k, <br> maize: 68.0k, <br> jute: 68.0k, ",
          "rice: 64.0k, <br> cotton: 64.0k, <br> jute: 64.0k, ",
          "cotton: 22.0k, <br> maize: 16.0k, <br> potato: 22.0k, ",
          "cotton: 93.0k, <br> jute: 93.0k, <br> potato: 93.0k, ",
          "rice: 1487.0k, <br> cotton: 1487.0k, <br> maize: 1487.0k",
          "rice: 4669.0k, <br> cotton: 4669.0k, <br> maize: 3286.0k, ",
          "rice: 27.0k, <br> maize: 27.0k, <br> soyabean: 27.0k",
          "rice: 90.0k, <br> cotton: 90.0k, <br> maize: 63.0k, ",
          "rice: 148.0k, <br> horsegram: 210.0k, <br> potato: 210.0k, ",
          "rice: 772.0k, <br> cotton: 1096.0k, <br> maize: 1096.0k, ",
          "cotton: 1020.0k, <br> maize: 1450.0k, <br> jute: 1450.0k, ",
          "rice: 496.0k, <br> cotton: 496.0k",
          "cotton: 4418.0k, <br> maize: 3109.0k, <br> jute: 4418.0k, ",
          "rice: 4.0k",
          "rice: 2407.0k, <br> cotton: 2407.0k, <br> maize: 2407.0k, ",
          "rice: 677.0k, <br> cotton: 963.0k, <br> maize: 963.0k, ",
          "rice: 4.0k, <br> maize: 4.0k",
          "rice: 221.0k, <br> cotton: 156.0k, <br> maize: 221.0k, ",
          "cotton: 1076.0k, <br> horsegram: 1076.0k, <br> potato: 1076.0k, ",
          "rice: 30.0k",
          "rice: 1222.0k, <br> cotton: 1222.0k, <br> maize: 1222.0k, ",
          "cotton: 124.0k, <br> maize: 176.0k, <br> potato: 176.0k, ",
          "rice: 298.0k, <br> maize: 298.0k",
          "rice: 1083.0k, <br> cotton: 1083.0k, <br> maize: 1083.0k, ",
          "rice: 4905.0k, <br> cotton: 4905.0k, <br> maize: 4905.0k, ",
          "cotton: 1801.0k, <br> maize: 1267.0k, <br> jute: 1801.0k, ",
          "rice: 2042.0k, <br> cotton: 2042.0k, <br> maize: 2042.0k, ",
          "rice: 5.0k, <br> cotton: 5.0k",
          "rice: 4291.0k, <br> cotton: 4291.0k, <br> maize: 3020.0k, "
         ],
         "textfont": {
          "color": "darkred",
          "size": 8
         },
         "type": "scattergeo"
        }
       ],
       "layout": {
        "geo": {
         "fitbounds": "locations",
         "visible": false
        },
        "height": 1200,
        "margin": {
         "b": 0,
         "l": 0,
         "r": 0,
         "t": 0
        },
        "template": {
         "data": {
          "bar": [
           {
            "error_x": {
             "color": "#2a3f5f"
            },
            "error_y": {
             "color": "#2a3f5f"
            },
            "marker": {
             "line": {
              "color": "#E5ECF6",
              "width": 0.5
             },
             "pattern": {
              "fillmode": "overlay",
              "size": 10,
              "solidity": 0.2
             }
            },
            "type": "bar"
           }
          ],
          "barpolar": [
           {
            "marker": {
             "line": {
              "color": "#E5ECF6",
              "width": 0.5
             },
             "pattern": {
              "fillmode": "overlay",
              "size": 10,
              "solidity": 0.2
             }
            },
            "type": "barpolar"
           }
          ],
          "carpet": [
           {
            "aaxis": {
             "endlinecolor": "#2a3f5f",
             "gridcolor": "white",
             "linecolor": "white",
             "minorgridcolor": "white",
             "startlinecolor": "#2a3f5f"
            },
            "baxis": {
             "endlinecolor": "#2a3f5f",
             "gridcolor": "white",
             "linecolor": "white",
             "minorgridcolor": "white",
             "startlinecolor": "#2a3f5f"
            },
            "type": "carpet"
           }
          ],
          "choropleth": [
           {
            "colorbar": {
             "outlinewidth": 0,
             "ticks": ""
            },
            "type": "choropleth"
           }
          ],
          "contour": [
           {
            "colorbar": {
             "outlinewidth": 0,
             "ticks": ""
            },
            "colorscale": [
             [
              0,
              "#0d0887"
             ],
             [
              0.1111111111111111,
              "#46039f"
             ],
             [
              0.2222222222222222,
              "#7201a8"
             ],
             [
              0.3333333333333333,
              "#9c179e"
             ],
             [
              0.4444444444444444,
              "#bd3786"
             ],
             [
              0.5555555555555556,
              "#d8576b"
             ],
             [
              0.6666666666666666,
              "#ed7953"
             ],
             [
              0.7777777777777778,
              "#fb9f3a"
             ],
             [
              0.8888888888888888,
              "#fdca26"
             ],
             [
              1,
              "#f0f921"
             ]
            ],
            "type": "contour"
           }
          ],
          "contourcarpet": [
           {
            "colorbar": {
             "outlinewidth": 0,
             "ticks": ""
            },
            "type": "contourcarpet"
           }
          ],
          "heatmap": [
           {
            "colorbar": {
             "outlinewidth": 0,
             "ticks": ""
            },
            "colorscale": [
             [
              0,
              "#0d0887"
             ],
             [
              0.1111111111111111,
              "#46039f"
             ],
             [
              0.2222222222222222,
              "#7201a8"
             ],
             [
              0.3333333333333333,
              "#9c179e"
             ],
             [
              0.4444444444444444,
              "#bd3786"
             ],
             [
              0.5555555555555556,
              "#d8576b"
             ],
             [
              0.6666666666666666,
              "#ed7953"
             ],
             [
              0.7777777777777778,
              "#fb9f3a"
             ],
             [
              0.8888888888888888,
              "#fdca26"
             ],
             [
              1,
              "#f0f921"
             ]
            ],
            "type": "heatmap"
           }
          ],
          "heatmapgl": [
           {
            "colorbar": {
             "outlinewidth": 0,
             "ticks": ""
            },
            "colorscale": [
             [
              0,
              "#0d0887"
             ],
             [
              0.1111111111111111,
              "#46039f"
             ],
             [
              0.2222222222222222,
              "#7201a8"
             ],
             [
              0.3333333333333333,
              "#9c179e"
             ],
             [
              0.4444444444444444,
              "#bd3786"
             ],
             [
              0.5555555555555556,
              "#d8576b"
             ],
             [
              0.6666666666666666,
              "#ed7953"
             ],
             [
              0.7777777777777778,
              "#fb9f3a"
             ],
             [
              0.8888888888888888,
              "#fdca26"
             ],
             [
              1,
              "#f0f921"
             ]
            ],
            "type": "heatmapgl"
           }
          ],
          "histogram": [
           {
            "marker": {
             "pattern": {
              "fillmode": "overlay",
              "size": 10,
              "solidity": 0.2
             }
            },
            "type": "histogram"
           }
          ],
          "histogram2d": [
           {
            "colorbar": {
             "outlinewidth": 0,
             "ticks": ""
            },
            "colorscale": [
             [
              0,
              "#0d0887"
             ],
             [
              0.1111111111111111,
              "#46039f"
             ],
             [
              0.2222222222222222,
              "#7201a8"
             ],
             [
              0.3333333333333333,
              "#9c179e"
             ],
             [
              0.4444444444444444,
              "#bd3786"
             ],
             [
              0.5555555555555556,
              "#d8576b"
             ],
             [
              0.6666666666666666,
              "#ed7953"
             ],
             [
              0.7777777777777778,
              "#fb9f3a"
             ],
             [
              0.8888888888888888,
              "#fdca26"
             ],
             [
              1,
              "#f0f921"
             ]
            ],
            "type": "histogram2d"
           }
          ],
          "histogram2dcontour": [
           {
            "colorbar": {
             "outlinewidth": 0,
             "ticks": ""
            },
            "colorscale": [
             [
              0,
              "#0d0887"
             ],
             [
              0.1111111111111111,
              "#46039f"
             ],
             [
              0.2222222222222222,
              "#7201a8"
             ],
             [
              0.3333333333333333,
              "#9c179e"
             ],
             [
              0.4444444444444444,
              "#bd3786"
             ],
             [
              0.5555555555555556,
              "#d8576b"
             ],
             [
              0.6666666666666666,
              "#ed7953"
             ],
             [
              0.7777777777777778,
              "#fb9f3a"
             ],
             [
              0.8888888888888888,
              "#fdca26"
             ],
             [
              1,
              "#f0f921"
             ]
            ],
            "type": "histogram2dcontour"
           }
          ],
          "mesh3d": [
           {
            "colorbar": {
             "outlinewidth": 0,
             "ticks": ""
            },
            "type": "mesh3d"
           }
          ],
          "parcoords": [
           {
            "line": {
             "colorbar": {
              "outlinewidth": 0,
              "ticks": ""
             }
            },
            "type": "parcoords"
           }
          ],
          "pie": [
           {
            "automargin": true,
            "type": "pie"
           }
          ],
          "scatter": [
           {
            "fillpattern": {
             "fillmode": "overlay",
             "size": 10,
             "solidity": 0.2
            },
            "type": "scatter"
           }
          ],
          "scatter3d": [
           {
            "line": {
             "colorbar": {
              "outlinewidth": 0,
              "ticks": ""
             }
            },
            "marker": {
             "colorbar": {
              "outlinewidth": 0,
              "ticks": ""
             }
            },
            "type": "scatter3d"
           }
          ],
          "scattercarpet": [
           {
            "marker": {
             "colorbar": {
              "outlinewidth": 0,
              "ticks": ""
             }
            },
            "type": "scattercarpet"
           }
          ],
          "scattergeo": [
           {
            "marker": {
             "colorbar": {
              "outlinewidth": 0,
              "ticks": ""
             }
            },
            "type": "scattergeo"
           }
          ],
          "scattergl": [
           {
            "marker": {
             "colorbar": {
              "outlinewidth": 0,
              "ticks": ""
             }
            },
            "type": "scattergl"
           }
          ],
          "scattermapbox": [
           {
            "marker": {
             "colorbar": {
              "outlinewidth": 0,
              "ticks": ""
             }
            },
            "type": "scattermapbox"
           }
          ],
          "scatterpolar": [
           {
            "marker": {
             "colorbar": {
              "outlinewidth": 0,
              "ticks": ""
             }
            },
            "type": "scatterpolar"
           }
          ],
          "scatterpolargl": [
           {
            "marker": {
             "colorbar": {
              "outlinewidth": 0,
              "ticks": ""
             }
            },
            "type": "scatterpolargl"
           }
          ],
          "scatterternary": [
           {
            "marker": {
             "colorbar": {
              "outlinewidth": 0,
              "ticks": ""
             }
            },
            "type": "scatterternary"
           }
          ],
          "surface": [
           {
            "colorbar": {
             "outlinewidth": 0,
             "ticks": ""
            },
            "colorscale": [
             [
              0,
              "#0d0887"
             ],
             [
              0.1111111111111111,
              "#46039f"
             ],
             [
              0.2222222222222222,
              "#7201a8"
             ],
             [
              0.3333333333333333,
              "#9c179e"
             ],
             [
              0.4444444444444444,
              "#bd3786"
             ],
             [
              0.5555555555555556,
              "#d8576b"
             ],
             [
              0.6666666666666666,
              "#ed7953"
             ],
             [
              0.7777777777777778,
              "#fb9f3a"
             ],
             [
              0.8888888888888888,
              "#fdca26"
             ],
             [
              1,
              "#f0f921"
             ]
            ],
            "type": "surface"
           }
          ],
          "table": [
           {
            "cells": {
             "fill": {
              "color": "#EBF0F8"
             },
             "line": {
              "color": "white"
             }
            },
            "header": {
             "fill": {
              "color": "#C8D4E3"
             },
             "line": {
              "color": "white"
             }
            },
            "type": "table"
           }
          ]
         },
         "layout": {
          "annotationdefaults": {
           "arrowcolor": "#2a3f5f",
           "arrowhead": 0,
           "arrowwidth": 1
          },
          "autotypenumbers": "strict",
          "coloraxis": {
           "colorbar": {
            "outlinewidth": 0,
            "ticks": ""
           }
          },
          "colorscale": {
           "diverging": [
            [
             0,
             "#8e0152"
            ],
            [
             0.1,
             "#c51b7d"
            ],
            [
             0.2,
             "#de77ae"
            ],
            [
             0.3,
             "#f1b6da"
            ],
            [
             0.4,
             "#fde0ef"
            ],
            [
             0.5,
             "#f7f7f7"
            ],
            [
             0.6,
             "#e6f5d0"
            ],
            [
             0.7,
             "#b8e186"
            ],
            [
             0.8,
             "#7fbc41"
            ],
            [
             0.9,
             "#4d9221"
            ],
            [
             1,
             "#276419"
            ]
           ],
           "sequential": [
            [
             0,
             "#0d0887"
            ],
            [
             0.1111111111111111,
             "#46039f"
            ],
            [
             0.2222222222222222,
             "#7201a8"
            ],
            [
             0.3333333333333333,
             "#9c179e"
            ],
            [
             0.4444444444444444,
             "#bd3786"
            ],
            [
             0.5555555555555556,
             "#d8576b"
            ],
            [
             0.6666666666666666,
             "#ed7953"
            ],
            [
             0.7777777777777778,
             "#fb9f3a"
            ],
            [
             0.8888888888888888,
             "#fdca26"
            ],
            [
             1,
             "#f0f921"
            ]
           ],
           "sequentialminus": [
            [
             0,
             "#0d0887"
            ],
            [
             0.1111111111111111,
             "#46039f"
            ],
            [
             0.2222222222222222,
             "#7201a8"
            ],
            [
             0.3333333333333333,
             "#9c179e"
            ],
            [
             0.4444444444444444,
             "#bd3786"
            ],
            [
             0.5555555555555556,
             "#d8576b"
            ],
            [
             0.6666666666666666,
             "#ed7953"
            ],
            [
             0.7777777777777778,
             "#fb9f3a"
            ],
            [
             0.8888888888888888,
             "#fdca26"
            ],
            [
             1,
             "#f0f921"
            ]
           ]
          },
          "colorway": [
           "#636efa",
           "#EF553B",
           "#00cc96",
           "#ab63fa",
           "#FFA15A",
           "#19d3f3",
           "#FF6692",
           "#B6E880",
           "#FF97FF",
           "#FECB52"
          ],
          "font": {
           "color": "#2a3f5f"
          },
          "geo": {
           "bgcolor": "white",
           "lakecolor": "white",
           "landcolor": "#E5ECF6",
           "showlakes": true,
           "showland": true,
           "subunitcolor": "white"
          },
          "hoverlabel": {
           "align": "left"
          },
          "hovermode": "closest",
          "mapbox": {
           "style": "light"
          },
          "paper_bgcolor": "white",
          "plot_bgcolor": "#E5ECF6",
          "polar": {
           "angularaxis": {
            "gridcolor": "white",
            "linecolor": "white",
            "ticks": ""
           },
           "bgcolor": "#E5ECF6",
           "radialaxis": {
            "gridcolor": "white",
            "linecolor": "white",
            "ticks": ""
           }
          },
          "scene": {
           "xaxis": {
            "backgroundcolor": "#E5ECF6",
            "gridcolor": "white",
            "gridwidth": 2,
            "linecolor": "white",
            "showbackground": true,
            "ticks": "",
            "zerolinecolor": "white"
           },
           "yaxis": {
            "backgroundcolor": "#E5ECF6",
            "gridcolor": "white",
            "gridwidth": 2,
            "linecolor": "white",
            "showbackground": true,
            "ticks": "",
            "zerolinecolor": "white"
           },
           "zaxis": {
            "backgroundcolor": "#E5ECF6",
            "gridcolor": "white",
            "gridwidth": 2,
            "linecolor": "white",
            "showbackground": true,
            "ticks": "",
            "zerolinecolor": "white"
           }
          },
          "shapedefaults": {
           "line": {
            "color": "#2a3f5f"
           }
          },
          "ternary": {
           "aaxis": {
            "gridcolor": "white",
            "linecolor": "white",
            "ticks": ""
           },
           "baxis": {
            "gridcolor": "white",
            "linecolor": "white",
            "ticks": ""
           },
           "bgcolor": "#E5ECF6",
           "caxis": {
            "gridcolor": "white",
            "linecolor": "white",
            "ticks": ""
           }
          },
          "title": {
           "x": 0.05
          },
          "xaxis": {
           "automargin": true,
           "gridcolor": "white",
           "linecolor": "white",
           "ticks": "",
           "title": {
            "standoff": 15
           },
           "zerolinecolor": "white",
           "zerolinewidth": 2
          },
          "yaxis": {
           "automargin": true,
           "gridcolor": "white",
           "linecolor": "white",
           "ticks": "",
           "title": {
            "standoff": 15
           },
           "zerolinecolor": "white",
           "zerolinewidth": 2
          }
         }
        },
        "width": 1800
       }
      }
     },
     "metadata": {},
     "output_type": "display_data"
    }
   ],
   "source": [
    "import plotly.graph_objects as go\n",
    "import geopandas as gpd\n",
    "import kaleido\n",
    "\n",
    "# 读取地理数据\n",
    "geojson_url = \"https://gist.githubusercontent.com/jbrobst/56c13bbbf9d97d187fea01ca62ea5112/raw/e388c4cae20aa53cb5090210a42ebb9b765c0a36/india_states.geojson\"\n",
    "geo_df = gpd.read_file(geojson_url)\n",
    "\n",
    "geo_df\n",
    "\n",
    "# 使用 m1_Kharif 数据合并地理数据\n",
    "geo_df = geo_df.merge(m1_Kharif_combined, left_on=\"ST_NM\", right_on=\"state\")\n",
    "\n",
    "# 创建 Choropleth 图层\n",
    "fig = go.Figure(\n",
    "    data=go.Choropleth(\n",
    "        geojson=geojson_url,\n",
    "        featureidkey=\"properties.ST_NM\",\n",
    "        locations=geo_df[\"state\"],\n",
    "        z=geo_df[\"value\"],  # 使用 'value' 作为区分的依据\n",
    "        text=geo_df[\"text\"],  # 使用合并的 'text' 列\n",
    "        colorscale=[\"white\", \"white\"],  # 更改色阶以更好地显示数据\n",
    "        hoverinfo=\"location+text\",\n",
    "        marker_line_color=\"burlywood\",\n",
    "    )\n",
    ")\n",
    "\n",
    "# 计算每个州的中心点坐标\n",
    "geo_df[\"center\"] = geo_df[\"geometry\"].centroid\n",
    "geo_df[\"lon\"] = geo_df[\"center\"].apply(lambda p: p.x)\n",
    "geo_df[\"lat\"] = geo_df[\"center\"].apply(lambda p: p.y)\n",
    "\n",
    "# 添加散点图层以固定显示文本\n",
    "fig.add_trace(\n",
    "    go.Scattergeo(\n",
    "        lon=geo_df[\"lon\"],\n",
    "        lat=geo_df[\"lat\"],\n",
    "        text=geo_df[\"text\"],\n",
    "        mode=\"text\",\n",
    "        textfont=dict(size=8, color=\"darkred\"),  # 设置字体大小，您可以根据需要调整\n",
    "    )\n",
    ")\n",
    "\n",
    "fig.update_geos(fitbounds=\"locations\", visible=False)\n",
    "\n",
    "fig.update_layout(\n",
    "    width=1800,  # 宽度, 您可以根据需要调整\n",
    "    height=1200,  # 高度, 您可以根据需要调整\n",
    "    margin={\"r\": 0, \"t\": 0, \"l\": 0, \"b\": 0},\n",
    ")\n",
    "fig.show()\n",
    "fig.write_image(\"#model1_Karif.png\", scale=2)"
   ]
  },
  {
   "cell_type": "code",
   "execution_count": null,
   "metadata": {},
   "outputs": [
    {
     "name": "stderr",
     "output_type": "stream",
     "text": [
      "C:\\Users\\redhawc\\AppData\\Local\\Temp\\ipykernel_55160\\1121761887.py:29: UserWarning:\n",
      "\n",
      "Geometry is in a geographic CRS. Results from 'centroid' are likely incorrect. Use 'GeoSeries.to_crs()' to re-project geometries to a projected CRS before this operation.\n",
      "\n",
      "\n"
     ]
    },
    {
     "data": {
      "application/vnd.plotly.v1+json": {
       "config": {
        "plotlyServerURL": "https://plot.ly"
       },
       "data": [
        {
         "colorscale": [
          [
           0,
           "white"
          ],
          [
           1,
           "white"
          ]
         ],
         "featureidkey": "properties.ST_NM",
         "geojson": "https://gist.githubusercontent.com/jbrobst/56c13bbbf9d97d187fea01ca62ea5112/raw/e388c4cae20aa53cb5090210a42ebb9b765c0a36/india_states.geojson",
         "hoverinfo": "location+text",
         "locations": [
          "Arunachal Pradesh",
          "Assam",
          "Chandigarh",
          "Karnataka",
          "Manipur",
          "Meghalaya",
          "Mizoram",
          "Nagaland",
          "Punjab",
          "Rajasthan",
          "Sikkim",
          "Tripura",
          "Uttarakhand",
          "Telangana",
          "Bihar",
          "Kerala",
          "Madhya Pradesh",
          "Andaman & Nicobar",
          "Gujarat",
          "Odisha",
          "Dadra and Nagar Haveli and Daman and Diu",
          "Jammu & Kashmir",
          "Chhattisgarh",
          "Goa",
          "Haryana",
          "Himachal Pradesh",
          "Jharkhand",
          "Uttar Pradesh",
          "West Bengal",
          "Andhra Pradesh",
          "Puducherry",
          "Maharashtra"
         ],
         "marker": {
          "line": {
           "color": "burlywood"
          }
         },
         "text": [
          "wheat: 53.0k",
          "rice: 776.0k, <br> wheat: 776.0k",
          "wheat: 0.0k",
          "rice: 1607.0k, <br> cotton: 2283.0k, <br> maize: 2283.0k, ",
          "rice: 68.0k, <br> cotton: 68.0k, <br> potato: 68.0k, ",
          "rice: 64.0k, <br> cotton: 45.0k, <br> jute: 64.0k, ",
          "rice: 22.0k, <br> wheat: 16.0k, <br> maize: 22.0k, ",
          "rice: 93.0k, <br> wheat: 93.0k, <br> maize: 65.0k, ",
          "wheat: 1487.0k",
          "wheat: 4669.0k",
          "wheat: 27.0k",
          "wheat: 90.0k",
          "rice: 210.0k, <br> wheat: 210.0k, <br> maize: 148.0k, ",
          "rice: 1096.0k, <br> wheat: 1096.0k, <br> maize: 1096.0k, ",
          "rice: 1020.0k, <br> wheat: 1450.0k, <br> maize: 1450.0k, ",
          "rice: 496.0k",
          "wheat: 4418.0k, <br> horsegram: 4418.0k",
          "maize: 4.0k",
          "wheat: 2407.0k, <br> maize: 2407.0k",
          "rice: 963.0k, <br> maize: 963.0k, <br> horsegram: 677.0k, ",
          "rice: 4.0k, <br> wheat: 4.0k, <br> maize: 4.0k",
          "wheat: 221.0k, <br> potato: 221.0k",
          "wheat: 1076.0k, <br> horsegram: 1076.0k, <br> potato: 1076.0k",
          "rice: 30.0k",
          "wheat: 1222.0k",
          "wheat: 176.0k, <br> potato: 176.0k",
          "rice: 298.0k, <br> wheat: 298.0k, <br> potato: 298.0k",
          "wheat: 4905.0k, <br> maize: 4905.0k, <br> potato: 4905.0k",
          "rice: 1267.0k, <br> maize: 1801.0k, <br> horsegram: 1801.0k, ",
          "rice: 2042.0k, <br> wheat: 1437.0k, <br> maize: 2042.0k, ",
          "rice: 5.0k",
          "wheat: 4291.0k, <br> maize: 4291.0k, <br> soyabean: 4291.0k"
         ],
         "type": "choropleth",
         "z": [
          53,
          776,
          0,
          1607,
          68,
          64,
          22,
          93,
          1487,
          4669,
          27,
          90,
          210,
          1096,
          1020,
          496,
          4418,
          4,
          2407,
          963,
          4,
          221,
          1076,
          30,
          1222,
          176,
          298,
          4905,
          1267,
          2042,
          5,
          4291
         ]
        },
        {
         "lat": [
          28.036066389221745,
          26.35497847998204,
          30.728361392535774,
          14.710405551302284,
          24.735076113494813,
          25.53557728306151,
          23.307807060427923,
          26.06263369503263,
          30.842226635713363,
          26.584407666563767,
          27.569923150949375,
          23.745137620836996,
          30.156611868236627,
          17.80072036096087,
          25.679308370917205,
          10.450407387317862,
          23.538135963929847,
          11.197968822798963,
          22.69839433488582,
          20.513987029808025,
          20.242551887312832,
          33.64511955131811,
          21.26613164744112,
          15.36387631250899,
          29.198138148009594,
          31.926225889963035,
          23.65613966615685,
          26.923298352608214,
          23.811829251836777,
          15.756113460734964,
          11.851519914672929,
          19.451500358423914
         ],
         "lon": [
          94.6748326791631,
          92.82634309387305,
          76.78078044460244,
          76.16747452915338,
          93.87884193997611,
          91.27735620953041,
          92.83177176819507,
          94.46701721365893,
          75.41580388296326,
          73.84984184046439,
          88.47340321820725,
          91.73906864094313,
          79.20658342280629,
          79.00868646725074,
          85.61004153869405,
          76.40848222253885,
          78.28915293669499,
          92.95771321465169,
          71.57222579220684,
          84.43061890111004,
          72.93083224907231,
          74.85839980588838,
          82.04096397209855,
          74.05414749664932,
          76.34018047967007,
          77.24450791093216,
          85.56363713960563,
          80.566053063026,
          87.98378526747015,
          79.96564733254941,
          79.86026451499595,
          76.10751008526249
         ],
         "mode": "text",
         "text": [
          "wheat: 53.0k",
          "rice: 776.0k, <br> wheat: 776.0k",
          "wheat: 0.0k",
          "rice: 1607.0k, <br> cotton: 2283.0k, <br> maize: 2283.0k, ",
          "rice: 68.0k, <br> cotton: 68.0k, <br> potato: 68.0k, ",
          "rice: 64.0k, <br> cotton: 45.0k, <br> jute: 64.0k, ",
          "rice: 22.0k, <br> wheat: 16.0k, <br> maize: 22.0k, ",
          "rice: 93.0k, <br> wheat: 93.0k, <br> maize: 65.0k, ",
          "wheat: 1487.0k",
          "wheat: 4669.0k",
          "wheat: 27.0k",
          "wheat: 90.0k",
          "rice: 210.0k, <br> wheat: 210.0k, <br> maize: 148.0k, ",
          "rice: 1096.0k, <br> wheat: 1096.0k, <br> maize: 1096.0k, ",
          "rice: 1020.0k, <br> wheat: 1450.0k, <br> maize: 1450.0k, ",
          "rice: 496.0k",
          "wheat: 4418.0k, <br> horsegram: 4418.0k",
          "maize: 4.0k",
          "wheat: 2407.0k, <br> maize: 2407.0k",
          "rice: 963.0k, <br> maize: 963.0k, <br> horsegram: 677.0k, ",
          "rice: 4.0k, <br> wheat: 4.0k, <br> maize: 4.0k",
          "wheat: 221.0k, <br> potato: 221.0k",
          "wheat: 1076.0k, <br> horsegram: 1076.0k, <br> potato: 1076.0k",
          "rice: 30.0k",
          "wheat: 1222.0k",
          "wheat: 176.0k, <br> potato: 176.0k",
          "rice: 298.0k, <br> wheat: 298.0k, <br> potato: 298.0k",
          "wheat: 4905.0k, <br> maize: 4905.0k, <br> potato: 4905.0k",
          "rice: 1267.0k, <br> maize: 1801.0k, <br> horsegram: 1801.0k, ",
          "rice: 2042.0k, <br> wheat: 1437.0k, <br> maize: 2042.0k, ",
          "rice: 5.0k",
          "wheat: 4291.0k, <br> maize: 4291.0k, <br> soyabean: 4291.0k"
         ],
         "textfont": {
          "color": "darkred",
          "size": 8
         },
         "type": "scattergeo"
        }
       ],
       "layout": {
        "geo": {
         "fitbounds": "locations",
         "visible": false
        },
        "height": 1200,
        "margin": {
         "b": 0,
         "l": 0,
         "r": 0,
         "t": 0
        },
        "template": {
         "data": {
          "bar": [
           {
            "error_x": {
             "color": "#2a3f5f"
            },
            "error_y": {
             "color": "#2a3f5f"
            },
            "marker": {
             "line": {
              "color": "#E5ECF6",
              "width": 0.5
             },
             "pattern": {
              "fillmode": "overlay",
              "size": 10,
              "solidity": 0.2
             }
            },
            "type": "bar"
           }
          ],
          "barpolar": [
           {
            "marker": {
             "line": {
              "color": "#E5ECF6",
              "width": 0.5
             },
             "pattern": {
              "fillmode": "overlay",
              "size": 10,
              "solidity": 0.2
             }
            },
            "type": "barpolar"
           }
          ],
          "carpet": [
           {
            "aaxis": {
             "endlinecolor": "#2a3f5f",
             "gridcolor": "white",
             "linecolor": "white",
             "minorgridcolor": "white",
             "startlinecolor": "#2a3f5f"
            },
            "baxis": {
             "endlinecolor": "#2a3f5f",
             "gridcolor": "white",
             "linecolor": "white",
             "minorgridcolor": "white",
             "startlinecolor": "#2a3f5f"
            },
            "type": "carpet"
           }
          ],
          "choropleth": [
           {
            "colorbar": {
             "outlinewidth": 0,
             "ticks": ""
            },
            "type": "choropleth"
           }
          ],
          "contour": [
           {
            "colorbar": {
             "outlinewidth": 0,
             "ticks": ""
            },
            "colorscale": [
             [
              0,
              "#0d0887"
             ],
             [
              0.1111111111111111,
              "#46039f"
             ],
             [
              0.2222222222222222,
              "#7201a8"
             ],
             [
              0.3333333333333333,
              "#9c179e"
             ],
             [
              0.4444444444444444,
              "#bd3786"
             ],
             [
              0.5555555555555556,
              "#d8576b"
             ],
             [
              0.6666666666666666,
              "#ed7953"
             ],
             [
              0.7777777777777778,
              "#fb9f3a"
             ],
             [
              0.8888888888888888,
              "#fdca26"
             ],
             [
              1,
              "#f0f921"
             ]
            ],
            "type": "contour"
           }
          ],
          "contourcarpet": [
           {
            "colorbar": {
             "outlinewidth": 0,
             "ticks": ""
            },
            "type": "contourcarpet"
           }
          ],
          "heatmap": [
           {
            "colorbar": {
             "outlinewidth": 0,
             "ticks": ""
            },
            "colorscale": [
             [
              0,
              "#0d0887"
             ],
             [
              0.1111111111111111,
              "#46039f"
             ],
             [
              0.2222222222222222,
              "#7201a8"
             ],
             [
              0.3333333333333333,
              "#9c179e"
             ],
             [
              0.4444444444444444,
              "#bd3786"
             ],
             [
              0.5555555555555556,
              "#d8576b"
             ],
             [
              0.6666666666666666,
              "#ed7953"
             ],
             [
              0.7777777777777778,
              "#fb9f3a"
             ],
             [
              0.8888888888888888,
              "#fdca26"
             ],
             [
              1,
              "#f0f921"
             ]
            ],
            "type": "heatmap"
           }
          ],
          "heatmapgl": [
           {
            "colorbar": {
             "outlinewidth": 0,
             "ticks": ""
            },
            "colorscale": [
             [
              0,
              "#0d0887"
             ],
             [
              0.1111111111111111,
              "#46039f"
             ],
             [
              0.2222222222222222,
              "#7201a8"
             ],
             [
              0.3333333333333333,
              "#9c179e"
             ],
             [
              0.4444444444444444,
              "#bd3786"
             ],
             [
              0.5555555555555556,
              "#d8576b"
             ],
             [
              0.6666666666666666,
              "#ed7953"
             ],
             [
              0.7777777777777778,
              "#fb9f3a"
             ],
             [
              0.8888888888888888,
              "#fdca26"
             ],
             [
              1,
              "#f0f921"
             ]
            ],
            "type": "heatmapgl"
           }
          ],
          "histogram": [
           {
            "marker": {
             "pattern": {
              "fillmode": "overlay",
              "size": 10,
              "solidity": 0.2
             }
            },
            "type": "histogram"
           }
          ],
          "histogram2d": [
           {
            "colorbar": {
             "outlinewidth": 0,
             "ticks": ""
            },
            "colorscale": [
             [
              0,
              "#0d0887"
             ],
             [
              0.1111111111111111,
              "#46039f"
             ],
             [
              0.2222222222222222,
              "#7201a8"
             ],
             [
              0.3333333333333333,
              "#9c179e"
             ],
             [
              0.4444444444444444,
              "#bd3786"
             ],
             [
              0.5555555555555556,
              "#d8576b"
             ],
             [
              0.6666666666666666,
              "#ed7953"
             ],
             [
              0.7777777777777778,
              "#fb9f3a"
             ],
             [
              0.8888888888888888,
              "#fdca26"
             ],
             [
              1,
              "#f0f921"
             ]
            ],
            "type": "histogram2d"
           }
          ],
          "histogram2dcontour": [
           {
            "colorbar": {
             "outlinewidth": 0,
             "ticks": ""
            },
            "colorscale": [
             [
              0,
              "#0d0887"
             ],
             [
              0.1111111111111111,
              "#46039f"
             ],
             [
              0.2222222222222222,
              "#7201a8"
             ],
             [
              0.3333333333333333,
              "#9c179e"
             ],
             [
              0.4444444444444444,
              "#bd3786"
             ],
             [
              0.5555555555555556,
              "#d8576b"
             ],
             [
              0.6666666666666666,
              "#ed7953"
             ],
             [
              0.7777777777777778,
              "#fb9f3a"
             ],
             [
              0.8888888888888888,
              "#fdca26"
             ],
             [
              1,
              "#f0f921"
             ]
            ],
            "type": "histogram2dcontour"
           }
          ],
          "mesh3d": [
           {
            "colorbar": {
             "outlinewidth": 0,
             "ticks": ""
            },
            "type": "mesh3d"
           }
          ],
          "parcoords": [
           {
            "line": {
             "colorbar": {
              "outlinewidth": 0,
              "ticks": ""
             }
            },
            "type": "parcoords"
           }
          ],
          "pie": [
           {
            "automargin": true,
            "type": "pie"
           }
          ],
          "scatter": [
           {
            "fillpattern": {
             "fillmode": "overlay",
             "size": 10,
             "solidity": 0.2
            },
            "type": "scatter"
           }
          ],
          "scatter3d": [
           {
            "line": {
             "colorbar": {
              "outlinewidth": 0,
              "ticks": ""
             }
            },
            "marker": {
             "colorbar": {
              "outlinewidth": 0,
              "ticks": ""
             }
            },
            "type": "scatter3d"
           }
          ],
          "scattercarpet": [
           {
            "marker": {
             "colorbar": {
              "outlinewidth": 0,
              "ticks": ""
             }
            },
            "type": "scattercarpet"
           }
          ],
          "scattergeo": [
           {
            "marker": {
             "colorbar": {
              "outlinewidth": 0,
              "ticks": ""
             }
            },
            "type": "scattergeo"
           }
          ],
          "scattergl": [
           {
            "marker": {
             "colorbar": {
              "outlinewidth": 0,
              "ticks": ""
             }
            },
            "type": "scattergl"
           }
          ],
          "scattermapbox": [
           {
            "marker": {
             "colorbar": {
              "outlinewidth": 0,
              "ticks": ""
             }
            },
            "type": "scattermapbox"
           }
          ],
          "scatterpolar": [
           {
            "marker": {
             "colorbar": {
              "outlinewidth": 0,
              "ticks": ""
             }
            },
            "type": "scatterpolar"
           }
          ],
          "scatterpolargl": [
           {
            "marker": {
             "colorbar": {
              "outlinewidth": 0,
              "ticks": ""
             }
            },
            "type": "scatterpolargl"
           }
          ],
          "scatterternary": [
           {
            "marker": {
             "colorbar": {
              "outlinewidth": 0,
              "ticks": ""
             }
            },
            "type": "scatterternary"
           }
          ],
          "surface": [
           {
            "colorbar": {
             "outlinewidth": 0,
             "ticks": ""
            },
            "colorscale": [
             [
              0,
              "#0d0887"
             ],
             [
              0.1111111111111111,
              "#46039f"
             ],
             [
              0.2222222222222222,
              "#7201a8"
             ],
             [
              0.3333333333333333,
              "#9c179e"
             ],
             [
              0.4444444444444444,
              "#bd3786"
             ],
             [
              0.5555555555555556,
              "#d8576b"
             ],
             [
              0.6666666666666666,
              "#ed7953"
             ],
             [
              0.7777777777777778,
              "#fb9f3a"
             ],
             [
              0.8888888888888888,
              "#fdca26"
             ],
             [
              1,
              "#f0f921"
             ]
            ],
            "type": "surface"
           }
          ],
          "table": [
           {
            "cells": {
             "fill": {
              "color": "#EBF0F8"
             },
             "line": {
              "color": "white"
             }
            },
            "header": {
             "fill": {
              "color": "#C8D4E3"
             },
             "line": {
              "color": "white"
             }
            },
            "type": "table"
           }
          ]
         },
         "layout": {
          "annotationdefaults": {
           "arrowcolor": "#2a3f5f",
           "arrowhead": 0,
           "arrowwidth": 1
          },
          "autotypenumbers": "strict",
          "coloraxis": {
           "colorbar": {
            "outlinewidth": 0,
            "ticks": ""
           }
          },
          "colorscale": {
           "diverging": [
            [
             0,
             "#8e0152"
            ],
            [
             0.1,
             "#c51b7d"
            ],
            [
             0.2,
             "#de77ae"
            ],
            [
             0.3,
             "#f1b6da"
            ],
            [
             0.4,
             "#fde0ef"
            ],
            [
             0.5,
             "#f7f7f7"
            ],
            [
             0.6,
             "#e6f5d0"
            ],
            [
             0.7,
             "#b8e186"
            ],
            [
             0.8,
             "#7fbc41"
            ],
            [
             0.9,
             "#4d9221"
            ],
            [
             1,
             "#276419"
            ]
           ],
           "sequential": [
            [
             0,
             "#0d0887"
            ],
            [
             0.1111111111111111,
             "#46039f"
            ],
            [
             0.2222222222222222,
             "#7201a8"
            ],
            [
             0.3333333333333333,
             "#9c179e"
            ],
            [
             0.4444444444444444,
             "#bd3786"
            ],
            [
             0.5555555555555556,
             "#d8576b"
            ],
            [
             0.6666666666666666,
             "#ed7953"
            ],
            [
             0.7777777777777778,
             "#fb9f3a"
            ],
            [
             0.8888888888888888,
             "#fdca26"
            ],
            [
             1,
             "#f0f921"
            ]
           ],
           "sequentialminus": [
            [
             0,
             "#0d0887"
            ],
            [
             0.1111111111111111,
             "#46039f"
            ],
            [
             0.2222222222222222,
             "#7201a8"
            ],
            [
             0.3333333333333333,
             "#9c179e"
            ],
            [
             0.4444444444444444,
             "#bd3786"
            ],
            [
             0.5555555555555556,
             "#d8576b"
            ],
            [
             0.6666666666666666,
             "#ed7953"
            ],
            [
             0.7777777777777778,
             "#fb9f3a"
            ],
            [
             0.8888888888888888,
             "#fdca26"
            ],
            [
             1,
             "#f0f921"
            ]
           ]
          },
          "colorway": [
           "#636efa",
           "#EF553B",
           "#00cc96",
           "#ab63fa",
           "#FFA15A",
           "#19d3f3",
           "#FF6692",
           "#B6E880",
           "#FF97FF",
           "#FECB52"
          ],
          "font": {
           "color": "#2a3f5f"
          },
          "geo": {
           "bgcolor": "white",
           "lakecolor": "white",
           "landcolor": "#E5ECF6",
           "showlakes": true,
           "showland": true,
           "subunitcolor": "white"
          },
          "hoverlabel": {
           "align": "left"
          },
          "hovermode": "closest",
          "mapbox": {
           "style": "light"
          },
          "paper_bgcolor": "white",
          "plot_bgcolor": "#E5ECF6",
          "polar": {
           "angularaxis": {
            "gridcolor": "white",
            "linecolor": "white",
            "ticks": ""
           },
           "bgcolor": "#E5ECF6",
           "radialaxis": {
            "gridcolor": "white",
            "linecolor": "white",
            "ticks": ""
           }
          },
          "scene": {
           "xaxis": {
            "backgroundcolor": "#E5ECF6",
            "gridcolor": "white",
            "gridwidth": 2,
            "linecolor": "white",
            "showbackground": true,
            "ticks": "",
            "zerolinecolor": "white"
           },
           "yaxis": {
            "backgroundcolor": "#E5ECF6",
            "gridcolor": "white",
            "gridwidth": 2,
            "linecolor": "white",
            "showbackground": true,
            "ticks": "",
            "zerolinecolor": "white"
           },
           "zaxis": {
            "backgroundcolor": "#E5ECF6",
            "gridcolor": "white",
            "gridwidth": 2,
            "linecolor": "white",
            "showbackground": true,
            "ticks": "",
            "zerolinecolor": "white"
           }
          },
          "shapedefaults": {
           "line": {
            "color": "#2a3f5f"
           }
          },
          "ternary": {
           "aaxis": {
            "gridcolor": "white",
            "linecolor": "white",
            "ticks": ""
           },
           "baxis": {
            "gridcolor": "white",
            "linecolor": "white",
            "ticks": ""
           },
           "bgcolor": "#E5ECF6",
           "caxis": {
            "gridcolor": "white",
            "linecolor": "white",
            "ticks": ""
           }
          },
          "title": {
           "x": 0.05
          },
          "xaxis": {
           "automargin": true,
           "gridcolor": "white",
           "linecolor": "white",
           "ticks": "",
           "title": {
            "standoff": 15
           },
           "zerolinecolor": "white",
           "zerolinewidth": 2
          },
          "yaxis": {
           "automargin": true,
           "gridcolor": "white",
           "linecolor": "white",
           "ticks": "",
           "title": {
            "standoff": 15
           },
           "zerolinecolor": "white",
           "zerolinewidth": 2
          }
         }
        },
        "width": 1800
       }
      }
     },
     "metadata": {},
     "output_type": "display_data"
    }
   ],
   "source": [
    "import plotly.graph_objects as go\n",
    "import geopandas as gpd\n",
    "import kaleido\n",
    "\n",
    "# 读取地理数据\n",
    "geojson_url = \"https://gist.githubusercontent.com/jbrobst/56c13bbbf9d97d187fea01ca62ea5112/raw/e388c4cae20aa53cb5090210a42ebb9b765c0a36/india_states.geojson\"\n",
    "geo_df = gpd.read_file(geojson_url)\n",
    "\n",
    "geo_df\n",
    "\n",
    "# 使用 m1_Kharif 数据合并地理数据\n",
    "geo_df = geo_df.merge(m1_Rabi_combined, left_on=\"ST_NM\", right_on=\"state\")\n",
    "\n",
    "# 创建 Choropleth 图层\n",
    "fig = go.Figure(\n",
    "    data=go.Choropleth(\n",
    "        geojson=geojson_url,\n",
    "        featureidkey=\"properties.ST_NM\",\n",
    "        locations=geo_df[\"state\"],\n",
    "        z=geo_df[\"value\"],  # 使用 'value' 作为区分的依据\n",
    "        text=geo_df[\"text\"],  # 使用合并的 'text' 列\n",
    "        colorscale=[\"white\", \"white\"],  # 更改色阶以更好地显示数据\n",
    "        hoverinfo=\"location+text\",\n",
    "        marker_line_color=\"burlywood\",\n",
    "    )\n",
    ")\n",
    "\n",
    "# 计算每个州的中心点坐标\n",
    "geo_df[\"center\"] = geo_df[\"geometry\"].centroid\n",
    "geo_df[\"lon\"] = geo_df[\"center\"].apply(lambda p: p.x)\n",
    "geo_df[\"lat\"] = geo_df[\"center\"].apply(lambda p: p.y)\n",
    "\n",
    "# 添加散点图层以固定显示文本\n",
    "fig.add_trace(\n",
    "    go.Scattergeo(\n",
    "        lon=geo_df[\"lon\"],\n",
    "        lat=geo_df[\"lat\"],\n",
    "        text=geo_df[\"text\"],\n",
    "        mode=\"text\",\n",
    "        textfont=dict(size=8, color=\"darkred\"),  # 设置字体大小，您可以根据需要调整\n",
    "    )\n",
    ")\n",
    "\n",
    "fig.update_geos(fitbounds=\"locations\", visible=False)\n",
    "\n",
    "fig.update_layout(\n",
    "    width=1800,  # 宽度, 您可以根据需要调整\n",
    "    height=1200,  # 高度, 您可以根据需要调整\n",
    "    margin={\"r\": 0, \"t\": 0, \"l\": 0, \"b\": 0},\n",
    ")\n",
    "fig.show()\n",
    "fig.write_image(\"#model1_Rabi.png\", scale=2)"
   ]
  },
  {
   "cell_type": "code",
   "execution_count": null,
   "metadata": {},
   "outputs": [],
   "source": []
  },
  {
   "cell_type": "code",
   "execution_count": null,
   "metadata": {},
   "outputs": [
    {
     "name": "stderr",
     "output_type": "stream",
     "text": [
      "C:\\Users\\redhawc\\AppData\\Local\\Temp\\ipykernel_55160\\1907940586.py:25: UserWarning:\n",
      "\n",
      "Geometry is in a geographic CRS. Results from 'centroid' are likely incorrect. Use 'GeoSeries.to_crs()' to re-project geometries to a projected CRS before this operation.\n",
      "\n",
      "\n"
     ]
    },
    {
     "data": {
      "application/vnd.plotly.v1+json": {
       "config": {
        "plotlyServerURL": "https://plot.ly"
       },
       "data": [
        {
         "colorscale": [
          [
           0,
           "white"
          ],
          [
           1,
           "white"
          ]
         ],
         "featureidkey": "properties.ST_NM",
         "geojson": "https://gist.githubusercontent.com/jbrobst/56c13bbbf9d97d187fea01ca62ea5112/raw/e388c4cae20aa53cb5090210a42ebb9b765c0a36/india_states.geojson",
         "hoverinfo": "location+text",
         "locations": [
          "Arunachal Pradesh",
          "Assam",
          "Chandigarh",
          "Karnataka",
          "Manipur",
          "Meghalaya",
          "Punjab",
          "Rajasthan",
          "Sikkim",
          "Tripura",
          "Uttarakhand",
          "Telangana",
          "Madhya Pradesh",
          "Gujarat",
          "Odisha",
          "Dadra and Nagar Haveli and Daman and Diu",
          "Jammu & Kashmir",
          "Haryana",
          "Himachal Pradesh",
          "Jharkhand",
          "Uttar Pradesh",
          "Andhra Pradesh",
          "Maharashtra"
         ],
         "marker": {
          "line": {
           "color": "burlywood"
          }
         },
         "text": [
          "Area Size:<br>rice: 53.0k, <br> maize: 53.0k, <br> soyabean: 53.0k",
          "Area Size:<br>rice: 776.0k, <br> cotton: 776.0k, <br> maize: 546.0k, ",
          "Area Size:<br>rice: 0.0k, <br> maize: 0.0k",
          "Area Size:<br>rice: 1607.0k, <br> cotton: 2283.0k, <br> maize: 2283.0k, ",
          "Area Size:<br>rice: 68.0k, <br> maize: 68.0k, <br> jute: 68.0k, ",
          "Area Size:<br>rice: 64.0k, <br> cotton: 64.0k, <br> maize: 45.0k, ",
          "Area Size:<br>rice: 1487.0k, <br> cotton: 1487.0k, <br> maize: 1487.0k",
          "Area Size:<br>rice: 4669.0k, <br> cotton: 4669.0k, <br> maize: 3286.0k, ",
          "Area Size:<br>rice: 27.0k, <br> maize: 27.0k, <br> soyabean: 27.0k",
          "Area Size:<br>rice: 90.0k, <br> cotton: 90.0k, <br> maize: 63.0k, ",
          "Area Size:<br>rice: 210.0k, <br> horsegram: 148.0k, <br> potato: 210.0k, ",
          "Area Size:<br>rice: 1096.0k, <br> cotton: 1096.0k, <br> maize: 1096.0k, ",
          "Area Size:<br>rice: 4418.0k, <br> cotton: 4418.0k, <br> jute: 4418.0k, ",
          "Area Size:<br>rice: 2407.0k, <br> cotton: 2407.0k, <br> maize: 2407.0k, ",
          "Area Size:<br>rice: 677.0k, <br> cotton: 963.0k, <br> maize: 963.0k, ",
          "Area Size:<br>rice: 4.0k, <br> maize: 4.0k",
          "Area Size:<br>rice: 221.0k, <br> cotton: 156.0k, <br> maize: 221.0k, ",
          "Area Size:<br>rice: 1222.0k, <br> cotton: 1222.0k, <br> maize: 1222.0k, ",
          "Area Size:<br>rice: 176.0k, <br> maize: 124.0k, <br> potato: 176.0k, ",
          "Area Size:<br>rice: 298.0k, <br> maize: 298.0k",
          "Area Size:<br>rice: 4905.0k, <br> cotton: 4905.0k, <br> maize: 4905.0k, ",
          "Area Size:<br>rice: 2042.0k, <br> cotton: 2042.0k, <br> maize: 2042.0k, ",
          "Area Size:<br>rice: 4291.0k, <br> cotton: 4291.0k, <br> maize: 3020.0k, "
         ],
         "type": "choropleth",
         "z": [
          0,
          0,
          0,
          0,
          0,
          0,
          0,
          0,
          0,
          0,
          0,
          0,
          0,
          0,
          0,
          0,
          0,
          0,
          0,
          0,
          0,
          0,
          0
         ]
        },
        {
         "lat": [
          28.036066389221745,
          26.35497847998204,
          30.728361392535774,
          14.710405551302284,
          24.735076113494813,
          25.53557728306151,
          30.842226635713363,
          26.584407666563767,
          27.569923150949375,
          23.745137620836996,
          30.156611868236627,
          17.80072036096087,
          23.538135963929847,
          22.69839433488582,
          20.513987029808025,
          20.242551887312832,
          33.64511955131811,
          29.198138148009594,
          31.926225889963035,
          23.65613966615685,
          26.923298352608214,
          15.756113460734964,
          19.451500358423914
         ],
         "lon": [
          94.6748326791631,
          92.82634309387305,
          76.78078044460244,
          76.16747452915338,
          93.87884193997611,
          91.27735620953041,
          75.41580388296326,
          73.84984184046439,
          88.47340321820725,
          91.73906864094313,
          79.20658342280629,
          79.00868646725074,
          78.28915293669499,
          71.57222579220684,
          84.43061890111004,
          72.93083224907231,
          74.85839980588838,
          76.34018047967007,
          77.24450791093216,
          85.56363713960563,
          80.566053063026,
          79.96564733254941,
          76.10751008526249
         ],
         "mode": "text",
         "text": [
          "Area Size:<br>rice: 53.0k, <br> maize: 53.0k, <br> soyabean: 53.0k",
          "Area Size:<br>rice: 776.0k, <br> cotton: 776.0k, <br> maize: 546.0k, ",
          "Area Size:<br>rice: 0.0k, <br> maize: 0.0k",
          "Area Size:<br>rice: 1607.0k, <br> cotton: 2283.0k, <br> maize: 2283.0k, ",
          "Area Size:<br>rice: 68.0k, <br> maize: 68.0k, <br> jute: 68.0k, ",
          "Area Size:<br>rice: 64.0k, <br> cotton: 64.0k, <br> maize: 45.0k, ",
          "Area Size:<br>rice: 1487.0k, <br> cotton: 1487.0k, <br> maize: 1487.0k",
          "Area Size:<br>rice: 4669.0k, <br> cotton: 4669.0k, <br> maize: 3286.0k, ",
          "Area Size:<br>rice: 27.0k, <br> maize: 27.0k, <br> soyabean: 27.0k",
          "Area Size:<br>rice: 90.0k, <br> cotton: 90.0k, <br> maize: 63.0k, ",
          "Area Size:<br>rice: 210.0k, <br> horsegram: 148.0k, <br> potato: 210.0k, ",
          "Area Size:<br>rice: 1096.0k, <br> cotton: 1096.0k, <br> maize: 1096.0k, ",
          "Area Size:<br>rice: 4418.0k, <br> cotton: 4418.0k, <br> jute: 4418.0k, ",
          "Area Size:<br>rice: 2407.0k, <br> cotton: 2407.0k, <br> maize: 2407.0k, ",
          "Area Size:<br>rice: 677.0k, <br> cotton: 963.0k, <br> maize: 963.0k, ",
          "Area Size:<br>rice: 4.0k, <br> maize: 4.0k",
          "Area Size:<br>rice: 221.0k, <br> cotton: 156.0k, <br> maize: 221.0k, ",
          "Area Size:<br>rice: 1222.0k, <br> cotton: 1222.0k, <br> maize: 1222.0k, ",
          "Area Size:<br>rice: 176.0k, <br> maize: 124.0k, <br> potato: 176.0k, ",
          "Area Size:<br>rice: 298.0k, <br> maize: 298.0k",
          "Area Size:<br>rice: 4905.0k, <br> cotton: 4905.0k, <br> maize: 4905.0k, ",
          "Area Size:<br>rice: 2042.0k, <br> cotton: 2042.0k, <br> maize: 2042.0k, ",
          "Area Size:<br>rice: 4291.0k, <br> cotton: 4291.0k, <br> maize: 3020.0k, "
         ],
         "textfont": {
          "color": "darkred",
          "size": 6
         },
         "type": "scattergeo"
        }
       ],
       "layout": {
        "geo": {
         "fitbounds": "locations",
         "visible": false
        },
        "height": 1200,
        "margin": {
         "b": 0,
         "l": 0,
         "r": 0,
         "t": 0
        },
        "template": {
         "data": {
          "bar": [
           {
            "error_x": {
             "color": "#2a3f5f"
            },
            "error_y": {
             "color": "#2a3f5f"
            },
            "marker": {
             "line": {
              "color": "#E5ECF6",
              "width": 0.5
             },
             "pattern": {
              "fillmode": "overlay",
              "size": 10,
              "solidity": 0.2
             }
            },
            "type": "bar"
           }
          ],
          "barpolar": [
           {
            "marker": {
             "line": {
              "color": "#E5ECF6",
              "width": 0.5
             },
             "pattern": {
              "fillmode": "overlay",
              "size": 10,
              "solidity": 0.2
             }
            },
            "type": "barpolar"
           }
          ],
          "carpet": [
           {
            "aaxis": {
             "endlinecolor": "#2a3f5f",
             "gridcolor": "white",
             "linecolor": "white",
             "minorgridcolor": "white",
             "startlinecolor": "#2a3f5f"
            },
            "baxis": {
             "endlinecolor": "#2a3f5f",
             "gridcolor": "white",
             "linecolor": "white",
             "minorgridcolor": "white",
             "startlinecolor": "#2a3f5f"
            },
            "type": "carpet"
           }
          ],
          "choropleth": [
           {
            "colorbar": {
             "outlinewidth": 0,
             "ticks": ""
            },
            "type": "choropleth"
           }
          ],
          "contour": [
           {
            "colorbar": {
             "outlinewidth": 0,
             "ticks": ""
            },
            "colorscale": [
             [
              0,
              "#0d0887"
             ],
             [
              0.1111111111111111,
              "#46039f"
             ],
             [
              0.2222222222222222,
              "#7201a8"
             ],
             [
              0.3333333333333333,
              "#9c179e"
             ],
             [
              0.4444444444444444,
              "#bd3786"
             ],
             [
              0.5555555555555556,
              "#d8576b"
             ],
             [
              0.6666666666666666,
              "#ed7953"
             ],
             [
              0.7777777777777778,
              "#fb9f3a"
             ],
             [
              0.8888888888888888,
              "#fdca26"
             ],
             [
              1,
              "#f0f921"
             ]
            ],
            "type": "contour"
           }
          ],
          "contourcarpet": [
           {
            "colorbar": {
             "outlinewidth": 0,
             "ticks": ""
            },
            "type": "contourcarpet"
           }
          ],
          "heatmap": [
           {
            "colorbar": {
             "outlinewidth": 0,
             "ticks": ""
            },
            "colorscale": [
             [
              0,
              "#0d0887"
             ],
             [
              0.1111111111111111,
              "#46039f"
             ],
             [
              0.2222222222222222,
              "#7201a8"
             ],
             [
              0.3333333333333333,
              "#9c179e"
             ],
             [
              0.4444444444444444,
              "#bd3786"
             ],
             [
              0.5555555555555556,
              "#d8576b"
             ],
             [
              0.6666666666666666,
              "#ed7953"
             ],
             [
              0.7777777777777778,
              "#fb9f3a"
             ],
             [
              0.8888888888888888,
              "#fdca26"
             ],
             [
              1,
              "#f0f921"
             ]
            ],
            "type": "heatmap"
           }
          ],
          "heatmapgl": [
           {
            "colorbar": {
             "outlinewidth": 0,
             "ticks": ""
            },
            "colorscale": [
             [
              0,
              "#0d0887"
             ],
             [
              0.1111111111111111,
              "#46039f"
             ],
             [
              0.2222222222222222,
              "#7201a8"
             ],
             [
              0.3333333333333333,
              "#9c179e"
             ],
             [
              0.4444444444444444,
              "#bd3786"
             ],
             [
              0.5555555555555556,
              "#d8576b"
             ],
             [
              0.6666666666666666,
              "#ed7953"
             ],
             [
              0.7777777777777778,
              "#fb9f3a"
             ],
             [
              0.8888888888888888,
              "#fdca26"
             ],
             [
              1,
              "#f0f921"
             ]
            ],
            "type": "heatmapgl"
           }
          ],
          "histogram": [
           {
            "marker": {
             "pattern": {
              "fillmode": "overlay",
              "size": 10,
              "solidity": 0.2
             }
            },
            "type": "histogram"
           }
          ],
          "histogram2d": [
           {
            "colorbar": {
             "outlinewidth": 0,
             "ticks": ""
            },
            "colorscale": [
             [
              0,
              "#0d0887"
             ],
             [
              0.1111111111111111,
              "#46039f"
             ],
             [
              0.2222222222222222,
              "#7201a8"
             ],
             [
              0.3333333333333333,
              "#9c179e"
             ],
             [
              0.4444444444444444,
              "#bd3786"
             ],
             [
              0.5555555555555556,
              "#d8576b"
             ],
             [
              0.6666666666666666,
              "#ed7953"
             ],
             [
              0.7777777777777778,
              "#fb9f3a"
             ],
             [
              0.8888888888888888,
              "#fdca26"
             ],
             [
              1,
              "#f0f921"
             ]
            ],
            "type": "histogram2d"
           }
          ],
          "histogram2dcontour": [
           {
            "colorbar": {
             "outlinewidth": 0,
             "ticks": ""
            },
            "colorscale": [
             [
              0,
              "#0d0887"
             ],
             [
              0.1111111111111111,
              "#46039f"
             ],
             [
              0.2222222222222222,
              "#7201a8"
             ],
             [
              0.3333333333333333,
              "#9c179e"
             ],
             [
              0.4444444444444444,
              "#bd3786"
             ],
             [
              0.5555555555555556,
              "#d8576b"
             ],
             [
              0.6666666666666666,
              "#ed7953"
             ],
             [
              0.7777777777777778,
              "#fb9f3a"
             ],
             [
              0.8888888888888888,
              "#fdca26"
             ],
             [
              1,
              "#f0f921"
             ]
            ],
            "type": "histogram2dcontour"
           }
          ],
          "mesh3d": [
           {
            "colorbar": {
             "outlinewidth": 0,
             "ticks": ""
            },
            "type": "mesh3d"
           }
          ],
          "parcoords": [
           {
            "line": {
             "colorbar": {
              "outlinewidth": 0,
              "ticks": ""
             }
            },
            "type": "parcoords"
           }
          ],
          "pie": [
           {
            "automargin": true,
            "type": "pie"
           }
          ],
          "scatter": [
           {
            "fillpattern": {
             "fillmode": "overlay",
             "size": 10,
             "solidity": 0.2
            },
            "type": "scatter"
           }
          ],
          "scatter3d": [
           {
            "line": {
             "colorbar": {
              "outlinewidth": 0,
              "ticks": ""
             }
            },
            "marker": {
             "colorbar": {
              "outlinewidth": 0,
              "ticks": ""
             }
            },
            "type": "scatter3d"
           }
          ],
          "scattercarpet": [
           {
            "marker": {
             "colorbar": {
              "outlinewidth": 0,
              "ticks": ""
             }
            },
            "type": "scattercarpet"
           }
          ],
          "scattergeo": [
           {
            "marker": {
             "colorbar": {
              "outlinewidth": 0,
              "ticks": ""
             }
            },
            "type": "scattergeo"
           }
          ],
          "scattergl": [
           {
            "marker": {
             "colorbar": {
              "outlinewidth": 0,
              "ticks": ""
             }
            },
            "type": "scattergl"
           }
          ],
          "scattermapbox": [
           {
            "marker": {
             "colorbar": {
              "outlinewidth": 0,
              "ticks": ""
             }
            },
            "type": "scattermapbox"
           }
          ],
          "scatterpolar": [
           {
            "marker": {
             "colorbar": {
              "outlinewidth": 0,
              "ticks": ""
             }
            },
            "type": "scatterpolar"
           }
          ],
          "scatterpolargl": [
           {
            "marker": {
             "colorbar": {
              "outlinewidth": 0,
              "ticks": ""
             }
            },
            "type": "scatterpolargl"
           }
          ],
          "scatterternary": [
           {
            "marker": {
             "colorbar": {
              "outlinewidth": 0,
              "ticks": ""
             }
            },
            "type": "scatterternary"
           }
          ],
          "surface": [
           {
            "colorbar": {
             "outlinewidth": 0,
             "ticks": ""
            },
            "colorscale": [
             [
              0,
              "#0d0887"
             ],
             [
              0.1111111111111111,
              "#46039f"
             ],
             [
              0.2222222222222222,
              "#7201a8"
             ],
             [
              0.3333333333333333,
              "#9c179e"
             ],
             [
              0.4444444444444444,
              "#bd3786"
             ],
             [
              0.5555555555555556,
              "#d8576b"
             ],
             [
              0.6666666666666666,
              "#ed7953"
             ],
             [
              0.7777777777777778,
              "#fb9f3a"
             ],
             [
              0.8888888888888888,
              "#fdca26"
             ],
             [
              1,
              "#f0f921"
             ]
            ],
            "type": "surface"
           }
          ],
          "table": [
           {
            "cells": {
             "fill": {
              "color": "#EBF0F8"
             },
             "line": {
              "color": "white"
             }
            },
            "header": {
             "fill": {
              "color": "#C8D4E3"
             },
             "line": {
              "color": "white"
             }
            },
            "type": "table"
           }
          ]
         },
         "layout": {
          "annotationdefaults": {
           "arrowcolor": "#2a3f5f",
           "arrowhead": 0,
           "arrowwidth": 1
          },
          "autotypenumbers": "strict",
          "coloraxis": {
           "colorbar": {
            "outlinewidth": 0,
            "ticks": ""
           }
          },
          "colorscale": {
           "diverging": [
            [
             0,
             "#8e0152"
            ],
            [
             0.1,
             "#c51b7d"
            ],
            [
             0.2,
             "#de77ae"
            ],
            [
             0.3,
             "#f1b6da"
            ],
            [
             0.4,
             "#fde0ef"
            ],
            [
             0.5,
             "#f7f7f7"
            ],
            [
             0.6,
             "#e6f5d0"
            ],
            [
             0.7,
             "#b8e186"
            ],
            [
             0.8,
             "#7fbc41"
            ],
            [
             0.9,
             "#4d9221"
            ],
            [
             1,
             "#276419"
            ]
           ],
           "sequential": [
            [
             0,
             "#0d0887"
            ],
            [
             0.1111111111111111,
             "#46039f"
            ],
            [
             0.2222222222222222,
             "#7201a8"
            ],
            [
             0.3333333333333333,
             "#9c179e"
            ],
            [
             0.4444444444444444,
             "#bd3786"
            ],
            [
             0.5555555555555556,
             "#d8576b"
            ],
            [
             0.6666666666666666,
             "#ed7953"
            ],
            [
             0.7777777777777778,
             "#fb9f3a"
            ],
            [
             0.8888888888888888,
             "#fdca26"
            ],
            [
             1,
             "#f0f921"
            ]
           ],
           "sequentialminus": [
            [
             0,
             "#0d0887"
            ],
            [
             0.1111111111111111,
             "#46039f"
            ],
            [
             0.2222222222222222,
             "#7201a8"
            ],
            [
             0.3333333333333333,
             "#9c179e"
            ],
            [
             0.4444444444444444,
             "#bd3786"
            ],
            [
             0.5555555555555556,
             "#d8576b"
            ],
            [
             0.6666666666666666,
             "#ed7953"
            ],
            [
             0.7777777777777778,
             "#fb9f3a"
            ],
            [
             0.8888888888888888,
             "#fdca26"
            ],
            [
             1,
             "#f0f921"
            ]
           ]
          },
          "colorway": [
           "#636efa",
           "#EF553B",
           "#00cc96",
           "#ab63fa",
           "#FFA15A",
           "#19d3f3",
           "#FF6692",
           "#B6E880",
           "#FF97FF",
           "#FECB52"
          ],
          "font": {
           "color": "#2a3f5f"
          },
          "geo": {
           "bgcolor": "white",
           "lakecolor": "white",
           "landcolor": "#E5ECF6",
           "showlakes": true,
           "showland": true,
           "subunitcolor": "white"
          },
          "hoverlabel": {
           "align": "left"
          },
          "hovermode": "closest",
          "mapbox": {
           "style": "light"
          },
          "paper_bgcolor": "white",
          "plot_bgcolor": "#E5ECF6",
          "polar": {
           "angularaxis": {
            "gridcolor": "white",
            "linecolor": "white",
            "ticks": ""
           },
           "bgcolor": "#E5ECF6",
           "radialaxis": {
            "gridcolor": "white",
            "linecolor": "white",
            "ticks": ""
           }
          },
          "scene": {
           "xaxis": {
            "backgroundcolor": "#E5ECF6",
            "gridcolor": "white",
            "gridwidth": 2,
            "linecolor": "white",
            "showbackground": true,
            "ticks": "",
            "zerolinecolor": "white"
           },
           "yaxis": {
            "backgroundcolor": "#E5ECF6",
            "gridcolor": "white",
            "gridwidth": 2,
            "linecolor": "white",
            "showbackground": true,
            "ticks": "",
            "zerolinecolor": "white"
           },
           "zaxis": {
            "backgroundcolor": "#E5ECF6",
            "gridcolor": "white",
            "gridwidth": 2,
            "linecolor": "white",
            "showbackground": true,
            "ticks": "",
            "zerolinecolor": "white"
           }
          },
          "shapedefaults": {
           "line": {
            "color": "#2a3f5f"
           }
          },
          "ternary": {
           "aaxis": {
            "gridcolor": "white",
            "linecolor": "white",
            "ticks": ""
           },
           "baxis": {
            "gridcolor": "white",
            "linecolor": "white",
            "ticks": ""
           },
           "bgcolor": "#E5ECF6",
           "caxis": {
            "gridcolor": "white",
            "linecolor": "white",
            "ticks": ""
           }
          },
          "title": {
           "x": 0.05
          },
          "xaxis": {
           "automargin": true,
           "gridcolor": "white",
           "linecolor": "white",
           "ticks": "",
           "title": {
            "standoff": 15
           },
           "zerolinecolor": "white",
           "zerolinewidth": 2
          },
          "yaxis": {
           "automargin": true,
           "gridcolor": "white",
           "linecolor": "white",
           "ticks": "",
           "title": {
            "standoff": 15
           },
           "zerolinecolor": "white",
           "zerolinewidth": 2
          }
         }
        },
        "title": {
         "text": "Model2-Rotation Benefit of Kharif"
        },
        "width": 1800
       }
      }
     },
     "metadata": {},
     "output_type": "display_data"
    }
   ],
   "source": [
    "import plotly.graph_objects as go\n",
    "import geopandas as gpd\n",
    "\n",
    "# ...（读取地理数据的代码）\n",
    "geojson_url = \"https://gist.githubusercontent.com/jbrobst/56c13bbbf9d97d187fea01ca62ea5112/raw/e388c4cae20aa53cb5090210a42ebb9b765c0a36/india_states.geojson\"\n",
    "geo_df = gpd.read_file(geojson_url)\n",
    "# 假设 BenifitModel2 是您的数据集\n",
    "geo_df = geo_df.merge(merged_df_Kharif, left_on=\"ST_NM\", right_on=\"state\")\n",
    "\n",
    "# 创建 Choropleth 图层\n",
    "fig = go.Figure(\n",
    "    data=go.Choropleth(\n",
    "        geojson=geojson_url,\n",
    "        featureidkey=\"properties.ST_NM\",\n",
    "        locations=geo_df[\"state\"],\n",
    "        z=geo_df[\"Summer\"],  # 使用 'Rabi' 作为区分的依据\n",
    "        text=geo_df[\"text\"],  # 使用合并的 'text' 列\n",
    "        colorscale=[\"white\", \"white\"],  # 使用浅灰色到绿色的色阶\n",
    "        hoverinfo=\"location+text\",\n",
    "        marker_line_color=\"burlywood\",\n",
    "    )\n",
    ")\n",
    "\n",
    "# 计算每个州的中心点坐标\n",
    "geo_df[\"center\"] = geo_df[\"geometry\"].centroid\n",
    "geo_df[\"lon\"] = geo_df[\"center\"].apply(lambda p: p.x)\n",
    "geo_df[\"lat\"] = geo_df[\"center\"].apply(lambda p: p.y)\n",
    "\n",
    "# 添加散点图层以固定显示文本\n",
    "fig.add_trace(\n",
    "    go.Scattergeo(\n",
    "        lon=geo_df[\"lon\"],\n",
    "        lat=geo_df[\"lat\"],\n",
    "        text=geo_df[\"text\"],\n",
    "        mode=\"text\",\n",
    "        textfont=dict(size=6, color=\"darkred\"),  # 设置字体大小，您可以根据需要调整\n",
    "    )\n",
    ")\n",
    "\n",
    "fig.update_geos(fitbounds=\"locations\", visible=False)\n",
    "\n",
    "fig.update_layout(\n",
    "    title_text=\"Model2-Rotation Benefit of Kharif\",\n",
    "    width=1800,  # 宽度, 您可以根据需要调整\n",
    "    height=1200,  # 高度, 您可以根据需要调整\n",
    "    margin={\"r\": 0, \"t\": 0, \"l\": 0, \"b\": 0},\n",
    ")\n",
    "\n",
    "fig.update_geos(fitbounds=\"locations\", visible=False)\n",
    "fig.update_layout(width=1800, height=1200, margin={\"r\": 0, \"t\": 0, \"l\": 0, \"b\": 0})\n",
    "fig.show()\n",
    "fig.write_image(\"#model2_rotate_Kharif.png\", scale=2)"
   ]
  },
  {
   "cell_type": "code",
   "execution_count": null,
   "metadata": {},
   "outputs": [
    {
     "data": {
      "text/html": [
       "<div>\n",
       "<style scoped>\n",
       "    .dataframe tbody tr th:only-of-type {\n",
       "        vertical-align: middle;\n",
       "    }\n",
       "\n",
       "    .dataframe tbody tr th {\n",
       "        vertical-align: top;\n",
       "    }\n",
       "\n",
       "    .dataframe thead th {\n",
       "        text-align: right;\n",
       "    }\n",
       "</style>\n",
       "<table border=\"1\" class=\"dataframe\">\n",
       "  <thead>\n",
       "    <tr style=\"text-align: right;\">\n",
       "      <th></th>\n",
       "      <th>ST_NM</th>\n",
       "      <th>geometry</th>\n",
       "      <th>crop</th>\n",
       "      <th>state</th>\n",
       "      <th>Rabi</th>\n",
       "      <th>Summer</th>\n",
       "      <th>text</th>\n",
       "      <th>center</th>\n",
       "      <th>lon</th>\n",
       "      <th>lat</th>\n",
       "    </tr>\n",
       "  </thead>\n",
       "  <tbody>\n",
       "    <tr>\n",
       "      <th>0</th>\n",
       "      <td>Arunachal Pradesh</td>\n",
       "      <td>POLYGON ((95.23392 26.68246, 95.23282 26.70579...</td>\n",
       "      <td>wheat</td>\n",
       "      <td>Arunachal Pradesh</td>\n",
       "      <td>52920</td>\n",
       "      <td>0.0</td>\n",
       "      <td>Area Size:&lt;br&gt;rice: 53.0k, &lt;br&gt; maize: 53.0k, ...</td>\n",
       "      <td>POINT (94.67483 28.03607)</td>\n",
       "      <td>94.674833</td>\n",
       "      <td>28.036066</td>\n",
       "    </tr>\n",
       "    <tr>\n",
       "      <th>1</th>\n",
       "      <td>Assam</td>\n",
       "      <td>POLYGON ((95.19465 27.03132, 95.15008 26.99934...</td>\n",
       "      <td>wheat</td>\n",
       "      <td>Assam</td>\n",
       "      <td>776459.25</td>\n",
       "      <td>0.0</td>\n",
       "      <td>Area Size:&lt;br&gt;rice: 776.0k, &lt;br&gt; cotton: 776.0...</td>\n",
       "      <td>POINT (92.82634 26.35498)</td>\n",
       "      <td>92.826343</td>\n",
       "      <td>26.354978</td>\n",
       "    </tr>\n",
       "    <tr>\n",
       "      <th>2</th>\n",
       "      <td>Chandigarh</td>\n",
       "      <td>POLYGON ((76.83806 30.75487, 76.83301 30.73887...</td>\n",
       "      <td>wheat</td>\n",
       "      <td>Chandigarh</td>\n",
       "      <td>378</td>\n",
       "      <td>0.0</td>\n",
       "      <td>Area Size:&lt;br&gt;rice: 0.0k, &lt;br&gt; maize: 0.0k</td>\n",
       "      <td>POINT (76.78078 30.72836)</td>\n",
       "      <td>76.780780</td>\n",
       "      <td>30.728361</td>\n",
       "    </tr>\n",
       "    <tr>\n",
       "      <th>3</th>\n",
       "      <td>Karnataka</td>\n",
       "      <td>POLYGON ((77.55144 18.29191, 77.57026 18.29252...</td>\n",
       "      <td>cotton</td>\n",
       "      <td>Karnataka</td>\n",
       "      <td>2283167.25</td>\n",
       "      <td>0.0</td>\n",
       "      <td>Area Size:&lt;br&gt;rice: 1607.0k, &lt;br&gt; cotton: 2283...</td>\n",
       "      <td>POINT (76.16747 14.71041)</td>\n",
       "      <td>76.167475</td>\n",
       "      <td>14.710406</td>\n",
       "    </tr>\n",
       "    <tr>\n",
       "      <th>4</th>\n",
       "      <td>Manipur</td>\n",
       "      <td>POLYGON ((94.67545 25.44561, 94.67293 25.42398...</td>\n",
       "      <td>cotton</td>\n",
       "      <td>Manipur</td>\n",
       "      <td>67756.5</td>\n",
       "      <td>0.0</td>\n",
       "      <td>Area Size:&lt;br&gt;rice: 68.0k, &lt;br&gt; maize: 68.0k, ...</td>\n",
       "      <td>POINT (93.87884 24.73508)</td>\n",
       "      <td>93.878842</td>\n",
       "      <td>24.735076</td>\n",
       "    </tr>\n",
       "    <tr>\n",
       "      <th>5</th>\n",
       "      <td>Meghalaya</td>\n",
       "      <td>POLYGON ((92.42522 25.02966, 92.40163 25.03363...</td>\n",
       "      <td>cotton</td>\n",
       "      <td>Meghalaya</td>\n",
       "      <td>45386.25</td>\n",
       "      <td>0.0</td>\n",
       "      <td>Area Size:&lt;br&gt;rice: 64.0k, &lt;br&gt; cotton: 64.0k,...</td>\n",
       "      <td>POINT (91.27736 25.53558)</td>\n",
       "      <td>91.277356</td>\n",
       "      <td>25.535577</td>\n",
       "    </tr>\n",
       "    <tr>\n",
       "      <th>6</th>\n",
       "      <td>Punjab</td>\n",
       "      <td>POLYGON ((76.77673 30.90429, 76.78433 30.87791...</td>\n",
       "      <td>wheat</td>\n",
       "      <td>Punjab</td>\n",
       "      <td>1487430</td>\n",
       "      <td>0.0</td>\n",
       "      <td>Area Size:&lt;br&gt;rice: 1487.0k, &lt;br&gt; cotton: 1487...</td>\n",
       "      <td>POINT (75.41580 30.84223)</td>\n",
       "      <td>75.415804</td>\n",
       "      <td>30.842227</td>\n",
       "    </tr>\n",
       "    <tr>\n",
       "      <th>7</th>\n",
       "      <td>Rajasthan</td>\n",
       "      <td>POLYGON ((74.52716 29.94279, 74.51002 29.90819...</td>\n",
       "      <td>wheat</td>\n",
       "      <td>Rajasthan</td>\n",
       "      <td>4668961.5</td>\n",
       "      <td>0.0</td>\n",
       "      <td>Area Size:&lt;br&gt;rice: 4669.0k, &lt;br&gt; cotton: 4669...</td>\n",
       "      <td>POINT (73.84984 26.58441)</td>\n",
       "      <td>73.849842</td>\n",
       "      <td>26.584408</td>\n",
       "    </tr>\n",
       "    <tr>\n",
       "      <th>8</th>\n",
       "      <td>Sikkim</td>\n",
       "      <td>POLYGON ((88.74553 27.14203, 88.73457 27.13482...</td>\n",
       "      <td>wheat</td>\n",
       "      <td>Sikkim</td>\n",
       "      <td>26649</td>\n",
       "      <td>0.0</td>\n",
       "      <td>Area Size:&lt;br&gt;rice: 27.0k, &lt;br&gt; maize: 27.0k, ...</td>\n",
       "      <td>POINT (88.47340 27.56992)</td>\n",
       "      <td>88.473403</td>\n",
       "      <td>27.569923</td>\n",
       "    </tr>\n",
       "    <tr>\n",
       "      <th>9</th>\n",
       "      <td>Tripura</td>\n",
       "      <td>POLYGON ((92.21170 24.50448, 92.22977 24.50244...</td>\n",
       "      <td>wheat</td>\n",
       "      <td>Tripura</td>\n",
       "      <td>89916.75</td>\n",
       "      <td>0.0</td>\n",
       "      <td>Area Size:&lt;br&gt;rice: 90.0k, &lt;br&gt; cotton: 90.0k,...</td>\n",
       "      <td>POINT (91.73907 23.74514)</td>\n",
       "      <td>91.739069</td>\n",
       "      <td>23.745138</td>\n",
       "    </tr>\n",
       "    <tr>\n",
       "      <th>10</th>\n",
       "      <td>Uttarakhand</td>\n",
       "      <td>POLYGON ((80.06509 28.83673, 80.05923 28.81687...</td>\n",
       "      <td>wheat</td>\n",
       "      <td>Uttarakhand</td>\n",
       "      <td>210357</td>\n",
       "      <td>0.0</td>\n",
       "      <td>Area Size:&lt;br&gt;rice: 210.0k, &lt;br&gt; horsegram: 14...</td>\n",
       "      <td>POINT (79.20658 30.15661)</td>\n",
       "      <td>79.206583</td>\n",
       "      <td>30.156612</td>\n",
       "    </tr>\n",
       "    <tr>\n",
       "      <th>11</th>\n",
       "      <td>Telangana</td>\n",
       "      <td>POLYGON ((80.27289 18.72299, 80.27929 18.72118...</td>\n",
       "      <td>wheat</td>\n",
       "      <td>Telangana</td>\n",
       "      <td>1096483.5</td>\n",
       "      <td>0.0</td>\n",
       "      <td>Area Size:&lt;br&gt;rice: 1096.0k, &lt;br&gt; cotton: 1096...</td>\n",
       "      <td>POINT (79.00869 17.80072)</td>\n",
       "      <td>79.008686</td>\n",
       "      <td>17.800720</td>\n",
       "    </tr>\n",
       "    <tr>\n",
       "      <th>12</th>\n",
       "      <td>Madhya Pradesh</td>\n",
       "      <td>POLYGON ((82.81031 23.96288, 82.77822 23.93717...</td>\n",
       "      <td>wheat</td>\n",
       "      <td>Madhya Pradesh</td>\n",
       "      <td>4418016.75</td>\n",
       "      <td>0.0</td>\n",
       "      <td>Area Size:&lt;br&gt;rice: 4418.0k, &lt;br&gt; cotton: 4418...</td>\n",
       "      <td>POINT (78.28915 23.53814)</td>\n",
       "      <td>78.289153</td>\n",
       "      <td>23.538136</td>\n",
       "    </tr>\n",
       "    <tr>\n",
       "      <th>13</th>\n",
       "      <td>Gujarat</td>\n",
       "      <td>MULTIPOLYGON (((72.36233 22.02915, 72.38864 22...</td>\n",
       "      <td>wheat</td>\n",
       "      <td>Gujarat</td>\n",
       "      <td>2407198.5</td>\n",
       "      <td>0.0</td>\n",
       "      <td>Area Size:&lt;br&gt;rice: 2407.0k, &lt;br&gt; cotton: 2407...</td>\n",
       "      <td>POINT (71.57223 22.69839)</td>\n",
       "      <td>71.572226</td>\n",
       "      <td>22.698394</td>\n",
       "    </tr>\n",
       "    <tr>\n",
       "      <th>14</th>\n",
       "      <td>Odisha</td>\n",
       "      <td>POLYGON ((84.76474 19.07728, 84.70610 19.11661...</td>\n",
       "      <td>wheat</td>\n",
       "      <td>Odisha</td>\n",
       "      <td>677435.500  962671.500</td>\n",
       "      <td>0.0</td>\n",
       "      <td>Area Size:&lt;br&gt;rice: 677.0k, &lt;br&gt; cotton: 963.0...</td>\n",
       "      <td>POINT (84.43062 20.51399)</td>\n",
       "      <td>84.430619</td>\n",
       "      <td>20.513987</td>\n",
       "    </tr>\n",
       "    <tr>\n",
       "      <th>15</th>\n",
       "      <td>Dadra and Nagar Haveli and Daman and Diu</td>\n",
       "      <td>MULTIPOLYGON (((73.21066 20.12045, 73.21315 20...</td>\n",
       "      <td>wheat</td>\n",
       "      <td>Dadra and Nagar Haveli and Daman and Diu</td>\n",
       "      <td>4488.75</td>\n",
       "      <td>0.0</td>\n",
       "      <td>Area Size:&lt;br&gt;rice: 4.0k, &lt;br&gt; maize: 4.0k</td>\n",
       "      <td>POINT (72.93083 20.24255)</td>\n",
       "      <td>72.930832</td>\n",
       "      <td>20.242552</td>\n",
       "    </tr>\n",
       "    <tr>\n",
       "      <th>16</th>\n",
       "      <td>Jammu &amp; Kashmir</td>\n",
       "      <td>POLYGON ((76.77123 33.24963, 76.77888 33.23971...</td>\n",
       "      <td>wheat</td>\n",
       "      <td>Jammu &amp; Kashmir</td>\n",
       "      <td>221082.75</td>\n",
       "      <td>0.0</td>\n",
       "      <td>Area Size:&lt;br&gt;rice: 221.0k, &lt;br&gt; cotton: 156.0...</td>\n",
       "      <td>POINT (74.85840 33.64512)</td>\n",
       "      <td>74.858400</td>\n",
       "      <td>33.645120</td>\n",
       "    </tr>\n",
       "    <tr>\n",
       "      <th>17</th>\n",
       "      <td>Haryana</td>\n",
       "      <td>POLYGON ((77.58561 30.37956, 77.60352 30.36922...</td>\n",
       "      <td>wheat</td>\n",
       "      <td>Haryana</td>\n",
       "      <td>1222452</td>\n",
       "      <td>0.0</td>\n",
       "      <td>Area Size:&lt;br&gt;rice: 1222.0k, &lt;br&gt; cotton: 1222...</td>\n",
       "      <td>POINT (76.34018 29.19814)</td>\n",
       "      <td>76.340180</td>\n",
       "      <td>29.198138</td>\n",
       "    </tr>\n",
       "    <tr>\n",
       "      <th>18</th>\n",
       "      <td>Himachal Pradesh</td>\n",
       "      <td>POLYGON ((78.39859 32.52574, 78.41521 32.52245...</td>\n",
       "      <td>wheat</td>\n",
       "      <td>Himachal Pradesh</td>\n",
       "      <td>175959</td>\n",
       "      <td>0.0</td>\n",
       "      <td>Area Size:&lt;br&gt;rice: 176.0k, &lt;br&gt; maize: 124.0k...</td>\n",
       "      <td>POINT (77.24451 31.92623)</td>\n",
       "      <td>77.244508</td>\n",
       "      <td>31.926226</td>\n",
       "    </tr>\n",
       "    <tr>\n",
       "      <th>19</th>\n",
       "      <td>Jharkhand</td>\n",
       "      <td>POLYGON ((87.71137 25.25768, 87.77867 25.25054...</td>\n",
       "      <td>wheat</td>\n",
       "      <td>Jharkhand</td>\n",
       "      <td>298289.25</td>\n",
       "      <td>0.0</td>\n",
       "      <td>Area Size:&lt;br&gt;rice: 298.0k, &lt;br&gt; maize: 298.0k</td>\n",
       "      <td>POINT (85.56364 23.65614)</td>\n",
       "      <td>85.563637</td>\n",
       "      <td>23.656140</td>\n",
       "    </tr>\n",
       "    <tr>\n",
       "      <th>20</th>\n",
       "      <td>Uttar Pradesh</td>\n",
       "      <td>MULTIPOLYGON (((79.39598 25.03224, 79.37381 25...</td>\n",
       "      <td>wheat</td>\n",
       "      <td>Uttar Pradesh</td>\n",
       "      <td>4904691.75</td>\n",
       "      <td>0.0</td>\n",
       "      <td>Area Size:&lt;br&gt;rice: 4905.0k, &lt;br&gt; cotton: 4905...</td>\n",
       "      <td>POINT (80.56605 26.92330)</td>\n",
       "      <td>80.566053</td>\n",
       "      <td>26.923298</td>\n",
       "    </tr>\n",
       "    <tr>\n",
       "      <th>21</th>\n",
       "      <td>Andhra Pradesh</td>\n",
       "      <td>POLYGON ((84.76474 19.07728, 84.74627 19.04820...</td>\n",
       "      <td>wheat</td>\n",
       "      <td>Andhra Pradesh</td>\n",
       "      <td>1437297.75</td>\n",
       "      <td>0.0</td>\n",
       "      <td>Area Size:&lt;br&gt;rice: 2042.0k, &lt;br&gt; cotton: 2042...</td>\n",
       "      <td>POINT (79.96565 15.75611)</td>\n",
       "      <td>79.965647</td>\n",
       "      <td>15.756113</td>\n",
       "    </tr>\n",
       "    <tr>\n",
       "      <th>22</th>\n",
       "      <td>Maharashtra</td>\n",
       "      <td>MULTIPOLYGON (((80.66004 21.33411, 80.68159 21...</td>\n",
       "      <td>wheat</td>\n",
       "      <td>Maharashtra</td>\n",
       "      <td>4291481.25</td>\n",
       "      <td>0.0</td>\n",
       "      <td>Area Size:&lt;br&gt;rice: 4291.0k, &lt;br&gt; cotton: 4291...</td>\n",
       "      <td>POINT (76.10751 19.45150)</td>\n",
       "      <td>76.107510</td>\n",
       "      <td>19.451500</td>\n",
       "    </tr>\n",
       "  </tbody>\n",
       "</table>\n",
       "</div>"
      ],
      "text/plain": [
       "                                       ST_NM  \\\n",
       "0                          Arunachal Pradesh   \n",
       "1                                      Assam   \n",
       "2                                 Chandigarh   \n",
       "3                                  Karnataka   \n",
       "4                                    Manipur   \n",
       "5                                  Meghalaya   \n",
       "6                                     Punjab   \n",
       "7                                  Rajasthan   \n",
       "8                                     Sikkim   \n",
       "9                                    Tripura   \n",
       "10                               Uttarakhand   \n",
       "11                                 Telangana   \n",
       "12                            Madhya Pradesh   \n",
       "13                                   Gujarat   \n",
       "14                                    Odisha   \n",
       "15  Dadra and Nagar Haveli and Daman and Diu   \n",
       "16                           Jammu & Kashmir   \n",
       "17                                   Haryana   \n",
       "18                          Himachal Pradesh   \n",
       "19                                 Jharkhand   \n",
       "20                             Uttar Pradesh   \n",
       "21                            Andhra Pradesh   \n",
       "22                               Maharashtra   \n",
       "\n",
       "                                             geometry    crop  \\\n",
       "0   POLYGON ((95.23392 26.68246, 95.23282 26.70579...   wheat   \n",
       "1   POLYGON ((95.19465 27.03132, 95.15008 26.99934...   wheat   \n",
       "2   POLYGON ((76.83806 30.75487, 76.83301 30.73887...   wheat   \n",
       "3   POLYGON ((77.55144 18.29191, 77.57026 18.29252...  cotton   \n",
       "4   POLYGON ((94.67545 25.44561, 94.67293 25.42398...  cotton   \n",
       "5   POLYGON ((92.42522 25.02966, 92.40163 25.03363...  cotton   \n",
       "6   POLYGON ((76.77673 30.90429, 76.78433 30.87791...   wheat   \n",
       "7   POLYGON ((74.52716 29.94279, 74.51002 29.90819...   wheat   \n",
       "8   POLYGON ((88.74553 27.14203, 88.73457 27.13482...   wheat   \n",
       "9   POLYGON ((92.21170 24.50448, 92.22977 24.50244...   wheat   \n",
       "10  POLYGON ((80.06509 28.83673, 80.05923 28.81687...   wheat   \n",
       "11  POLYGON ((80.27289 18.72299, 80.27929 18.72118...   wheat   \n",
       "12  POLYGON ((82.81031 23.96288, 82.77822 23.93717...   wheat   \n",
       "13  MULTIPOLYGON (((72.36233 22.02915, 72.38864 22...   wheat   \n",
       "14  POLYGON ((84.76474 19.07728, 84.70610 19.11661...   wheat   \n",
       "15  MULTIPOLYGON (((73.21066 20.12045, 73.21315 20...   wheat   \n",
       "16  POLYGON ((76.77123 33.24963, 76.77888 33.23971...   wheat   \n",
       "17  POLYGON ((77.58561 30.37956, 77.60352 30.36922...   wheat   \n",
       "18  POLYGON ((78.39859 32.52574, 78.41521 32.52245...   wheat   \n",
       "19  POLYGON ((87.71137 25.25768, 87.77867 25.25054...   wheat   \n",
       "20  MULTIPOLYGON (((79.39598 25.03224, 79.37381 25...   wheat   \n",
       "21  POLYGON ((84.76474 19.07728, 84.74627 19.04820...   wheat   \n",
       "22  MULTIPOLYGON (((80.66004 21.33411, 80.68159 21...   wheat   \n",
       "\n",
       "                                       state                    Rabi  Summer  \\\n",
       "0                          Arunachal Pradesh                   52920     0.0   \n",
       "1                                      Assam               776459.25     0.0   \n",
       "2                                 Chandigarh                     378     0.0   \n",
       "3                                  Karnataka              2283167.25     0.0   \n",
       "4                                    Manipur                 67756.5     0.0   \n",
       "5                                  Meghalaya                45386.25     0.0   \n",
       "6                                     Punjab                 1487430     0.0   \n",
       "7                                  Rajasthan               4668961.5     0.0   \n",
       "8                                     Sikkim                   26649     0.0   \n",
       "9                                    Tripura                89916.75     0.0   \n",
       "10                               Uttarakhand                  210357     0.0   \n",
       "11                                 Telangana               1096483.5     0.0   \n",
       "12                            Madhya Pradesh              4418016.75     0.0   \n",
       "13                                   Gujarat               2407198.5     0.0   \n",
       "14                                    Odisha  677435.500  962671.500     0.0   \n",
       "15  Dadra and Nagar Haveli and Daman and Diu                 4488.75     0.0   \n",
       "16                           Jammu & Kashmir               221082.75     0.0   \n",
       "17                                   Haryana                 1222452     0.0   \n",
       "18                          Himachal Pradesh                  175959     0.0   \n",
       "19                                 Jharkhand               298289.25     0.0   \n",
       "20                             Uttar Pradesh              4904691.75     0.0   \n",
       "21                            Andhra Pradesh              1437297.75     0.0   \n",
       "22                               Maharashtra              4291481.25     0.0   \n",
       "\n",
       "                                                 text  \\\n",
       "0   Area Size:<br>rice: 53.0k, <br> maize: 53.0k, ...   \n",
       "1   Area Size:<br>rice: 776.0k, <br> cotton: 776.0...   \n",
       "2          Area Size:<br>rice: 0.0k, <br> maize: 0.0k   \n",
       "3   Area Size:<br>rice: 1607.0k, <br> cotton: 2283...   \n",
       "4   Area Size:<br>rice: 68.0k, <br> maize: 68.0k, ...   \n",
       "5   Area Size:<br>rice: 64.0k, <br> cotton: 64.0k,...   \n",
       "6   Area Size:<br>rice: 1487.0k, <br> cotton: 1487...   \n",
       "7   Area Size:<br>rice: 4669.0k, <br> cotton: 4669...   \n",
       "8   Area Size:<br>rice: 27.0k, <br> maize: 27.0k, ...   \n",
       "9   Area Size:<br>rice: 90.0k, <br> cotton: 90.0k,...   \n",
       "10  Area Size:<br>rice: 210.0k, <br> horsegram: 14...   \n",
       "11  Area Size:<br>rice: 1096.0k, <br> cotton: 1096...   \n",
       "12  Area Size:<br>rice: 4418.0k, <br> cotton: 4418...   \n",
       "13  Area Size:<br>rice: 2407.0k, <br> cotton: 2407...   \n",
       "14  Area Size:<br>rice: 677.0k, <br> cotton: 963.0...   \n",
       "15         Area Size:<br>rice: 4.0k, <br> maize: 4.0k   \n",
       "16  Area Size:<br>rice: 221.0k, <br> cotton: 156.0...   \n",
       "17  Area Size:<br>rice: 1222.0k, <br> cotton: 1222...   \n",
       "18  Area Size:<br>rice: 176.0k, <br> maize: 124.0k...   \n",
       "19     Area Size:<br>rice: 298.0k, <br> maize: 298.0k   \n",
       "20  Area Size:<br>rice: 4905.0k, <br> cotton: 4905...   \n",
       "21  Area Size:<br>rice: 2042.0k, <br> cotton: 2042...   \n",
       "22  Area Size:<br>rice: 4291.0k, <br> cotton: 4291...   \n",
       "\n",
       "                       center        lon        lat  \n",
       "0   POINT (94.67483 28.03607)  94.674833  28.036066  \n",
       "1   POINT (92.82634 26.35498)  92.826343  26.354978  \n",
       "2   POINT (76.78078 30.72836)  76.780780  30.728361  \n",
       "3   POINT (76.16747 14.71041)  76.167475  14.710406  \n",
       "4   POINT (93.87884 24.73508)  93.878842  24.735076  \n",
       "5   POINT (91.27736 25.53558)  91.277356  25.535577  \n",
       "6   POINT (75.41580 30.84223)  75.415804  30.842227  \n",
       "7   POINT (73.84984 26.58441)  73.849842  26.584408  \n",
       "8   POINT (88.47340 27.56992)  88.473403  27.569923  \n",
       "9   POINT (91.73907 23.74514)  91.739069  23.745138  \n",
       "10  POINT (79.20658 30.15661)  79.206583  30.156612  \n",
       "11  POINT (79.00869 17.80072)  79.008686  17.800720  \n",
       "12  POINT (78.28915 23.53814)  78.289153  23.538136  \n",
       "13  POINT (71.57223 22.69839)  71.572226  22.698394  \n",
       "14  POINT (84.43062 20.51399)  84.430619  20.513987  \n",
       "15  POINT (72.93083 20.24255)  72.930832  20.242552  \n",
       "16  POINT (74.85840 33.64512)  74.858400  33.645120  \n",
       "17  POINT (76.34018 29.19814)  76.340180  29.198138  \n",
       "18  POINT (77.24451 31.92623)  77.244508  31.926226  \n",
       "19  POINT (85.56364 23.65614)  85.563637  23.656140  \n",
       "20  POINT (80.56605 26.92330)  80.566053  26.923298  \n",
       "21  POINT (79.96565 15.75611)  79.965647  15.756113  \n",
       "22  POINT (76.10751 19.45150)  76.107510  19.451500  "
      ]
     },
     "execution_count": 413,
     "metadata": {},
     "output_type": "execute_result"
    }
   ],
   "source": [
    "geo_df"
   ]
  },
  {
   "cell_type": "code",
   "execution_count": null,
   "metadata": {},
   "outputs": [
    {
     "name": "stderr",
     "output_type": "stream",
     "text": [
      "C:\\Users\\redhawc\\AppData\\Local\\Temp\\ipykernel_55160\\2598680620.py:25: UserWarning:\n",
      "\n",
      "Geometry is in a geographic CRS. Results from 'centroid' are likely incorrect. Use 'GeoSeries.to_crs()' to re-project geometries to a projected CRS before this operation.\n",
      "\n",
      "\n"
     ]
    },
    {
     "data": {
      "application/vnd.plotly.v1+json": {
       "config": {
        "plotlyServerURL": "https://plot.ly"
       },
       "data": [
        {
         "colorscale": [
          [
           0,
           "lightgrey"
          ],
          [
           1,
           "green"
          ]
         ],
         "featureidkey": "properties.ST_NM",
         "geojson": "https://gist.githubusercontent.com/jbrobst/56c13bbbf9d97d187fea01ca62ea5112/raw/e388c4cae20aa53cb5090210a42ebb9b765c0a36/india_states.geojson",
         "hoverinfo": "location+text",
         "locations": [
          "Arunachal Pradesh",
          "Assam",
          "Chandigarh",
          "Karnataka",
          "Manipur",
          "Meghalaya",
          "Punjab",
          "Rajasthan",
          "Sikkim",
          "Tripura",
          "Uttarakhand",
          "Telangana",
          "Madhya Pradesh",
          "Gujarat",
          "Odisha",
          "Dadra and Nagar Haveli and Daman and Diu",
          "Jammu & Kashmir",
          "Haryana",
          "Himachal Pradesh",
          "Jharkhand",
          "Uttar Pradesh",
          "Andhra Pradesh",
          "Maharashtra"
         ],
         "marker": {
          "line": {
           "color": "burlywood"
          }
         },
         "text": [
          "Rotation Benifit:<br>wheat: 52920<br>Area Size:<br>wheat: 53.0k",
          "Rotation Benifit:<br>wheat: 776459.25<br>Area Size:<br>rice: 776.0k, <br> wheat: 776.0k",
          "Rotation Benifit:<br>wheat: 378<br>Area Size:<br>wheat: 0.0k",
          "Rotation Benifit:<br>cotton: 2283167.25<br>Area Size:<br>rice: 1607.0k, <br> cotton: 2283.0k, <br> maize: 2283.0k, ",
          "Rotation Benifit:<br>cotton: 67756.5<br>Area Size:<br>rice: 68.0k, <br> cotton: 68.0k, <br> potato: 68.0k, ",
          "Rotation Benifit:<br>cotton: 45386.25<br>Area Size:<br>rice: 64.0k, <br> cotton: 45.0k, <br> jute: 64.0k, ",
          "Rotation Benifit:<br>wheat: 1487430<br>Area Size:<br>wheat: 1487.0k",
          "Rotation Benifit:<br>wheat: 4668961.5<br>Area Size:<br>wheat: 4669.0k",
          "Rotation Benifit:<br>wheat: 26649<br>Area Size:<br>wheat: 27.0k",
          "Rotation Benifit:<br>wheat: 89916.75<br>Area Size:<br>wheat: 90.0k",
          "Rotation Benifit:<br>wheat: 210357<br>Area Size:<br>rice: 210.0k, <br> wheat: 210.0k, <br> maize: 148.0k, ",
          "Rotation Benifit:<br>wheat: 1096483.5<br>Area Size:<br>rice: 1096.0k, <br> wheat: 1096.0k, <br> maize: 1096.0k, ",
          "Rotation Benifit:<br>wheat: 4418016.75<br>Area Size:<br>wheat: 4418.0k, <br> horsegram: 4418.0k",
          "Rotation Benifit:<br>wheat: 2407198.5<br>Area Size:<br>wheat: 2407.0k, <br> maize: 2407.0k",
          "Rotation Benifit:<br>wheat: 677435.500  962671.500<br>Area Size:<br>rice: 963.0k, <br> wheat: 677.0k, <br> maize: 963.0k, ",
          "Rotation Benifit:<br>wheat: 4488.75<br>Area Size:<br>rice: 4.0k, <br> wheat: 4.0k, <br> maize: 4.0k",
          "Rotation Benifit:<br>wheat: 221082.75<br>Area Size:<br>wheat: 221.0k, <br> potato: 221.0k",
          "Rotation Benifit:<br>wheat: 1222452<br>Area Size:<br>wheat: 1222.0k",
          "Rotation Benifit:<br>wheat: 175959<br>Area Size:<br>wheat: 176.0k, <br> potato: 176.0k",
          "Rotation Benifit:<br>wheat: 298289.25<br>Area Size:<br>rice: 298.0k, <br> wheat: 298.0k, <br> potato: 298.0k",
          "Rotation Benifit:<br>wheat: 4904691.75<br>Area Size:<br>wheat: 4905.0k, <br> maize: 4905.0k, <br> potato: 4905.0k",
          "Rotation Benifit:<br>wheat: 1437297.75<br>Area Size:<br>rice: 2042.0k, <br> wheat: 1437.0k, <br> maize: 2042.0k, ",
          "Rotation Benifit:<br>wheat: 4291481.25<br>soyabean: 4291481.25<br>Area Size:<br>wheat: 4291.0k, <br> maize: 4291.0k, <br> soyabean: 4291.0k"
         ],
         "type": "choropleth",
         "z": [
          "52920",
          "776459.25",
          "378",
          "2283167.25",
          "67756.5",
          "45386.25",
          "1487430",
          "4668961.5",
          "26649",
          "89916.75",
          "210357",
          "1096483.5",
          "4418016.75",
          "2407198.5",
          "677435.500  962671.500",
          "4488.75",
          "221082.75",
          "1222452",
          "175959",
          "298289.25",
          "4904691.75",
          "1437297.75",
          "4291481.25"
         ]
        },
        {
         "lat": [
          28.036066389221745,
          26.35497847998204,
          30.728361392535774,
          14.710405551302284,
          24.735076113494813,
          25.53557728306151,
          30.842226635713363,
          26.584407666563767,
          27.569923150949375,
          23.745137620836996,
          30.156611868236627,
          17.80072036096087,
          23.538135963929847,
          22.69839433488582,
          20.513987029808025,
          20.242551887312832,
          33.64511955131811,
          29.198138148009594,
          31.926225889963035,
          23.65613966615685,
          26.923298352608214,
          15.756113460734964,
          19.451500358423914
         ],
         "lon": [
          94.6748326791631,
          92.82634309387305,
          76.78078044460244,
          76.16747452915338,
          93.87884193997611,
          91.27735620953041,
          75.41580388296326,
          73.84984184046439,
          88.47340321820725,
          91.73906864094313,
          79.20658342280629,
          79.00868646725074,
          78.28915293669499,
          71.57222579220684,
          84.43061890111004,
          72.93083224907231,
          74.85839980588838,
          76.34018047967007,
          77.24450791093216,
          85.56363713960563,
          80.566053063026,
          79.96564733254941,
          76.10751008526249
         ],
         "mode": "text",
         "text": [
          "Rotation Benifit:<br>wheat: 52920<br>Area Size:<br>wheat: 53.0k",
          "Rotation Benifit:<br>wheat: 776459.25<br>Area Size:<br>rice: 776.0k, <br> wheat: 776.0k",
          "Rotation Benifit:<br>wheat: 378<br>Area Size:<br>wheat: 0.0k",
          "Rotation Benifit:<br>cotton: 2283167.25<br>Area Size:<br>rice: 1607.0k, <br> cotton: 2283.0k, <br> maize: 2283.0k, ",
          "Rotation Benifit:<br>cotton: 67756.5<br>Area Size:<br>rice: 68.0k, <br> cotton: 68.0k, <br> potato: 68.0k, ",
          "Rotation Benifit:<br>cotton: 45386.25<br>Area Size:<br>rice: 64.0k, <br> cotton: 45.0k, <br> jute: 64.0k, ",
          "Rotation Benifit:<br>wheat: 1487430<br>Area Size:<br>wheat: 1487.0k",
          "Rotation Benifit:<br>wheat: 4668961.5<br>Area Size:<br>wheat: 4669.0k",
          "Rotation Benifit:<br>wheat: 26649<br>Area Size:<br>wheat: 27.0k",
          "Rotation Benifit:<br>wheat: 89916.75<br>Area Size:<br>wheat: 90.0k",
          "Rotation Benifit:<br>wheat: 210357<br>Area Size:<br>rice: 210.0k, <br> wheat: 210.0k, <br> maize: 148.0k, ",
          "Rotation Benifit:<br>wheat: 1096483.5<br>Area Size:<br>rice: 1096.0k, <br> wheat: 1096.0k, <br> maize: 1096.0k, ",
          "Rotation Benifit:<br>wheat: 4418016.75<br>Area Size:<br>wheat: 4418.0k, <br> horsegram: 4418.0k",
          "Rotation Benifit:<br>wheat: 2407198.5<br>Area Size:<br>wheat: 2407.0k, <br> maize: 2407.0k",
          "Rotation Benifit:<br>wheat: 677435.500  962671.500<br>Area Size:<br>rice: 963.0k, <br> wheat: 677.0k, <br> maize: 963.0k, ",
          "Rotation Benifit:<br>wheat: 4488.75<br>Area Size:<br>rice: 4.0k, <br> wheat: 4.0k, <br> maize: 4.0k",
          "Rotation Benifit:<br>wheat: 221082.75<br>Area Size:<br>wheat: 221.0k, <br> potato: 221.0k",
          "Rotation Benifit:<br>wheat: 1222452<br>Area Size:<br>wheat: 1222.0k",
          "Rotation Benifit:<br>wheat: 175959<br>Area Size:<br>wheat: 176.0k, <br> potato: 176.0k",
          "Rotation Benifit:<br>wheat: 298289.25<br>Area Size:<br>rice: 298.0k, <br> wheat: 298.0k, <br> potato: 298.0k",
          "Rotation Benifit:<br>wheat: 4904691.75<br>Area Size:<br>wheat: 4905.0k, <br> maize: 4905.0k, <br> potato: 4905.0k",
          "Rotation Benifit:<br>wheat: 1437297.75<br>Area Size:<br>rice: 2042.0k, <br> wheat: 1437.0k, <br> maize: 2042.0k, ",
          "Rotation Benifit:<br>wheat: 4291481.25<br>soyabean: 4291481.25<br>Area Size:<br>wheat: 4291.0k, <br> maize: 4291.0k, <br> soyabean: 4291.0k"
         ],
         "textfont": {
          "color": "darkred",
          "size": 6
         },
         "type": "scattergeo"
        }
       ],
       "layout": {
        "geo": {
         "fitbounds": "locations",
         "visible": false
        },
        "height": 1200,
        "margin": {
         "b": 0,
         "l": 0,
         "r": 0,
         "t": 0
        },
        "template": {
         "data": {
          "bar": [
           {
            "error_x": {
             "color": "#2a3f5f"
            },
            "error_y": {
             "color": "#2a3f5f"
            },
            "marker": {
             "line": {
              "color": "#E5ECF6",
              "width": 0.5
             },
             "pattern": {
              "fillmode": "overlay",
              "size": 10,
              "solidity": 0.2
             }
            },
            "type": "bar"
           }
          ],
          "barpolar": [
           {
            "marker": {
             "line": {
              "color": "#E5ECF6",
              "width": 0.5
             },
             "pattern": {
              "fillmode": "overlay",
              "size": 10,
              "solidity": 0.2
             }
            },
            "type": "barpolar"
           }
          ],
          "carpet": [
           {
            "aaxis": {
             "endlinecolor": "#2a3f5f",
             "gridcolor": "white",
             "linecolor": "white",
             "minorgridcolor": "white",
             "startlinecolor": "#2a3f5f"
            },
            "baxis": {
             "endlinecolor": "#2a3f5f",
             "gridcolor": "white",
             "linecolor": "white",
             "minorgridcolor": "white",
             "startlinecolor": "#2a3f5f"
            },
            "type": "carpet"
           }
          ],
          "choropleth": [
           {
            "colorbar": {
             "outlinewidth": 0,
             "ticks": ""
            },
            "type": "choropleth"
           }
          ],
          "contour": [
           {
            "colorbar": {
             "outlinewidth": 0,
             "ticks": ""
            },
            "colorscale": [
             [
              0,
              "#0d0887"
             ],
             [
              0.1111111111111111,
              "#46039f"
             ],
             [
              0.2222222222222222,
              "#7201a8"
             ],
             [
              0.3333333333333333,
              "#9c179e"
             ],
             [
              0.4444444444444444,
              "#bd3786"
             ],
             [
              0.5555555555555556,
              "#d8576b"
             ],
             [
              0.6666666666666666,
              "#ed7953"
             ],
             [
              0.7777777777777778,
              "#fb9f3a"
             ],
             [
              0.8888888888888888,
              "#fdca26"
             ],
             [
              1,
              "#f0f921"
             ]
            ],
            "type": "contour"
           }
          ],
          "contourcarpet": [
           {
            "colorbar": {
             "outlinewidth": 0,
             "ticks": ""
            },
            "type": "contourcarpet"
           }
          ],
          "heatmap": [
           {
            "colorbar": {
             "outlinewidth": 0,
             "ticks": ""
            },
            "colorscale": [
             [
              0,
              "#0d0887"
             ],
             [
              0.1111111111111111,
              "#46039f"
             ],
             [
              0.2222222222222222,
              "#7201a8"
             ],
             [
              0.3333333333333333,
              "#9c179e"
             ],
             [
              0.4444444444444444,
              "#bd3786"
             ],
             [
              0.5555555555555556,
              "#d8576b"
             ],
             [
              0.6666666666666666,
              "#ed7953"
             ],
             [
              0.7777777777777778,
              "#fb9f3a"
             ],
             [
              0.8888888888888888,
              "#fdca26"
             ],
             [
              1,
              "#f0f921"
             ]
            ],
            "type": "heatmap"
           }
          ],
          "heatmapgl": [
           {
            "colorbar": {
             "outlinewidth": 0,
             "ticks": ""
            },
            "colorscale": [
             [
              0,
              "#0d0887"
             ],
             [
              0.1111111111111111,
              "#46039f"
             ],
             [
              0.2222222222222222,
              "#7201a8"
             ],
             [
              0.3333333333333333,
              "#9c179e"
             ],
             [
              0.4444444444444444,
              "#bd3786"
             ],
             [
              0.5555555555555556,
              "#d8576b"
             ],
             [
              0.6666666666666666,
              "#ed7953"
             ],
             [
              0.7777777777777778,
              "#fb9f3a"
             ],
             [
              0.8888888888888888,
              "#fdca26"
             ],
             [
              1,
              "#f0f921"
             ]
            ],
            "type": "heatmapgl"
           }
          ],
          "histogram": [
           {
            "marker": {
             "pattern": {
              "fillmode": "overlay",
              "size": 10,
              "solidity": 0.2
             }
            },
            "type": "histogram"
           }
          ],
          "histogram2d": [
           {
            "colorbar": {
             "outlinewidth": 0,
             "ticks": ""
            },
            "colorscale": [
             [
              0,
              "#0d0887"
             ],
             [
              0.1111111111111111,
              "#46039f"
             ],
             [
              0.2222222222222222,
              "#7201a8"
             ],
             [
              0.3333333333333333,
              "#9c179e"
             ],
             [
              0.4444444444444444,
              "#bd3786"
             ],
             [
              0.5555555555555556,
              "#d8576b"
             ],
             [
              0.6666666666666666,
              "#ed7953"
             ],
             [
              0.7777777777777778,
              "#fb9f3a"
             ],
             [
              0.8888888888888888,
              "#fdca26"
             ],
             [
              1,
              "#f0f921"
             ]
            ],
            "type": "histogram2d"
           }
          ],
          "histogram2dcontour": [
           {
            "colorbar": {
             "outlinewidth": 0,
             "ticks": ""
            },
            "colorscale": [
             [
              0,
              "#0d0887"
             ],
             [
              0.1111111111111111,
              "#46039f"
             ],
             [
              0.2222222222222222,
              "#7201a8"
             ],
             [
              0.3333333333333333,
              "#9c179e"
             ],
             [
              0.4444444444444444,
              "#bd3786"
             ],
             [
              0.5555555555555556,
              "#d8576b"
             ],
             [
              0.6666666666666666,
              "#ed7953"
             ],
             [
              0.7777777777777778,
              "#fb9f3a"
             ],
             [
              0.8888888888888888,
              "#fdca26"
             ],
             [
              1,
              "#f0f921"
             ]
            ],
            "type": "histogram2dcontour"
           }
          ],
          "mesh3d": [
           {
            "colorbar": {
             "outlinewidth": 0,
             "ticks": ""
            },
            "type": "mesh3d"
           }
          ],
          "parcoords": [
           {
            "line": {
             "colorbar": {
              "outlinewidth": 0,
              "ticks": ""
             }
            },
            "type": "parcoords"
           }
          ],
          "pie": [
           {
            "automargin": true,
            "type": "pie"
           }
          ],
          "scatter": [
           {
            "fillpattern": {
             "fillmode": "overlay",
             "size": 10,
             "solidity": 0.2
            },
            "type": "scatter"
           }
          ],
          "scatter3d": [
           {
            "line": {
             "colorbar": {
              "outlinewidth": 0,
              "ticks": ""
             }
            },
            "marker": {
             "colorbar": {
              "outlinewidth": 0,
              "ticks": ""
             }
            },
            "type": "scatter3d"
           }
          ],
          "scattercarpet": [
           {
            "marker": {
             "colorbar": {
              "outlinewidth": 0,
              "ticks": ""
             }
            },
            "type": "scattercarpet"
           }
          ],
          "scattergeo": [
           {
            "marker": {
             "colorbar": {
              "outlinewidth": 0,
              "ticks": ""
             }
            },
            "type": "scattergeo"
           }
          ],
          "scattergl": [
           {
            "marker": {
             "colorbar": {
              "outlinewidth": 0,
              "ticks": ""
             }
            },
            "type": "scattergl"
           }
          ],
          "scattermapbox": [
           {
            "marker": {
             "colorbar": {
              "outlinewidth": 0,
              "ticks": ""
             }
            },
            "type": "scattermapbox"
           }
          ],
          "scatterpolar": [
           {
            "marker": {
             "colorbar": {
              "outlinewidth": 0,
              "ticks": ""
             }
            },
            "type": "scatterpolar"
           }
          ],
          "scatterpolargl": [
           {
            "marker": {
             "colorbar": {
              "outlinewidth": 0,
              "ticks": ""
             }
            },
            "type": "scatterpolargl"
           }
          ],
          "scatterternary": [
           {
            "marker": {
             "colorbar": {
              "outlinewidth": 0,
              "ticks": ""
             }
            },
            "type": "scatterternary"
           }
          ],
          "surface": [
           {
            "colorbar": {
             "outlinewidth": 0,
             "ticks": ""
            },
            "colorscale": [
             [
              0,
              "#0d0887"
             ],
             [
              0.1111111111111111,
              "#46039f"
             ],
             [
              0.2222222222222222,
              "#7201a8"
             ],
             [
              0.3333333333333333,
              "#9c179e"
             ],
             [
              0.4444444444444444,
              "#bd3786"
             ],
             [
              0.5555555555555556,
              "#d8576b"
             ],
             [
              0.6666666666666666,
              "#ed7953"
             ],
             [
              0.7777777777777778,
              "#fb9f3a"
             ],
             [
              0.8888888888888888,
              "#fdca26"
             ],
             [
              1,
              "#f0f921"
             ]
            ],
            "type": "surface"
           }
          ],
          "table": [
           {
            "cells": {
             "fill": {
              "color": "#EBF0F8"
             },
             "line": {
              "color": "white"
             }
            },
            "header": {
             "fill": {
              "color": "#C8D4E3"
             },
             "line": {
              "color": "white"
             }
            },
            "type": "table"
           }
          ]
         },
         "layout": {
          "annotationdefaults": {
           "arrowcolor": "#2a3f5f",
           "arrowhead": 0,
           "arrowwidth": 1
          },
          "autotypenumbers": "strict",
          "coloraxis": {
           "colorbar": {
            "outlinewidth": 0,
            "ticks": ""
           }
          },
          "colorscale": {
           "diverging": [
            [
             0,
             "#8e0152"
            ],
            [
             0.1,
             "#c51b7d"
            ],
            [
             0.2,
             "#de77ae"
            ],
            [
             0.3,
             "#f1b6da"
            ],
            [
             0.4,
             "#fde0ef"
            ],
            [
             0.5,
             "#f7f7f7"
            ],
            [
             0.6,
             "#e6f5d0"
            ],
            [
             0.7,
             "#b8e186"
            ],
            [
             0.8,
             "#7fbc41"
            ],
            [
             0.9,
             "#4d9221"
            ],
            [
             1,
             "#276419"
            ]
           ],
           "sequential": [
            [
             0,
             "#0d0887"
            ],
            [
             0.1111111111111111,
             "#46039f"
            ],
            [
             0.2222222222222222,
             "#7201a8"
            ],
            [
             0.3333333333333333,
             "#9c179e"
            ],
            [
             0.4444444444444444,
             "#bd3786"
            ],
            [
             0.5555555555555556,
             "#d8576b"
            ],
            [
             0.6666666666666666,
             "#ed7953"
            ],
            [
             0.7777777777777778,
             "#fb9f3a"
            ],
            [
             0.8888888888888888,
             "#fdca26"
            ],
            [
             1,
             "#f0f921"
            ]
           ],
           "sequentialminus": [
            [
             0,
             "#0d0887"
            ],
            [
             0.1111111111111111,
             "#46039f"
            ],
            [
             0.2222222222222222,
             "#7201a8"
            ],
            [
             0.3333333333333333,
             "#9c179e"
            ],
            [
             0.4444444444444444,
             "#bd3786"
            ],
            [
             0.5555555555555556,
             "#d8576b"
            ],
            [
             0.6666666666666666,
             "#ed7953"
            ],
            [
             0.7777777777777778,
             "#fb9f3a"
            ],
            [
             0.8888888888888888,
             "#fdca26"
            ],
            [
             1,
             "#f0f921"
            ]
           ]
          },
          "colorway": [
           "#636efa",
           "#EF553B",
           "#00cc96",
           "#ab63fa",
           "#FFA15A",
           "#19d3f3",
           "#FF6692",
           "#B6E880",
           "#FF97FF",
           "#FECB52"
          ],
          "font": {
           "color": "#2a3f5f"
          },
          "geo": {
           "bgcolor": "white",
           "lakecolor": "white",
           "landcolor": "#E5ECF6",
           "showlakes": true,
           "showland": true,
           "subunitcolor": "white"
          },
          "hoverlabel": {
           "align": "left"
          },
          "hovermode": "closest",
          "mapbox": {
           "style": "light"
          },
          "paper_bgcolor": "white",
          "plot_bgcolor": "#E5ECF6",
          "polar": {
           "angularaxis": {
            "gridcolor": "white",
            "linecolor": "white",
            "ticks": ""
           },
           "bgcolor": "#E5ECF6",
           "radialaxis": {
            "gridcolor": "white",
            "linecolor": "white",
            "ticks": ""
           }
          },
          "scene": {
           "xaxis": {
            "backgroundcolor": "#E5ECF6",
            "gridcolor": "white",
            "gridwidth": 2,
            "linecolor": "white",
            "showbackground": true,
            "ticks": "",
            "zerolinecolor": "white"
           },
           "yaxis": {
            "backgroundcolor": "#E5ECF6",
            "gridcolor": "white",
            "gridwidth": 2,
            "linecolor": "white",
            "showbackground": true,
            "ticks": "",
            "zerolinecolor": "white"
           },
           "zaxis": {
            "backgroundcolor": "#E5ECF6",
            "gridcolor": "white",
            "gridwidth": 2,
            "linecolor": "white",
            "showbackground": true,
            "ticks": "",
            "zerolinecolor": "white"
           }
          },
          "shapedefaults": {
           "line": {
            "color": "#2a3f5f"
           }
          },
          "ternary": {
           "aaxis": {
            "gridcolor": "white",
            "linecolor": "white",
            "ticks": ""
           },
           "baxis": {
            "gridcolor": "white",
            "linecolor": "white",
            "ticks": ""
           },
           "bgcolor": "#E5ECF6",
           "caxis": {
            "gridcolor": "white",
            "linecolor": "white",
            "ticks": ""
           }
          },
          "title": {
           "x": 0.05
          },
          "xaxis": {
           "automargin": true,
           "gridcolor": "white",
           "linecolor": "white",
           "ticks": "",
           "title": {
            "standoff": 15
           },
           "zerolinecolor": "white",
           "zerolinewidth": 2
          },
          "yaxis": {
           "automargin": true,
           "gridcolor": "white",
           "linecolor": "white",
           "ticks": "",
           "title": {
            "standoff": 15
           },
           "zerolinecolor": "white",
           "zerolinewidth": 2
          }
         }
        },
        "title": {
         "text": "Model2-Rotation Benefit of Rabi"
        },
        "width": 1800
       }
      }
     },
     "metadata": {},
     "output_type": "display_data"
    }
   ],
   "source": [
    "import plotly.graph_objects as go\n",
    "import geopandas as gpd\n",
    "\n",
    "# ...（读取地理数据的代码）\n",
    "geojson_url = \"https://gist.githubusercontent.com/jbrobst/56c13bbbf9d97d187fea01ca62ea5112/raw/e388c4cae20aa53cb5090210a42ebb9b765c0a36/india_states.geojson\"\n",
    "geo_df = gpd.read_file(geojson_url)\n",
    "# 假设 BenifitModel2 是您的数据集\n",
    "geo_df = geo_df.merge(merged_df_Rabi, left_on=\"ST_NM\", right_on=\"state\")\n",
    "\n",
    "# 创建 Choropleth 图层\n",
    "fig = go.Figure(\n",
    "    data=go.Choropleth(\n",
    "        geojson=geojson_url,\n",
    "        featureidkey=\"properties.ST_NM\",\n",
    "        locations=geo_df[\"state\"],\n",
    "        z=geo_df[\"Rabi\"],  # 使用 'Rabi' 作为区分的依据\n",
    "        text=geo_df[\"text\"],  # 使用合并的 'text' 列\n",
    "        colorscale=[\"lightgrey\", \"green\"],  # 使用浅灰色到绿色的色阶\n",
    "        hoverinfo=\"location+text\",\n",
    "        marker_line_color=\"burlywood\",\n",
    "    )\n",
    ")\n",
    "\n",
    "# 计算每个州的中心点坐标\n",
    "geo_df[\"center\"] = geo_df[\"geometry\"].centroid\n",
    "geo_df[\"lon\"] = geo_df[\"center\"].apply(lambda p: p.x)\n",
    "geo_df[\"lat\"] = geo_df[\"center\"].apply(lambda p: p.y)\n",
    "\n",
    "# 添加散点图层以固定显示文本\n",
    "fig.add_trace(\n",
    "    go.Scattergeo(\n",
    "        lon=geo_df[\"lon\"],\n",
    "        lat=geo_df[\"lat\"],\n",
    "        text=geo_df[\"text\"],\n",
    "        mode=\"text\",\n",
    "        textfont=dict(size=6, color=\"darkred\"),  # 设置字体大小，您可以根据需要调整\n",
    "    )\n",
    ")\n",
    "\n",
    "fig.update_geos(fitbounds=\"locations\", visible=False)\n",
    "\n",
    "fig.update_layout(\n",
    "    title_text=\"Model2-Rotation Benefit of Rabi\",\n",
    "    width=1800,  # 宽度, 您可以根据需要调整\n",
    "    height=1200,  # 高度, 您可以根据需要调整\n",
    "    margin={\"r\": 0, \"t\": 0, \"l\": 0, \"b\": 0},\n",
    ")\n",
    "\n",
    "fig.update_geos(fitbounds=\"locations\", visible=False)\n",
    "fig.update_layout(width=1800, height=1200, margin={\"r\": 0, \"t\": 0, \"l\": 0, \"b\": 0})\n",
    "fig.show()\n",
    "fig.write_image(\"#model2_rotate_Rabi.png\", scale=2)"
   ]
  },
  {
   "cell_type": "code",
   "execution_count": null,
   "metadata": {},
   "outputs": [
    {
     "data": {
      "text/html": [
       "<div>\n",
       "<style scoped>\n",
       "    .dataframe tbody tr th:only-of-type {\n",
       "        vertical-align: middle;\n",
       "    }\n",
       "\n",
       "    .dataframe tbody tr th {\n",
       "        vertical-align: top;\n",
       "    }\n",
       "\n",
       "    .dataframe thead th {\n",
       "        text-align: right;\n",
       "    }\n",
       "</style>\n",
       "<table border=\"1\" class=\"dataframe\">\n",
       "  <thead>\n",
       "    <tr style=\"text-align: right;\">\n",
       "      <th></th>\n",
       "      <th>ST_NM</th>\n",
       "      <th>geometry</th>\n",
       "      <th>crop</th>\n",
       "      <th>state</th>\n",
       "      <th>Rabi</th>\n",
       "      <th>Summer</th>\n",
       "      <th>text</th>\n",
       "      <th>center</th>\n",
       "      <th>lon</th>\n",
       "      <th>lat</th>\n",
       "    </tr>\n",
       "  </thead>\n",
       "  <tbody>\n",
       "    <tr>\n",
       "      <th>0</th>\n",
       "      <td>Arunachal Pradesh</td>\n",
       "      <td>POLYGON ((95.23392 26.68246, 95.23282 26.70579...</td>\n",
       "      <td>wheat</td>\n",
       "      <td>Arunachal Pradesh</td>\n",
       "      <td>52920</td>\n",
       "      <td>NaN</td>\n",
       "      <td>Rotation Benifit:&lt;br&gt;wheat: 52920&lt;br&gt;Area Size...</td>\n",
       "      <td>POINT (94.67483 28.03607)</td>\n",
       "      <td>94.674833</td>\n",
       "      <td>28.036066</td>\n",
       "    </tr>\n",
       "    <tr>\n",
       "      <th>1</th>\n",
       "      <td>Assam</td>\n",
       "      <td>POLYGON ((95.19465 27.03132, 95.15008 26.99934...</td>\n",
       "      <td>wheat</td>\n",
       "      <td>Assam</td>\n",
       "      <td>776459.25</td>\n",
       "      <td>NaN</td>\n",
       "      <td>Rotation Benifit:&lt;br&gt;wheat: 776459.25&lt;br&gt;Area ...</td>\n",
       "      <td>POINT (92.82634 26.35498)</td>\n",
       "      <td>92.826343</td>\n",
       "      <td>26.354978</td>\n",
       "    </tr>\n",
       "    <tr>\n",
       "      <th>2</th>\n",
       "      <td>Chandigarh</td>\n",
       "      <td>POLYGON ((76.83806 30.75487, 76.83301 30.73887...</td>\n",
       "      <td>wheat</td>\n",
       "      <td>Chandigarh</td>\n",
       "      <td>378</td>\n",
       "      <td>NaN</td>\n",
       "      <td>Rotation Benifit:&lt;br&gt;wheat: 378&lt;br&gt;Area Size:&lt;...</td>\n",
       "      <td>POINT (76.78078 30.72836)</td>\n",
       "      <td>76.780780</td>\n",
       "      <td>30.728361</td>\n",
       "    </tr>\n",
       "    <tr>\n",
       "      <th>3</th>\n",
       "      <td>Karnataka</td>\n",
       "      <td>POLYGON ((77.55144 18.29191, 77.57026 18.29252...</td>\n",
       "      <td>cotton</td>\n",
       "      <td>Karnataka</td>\n",
       "      <td>2283167.25</td>\n",
       "      <td>NaN</td>\n",
       "      <td>Rotation Benifit:&lt;br&gt;cotton: 2283167.25&lt;br&gt;Are...</td>\n",
       "      <td>POINT (76.16747 14.71041)</td>\n",
       "      <td>76.167475</td>\n",
       "      <td>14.710406</td>\n",
       "    </tr>\n",
       "    <tr>\n",
       "      <th>4</th>\n",
       "      <td>Manipur</td>\n",
       "      <td>POLYGON ((94.67545 25.44561, 94.67293 25.42398...</td>\n",
       "      <td>cotton</td>\n",
       "      <td>Manipur</td>\n",
       "      <td>67756.5</td>\n",
       "      <td>NaN</td>\n",
       "      <td>Rotation Benifit:&lt;br&gt;cotton: 67756.5&lt;br&gt;Area S...</td>\n",
       "      <td>POINT (93.87884 24.73508)</td>\n",
       "      <td>93.878842</td>\n",
       "      <td>24.735076</td>\n",
       "    </tr>\n",
       "    <tr>\n",
       "      <th>5</th>\n",
       "      <td>Meghalaya</td>\n",
       "      <td>POLYGON ((92.42522 25.02966, 92.40163 25.03363...</td>\n",
       "      <td>cotton</td>\n",
       "      <td>Meghalaya</td>\n",
       "      <td>45386.25</td>\n",
       "      <td>NaN</td>\n",
       "      <td>Rotation Benifit:&lt;br&gt;cotton: 45386.25&lt;br&gt;Area ...</td>\n",
       "      <td>POINT (91.27736 25.53558)</td>\n",
       "      <td>91.277356</td>\n",
       "      <td>25.535577</td>\n",
       "    </tr>\n",
       "    <tr>\n",
       "      <th>6</th>\n",
       "      <td>Punjab</td>\n",
       "      <td>POLYGON ((76.77673 30.90429, 76.78433 30.87791...</td>\n",
       "      <td>wheat</td>\n",
       "      <td>Punjab</td>\n",
       "      <td>1487430</td>\n",
       "      <td>NaN</td>\n",
       "      <td>Rotation Benifit:&lt;br&gt;wheat: 1487430&lt;br&gt;Area Si...</td>\n",
       "      <td>POINT (75.41580 30.84223)</td>\n",
       "      <td>75.415804</td>\n",
       "      <td>30.842227</td>\n",
       "    </tr>\n",
       "    <tr>\n",
       "      <th>7</th>\n",
       "      <td>Rajasthan</td>\n",
       "      <td>POLYGON ((74.52716 29.94279, 74.51002 29.90819...</td>\n",
       "      <td>wheat</td>\n",
       "      <td>Rajasthan</td>\n",
       "      <td>4668961.5</td>\n",
       "      <td>NaN</td>\n",
       "      <td>Rotation Benifit:&lt;br&gt;wheat: 4668961.5&lt;br&gt;Area ...</td>\n",
       "      <td>POINT (73.84984 26.58441)</td>\n",
       "      <td>73.849842</td>\n",
       "      <td>26.584408</td>\n",
       "    </tr>\n",
       "    <tr>\n",
       "      <th>8</th>\n",
       "      <td>Sikkim</td>\n",
       "      <td>POLYGON ((88.74553 27.14203, 88.73457 27.13482...</td>\n",
       "      <td>wheat</td>\n",
       "      <td>Sikkim</td>\n",
       "      <td>26649</td>\n",
       "      <td>NaN</td>\n",
       "      <td>Rotation Benifit:&lt;br&gt;wheat: 26649&lt;br&gt;Area Size...</td>\n",
       "      <td>POINT (88.47340 27.56992)</td>\n",
       "      <td>88.473403</td>\n",
       "      <td>27.569923</td>\n",
       "    </tr>\n",
       "    <tr>\n",
       "      <th>9</th>\n",
       "      <td>Tripura</td>\n",
       "      <td>POLYGON ((92.21170 24.50448, 92.22977 24.50244...</td>\n",
       "      <td>wheat</td>\n",
       "      <td>Tripura</td>\n",
       "      <td>89916.75</td>\n",
       "      <td>NaN</td>\n",
       "      <td>Rotation Benifit:&lt;br&gt;wheat: 89916.75&lt;br&gt;Area S...</td>\n",
       "      <td>POINT (91.73907 23.74514)</td>\n",
       "      <td>91.739069</td>\n",
       "      <td>23.745138</td>\n",
       "    </tr>\n",
       "    <tr>\n",
       "      <th>10</th>\n",
       "      <td>Uttarakhand</td>\n",
       "      <td>POLYGON ((80.06509 28.83673, 80.05923 28.81687...</td>\n",
       "      <td>wheat</td>\n",
       "      <td>Uttarakhand</td>\n",
       "      <td>210357</td>\n",
       "      <td>NaN</td>\n",
       "      <td>Rotation Benifit:&lt;br&gt;wheat: 210357&lt;br&gt;Area Siz...</td>\n",
       "      <td>POINT (79.20658 30.15661)</td>\n",
       "      <td>79.206583</td>\n",
       "      <td>30.156612</td>\n",
       "    </tr>\n",
       "    <tr>\n",
       "      <th>11</th>\n",
       "      <td>Telangana</td>\n",
       "      <td>POLYGON ((80.27289 18.72299, 80.27929 18.72118...</td>\n",
       "      <td>wheat</td>\n",
       "      <td>Telangana</td>\n",
       "      <td>1096483.5</td>\n",
       "      <td>NaN</td>\n",
       "      <td>Rotation Benifit:&lt;br&gt;wheat: 1096483.5&lt;br&gt;Area ...</td>\n",
       "      <td>POINT (79.00869 17.80072)</td>\n",
       "      <td>79.008686</td>\n",
       "      <td>17.800720</td>\n",
       "    </tr>\n",
       "    <tr>\n",
       "      <th>12</th>\n",
       "      <td>Madhya Pradesh</td>\n",
       "      <td>POLYGON ((82.81031 23.96288, 82.77822 23.93717...</td>\n",
       "      <td>wheat</td>\n",
       "      <td>Madhya Pradesh</td>\n",
       "      <td>4418016.75</td>\n",
       "      <td>NaN</td>\n",
       "      <td>Rotation Benifit:&lt;br&gt;wheat: 4418016.75&lt;br&gt;Area...</td>\n",
       "      <td>POINT (78.28915 23.53814)</td>\n",
       "      <td>78.289153</td>\n",
       "      <td>23.538136</td>\n",
       "    </tr>\n",
       "    <tr>\n",
       "      <th>13</th>\n",
       "      <td>Gujarat</td>\n",
       "      <td>MULTIPOLYGON (((72.36233 22.02915, 72.38864 22...</td>\n",
       "      <td>wheat</td>\n",
       "      <td>Gujarat</td>\n",
       "      <td>2407198.5</td>\n",
       "      <td>NaN</td>\n",
       "      <td>Rotation Benifit:&lt;br&gt;wheat: 2407198.5&lt;br&gt;Area ...</td>\n",
       "      <td>POINT (71.57223 22.69839)</td>\n",
       "      <td>71.572226</td>\n",
       "      <td>22.698394</td>\n",
       "    </tr>\n",
       "    <tr>\n",
       "      <th>14</th>\n",
       "      <td>Odisha</td>\n",
       "      <td>POLYGON ((84.76474 19.07728, 84.70610 19.11661...</td>\n",
       "      <td>wheat</td>\n",
       "      <td>Odisha</td>\n",
       "      <td>677435.500  962671.500</td>\n",
       "      <td>NaN</td>\n",
       "      <td>Rotation Benifit:&lt;br&gt;wheat: 677435.500  962671...</td>\n",
       "      <td>POINT (84.43062 20.51399)</td>\n",
       "      <td>84.430619</td>\n",
       "      <td>20.513987</td>\n",
       "    </tr>\n",
       "    <tr>\n",
       "      <th>15</th>\n",
       "      <td>Dadra and Nagar Haveli and Daman and Diu</td>\n",
       "      <td>MULTIPOLYGON (((73.21066 20.12045, 73.21315 20...</td>\n",
       "      <td>wheat</td>\n",
       "      <td>Dadra and Nagar Haveli and Daman and Diu</td>\n",
       "      <td>4488.75</td>\n",
       "      <td>NaN</td>\n",
       "      <td>Rotation Benifit:&lt;br&gt;wheat: 4488.75&lt;br&gt;Area Si...</td>\n",
       "      <td>POINT (72.93083 20.24255)</td>\n",
       "      <td>72.930832</td>\n",
       "      <td>20.242552</td>\n",
       "    </tr>\n",
       "    <tr>\n",
       "      <th>16</th>\n",
       "      <td>Jammu &amp; Kashmir</td>\n",
       "      <td>POLYGON ((76.77123 33.24963, 76.77888 33.23971...</td>\n",
       "      <td>wheat</td>\n",
       "      <td>Jammu &amp; Kashmir</td>\n",
       "      <td>221082.75</td>\n",
       "      <td>NaN</td>\n",
       "      <td>Rotation Benifit:&lt;br&gt;wheat: 221082.75&lt;br&gt;Area ...</td>\n",
       "      <td>POINT (74.85840 33.64512)</td>\n",
       "      <td>74.858400</td>\n",
       "      <td>33.645120</td>\n",
       "    </tr>\n",
       "    <tr>\n",
       "      <th>17</th>\n",
       "      <td>Haryana</td>\n",
       "      <td>POLYGON ((77.58561 30.37956, 77.60352 30.36922...</td>\n",
       "      <td>wheat</td>\n",
       "      <td>Haryana</td>\n",
       "      <td>1222452</td>\n",
       "      <td>NaN</td>\n",
       "      <td>Rotation Benifit:&lt;br&gt;wheat: 1222452&lt;br&gt;Area Si...</td>\n",
       "      <td>POINT (76.34018 29.19814)</td>\n",
       "      <td>76.340180</td>\n",
       "      <td>29.198138</td>\n",
       "    </tr>\n",
       "    <tr>\n",
       "      <th>18</th>\n",
       "      <td>Himachal Pradesh</td>\n",
       "      <td>POLYGON ((78.39859 32.52574, 78.41521 32.52245...</td>\n",
       "      <td>wheat</td>\n",
       "      <td>Himachal Pradesh</td>\n",
       "      <td>175959</td>\n",
       "      <td>NaN</td>\n",
       "      <td>Rotation Benifit:&lt;br&gt;wheat: 175959&lt;br&gt;Area Siz...</td>\n",
       "      <td>POINT (77.24451 31.92623)</td>\n",
       "      <td>77.244508</td>\n",
       "      <td>31.926226</td>\n",
       "    </tr>\n",
       "    <tr>\n",
       "      <th>19</th>\n",
       "      <td>Jharkhand</td>\n",
       "      <td>POLYGON ((87.71137 25.25768, 87.77867 25.25054...</td>\n",
       "      <td>wheat</td>\n",
       "      <td>Jharkhand</td>\n",
       "      <td>298289.25</td>\n",
       "      <td>NaN</td>\n",
       "      <td>Rotation Benifit:&lt;br&gt;wheat: 298289.25&lt;br&gt;Area ...</td>\n",
       "      <td>POINT (85.56364 23.65614)</td>\n",
       "      <td>85.563637</td>\n",
       "      <td>23.656140</td>\n",
       "    </tr>\n",
       "    <tr>\n",
       "      <th>20</th>\n",
       "      <td>Uttar Pradesh</td>\n",
       "      <td>MULTIPOLYGON (((79.39598 25.03224, 79.37381 25...</td>\n",
       "      <td>wheat</td>\n",
       "      <td>Uttar Pradesh</td>\n",
       "      <td>4904691.75</td>\n",
       "      <td>NaN</td>\n",
       "      <td>Rotation Benifit:&lt;br&gt;wheat: 4904691.75&lt;br&gt;Area...</td>\n",
       "      <td>POINT (80.56605 26.92330)</td>\n",
       "      <td>80.566053</td>\n",
       "      <td>26.923298</td>\n",
       "    </tr>\n",
       "    <tr>\n",
       "      <th>21</th>\n",
       "      <td>Andhra Pradesh</td>\n",
       "      <td>POLYGON ((84.76474 19.07728, 84.74627 19.04820...</td>\n",
       "      <td>wheat</td>\n",
       "      <td>Andhra Pradesh</td>\n",
       "      <td>1437297.75</td>\n",
       "      <td>NaN</td>\n",
       "      <td>Rotation Benifit:&lt;br&gt;wheat: 1437297.75&lt;br&gt;Area...</td>\n",
       "      <td>POINT (79.96565 15.75611)</td>\n",
       "      <td>79.965647</td>\n",
       "      <td>15.756113</td>\n",
       "    </tr>\n",
       "    <tr>\n",
       "      <th>22</th>\n",
       "      <td>Maharashtra</td>\n",
       "      <td>MULTIPOLYGON (((80.66004 21.33411, 80.68159 21...</td>\n",
       "      <td>wheat</td>\n",
       "      <td>Maharashtra</td>\n",
       "      <td>4291481.25</td>\n",
       "      <td>NaN</td>\n",
       "      <td>Rotation Benifit:&lt;br&gt;wheat: 4291481.25&lt;br&gt;soya...</td>\n",
       "      <td>POINT (76.10751 19.45150)</td>\n",
       "      <td>76.107510</td>\n",
       "      <td>19.451500</td>\n",
       "    </tr>\n",
       "  </tbody>\n",
       "</table>\n",
       "</div>"
      ],
      "text/plain": [
       "                                       ST_NM  \\\n",
       "0                          Arunachal Pradesh   \n",
       "1                                      Assam   \n",
       "2                                 Chandigarh   \n",
       "3                                  Karnataka   \n",
       "4                                    Manipur   \n",
       "5                                  Meghalaya   \n",
       "6                                     Punjab   \n",
       "7                                  Rajasthan   \n",
       "8                                     Sikkim   \n",
       "9                                    Tripura   \n",
       "10                               Uttarakhand   \n",
       "11                                 Telangana   \n",
       "12                            Madhya Pradesh   \n",
       "13                                   Gujarat   \n",
       "14                                    Odisha   \n",
       "15  Dadra and Nagar Haveli and Daman and Diu   \n",
       "16                           Jammu & Kashmir   \n",
       "17                                   Haryana   \n",
       "18                          Himachal Pradesh   \n",
       "19                                 Jharkhand   \n",
       "20                             Uttar Pradesh   \n",
       "21                            Andhra Pradesh   \n",
       "22                               Maharashtra   \n",
       "\n",
       "                                             geometry    crop  \\\n",
       "0   POLYGON ((95.23392 26.68246, 95.23282 26.70579...   wheat   \n",
       "1   POLYGON ((95.19465 27.03132, 95.15008 26.99934...   wheat   \n",
       "2   POLYGON ((76.83806 30.75487, 76.83301 30.73887...   wheat   \n",
       "3   POLYGON ((77.55144 18.29191, 77.57026 18.29252...  cotton   \n",
       "4   POLYGON ((94.67545 25.44561, 94.67293 25.42398...  cotton   \n",
       "5   POLYGON ((92.42522 25.02966, 92.40163 25.03363...  cotton   \n",
       "6   POLYGON ((76.77673 30.90429, 76.78433 30.87791...   wheat   \n",
       "7   POLYGON ((74.52716 29.94279, 74.51002 29.90819...   wheat   \n",
       "8   POLYGON ((88.74553 27.14203, 88.73457 27.13482...   wheat   \n",
       "9   POLYGON ((92.21170 24.50448, 92.22977 24.50244...   wheat   \n",
       "10  POLYGON ((80.06509 28.83673, 80.05923 28.81687...   wheat   \n",
       "11  POLYGON ((80.27289 18.72299, 80.27929 18.72118...   wheat   \n",
       "12  POLYGON ((82.81031 23.96288, 82.77822 23.93717...   wheat   \n",
       "13  MULTIPOLYGON (((72.36233 22.02915, 72.38864 22...   wheat   \n",
       "14  POLYGON ((84.76474 19.07728, 84.70610 19.11661...   wheat   \n",
       "15  MULTIPOLYGON (((73.21066 20.12045, 73.21315 20...   wheat   \n",
       "16  POLYGON ((76.77123 33.24963, 76.77888 33.23971...   wheat   \n",
       "17  POLYGON ((77.58561 30.37956, 77.60352 30.36922...   wheat   \n",
       "18  POLYGON ((78.39859 32.52574, 78.41521 32.52245...   wheat   \n",
       "19  POLYGON ((87.71137 25.25768, 87.77867 25.25054...   wheat   \n",
       "20  MULTIPOLYGON (((79.39598 25.03224, 79.37381 25...   wheat   \n",
       "21  POLYGON ((84.76474 19.07728, 84.74627 19.04820...   wheat   \n",
       "22  MULTIPOLYGON (((80.66004 21.33411, 80.68159 21...   wheat   \n",
       "\n",
       "                                       state                    Rabi  Summer  \\\n",
       "0                          Arunachal Pradesh                   52920     NaN   \n",
       "1                                      Assam               776459.25     NaN   \n",
       "2                                 Chandigarh                     378     NaN   \n",
       "3                                  Karnataka              2283167.25     NaN   \n",
       "4                                    Manipur                 67756.5     NaN   \n",
       "5                                  Meghalaya                45386.25     NaN   \n",
       "6                                     Punjab                 1487430     NaN   \n",
       "7                                  Rajasthan               4668961.5     NaN   \n",
       "8                                     Sikkim                   26649     NaN   \n",
       "9                                    Tripura                89916.75     NaN   \n",
       "10                               Uttarakhand                  210357     NaN   \n",
       "11                                 Telangana               1096483.5     NaN   \n",
       "12                            Madhya Pradesh              4418016.75     NaN   \n",
       "13                                   Gujarat               2407198.5     NaN   \n",
       "14                                    Odisha  677435.500  962671.500     NaN   \n",
       "15  Dadra and Nagar Haveli and Daman and Diu                 4488.75     NaN   \n",
       "16                           Jammu & Kashmir               221082.75     NaN   \n",
       "17                                   Haryana                 1222452     NaN   \n",
       "18                          Himachal Pradesh                  175959     NaN   \n",
       "19                                 Jharkhand               298289.25     NaN   \n",
       "20                             Uttar Pradesh              4904691.75     NaN   \n",
       "21                            Andhra Pradesh              1437297.75     NaN   \n",
       "22                               Maharashtra              4291481.25     NaN   \n",
       "\n",
       "                                                 text  \\\n",
       "0   Rotation Benifit:<br>wheat: 52920<br>Area Size...   \n",
       "1   Rotation Benifit:<br>wheat: 776459.25<br>Area ...   \n",
       "2   Rotation Benifit:<br>wheat: 378<br>Area Size:<...   \n",
       "3   Rotation Benifit:<br>cotton: 2283167.25<br>Are...   \n",
       "4   Rotation Benifit:<br>cotton: 67756.5<br>Area S...   \n",
       "5   Rotation Benifit:<br>cotton: 45386.25<br>Area ...   \n",
       "6   Rotation Benifit:<br>wheat: 1487430<br>Area Si...   \n",
       "7   Rotation Benifit:<br>wheat: 4668961.5<br>Area ...   \n",
       "8   Rotation Benifit:<br>wheat: 26649<br>Area Size...   \n",
       "9   Rotation Benifit:<br>wheat: 89916.75<br>Area S...   \n",
       "10  Rotation Benifit:<br>wheat: 210357<br>Area Siz...   \n",
       "11  Rotation Benifit:<br>wheat: 1096483.5<br>Area ...   \n",
       "12  Rotation Benifit:<br>wheat: 4418016.75<br>Area...   \n",
       "13  Rotation Benifit:<br>wheat: 2407198.5<br>Area ...   \n",
       "14  Rotation Benifit:<br>wheat: 677435.500  962671...   \n",
       "15  Rotation Benifit:<br>wheat: 4488.75<br>Area Si...   \n",
       "16  Rotation Benifit:<br>wheat: 221082.75<br>Area ...   \n",
       "17  Rotation Benifit:<br>wheat: 1222452<br>Area Si...   \n",
       "18  Rotation Benifit:<br>wheat: 175959<br>Area Siz...   \n",
       "19  Rotation Benifit:<br>wheat: 298289.25<br>Area ...   \n",
       "20  Rotation Benifit:<br>wheat: 4904691.75<br>Area...   \n",
       "21  Rotation Benifit:<br>wheat: 1437297.75<br>Area...   \n",
       "22  Rotation Benifit:<br>wheat: 4291481.25<br>soya...   \n",
       "\n",
       "                       center        lon        lat  \n",
       "0   POINT (94.67483 28.03607)  94.674833  28.036066  \n",
       "1   POINT (92.82634 26.35498)  92.826343  26.354978  \n",
       "2   POINT (76.78078 30.72836)  76.780780  30.728361  \n",
       "3   POINT (76.16747 14.71041)  76.167475  14.710406  \n",
       "4   POINT (93.87884 24.73508)  93.878842  24.735076  \n",
       "5   POINT (91.27736 25.53558)  91.277356  25.535577  \n",
       "6   POINT (75.41580 30.84223)  75.415804  30.842227  \n",
       "7   POINT (73.84984 26.58441)  73.849842  26.584408  \n",
       "8   POINT (88.47340 27.56992)  88.473403  27.569923  \n",
       "9   POINT (91.73907 23.74514)  91.739069  23.745138  \n",
       "10  POINT (79.20658 30.15661)  79.206583  30.156612  \n",
       "11  POINT (79.00869 17.80072)  79.008686  17.800720  \n",
       "12  POINT (78.28915 23.53814)  78.289153  23.538136  \n",
       "13  POINT (71.57223 22.69839)  71.572226  22.698394  \n",
       "14  POINT (84.43062 20.51399)  84.430619  20.513987  \n",
       "15  POINT (72.93083 20.24255)  72.930832  20.242552  \n",
       "16  POINT (74.85840 33.64512)  74.858400  33.645120  \n",
       "17  POINT (76.34018 29.19814)  76.340180  29.198138  \n",
       "18  POINT (77.24451 31.92623)  77.244508  31.926226  \n",
       "19  POINT (85.56364 23.65614)  85.563637  23.656140  \n",
       "20  POINT (80.56605 26.92330)  80.566053  26.923298  \n",
       "21  POINT (79.96565 15.75611)  79.965647  15.756113  \n",
       "22  POINT (76.10751 19.45150)  76.107510  19.451500  "
      ]
     },
     "execution_count": 415,
     "metadata": {},
     "output_type": "execute_result"
    }
   ],
   "source": [
    "geo_df"
   ]
  }
 ],
 "metadata": {
  "kernelspec": {
   "display_name": "Python 3",
   "language": "python",
   "name": "python3"
  },
  "language_info": {
   "codemirror_mode": {
    "name": "ipython",
    "version": 3
   },
   "file_extension": ".py",
   "mimetype": "text/x-python",
   "name": "python",
   "nbconvert_exporter": "python",
   "pygments_lexer": "ipython3",
   "version": "3.11.2"
  }
 },
 "nbformat": 4,
 "nbformat_minor": 2
}
