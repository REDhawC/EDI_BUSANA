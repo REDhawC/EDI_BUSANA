{
 "cells": [
  {
   "cell_type": "markdown",
   "id": "df211f67",
   "metadata": {},
   "source": [
    "# Welcome to week 3 of your PAMD computer labs."
   ]
  },
  {
   "cell_type": "markdown",
   "id": "25b4def0",
   "metadata": {},
   "source": [
    "In this week's session, we will implement different linear regression models and evaluate their output. We will use the California Housing dataset in scikit learn for that purpose.\n",
    "\n",
    "Have a look at the dataset documentation [here](https://scikit-learn.org/stable/modules/generated/sklearn.datasets.fetch_california_housing.html) to familiarise yourself with the variables."
   ]
  },
  {
   "cell_type": "code",
   "execution_count": 11,
   "id": "23a2984d",
   "metadata": {},
   "outputs": [],
   "source": [
    "import sklearn.datasets as ds\n",
    "\n",
    "df = ds.fetch_california_housing(as_frame=True)"
   ]
  },
  {
   "cell_type": "code",
   "execution_count": 12,
   "id": "04038881",
   "metadata": {},
   "outputs": [
    {
     "name": "stdout",
     "output_type": "stream",
     "text": [
      ".. _california_housing_dataset:\n",
      "\n",
      "California Housing dataset\n",
      "--------------------------\n",
      "\n",
      "**Data Set Characteristics:**\n",
      "\n",
      "    :Number of Instances: 20640\n",
      "\n",
      "    :Number of Attributes: 8 numeric, predictive attributes and the target\n",
      "\n",
      "    :Attribute Information:\n",
      "        - MedInc        median income in block group\n",
      "        - HouseAge      median house age in block group\n",
      "        - AveRooms      average number of rooms per household\n",
      "        - AveBedrms     average number of bedrooms per household\n",
      "        - Population    block group population\n",
      "        - AveOccup      average number of household members\n",
      "        - Latitude      block group latitude\n",
      "        - Longitude     block group longitude\n",
      "\n",
      "    :Missing Attribute Values: None\n",
      "\n",
      "This dataset was obtained from the StatLib repository.\n",
      "https://www.dcc.fc.up.pt/~ltorgo/Regression/cal_housing.html\n",
      "\n",
      "The target variable is the median house value for California districts,\n",
      "expressed in hundreds of thousands of dollars ($100,000).\n",
      "\n",
      "This dataset was derived from the 1990 U.S. census, using one row per census\n",
      "block group. A block group is the smallest geographical unit for which the U.S.\n",
      "Census Bureau publishes sample data (a block group typically has a population\n",
      "of 600 to 3,000 people).\n",
      "\n",
      "A household is a group of people residing within a home. Since the average\n",
      "number of rooms and bedrooms in this dataset are provided per household, these\n",
      "columns may take surprisingly large values for block groups with few households\n",
      "and many empty houses, such as vacation resorts.\n",
      "\n",
      "It can be downloaded/loaded using the\n",
      ":func:`sklearn.datasets.fetch_california_housing` function.\n",
      "\n",
      ".. topic:: References\n",
      "\n",
      "    - Pace, R. Kelley and Ronald Barry, Sparse Spatial Autoregressions,\n",
      "      Statistics and Probability Letters, 33 (1997) 291-297\n",
      "\n"
     ]
    }
   ],
   "source": [
    "# Let's start by printing us a summary of the dataset description. \n",
    "\n",
    "print(df.DESCR)"
   ]
  },
  {
   "cell_type": "markdown",
   "id": "70f6879b",
   "metadata": {},
   "source": [
    "# Task 1 - Descriptive statistics and visualisation\n",
    "\n",
    "The dataset provides us with a pre-defined target variable ('target') which is the average house value in units of $100,000. We will build a linear regression model trying to explain and also predict this value. The dataset also pre-defines the 8 variables we can use as predictors as ('data').\n",
    "\n",
    "Start your analysis by familiarising yourself with the target variable and the predictors. You can create descriptive statistics or plots to visualise them.\n",
    "\n",
    "A quick way of creating some descriptive statistics for your data is using the pandas [describe() function](https://pandas.pydata.org/docs/reference/api/pandas.DataFrame.describe.html). It takes a pandas dataframe object and gives you a summary statistic for that dataframe. You can also use any of the functions we've learned over the past few weeks to calculate descriptive statistics instead."
   ]
  },
  {
   "cell_type": "code",
   "execution_count": 1,
   "id": "8996ba6a",
   "metadata": {},
   "outputs": [],
   "source": [
    "# Your code here"
   ]
  },
  {
   "cell_type": "markdown",
   "id": "f33d0538",
   "metadata": {},
   "source": [
    "# Task 2 - Simple linear regression\n",
    "\n",
    "Now it's time to build a simple linear regression model. The objective is to explain the variable 'target' (our y) through just one of the available predictors. You can choose any one of them, such as 'MedInc' (our x).\n",
    "\n",
    "Use the sklearn function LinearRegression() to build your model. You can find the documentation for that [here](https://scikit-learn.org/stable/modules/generated/sklearn.linear_model.LinearRegression.html).\n",
    "\n",
    "Tip: Double check which format the model would like the data input to be in. Then use the fit() method in the package. Don't worry too much about optional parameters like weights for now, try to create the most simple model first."
   ]
  },
  {
   "cell_type": "code",
   "execution_count": 14,
   "id": "f06520ab",
   "metadata": {},
   "outputs": [],
   "source": [
    "# Your code here"
   ]
  },
  {
   "cell_type": "markdown",
   "id": "2ff4e259",
   "metadata": {},
   "source": [
    "Try plotting the results of your model. You can do so, for example, with the scatter() function in the matplotlib library. Plot your x values and known y values first. Then you can overlay that with a plot of your predicted y values. Try out some different visualisations if you want to.\n",
    "\n",
    "Tip: The LinearRegression fit() function we used above estimates your parameters (the betas). Then you can use the predict() function to derive estimations for y-hat. Save these estimations in their own vector to plot them."
   ]
  },
  {
   "cell_type": "code",
   "execution_count": 2,
   "id": "aeeac498",
   "metadata": {},
   "outputs": [],
   "source": [
    "# Your code here"
   ]
  },
  {
   "cell_type": "markdown",
   "id": "d68f1afe",
   "metadata": {},
   "source": [
    "You can have a look at your linear regression object in more detail. For example, try printing your coefficients using the  LinearRegression().coef_ function. You can also print your intercept using LinearRegression().intercept_"
   ]
  },
  {
   "cell_type": "code",
   "execution_count": 3,
   "id": "781abdbe",
   "metadata": {},
   "outputs": [],
   "source": [
    "# Your code here"
   ]
  },
  {
   "cell_type": "markdown",
   "id": "ece9ddbf",
   "metadata": {},
   "source": [
    "# Task 3 - Multiple linear regression\n",
    "\n",
    "Similarly as above, try recreating the same model but this time include multiple columns of X. You can choose just a few of them or try including all.\n",
    "\n",
    "You can use the sklearn function LinearRegression() which we used above again. It works well with multiple predictors.\n",
    "\n",
    "However, one disadvantage of the sklearn model is that there is limited in-built functionalities to create a quick overview summary of the model. This is because sklearn is mostly focused on predictive modelling, so, it's more interested in giving us accurate y-hats instead of telling us a lot of small details about the model fit.\n",
    "\n",
    "An alternative popular package which does have a good summary function is the one in statsmodels, with documentation [here](https://www.statsmodels.org/stable/regression.html). I will use that instead this time to be able to print a summary of the model performance, but the sklearn one would work just as fine. Use whichever you feel more comfortable.\n",
    "\n",
    "If you want to try out the statsmodel version, use the [OLS estimation](https://www.statsmodels.org/stable/examples/notebooks/generated/ols.html). OLS stands for Ordinary Least Squares, and it's a type of least squares estimation as we've covered during the lecture."
   ]
  },
  {
   "cell_type": "code",
   "execution_count": 4,
   "id": "6259118a",
   "metadata": {},
   "outputs": [],
   "source": [
    "# Your code here"
   ]
  },
  {
   "cell_type": "code",
   "execution_count": 5,
   "id": "a3e71ab1",
   "metadata": {},
   "outputs": [],
   "source": [
    "# Your code here"
   ]
  }
 ],
 "metadata": {
  "kernelspec": {
   "display_name": "Python 3 (ipykernel)",
   "language": "python",
   "name": "python3"
  },
  "language_info": {
   "codemirror_mode": {
    "name": "ipython",
    "version": 3
   },
   "file_extension": ".py",
   "mimetype": "text/x-python",
   "name": "python",
   "nbconvert_exporter": "python",
   "pygments_lexer": "ipython3",
   "version": "3.9.13"
  }
 },
 "nbformat": 4,
 "nbformat_minor": 5
}
