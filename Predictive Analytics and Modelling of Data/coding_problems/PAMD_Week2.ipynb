{
 "cells": [
  {
   "cell_type": "markdown",
   "id": "9ae8aa41",
   "metadata": {},
   "source": [
    "# Welcome to Week 2 of your PAMD computer labs"
   ]
  },
  {
   "cell_type": "markdown",
   "id": "5ed14c3d",
   "metadata": {},
   "source": [
    "Last week we got familiar with the Jupyter notebook and Noteable environment that we'll be working on this year. This week, we will continue our theoretical discussions from the lectures and work on data pre-processing, normalisation and missing values."
   ]
  },
  {
   "cell_type": "markdown",
   "id": "75b78b85",
   "metadata": {},
   "source": [
    "# Task 1 - Binning, dummy encoding and variable transformations\n",
    "\n",
    "**Task 1.1** Binning numeric variables\n",
    "\n",
    "This is a common problems that you'll encounter working with data, so it's important to remember the steps how to do this. Start by loading in our wine dataset again, which we used last week."
   ]
  },
  {
   "cell_type": "code",
   "execution_count": 2,
   "id": "3e3244c7",
   "metadata": {},
   "outputs": [
    {
     "name": "stdout",
     "output_type": "stream",
     "text": [
      "   alcohol  malic_acid   ash  alcalinity_of_ash  magnesium  total_phenols  \\\n",
      "0    14.23        1.71  2.43               15.6      127.0           2.80   \n",
      "1    13.20        1.78  2.14               11.2      100.0           2.65   \n",
      "2    13.16        2.36  2.67               18.6      101.0           2.80   \n",
      "3    14.37        1.95  2.50               16.8      113.0           3.85   \n",
      "4    13.24        2.59  2.87               21.0      118.0           2.80   \n",
      "\n",
      "   flavanoids  nonflavanoid_phenols  proanthocyanins  color_intensity   hue  \\\n",
      "0        3.06                  0.28             2.29             5.64  1.04   \n",
      "1        2.76                  0.26             1.28             4.38  1.05   \n",
      "2        3.24                  0.30             2.81             5.68  1.03   \n",
      "3        3.49                  0.24             2.18             7.80  0.86   \n",
      "4        2.69                  0.39             1.82             4.32  1.04   \n",
      "\n",
      "   od280/od315_of_diluted_wines  proline  \n",
      "0                          3.92   1065.0  \n",
      "1                          3.40   1050.0  \n",
      "2                          3.17   1185.0  \n",
      "3                          3.45   1480.0  \n",
      "4                          2.93    735.0  \n"
     ]
    }
   ],
   "source": [
    "import sklearn.datasets as datasets\n",
    "import pandas as pd\n",
    "import numpy as np\n",
    "\n",
    "dataset = datasets.load_wine()\n",
    "wine = pd.DataFrame(data=dataset[\"data\"], columns=dataset[\"feature_names\"])\n",
    "\n",
    "print(wine.head())"
   ]
  },
  {
   "cell_type": "markdown",
   "id": "a15c01ba",
   "metadata": {},
   "source": [
    "**Task:** Bin the variable 'flavanoids' into 5 bins using pandas. Make sure that the bins are of equal size, i.e. there is an equal number of elements in each bin."
   ]
  },
  {
   "cell_type": "code",
   "execution_count": 3,
   "id": "cbdcef3b",
   "metadata": {},
   "outputs": [
    {
     "name": "stdout",
     "output_type": "stream",
     "text": [
      "     flavanoids  flavanoids_bins\n",
      "0          3.06                4\n",
      "1          2.76                3\n",
      "2          3.24                4\n",
      "3          3.49                4\n",
      "4          2.69                3\n",
      "..          ...              ...\n",
      "173        0.61                0\n",
      "174        0.75                0\n",
      "175        0.69                0\n",
      "176        0.68                0\n",
      "177        0.76                0\n",
      "\n",
      "[178 rows x 2 columns]\n"
     ]
    }
   ],
   "source": [
    "# Type your code here\n",
    "wine[\"flavanoids_bins\"] = pd.qcut(wine[\"flavanoids\"], q=5, labels=False, precision=0)\n",
    "print(wine[[\"flavanoids\", \"flavanoids_bins\"]])"
   ]
  },
  {
   "cell_type": "markdown",
   "id": "441fc374",
   "metadata": {},
   "source": [
    "**Task 1.2** Transforming variables\n",
    "\n",
    "Start by creating an array of random colours. To practice some random element generators, you can try creating an array of length 100 where 50% of elements are 'red', 10% are 'blue', 10% are 'green' and the remaining 20% are 'yellow'."
   ]
  },
  {
   "cell_type": "code",
   "execution_count": 4,
   "id": "8a1283f8",
   "metadata": {},
   "outputs": [
    {
     "name": "stdout",
     "output_type": "stream",
     "text": [
      "['yellow', 'green', 'red', 'blue', 'yellow', 'red', 'yellow', 'red', 'red', 'blue', 'blue', 'red', 'green', 'blue', 'green', 'red', 'yellow', 'red', 'red', 'red', 'red', 'red', 'green', 'red', 'green', 'green', 'yellow', 'red', 'yellow', 'green', 'red', 'green', 'blue', 'red', 'yellow', 'blue', 'red', 'red', 'blue', 'green', 'red', 'red', 'green', 'yellow', 'yellow', 'yellow', 'red', 'yellow', 'yellow', 'yellow', 'yellow', 'red', 'blue', 'blue', 'red', 'blue', 'red', 'yellow', 'red', 'yellow', 'yellow', 'red', 'yellow', 'yellow', 'yellow', 'red', 'red', 'red', 'yellow', 'yellow', 'yellow', 'yellow', 'yellow', 'yellow', 'yellow', 'red', 'yellow', 'yellow', 'yellow', 'red', 'red', 'red', 'red', 'red', 'red', 'red', 'red', 'red', 'red', 'red', 'red', 'red', 'red', 'red', 'red', 'red', 'red', 'red', 'red', 'red'] 50 10 30 10\n"
     ]
    }
   ],
   "source": [
    "# Type your code here\n",
    "import random as rd\n",
    "\n",
    "colorList = [\"red\", \"blue\", \"yellow\", \"green\"]\n",
    "colorDic = {\"red\": 50, \"blue\": 10, \"green\": 10, \"yellow\": 30}\n",
    "ansList = list()\n",
    "while len(ansList) < 100:\n",
    "    selection = rd.choice(colorList)\n",
    "    if ansList.count(selection) == colorDic[selection]:\n",
    "        colorList.remove(selection)\n",
    "        selection = rd.choice(colorList)\n",
    "    ansList.append(selection)\n",
    "\n",
    "print(\n",
    "    ansList,\n",
    "    ansList.count(\"red\"),\n",
    "    ansList.count(\"blue\"),\n",
    "    ansList.count(\"yellow\"),\n",
    "    ansList.count(\"green\"),\n",
    ")"
   ]
  },
  {
   "cell_type": "markdown",
   "id": "d97d3a05",
   "metadata": {},
   "source": [
    "We discussed in class that categorical variables are often assigned numeric values through dummy encoding. Try that using the pandas library."
   ]
  },
  {
   "cell_type": "code",
   "execution_count": 5,
   "id": "97a4e80a",
   "metadata": {},
   "outputs": [
    {
     "name": "stdout",
     "output_type": "stream",
     "text": [
      "Original DataFrame:\n",
      "     color\n",
      "0   yellow\n",
      "1    green\n",
      "2      red\n",
      "3     blue\n",
      "4   yellow\n",
      "..     ...\n",
      "95     red\n",
      "96     red\n",
      "97     red\n",
      "98     red\n",
      "99     red\n",
      "\n",
      "[100 rows x 1 columns]\n",
      "\n",
      "DataFrame after dummy encoding:\n",
      "[3 1 2 0 3 2 3 2 2 0 0 2 1 0 1 2 3 2 2 2 2 2 1 2 1 1 3 2 3 1 2 1 0 2 3 0 2\n",
      " 2 0 1 2 2 1 3 3 3 2 3 3 3 3 2 0 0 2 0 2 3 2 3 3 2 3 3 3 2 2 2 3 3 3 3 3 3\n",
      " 3 2 3 3 3 2 2 2 2 2 2 2 2 2 2 2 2 2 2 2 2 2 2 2 2 2]\n"
     ]
    }
   ],
   "source": [
    "# Type your code here\n",
    "from sklearn.preprocessing import LabelEncoder\n",
    "\n",
    "le = LabelEncoder()\n",
    "\n",
    "colorDf = pd.DataFrame({\"color\": ansList})\n",
    "print(\"Original DataFrame:\")\n",
    "print(colorDf)\n",
    "\n",
    "# 执行 dummy 编码\n",
    "dummies = le.fit_transform(colorDf[\"color\"])\n",
    "\n",
    "# 打印 dummy 编码后的 DataFrame\n",
    "print(\"\\nDataFrame after dummy encoding:\")\n",
    "print(dummies)"
   ]
  },
  {
   "cell_type": "markdown",
   "id": "c0b872d6",
   "metadata": {},
   "source": [
    "Note how blue isn't assigned a number, because it's taken as the baseline. This is important in analysis for multicollinearity reasons. The drop_first=True command ensures that this is the case, so check what happens if you choose to make it 'False' instead."
   ]
  },
  {
   "cell_type": "code",
   "execution_count": 6,
   "id": "3d0fba62",
   "metadata": {},
   "outputs": [
    {
     "name": "stdout",
     "output_type": "stream",
     "text": [
      "    green    red  yellow\n",
      "0   False  False    True\n",
      "1    True  False   False\n",
      "2   False   True   False\n",
      "3   False  False   False\n",
      "4   False  False    True\n",
      "..    ...    ...     ...\n",
      "95  False   True   False\n",
      "96  False   True   False\n",
      "97  False   True   False\n",
      "98  False   True   False\n",
      "99  False   True   False\n",
      "\n",
      "[100 rows x 3 columns]      blue  green    red  yellow\n",
      "0   False  False  False    True\n",
      "1   False   True  False   False\n",
      "2   False  False   True   False\n",
      "3    True  False  False   False\n",
      "4   False  False  False    True\n",
      "..    ...    ...    ...     ...\n",
      "95  False  False   True   False\n",
      "96  False  False   True   False\n",
      "97  False  False   True   False\n",
      "98  False  False   True   False\n",
      "99  False  False   True   False\n",
      "\n",
      "[100 rows x 4 columns]\n"
     ]
    }
   ],
   "source": [
    "# Type your code here\n",
    "encoded_df1 = pd.get_dummies(colorDf[\"color\"], drop_first=True)\n",
    "encoded_df2 = pd.get_dummies(colorDf[\"color\"], drop_first=False)\n",
    "\n",
    "print(encoded_df1, encoded_df2)"
   ]
  },
  {
   "cell_type": "markdown",
   "id": "5a12d721",
   "metadata": {},
   "source": [
    "If you would like to replace each colour with its own assigned integer instead of using dummies, you can try out the label encoder in scikit learn. Use that to create an array of numbers by replacing each colour in colour_array with an integer."
   ]
  },
  {
   "cell_type": "code",
   "execution_count": 7,
   "id": "681ba6f4",
   "metadata": {},
   "outputs": [
    {
     "name": "stdout",
     "output_type": "stream",
     "text": [
      "Original DataFrame:\n",
      "     color\n",
      "0   yellow\n",
      "1    green\n",
      "2      red\n",
      "3     blue\n",
      "4   yellow\n",
      "..     ...\n",
      "95     red\n",
      "96     red\n",
      "97     red\n",
      "98     red\n",
      "99     red\n",
      "\n",
      "[100 rows x 1 columns]\n",
      "\n",
      "DataFrame after dummy encoding:\n",
      "[3 1 2 0 3 2 3 2 2 0 0 2 1 0 1 2 3 2 2 2 2 2 1 2 1 1 3 2 3 1 2 1 0 2 3 0 2\n",
      " 2 0 1 2 2 1 3 3 3 2 3 3 3 3 2 0 0 2 0 2 3 2 3 3 2 3 3 3 2 2 2 3 3 3 3 3 3\n",
      " 3 2 3 3 3 2 2 2 2 2 2 2 2 2 2 2 2 2 2 2 2 2 2 2 2 2]\n"
     ]
    }
   ],
   "source": [
    "# Type your code here\n",
    "from sklearn.preprocessing import LabelEncoder\n",
    "\n",
    "le = LabelEncoder()\n",
    "\n",
    "colorDf = pd.DataFrame({\"color\": ansList})\n",
    "print(\"Original DataFrame:\")\n",
    "print(colorDf)\n",
    "\n",
    "# 执行 dummy 编码\n",
    "dummies = le.fit_transform(colorDf[\"color\"])\n",
    "\n",
    "# 打印 dummy 编码后的 DataFrame\n",
    "print(\"\\nDataFrame after dummy encoding:\")\n",
    "print(dummies)"
   ]
  },
  {
   "cell_type": "markdown",
   "id": "a16d2478",
   "metadata": {},
   "source": [
    "# Task 2 - Normalising and detecting outliers\n",
    "\n",
    "Continuing with our wine dataset from earlier, let's look into how to normalise numeric variables."
   ]
  },
  {
   "cell_type": "code",
   "execution_count": 8,
   "id": "60d58114",
   "metadata": {},
   "outputs": [
    {
     "name": "stdout",
     "output_type": "stream",
     "text": [
      "   alcohol  malic_acid   ash  alcalinity_of_ash  magnesium  total_phenols  \\\n",
      "0    14.23        1.71  2.43               15.6      127.0           2.80   \n",
      "1    13.20        1.78  2.14               11.2      100.0           2.65   \n",
      "2    13.16        2.36  2.67               18.6      101.0           2.80   \n",
      "3    14.37        1.95  2.50               16.8      113.0           3.85   \n",
      "4    13.24        2.59  2.87               21.0      118.0           2.80   \n",
      "\n",
      "   flavanoids  nonflavanoid_phenols  proanthocyanins  color_intensity   hue  \\\n",
      "0        3.06                  0.28             2.29             5.64  1.04   \n",
      "1        2.76                  0.26             1.28             4.38  1.05   \n",
      "2        3.24                  0.30             2.81             5.68  1.03   \n",
      "3        3.49                  0.24             2.18             7.80  0.86   \n",
      "4        2.69                  0.39             1.82             4.32  1.04   \n",
      "\n",
      "   od280/od315_of_diluted_wines  proline  flavanoids_bins  \n",
      "0                          3.92   1065.0                4  \n",
      "1                          3.40   1050.0                3  \n",
      "2                          3.17   1185.0                4  \n",
      "3                          3.45   1480.0                4  \n",
      "4                          2.93    735.0                3  \n"
     ]
    }
   ],
   "source": [
    "print(wine.head())"
   ]
  },
  {
   "cell_type": "markdown",
   "id": "b04ba9c8",
   "metadata": {},
   "source": [
    "**Task 2.1** Min-max-scaling\n",
    "\n",
    "sklearn offers us plenty of pre-processing tools, such as scaling and normalisation functions. Specifically, we will look at [MinMaxScaler](https://scikit-learn.org/stable/modules/generated/sklearn.preprocessing.MinMaxScaler.html) and [StandardScaler](https://scikit-learn.org/stable/modules/generated/sklearn.preprocessing.StandardScaler.html), which are functions in scikit learns preprocessing package.\n",
    "\n",
    "Have a brief look at their documentations to get familiar with the main differences between the two functions. We will start with min-max-scaling."
   ]
  },
  {
   "cell_type": "markdown",
   "id": "a5790357",
   "metadata": {},
   "source": [
    "Using the MinMaxScaler and its inbuilt function fit_transform(), transform the wine dataset. You can use the default range of (0,1). Save the result in a separate dataframe so that we can compare them later. Use the describe() function to look at the differences between the original and the transformed dataframe, using a variable of your choice."
   ]
  },
  {
   "cell_type": "code",
   "execution_count": 20,
   "id": "981d790d",
   "metadata": {},
   "outputs": [
    {
     "name": "stdout",
     "output_type": "stream",
     "text": [
      "Original Data:\n",
      "          alcohol  malic_acid         ash  alcalinity_of_ash   magnesium  \\\n",
      "count  178.000000  178.000000  178.000000         178.000000  178.000000   \n",
      "mean    13.000618    2.336348    2.366517          19.494944   99.741573   \n",
      "std      0.811827    1.117146    0.274344           3.339564   14.282484   \n",
      "min     11.030000    0.740000    1.360000          10.600000   70.000000   \n",
      "25%     12.362500    1.602500    2.210000          17.200000   88.000000   \n",
      "50%     13.050000    1.865000    2.360000          19.500000   98.000000   \n",
      "75%     13.677500    3.082500    2.557500          21.500000  107.000000   \n",
      "max     14.830000    5.800000    3.230000          30.000000  162.000000   \n",
      "\n",
      "       total_phenols  flavanoids  nonflavanoid_phenols  proanthocyanins  \\\n",
      "count     178.000000  178.000000            178.000000       178.000000   \n",
      "mean        2.295112    2.029270              0.361854         1.590899   \n",
      "std         0.625851    0.998859              0.124453         0.572359   \n",
      "min         0.980000    0.340000              0.130000         0.410000   \n",
      "25%         1.742500    1.205000              0.270000         1.250000   \n",
      "50%         2.355000    2.135000              0.340000         1.555000   \n",
      "75%         2.800000    2.875000              0.437500         1.950000   \n",
      "max         3.880000    5.080000              0.660000         3.580000   \n",
      "\n",
      "       color_intensity         hue  od280/od315_of_diluted_wines      proline  \n",
      "count       178.000000  178.000000                    178.000000   178.000000  \n",
      "mean          5.058090    0.957449                      2.611685   746.893258  \n",
      "std           2.318286    0.228572                      0.709990   314.907474  \n",
      "min           1.280000    0.480000                      1.270000   278.000000  \n",
      "25%           3.220000    0.782500                      1.937500   500.500000  \n",
      "50%           4.690000    0.965000                      2.780000   673.500000  \n",
      "75%           6.200000    1.120000                      3.170000   985.000000  \n",
      "max          13.000000    1.710000                      4.000000  1680.000000  \n",
      "\n",
      "Transformed Data:\n",
      "          alcohol  malic_acid         ash  alcalinity_of_ash   magnesium  \\\n",
      "count  178.000000  178.000000  178.000000         178.000000  178.000000   \n",
      "mean     0.518584    0.315484    0.538244           0.458502    0.323278   \n",
      "std      0.213639    0.220780    0.146708           0.172142    0.155244   \n",
      "min      0.000000    0.000000    0.000000           0.000000    0.000000   \n",
      "25%      0.350658    0.170455    0.454545           0.340206    0.195652   \n",
      "50%      0.531579    0.222332    0.534759           0.458763    0.304348   \n",
      "75%      0.696711    0.462945    0.640374           0.561856    0.402174   \n",
      "max      1.000000    1.000000    1.000000           1.000000    1.000000   \n",
      "\n",
      "       total_phenols  flavanoids  nonflavanoid_phenols  proanthocyanins  \\\n",
      "count     178.000000  178.000000            178.000000       178.000000   \n",
      "mean        0.453487    0.356386              0.437460         0.372523   \n",
      "std         0.215811    0.210730              0.234818         0.180555   \n",
      "min         0.000000    0.000000              0.000000         0.000000   \n",
      "25%         0.262931    0.182489              0.264151         0.264984   \n",
      "50%         0.474138    0.378692              0.396226         0.361199   \n",
      "75%         0.627586    0.534810              0.580189         0.485804   \n",
      "max         1.000000    1.000000              1.000000         1.000000   \n",
      "\n",
      "       color_intensity         hue  od280/od315_of_diluted_wines     proline  \n",
      "count       178.000000  178.000000                    178.000000  178.000000  \n",
      "mean          0.322363    0.388170                      0.491460    0.334446  \n",
      "std           0.197806    0.185831                      0.260070    0.224613  \n",
      "min           0.000000    0.000000                      0.000000    0.000000  \n",
      "25%           0.165529    0.245935                      0.244505    0.158702  \n",
      "50%           0.290956    0.394309                      0.553114    0.282097  \n",
      "75%           0.419795    0.520325                      0.695971    0.504280  \n",
      "max           1.000000    1.000000                      1.000000    1.000000  \n"
     ]
    }
   ],
   "source": [
    "from sklearn.datasets import load_wine\n",
    "import pandas as pd\n",
    "from sklearn.preprocessing import MinMaxScaler\n",
    "\n",
    "# Load wine dataset\n",
    "wine = load_wine()\n",
    "wine_df = pd.DataFrame(wine.data, columns=wine.feature_names)\n",
    "\n",
    "# Create a MinMaxScaler object\n",
    "MMScaler = MinMaxScaler()\n",
    "\n",
    "# Transform the dataset\n",
    "scaled_data = MMScaler.fit_transform(wine_df)\n",
    "scaled_df = pd.DataFrame(scaled_data, columns=wine.feature_names)\n",
    "\n",
    "# Compare original and transformed data\n",
    "print(\"Original Data:\")\n",
    "print(wine_df.describe())\n",
    "\n",
    "print(\"\\nTransformed Data:\")\n",
    "print(scaled_df.describe())"
   ]
  },
  {
   "cell_type": "markdown",
   "id": "f8b73f05",
   "metadata": {},
   "source": [
    "Plot a variable of your choice, first for the original wine dataset then for the transformed dataframe, to compare."
   ]
  },
  {
   "cell_type": "code",
   "execution_count": 10,
   "id": "1ba223f8",
   "metadata": {},
   "outputs": [
    {
     "data": {
      "image/png": "[encoded data removed]",
      "text/plain": [
       "<Figure size 1200x500 with 2 Axes>"
      ]
     },
     "metadata": {},
     "output_type": "display_data"
    }
   ],
   "source": [
    "import matplotlib.pyplot as plt\n",
    "\n",
    "# Original Data\n",
    "plt.figure(figsize=(12, 5))\n",
    "\n",
    "plt.subplot(1, 2, 1)\n",
    "plt.hist(wine_df[\"alcohol\"], bins=20, color=\"blue\", alpha=0.7)\n",
    "plt.title(\"Original Data - Alcohol\")\n",
    "plt.xlabel(\"Alcohol\")\n",
    "plt.ylabel(\"Frequency\")\n",
    "\n",
    "# Transformed Data\n",
    "plt.subplot(1, 2, 2)\n",
    "plt.hist(scaled_df[\"alcohol\"], bins=20, color=\"green\", alpha=0.7)\n",
    "plt.title(\"Transformed Data - Alcohol\")\n",
    "plt.xlabel(\"Alcohol (Scaled)\")\n",
    "plt.ylabel(\"Frequency\")\n",
    "\n",
    "plt.show()"
   ]
  },
  {
   "cell_type": "markdown",
   "id": "5e79c467",
   "metadata": {},
   "source": [
    "**Task 2.2** Normalisation\n",
    "\n",
    "Repeat the same process as above, but using the StandardScaler() function. Compare the results."
   ]
  },
  {
   "cell_type": "code",
   "execution_count": 21,
   "id": "a265a2c4",
   "metadata": {},
   "outputs": [
    {
     "name": "stdout",
     "output_type": "stream",
     "text": [
      "Original Data:\n",
      "          alcohol  malic_acid         ash  alcalinity_of_ash   magnesium  \\\n",
      "count  178.000000  178.000000  178.000000         178.000000  178.000000   \n",
      "mean    13.000618    2.336348    2.366517          19.494944   99.741573   \n",
      "std      0.811827    1.117146    0.274344           3.339564   14.282484   \n",
      "min     11.030000    0.740000    1.360000          10.600000   70.000000   \n",
      "25%     12.362500    1.602500    2.210000          17.200000   88.000000   \n",
      "50%     13.050000    1.865000    2.360000          19.500000   98.000000   \n",
      "75%     13.677500    3.082500    2.557500          21.500000  107.000000   \n",
      "max     14.830000    5.800000    3.230000          30.000000  162.000000   \n",
      "\n",
      "       total_phenols  flavanoids  nonflavanoid_phenols  proanthocyanins  \\\n",
      "count     178.000000  178.000000            178.000000       178.000000   \n",
      "mean        2.295112    2.029270              0.361854         1.590899   \n",
      "std         0.625851    0.998859              0.124453         0.572359   \n",
      "min         0.980000    0.340000              0.130000         0.410000   \n",
      "25%         1.742500    1.205000              0.270000         1.250000   \n",
      "50%         2.355000    2.135000              0.340000         1.555000   \n",
      "75%         2.800000    2.875000              0.437500         1.950000   \n",
      "max         3.880000    5.080000              0.660000         3.580000   \n",
      "\n",
      "       color_intensity         hue  od280/od315_of_diluted_wines      proline  \n",
      "count       178.000000  178.000000                    178.000000   178.000000  \n",
      "mean          5.058090    0.957449                      2.611685   746.893258  \n",
      "std           2.318286    0.228572                      0.709990   314.907474  \n",
      "min           1.280000    0.480000                      1.270000   278.000000  \n",
      "25%           3.220000    0.782500                      1.937500   500.500000  \n",
      "50%           4.690000    0.965000                      2.780000   673.500000  \n",
      "75%           6.200000    1.120000                      3.170000   985.000000  \n",
      "max          13.000000    1.710000                      4.000000  1680.000000  \n",
      "\n",
      "Transformed Data:\n",
      "            alcohol    malic_acid           ash  alcalinity_of_ash  \\\n",
      "count  1.780000e+02  1.780000e+02  1.780000e+02       1.780000e+02   \n",
      "mean   7.943708e-15  3.592632e-16 -4.066660e-15      -7.983626e-17   \n",
      "std    1.002821e+00  1.002821e+00  1.002821e+00       1.002821e+00   \n",
      "min   -2.434235e+00 -1.432983e+00 -3.679162e+00      -2.671018e+00   \n",
      "25%   -7.882448e-01 -6.587486e-01 -5.721225e-01      -6.891372e-01   \n",
      "50%    6.099988e-02 -4.231120e-01 -2.382132e-02       1.518295e-03   \n",
      "75%    8.361286e-01  6.697929e-01  6.981085e-01       6.020883e-01   \n",
      "max    2.259772e+00  3.109192e+00  3.156325e+00       3.154511e+00   \n",
      "\n",
      "          magnesium  total_phenols    flavanoids  nonflavanoid_phenols  \\\n",
      "count  1.780000e+02   1.780000e+02  1.780000e+02          1.780000e+02   \n",
      "mean  -7.983626e-17  -3.991813e-17  9.979533e-16         -5.588538e-16   \n",
      "std    1.002821e+00   1.002821e+00  1.002821e+00          1.002821e+00   \n",
      "min   -2.088255e+00  -2.107246e+00 -1.695971e+00         -1.868234e+00   \n",
      "25%   -8.244151e-01  -8.854682e-01 -8.275393e-01         -7.401412e-01   \n",
      "50%   -1.222817e-01   9.595986e-02  1.061497e-01         -1.760948e-01   \n",
      "75%    5.096384e-01   8.089974e-01  8.490851e-01          6.095413e-01   \n",
      "max    4.371372e+00   2.539515e+00  3.062832e+00          2.402403e+00   \n",
      "\n",
      "       proanthocyanins  color_intensity           hue  \\\n",
      "count     1.780000e+02     1.780000e+02  1.780000e+02   \n",
      "mean     -1.656602e-15    -3.442939e-16  1.636643e-15   \n",
      "std       1.002821e+00     1.002821e+00  1.002821e+00   \n",
      "min      -2.069034e+00    -1.634288e+00 -2.094732e+00   \n",
      "25%      -5.972835e-01    -7.951025e-01 -7.675624e-01   \n",
      "50%      -6.289785e-02    -1.592246e-01  3.312687e-02   \n",
      "75%       6.291754e-01     4.939560e-01  7.131644e-01   \n",
      "max       3.485073e+00     3.435432e+00  3.301694e+00   \n",
      "\n",
      "       od280/od315_of_diluted_wines       proline  \n",
      "count                  1.780000e+02  1.780000e+02  \n",
      "mean                   2.235415e-15 -1.197544e-16  \n",
      "std                    1.002821e+00  1.002821e+00  \n",
      "min                   -1.895054e+00 -1.493188e+00  \n",
      "25%                   -9.522483e-01 -7.846378e-01  \n",
      "50%                    2.377348e-01 -2.337204e-01  \n",
      "75%                    7.885875e-01  7.582494e-01  \n",
      "max                    1.960915e+00  2.971473e+00  \n"
     ]
    }
   ],
   "source": [
    "from sklearn.preprocessing import StandardScaler\n",
    "\n",
    "stdScaler = StandardScaler()\n",
    "\n",
    "# Transform the dataset\n",
    "std_data = stdScaler.fit_transform(wine_df)\n",
    "std_df = pd.DataFrame(std_data, columns=wine.feature_names)\n",
    "\n",
    "# Compare original and transformed data\n",
    "print(\"Original Data:\")\n",
    "print(wine_df.describe())\n",
    "\n",
    "print(\"\\nTransformed Data:\")\n",
    "print(std_df.describe())"
   ]
  },
  {
   "cell_type": "markdown",
   "id": "ab325c38",
   "metadata": {},
   "source": [
    "Note how the results are the same for the selected range of [0,1] for the min-max-scaler. You can try different values for min and max and watch how the results change."
   ]
  },
  {
   "cell_type": "markdown",
   "id": "cb992fcf",
   "metadata": {},
   "source": [
    "# Task 3 - Outlier detection\n",
    "\n",
    "Scikit learn also has inbuilt functions for detecting outliers. We will be looking at two functions: [EllipticEnvlope](https://scikit-learn.org/stable/modules/generated/sklearn.covariance.EllipticEnvelope.html) and [LocalOutlierFactor](https://scikit-learn.org/stable/modules/generated/sklearn.neighbors.LocalOutlierFactor.html).\n",
    "\n",
    "EllipticEnvlope can be used for fitting a multivariate Gaussian distribution. It has a parameter contamination rate, indicating the proportion of outliers that will be returned. \n",
    "\n",
    "For LocalOutlierFactor we can define both the number of neighbours 𝑘 and the contamination rate.\n",
    "\n",
    "Check their documentation for more details and then try them out yourself."
   ]
  },
  {
   "cell_type": "markdown",
   "id": "dff896c2",
   "metadata": {},
   "source": [
    "**Task 3.1** EllipticEnvlope for outlier detection\n",
    "\n",
    "Check for outliers in the wine dataset using the EllipticEnvlope function. You can try out different values for the contamination rate. Save the output from the function as a new column in your wine dataframe, so that we can compare them visually later."
   ]
  },
  {
   "cell_type": "code",
   "execution_count": 31,
   "id": "c16b04ca",
   "metadata": {},
   "outputs": [
    {
     "name": "stdout",
     "output_type": "stream",
     "text": [
      "     alcohol  malic_acid outliersENV\n",
      "0      14.23        1.71      Inlier\n",
      "1      13.20        1.78      Inlier\n",
      "2      13.16        2.36      Inlier\n",
      "3      14.37        1.95      Inlier\n",
      "4      13.24        2.59      Inlier\n",
      "..       ...         ...         ...\n",
      "173    13.71        5.65      Inlier\n",
      "174    13.40        3.91      Inlier\n",
      "175    13.27        4.28      Inlier\n",
      "176    13.17        2.59      Inlier\n",
      "177    14.13        4.10      Inlier\n",
      "\n",
      "[178 rows x 3 columns]\n"
     ]
    }
   ],
   "source": [
    "from sklearn.covariance import EllipticEnvelope\n",
    "import numpy as np\n",
    "import pandas as pd\n",
    "from sklearn.datasets import load_wine\n",
    "\n",
    "# Load the wine dataset\n",
    "wine = load_wine()\n",
    "wine_df = pd.DataFrame(wine.data, columns=wine.feature_names)\n",
    "\n",
    "\n",
    "# Create an EllipticEnvelope model\n",
    "envelope = EllipticEnvelope(\n",
    "    contamination=0.1\n",
    ")  # Adjust the contamination rate as needed\n",
    "\n",
    "# Fit the EllipticEnvelope model to the wine dataset\n",
    "envelope.fit(wine_df)\n",
    "\n",
    "# Predict the outliers in the wine dataset\n",
    "outliers = envelope.predict(wine_df)\n",
    "\n",
    "# Add the outliers column to the wine DataFrame\n",
    "wine_df[\"outliersENV\"] = np.where(outliers == -1, \"Outlier\", \"Inlier\")\n",
    "\n",
    "# Display the wine DataFrame with the new outliers column\n",
    "print(wine_df[[\"alcohol\", \"malic_acid\", \"outliersENV\"]])"
   ]
  },
  {
   "cell_type": "markdown",
   "id": "ee791a15",
   "metadata": {},
   "source": [
    "**Task 3.2** LocalOutlierFactor for outlier detection\n",
    "\n",
    "Now, using the same contamination rate as for the EllipticEnvelope function above, repeat the process using the LocalOutlierFactor function. Again, save your results in a new column in the wine dataframe."
   ]
  },
  {
   "cell_type": "code",
   "execution_count": 30,
   "id": "c02333af",
   "metadata": {},
   "outputs": [
    {
     "name": "stdout",
     "output_type": "stream",
     "text": [
      "     alcohol  malic_acid outliersLOC\n",
      "0      14.23        1.71      Inlier\n",
      "1      13.20        1.78      Inlier\n",
      "2      13.16        2.36      Inlier\n",
      "3      14.37        1.95     Outlier\n",
      "4      13.24        2.59      Inlier\n",
      "..       ...         ...         ...\n",
      "173    13.71        5.65      Inlier\n",
      "174    13.40        3.91      Inlier\n",
      "175    13.27        4.28      Inlier\n",
      "176    13.17        2.59      Inlier\n",
      "177    14.13        4.10      Inlier\n",
      "\n",
      "[178 rows x 3 columns]\n"
     ]
    }
   ],
   "source": [
    "from sklearn.neighbors import LocalOutlierFactor\n",
    "import numpy as np\n",
    "import pandas as pd\n",
    "from sklearn.datasets import load_wine\n",
    "\n",
    "# Load the wine dataset\n",
    "wine = load_wine()\n",
    "wine_df = pd.DataFrame(wine.data, columns=wine.feature_names)\n",
    "\n",
    "# Create a LocalOutlierFactor model\n",
    "lof = LocalOutlierFactor(\n",
    "    n_neighbors=20, contamination=0.1\n",
    ")  # You can adjust these parameters as needed\n",
    "\n",
    "# Fit the model and predict the outliers\n",
    "outliers = lof.fit_predict(wine_df)\n",
    "\n",
    "# Add the outliers column to the wine DataFrame\n",
    "wine_df[\"outliersLOC\"] = np.where(outliers == -1, \"Outlier\", \"Inlier\")\n",
    "\n",
    "# Display the DataFrame with the new outliers column\n",
    "print(wine_df[[\"alcohol\", \"malic_acid\", \"outliersLOC\"]])"
   ]
  },
  {
   "cell_type": "markdown",
   "id": "4514109a",
   "metadata": {},
   "source": [
    "You can now create a comparison between the two solutions, visually or as a table. If you would like to try something more complex, you can create multiple plots showing a comparison of different neighbour and contamination values."
   ]
  },
  {
   "cell_type": "code",
   "execution_count": 32,
   "id": "299b4109",
   "metadata": {},
   "outputs": [
    {
     "data": {
      "image/png": "[encoded data removed]",
      "text/plain": [
       "<Figure size 1200x600 with 2 Axes>"
      ]
     },
     "metadata": {},
     "output_type": "display_data"
    }
   ],
   "source": [
    "import numpy as np\n",
    "import pandas as pd\n",
    "from sklearn.covariance import EllipticEnvelope\n",
    "from sklearn.neighbors import LocalOutlierFactor\n",
    "import matplotlib.pyplot as plt\n",
    "from sklearn.datasets import load_wine\n",
    "\n",
    "# Load the wine dataset\n",
    "wine = load_wine()\n",
    "wine_df = pd.DataFrame(wine.data, columns=wine.feature_names)\n",
    "\n",
    "# Create an EllipticEnvelope model\n",
    "envelope = EllipticEnvelope(contamination=0.1)\n",
    "envelope.fit(wine_df)\n",
    "env_outliers = envelope.predict(wine_df)\n",
    "wine_df[\"outliersENV\"] = np.where(env_outliers == -1, \"Outlier\", \"Inlier\")\n",
    "\n",
    "# Create a LocalOutlierFactor model\n",
    "lof = LocalOutlierFactor(n_neighbors=20, contamination=0.1)\n",
    "lof_outliers = lof.fit_predict(wine_df.drop(columns=[\"outliersENV\"]))\n",
    "wine_df[\"outliersLOF\"] = np.where(lof_outliers == -1, \"Outlier\", \"Inlier\")\n",
    "\n",
    "# Plot\n",
    "plt.figure(figsize=(12, 6))\n",
    "\n",
    "plt.subplot(1, 2, 1)\n",
    "plt.scatter(\n",
    "    wine_df[\"alcohol\"],\n",
    "    wine_df[\"malic_acid\"],\n",
    "    c=wine_df[\"outliersENV\"].apply(lambda x: \"red\" if x == \"Outlier\" else \"blue\"),\n",
    ")\n",
    "plt.title(\"EllipticEnvelope Outliers\")\n",
    "plt.xlabel(\"Alcohol\")\n",
    "plt.ylabel(\"Malic Acid\")\n",
    "\n",
    "plt.subplot(1, 2, 2)\n",
    "plt.scatter(\n",
    "    wine_df[\"alcohol\"],\n",
    "    wine_df[\"malic_acid\"],\n",
    "    c=wine_df[\"outliersLOF\"].apply(lambda x: \"red\" if x == \"Outlier\" else \"blue\"),\n",
    ")\n",
    "plt.title(\"LocalOutlierFactor Outliers\")\n",
    "plt.xlabel(\"Alcohol\")\n",
    "plt.ylabel(\"Malic Acid\")\n",
    "\n",
    "plt.tight_layout()\n",
    "plt.show()"
   ]
  },
  {
   "cell_type": "markdown",
   "id": "fdeb6960",
   "metadata": {},
   "source": [
    "# Task 4 - Missing values\n",
    "\n",
    "The last task of today is about handling missing values. Our wine dataset is too good for that, though, so let's use a quick dataframe with some missing values that we can tackle. I have uploaded a synthetic example dataset for bank products to Learn which we will use now. Make sure you have uploaded it to your Noteable workspace to ensure you can work with it.\n",
    "\n",
    "It's really small, so you'll be able to print the whole frame."
   ]
  },
  {
   "cell_type": "code",
   "execution_count": 51,
   "id": "a60e4a3b",
   "metadata": {},
   "outputs": [
    {
     "name": "stdout",
     "output_type": "stream",
     "text": [
      "     Amount          Loan type  Age Gender\n",
      "0   50000.0           Mortgage   19      F\n",
      "1    1000.0           Car loan   23      M\n",
      "2   27000.0           Car loan   44      M\n",
      "3  655555.0           Mortgage   45      F\n",
      "4  187666.0           Mortgage   65      F\n",
      "5  165777.0           Mortgage   39    NaN\n",
      "6       NaN           Mortgage   36      F\n",
      "7  145000.0                NaN   27      F\n",
      "8  156899.0           Mortgage   48      F\n",
      "9   15000.0  Short-term credit   55      M\n"
     ]
    }
   ],
   "source": [
    "df = pd.read_csv(\"MV_example.csv\")\n",
    "print(df)"
   ]
  },
  {
   "cell_type": "markdown",
   "id": "b1bd3540",
   "metadata": {},
   "source": [
    "**Task 4.1** Dropping NAs\n",
    "\n",
    "One of the easiest ways to handle missing values, is to simply drop (delete) them. Let's first check how many missing values we actually have. In our example we can simply see them, but in the future you will be working with dataframes too big for that."
   ]
  },
  {
   "cell_type": "code",
   "execution_count": 57,
   "id": "afd23a58",
   "metadata": {},
   "outputs": [
    {
     "name": "stdout",
     "output_type": "stream",
     "text": [
      "     Amount Loan type  Age Gender\n",
      "5  165777.0  Mortgage   39    NaN\n",
      "6       NaN  Mortgage   36      F\n",
      "7  145000.0       NaN   27      F\n"
     ]
    }
   ],
   "source": [
    "# 找出有缺失值的行\n",
    "missing_values_rows = df[df.isnull().any(axis=1)]\n",
    "\n",
    "# 打印有缺失值的行\n",
    "print(missing_values_rows)"
   ]
  },
  {
   "cell_type": "markdown",
   "id": "69a345ec",
   "metadata": {},
   "source": [
    "Now drop rows with missing values using a method of your choice. \n",
    "\n",
    "I will be using pandas for that, but feel free to experiment."
   ]
  },
  {
   "cell_type": "code",
   "execution_count": 61,
   "id": "e2cd0d67",
   "metadata": {},
   "outputs": [
    {
     "name": "stdout",
     "output_type": "stream",
     "text": [
      "     Amount          Loan type  Age Gender\n",
      "0   50000.0           Mortgage   19      F\n",
      "1    1000.0           Car loan   23      M\n",
      "2   27000.0           Car loan   44      M\n",
      "3  655555.0           Mortgage   45      F\n",
      "4  187666.0           Mortgage   65      F\n",
      "8  156899.0           Mortgage   48      F\n",
      "9   15000.0  Short-term credit   55      M\n"
     ]
    }
   ],
   "source": [
    "DropRowDf = df.dropna(axis=0)\n",
    "print(DropRowDf)"
   ]
  },
  {
   "cell_type": "markdown",
   "id": "f52690a5",
   "metadata": {},
   "source": [
    "You can also drop all columns with missing values instead."
   ]
  },
  {
   "cell_type": "code",
   "execution_count": 62,
   "id": "414893bf",
   "metadata": {},
   "outputs": [
    {
     "name": "stdout",
     "output_type": "stream",
     "text": [
      "   Age\n",
      "0   19\n",
      "1   23\n",
      "2   44\n",
      "3   45\n",
      "4   65\n",
      "5   39\n",
      "6   36\n",
      "7   27\n",
      "8   48\n",
      "9   55\n"
     ]
    }
   ],
   "source": [
    "DropColumnDf = df.dropna(axis=1)\n",
    "print(DropColumnDf)"
   ]
  },
  {
   "cell_type": "markdown",
   "id": "9e4fe696",
   "metadata": {},
   "source": [
    "**Task 4.2** Imputing missing values\n",
    "\n",
    "Instead of dropping them, we can replace missing values with a different value to keep our dataset intact. A quick method for that is to impute them with the mean or the median of that variable. Try that below for the variable \"Amount\".\n",
    "\n",
    "Tip: To calculate the mean or median of a variable which has missing values, you have to use the nanmean() and nanmedian() functions."
   ]
  },
  {
   "cell_type": "code",
   "execution_count": 82,
   "id": "9d32c021",
   "metadata": {},
   "outputs": [
    {
     "name": "stdout",
     "output_type": "stream",
     "text": [
      "155988.55555555556 145000.0\n",
      "\n",
      "original data:\n",
      " 0     50000.0\n",
      "1      1000.0\n",
      "2     27000.0\n",
      "3    655555.0\n",
      "4    187666.0\n",
      "5    165777.0\n",
      "6         NaN\n",
      "Name: Amount, dtype: float64\n",
      "\n",
      "replaced by mean:\n",
      " 0     50000.000000\n",
      "1      1000.000000\n",
      "2     27000.000000\n",
      "3    655555.000000\n",
      "4    187666.000000\n",
      "5    165777.000000\n",
      "6    155988.555556\n",
      "Name: Amount, dtype: float64\n",
      "\n",
      "replaced by median:\n",
      " 0     50000.0\n",
      "1      1000.0\n",
      "2     27000.0\n",
      "3    655555.0\n",
      "4    187666.0\n",
      "5    165777.0\n",
      "6    145000.0\n",
      "Name: Amount, dtype: float64\n"
     ]
    }
   ],
   "source": [
    "# 计算 nanmean 和 nanmedian\n",
    "df = pd.read_csv(\"MV_example.csv\")\n",
    "mean_value = np.nanmean(df[\"Amount\"])\n",
    "median_value = np.nanmedian(df[\"Amount\"])\n",
    "print(mean_value, median_value)\n",
    "print(\"\\noriginal data:\\n\", df[\"Amount\"].head(7))\n",
    "\n",
    "# 使用列的均值替换缺失值\n",
    "df[\"Amount\"].fillna(df[\"Amount\"].mean(), inplace=True)  # 用均值替换\n",
    "print(\"\\nreplaced by mean:\\n\", df[\"Amount\"].head(7))\n",
    "df = pd.read_csv(\"MV_example.csv\")\n",
    "# 使用列的中位数替换缺失值\n",
    "df[\"Amount\"].fillna(df[\"Amount\"].median(), inplace=True)  # 用中位数替换\n",
    "print(\"\\nreplaced by median:\\n\", df[\"Amount\"].head(7))\n",
    "# 显示替换后的 DataFrame"
   ]
  }
 ],
 "metadata": {
  "kernelspec": {
   "display_name": "Python 3 (ipykernel)",
   "language": "python",
   "name": "python3"
  },
  "language_info": {
   "codemirror_mode": {
    "name": "ipython",
    "version": 3
   },
   "file_extension": ".py",
   "mimetype": "text/x-python",
   "name": "python",
   "nbconvert_exporter": "python",
   "pygments_lexer": "ipython3",
   "version": "3.11.2"
  }
 },
 "nbformat": 4,
 "nbformat_minor": 5
}
