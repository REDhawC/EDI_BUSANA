{
 "cells": [
  {
   "cell_type": "markdown",
   "id": "c63ab2bf",
   "metadata": {},
   "source": [
    "# Welcome to week 8\n",
    "\n",
    "This week it's all about k-nearest neighbour and the implementation of PCA."
   ]
  },
  {
   "cell_type": "markdown",
   "id": "6e4b8e03",
   "metadata": {},
   "source": [
    "# Section 1: kNN\n",
    "\n",
    "The good news: Our trusted library sklearn has a nice kNN implementation available for our use. Have a look at the documentation [here](https://scikit-learn.org/stable/modules/generated/sklearn.neighbors.KNeighborsClassifier.html).\n",
    "\n",
    "You will see some of the interesting parameters which we have discussed in the lecture:\n",
    "\n",
    "- the number of neighbours k\n",
    "- weights for the neighbours\n",
    "- metric for the distance metric used\n",
    "\n",
    "The 'algorithm' parameter lets you decide which algorithm is used to search for neighbours. There is a good article on which algorithm is the most suitable for which kind of problem [here](https://scikit-learn.org/stable/modules/neighbors.html#nearest-neighbor-algorithms). The most basic one is 'brute', which stands for Brute Force. This algorithm simply computes the distance between each point pair. You can imagine that this is very effective, but not at all efficient if you have a large dataset. 'kd_tree' and 'ball_tree' are alternatives which work better in large and high dimensional datasets. If you're not at all sure, you can leave the default at 'auto' and sklearn will try to figure it out on its own."
   ]
  },
  {
   "cell_type": "markdown",
   "id": "2a264d76",
   "metadata": {},
   "source": [
    "**The data** we will be using today comes from the [UC Irvine Machine Learning repository](http://archive.ics.uci.edu/). This is an amazing source for datasets to work with for testing algorithms. The dataset of today will be their [Bank Marketing](http://archive.ics.uci.edu/dataset/222/bank+marketing) data. I have uploaded a csv copy of it to Learn, but you can also download it yourself from the source."
   ]
  },
  {
   "cell_type": "markdown",
   "id": "af519ffc",
   "metadata": {},
   "source": [
    "## 1.1 Loading in and pre-processing the data\n",
    "\n",
    "We start by loading in our dataset, selecting the variables we are interested in and splitting it into train and test data. Remember that kNN is quite scale sensitive, so after splitting you want to standardise the variables to make the scales even.\n",
    "\n",
    "Looking at the dataset, we have a binary class label (customer subscription 'y' yes/no) and a collection of integer and categorical variables. For simplicity reasons, we will just select two integer variables for prediction here. This is to avoid having the extra step of calculating a mixed datatype dissimilarity matrix separately from the kNN algorithm.\n",
    "\n",
    "**TASK**\n",
    "\n",
    "- Load in the dataset by downloading it from the source [here](http://archive.ics.uci.edu/dataset/222/bank+marketing) or downloading the provided csv file on Learn. I recommend using bank.csv which is the 10% sample of bank-full.csv\n",
    "- select the class label 'y' and the predictors 'balance' and 'campaign'\n",
    "- Split the data into training and test, using a split of your choice. I recommend 70/30 for training/test.\n",
    "- Standardise both training and test data *separately* using the [StandardScaler()](https://scikit-learn.org/stable/modules/generated/sklearn.preprocessing.StandardScaler.html) function\n",
    "\n",
    "Tip: Note how our outcome variable in the dataset is currently a string, consisting of \"yes\" or \"no\". Most models will want a numeric label for the prediction. We can use [LabelBinarizer()](https://scikit-learn.org/stable/modules/generated/sklearn.preprocessing.LabelBinarizer.html) from the sklearn preprocessing library for that."
   ]
  },
  {
   "cell_type": "code",
   "execution_count": 2,
   "id": "1326fa0f",
   "metadata": {},
   "outputs": [],
   "source": [
    "import pandas as pd\n",
    "import numpy as np\n",
    "import matplotlib.pyplot as plt\n",
    "from sklearn.model_selection import train_test_split\n",
    "from sklearn.preprocessing import StandardScaler\n",
    "from sklearn.preprocessing import LabelBinarizer\n"
   ]
  },
  {
   "cell_type": "markdown",
   "metadata": {},
   "source": []
  },
  {
   "cell_type": "code",
   "execution_count": 3,
   "metadata": {},
   "outputs": [],
   "source": [
    "df = pd.read_csv(\"./bank.csv\", sep=\";\")\n",
    "\n",
    "df.head()\n",
    "\n",
    "target = df[\"y\"]\n",
    "predictors = df[[\"balance\", \"campaign\"]]\n",
    "\n",
    "X_train, X_test, y_train, y_test = train_test_split(\n",
    "    predictors, target, test_size=0.3, random_state=8964\n",
    ")\n",
    "\n",
    "SS = StandardScaler()\n",
    "\n",
    "# Standardize the training data\n",
    "X_train_scaled = SS.fit_transform(X_train)\n",
    "\n",
    "# Standardize the test data (using the scale of the training set)\n",
    "X_test_scaled = SS.transform(X_test)\n",
    "\n",
    "lb = LabelBinarizer()\n",
    "\n",
    "# Fit and transform the 'y' column to binary format\n",
    "y_train_binarized = lb.fit_transform(y_train)\n",
    "y_test_binarized = lb.transform(y_test)"
   ]
  },
  {
   "cell_type": "code",
   "execution_count": 4,
   "metadata": {},
   "outputs": [
    {
     "name": "stdout",
     "output_type": "stream",
     "text": [
      "[[ 0.25950661  0.0824522 ]\n",
      " [-0.44811452 -0.60137158]\n",
      " [ 0.67308584 -0.60137158]\n",
      " ...\n",
      " [ 0.56778704  0.76627598]\n",
      " [ 0.13036659 -0.60137158]\n",
      " [-0.46798222  2.13392354]] [[0]\n",
      " [0]\n",
      " [1]\n",
      " ...\n",
      " [0]\n",
      " [0]\n",
      " [0]]\n"
     ]
    }
   ],
   "source": [
    "print(X_test_scaled, y_test_binarized)"
   ]
  },
  {
   "cell_type": "markdown",
   "id": "16cbf827",
   "metadata": {},
   "source": [
    "## 1.2 Selecting k\n",
    "\n",
    "We will try to select the optimal value of k using [GridSearchCV](https://scikit-learn.org/stable/modules/generated/sklearn.model_selection.GridSearchCV.html) today. This is a really handle function for hyperparameter optimisation, which allows us to compare multiple configurations of a model in terms of some evaluation parameter. For example, here we want to compare multiple versions of kNN with different values of k (our hyperparamter) and choose the best one.\n",
    "\n",
    "There's a pretty [good article](https://scikit-learn.org/stable/modules/grid_search.html) on sklearn about hyperparameter tuning via, for example, GridSearch. We will implement this below.\n",
    "\n",
    "The important parameters for [GridSearchCV](https://scikit-learn.org/stable/modules/generated/sklearn.model_selection.GridSearchCV.html) are \n",
    "\n",
    "- estimator, which in this case is our kNN classifier\n",
    "- param_grid, which is your space of possible values for k which we want to test (I choose 1 to 20)\n",
    "- scoring, which is your evaluation parameter (I choose accuracy)\n",
    "- cv, which is your cross-validation parameter, for example the number of folds for your k-fold cross validation (I choose 5)\n",
    "\n",
    "**TASK**\n",
    "\n",
    "Implement GridSearchCV below to search for the optimal number of neighbours, k. Make sure to fit it to your training data only."
   ]
  },
  {
   "cell_type": "code",
   "execution_count": 5,
   "id": "f1bdd821",
   "metadata": {},
   "outputs": [],
   "source": [
    "from sklearn.model_selection import GridSearchCV\n",
    "from sklearn.neighbors import KNeighborsClassifier"
   ]
  },
  {
   "cell_type": "code",
   "execution_count": 6,
   "metadata": {},
   "outputs": [
    {
     "name": "stdout",
     "output_type": "stream",
     "text": [
      "Best parameters for KNN: {'n_neighbors': 16}\n",
      "Best cross-validation score: 0.886\n"
     ]
    }
   ],
   "source": [
    "# 设置KNN模型\n",
    "knn = KNeighborsClassifier()\n",
    "\n",
    "# 创建想要测试的K值的列表\n",
    "param_grid = {\"n_neighbors\": list(range(1, 20))}  # 例如，这里测试从1到30的k值\n",
    "\n",
    "# 使用交叉验证设置GridSearchCV\n",
    "grid_search = GridSearchCV(knn, param_grid, cv=5, scoring=\"accuracy\")\n",
    "\n",
    "# 拟合模型\n",
    "grid_search.fit(X_train_scaled, y_train)\n",
    "\n",
    "# 查找最佳参数\n",
    "best_params = grid_search.best_params_\n",
    "best_score = grid_search.best_score_\n",
    "\n",
    "print(f\"Best parameters for KNN: {best_params}\")\n",
    "print(f\"Best cross-validation score: {best_score:.3f}\")"
   ]
  },
  {
   "cell_type": "markdown",
   "id": "25c55abd",
   "metadata": {},
   "source": [
    "My GridSearch gave me k=10 as the optimal number of neighbours for our data. I will proceed with this below."
   ]
  },
  {
   "cell_type": "markdown",
   "id": "1dcfa021",
   "metadata": {},
   "source": [
    "## 1.3 Implementing kNN\n",
    "\n",
    "I will now implement kNN with k=10 and test the performance on the test data. You can calculate the accuracy of your model by using the [accuracy score](https://scikit-learn.org/stable/modules/generated/sklearn.metrics.accuracy_score.html) function in sklearns metrics. Make sure to test the accuracy on the test data, not the training data."
   ]
  },
  {
   "cell_type": "code",
   "execution_count": 7,
   "metadata": {},
   "outputs": [],
   "source": [
    "from sklearn.metrics import accuracy_score"
   ]
  },
  {
   "cell_type": "code",
   "execution_count": 8,
   "id": "75e79be8",
   "metadata": {},
   "outputs": [
    {
     "name": "stdout",
     "output_type": "stream",
     "text": [
      "The accuracy of the kNN classifier with k=10 on the test data is: 0.88\n"
     ]
    },
    {
     "name": "stderr",
     "output_type": "stream",
     "text": [
      "c:\\Users\\redhawc\\.pyenv\\pyenv-win\\versions\\3.11.2\\Lib\\site-packages\\sklearn\\neighbors\\_classification.py:228: DataConversionWarning: A column-vector y was passed when a 1d array was expected. Please change the shape of y to (n_samples,), for example using ravel().\n",
      "  return self._fit(X, y)\n"
     ]
    }
   ],
   "source": [
    "knn = KNeighborsClassifier(n_neighbors=best_params[\"n_neighbors\"])\n",
    "\n",
    "# Fit the classifier to the scaled training data\n",
    "knn.fit(X_train_scaled, y_train_binarized)\n",
    "\n",
    "# Predict the target values for the scaled test data\n",
    "y_pred = knn.predict(X_test_scaled)\n",
    "\n",
    "# Calculate the accuracy of the model\n",
    "accuracy = accuracy_score(y_test_binarized, y_pred)\n",
    "\n",
    "print(\n",
    "    f\"The accuracy of the kNN classifier with k=10 on the test data is: {accuracy:.2f}\"\n",
    ")"
   ]
  },
  {
   "cell_type": "markdown",
   "id": "45252ea2",
   "metadata": {},
   "source": [
    "# Section 2: PCA and PCR\n",
    "\n",
    "We remember that PCA can be used to reduce the number of predictors in our model. It can be used as a pre-processing step, or it can be used integrated into a regression model which we would then call PCR (Principle Component Regression).\n",
    "\n",
    "This exercise will demonstrate how you can use PCR to create a model for stock market prediction which uses composite factors (principle components) instead of all available predictors.\n",
    "\n",
    "I have uploaded a stock market dataset for this task. Please download it from Learn and upload it to your Noteable space to work with it.\n",
    "\n",
    "We want to predict the one-month-ahead stock return using principal components extracted from a set of 67 stock characteristics."
   ]
  },
  {
   "cell_type": "code",
   "execution_count": 9,
   "id": "1039143a",
   "metadata": {},
   "outputs": [
    {
     "name": "stdout",
     "output_type": "stream",
     "text": [
      "(3481, 67)\n"
     ]
    },
    {
     "data": {
      "text/html": [
       "<div>\n",
       "<style scoped>\n",
       "    .dataframe tbody tr th:only-of-type {\n",
       "        vertical-align: middle;\n",
       "    }\n",
       "\n",
       "    .dataframe tbody tr th {\n",
       "        vertical-align: top;\n",
       "    }\n",
       "\n",
       "    .dataframe thead th {\n",
       "        text-align: right;\n",
       "    }\n",
       "</style>\n",
       "<table border=\"1\" class=\"dataframe\">\n",
       "  <thead>\n",
       "    <tr style=\"text-align: right;\">\n",
       "      <th></th>\n",
       "      <th>RET</th>\n",
       "      <th>CAPEI</th>\n",
       "      <th>bm</th>\n",
       "      <th>evm</th>\n",
       "      <th>pe_op_basic</th>\n",
       "      <th>pe_exi</th>\n",
       "      <th>pe_inc</th>\n",
       "      <th>ps</th>\n",
       "      <th>pcf</th>\n",
       "      <th>dpr</th>\n",
       "      <th>...</th>\n",
       "      <th>rect_turn</th>\n",
       "      <th>pay_turn</th>\n",
       "      <th>sale_invcap</th>\n",
       "      <th>sale_equity</th>\n",
       "      <th>sale_nwc</th>\n",
       "      <th>rd_sale</th>\n",
       "      <th>adv_sale</th>\n",
       "      <th>staff_sale</th>\n",
       "      <th>accrual</th>\n",
       "      <th>ptb</th>\n",
       "    </tr>\n",
       "  </thead>\n",
       "  <tbody>\n",
       "    <tr>\n",
       "      <th>1</th>\n",
       "      <td>-0.088191</td>\n",
       "      <td>0.759381</td>\n",
       "      <td>-0.999558</td>\n",
       "      <td>0.696751</td>\n",
       "      <td>0.079703</td>\n",
       "      <td>0.007577</td>\n",
       "      <td>-0.021611</td>\n",
       "      <td>-0.992676</td>\n",
       "      <td>0.147590</td>\n",
       "      <td>-0.956408</td>\n",
       "      <td>...</td>\n",
       "      <td>-0.998073</td>\n",
       "      <td>-0.932030</td>\n",
       "      <td>-0.870970</td>\n",
       "      <td>-0.987193</td>\n",
       "      <td>0.648937</td>\n",
       "      <td>-0.999998</td>\n",
       "      <td>-0.998952</td>\n",
       "      <td>-1.0</td>\n",
       "      <td>0.551959</td>\n",
       "      <td>-0.910672</td>\n",
       "    </tr>\n",
       "    <tr>\n",
       "      <th>2</th>\n",
       "      <td>0.079484</td>\n",
       "      <td>0.757554</td>\n",
       "      <td>-0.999718</td>\n",
       "      <td>0.700319</td>\n",
       "      <td>-0.130809</td>\n",
       "      <td>-0.176777</td>\n",
       "      <td>-0.208520</td>\n",
       "      <td>-0.998950</td>\n",
       "      <td>-0.447588</td>\n",
       "      <td>-0.958060</td>\n",
       "      <td>...</td>\n",
       "      <td>-0.973573</td>\n",
       "      <td>-0.932865</td>\n",
       "      <td>-0.801126</td>\n",
       "      <td>-0.926463</td>\n",
       "      <td>0.649039</td>\n",
       "      <td>-1.000000</td>\n",
       "      <td>-0.995808</td>\n",
       "      <td>-1.0</td>\n",
       "      <td>0.549097</td>\n",
       "      <td>-0.916289</td>\n",
       "    </tr>\n",
       "    <tr>\n",
       "      <th>3</th>\n",
       "      <td>-0.015975</td>\n",
       "      <td>0.758821</td>\n",
       "      <td>-0.999205</td>\n",
       "      <td>0.696543</td>\n",
       "      <td>0.022296</td>\n",
       "      <td>-0.046242</td>\n",
       "      <td>-0.076176</td>\n",
       "      <td>-0.997872</td>\n",
       "      <td>0.103177</td>\n",
       "      <td>-0.959754</td>\n",
       "      <td>...</td>\n",
       "      <td>-0.998721</td>\n",
       "      <td>-0.936796</td>\n",
       "      <td>-0.863408</td>\n",
       "      <td>-0.980141</td>\n",
       "      <td>0.648930</td>\n",
       "      <td>-1.000000</td>\n",
       "      <td>-1.000000</td>\n",
       "      <td>-1.0</td>\n",
       "      <td>0.550775</td>\n",
       "      <td>-0.956189</td>\n",
       "    </tr>\n",
       "    <tr>\n",
       "      <th>4</th>\n",
       "      <td>0.051836</td>\n",
       "      <td>0.758721</td>\n",
       "      <td>-0.999590</td>\n",
       "      <td>0.696393</td>\n",
       "      <td>0.027334</td>\n",
       "      <td>-0.041370</td>\n",
       "      <td>-0.071237</td>\n",
       "      <td>-0.994922</td>\n",
       "      <td>0.107730</td>\n",
       "      <td>-0.952962</td>\n",
       "      <td>...</td>\n",
       "      <td>-0.998041</td>\n",
       "      <td>-0.928855</td>\n",
       "      <td>-0.869320</td>\n",
       "      <td>-0.984026</td>\n",
       "      <td>0.648950</td>\n",
       "      <td>-1.000000</td>\n",
       "      <td>-0.996647</td>\n",
       "      <td>-1.0</td>\n",
       "      <td>0.552304</td>\n",
       "      <td>-0.916565</td>\n",
       "    </tr>\n",
       "    <tr>\n",
       "      <th>5</th>\n",
       "      <td>0.095178</td>\n",
       "      <td>0.758717</td>\n",
       "      <td>-0.999612</td>\n",
       "      <td>0.696722</td>\n",
       "      <td>0.027037</td>\n",
       "      <td>-0.039758</td>\n",
       "      <td>-0.069602</td>\n",
       "      <td>-0.985473</td>\n",
       "      <td>0.108669</td>\n",
       "      <td>-0.957310</td>\n",
       "      <td>...</td>\n",
       "      <td>-0.998229</td>\n",
       "      <td>-0.931362</td>\n",
       "      <td>-0.882201</td>\n",
       "      <td>-0.994100</td>\n",
       "      <td>0.648897</td>\n",
       "      <td>-0.999702</td>\n",
       "      <td>-0.999371</td>\n",
       "      <td>-1.0</td>\n",
       "      <td>0.551169</td>\n",
       "      <td>-0.918346</td>\n",
       "    </tr>\n",
       "  </tbody>\n",
       "</table>\n",
       "<p>5 rows × 67 columns</p>\n",
       "</div>"
      ],
      "text/plain": [
       "        RET     CAPEI        bm       evm  pe_op_basic    pe_exi    pe_inc  \\\n",
       "1 -0.088191  0.759381 -0.999558  0.696751     0.079703  0.007577 -0.021611   \n",
       "2  0.079484  0.757554 -0.999718  0.700319    -0.130809 -0.176777 -0.208520   \n",
       "3 -0.015975  0.758821 -0.999205  0.696543     0.022296 -0.046242 -0.076176   \n",
       "4  0.051836  0.758721 -0.999590  0.696393     0.027334 -0.041370 -0.071237   \n",
       "5  0.095178  0.758717 -0.999612  0.696722     0.027037 -0.039758 -0.069602   \n",
       "\n",
       "         ps       pcf       dpr  ...  rect_turn  pay_turn  sale_invcap  \\\n",
       "1 -0.992676  0.147590 -0.956408  ...  -0.998073 -0.932030    -0.870970   \n",
       "2 -0.998950 -0.447588 -0.958060  ...  -0.973573 -0.932865    -0.801126   \n",
       "3 -0.997872  0.103177 -0.959754  ...  -0.998721 -0.936796    -0.863408   \n",
       "4 -0.994922  0.107730 -0.952962  ...  -0.998041 -0.928855    -0.869320   \n",
       "5 -0.985473  0.108669 -0.957310  ...  -0.998229 -0.931362    -0.882201   \n",
       "\n",
       "   sale_equity  sale_nwc   rd_sale  adv_sale  staff_sale   accrual       ptb  \n",
       "1    -0.987193  0.648937 -0.999998 -0.998952        -1.0  0.551959 -0.910672  \n",
       "2    -0.926463  0.649039 -1.000000 -0.995808        -1.0  0.549097 -0.916289  \n",
       "3    -0.980141  0.648930 -1.000000 -1.000000        -1.0  0.550775 -0.956189  \n",
       "4    -0.984026  0.648950 -1.000000 -0.996647        -1.0  0.552304 -0.916565  \n",
       "5    -0.994100  0.648897 -0.999702 -0.999371        -1.0  0.551169 -0.918346  \n",
       "\n",
       "[5 rows x 67 columns]"
      ]
     },
     "execution_count": 9,
     "metadata": {},
     "output_type": "execute_result"
    }
   ],
   "source": [
    "# load data\n",
    "\n",
    "import pandas as pd\n",
    "data = pd.read_csv('stock_data.csv',index_col=0)\n",
    "\n",
    "print(data.shape)\n",
    "data.head()"
   ]
  },
  {
   "cell_type": "code",
   "execution_count": 10,
   "id": "68bedd4e",
   "metadata": {},
   "outputs": [],
   "source": [
    "# define predictors and outcome - we want to predict RET which is the stock return\n",
    "\n",
    "y = data['RET']\n",
    "X = data.drop('RET',axis=1)"
   ]
  },
  {
   "cell_type": "markdown",
   "id": "6a68fbb7",
   "metadata": {},
   "source": [
    "## 2.1 PCA\n",
    "\n",
    "The sklearn library has a great PCA function within its decomposition collection. You can have a look at the documentation [here](https://scikit-learn.org/stable/modules/generated/sklearn.decomposition.PCA.html).\n",
    "\n",
    "**TASK**\n",
    "\n",
    "Use that function below to construct the principle components from your dataset X. In order to then decide how many components are optimal for our data, you can plot a Scree plot which plots the PCA components ('components_') on the x-axis and the explained variance ratio ('explained_variance_ratio_') on the y-axis. You will recognise this approach from our Elbow criterion when we were selecting the optimal number of clusters for k-means.\n",
    "\n",
    "Remember that we want to select the number of components explaining around 70-80% of the variance in the dataset. "
   ]
  },
  {
   "cell_type": "code",
   "execution_count": 11,
   "id": "fffe0141",
   "metadata": {},
   "outputs": [
    {
     "data": {
      "image/png": "[encoded data removed]",
      "text/plain": [
       "<Figure size 1000x500 with 1 Axes>"
      ]
     },
     "metadata": {},
     "output_type": "display_data"
    },
    {
     "data": {
      "image/png": "[encoded data removed]",
      "text/plain": [
       "<Figure size 1000x500 with 1 Axes>"
      ]
     },
     "metadata": {},
     "output_type": "display_data"
    }
   ],
   "source": [
    "import matplotlib.pyplot as plt\n",
    "from sklearn.decomposition import PCA\n",
    "\n",
    "# Initialize PCA and fit it to the data\n",
    "pca = PCA().fit(X_train_scaled, y_train_binarized)\n",
    "\n",
    "# Extract the explained variance ratio for each component\n",
    "explained_variance_ratio = pca.explained_variance_ratio_\n",
    "\n",
    "# Create a Scree plot\n",
    "plt.figure(figsize=(10, 5))\n",
    "plt.plot(\n",
    "    range(1, len(explained_variance_ratio) + 1),\n",
    "    explained_variance_ratio,\n",
    "    marker=\"o\",\n",
    "    linestyle=\"--\",\n",
    ")\n",
    "plt.title(\"Scree Plot\")\n",
    "plt.xlabel(\"Number of Components\")\n",
    "plt.ylabel(\"Explained Variance Ratio\")\n",
    "plt.grid(True)\n",
    "plt.show()\n",
    "\n",
    "# Calculate cumulative explained variance\n",
    "cumulative_explained_variance = np.cumsum(explained_variance_ratio)\n",
    "\n",
    "# Plot cumulative explained variance\n",
    "plt.figure(figsize=(10, 5))\n",
    "plt.plot(\n",
    "    range(1, len(cumulative_explained_variance) + 1),\n",
    "    cumulative_explained_variance,\n",
    "    marker=\"o\",\n",
    "    linestyle=\"-\",\n",
    ")\n",
    "plt.title(\"Cumulative Explained Variance\")\n",
    "plt.xlabel(\"Number of Components\")\n",
    "plt.ylabel(\"Cumulative Explained Variance\")\n",
    "plt.axhline(y=0.95, color=\"r\", linestyle=\"--\", label=\"95% Explained Variance\")\n",
    "plt.legend(loc=\"best\")\n",
    "plt.grid(True)\n",
    "plt.show()"
   ]
  },
  {
   "cell_type": "markdown",
   "id": "187e7bbe",
   "metadata": {},
   "source": [
    "A Scree plot is great, but it can be difficult to read in detail. You can also have a look at the raw values of the explained variance ratio and look for the optimal value there. \n",
    "\n",
    "**OPTIONAL TASK**\n",
    "\n",
    "Look at the explained variance ratio values and decide how many principle components are optimal."
   ]
  },
  {
   "cell_type": "code",
   "execution_count": 17,
   "id": "4c213a85",
   "metadata": {},
   "outputs": [
    {
     "data": {
      "text/plain": [
       "array([0.50054953, 1.        ])"
      ]
     },
     "execution_count": 17,
     "metadata": {},
     "output_type": "execute_result"
    }
   ],
   "source": [
    "cumulative_explained_variance"
   ]
  },
  {
   "cell_type": "markdown",
   "id": "587d2385",
   "metadata": {},
   "source": [
    "We can see that the first three components explain 63.79% of variance in our dataset. Let's say that we're happy with that level and we decide to keep the first **THREE** components."
   ]
  },
  {
   "cell_type": "markdown",
   "id": "95ffa1e1",
   "metadata": {},
   "source": [
    "## 2.2 Plotting the component loadings\n",
    "\n",
    "**OPTIONAL TASK**\n",
    "\n",
    "This is a bit tricky and not necessary for the following analysis, so plotting is an optional task here. But you can try to plot the PCA coefficients (loadings) for the first 3 components. That will help us visualise the spread of data that is being explained between the components.\n",
    "\n",
    "Each point corresponds to loadings of one of the 66 variables, so you can theoretically see 66 dots in the plots (though a lot will be overlapping). They explain how strongly each of the variables \"load\" onto the component - that means how strongly they play their part in the construction of this component.\n",
    "\n",
    "Points around the 0/0 point of the plot don't have much impact on either of these two components. Those further along the axes have a higher loading on one (or both) of the components.\n",
    "\n",
    "To some extent, this can help you interpret the components, but that explanation part is very limited so don't put too much weight on it.\n",
    "\n",
    "If you'd like to try it, there are some great step by step tutorials online. Alternatively, you will have access to my proposed solution after the lab as usual."
   ]
  },
  {
   "cell_type": "code",
   "execution_count": 13,
   "id": "f727ca5d",
   "metadata": {},
   "outputs": [],
   "source": [
    "# YOUR CODE HERE"
   ]
  },
  {
   "cell_type": "markdown",
   "id": "7115c541",
   "metadata": {},
   "source": [
    "## 2.3 Principle Component Regression (PCR)\n",
    "\n",
    "Now that we have learned how to construct principle components, we can construct a predictive model with those as predictors.\n",
    "\n",
    "**TASK**\n",
    "\n",
    "You will need to repeat the construction step, because we want to construct the components using **just** the training data! So, do your usual data splitting first, then repeat the step from 2.1 using X_train instead of the whole X. Save those as a new X, called for example X_reduced."
   ]
  },
  {
   "cell_type": "code",
   "execution_count": 14,
   "id": "e4785a7c",
   "metadata": {},
   "outputs": [],
   "source": [
    "# YOUR CODE HERE"
   ]
  },
  {
   "cell_type": "markdown",
   "id": "0a93725d",
   "metadata": {},
   "source": [
    "**TASK**\n",
    "\n",
    "I will now do cross-validation to select the optimal number of components. For PCR, the optimal number of components minimises our model error. I will run 5 folds of cross-validation using the [KFold function](https://scikit-learn.org/stable/modules/generated/sklearn.model_selection.KFold.html) in sklearn. This allows me to calculate multiple values of MSE for different numbers of components. Then I will plot the number of components on the x-axis and the MSE on the y-axis. \n",
    "\n",
    "You can use a different approach for this if you prefer. In the end, the purpose of this is to select the optimal number of components again for our model building in the next step."
   ]
  },
  {
   "cell_type": "code",
   "execution_count": 15,
   "id": "8732d7fd",
   "metadata": {},
   "outputs": [],
   "source": [
    "# YOUR CODE HERE"
   ]
  },
  {
   "cell_type": "markdown",
   "id": "94fb4cf6",
   "metadata": {},
   "source": [
    "Finally we can construct our PCR model using training X and training Y, then testing on test X and test Y as usual."
   ]
  },
  {
   "cell_type": "code",
   "execution_count": 16,
   "id": "a3eacee9",
   "metadata": {},
   "outputs": [],
   "source": [
    "# YOUR CODE HERE"
   ]
  },
  {
   "cell_type": "markdown",
   "id": "62818819",
   "metadata": {},
   "source": [
    "**Dataset acknowledgement**\n",
    "\n",
    "Moro,S., Rita,P., and Cortez,P.. (2012). Bank Marketing. UCI Machine Learning Repository. https://doi.org/10.24432/C5K306. Licensed under a Creative Commons Attribution 4.0 International (CC BY 4.0) license."
   ]
  }
 ],
 "metadata": {
  "kernelspec": {
   "display_name": "Python 3 (ipykernel)",
   "language": "python",
   "name": "python3"
  },
  "language_info": {
   "codemirror_mode": {
    "name": "ipython",
    "version": 3
   },
   "file_extension": ".py",
   "mimetype": "text/x-python",
   "name": "python",
   "nbconvert_exporter": "python",
   "pygments_lexer": "ipython3",
   "version": "3.11.2"
  }
 },
 "nbformat": 4,
 "nbformat_minor": 5
}
