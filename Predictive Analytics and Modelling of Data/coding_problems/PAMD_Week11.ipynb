{
 "cells": [
  {
   "cell_type": "markdown",
   "id": "75acf8e0",
   "metadata": {},
   "source": [
    "# PAMD computer workshop week 11\n",
    "\n",
    "In this last installment of your PAMD workshops we will look at implementing neural networks. You will remember from the lecture that broadly speaking, a neural network consists of an input and an output layer of neurons which are connected with a number of hidden layers.\n",
    "\n",
    "The maybe easiest way to build an ANN in Python is through Keras.\n",
    "\n",
    "Keras is a Python interface that focuses on neural networks and especially shines for deep learning implementations. It was built on top of [TensorFlow](https://tensorflow.org/), which in turn was originally written for internal uses at Google but has since become a large open source software library for machine learning. Keras is an interface to make it easier to use, which makes it a very popular choice for ANN implementations with plenty of customization options. You'll remember from the lecture how many choices can be made regarding the structure and the tuning of a neural network. Keras will help us with that. Have a brief look at their extensive documentation [here](https://keras.io/about/). These easy to use libraries are arguably one of the reasons why neural networks have been so popular.\n",
    "\n",
    "On the Keras website there's tutorials for both simple implementations like the ones we're doing in class here, but also more advanced options such as parallel processing and recurrent ANNs which are used for example in Natural Language Processing (NLP) for those of you interested in diving deeper after the course.\n",
    "\n",
    "This script will construct a simple neural network for our churn data. Remember that churn reflects whether a customer will stop buying a product from a company."
   ]
  },
  {
   "cell_type": "code",
   "execution_count": 1,
   "id": "55a80a37",
   "metadata": {},
   "outputs": [
    {
     "name": "stdout",
     "output_type": "stream",
     "text": [
      "^C\n",
      "Collecting keras\n",
      "  Downloading keras-3.0.0-py3-none-any.whl (997 kB)\n",
      "     ------------------------------------ 997.1/997.1 kB 279.4 kB/s eta 0:00:00\n",
      "Collecting absl-py\n",
      "  Downloading absl_py-2.0.0-py3-none-any.whl (130 kB)\n",
      "     ------------------------------------ 130.2/130.2 kB 641.5 kB/s eta 0:00:00\n",
      "Requirement already satisfied: numpy in c:\\users\\redhawc\\.pyenv\\pyenv-win\\versions\\3.11.2\\lib\\site-packages (from keras) (1.25.2)\n",
      "Collecting rich\n",
      "  Downloading rich-13.7.0-py3-none-any.whl (240 kB)\n",
      "     ------------------------------------ 240.6/240.6 kB 433.9 kB/s eta 0:00:00\n",
      "Collecting namex\n",
      "  Downloading namex-0.0.7-py3-none-any.whl (5.8 kB)\n",
      "Collecting h5py\n",
      "  Downloading h5py-3.10.0-cp311-cp311-win_amd64.whl (2.7 MB)\n",
      "     ---------------------------------------- 2.7/2.7 MB 319.2 kB/s eta 0:00:00\n",
      "Collecting dm-tree\n",
      "  Downloading dm_tree-0.1.8-cp311-cp311-win_amd64.whl (101 kB)\n",
      "     ------------------------------------ 101.3/101.3 kB 446.5 kB/s eta 0:00:00\n",
      "Collecting markdown-it-py>=2.2.0\n",
      "  Downloading markdown_it_py-3.0.0-py3-none-any.whl (87 kB)\n",
      "     -------------------------------------- 87.5/87.5 kB 275.0 kB/s eta 0:00:00\n",
      "Requirement already satisfied: pygments<3.0.0,>=2.13.0 in c:\\users\\redhawc\\.pyenv\\pyenv-win\\versions\\3.11.2\\lib\\site-packages (from rich->keras) (2.15.1)\n",
      "Collecting mdurl~=0.1\n",
      "  Downloading mdurl-0.1.2-py3-none-any.whl (10.0 kB)\n",
      "Installing collected packages: namex, dm-tree, mdurl, h5py, absl-py, markdown-it-py, rich, keras\n",
      "Successfully installed absl-py-2.0.0 dm-tree-0.1.8 h5py-3.10.0 keras-3.0.0 markdown-it-py-3.0.0 mdurl-0.1.2 namex-0.0.7 rich-13.7.0\n"
     ]
    },
    {
     "name": "stderr",
     "output_type": "stream",
     "text": [
      "\n",
      "[notice] A new release of pip available: 22.3.1 -> 23.3.1\n",
      "[notice] To update, run: python.exe -m pip install --upgrade pip\n"
     ]
    },
    {
     "name": "stdout",
     "output_type": "stream",
     "text": [
      "Collecting tensorflow\n",
      "  Downloading tensorflow-2.15.0-cp311-cp311-win_amd64.whl (2.1 kB)\n",
      "Collecting tensorflow-intel==2.15.0\n",
      "  Downloading tensorflow_intel-2.15.0-cp311-cp311-win_amd64.whl (300.9 MB)\n",
      "     -------------------------------------- 300.9/300.9 MB 1.5 MB/s eta 0:00:00\n",
      "Collecting absl-py>=1.0.0\n",
      "  Using cached absl_py-2.0.0-py3-none-any.whl (130 kB)\n",
      "Collecting astunparse>=1.6.0\n",
      "  Downloading astunparse-1.6.3-py2.py3-none-any.whl (12 kB)\n",
      "Collecting flatbuffers>=23.5.26\n",
      "  Downloading flatbuffers-23.5.26-py2.py3-none-any.whl (26 kB)\n",
      "Collecting gast!=0.5.0,!=0.5.1,!=0.5.2,>=0.2.1\n",
      "  Downloading gast-0.5.4-py3-none-any.whl (19 kB)\n",
      "Collecting google-pasta>=0.1.1\n",
      "  Downloading google_pasta-0.2.0-py3-none-any.whl (57 kB)\n",
      "     ---------------------------------------- 57.5/57.5 kB 1.5 MB/s eta 0:00:00\n",
      "Collecting h5py>=2.9.0\n",
      "  Using cached h5py-3.10.0-cp311-cp311-win_amd64.whl (2.7 MB)\n",
      "Collecting libclang>=13.0.0\n",
      "  Downloading libclang-16.0.6-py2.py3-none-win_amd64.whl (24.4 MB)\n",
      "     -------------------------------------- 24.4/24.4 MB 120.0 kB/s eta 0:00:00\n",
      "Collecting ml-dtypes~=0.2.0\n",
      "  Downloading ml_dtypes-0.2.0-cp311-cp311-win_amd64.whl (938 kB)\n",
      "     ------------------------------------- 938.7/938.7 kB 87.3 kB/s eta 0:00:00\n",
      "Requirement already satisfied: numpy<2.0.0,>=1.23.5 in c:\\users\\redhawc\\.pyenv\\pyenv-win\\versions\\3.11.2\\lib\\site-packages (from tensorflow-intel==2.15.0->tensorflow) (1.25.2)\n",
      "Collecting opt-einsum>=2.3.2\n",
      "  Downloading opt_einsum-3.3.0-py3-none-any.whl (65 kB)\n",
      "     ---------------------------------------- 65.5/65.5 kB ? eta 0:00:00\n",
      "Requirement already satisfied: packaging in c:\\users\\redhawc\\.pyenv\\pyenv-win\\versions\\3.11.2\\lib\\site-packages (from tensorflow-intel==2.15.0->tensorflow) (23.1)\n",
      "Collecting protobuf!=4.21.0,!=4.21.1,!=4.21.2,!=4.21.3,!=4.21.4,!=4.21.5,<5.0.0dev,>=3.20.3\n",
      "  Downloading protobuf-4.25.1-cp310-abi3-win_amd64.whl (413 kB)\n",
      "     ------------------------------------- 413.4/413.4 kB 87.8 kB/s eta 0:00:00\n",
      "Requirement already satisfied: setuptools in c:\\users\\redhawc\\.pyenv\\pyenv-win\\versions\\3.11.2\\lib\\site-packages (from tensorflow-intel==2.15.0->tensorflow) (65.5.0)\n",
      "Requirement already satisfied: six>=1.12.0 in c:\\users\\redhawc\\.pyenv\\pyenv-win\\versions\\3.11.2\\lib\\site-packages (from tensorflow-intel==2.15.0->tensorflow) (1.16.0)\n",
      "Collecting termcolor>=1.1.0\n",
      "  Downloading termcolor-2.3.0-py3-none-any.whl (6.9 kB)\n",
      "Requirement already satisfied: typing-extensions>=3.6.6 in c:\\users\\redhawc\\.pyenv\\pyenv-win\\versions\\3.11.2\\lib\\site-packages (from tensorflow-intel==2.15.0->tensorflow) (4.8.0)\n",
      "Collecting wrapt<1.15,>=1.11.0\n",
      "  Downloading wrapt-1.14.1-cp311-cp311-win_amd64.whl (35 kB)\n",
      "Collecting tensorflow-io-gcs-filesystem>=0.23.1\n",
      "  Downloading tensorflow_io_gcs_filesystem-0.31.0-cp311-cp311-win_amd64.whl (1.5 MB)\n",
      "     ---------------------------------------- 1.5/1.5 MB 66.0 kB/s eta 0:00:00\n",
      "Collecting grpcio<2.0,>=1.24.3\n",
      "  Downloading grpcio-1.59.3-cp311-cp311-win_amd64.whl (3.7 MB)\n",
      "     ---------------------------------------- 3.7/3.7 MB 207.3 kB/s eta 0:00:00\n",
      "Collecting tensorboard<2.16,>=2.15\n",
      "  Downloading tensorboard-2.15.1-py3-none-any.whl (5.5 MB)\n",
      "     ---------------------------------------- 5.5/5.5 MB 190.9 kB/s eta 0:00:00\n",
      "Collecting tensorflow-estimator<2.16,>=2.15.0\n",
      "  Downloading tensorflow_estimator-2.15.0-py2.py3-none-any.whl (441 kB)\n",
      "     ------------------------------------ 442.0/442.0 kB 368.4 kB/s eta 0:00:00\n",
      "Collecting keras<2.16,>=2.15.0\n",
      "  Downloading keras-2.15.0-py3-none-any.whl (1.7 MB)\n",
      "     ---------------------------------------- 1.7/1.7 MB 971.5 kB/s eta 0:00:00\n",
      "Collecting wheel<1.0,>=0.23.0\n",
      "  Downloading wheel-0.42.0-py3-none-any.whl (65 kB)\n",
      "     -------------------------------------- 65.4/65.4 kB 220.5 kB/s eta 0:00:00\n",
      "Collecting google-auth<3,>=1.6.3\n",
      "  Downloading google_auth-2.23.4-py2.py3-none-any.whl (183 kB)\n",
      "     ------------------------------------ 183.3/183.3 kB 346.1 kB/s eta 0:00:00\n",
      "Collecting google-auth-oauthlib<2,>=0.5\n",
      "  Downloading google_auth_oauthlib-1.1.0-py2.py3-none-any.whl (19 kB)\n",
      "Collecting markdown>=2.6.8\n",
      "  Downloading Markdown-3.5.1-py3-none-any.whl (102 kB)\n",
      "     ------------------------------------ 102.2/102.2 kB 280.2 kB/s eta 0:00:00\n",
      "Collecting protobuf!=4.21.0,!=4.21.1,!=4.21.2,!=4.21.3,!=4.21.4,!=4.21.5,<5.0.0dev,>=3.20.3\n",
      "  Downloading protobuf-4.23.4-cp310-abi3-win_amd64.whl (422 kB)\n",
      "     ------------------------------------ 422.5/422.5 kB 179.5 kB/s eta 0:00:00\n",
      "Requirement already satisfied: requests<3,>=2.21.0 in c:\\users\\redhawc\\.pyenv\\pyenv-win\\versions\\3.11.2\\lib\\site-packages (from tensorboard<2.16,>=2.15->tensorflow-intel==2.15.0->tensorflow) (2.31.0)\n",
      "Collecting tensorboard-data-server<0.8.0,>=0.7.0\n",
      "  Downloading tensorboard_data_server-0.7.2-py3-none-any.whl (2.4 kB)\n",
      "Requirement already satisfied: werkzeug>=1.0.1 in c:\\users\\redhawc\\.pyenv\\pyenv-win\\versions\\3.11.2\\lib\\site-packages (from tensorboard<2.16,>=2.15->tensorflow-intel==2.15.0->tensorflow) (3.0.1)\n",
      "Collecting cachetools<6.0,>=2.0.0\n",
      "  Downloading cachetools-5.3.2-py3-none-any.whl (9.3 kB)\n",
      "Collecting pyasn1-modules>=0.2.1\n",
      "  Downloading pyasn1_modules-0.3.0-py2.py3-none-any.whl (181 kB)\n",
      "     ------------------------------------ 181.3/181.3 kB 195.5 kB/s eta 0:00:00\n",
      "Collecting rsa<5,>=3.1.4\n",
      "  Downloading rsa-4.9-py3-none-any.whl (34 kB)\n",
      "Collecting requests-oauthlib>=0.7.0\n",
      "  Downloading requests_oauthlib-1.3.1-py2.py3-none-any.whl (23 kB)\n",
      "Requirement already satisfied: charset-normalizer<4,>=2 in c:\\users\\redhawc\\.pyenv\\pyenv-win\\versions\\3.11.2\\lib\\site-packages (from requests<3,>=2.21.0->tensorboard<2.16,>=2.15->tensorflow-intel==2.15.0->tensorflow) (3.3.0)\n",
      "Requirement already satisfied: idna<4,>=2.5 in c:\\users\\redhawc\\.pyenv\\pyenv-win\\versions\\3.11.2\\lib\\site-packages (from requests<3,>=2.21.0->tensorboard<2.16,>=2.15->tensorflow-intel==2.15.0->tensorflow) (3.4)\n",
      "Requirement already satisfied: urllib3<3,>=1.21.1 in c:\\users\\redhawc\\.pyenv\\pyenv-win\\versions\\3.11.2\\lib\\site-packages (from requests<3,>=2.21.0->tensorboard<2.16,>=2.15->tensorflow-intel==2.15.0->tensorflow) (2.0.7)\n",
      "Requirement already satisfied: certifi>=2017.4.17 in c:\\users\\redhawc\\.pyenv\\pyenv-win\\versions\\3.11.2\\lib\\site-packages (from requests<3,>=2.21.0->tensorboard<2.16,>=2.15->tensorflow-intel==2.15.0->tensorflow) (2023.7.22)\n",
      "Requirement already satisfied: MarkupSafe>=2.1.1 in c:\\users\\redhawc\\.pyenv\\pyenv-win\\versions\\3.11.2\\lib\\site-packages (from werkzeug>=1.0.1->tensorboard<2.16,>=2.15->tensorflow-intel==2.15.0->tensorflow) (2.1.3)\n",
      "Collecting pyasn1<0.6.0,>=0.4.6\n",
      "  Downloading pyasn1-0.5.1-py2.py3-none-any.whl (84 kB)\n",
      "     ---------------------------------------- 84.9/84.9 kB 2.4 MB/s eta 0:00:00\n",
      "Collecting oauthlib>=3.0.0\n",
      "  Downloading oauthlib-3.2.2-py3-none-any.whl (151 kB)\n",
      "     ------------------------------------ 151.7/151.7 kB 133.1 kB/s eta 0:00:00\n",
      "Installing collected packages: libclang, flatbuffers, wrapt, wheel, termcolor, tensorflow-io-gcs-filesystem, tensorflow-estimator, tensorboard-data-server, pyasn1, protobuf, opt-einsum, oauthlib, ml-dtypes, markdown, keras, h5py, grpcio, google-pasta, gast, cachetools, absl-py, rsa, requests-oauthlib, pyasn1-modules, astunparse, google-auth, google-auth-oauthlib, tensorboard, tensorflow-intel, tensorflow\n",
      "Successfully installed absl-py-2.0.0 astunparse-1.6.3 cachetools-5.3.2 flatbuffers-23.5.26 gast-0.5.4 google-auth-2.23.4 google-auth-oauthlib-1.1.0 google-pasta-0.2.0 grpcio-1.59.3 h5py-3.10.0 keras-2.15.0 libclang-16.0.6 markdown-3.5.1 ml-dtypes-0.2.0 oauthlib-3.2.2 opt-einsum-3.3.0 protobuf-4.23.4 pyasn1-0.5.1 pyasn1-modules-0.3.0 requests-oauthlib-1.3.1 rsa-4.9 tensorboard-2.15.1 tensorboard-data-server-0.7.2 tensorflow-2.15.0 tensorflow-estimator-2.15.0 tensorflow-intel-2.15.0 tensorflow-io-gcs-filesystem-0.31.0 termcolor-2.3.0 wheel-0.42.0 wrapt-1.14.1\n"
     ]
    },
    {
     "name": "stderr",
     "output_type": "stream",
     "text": [
      "\n",
      "[notice] A new release of pip available: 22.3.1 -> 23.3.1\n",
      "[notice] To update, run: python.exe -m pip install --upgrade pip\n"
     ]
    }
   ],
   "source": [
    "# you might need to install tensorflow and keras first. This may take a few minutes\n",
    "\n",
    "# %pip install tensorflow\n",
    "# %pip install keras"
   ]
  },
  {
   "cell_type": "code",
   "execution_count": 2,
   "id": "c6d6cad9",
   "metadata": {},
   "outputs": [
    {
     "data": {
      "text/html": [
       "<div>\n",
       "<style scoped>\n",
       "    .dataframe tbody tr th:only-of-type {\n",
       "        vertical-align: middle;\n",
       "    }\n",
       "\n",
       "    .dataframe tbody tr th {\n",
       "        vertical-align: top;\n",
       "    }\n",
       "\n",
       "    .dataframe thead th {\n",
       "        text-align: right;\n",
       "    }\n",
       "</style>\n",
       "<table border=\"1\" class=\"dataframe\">\n",
       "  <thead>\n",
       "    <tr style=\"text-align: right;\">\n",
       "      <th></th>\n",
       "      <th>customerID</th>\n",
       "      <th>gender</th>\n",
       "      <th>SeniorCitizen</th>\n",
       "      <th>Partner</th>\n",
       "      <th>Dependents</th>\n",
       "      <th>tenure</th>\n",
       "      <th>PhoneService</th>\n",
       "      <th>MultipleLines</th>\n",
       "      <th>InternetService</th>\n",
       "      <th>OnlineSecurity</th>\n",
       "      <th>...</th>\n",
       "      <th>DeviceProtection</th>\n",
       "      <th>TechSupport</th>\n",
       "      <th>StreamingTV</th>\n",
       "      <th>StreamingMovies</th>\n",
       "      <th>Contract</th>\n",
       "      <th>PaperlessBilling</th>\n",
       "      <th>PaymentMethod</th>\n",
       "      <th>MonthlyCharges</th>\n",
       "      <th>TotalCharges</th>\n",
       "      <th>Churn</th>\n",
       "    </tr>\n",
       "  </thead>\n",
       "  <tbody>\n",
       "    <tr>\n",
       "      <th>0</th>\n",
       "      <td>7590-VHVEG</td>\n",
       "      <td>Female</td>\n",
       "      <td>0</td>\n",
       "      <td>Yes</td>\n",
       "      <td>No</td>\n",
       "      <td>1</td>\n",
       "      <td>No</td>\n",
       "      <td>No phone service</td>\n",
       "      <td>DSL</td>\n",
       "      <td>No</td>\n",
       "      <td>...</td>\n",
       "      <td>No</td>\n",
       "      <td>No</td>\n",
       "      <td>No</td>\n",
       "      <td>No</td>\n",
       "      <td>Month-to-month</td>\n",
       "      <td>Yes</td>\n",
       "      <td>Electronic check</td>\n",
       "      <td>29.85</td>\n",
       "      <td>29.85</td>\n",
       "      <td>No</td>\n",
       "    </tr>\n",
       "    <tr>\n",
       "      <th>1</th>\n",
       "      <td>5575-GNVDE</td>\n",
       "      <td>Male</td>\n",
       "      <td>0</td>\n",
       "      <td>No</td>\n",
       "      <td>No</td>\n",
       "      <td>34</td>\n",
       "      <td>Yes</td>\n",
       "      <td>No</td>\n",
       "      <td>DSL</td>\n",
       "      <td>Yes</td>\n",
       "      <td>...</td>\n",
       "      <td>Yes</td>\n",
       "      <td>No</td>\n",
       "      <td>No</td>\n",
       "      <td>No</td>\n",
       "      <td>One year</td>\n",
       "      <td>No</td>\n",
       "      <td>Mailed check</td>\n",
       "      <td>56.95</td>\n",
       "      <td>1889.50</td>\n",
       "      <td>No</td>\n",
       "    </tr>\n",
       "    <tr>\n",
       "      <th>2</th>\n",
       "      <td>3668-QPYBK</td>\n",
       "      <td>Male</td>\n",
       "      <td>0</td>\n",
       "      <td>No</td>\n",
       "      <td>No</td>\n",
       "      <td>2</td>\n",
       "      <td>Yes</td>\n",
       "      <td>No</td>\n",
       "      <td>DSL</td>\n",
       "      <td>Yes</td>\n",
       "      <td>...</td>\n",
       "      <td>No</td>\n",
       "      <td>No</td>\n",
       "      <td>No</td>\n",
       "      <td>No</td>\n",
       "      <td>Month-to-month</td>\n",
       "      <td>Yes</td>\n",
       "      <td>Mailed check</td>\n",
       "      <td>53.85</td>\n",
       "      <td>108.15</td>\n",
       "      <td>Yes</td>\n",
       "    </tr>\n",
       "    <tr>\n",
       "      <th>3</th>\n",
       "      <td>7795-CFOCW</td>\n",
       "      <td>Male</td>\n",
       "      <td>0</td>\n",
       "      <td>No</td>\n",
       "      <td>No</td>\n",
       "      <td>45</td>\n",
       "      <td>No</td>\n",
       "      <td>No phone service</td>\n",
       "      <td>DSL</td>\n",
       "      <td>Yes</td>\n",
       "      <td>...</td>\n",
       "      <td>Yes</td>\n",
       "      <td>Yes</td>\n",
       "      <td>No</td>\n",
       "      <td>No</td>\n",
       "      <td>One year</td>\n",
       "      <td>No</td>\n",
       "      <td>Bank transfer (automatic)</td>\n",
       "      <td>42.30</td>\n",
       "      <td>1840.75</td>\n",
       "      <td>No</td>\n",
       "    </tr>\n",
       "    <tr>\n",
       "      <th>4</th>\n",
       "      <td>9237-HQITU</td>\n",
       "      <td>Female</td>\n",
       "      <td>0</td>\n",
       "      <td>No</td>\n",
       "      <td>No</td>\n",
       "      <td>2</td>\n",
       "      <td>Yes</td>\n",
       "      <td>No</td>\n",
       "      <td>Fiber optic</td>\n",
       "      <td>No</td>\n",
       "      <td>...</td>\n",
       "      <td>No</td>\n",
       "      <td>No</td>\n",
       "      <td>No</td>\n",
       "      <td>No</td>\n",
       "      <td>Month-to-month</td>\n",
       "      <td>Yes</td>\n",
       "      <td>Electronic check</td>\n",
       "      <td>70.70</td>\n",
       "      <td>151.65</td>\n",
       "      <td>Yes</td>\n",
       "    </tr>\n",
       "  </tbody>\n",
       "</table>\n",
       "<p>5 rows × 21 columns</p>\n",
       "</div>"
      ],
      "text/plain": [
       "   customerID  gender  SeniorCitizen Partner Dependents  tenure PhoneService  \\\n",
       "0  7590-VHVEG  Female              0     Yes         No       1           No   \n",
       "1  5575-GNVDE    Male              0      No         No      34          Yes   \n",
       "2  3668-QPYBK    Male              0      No         No       2          Yes   \n",
       "3  7795-CFOCW    Male              0      No         No      45           No   \n",
       "4  9237-HQITU  Female              0      No         No       2          Yes   \n",
       "\n",
       "      MultipleLines InternetService OnlineSecurity  ... DeviceProtection  \\\n",
       "0  No phone service             DSL             No  ...               No   \n",
       "1                No             DSL            Yes  ...              Yes   \n",
       "2                No             DSL            Yes  ...               No   \n",
       "3  No phone service             DSL            Yes  ...              Yes   \n",
       "4                No     Fiber optic             No  ...               No   \n",
       "\n",
       "  TechSupport StreamingTV StreamingMovies        Contract PaperlessBilling  \\\n",
       "0          No          No              No  Month-to-month              Yes   \n",
       "1          No          No              No        One year               No   \n",
       "2          No          No              No  Month-to-month              Yes   \n",
       "3         Yes          No              No        One year               No   \n",
       "4          No          No              No  Month-to-month              Yes   \n",
       "\n",
       "               PaymentMethod MonthlyCharges  TotalCharges  Churn  \n",
       "0           Electronic check          29.85         29.85     No  \n",
       "1               Mailed check          56.95       1889.50     No  \n",
       "2               Mailed check          53.85        108.15    Yes  \n",
       "3  Bank transfer (automatic)          42.30       1840.75     No  \n",
       "4           Electronic check          70.70        151.65    Yes  \n",
       "\n",
       "[5 rows x 21 columns]"
      ]
     },
     "execution_count": 2,
     "metadata": {},
     "output_type": "execute_result"
    }
   ],
   "source": [
    "import pandas as pd\n",
    "import numpy as np\n",
    "from sklearn.preprocessing import StandardScaler\n",
    "\n",
    "df = pd.read_csv('churn_ibm.csv')\n",
    "df.head()"
   ]
  },
  {
   "cell_type": "markdown",
   "id": "4f3c9709",
   "metadata": {},
   "source": [
    "You already know our usual pre-processing steps by now, right?"
   ]
  },
  {
   "cell_type": "code",
   "execution_count": 11,
   "id": "63de1422",
   "metadata": {},
   "outputs": [],
   "source": [
    "y = df[\"Churn\"]\n",
    "X = df.drop([\"Churn\", \"customerID\"], axis=1)\n",
    "\n",
    "for column in X.columns:\n",
    "    if X[column].dtype == object:\n",
    "        X = pd.concat(\n",
    "            [X, pd.get_dummies(X[column], prefix=column, drop_first=True)], axis=1\n",
    "        ).drop([column], axis=1)\n",
    "\n",
    "# Also for neural networks, it's best to scale the input variables. In contrast to decision trees with which,\n",
    "# we've analysed churn data in the past, ANNs are more sensitive to scaling issues.\n",
    "\n",
    "X = StandardScaler().fit_transform(X)\n",
    "y = pd.get_dummies(y, prefix=\"churn\", drop_first=True)"
   ]
  },
  {
   "cell_type": "code",
   "execution_count": 12,
   "id": "fa19b264",
   "metadata": {},
   "outputs": [],
   "source": [
    "from sklearn.model_selection import train_test_split\n",
    "from sklearn.metrics import accuracy_score, roc_auc_score\n",
    "\n",
    "X_train, X_test, y_train, y_test = train_test_split(X, y, test_size = 0.3)"
   ]
  },
  {
   "cell_type": "markdown",
   "id": "7539599c",
   "metadata": {},
   "source": [
    "# Section 1 - Demo: Building a two-layer feed-forward ANN\n",
    "\n",
    "We'll now build a neural network with two hidden layers using Keras. Have a look at the implementation example [here](https://keras.io/guides/sequential_model/).\n",
    "\n",
    "Notice when we can use the sequential model structure:\n",
    "- we have one input (our dataframe X)\n",
    "- we have one output (our data vector y)\n",
    "\n",
    "The code example shows you exactly how to build layers. If we want to build a model with three layers, the example suggests to write \n",
    "\n",
    "`model = keras.Sequential(\n",
    "    [\n",
    "        layers.Dense(2, activation=\"relu\", name=\"layer1\"),\n",
    "        layers.Dense(3, activation=\"relu\", name=\"layer2\"),\n",
    "        layers.Dense(4, name=\"layer3\"),\n",
    "    ]\n",
    ")`\n",
    "\n",
    "You define each layer in terms of the number of neurons it has (here: 2, 3 and 4), whether it is a dense layer (that is, each neuron in the previous layer is connected with each neuron in the next layer), and its activation function (here, relu). Pretty straightforward, right? \n",
    "\n",
    "The model can be built in one go, or you can use the add() function to add layers sequentially if you prefer. I will demonstrate the sequential way below.\n",
    "\n",
    "Note that you have to specify the shape of the input and output in your network. The example on the website does that a bit later. For our example, the shapes are 'X_train.shape[1]' and 'y_train.shape[1]'.\n",
    "\n",
    "**DEMO**\n",
    "\n",
    "For this example, I will demonstrate one way of building a two layer neural network for our churn data. You can use this example for the later tasks where you will have to build them yourself. If you would prefer to try it yourself instead of seeing my example, just skip the following cells."
   ]
  },
  {
   "cell_type": "code",
   "execution_count": 13,
   "id": "3018a5bc",
   "metadata": {},
   "outputs": [
    {
     "name": "stdout",
     "output_type": "stream",
     "text": [
      "Input dimension:  30\n",
      "Output dimension:  1\n"
     ]
    }
   ],
   "source": [
    "import tensorflow as tf\n",
    "import keras\n",
    "from keras import layers\n",
    "\n",
    "from keras.models import Sequential\n",
    "from keras.layers import Dense, Activation\n",
    "\n",
    "# I save input and output dim as variables, because that makes it easier to read the code\n",
    "input_dim = X_train.shape[1]\n",
    "output_dim = y_train.shape[1]\n",
    "print('Input dimension: ', input_dim)\n",
    "print('Output dimension: ', output_dim)\n",
    "\n",
    "# Create a model instance (Sequential, as we add each layer in order of appearance)\n",
    "model = Sequential()\n",
    "\n",
    "# Add the input layer and connect to 50 hidden neurons; this is your first hidden layer\n",
    "model.add(Dense(50,input_dim=input_dim))\n",
    "\n",
    "# Connect the neurons to the next 50 neurons; this is your second hidden layer\n",
    "model.add(Dense(50))\n",
    "\n",
    "# Connect the previous layer to the output layer; note we specify the output dimensions here (the dimension of our y)\n",
    "# and we use a sigmoid activation function here because that allows us the binary classification for our example\n",
    "model.add(Dense(output_dim, activation='sigmoid'))\n",
    "\n",
    "# Create the model with an optimizer, loss function, and evaluation metric.\n",
    "model.compile(optimizer='sgd',loss='binary_crossentropy',metrics=['accuracy'])\n",
    "\n",
    "# We'll make some changes to these later, but for now we use Stochastic Gradient Descent (SGD) as an optimizer,\n",
    "# cross entropy as a cost function (remember that we are classifying, so cross entropy is appropriate here;\n",
    "# in a regression problem you would want to use for example MeanSquaredError) \n",
    "# and we want the network to be evaluated by its accuracy (other choices would be for example recall or \n",
    "# precision)"
   ]
  },
  {
   "cell_type": "code",
   "execution_count": 14,
   "id": "40e9a7df",
   "metadata": {},
   "outputs": [
    {
     "name": "stdout",
     "output_type": "stream",
     "text": [
      "Model: \"sequential\"\n",
      "_________________________________________________________________\n",
      " Layer (type)                Output Shape              Param #   \n",
      "=================================================================\n",
      " dense (Dense)               (None, 50)                1550      \n",
      "                                                                 \n",
      " dense_1 (Dense)             (None, 50)                2550      \n",
      "                                                                 \n",
      " dense_2 (Dense)             (None, 1)                 51        \n",
      "                                                                 \n",
      "=================================================================\n",
      "Total params: 4151 (16.21 KB)\n",
      "Trainable params: 4151 (16.21 KB)\n",
      "Non-trainable params: 0 (0.00 Byte)\n",
      "_________________________________________________________________\n",
      "154/154 [==============================] - 1s 2ms/step - loss: 0.5230 - accuracy: 0.7328\n"
     ]
    },
    {
     "data": {
      "text/plain": [
       "<keras.src.callbacks.History at 0x7f336de0c100>"
      ]
     },
     "execution_count": 14,
     "metadata": {},
     "output_type": "execute_result"
    }
   ],
   "source": [
    "# fit the above specified model with the training data\n",
    "model.summary()\n",
    "model.fit(X_train,y_train)"
   ]
  },
  {
   "cell_type": "markdown",
   "id": "f02ebb7b",
   "metadata": {},
   "source": [
    "The first part of the output shows the structure of your network: You'll see that we have two dense hidden layers with 50 nodes each, as well as one output layer of size 1 which has a sigmoid activation function to transform our output into probabilities.\n",
    "\n",
    "The total number of parameters that the model has to estimate is 4,151"
   ]
  },
  {
   "cell_type": "code",
   "execution_count": 20,
   "id": "ebc976b6",
   "metadata": {},
   "outputs": [
    {
     "name": "stdout",
     "output_type": "stream",
     "text": [
      "66/66 [==============================] - 0s 1ms/step\n",
      "[[0.19694075]\n",
      " [0.46259588]\n",
      " [0.07692411]\n",
      " ...\n",
      " [0.46841094]\n",
      " [0.05810777]\n",
      " [0.14887425]]\n",
      "[[0]\n",
      " [0]\n",
      " [0]\n",
      " ...\n",
      " [0]\n",
      " [0]\n",
      " [0]]\n"
     ]
    }
   ],
   "source": [
    "# Test the model on our test data and obtain the results as predicted probabilities\n",
    "prediction_prob = model.predict(X_test)\n",
    "print(prediction_prob)\n",
    "\n",
    "# Also obtain the results as a class (here 0/1)\n",
    "classes=(prediction_prob > 0.5).astype(\"int32\")\n",
    "print(classes)"
   ]
  },
  {
   "cell_type": "code",
   "execution_count": 22,
   "id": "ed7dc6ed",
   "metadata": {},
   "outputs": [
    {
     "name": "stdout",
     "output_type": "stream",
     "text": [
      "Accuracy: 0.8009478672985783\n",
      "AUC: 0.8424326259415186\n"
     ]
    }
   ],
   "source": [
    "# Print our test accuracy and model AUC\n",
    "print('Accuracy:', accuracy_score(y_test,classes))\n",
    "print('AUC:',roc_auc_score(y_test,prediction_prob))"
   ]
  },
  {
   "cell_type": "markdown",
   "id": "11eee597",
   "metadata": {},
   "source": [
    "The example above demonstrates how to build quite a complex model, but you can see how easy it is using Keras. Let's use this as a basis for the following exercise.\n",
    "\n",
    "# Section 2: Experimenting with Kernels and activation functions\n",
    "\n",
    "We've discussed in class that one of the advantages of neural networks lies in their ability to capture nonlinearity. We'll see that in action now as we try to classify a circular dataset.\n",
    "\n",
    "For that we will use kernels to capture nonlinearity. You've seen this work before in Support Vector Machines. I like to imagine kernels as a way to \"push\" data into other feature spaces to allow us to separate it. The Wikipedia article on kernel machines (https://en.wikipedia.org/wiki/Kernel_method) has a very intuitive picture for that process: if we have a scatterplot in two dimensions, we can \"push\" a kernel through that cloud of dots in order to separate them. Points of one class are suddenly pushed upwards into the new dimension as they are \"on top\" of the kernel shape. We are expanding the dimensions by one using the kernel and can now find a linear classifier that cuts through the kernel, separating the points \"on top\" from those \"on the bottom\". Different kernel shapes exist for different scenarios.\n",
    "\n",
    "### 2.1 Creating data\n",
    "\n",
    "Let's generate some data to see how this same trick is applied in neural networks."
   ]
  },
  {
   "cell_type": "code",
   "execution_count": 9,
   "id": "ba3125f3",
   "metadata": {},
   "outputs": [
    {
     "name": "stdout",
     "output_type": "stream",
     "text": [
      "          x         y  label\n",
      "0 -0.644237 -0.499223      1\n",
      "1 -0.731903  0.306556      1\n",
      "2  0.831473  0.289985      1\n",
      "3 -0.686173 -0.415812      1\n",
      "4 -0.720533  0.293860      1\n"
     ]
    },
    {
     "data": {
      "image/png": "[encoded data removed]",
      "text/plain": [
       "<Figure size 640x480 with 1 Axes>"
      ]
     },
     "metadata": {},
     "output_type": "display_data"
    }
   ],
   "source": [
    "import pandas as pd\n",
    "import numpy as np\n",
    "from sklearn.datasets import make_circles, make_checkerboard\n",
    "import matplotlib.pyplot as plt\n",
    "\n",
    "# scikit-learn offers a method to create a dataset perfect for this task by using make_circles\n",
    "X, y = make_circles(n_samples=1000, noise=0.05)\n",
    "\n",
    "df = pd.DataFrame(dict(x=X[:,0], y=X[:,1], label=y))\n",
    "colors = {0:'red', 1:'blue'}\n",
    "\n",
    "print(df.head())\n",
    "\n",
    "# Plotting the dataset\n",
    "fig, ax = plt.subplots()\n",
    "grouped = df.groupby('label')\n",
    "for key, group in grouped:\n",
    "    group.plot(ax=ax, kind='scatter', x='x', y='y', label=key, color=colors[key])\n",
    "plt.show()"
   ]
  },
  {
   "cell_type": "markdown",
   "id": "51b0d432",
   "metadata": {},
   "source": [
    "You can see that this will be a tricky example for any linear classifier. There's no way of drawing a line through this space to separate the two classes. A SVM might work well and, as we will see in this example, a neural network handles it well too.\n",
    "\n",
    "Let's split our data as usual."
   ]
  },
  {
   "cell_type": "code",
   "execution_count": 10,
   "id": "bfb61fa0",
   "metadata": {},
   "outputs": [],
   "source": [
    "from sklearn.model_selection import train_test_split\n",
    "from sklearn.metrics import accuracy_score, roc_auc_score\n",
    "\n",
    "X_train, X_test, y_train, y_test = train_test_split(X, y, test_size = 0.3)"
   ]
  },
  {
   "cell_type": "markdown",
   "id": "f415d446",
   "metadata": {},
   "source": [
    "### 2.2 Neural Network with linear Kernel\n",
    "\n",
    "Now, we create a neural network with two hidden layers (just like before) but now, instead of just using a sigmoid layer at the very end, we are adding linear layers to the network. This will help us understand how well a binary classifier would work for the data earlier.\n",
    "\n",
    "The other thing I would like you to try here is to run multiple epochs. One epoch refers to one complete run of the whole training dataset through the network. You'll remember that we're running through forward once and then backward once to update our weights and biases (backpropagation). When we've completed that cycle, we've run one epoch. Running multiple epochs (by then pushing the same data through again) can improve the performance of your network, so it's common to run at least a few. You can specify this in the model.fit() function.\n",
    "\n",
    "**TASK**\n",
    "- Build a neural network with two hidden layers like in Section 1\n",
    "- But: Use a linear activation function in each hidden layer\n",
    "- Use a sigmoid activation function in the last layer to get a probability outcome for binary classification\n",
    "- Run the model for 100 epochs\n",
    "- Calculate accuracy/AUC"
   ]
  },
  {
   "cell_type": "code",
   "execution_count": 1,
   "id": "57037c51",
   "metadata": {},
   "outputs": [],
   "source": [
    "# YOUR CODE HERE"
   ]
  },
  {
   "cell_type": "markdown",
   "id": "2587109b",
   "metadata": {},
   "source": [
    "You will hopefully notice that your model does not perform well. This is to be expected: We are de facto trying to fit a linear classifier to the data, which we could clearly see in our plot is not linearly dividable. \n",
    "\n",
    "So, let's try this again. But this time, we will use a different kernel.\n",
    "\n",
    "### 2.3 Neural network with ReLu activation function\n",
    "\n",
    "There's a lot of different activation function to choose from. You can find them in the Keras documentation [here](https://keras.io/api/layers/activations/). We've already seen sigmoid and linear in action. This time, we will use a ReLU function in the hidden layers and a sigmoid function in the output layer.\n",
    "\n",
    "**TASK**\n",
    "\n",
    "Repeat the model from 2.2, but change the activation functions:\n",
    "- ReLU function in hidden layers\n",
    "- sigmoid function in output layer\n",
    "\n",
    "Compare the model performance to the model in 2.2"
   ]
  },
  {
   "cell_type": "code",
   "execution_count": 2,
   "id": "ac3fe95d",
   "metadata": {},
   "outputs": [],
   "source": [
    "# YOUR CODE HERE"
   ]
  },
  {
   "cell_type": "markdown",
   "id": "c5eecd73",
   "metadata": {},
   "source": [
    "What do you find? You might notice that your ReLU Kernel is doing marginally better than the linear one. Mine does reasonably well (accuracy around 80%) as long as I run the model multiple epochs (around 100). You can experiment with the impact that activation function and number of epochs has on your model performancae."
   ]
  },
  {
   "cell_type": "markdown",
   "id": "e14e32f5",
   "metadata": {},
   "source": [
    "# Section 3: Building neural networks for regression\n",
    "\n",
    "So far we have focused on classification into two classes with neural networks. Now, we will look at the use of neural networks for regression problems. We're going back to our diabetes progression dataset that we've seen in our regression tree building. \n",
    "\n",
    "We will also talk about learning rate - one of the parameters that you can choose in building your network. The learning rate refers to how strongly the model is changed during each of the weights/biases update step of backpropagation. We'll talk about it more later in this script."
   ]
  },
  {
   "cell_type": "code",
   "execution_count": 90,
   "id": "43f63492",
   "metadata": {},
   "outputs": [],
   "source": [
    "import pandas as pd\n",
    "import numpy as np\n",
    "from sklearn.datasets import load_diabetes\n",
    "from sklearn.preprocessing import StandardScaler\n",
    "\n",
    "dataset = load_diabetes()\n",
    "\n",
    "X = pd.DataFrame(data=dataset['data'],columns=dataset['feature_names'])\n",
    "\n",
    "y = pd.DataFrame(data=dataset['target'],columns=['progression'])"
   ]
  },
  {
   "cell_type": "code",
   "execution_count": 91,
   "id": "7f0bd6f9",
   "metadata": {},
   "outputs": [
    {
     "name": "stderr",
     "output_type": "stream",
     "text": [
      "/opt/conda/lib/python3.9/site-packages/sklearn/base.py:432: UserWarning: X has feature names, but StandardScaler was fitted without feature names\n",
      "  warnings.warn(\n"
     ]
    }
   ],
   "source": [
    "from sklearn.model_selection import train_test_split\n",
    "\n",
    "X_train, X_test, y_train, y_test = train_test_split(X, y, test_size = 0.3)\n",
    "\n",
    "# Scale the training and the test data\n",
    "X_train = StandardScaler().fit_transform(X_train)\n",
    "X_test = StandardScaler().fit(X_train).transform(X_test)\n"
   ]
  },
  {
   "cell_type": "markdown",
   "id": "12e7ad91",
   "metadata": {},
   "source": [
    "The main difference in building a regression neural network versus a classification one is 1) how we choose the activation functions and 2) how we choose the loss function.\n",
    "\n",
    "Regarding 1), we don't need the sigmoid function for the binary classification anymore. And regarding 2) remember that in Section 2 we used binary_crossentropy for loss. This time we obtain a metric that can be used for regression, the mean squared error, instead. We also use this as a metric for reporting, instead of accuracy. You can calculate it using the mean_squared_error function in sklearn.metrics, as we've done before.\n",
    "\n",
    "Just to learn something new we now also use a different optimiser (instead of stochastic gradient descent) which works better in this instance and run just 10 epochs to save computing time. You can read more about different optimizers [here](https://keras.io/api/optimizers/) if you're curious.\n",
    "\n",
    "**TASK**\n",
    "\n",
    "- Build a neural network with one hidden layer to predict y\n",
    "- Choose mean squared error for the loss function and performance outcome\n",
    "- Use 'adam' as the optimizer for the model instead of 'sgd'\n",
    "- Run the model for 10 epochs\n",
    "\n",
    "Note that our `output_dim = 1` as we are predicting a single real number per observation.\n"
   ]
  },
  {
   "cell_type": "code",
   "execution_count": 3,
   "id": "1bdaa58a",
   "metadata": {},
   "outputs": [],
   "source": [
    "# YOUR CODE HERE"
   ]
  },
  {
   "cell_type": "markdown",
   "id": "ad754f3f",
   "metadata": {},
   "source": [
    "Take a look at the output of the model and how it shows for each epoch how the mean squared error is decreasing. You can watch how the model is learning each round it runs."
   ]
  },
  {
   "cell_type": "markdown",
   "id": "9f824b43",
   "metadata": {},
   "source": [
    "# Section 4: Feature importance\n",
    "\n",
    "Remember that in the lecture we said that neural networks are great, but they are quite black box models. That means, it's not immediately clear how they reach a certain conclusion and interpreting them is difficult.\n",
    "\n",
    "One way of getting at least some clarity is by looking at the feature importance. This tells you which variable impacted the predicted output the most, i.e. on which variable the neural network relied more or less to reach its conclusion.\n",
    "\n",
    "**OPTIONAL TASK**\n",
    "\n",
    "Look into the [eli5](https://eli5.readthedocs.io/en/latest/blackbox/permutation_importance.html) package for calculating feature importance. You can try implementing it below for our first model on customer churn (Section 1) or for the diabetes example (Section 3). The main difference will be the scoring function which you should use. Remember that the first example was a classification task, while the second was a regression task."
   ]
  },
  {
   "cell_type": "code",
   "execution_count": null,
   "id": "23aa57e8",
   "metadata": {},
   "outputs": [],
   "source": [
    "# YOUR CODE HERE"
   ]
  }
 ],
 "metadata": {
  "kernelspec": {
   "display_name": "Python 3 (ipykernel)",
   "language": "python",
   "name": "python3"
  },
  "language_info": {
   "codemirror_mode": {
    "name": "ipython",
    "version": 3
   },
   "file_extension": ".py",
   "mimetype": "text/x-python",
   "name": "python",
   "nbconvert_exporter": "python",
   "pygments_lexer": "ipython3",
   "version": "3.11.2"
  }
 },
 "nbformat": 4,
 "nbformat_minor": 5
}
