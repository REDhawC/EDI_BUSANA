{
 "cells": [
  {
   "cell_type": "code",
   "execution_count": 55,
   "metadata": {},
   "outputs": [],
   "source": [
    "import requests\n",
    "\n",
    "import pandas as pd\n",
    "\n",
    "import gender_guesser.detector as gender\n",
    "import plotly.express as px"
   ]
  },
  {
   "cell_type": "code",
   "execution_count": 56,
   "metadata": {},
   "outputs": [],
   "source": [
    "def call_api_with(url_extension):\n",
    "    your_company_house_api_key = \"9ca44c28-e54d-4c26-9bf7-6c766c53c054\"\n",
    "\n",
    "    login_headers = {\"Authorization\": your_company_house_api_key}\n",
    "    url = f\"https://api.companieshouse.gov.uk/{url_extension}\"\n",
    "    # above: could be eg. https://api.companieshouse.gov.uk/search/companies?q=shop&items_per_page=1\n",
    "    print(f\"requesting: {url}\")\n",
    "    # above, optional: printing, so that you see visually how many calls you are making\n",
    "    res = requests.get(url, headers=login_headers)  # , verify=False)\n",
    "    return res.json()\n",
    "\n",
    "\n",
    "def all_officers_in_company(company_number):\n",
    "    url = f\"company/{company_number}/officers\"\n",
    "\n",
    "    return call_api_with(url).get(\"items\", [])"
   ]
  },
  {
   "cell_type": "code",
   "execution_count": 57,
   "metadata": {},
   "outputs": [
    {
     "data": {
      "text/html": [
       "<div>\n",
       "<style scoped>\n",
       "    .dataframe tbody tr th:only-of-type {\n",
       "        vertical-align: middle;\n",
       "    }\n",
       "\n",
       "    .dataframe tbody tr th {\n",
       "        vertical-align: top;\n",
       "    }\n",
       "\n",
       "    .dataframe thead th {\n",
       "        text-align: right;\n",
       "    }\n",
       "</style>\n",
       "<table border=\"1\" class=\"dataframe\">\n",
       "  <thead>\n",
       "    <tr style=\"text-align: right;\">\n",
       "      <th></th>\n",
       "      <th>company_name</th>\n",
       "      <th>company_number</th>\n",
       "      <th>total_funding</th>\n",
       "    </tr>\n",
       "  </thead>\n",
       "  <tbody>\n",
       "    <tr>\n",
       "      <th>0</th>\n",
       "      <td>LENDINVEST PLC</td>\n",
       "      <td>08146929</td>\n",
       "      <td>2200000000</td>\n",
       "    </tr>\n",
       "    <tr>\n",
       "      <th>1</th>\n",
       "      <td>PRODIGY FINANCE LTD</td>\n",
       "      <td>05912562</td>\n",
       "      <td>2100000000</td>\n",
       "    </tr>\n",
       "    <tr>\n",
       "      <th>2</th>\n",
       "      <td>SUMUP PAYMENTS LIMITED</td>\n",
       "      <td>07836562</td>\n",
       "      <td>2000000000</td>\n",
       "    </tr>\n",
       "    <tr>\n",
       "      <th>3</th>\n",
       "      <td>CHECKOUT LTD</td>\n",
       "      <td>08037323</td>\n",
       "      <td>1800000000</td>\n",
       "    </tr>\n",
       "    <tr>\n",
       "      <th>4</th>\n",
       "      <td>REVOLUT LTD</td>\n",
       "      <td>08804411</td>\n",
       "      <td>1700000000</td>\n",
       "    </tr>\n",
       "    <tr>\n",
       "      <th>5</th>\n",
       "      <td>WISE PLC</td>\n",
       "      <td>13211214</td>\n",
       "      <td>1700000000</td>\n",
       "    </tr>\n",
       "    <tr>\n",
       "      <th>6</th>\n",
       "      <td>LENDABLE LTD</td>\n",
       "      <td>08828186</td>\n",
       "      <td>1600000000</td>\n",
       "    </tr>\n",
       "    <tr>\n",
       "      <th>7</th>\n",
       "      <td>LANDBAY PARTNERS LIMITED</td>\n",
       "      <td>08668507</td>\n",
       "      <td>1600000000</td>\n",
       "    </tr>\n",
       "    <tr>\n",
       "      <th>8</th>\n",
       "      <td>FNZ (UK) LTD</td>\n",
       "      <td>05435760</td>\n",
       "      <td>1400000000</td>\n",
       "    </tr>\n",
       "    <tr>\n",
       "      <th>9</th>\n",
       "      <td>CURVE UK LIMITED</td>\n",
       "      <td>09523903</td>\n",
       "      <td>1200000000</td>\n",
       "    </tr>\n",
       "  </tbody>\n",
       "</table>\n",
       "</div>"
      ],
      "text/plain": [
       "               company_name company_number  total_funding\n",
       "0            LENDINVEST PLC       08146929     2200000000\n",
       "1       PRODIGY FINANCE LTD       05912562     2100000000\n",
       "2    SUMUP PAYMENTS LIMITED       07836562     2000000000\n",
       "3              CHECKOUT LTD       08037323     1800000000\n",
       "4               REVOLUT LTD       08804411     1700000000\n",
       "5                  WISE PLC       13211214     1700000000\n",
       "6              LENDABLE LTD       08828186     1600000000\n",
       "7  LANDBAY PARTNERS LIMITED       08668507     1600000000\n",
       "8              FNZ (UK) LTD       05435760     1400000000\n",
       "9          CURVE UK LIMITED       09523903     1200000000"
      ]
     },
     "execution_count": 57,
     "metadata": {},
     "output_type": "execute_result"
    }
   ],
   "source": [
    "top10FintechCompanies = pd.read_csv(\n",
    "    \"https://raw.githubusercontent.com/REDhawC/EDI_BUSANA/master/Python_programming/Assignment/Final_ASM/TOP10_Fintech_Companies.csv\"\n",
    ")\n",
    "\n",
    "top10FintechCompanies = top10FintechCompanies.drop(columns=[\"Unnamed: 3\"])\n",
    "# Convert 'company_number' to string and pad with '0' to a length of 8\n",
    "top10FintechCompanies['company_number'] = top10FintechCompanies['company_number'].astype(str).str.zfill(8)\n",
    "\n",
    "# Display the first few rows of the DataFrame\n",
    "top10FintechCompanies"
   ]
  },
  {
   "cell_type": "code",
   "execution_count": 58,
   "metadata": {},
   "outputs": [
    {
     "name": "stdout",
     "output_type": "stream",
     "text": [
      "requesting: https://api.companieshouse.gov.uk/company/08146929/officers\n",
      "requesting: https://api.companieshouse.gov.uk/company/05912562/officers\n",
      "requesting: https://api.companieshouse.gov.uk/company/07836562/officers\n",
      "requesting: https://api.companieshouse.gov.uk/company/08037323/officers\n",
      "requesting: https://api.companieshouse.gov.uk/company/08804411/officers\n",
      "requesting: https://api.companieshouse.gov.uk/company/13211214/officers\n",
      "requesting: https://api.companieshouse.gov.uk/company/08828186/officers\n",
      "requesting: https://api.companieshouse.gov.uk/company/08668507/officers\n",
      "requesting: https://api.companieshouse.gov.uk/company/05435760/officers\n",
      "requesting: https://api.companieshouse.gov.uk/company/09523903/officers\n"
     ]
    },
    {
     "data": {
      "text/html": [
       "<div>\n",
       "<style scoped>\n",
       "    .dataframe tbody tr th:only-of-type {\n",
       "        vertical-align: middle;\n",
       "    }\n",
       "\n",
       "    .dataframe tbody tr th {\n",
       "        vertical-align: top;\n",
       "    }\n",
       "\n",
       "    .dataframe thead th {\n",
       "        text-align: right;\n",
       "    }\n",
       "</style>\n",
       "<table border=\"1\" class=\"dataframe\">\n",
       "  <thead>\n",
       "    <tr style=\"text-align: right;\">\n",
       "      <th></th>\n",
       "      <th>company_name</th>\n",
       "      <th>company_number</th>\n",
       "      <th>total_funding</th>\n",
       "      <th>officers_info</th>\n",
       "    </tr>\n",
       "  </thead>\n",
       "  <tbody>\n",
       "    <tr>\n",
       "      <th>0</th>\n",
       "      <td>LENDINVEST PLC</td>\n",
       "      <td>08146929</td>\n",
       "      <td>2200000000</td>\n",
       "      <td>[{'name': 'INDIGO CORPORATE SECRETARY LIMITED'...</td>\n",
       "    </tr>\n",
       "    <tr>\n",
       "      <th>1</th>\n",
       "      <td>PRODIGY FINANCE LTD</td>\n",
       "      <td>05912562</td>\n",
       "      <td>2100000000</td>\n",
       "      <td>[{'name': 'BARNARD, Nicolaas Everhardus', 'ide...</td>\n",
       "    </tr>\n",
       "    <tr>\n",
       "      <th>2</th>\n",
       "      <td>SUMUP PAYMENTS LIMITED</td>\n",
       "      <td>07836562</td>\n",
       "      <td>2000000000</td>\n",
       "      <td>[{'name': 'BYRNE, Catriona', 'identification':...</td>\n",
       "    </tr>\n",
       "    <tr>\n",
       "      <th>3</th>\n",
       "      <td>CHECKOUT LTD</td>\n",
       "      <td>08037323</td>\n",
       "      <td>1800000000</td>\n",
       "      <td>[{'name': 'ASHER, Adrian Charles', 'identifica...</td>\n",
       "    </tr>\n",
       "    <tr>\n",
       "      <th>4</th>\n",
       "      <td>REVOLUT LTD</td>\n",
       "      <td>08804411</td>\n",
       "      <td>1700000000</td>\n",
       "      <td>[{'name': 'HAMBRETT, Thomas Bruce', 'identific...</td>\n",
       "    </tr>\n",
       "  </tbody>\n",
       "</table>\n",
       "</div>"
      ],
      "text/plain": [
       "             company_name company_number  total_funding  \\\n",
       "0          LENDINVEST PLC       08146929     2200000000   \n",
       "1     PRODIGY FINANCE LTD       05912562     2100000000   \n",
       "2  SUMUP PAYMENTS LIMITED       07836562     2000000000   \n",
       "3            CHECKOUT LTD       08037323     1800000000   \n",
       "4             REVOLUT LTD       08804411     1700000000   \n",
       "\n",
       "                                       officers_info  \n",
       "0  [{'name': 'INDIGO CORPORATE SECRETARY LIMITED'...  \n",
       "1  [{'name': 'BARNARD, Nicolaas Everhardus', 'ide...  \n",
       "2  [{'name': 'BYRNE, Catriona', 'identification':...  \n",
       "3  [{'name': 'ASHER, Adrian Charles', 'identifica...  \n",
       "4  [{'name': 'HAMBRETT, Thomas Bruce', 'identific...  "
      ]
     },
     "execution_count": 58,
     "metadata": {},
     "output_type": "execute_result"
    }
   ],
   "source": [
    "# Initialize an empty list to store the officers' information\n",
    "officers_info = []\n",
    "\n",
    "# Iterate over each company number in the DataFrame\n",
    "for companyNum in top10FintechCompanies[\"company_number\"]:\n",
    "    # Get the officers for the current company\n",
    "    officers = all_officers_in_company(companyNum)\n",
    "\n",
    "    # Initialize an empty list to store the current company's officers' information\n",
    "    current_officers_info = []\n",
    "\n",
    "    # Iterate over each officer\n",
    "    for officer in officers:\n",
    "        # Extract the required information and add it to the list\n",
    "        current_officers_info.append(\n",
    "            {\n",
    "                \"name\": officer.get(\"name\"),\n",
    "                \"identification\": officer.get(\"identification\"),\n",
    "                \"nationality\": officer.get(\"nationality\"),\n",
    "            }\n",
    "        )\n",
    "\n",
    "    # Add the current company's officers' information to the list\n",
    "    officers_info.append(current_officers_info)\n",
    "\n",
    "# Add the officers' information to the 'officers_info' column of the DataFrame\n",
    "top10FintechCompanies[\"officers_info\"] = pd.Series(officers_info)\n",
    "\n",
    "# Display the first few rows of the DataFrame\n",
    "top10FintechCompanies.head()"
   ]
  },
  {
   "cell_type": "code",
   "execution_count": 59,
   "metadata": {},
   "outputs": [
    {
     "data": {
      "text/html": [
       "<div>\n",
       "<style scoped>\n",
       "    .dataframe tbody tr th:only-of-type {\n",
       "        vertical-align: middle;\n",
       "    }\n",
       "\n",
       "    .dataframe tbody tr th {\n",
       "        vertical-align: top;\n",
       "    }\n",
       "\n",
       "    .dataframe thead th {\n",
       "        text-align: right;\n",
       "    }\n",
       "</style>\n",
       "<table border=\"1\" class=\"dataframe\">\n",
       "  <thead>\n",
       "    <tr style=\"text-align: right;\">\n",
       "      <th></th>\n",
       "      <th>company_name</th>\n",
       "      <th>company_number</th>\n",
       "      <th>total_funding</th>\n",
       "      <th>officers_info</th>\n",
       "    </tr>\n",
       "  </thead>\n",
       "  <tbody>\n",
       "    <tr>\n",
       "      <th>0</th>\n",
       "      <td>LENDINVEST PLC</td>\n",
       "      <td>08146929</td>\n",
       "      <td>2200000000</td>\n",
       "      <td>[{'name': 'INDIGO CORPORATE SECRETARY LIMITED'...</td>\n",
       "    </tr>\n",
       "    <tr>\n",
       "      <th>1</th>\n",
       "      <td>PRODIGY FINANCE LTD</td>\n",
       "      <td>05912562</td>\n",
       "      <td>2100000000</td>\n",
       "      <td>[{'name': 'BARNARD, Nicolaas Everhardus', 'ide...</td>\n",
       "    </tr>\n",
       "    <tr>\n",
       "      <th>2</th>\n",
       "      <td>SUMUP PAYMENTS LIMITED</td>\n",
       "      <td>07836562</td>\n",
       "      <td>2000000000</td>\n",
       "      <td>[{'name': 'BYRNE, Catriona', 'identification':...</td>\n",
       "    </tr>\n",
       "    <tr>\n",
       "      <th>3</th>\n",
       "      <td>CHECKOUT LTD</td>\n",
       "      <td>08037323</td>\n",
       "      <td>1800000000</td>\n",
       "      <td>[{'name': 'ASHER, Adrian Charles', 'identifica...</td>\n",
       "    </tr>\n",
       "    <tr>\n",
       "      <th>4</th>\n",
       "      <td>REVOLUT LTD</td>\n",
       "      <td>08804411</td>\n",
       "      <td>1700000000</td>\n",
       "      <td>[{'name': 'HAMBRETT, Thomas Bruce', 'identific...</td>\n",
       "    </tr>\n",
       "    <tr>\n",
       "      <th>5</th>\n",
       "      <td>WISE PLC</td>\n",
       "      <td>13211214</td>\n",
       "      <td>1700000000</td>\n",
       "      <td>[{'name': 'FAHEY, Jane', 'identification': Non...</td>\n",
       "    </tr>\n",
       "    <tr>\n",
       "      <th>6</th>\n",
       "      <td>LENDABLE LTD</td>\n",
       "      <td>08828186</td>\n",
       "      <td>1600000000</td>\n",
       "      <td>[{'name': 'BAUM, Jonathan Graydon', 'identific...</td>\n",
       "    </tr>\n",
       "    <tr>\n",
       "      <th>7</th>\n",
       "      <td>LANDBAY PARTNERS LIMITED</td>\n",
       "      <td>08668507</td>\n",
       "      <td>1600000000</td>\n",
       "      <td>[{'name': 'LIFFORD, Michael', 'identification'...</td>\n",
       "    </tr>\n",
       "    <tr>\n",
       "      <th>8</th>\n",
       "      <td>FNZ (UK) LTD</td>\n",
       "      <td>05435760</td>\n",
       "      <td>1400000000</td>\n",
       "      <td>[{'name': 'AUJARD, Christopher Charles', 'iden...</td>\n",
       "    </tr>\n",
       "    <tr>\n",
       "      <th>9</th>\n",
       "      <td>CURVE UK LIMITED</td>\n",
       "      <td>09523903</td>\n",
       "      <td>1200000000</td>\n",
       "      <td>[{'name': 'BIALICK, Shahar', 'identification':...</td>\n",
       "    </tr>\n",
       "  </tbody>\n",
       "</table>\n",
       "</div>"
      ],
      "text/plain": [
       "               company_name company_number  total_funding  \\\n",
       "0            LENDINVEST PLC       08146929     2200000000   \n",
       "1       PRODIGY FINANCE LTD       05912562     2100000000   \n",
       "2    SUMUP PAYMENTS LIMITED       07836562     2000000000   \n",
       "3              CHECKOUT LTD       08037323     1800000000   \n",
       "4               REVOLUT LTD       08804411     1700000000   \n",
       "5                  WISE PLC       13211214     1700000000   \n",
       "6              LENDABLE LTD       08828186     1600000000   \n",
       "7  LANDBAY PARTNERS LIMITED       08668507     1600000000   \n",
       "8              FNZ (UK) LTD       05435760     1400000000   \n",
       "9          CURVE UK LIMITED       09523903     1200000000   \n",
       "\n",
       "                                       officers_info  \n",
       "0  [{'name': 'INDIGO CORPORATE SECRETARY LIMITED'...  \n",
       "1  [{'name': 'BARNARD, Nicolaas Everhardus', 'ide...  \n",
       "2  [{'name': 'BYRNE, Catriona', 'identification':...  \n",
       "3  [{'name': 'ASHER, Adrian Charles', 'identifica...  \n",
       "4  [{'name': 'HAMBRETT, Thomas Bruce', 'identific...  \n",
       "5  [{'name': 'FAHEY, Jane', 'identification': Non...  \n",
       "6  [{'name': 'BAUM, Jonathan Graydon', 'identific...  \n",
       "7  [{'name': 'LIFFORD, Michael', 'identification'...  \n",
       "8  [{'name': 'AUJARD, Christopher Charles', 'iden...  \n",
       "9  [{'name': 'BIALICK, Shahar', 'identification':...  "
      ]
     },
     "execution_count": 59,
     "metadata": {},
     "output_type": "execute_result"
    }
   ],
   "source": [
    "top10FintechCompanies"
   ]
  },
  {
   "cell_type": "code",
   "execution_count": 60,
   "metadata": {},
   "outputs": [
    {
     "data": {
      "text/plain": [
       "[{'name': 'FAES, Christian Edouard',\n",
       "  'identification': None,\n",
       "  'nationality': 'Australian'},\n",
       " {'name': 'JUDD, Penelope Ruth',\n",
       "  'identification': None,\n",
       "  'nationality': 'British'},\n",
       " {'name': 'LOCKHART, Roderick Alexander',\n",
       "  'identification': None,\n",
       "  'nationality': 'British'},\n",
       " {'name': 'MURRAY, Dale Jane',\n",
       "  'identification': None,\n",
       "  'nationality': 'British,New Zealander'},\n",
       " {'name': 'SPENCER, Nina Elizabeth',\n",
       "  'identification': None,\n",
       "  'nationality': 'British'},\n",
       " {'name': 'THOMAS, Ian Edward',\n",
       "  'identification': None,\n",
       "  'nationality': 'English'},\n",
       " {'name': 'WILCKE, Stephan',\n",
       "  'identification': None,\n",
       "  'nationality': 'German,British'},\n",
       " {'name': 'FAES, Christian', 'identification': None, 'nationality': None},\n",
       " {'name': 'PEARSON, Ruth Olivia Blackshaw',\n",
       "  'identification': None,\n",
       "  'nationality': None},\n",
       " {'name': 'BARNES, Christopher James',\n",
       "  'identification': None,\n",
       "  'nationality': 'British'},\n",
       " {'name': 'EVANS, Michael Simon',\n",
       "  'identification': None,\n",
       "  'nationality': 'British'},\n",
       " {'name': 'JEFFREY, Paul Richard Carroll',\n",
       "  'identification': None,\n",
       "  'nationality': 'British'},\n",
       " {'name': 'LJUNGMAN, Mattias Lennart Seve',\n",
       "  'identification': None,\n",
       "  'nationality': 'Swedish'},\n",
       " {'name': 'PANTELI, Angelie',\n",
       "  'identification': None,\n",
       "  'nationality': 'British'},\n",
       " {'name': 'ZHOU, Yahui', 'identification': None, 'nationality': 'Chinese'}]"
      ]
     },
     "execution_count": 60,
     "metadata": {},
     "output_type": "execute_result"
    }
   ],
   "source": [
    "top10FintechCompanies[\"officers_info\"] = top10FintechCompanies[\"officers_info\"].apply(\n",
    "    lambda officers: [\n",
    "        officer for officer in officers if officer[\"identification\"] is None\n",
    "    ]\n",
    ")\n",
    "\n",
    "top10FintechCompanies[\"officers_info\"][0]"
   ]
  },
  {
   "cell_type": "code",
   "execution_count": 61,
   "metadata": {},
   "outputs": [
    {
     "data": {
      "text/plain": [
       "[{'name': 'BARNARD, Nicolaas Everhardus',\n",
       "  'identification': None,\n",
       "  'nationality': 'South African'},\n",
       " {'name': 'DU HECQUET DE RAUVILLE, Nicole',\n",
       "  'identification': None,\n",
       "  'nationality': 'British,South African'},\n",
       " {'name': 'HOPS, Alastair Justin',\n",
       "  'identification': None,\n",
       "  'nationality': 'British'},\n",
       " {'name': 'SETHI, Neha', 'identification': None, 'nationality': 'British'},\n",
       " {'name': 'STEVENS, Cameron',\n",
       "  'identification': None,\n",
       "  'nationality': 'British'},\n",
       " {'name': 'STEELE, Ryan', 'identification': None, 'nationality': None},\n",
       " {'name': 'CLAYTON, John Nicholas Fothergill',\n",
       "  'identification': None,\n",
       "  'nationality': 'British'},\n",
       " {'name': 'DECOTE, Pierre Bernard',\n",
       "  'identification': None,\n",
       "  'nationality': 'French'},\n",
       " {'name': 'KING, Matthew James Wyatt',\n",
       "  'identification': None,\n",
       "  'nationality': 'British'},\n",
       " {'name': 'MORGAN, Alan William',\n",
       "  'identification': None,\n",
       "  'nationality': 'British'},\n",
       " {'name': 'RAO, Rajesh Shankar',\n",
       "  'identification': None,\n",
       "  'nationality': 'American'},\n",
       " {'name': 'STEELE, Ryan Steven',\n",
       "  'identification': None,\n",
       "  'nationality': 'British'},\n",
       " {'name': 'ULLMANN, Michael Philipp',\n",
       "  'identification': None,\n",
       "  'nationality': 'British'},\n",
       " {'name': 'ULLMANN, Michael Philipp',\n",
       "  'identification': None,\n",
       "  'nationality': 'British'},\n",
       " {'name': 'WRAY, Edward James',\n",
       "  'identification': None,\n",
       "  'nationality': 'British'}]"
      ]
     },
     "execution_count": 61,
     "metadata": {},
     "output_type": "execute_result"
    }
   ],
   "source": [
    "top10FintechCompanies[\"officers_info\"][1]"
   ]
  },
  {
   "cell_type": "code",
   "execution_count": 62,
   "metadata": {},
   "outputs": [],
   "source": [
    "# 提取高管姓名的函数\n",
    "def extract_names(officers_list):\n",
    "    return [officer[\"name\"] for officer in officers_list if \"name\" in officer]\n",
    "\n",
    "\n",
    "top10FintechCompanies[\"officer_names\"] = top10FintechCompanies[\"officers_info\"].apply(\n",
    "    extract_names\n",
    ")\n",
    "\n",
    "detector = gender.Detector(case_sensitive=False)\n",
    "\n",
    "\n",
    "def guess_gender(names):\n",
    "    male_count = 0\n",
    "    female_count = 0\n",
    "    for name in names:\n",
    "        if len(name.split(\", \")) > 1:\n",
    "            first_name = name.split(\", \")[1].split()[0]  # 假设名字是逗号后的第一个词\n",
    "            guessed_gender = detector.get_gender(first_name)\n",
    "            if guessed_gender in [\"male\", \"mostly_male\"]:\n",
    "                male_count += 1\n",
    "            elif guessed_gender in [\"female\", \"mostly_female\"]:\n",
    "                female_count += 1\n",
    "    return male_count, female_count\n",
    "\n",
    "\n",
    "(\n",
    "    top10FintechCompanies[\"Male Officers Number\"],\n",
    "    top10FintechCompanies[\"Female Officers Number\"],\n",
    ") = zip(*top10FintechCompanies[\"officer_names\"].apply(guess_gender))"
   ]
  },
  {
   "cell_type": "code",
   "execution_count": 65,
   "metadata": {},
   "outputs": [],
   "source": [
    "# Sort companies by total_funding and assign rankings\n",
    "top10FintechCompanies = top10FintechCompanies.sort_values(\n",
    "    by=\"total_funding\", ascending=False\n",
    ")\n",
    "top10FintechCompanies[\"Rank\"] = range(1, len(top10FintechCompanies) + 1)\n",
    "\n",
    "# Adjust Funding based on the ranking\n",
    "multipliers = {rank: 20 - 2 * (rank - 1) for rank in top10FintechCompanies[\"Rank\"]}\n",
    "top10FintechCompanies[\"Adjusted Funding\"] = (\n",
    "    top10FintechCompanies[\"Rank\"].map(multipliers)\n",
    "    * top10FintechCompanies[\"total_funding\"]\n",
    ")\n",
    "\n",
    "# Calculate the officer percentages\n",
    "top10FintechCompanies[\"Male Officer Percentage\"] = (\n",
    "    top10FintechCompanies[\"Male Officers Number\"]\n",
    "    / (\n",
    "        top10FintechCompanies[\"Male Officers Number\"]\n",
    "        + top10FintechCompanies[\"Female Officers Number\"]\n",
    "    )\n",
    "    * 100\n",
    ")\n",
    "top10FintechCompanies[\"Female Officer Percentage\"] = (\n",
    "    top10FintechCompanies[\"Female Officers Number\"]\n",
    "    / (\n",
    "        top10FintechCompanies[\"Male Officers Number\"]\n",
    "        + top10FintechCompanies[\"Female Officers Number\"]\n",
    "    )\n",
    "    * 100\n",
    ")\n",
    "\n",
    "# Recalculate Funding per officer based on the adjusted funding\n",
    "top10FintechCompanies[\"Funding per Officer\"] = top10FintechCompanies[\n",
    "    \"Adjusted Funding\"\n",
    "] / (\n",
    "    top10FintechCompanies[\"Male Officers Number\"]\n",
    "    + top10FintechCompanies[\"Female Officers Number\"]\n",
    ")\n",
    "\n",
    "# Create separate data for male and female officers\n",
    "male_data = top10FintechCompanies[\n",
    "    [\"company_name\", \"Male Officers Number\", \"Funding per Officer\"]\n",
    "].copy()\n",
    "male_data[\"Funding\"] = (\n",
    "    male_data[\"Male Officers Number\"] * male_data[\"Funding per Officer\"]\n",
    ")\n",
    "male_data[\"Gender\"] = \"Male\"\n",
    "male_data[\"Percentage\"] = top10FintechCompanies[\"Male Officer Percentage\"]\n",
    "\n",
    "female_data = top10FintechCompanies[\n",
    "    [\"company_name\", \"Female Officers Number\", \"Funding per Officer\"]\n",
    "].copy()\n",
    "female_data[\"Funding\"] = (\n",
    "    female_data[\"Female Officers Number\"] * female_data[\"Funding per Officer\"]\n",
    ")\n",
    "female_data[\"Gender\"] = \"Female\"\n",
    "female_data[\"Percentage\"] = top10FintechCompanies[\"Female Officer Percentage\"]\n",
    "\n",
    "# Combine male and female data\n",
    "nested_data = pd.concat([male_data, female_data], ignore_index=True)\n",
    "\n",
    "# You can now use nested_data to create a treemap\n",
    "# ... [Treemap creation code] ..."
   ]
  },
  {
   "cell_type": "code",
   "execution_count": 66,
   "metadata": {},
   "outputs": [
    {
     "data": {
      "application/vnd.plotly.v1+json": {
       "config": {
        "plotlyServerURL": "https://plot.ly"
       },
       "data": [
        {
         "branchvalues": "total",
         "customdata": [
          [
           69.23076923076923,
           "Male"
          ],
          [
           91.66666666666666,
           "Male"
          ],
          [
           86.66666666666667,
           "Male"
          ],
          [
           71.42857142857143,
           "Male"
          ],
          [
           75,
           "Male"
          ],
          [
           100,
           "Male"
          ],
          [
           89.65517241379311,
           "Male"
          ],
          [
           86.66666666666667,
           "Male"
          ],
          [
           88.88888888888889,
           "Male"
          ],
          [
           91.66666666666666,
           "Male"
          ],
          [
           11.11111111111111,
           "Female"
          ],
          [
           8.333333333333332,
           "Female"
          ],
          [
           13.333333333333334,
           "Female"
          ],
          [
           28.57142857142857,
           "Female"
          ],
          [
           25,
           "Female"
          ],
          [
           0,
           "Female"
          ],
          [
           10.344827586206897,
           "Female"
          ],
          [
           13.333333333333334,
           "Female"
          ],
          [
           8.333333333333332,
           "Female"
          ],
          [
           30.76923076923077,
           "Female"
          ],
          [
           "(?)",
           "(?)"
          ],
          [
           "(?)",
           "(?)"
          ],
          [
           "(?)",
           "(?)"
          ],
          [
           "(?)",
           "(?)"
          ],
          [
           "(?)",
           "(?)"
          ],
          [
           "(?)",
           "(?)"
          ],
          [
           "(?)",
           "(?)"
          ],
          [
           "(?)",
           "(?)"
          ],
          [
           "(?)",
           "(?)"
          ],
          [
           "(?)",
           "(?)"
          ]
         ],
         "domain": {
          "x": [
           0,
           1
          ],
          "y": [
           0,
           1
          ]
         },
         "hovertemplate": "labels=%{label}<br>Funding=%{value}<br>parent=%{parent}<br>id=%{id}<br>Gender=%{customdata[1]}<extra></extra>",
         "ids": [
          "WISE PLC/Male",
          "REVOLUT LTD/Male",
          "PRODIGY FINANCE LTD/Male",
          "LENDINVEST PLC/Male",
          "LENDABLE LTD/Male",
          "LANDBAY PARTNERS LIMITED/Male",
          "FNZ (UK) LTD/Male",
          "CURVE UK LIMITED/Male",
          "CHECKOUT LTD/Male",
          "SUMUP PAYMENTS LIMITED/Male",
          "CHECKOUT LTD/Female",
          "REVOLUT LTD/Female",
          "PRODIGY FINANCE LTD/Female",
          "LENDINVEST PLC/Female",
          "LENDABLE LTD/Female",
          "LANDBAY PARTNERS LIMITED/Female",
          "FNZ (UK) LTD/Female",
          "CURVE UK LIMITED/Female",
          "SUMUP PAYMENTS LIMITED/Female",
          "WISE PLC/Female",
          "CHECKOUT LTD",
          "CURVE UK LIMITED",
          "FNZ (UK) LTD",
          "LANDBAY PARTNERS LIMITED",
          "LENDABLE LTD",
          "LENDINVEST PLC",
          "PRODIGY FINANCE LTD",
          "REVOLUT LTD",
          "SUMUP PAYMENTS LIMITED",
          "WISE PLC"
         ],
         "labels": [
          "Male",
          "Male",
          "Male",
          "Male",
          "Male",
          "Male",
          "Male",
          "Male",
          "Male",
          "Male",
          "Female",
          "Female",
          "Female",
          "Female",
          "Female",
          "Female",
          "Female",
          "Female",
          "Female",
          "Female",
          "CHECKOUT LTD",
          "CURVE UK LIMITED",
          "FNZ (UK) LTD",
          "LANDBAY PARTNERS LIMITED",
          "LENDABLE LTD",
          "LENDINVEST PLC",
          "PRODIGY FINANCE LTD",
          "REVOLUT LTD",
          "SUMUP PAYMENTS LIMITED",
          "WISE PLC"
         ],
         "marker": {
          "colors": [
           "#4169E1",
           "#4169E1",
           "#4169E1",
           "#4169E1",
           "#4169E1",
           "#4169E1",
           "#4169E1",
           "#4169E1",
           "#4169E1",
           "#4169E1",
           "#FF1493",
           "#FF1493",
           "#FF1493",
           "#FF1493",
           "#FF1493",
           "#FF1493",
           "#FF1493",
           "#FF1493",
           "#FF1493",
           "#FF1493",
           "#00cc96",
           "#00cc96",
           "#00cc96",
           "#00cc96",
           "#00cc96",
           "#00cc96",
           "#00cc96",
           "#00cc96",
           "#00cc96",
           "#00cc96"
          ]
         },
         "name": "",
         "parents": [
          "WISE PLC",
          "REVOLUT LTD",
          "PRODIGY FINANCE LTD",
          "LENDINVEST PLC",
          "LENDABLE LTD",
          "LANDBAY PARTNERS LIMITED",
          "FNZ (UK) LTD",
          "CURVE UK LIMITED",
          "CHECKOUT LTD",
          "SUMUP PAYMENTS LIMITED",
          "CHECKOUT LTD",
          "REVOLUT LTD",
          "PRODIGY FINANCE LTD",
          "LENDINVEST PLC",
          "LENDABLE LTD",
          "LANDBAY PARTNERS LIMITED",
          "FNZ (UK) LTD",
          "CURVE UK LIMITED",
          "SUMUP PAYMENTS LIMITED",
          "WISE PLC",
          "",
          "",
          "",
          "",
          "",
          "",
          "",
          "",
          "",
          ""
         ],
         "textposition": "middle center",
         "texttemplate": "%{label}<br>%{customdata[0]:.2f}%",
         "type": "treemap",
         "values": [
          11769230769.23077,
          18700000000,
          32760000000,
          31428571428.57143,
          9600000000,
          9600000000,
          5020689655.172414,
          2080000000,
          22400000000,
          29333333333.333332,
          2800000000,
          1700000000,
          5040000000,
          12571428571.428572,
          3200000000,
          0,
          579310344.8275862,
          320000000,
          2666666666.6666665,
          5230769230.769231,
          25200000000,
          2400000000,
          5600000000,
          9600000000,
          12800000000,
          44000000000,
          37800000000,
          20400000000,
          32000000000,
          17000000000
         ]
        }
       ],
       "layout": {
        "autosize": false,
        "height": 500,
        "legend": {
         "tracegroupgap": 0
        },
        "margin": {
         "t": 60
        },
        "template": {
         "data": {
          "bar": [
           {
            "error_x": {
             "color": "#2a3f5f"
            },
            "error_y": {
             "color": "#2a3f5f"
            },
            "marker": {
             "line": {
              "color": "#E5ECF6",
              "width": 0.5
             },
             "pattern": {
              "fillmode": "overlay",
              "size": 10,
              "solidity": 0.2
             }
            },
            "type": "bar"
           }
          ],
          "barpolar": [
           {
            "marker": {
             "line": {
              "color": "#E5ECF6",
              "width": 0.5
             },
             "pattern": {
              "fillmode": "overlay",
              "size": 10,
              "solidity": 0.2
             }
            },
            "type": "barpolar"
           }
          ],
          "carpet": [
           {
            "aaxis": {
             "endlinecolor": "#2a3f5f",
             "gridcolor": "white",
             "linecolor": "white",
             "minorgridcolor": "white",
             "startlinecolor": "#2a3f5f"
            },
            "baxis": {
             "endlinecolor": "#2a3f5f",
             "gridcolor": "white",
             "linecolor": "white",
             "minorgridcolor": "white",
             "startlinecolor": "#2a3f5f"
            },
            "type": "carpet"
           }
          ],
          "choropleth": [
           {
            "colorbar": {
             "outlinewidth": 0,
             "ticks": ""
            },
            "type": "choropleth"
           }
          ],
          "contour": [
           {
            "colorbar": {
             "outlinewidth": 0,
             "ticks": ""
            },
            "colorscale": [
             [
              0,
              "#0d0887"
             ],
             [
              0.1111111111111111,
              "#46039f"
             ],
             [
              0.2222222222222222,
              "#7201a8"
             ],
             [
              0.3333333333333333,
              "#9c179e"
             ],
             [
              0.4444444444444444,
              "#bd3786"
             ],
             [
              0.5555555555555556,
              "#d8576b"
             ],
             [
              0.6666666666666666,
              "#ed7953"
             ],
             [
              0.7777777777777778,
              "#fb9f3a"
             ],
             [
              0.8888888888888888,
              "#fdca26"
             ],
             [
              1,
              "#f0f921"
             ]
            ],
            "type": "contour"
           }
          ],
          "contourcarpet": [
           {
            "colorbar": {
             "outlinewidth": 0,
             "ticks": ""
            },
            "type": "contourcarpet"
           }
          ],
          "heatmap": [
           {
            "colorbar": {
             "outlinewidth": 0,
             "ticks": ""
            },
            "colorscale": [
             [
              0,
              "#0d0887"
             ],
             [
              0.1111111111111111,
              "#46039f"
             ],
             [
              0.2222222222222222,
              "#7201a8"
             ],
             [
              0.3333333333333333,
              "#9c179e"
             ],
             [
              0.4444444444444444,
              "#bd3786"
             ],
             [
              0.5555555555555556,
              "#d8576b"
             ],
             [
              0.6666666666666666,
              "#ed7953"
             ],
             [
              0.7777777777777778,
              "#fb9f3a"
             ],
             [
              0.8888888888888888,
              "#fdca26"
             ],
             [
              1,
              "#f0f921"
             ]
            ],
            "type": "heatmap"
           }
          ],
          "heatmapgl": [
           {
            "colorbar": {
             "outlinewidth": 0,
             "ticks": ""
            },
            "colorscale": [
             [
              0,
              "#0d0887"
             ],
             [
              0.1111111111111111,
              "#46039f"
             ],
             [
              0.2222222222222222,
              "#7201a8"
             ],
             [
              0.3333333333333333,
              "#9c179e"
             ],
             [
              0.4444444444444444,
              "#bd3786"
             ],
             [
              0.5555555555555556,
              "#d8576b"
             ],
             [
              0.6666666666666666,
              "#ed7953"
             ],
             [
              0.7777777777777778,
              "#fb9f3a"
             ],
             [
              0.8888888888888888,
              "#fdca26"
             ],
             [
              1,
              "#f0f921"
             ]
            ],
            "type": "heatmapgl"
           }
          ],
          "histogram": [
           {
            "marker": {
             "pattern": {
              "fillmode": "overlay",
              "size": 10,
              "solidity": 0.2
             }
            },
            "type": "histogram"
           }
          ],
          "histogram2d": [
           {
            "colorbar": {
             "outlinewidth": 0,
             "ticks": ""
            },
            "colorscale": [
             [
              0,
              "#0d0887"
             ],
             [
              0.1111111111111111,
              "#46039f"
             ],
             [
              0.2222222222222222,
              "#7201a8"
             ],
             [
              0.3333333333333333,
              "#9c179e"
             ],
             [
              0.4444444444444444,
              "#bd3786"
             ],
             [
              0.5555555555555556,
              "#d8576b"
             ],
             [
              0.6666666666666666,
              "#ed7953"
             ],
             [
              0.7777777777777778,
              "#fb9f3a"
             ],
             [
              0.8888888888888888,
              "#fdca26"
             ],
             [
              1,
              "#f0f921"
             ]
            ],
            "type": "histogram2d"
           }
          ],
          "histogram2dcontour": [
           {
            "colorbar": {
             "outlinewidth": 0,
             "ticks": ""
            },
            "colorscale": [
             [
              0,
              "#0d0887"
             ],
             [
              0.1111111111111111,
              "#46039f"
             ],
             [
              0.2222222222222222,
              "#7201a8"
             ],
             [
              0.3333333333333333,
              "#9c179e"
             ],
             [
              0.4444444444444444,
              "#bd3786"
             ],
             [
              0.5555555555555556,
              "#d8576b"
             ],
             [
              0.6666666666666666,
              "#ed7953"
             ],
             [
              0.7777777777777778,
              "#fb9f3a"
             ],
             [
              0.8888888888888888,
              "#fdca26"
             ],
             [
              1,
              "#f0f921"
             ]
            ],
            "type": "histogram2dcontour"
           }
          ],
          "mesh3d": [
           {
            "colorbar": {
             "outlinewidth": 0,
             "ticks": ""
            },
            "type": "mesh3d"
           }
          ],
          "parcoords": [
           {
            "line": {
             "colorbar": {
              "outlinewidth": 0,
              "ticks": ""
             }
            },
            "type": "parcoords"
           }
          ],
          "pie": [
           {
            "automargin": true,
            "type": "pie"
           }
          ],
          "scatter": [
           {
            "fillpattern": {
             "fillmode": "overlay",
             "size": 10,
             "solidity": 0.2
            },
            "type": "scatter"
           }
          ],
          "scatter3d": [
           {
            "line": {
             "colorbar": {
              "outlinewidth": 0,
              "ticks": ""
             }
            },
            "marker": {
             "colorbar": {
              "outlinewidth": 0,
              "ticks": ""
             }
            },
            "type": "scatter3d"
           }
          ],
          "scattercarpet": [
           {
            "marker": {
             "colorbar": {
              "outlinewidth": 0,
              "ticks": ""
             }
            },
            "type": "scattercarpet"
           }
          ],
          "scattergeo": [
           {
            "marker": {
             "colorbar": {
              "outlinewidth": 0,
              "ticks": ""
             }
            },
            "type": "scattergeo"
           }
          ],
          "scattergl": [
           {
            "marker": {
             "colorbar": {
              "outlinewidth": 0,
              "ticks": ""
             }
            },
            "type": "scattergl"
           }
          ],
          "scattermapbox": [
           {
            "marker": {
             "colorbar": {
              "outlinewidth": 0,
              "ticks": ""
             }
            },
            "type": "scattermapbox"
           }
          ],
          "scatterpolar": [
           {
            "marker": {
             "colorbar": {
              "outlinewidth": 0,
              "ticks": ""
             }
            },
            "type": "scatterpolar"
           }
          ],
          "scatterpolargl": [
           {
            "marker": {
             "colorbar": {
              "outlinewidth": 0,
              "ticks": ""
             }
            },
            "type": "scatterpolargl"
           }
          ],
          "scatterternary": [
           {
            "marker": {
             "colorbar": {
              "outlinewidth": 0,
              "ticks": ""
             }
            },
            "type": "scatterternary"
           }
          ],
          "surface": [
           {
            "colorbar": {
             "outlinewidth": 0,
             "ticks": ""
            },
            "colorscale": [
             [
              0,
              "#0d0887"
             ],
             [
              0.1111111111111111,
              "#46039f"
             ],
             [
              0.2222222222222222,
              "#7201a8"
             ],
             [
              0.3333333333333333,
              "#9c179e"
             ],
             [
              0.4444444444444444,
              "#bd3786"
             ],
             [
              0.5555555555555556,
              "#d8576b"
             ],
             [
              0.6666666666666666,
              "#ed7953"
             ],
             [
              0.7777777777777778,
              "#fb9f3a"
             ],
             [
              0.8888888888888888,
              "#fdca26"
             ],
             [
              1,
              "#f0f921"
             ]
            ],
            "type": "surface"
           }
          ],
          "table": [
           {
            "cells": {
             "fill": {
              "color": "#EBF0F8"
             },
             "line": {
              "color": "white"
             }
            },
            "header": {
             "fill": {
              "color": "#C8D4E3"
             },
             "line": {
              "color": "white"
             }
            },
            "type": "table"
           }
          ]
         },
         "layout": {
          "annotationdefaults": {
           "arrowcolor": "#2a3f5f",
           "arrowhead": 0,
           "arrowwidth": 1
          },
          "autotypenumbers": "strict",
          "coloraxis": {
           "colorbar": {
            "outlinewidth": 0,
            "ticks": ""
           }
          },
          "colorscale": {
           "diverging": [
            [
             0,
             "#8e0152"
            ],
            [
             0.1,
             "#c51b7d"
            ],
            [
             0.2,
             "#de77ae"
            ],
            [
             0.3,
             "#f1b6da"
            ],
            [
             0.4,
             "#fde0ef"
            ],
            [
             0.5,
             "#f7f7f7"
            ],
            [
             0.6,
             "#e6f5d0"
            ],
            [
             0.7,
             "#b8e186"
            ],
            [
             0.8,
             "#7fbc41"
            ],
            [
             0.9,
             "#4d9221"
            ],
            [
             1,
             "#276419"
            ]
           ],
           "sequential": [
            [
             0,
             "#0d0887"
            ],
            [
             0.1111111111111111,
             "#46039f"
            ],
            [
             0.2222222222222222,
             "#7201a8"
            ],
            [
             0.3333333333333333,
             "#9c179e"
            ],
            [
             0.4444444444444444,
             "#bd3786"
            ],
            [
             0.5555555555555556,
             "#d8576b"
            ],
            [
             0.6666666666666666,
             "#ed7953"
            ],
            [
             0.7777777777777778,
             "#fb9f3a"
            ],
            [
             0.8888888888888888,
             "#fdca26"
            ],
            [
             1,
             "#f0f921"
            ]
           ],
           "sequentialminus": [
            [
             0,
             "#0d0887"
            ],
            [
             0.1111111111111111,
             "#46039f"
            ],
            [
             0.2222222222222222,
             "#7201a8"
            ],
            [
             0.3333333333333333,
             "#9c179e"
            ],
            [
             0.4444444444444444,
             "#bd3786"
            ],
            [
             0.5555555555555556,
             "#d8576b"
            ],
            [
             0.6666666666666666,
             "#ed7953"
            ],
            [
             0.7777777777777778,
             "#fb9f3a"
            ],
            [
             0.8888888888888888,
             "#fdca26"
            ],
            [
             1,
             "#f0f921"
            ]
           ]
          },
          "colorway": [
           "#636efa",
           "#EF553B",
           "#00cc96",
           "#ab63fa",
           "#FFA15A",
           "#19d3f3",
           "#FF6692",
           "#B6E880",
           "#FF97FF",
           "#FECB52"
          ],
          "font": {
           "color": "#2a3f5f"
          },
          "geo": {
           "bgcolor": "white",
           "lakecolor": "white",
           "landcolor": "#E5ECF6",
           "showlakes": true,
           "showland": true,
           "subunitcolor": "white"
          },
          "hoverlabel": {
           "align": "left"
          },
          "hovermode": "closest",
          "mapbox": {
           "style": "light"
          },
          "paper_bgcolor": "white",
          "plot_bgcolor": "#E5ECF6",
          "polar": {
           "angularaxis": {
            "gridcolor": "white",
            "linecolor": "white",
            "ticks": ""
           },
           "bgcolor": "#E5ECF6",
           "radialaxis": {
            "gridcolor": "white",
            "linecolor": "white",
            "ticks": ""
           }
          },
          "scene": {
           "xaxis": {
            "backgroundcolor": "#E5ECF6",
            "gridcolor": "white",
            "gridwidth": 2,
            "linecolor": "white",
            "showbackground": true,
            "ticks": "",
            "zerolinecolor": "white"
           },
           "yaxis": {
            "backgroundcolor": "#E5ECF6",
            "gridcolor": "white",
            "gridwidth": 2,
            "linecolor": "white",
            "showbackground": true,
            "ticks": "",
            "zerolinecolor": "white"
           },
           "zaxis": {
            "backgroundcolor": "#E5ECF6",
            "gridcolor": "white",
            "gridwidth": 2,
            "linecolor": "white",
            "showbackground": true,
            "ticks": "",
            "zerolinecolor": "white"
           }
          },
          "shapedefaults": {
           "line": {
            "color": "#2a3f5f"
           }
          },
          "ternary": {
           "aaxis": {
            "gridcolor": "white",
            "linecolor": "white",
            "ticks": ""
           },
           "baxis": {
            "gridcolor": "white",
            "linecolor": "white",
            "ticks": ""
           },
           "bgcolor": "#E5ECF6",
           "caxis": {
            "gridcolor": "white",
            "linecolor": "white",
            "ticks": ""
           }
          },
          "title": {
           "x": 0.05
          },
          "xaxis": {
           "automargin": true,
           "gridcolor": "white",
           "linecolor": "white",
           "ticks": "",
           "title": {
            "standoff": 15
           },
           "zerolinecolor": "white",
           "zerolinewidth": 2
          },
          "yaxis": {
           "automargin": true,
           "gridcolor": "white",
           "linecolor": "white",
           "ticks": "",
           "title": {
            "standoff": 15
           },
           "zerolinecolor": "white",
           "zerolinewidth": 2
          }
         }
        },
        "title": {
         "text": "Treemap of UK's Top 10 Fintech Companies: Comparison Between <br>Funding and Gender Percentage of Officers"
        },
        "width": 800
       }
      }
     },
     "metadata": {},
     "output_type": "display_data"
    }
   ],
   "source": [
    "# 创建嵌套树状图，并定义颜色映射\n",
    "fig = px.treemap(\n",
    "    nested_data,\n",
    "    path=[\"company_name\", \"Gender\"],\n",
    "    values=\"Funding\",\n",
    "    color=\"Gender\",\n",
    "    custom_data=[\"Percentage\"],  # 添加自定义数据\n",
    "    color_discrete_map={\"Male\": \"#4169E1\", \"Female\": \"#FF1493\"},  # 为Male和Female指定颜色\n",
    ")\n",
    "\n",
    "# 设置文本模板，显示自定义数据\n",
    "fig.update_traces(\n",
    "    texttemplate=\"%{label}<br>%{customdata[0]:.2f}%\", textposition=\"middle center\"\n",
    ")\n",
    "\n",
    "# 设置图表标题\n",
    "fig.update_layout(\n",
    "    title=\"Treemap of UK's Top 10 Fintech Companies: Comparison Between <br>Funding and Gender Percentage of Officers\",\n",
    "    autosize=False,\n",
    "    width=800,\n",
    "    height=500,\n",
    ")\n",
    "\n",
    "# 显示图表\n",
    "fig.show()\n",
    "fig.write_image(\"treemap.png\", scale=2)"
   ]
  },
  {
   "cell_type": "markdown",
   "metadata": {},
   "source": [
    "### Mini-report\n",
    "\n",
    "In the past few years, fintech firms have surged as a significant force in the UK's financial domain, drawing considerable investments and investor interest. In the context of ongoing discussions on gender equality, my study examines a crucial business question: what's the gender ratio in the leadership of the UK's top 10 fintech companies by funding?\n",
    "\n",
    "To address this question, I accessed the funding data of the top 10 fintech companies as listed by Fintech Magazine, which I then augmented with officers’ data from the Companies House API. Next, I applied the gender_guesser tool for text mining, which helped identify the number of male and female officers in the top tier of these firms.\n",
    "\n",
    "To present the findings, I selected an interactive treemap, an excellent tool for showing layered data, to illustrate the gender balance within the management of these companies. This was highlighted by light green borders signalling the funding amounts. It's immediately obvious that men are predominantly in management roles across these firms. However, a situation like LENDBAY PARTNERS LTD, where men occupy all management positions, is associated with lower funding levels, suggesting that a lack of gender diversity may affect a company's ability to attract funds. On the other hand, LENDINVEST PLC, which is the most funded in UK fintech, along with similar companies, maintains a more balanced gender distribution in its leadership. This likely reflects a growing investor preference for gender diversity, which could contribute to a company's success and its ability to secure more investment. This indicates that gender-balanced leadership might not just align with social values but also serve as leverage in the competitive world of corporate finance.\n",
    "\n"
   ]
  }
 ],
 "metadata": {
  "kernelspec": {
   "display_name": "Python 3",
   "language": "python",
   "name": "python3"
  },
  "language_info": {
   "codemirror_mode": {
    "name": "ipython",
    "version": 3
   },
   "file_extension": ".py",
   "mimetype": "text/x-python",
   "name": "python",
   "nbconvert_exporter": "python",
   "pygments_lexer": "ipython3",
   "version": "3.11.2"
  }
 },
 "nbformat": 4,
 "nbformat_minor": 2
}
