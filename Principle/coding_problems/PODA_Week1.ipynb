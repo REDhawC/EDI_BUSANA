{
 "cells": [
  {
   "cell_type": "markdown",
   "id": "b67a3c50",
   "metadata": {},
   "source": [
    "# Principles of Data Analytics (CMSE11432) - Week 1 and 2\n"
   ]
  },
  {
   "cell_type": "markdown",
   "id": "2d584030",
   "metadata": {},
   "source": [
    "In this weeks we will spend some time getting to know the Noteable environment.\n",
    "\n",
    "[Noteable](https://noteable.edina.ac.uk/documentation/) is the University's cloud-based coding environment. It's based on Jupyter notebooks and has the usual functionalities of them with most common libraries coming pre-installed. You can access Noteable from anywhere in the world via Learn, which will automatically log you in with your university credentials and save your work under those credentials in the cloud.\n",
    "\n",
    "I would strongly recommend that you work in the Noteable environment during the computer lab sessions. If you prefer to run the files locally on your machine, please note that you have to keep an eye on libraries and package versions yourself. I would recommend going via the [Anaconda distribution](https://anaconda.org/) and then Jupyter Notebook."
   ]
  },
  {
   "cell_type": "markdown",
   "id": "c3680f61",
   "metadata": {},
   "source": [
    "Files can be shared two ways in Noteable: You can upload individual files to your working space, which is the way we will be working in this lab. Or you can pull them in via GitHub, which is a great way to work in a group. Check the [Noteable documentation](https://noteable.edina.ac.uk/user-guide/) for more info."
   ]
  },
  {
   "cell_type": "markdown",
   "id": "4d817a6b",
   "metadata": {},
   "source": [
    "If you're not yet sitting with your group members, I would recommend doing so! Getting to know your group members now will make working together later much easier. Introduce yourself and your background, your experiences working with data and Python. Then work through the basic tasks below together or on your own to get familiar with this coding environment."
   ]
  },
  {
   "cell_type": "markdown",
   "id": "e6c83fa8",
   "metadata": {},
   "source": [
    "**Task 1**\n",
    "Getting familiar with basic commands in Jupyter Notebook\n",
    "\n",
    "If this is your first time coding in Jupyter Notebook, let's first get familiar with it."
   ]
  },
  {
   "cell_type": "markdown",
   "id": "60b00de3",
   "metadata": {},
   "source": [
    "**Task 1.1** Print a \"Hello World\" statement"
   ]
  },
  {
   "cell_type": "code",
   "execution_count": 3,
   "id": "af59bbf5",
   "metadata": {},
   "outputs": [
    {
     "name": "stdout",
     "output_type": "stream",
     "text": [
      "Hello World\n"
     ]
    }
   ],
   "source": [
    "# Add your code here\n",
    "print('Hello World')"
   ]
  },
  {
   "cell_type": "markdown",
   "id": "b86ded0a",
   "metadata": {},
   "source": [
    "**Task 1.2** Do some basic artihmetics on numbers of your choice and print the result"
   ]
  },
  {
   "cell_type": "code",
   "execution_count": 4,
   "id": "a28e8e12",
   "metadata": {},
   "outputs": [
    {
     "name": "stdout",
     "output_type": "stream",
     "text": [
      "123.0\n"
     ]
    }
   ],
   "source": [
    "# Add your code here\n",
    "list1p2 = [2, 45, 565, 2, 1]\n",
    "\n",
    "print(sum(list1p2) / len(list1p2))"
   ]
  },
  {
   "cell_type": "markdown",
   "id": "767ffaa1",
   "metadata": {},
   "source": [
    "**Task 2** Printing basic descriptive statistics"
   ]
  },
  {
   "cell_type": "markdown",
   "id": "911ef937",
   "metadata": {},
   "source": [
    "Different libraries offer different functionalities. The basic statistics library in Python is called 'statistics'.\n",
    "The documentation for the ['statistics' library](https://docs.python.org/3/library/statistics.html) offers a good overview over some of the basic functionalities within it."
   ]
  },
  {
   "cell_type": "markdown",
   "id": "b69fbcb4",
   "metadata": {},
   "source": [
    "**Task 2.1** Using the 'statistics' library, calculate the arithmetic mean of the following numbers: 1, 6, 3, 25, 2.6"
   ]
  },
  {
   "cell_type": "code",
   "execution_count": 19,
   "id": "c328d914",
   "metadata": {},
   "outputs": [
    {
     "name": "stdout",
     "output_type": "stream",
     "text": [
      "6.7\n"
     ]
    }
   ],
   "source": [
    "# Add your code here\n",
    "import statistics as sts\n",
    "\n",
    "list1 = [1, 6, 3, 25, 2.6, 2.6]\n",
    "print(sts.mean(list1))"
   ]
  },
  {
   "cell_type": "markdown",
   "id": "d12be8e1",
   "metadata": {},
   "source": [
    "Using the same library, calculcate the following descriptive statistics of the same array:\n",
    "\n",
    "1. Geometric mean\n",
    "2. Harmonic mean\n",
    "3. Mode\n",
    "4. Median\n",
    "8. Variance\n",
    "9. Standard deviation"
   ]
  },
  {
   "cell_type": "code",
   "execution_count": 20,
   "id": "769f98e7",
   "metadata": {},
   "outputs": [
    {
     "name": "stdout",
     "output_type": "stream",
     "text": [
      "\n",
      "geoMean: 3.8065061425758655 \n",
      "harMean: 2.598267821452365 \n",
      "modeNum: 2.6 \n",
      "medianNum: 2.8 \n",
      "varianceNum: 83.036 \n",
      "SDNum: 9.112409121631886\n"
     ]
    }
   ],
   "source": [
    "# Add your code here\n",
    "geoMean = sts.geometric_mean(list1)\n",
    "harMean = sts.harmonic_mean(list1)\n",
    "modeNum = sts.mode(list1)\n",
    "medianNum = sts.median(list1)\n",
    "varianceNum = sts.variance(list1)\n",
    "SDNum = sts.stdev(list1)\n",
    "print(\n",
    "    \"\\ngeoMean:\",\n",
    "    geoMean,\n",
    "    \"\\nharMean:\",\n",
    "    harMean,\n",
    "    \"\\nmodeNum:\",\n",
    "    modeNum,\n",
    "    \"\\nmedianNum:\",\n",
    "    medianNum,\n",
    "    \"\\nvarianceNum:\",\n",
    "    varianceNum,\n",
    "    \"\\nSDNum:\",\n",
    "    SDNum,\n",
    ")"
   ]
  },
  {
   "cell_type": "markdown",
   "id": "727b07dd",
   "metadata": {},
   "source": [
    "It's always worth checking the documentation of packages every now and then. A lot of the same basic functionalities are available in different packages. Depending on your dataset size, format, and what else you want to create with it, different libraries can be helpful."
   ]
  },
  {
   "cell_type": "markdown",
   "id": "7b48d25e",
   "metadata": {},
   "source": [
    "**OPTIONAL Task 2.2**\n",
    "\n",
    "Two of the most common ones for dataframe wrangling are [pandas](https://pandas.pydata.org/) and [numpy](https://numpy.org/doc/).\n",
    "\n",
    "Have a look at the documentations for both pandas and numpy. Try re-creating the same actions above using the different libraries on a random number matrix of your choice. Note how you can vary the input data format and how the syntax might differ slightly."
   ]
  },
  {
   "cell_type": "code",
   "execution_count": 7,
   "id": "0a45d85c",
   "metadata": {},
   "outputs": [],
   "source": [
    "# Add your code here"
   ]
  },
  {
   "cell_type": "markdown",
   "id": "bdf142e8",
   "metadata": {},
   "source": [
    "**Task 3** Probability distributions and functions"
   ]
  },
  {
   "cell_type": "markdown",
   "id": "e80de3d7",
   "metadata": {},
   "source": [
    "During the lecture we talked about probability distribution functions (PDFs) and cumulative distribution functions (CDFs) of some common distributions. They can be used to compute the probability of an event occuring. For discrete random variables, the calculation is straightforward. but for continuous random variables, the event can be an interval. Complete the following tasks to get familiar with the process."
   ]
  },
  {
   "cell_type": "markdown",
   "id": "61b23f48",
   "metadata": {},
   "source": [
    "**Task 3.1** Define a cumulative distribution function (CDF) of a Bernoulli random variable $X$ with probability $p$. Plot the result using the matplotlib library."
   ]
  },
  {
   "cell_type": "code",
   "execution_count": 8,
   "id": "7f88e152",
   "metadata": {},
   "outputs": [],
   "source": [
    "# Add your code here"
   ]
  },
  {
   "cell_type": "markdown",
   "id": "f8144392",
   "metadata": {},
   "source": [
    "**OPTIONAL**\n",
    "**Task 3.2** Define the PDF of a standard normal distribution. \n",
    "\n",
    "Compute the following probability from your distribution: $P(2\\leq X \\leq 3), X \\sim N(2,4)$  i.e. the probability that $𝑋$ lies in the interval $[2,3]$, if $𝑋$ is a normally distributed variable with mean 2 and variance 4.\n",
    "\n",
    "Hint: You will first need the formula to calculate a probability for a continuous variable from a normal distribution, which you can look up online or on the lecture slides if you can't remember it."
   ]
  },
  {
   "cell_type": "code",
   "execution_count": 9,
   "id": "543cf978",
   "metadata": {},
   "outputs": [],
   "source": [
    "# Add your code here"
   ]
  },
  {
   "cell_type": "markdown",
   "id": "fe0ad66a",
   "metadata": {},
   "source": [
    "**Task 4** Getting used to pandas\n",
    "\n",
    "If you haven't done so earlier in task 2.2, now is the time to load in pandas and start working with it.\n",
    "\n",
    "The convention is to read in pandas as pd, so if you see code examples using pd they are most likely using pandas."
   ]
  },
  {
   "cell_type": "code",
   "execution_count": 10,
   "id": "741f330d",
   "metadata": {},
   "outputs": [],
   "source": [
    "import pandas as pd"
   ]
  },
  {
   "cell_type": "markdown",
   "id": "2eed4837",
   "metadata": {},
   "source": [
    "Two of the most basic datatypes in pandas are series and dataframes. A series is a one-dimensional array like object containing a sequence of values and an associated array of data labels, called index. And a dataframe represents a table of data containing an ordered collection of columns, each of which can be a different value type. The DataFrame has both a row and column index; it can\n",
    "be thought of as dictionary of Series all sharing the same index."
   ]
  },
  {
   "cell_type": "markdown",
   "id": "8e63fd0a",
   "metadata": {},
   "source": [
    "**Task 4.1** Create a series containing some numbers to look at the way indices work. "
   ]
  },
  {
   "cell_type": "code",
   "execution_count": 11,
   "id": "3d92da5e",
   "metadata": {},
   "outputs": [],
   "source": [
    "# Add your code here"
   ]
  },
  {
   "cell_type": "markdown",
   "id": "362945f8",
   "metadata": {},
   "source": [
    "Create a series containing numbers and specify a label for each of the datapoints."
   ]
  },
  {
   "cell_type": "code",
   "execution_count": 12,
   "id": "f57bc768",
   "metadata": {},
   "outputs": [],
   "source": [
    "# Add your code here"
   ]
  },
  {
   "cell_type": "markdown",
   "id": "ddc8f1ce",
   "metadata": {},
   "source": [
    "Try out some operations with your series:\n",
    "\n",
    "- Selecting objects by their index\n",
    "- Selecting a subset of elements in the Series by using conditions"
   ]
  },
  {
   "cell_type": "code",
   "execution_count": 13,
   "id": "1b4b0c9c",
   "metadata": {},
   "outputs": [],
   "source": [
    "# Add your code here"
   ]
  },
  {
   "cell_type": "markdown",
   "id": "663a75b7",
   "metadata": {},
   "source": [
    "**Task 4.2** Create a pandas dataframe containing a mixture of string and numeric variables."
   ]
  },
  {
   "cell_type": "code",
   "execution_count": 14,
   "id": "aa273912",
   "metadata": {},
   "outputs": [],
   "source": [
    "# Add your code here"
   ]
  },
  {
   "cell_type": "markdown",
   "id": "ee738067",
   "metadata": {},
   "source": [
    "Try out some operations with your dataframe:\n",
    "\n",
    "- Selecting one column by index\n",
    "- Selecting rows by conditions on the numeric variable\n",
    "- Selecting the first couple of rows"
   ]
  },
  {
   "cell_type": "code",
   "execution_count": 15,
   "id": "d324c22a",
   "metadata": {},
   "outputs": [],
   "source": [
    "# Add your code here"
   ]
  },
  {
   "cell_type": "markdown",
   "id": "9b57d4ce",
   "metadata": {},
   "source": [
    "Tip: If you just want to create some random pandas dataframes to test functionalities, check out the following functions:\n",
    "- makeDataFrame()\n",
    "- makeMixedDataFrame()\n",
    "- makeMissingDataframe()\n",
    "- makeTimeDataFrame()\n",
    "\n",
    "They are all in the util.testing package of pandas, so you can run them as pd.util.testing.makeDataFrame()\n",
    "Note that they are old libraries, which shouldn't affect your code running but will create a warning."
   ]
  },
  {
   "cell_type": "markdown",
   "id": "ba479227",
   "metadata": {},
   "source": [
    "**Task 5** Some plotting exercises"
   ]
  },
  {
   "cell_type": "markdown",
   "id": "c7d51e08",
   "metadata": {},
   "source": [
    "Start by loading in a popular sample dataset to test out some plotting functionalities. I'm using the 'iris' data which I import via seaborn.\n",
    "\n",
    "Seaborn is an amazing plotting library and I definitely recommend checking it out, but let's focus on the basic plotting functions today to get us started."
   ]
  },
  {
   "cell_type": "code",
   "execution_count": 16,
   "id": "2cb49bd7",
   "metadata": {},
   "outputs": [
    {
     "ename": "ModuleNotFoundError",
     "evalue": "No module named 'seaborn'",
     "output_type": "error",
     "traceback": [
      "\u001b[1;31m---------------------------------------------------------------------------\u001b[0m",
      "\u001b[1;31mModuleNotFoundError\u001b[0m                       Traceback (most recent call last)",
      "\u001b[1;32mc:\\Users\\redhawc\\Desktop\\EDI_BUSANA\\Principle\\coding_problems\\PODA_Week1.ipynb Cell 41\u001b[0m line \u001b[0;36m1\n\u001b[1;32m----> <a href='vscode-notebook-cell:/c%3A/Users/redhawc/Desktop/EDI_BUSANA/Principle/coding_problems/PODA_Week1.ipynb#X55sZmlsZQ%3D%3D?line=0'>1</a>\u001b[0m \u001b[39mimport\u001b[39;00m \u001b[39mseaborn\u001b[39;00m\n\u001b[0;32m      <a href='vscode-notebook-cell:/c%3A/Users/redhawc/Desktop/EDI_BUSANA/Principle/coding_problems/PODA_Week1.ipynb#X55sZmlsZQ%3D%3D?line=2'>3</a>\u001b[0m iris \u001b[39m=\u001b[39m seaborn\u001b[39m.\u001b[39mload_dataset(\u001b[39m'\u001b[39m\u001b[39miris\u001b[39m\u001b[39m'\u001b[39m)\n\u001b[0;32m      <a href='vscode-notebook-cell:/c%3A/Users/redhawc/Desktop/EDI_BUSANA/Principle/coding_problems/PODA_Week1.ipynb#X55sZmlsZQ%3D%3D?line=3'>4</a>\u001b[0m iris\u001b[39m.\u001b[39mhead()\n",
      "\u001b[1;31mModuleNotFoundError\u001b[0m: No module named 'seaborn'"
     ]
    }
   ],
   "source": [
    "import seaborn\n",
    "\n",
    "iris = seaborn.load_dataset('iris')\n",
    "iris.head()"
   ]
  },
  {
   "cell_type": "markdown",
   "id": "7bb9fd6f",
   "metadata": {},
   "source": [
    "**Task 5.1** Plot a frequency histogram of some of the variables in iris."
   ]
  },
  {
   "cell_type": "code",
   "execution_count": null,
   "id": "fe215f56",
   "metadata": {},
   "outputs": [],
   "source": [
    "# Add your code here"
   ]
  },
  {
   "cell_type": "markdown",
   "id": "695a354f",
   "metadata": {},
   "source": [
    "**Task 5.2** Plot a boxplot for the variable sepal width to check its distribution."
   ]
  },
  {
   "cell_type": "code",
   "execution_count": null,
   "id": "aeff408f",
   "metadata": {},
   "outputs": [],
   "source": [
    "# Add your code here"
   ]
  },
  {
   "cell_type": "markdown",
   "id": "d173e531",
   "metadata": {},
   "source": [
    "**Task 5.3** Repeat task 5.2 for the variable petal width and compare the boxplots of the two. Do you think they are normally distributed?"
   ]
  },
  {
   "cell_type": "code",
   "execution_count": null,
   "id": "13f4b7d1",
   "metadata": {},
   "outputs": [],
   "source": [
    "# Add your code here"
   ]
  },
  {
   "cell_type": "markdown",
   "id": "a796217c",
   "metadata": {},
   "source": [
    "**OPTIONAL Task 5.4** Using Chebyshev’s Theorem, calculate the range within which 3/4 of the data for petal width should lie."
   ]
  },
  {
   "cell_type": "code",
   "execution_count": null,
   "id": "dec9fcc3",
   "metadata": {},
   "outputs": [],
   "source": [
    "# Add your code here"
   ]
  }
 ],
 "metadata": {
  "kernelspec": {
   "display_name": "Python 3 (ipykernel)",
   "language": "python",
   "name": "python3"
  },
  "language_info": {
   "codemirror_mode": {
    "name": "ipython",
    "version": 3
   },
   "file_extension": ".py",
   "mimetype": "text/x-python",
   "name": "python",
   "nbconvert_exporter": "python",
   "pygments_lexer": "ipython3",
   "version": "3.11.2"
  }
 },
 "nbformat": 4,
 "nbformat_minor": 5
}
