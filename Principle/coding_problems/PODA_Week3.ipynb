{
 "cells": [
  {
   "cell_type": "markdown",
   "id": "9244caf0",
   "metadata": {},
   "source": [
    "# Welcome to week 3 and your second computer lab!\n",
    "\n",
    "During the lecture last week, we covered some of the common probability distributions. In this week's lecture you were (re)introduced to hypothesis testing. \n",
    "\n",
    "In this week's computer lab, you will learn how to\n",
    "- find the p-value for a simple hypothesis test\n",
    "- define the critical region for different hypothesis tests and compute the test statistic\n",
    "- plot the results."
   ]
  },
  {
   "cell_type": "markdown",
   "id": "2b83db6d",
   "metadata": {},
   "source": [
    "The first section of this script contains a reminder for some important pandas functionalities. If you're not familiar with them, please have a closer look at those and I would recommend that you spend some time at home to familiarise yourself with them.\n",
    "\n",
    "If you feel comfortable that you've seen all this below, you can safely skip ahead to 'Task 1'."
   ]
  },
  {
   "cell_type": "markdown",
   "id": "ee870c32",
   "metadata": {},
   "source": [
    "# Optional recap: pandas series, dataframes and handling missing values"
   ]
  },
  {
   "cell_type": "code",
   "execution_count": 9,
   "id": "e0b28596",
   "metadata": {},
   "outputs": [],
   "source": [
    "import pandas as pd"
   ]
  },
  {
   "cell_type": "markdown",
   "id": "87bbf540",
   "metadata": {},
   "source": [
    "### Optional recap 1: pandas Series and DataFrame indexing/re-indexing"
   ]
  },
  {
   "cell_type": "markdown",
   "id": "ebb86ee1",
   "metadata": {},
   "source": [
    "An important method on pandas objects is reindex(), which means to create a new object with data conformed to a new index. Consider an example:"
   ]
  },
  {
   "cell_type": "code",
   "execution_count": 10,
   "id": "7b733e1e",
   "metadata": {},
   "outputs": [
    {
     "data": {
      "text/plain": [
       "d    4.5\n",
       "b    7.2\n",
       "a   -5.3\n",
       "c    3.6\n",
       "dtype: float64"
      ]
     },
     "execution_count": 10,
     "metadata": {},
     "output_type": "execute_result"
    }
   ],
   "source": [
    "series1 = pd. Series([4.5,7.2,-5.3,3.6],index=['d','b','a','c'])\n",
    "series1"
   ]
  },
  {
   "cell_type": "markdown",
   "id": "0180a660",
   "metadata": {},
   "source": [
    "Calling reindex() on the Series object rearranges the data according to the new index, introducing missing values if any index values were not already presented"
   ]
  },
  {
   "cell_type": "code",
   "execution_count": 11,
   "id": "ad9cde26",
   "metadata": {},
   "outputs": [
    {
     "data": {
      "text/plain": [
       "a   -5.3\n",
       "b    7.2\n",
       "c    3.6\n",
       "d    4.5\n",
       "e    NaN\n",
       "dtype: float64"
      ]
     },
     "execution_count": 11,
     "metadata": {},
     "output_type": "execute_result"
    }
   ],
   "source": [
    "series2 = series1.reindex(['a','b','c','d','e'])\n",
    "series2"
   ]
  },
  {
   "cell_type": "markdown",
   "id": "aef4f1d1",
   "metadata": {},
   "source": [
    "Data on series2 is ordered. For ordered data like time series, it may be desirable to do some filling. The method option in reindex() allows us to forward-fill the values by 'ffill' or to backward-fill by 'bfill' :"
   ]
  },
  {
   "cell_type": "code",
   "execution_count": 12,
   "id": "109030bc",
   "metadata": {},
   "outputs": [
    {
     "data": {
      "text/plain": [
       "0      blue\n",
       "2    purple\n",
       "4    yellow\n",
       "dtype: object"
      ]
     },
     "execution_count": 12,
     "metadata": {},
     "output_type": "execute_result"
    }
   ],
   "source": [
    "series3 = pd.Series(['blue','purple','yellow'],index=[0,2,4])\n",
    "series3"
   ]
  },
  {
   "cell_type": "code",
   "execution_count": 13,
   "id": "35a8e137",
   "metadata": {},
   "outputs": [
    {
     "data": {
      "text/plain": [
       "0      blue\n",
       "1      blue\n",
       "2    purple\n",
       "3    purple\n",
       "4    yellow\n",
       "5    yellow\n",
       "dtype: object"
      ]
     },
     "execution_count": 13,
     "metadata": {},
     "output_type": "execute_result"
    }
   ],
   "source": [
    "series3.reindex(range(6),method='ffill')"
   ]
  },
  {
   "cell_type": "code",
   "execution_count": 14,
   "id": "11369996",
   "metadata": {},
   "outputs": [
    {
     "data": {
      "text/plain": [
       "0      blue\n",
       "1    purple\n",
       "2    purple\n",
       "3    yellow\n",
       "4    yellow\n",
       "5       NaN\n",
       "dtype: object"
      ]
     },
     "execution_count": 14,
     "metadata": {},
     "output_type": "execute_result"
    }
   ],
   "source": [
    "series3.reindex(range(6),method='bfill')"
   ]
  },
  {
   "cell_type": "markdown",
   "id": "bdf34bef",
   "metadata": {},
   "source": [
    "Tasks:\n",
    "- Compare the output from ffill and bfill\n",
    "- Create a Series object to store the information of Anne's Calendar: [index (time slot), activity] 8:00-9:00 Breakfast; 15:00-16:00 Princeples of Data Analytics; 20:00-21:00 Gym; 11:00-12:00 Math I\n",
    "- Reindex Anne's timetable by the alphabetical order of her activities"
   ]
  },
  {
   "cell_type": "markdown",
   "id": "ef2d5a42",
   "metadata": {},
   "source": [
    "With DataFrame, reindex can alter either the row index, columns or both."
   ]
  },
  {
   "cell_type": "code",
   "execution_count": 15,
   "id": "5d59c197",
   "metadata": {},
   "outputs": [
    {
     "data": {
      "text/html": [
       "<div>\n",
       "<style scoped>\n",
       "    .dataframe tbody tr th:only-of-type {\n",
       "        vertical-align: middle;\n",
       "    }\n",
       "\n",
       "    .dataframe tbody tr th {\n",
       "        vertical-align: top;\n",
       "    }\n",
       "\n",
       "    .dataframe thead th {\n",
       "        text-align: right;\n",
       "    }\n",
       "</style>\n",
       "<table border=\"1\" class=\"dataframe\">\n",
       "  <thead>\n",
       "    <tr style=\"text-align: right;\">\n",
       "      <th></th>\n",
       "      <th>West Midlands</th>\n",
       "      <th>East Midlands</th>\n",
       "      <th>Southwest</th>\n",
       "    </tr>\n",
       "  </thead>\n",
       "  <tbody>\n",
       "    <tr>\n",
       "      <th>a</th>\n",
       "      <td>0</td>\n",
       "      <td>1</td>\n",
       "      <td>2</td>\n",
       "    </tr>\n",
       "    <tr>\n",
       "      <th>b</th>\n",
       "      <td>3</td>\n",
       "      <td>4</td>\n",
       "      <td>5</td>\n",
       "    </tr>\n",
       "    <tr>\n",
       "      <th>d</th>\n",
       "      <td>6</td>\n",
       "      <td>7</td>\n",
       "      <td>8</td>\n",
       "    </tr>\n",
       "  </tbody>\n",
       "</table>\n",
       "</div>"
      ],
      "text/plain": [
       "   West Midlands  East Midlands  Southwest\n",
       "a              0              1          2\n",
       "b              3              4          5\n",
       "d              6              7          8"
      ]
     },
     "execution_count": 15,
     "metadata": {},
     "output_type": "execute_result"
    }
   ],
   "source": [
    "import numpy as np\n",
    "\n",
    "df = pd.DataFrame(np.arange(9).reshape((3,3)),index=['a','b','d'],columns=['West Midlands','East Midlands','Southwest'])\n",
    "df"
   ]
  },
  {
   "cell_type": "code",
   "execution_count": 16,
   "id": "0cba7bfb",
   "metadata": {},
   "outputs": [
    {
     "data": {
      "text/html": [
       "<div>\n",
       "<style scoped>\n",
       "    .dataframe tbody tr th:only-of-type {\n",
       "        vertical-align: middle;\n",
       "    }\n",
       "\n",
       "    .dataframe tbody tr th {\n",
       "        vertical-align: top;\n",
       "    }\n",
       "\n",
       "    .dataframe thead th {\n",
       "        text-align: right;\n",
       "    }\n",
       "</style>\n",
       "<table border=\"1\" class=\"dataframe\">\n",
       "  <thead>\n",
       "    <tr style=\"text-align: right;\">\n",
       "      <th></th>\n",
       "      <th>West Midlands</th>\n",
       "      <th>East Midlands</th>\n",
       "      <th>Southwest</th>\n",
       "    </tr>\n",
       "  </thead>\n",
       "  <tbody>\n",
       "    <tr>\n",
       "      <th>a</th>\n",
       "      <td>0.0</td>\n",
       "      <td>1.0</td>\n",
       "      <td>2.0</td>\n",
       "    </tr>\n",
       "    <tr>\n",
       "      <th>b</th>\n",
       "      <td>3.0</td>\n",
       "      <td>4.0</td>\n",
       "      <td>5.0</td>\n",
       "    </tr>\n",
       "    <tr>\n",
       "      <th>c</th>\n",
       "      <td>NaN</td>\n",
       "      <td>NaN</td>\n",
       "      <td>NaN</td>\n",
       "    </tr>\n",
       "    <tr>\n",
       "      <th>d</th>\n",
       "      <td>6.0</td>\n",
       "      <td>7.0</td>\n",
       "      <td>8.0</td>\n",
       "    </tr>\n",
       "  </tbody>\n",
       "</table>\n",
       "</div>"
      ],
      "text/plain": [
       "   West Midlands  East Midlands  Southwest\n",
       "a            0.0            1.0        2.0\n",
       "b            3.0            4.0        5.0\n",
       "c            NaN            NaN        NaN\n",
       "d            6.0            7.0        8.0"
      ]
     },
     "execution_count": 16,
     "metadata": {},
     "output_type": "execute_result"
    }
   ],
   "source": [
    "df2 = df.reindex(['a','b','c','d'])\n",
    "df2"
   ]
  },
  {
   "cell_type": "code",
   "execution_count": 17,
   "id": "fc4b9b51",
   "metadata": {},
   "outputs": [
    {
     "data": {
      "text/html": [
       "<div>\n",
       "<style scoped>\n",
       "    .dataframe tbody tr th:only-of-type {\n",
       "        vertical-align: middle;\n",
       "    }\n",
       "\n",
       "    .dataframe tbody tr th {\n",
       "        vertical-align: top;\n",
       "    }\n",
       "\n",
       "    .dataframe thead th {\n",
       "        text-align: right;\n",
       "    }\n",
       "</style>\n",
       "<table border=\"1\" class=\"dataframe\">\n",
       "  <thead>\n",
       "    <tr style=\"text-align: right;\">\n",
       "      <th></th>\n",
       "      <th>West Midlands</th>\n",
       "      <th>London</th>\n",
       "      <th>Southwest</th>\n",
       "    </tr>\n",
       "  </thead>\n",
       "  <tbody>\n",
       "    <tr>\n",
       "      <th>a</th>\n",
       "      <td>0</td>\n",
       "      <td>NaN</td>\n",
       "      <td>2</td>\n",
       "    </tr>\n",
       "    <tr>\n",
       "      <th>b</th>\n",
       "      <td>3</td>\n",
       "      <td>NaN</td>\n",
       "      <td>5</td>\n",
       "    </tr>\n",
       "    <tr>\n",
       "      <th>d</th>\n",
       "      <td>6</td>\n",
       "      <td>NaN</td>\n",
       "      <td>8</td>\n",
       "    </tr>\n",
       "  </tbody>\n",
       "</table>\n",
       "</div>"
      ],
      "text/plain": [
       "   West Midlands  London  Southwest\n",
       "a              0     NaN          2\n",
       "b              3     NaN          5\n",
       "d              6     NaN          8"
      ]
     },
     "execution_count": 17,
     "metadata": {},
     "output_type": "execute_result"
    }
   ],
   "source": [
    "df3 = df.reindex(columns=['West Midlands','London','Southwest'])\n",
    "df3"
   ]
  },
  {
   "cell_type": "markdown",
   "id": "3f9c4818",
   "metadata": {},
   "source": [
    "### Optional recap 2: Dropping elements from an axis"
   ]
  },
  {
   "cell_type": "markdown",
   "id": "e11d80cf",
   "metadata": {},
   "source": [
    "Dropping one or more entries is easy if you have an index array or list without those entires."
   ]
  },
  {
   "cell_type": "code",
   "execution_count": 18,
   "id": "d5eb5e08",
   "metadata": {},
   "outputs": [
    {
     "data": {
      "text/plain": [
       "a    0\n",
       "b    1\n",
       "c    2\n",
       "d    3\n",
       "e    4\n",
       "dtype: int32"
      ]
     },
     "execution_count": 18,
     "metadata": {},
     "output_type": "execute_result"
    }
   ],
   "source": [
    "import pandas as pd\n",
    "import numpy as np\n",
    "\n",
    "series1 = pd.Series(np.arange(5),index=['a','b','c','d','e'])\n",
    "series1"
   ]
  },
  {
   "cell_type": "code",
   "execution_count": 19,
   "id": "ab93dc62",
   "metadata": {},
   "outputs": [
    {
     "data": {
      "text/plain": [
       "a    0\n",
       "b    1\n",
       "d    3\n",
       "e    4\n",
       "dtype: int32"
      ]
     },
     "execution_count": 19,
     "metadata": {},
     "output_type": "execute_result"
    }
   ],
   "source": [
    "new_obj = series1.drop('c')\n",
    "new_obj"
   ]
  },
  {
   "cell_type": "markdown",
   "id": "95c3d6f5",
   "metadata": {},
   "source": [
    "With DataFrame, index values can be deleted from either column or row index."
   ]
  },
  {
   "cell_type": "code",
   "execution_count": 20,
   "id": "b7b7e365",
   "metadata": {},
   "outputs": [
    {
     "data": {
      "text/html": [
       "<div>\n",
       "<style scoped>\n",
       "    .dataframe tbody tr th:only-of-type {\n",
       "        vertical-align: middle;\n",
       "    }\n",
       "\n",
       "    .dataframe tbody tr th {\n",
       "        vertical-align: top;\n",
       "    }\n",
       "\n",
       "    .dataframe thead th {\n",
       "        text-align: right;\n",
       "    }\n",
       "</style>\n",
       "<table border=\"1\" class=\"dataframe\">\n",
       "  <thead>\n",
       "    <tr style=\"text-align: right;\">\n",
       "      <th></th>\n",
       "      <th>West Midlands</th>\n",
       "      <th>East Midlands</th>\n",
       "      <th>Southwest</th>\n",
       "    </tr>\n",
       "  </thead>\n",
       "  <tbody>\n",
       "    <tr>\n",
       "      <th>a</th>\n",
       "      <td>0</td>\n",
       "      <td>1</td>\n",
       "      <td>2</td>\n",
       "    </tr>\n",
       "    <tr>\n",
       "      <th>b</th>\n",
       "      <td>3</td>\n",
       "      <td>4</td>\n",
       "      <td>5</td>\n",
       "    </tr>\n",
       "    <tr>\n",
       "      <th>d</th>\n",
       "      <td>6</td>\n",
       "      <td>7</td>\n",
       "      <td>8</td>\n",
       "    </tr>\n",
       "  </tbody>\n",
       "</table>\n",
       "</div>"
      ],
      "text/plain": [
       "   West Midlands  East Midlands  Southwest\n",
       "a              0              1          2\n",
       "b              3              4          5\n",
       "d              6              7          8"
      ]
     },
     "execution_count": 20,
     "metadata": {},
     "output_type": "execute_result"
    }
   ],
   "source": [
    "df = pd.DataFrame(np.arange(9).reshape((3,3)),index=['a','b','d'],columns=['West Midlands','East Midlands','Southwest'])\n",
    "df"
   ]
  },
  {
   "cell_type": "code",
   "execution_count": 21,
   "id": "b0783731",
   "metadata": {},
   "outputs": [
    {
     "data": {
      "text/html": [
       "<div>\n",
       "<style scoped>\n",
       "    .dataframe tbody tr th:only-of-type {\n",
       "        vertical-align: middle;\n",
       "    }\n",
       "\n",
       "    .dataframe tbody tr th {\n",
       "        vertical-align: top;\n",
       "    }\n",
       "\n",
       "    .dataframe thead th {\n",
       "        text-align: right;\n",
       "    }\n",
       "</style>\n",
       "<table border=\"1\" class=\"dataframe\">\n",
       "  <thead>\n",
       "    <tr style=\"text-align: right;\">\n",
       "      <th></th>\n",
       "      <th>West Midlands</th>\n",
       "      <th>East Midlands</th>\n",
       "      <th>Southwest</th>\n",
       "    </tr>\n",
       "  </thead>\n",
       "  <tbody>\n",
       "    <tr>\n",
       "      <th>b</th>\n",
       "      <td>3</td>\n",
       "      <td>4</td>\n",
       "      <td>5</td>\n",
       "    </tr>\n",
       "    <tr>\n",
       "      <th>d</th>\n",
       "      <td>6</td>\n",
       "      <td>7</td>\n",
       "      <td>8</td>\n",
       "    </tr>\n",
       "  </tbody>\n",
       "</table>\n",
       "</div>"
      ],
      "text/plain": [
       "   West Midlands  East Midlands  Southwest\n",
       "b              3              4          5\n",
       "d              6              7          8"
      ]
     },
     "execution_count": 21,
     "metadata": {},
     "output_type": "execute_result"
    }
   ],
   "source": [
    "df.drop('a')"
   ]
  },
  {
   "cell_type": "markdown",
   "id": "ecb1ef65",
   "metadata": {},
   "source": [
    "### Optional recap 3: Removing missing values"
   ]
  },
  {
   "cell_type": "markdown",
   "id": "a1057fd2",
   "metadata": {},
   "source": [
    "Missing data occurs commonly in many data analysis applications. One of the goals of pandas is to make working with missing data as painless as possible. The way that missing data is represented in pandas objects uses NaN. We call this a sentinel value that can be detected."
   ]
  },
  {
   "cell_type": "code",
   "execution_count": 22,
   "id": "150ffa44",
   "metadata": {},
   "outputs": [
    {
     "data": {
      "text/plain": [
       "0     blue\n",
       "1      red\n",
       "2      NaN\n",
       "3    green\n",
       "dtype: object"
      ]
     },
     "execution_count": 22,
     "metadata": {},
     "output_type": "execute_result"
    }
   ],
   "source": [
    "colour_data = pd.Series(['blue','red',np.nan,'green'])\n",
    "colour_data"
   ]
  },
  {
   "cell_type": "markdown",
   "id": "f9ab7a2e",
   "metadata": {},
   "source": [
    "We can use isnull() to detect NaN"
   ]
  },
  {
   "cell_type": "code",
   "execution_count": 23,
   "id": "b71489f5",
   "metadata": {},
   "outputs": [
    {
     "data": {
      "text/plain": [
       "0    False\n",
       "1    False\n",
       "2     True\n",
       "3    False\n",
       "dtype: bool"
      ]
     },
     "execution_count": 23,
     "metadata": {},
     "output_type": "execute_result"
    }
   ],
   "source": [
    "colour_data.isnull()"
   ]
  },
  {
   "cell_type": "markdown",
   "id": "16bb7341",
   "metadata": {},
   "source": [
    "Missing data can also be dropped using dropna()"
   ]
  },
  {
   "cell_type": "code",
   "execution_count": 24,
   "id": "d7797fb0",
   "metadata": {},
   "outputs": [
    {
     "data": {
      "text/plain": [
       "0     blue\n",
       "1      red\n",
       "3    green\n",
       "dtype: object"
      ]
     },
     "execution_count": 24,
     "metadata": {},
     "output_type": "execute_result"
    }
   ],
   "source": [
    "colour_data.dropna()"
   ]
  },
  {
   "cell_type": "markdown",
   "id": "a0f9e1f6",
   "metadata": {},
   "source": [
    "# Task 1: Hypothesis testing"
   ]
  },
  {
   "cell_type": "markdown",
   "id": "8ef8b80a",
   "metadata": {},
   "source": [
    "### Task 1.1: p-values\n",
    "\n",
    "**DEMO:** \n",
    "Assume that we are dealing with a one-sided test and our null hypothesis $H_0$ states about the test statistic that it is standard normally distributed, $T(X) \\sim N(0,1)$. We choose the significance level $\\alpha = 0.05$. \n",
    "\n",
    "If we observe $t=3$, then the p-value can be computed as $\\Phi(T \\geq 3) = 1 - \\Phi(T \\leq 3)$ using the cumulative distribution function (CDF) of $N(0,1)$. \n",
    "\n",
    "We do this using the norm.cdf() function from the SciPy library. You can read the documentation for that function [here](https://docs.scipy.org/doc/scipy/reference/generated/scipy.stats.norm.html)."
   ]
  },
  {
   "cell_type": "code",
   "execution_count": 25,
   "id": "fb33cee1",
   "metadata": {},
   "outputs": [
    {
     "name": "stdout",
     "output_type": "stream",
     "text": [
      "p-value = 0.0013498980316301035\n"
     ]
    }
   ],
   "source": [
    "from scipy.stats import norm\n",
    "\n",
    "print('p-value =', 1-norm.cdf(3)) # remember that CDFs calculate the cumulative probability up to a limit (here 3)"
   ]
  },
  {
   "cell_type": "markdown",
   "id": "f770d419",
   "metadata": {},
   "source": [
    "**TASK:** Given a one-sided test and a test statistic $T(X) \\sim N(0,1)$ under the null hypothesis. For $t=1.95$, compute the p-value $\\Phi(T \\geq 1.95)$."
   ]
  },
  {
   "cell_type": "code",
   "execution_count": 26,
   "id": "9f4b4f48",
   "metadata": {},
   "outputs": [
    {
     "name": "stdout",
     "output_type": "stream",
     "text": [
      "p-value = 0.025588059521638562\n"
     ]
    }
   ],
   "source": [
    "# Your code here\n",
    "# 1-cdf(T<=1.95)\n",
    "print('p-value =', 1-norm.cdf(1.95))"
   ]
  },
  {
   "cell_type": "markdown",
   "id": "de32f1c1",
   "metadata": {},
   "source": [
    "### Task 1.2: One-sample t-test"
   ]
  },
  {
   "cell_type": "markdown",
   "id": "bcc92a9f",
   "metadata": {},
   "source": [
    "**DEMO:**\n",
    "A bakery supplies loaves of bread to supermarkets. The stated selling weight (and therefore the required minimum expected weight) is $\\mu = 2$kg. However, not every package weights exactly 2kg as due to the production facilities there will be variation in the weights. In order to fulfill their contract with the supermarkets, it is important for the bakery to know whether the average weight of the loaves is lower than 2kg.\n",
    "\n",
    "We assume that the weight of the loaves, $X$, is normally distributed and we assume that the population variance is unnkown.\n",
    "\n",
    "The supermarket draws a random sample of $n=20$ loaves and weighs then. The sample mean is $\\bar{x} = 1.9668$, and the sample variance is $s_x^2 = 0.0927^2$.\n",
    "\n",
    "We want to conduct a one-sided hypothesis test, where $H_0: \\mu \\geq 2$ ($H_a: \\mu < 2$) and our significance level $\\alpha = 0.05$. The test statistic can be computed as $$\\frac{(\\bar{x}-\\mu)\\sqrt{n}}{s_x}$$\n",
    "\n",
    "This test statistic follows a t-distribution with $n-1$ degrees of freedom."
   ]
  },
  {
   "cell_type": "markdown",
   "id": "ecb84f5f",
   "metadata": {},
   "source": [
    "To compute the boundaries of a critical region, we can use the inverse function of the CDF of the t-distribution. Similar to task 1.1, there is a SciPy package for that. You can read the documentation [here](https://docs.scipy.org/doc/scipy/reference/generated/scipy.stats.t.html). And we will visualise our distribution using the matplotlib library and make use of its [annotation function](https://matplotlib.org/stable/api/_as_gen/matplotlib.pyplot.annotate.html).\n",
    "\n",
    "We follow these steps:\n",
    "\n",
    "Objective: Visualise the critical region for $H_0: \\mu \\geq 2$ with $\\alpha = 0.05$ and compute test statistic\n",
    "1. Generate PDF of t-distribution with 19 degrees of freedom (as our $n=20$) and plot\n",
    "2. Compute critical value for $\\alpha = 0.05$\n",
    "2. Visualise in the plot from 1. the area under the curve as critical region\n",
    "3. Compute test statistic using the formula above and check whether it falls within the criticl region\n",
    "4. If test statistic falls within critical region -> reject $H_0$, otherwise retain."
   ]
  },
  {
   "cell_type": "code",
   "execution_count": 27,
   "id": "e6bf7cb0",
   "metadata": {},
   "outputs": [
    {
     "data": {
      "text/plain": [
       "Text(0.5, 0, 'x')"
      ]
     },
     "execution_count": 27,
     "metadata": {},
     "output_type": "execute_result"
    },
    {
     "data": {
      "image/png": "[encoded data removed]",
      "text/plain": [
       "<Figure size 640x480 with 1 Axes>"
      ]
     },
     "metadata": {},
     "output_type": "display_data"
    }
   ],
   "source": [
    "import scipy.stats as sts\n",
    "import matplotlib.pyplot as plt\n",
    "import numpy as np\n",
    "import math\n",
    "\n",
    "# Step 1 Generate PDF of t-distribution with 19 degrees of freedom\n",
    "\n",
    "x = np.linspace(-8, 8, 100) #Return evenly spaced numbers over a specified interval between -8 and 8. large number will output more smooth curve.\n",
    "plt.plot(x, sts.t.pdf(x, 19), 'r-', alpha=0.6) #Generate PDF of t-distribution with 19 degree of freedom\n",
    "plt.title('PDF of t-Distribution') \n",
    "plt.ylabel('f(x)')\n",
    "plt.xlabel('x')\n",
    "\n"
   ]
  },
  {
   "cell_type": "code",
   "execution_count": 28,
   "id": "c899e15f",
   "metadata": {},
   "outputs": [
    {
     "data": {
      "text/plain": [
       "-1.7291328115213678"
      ]
     },
     "execution_count": 28,
     "metadata": {},
     "output_type": "execute_result"
    }
   ],
   "source": [
    "# Step 2. Compute critical value for alpha = 0.05\n",
    "\n",
    "C_value = sts.t.ppf(\n",
    "    0.05, 19, loc=0, scale=1\n",
    ")  # compute critical value by using the inverse function of cdf of t-distribution\n",
    "\"\"\"\n",
    "0.05：这是你所关心的分位数的概率。在这个上下文中，我们计算的是下侧的5%分位数。\n",
    "通常，在假设检验的上下文中，这与你选择的显著性水平（alpha）有关。\n",
    "\n",
    "19：这是自由度的数量。在t检验的上下文中，自由度通常等于样本大小减去一。\n",
    "在这个例子中，自由度是19，暗示了样本大小可能是20。\n",
    "\n",
    "loc=0：这是分布的均值。对于标准t分布来说，均值是0。\n",
    "\n",
    "scale=1：这是分布的标准差。对于标准t分布来说，标准差是1。\n",
    "\"\"\"\n",
    "C_value"
   ]
  },
  {
   "cell_type": "markdown",
   "id": "2fd26510",
   "metadata": {},
   "source": [
    "We can visualise the critical region in the above graph by adding some more lines to the same code to annotate it."
   ]
  },
  {
   "cell_type": "code",
   "execution_count": 29,
   "id": "70480a7e",
   "metadata": {},
   "outputs": [
    {
     "data": {
      "text/plain": [
       "Text(-5.729132811521367, 0.1, 'Critical Value is -1.729')"
      ]
     },
     "execution_count": 29,
     "metadata": {},
     "output_type": "execute_result"
    },
    {
     "data": {
      "image/png": "[encoded data removed]",
      "text/plain": [
       "<Figure size 640x480 with 1 Axes>"
      ]
     },
     "metadata": {},
     "output_type": "display_data"
    }
   ],
   "source": [
    "# Step 1. Generate PDF of t-distribution with 19 degrees of freedom\n",
    "\n",
    "x = np.linspace(-8, 8, 100)\n",
    "plt.plot(x, sts.t.pdf(x, 19), \"r-\", alpha=0.6)\n",
    "plt.title(\"PDF of t-Distribution\")\n",
    "plt.ylabel(\"f(x)\")\n",
    "plt.xlabel(\"x\")\n",
    "\n",
    "# Step 2. Compute critical value for alpha = 0.05\n",
    "\n",
    "C_value = sts.t.ppf(0.05, 19, loc=0, scale=1)\n",
    "\n",
    "# Step 3. Visualise critical region\n",
    "\n",
    "x2 = np.linspace(\n",
    "    -8, C_value, 100\n",
    ")  # Return evenly spaced numbers over a specified interval between -8 and critical value.\n",
    "plt.fill_between(\n",
    "    x2, sts.t.pdf(x2, 19), color=\"purple\", alpha=0.6\n",
    ")  # Generate a shaped area under the curve sts.t.pdf(x2, 19)\n",
    "plt.annotate(\n",
    "    \"Critical Value is -1.729\",\n",
    "    (C_value, 0),\n",
    "    (C_value - 4, 0.10),\n",
    "    arrowprops=dict(\n",
    "        arrowstyle=\"fancy\",\n",
    "        fc=\"0.3\",\n",
    "        ec=\"none\",\n",
    "        connectionstyle=\"angle3,angleA=0,angleB=-90\",\n",
    "    ),\n",
    ")  # Annotation"
   ]
  },
  {
   "cell_type": "markdown",
   "id": "bfedd4b2",
   "metadata": {},
   "source": [
    "We can also compute the test statistic and visualise that in the same graph."
   ]
  },
  {
   "cell_type": "code",
   "execution_count": 30,
   "id": "7055b887",
   "metadata": {},
   "outputs": [
    {
     "data": {
      "text/plain": [
       "-1.6016711295144075"
      ]
     },
     "execution_count": 30,
     "metadata": {},
     "output_type": "execute_result"
    }
   ],
   "source": [
    "test_statistic_value = ((1.9668 - 2) / 0.0927) * math.sqrt(20)  # compute test statistc\n",
    "test_statistic_value"
   ]
  },
  {
   "cell_type": "code",
   "execution_count": 31,
   "id": "f36c6827",
   "metadata": {},
   "outputs": [
    {
     "name": "stdout",
     "output_type": "stream",
     "text": [
      "The test statistic is -1.6016711295144075\n",
      "The test statistic is not in the critical region, null hypothesis is retained \n"
     ]
    },
    {
     "data": {
      "image/png": "[encoded data removed]",
      "text/plain": [
       "<Figure size 640x480 with 1 Axes>"
      ]
     },
     "metadata": {},
     "output_type": "display_data"
    }
   ],
   "source": [
    "# Step 1. Generate PDF of t-distribution with 19 degrees of freedom\n",
    "\n",
    "x = np.linspace(-8, 8, 100)\n",
    "plt.plot(x, sts.t.pdf(x, 19), \"r-\", alpha=0.6)\n",
    "plt.title(\"PDF of t-Distribution\")\n",
    "plt.ylabel(\"f(x)\")\n",
    "plt.xlabel(\"x\")\n",
    "\n",
    "# Step 2. Compute critical value for alpha = 0.05\n",
    "\n",
    "C_value = sts.t.ppf(0.05, 19, loc=0, scale=1)\n",
    "\n",
    "# Step 3. Visualise critical region\n",
    "\n",
    "x2 = np.linspace(\n",
    "    -8, C_value, 100\n",
    ")  # Return evenly spaced numbers over a specified interval between -8 and critical value.\n",
    "plt.fill_between(\n",
    "    x2, sts.t.pdf(x2, 19), color=\"purple\", alpha=0.6\n",
    ")  # Generate a shaped area under the curve sts.t.pdf(x2, 19)\n",
    "plt.annotate(\n",
    "    \"Critical Value is -1.729\",\n",
    "    (C_value, 0),\n",
    "    (C_value - 4, 0.10),\n",
    "    arrowprops=dict(\n",
    "        arrowstyle=\"fancy\",\n",
    "        fc=\"0.3\",\n",
    "        ec=\"none\",\n",
    "        connectionstyle=\"angle3,angleA=0,angleB=-90\",\n",
    "    ),\n",
    ")  # Annotation\n",
    "\n",
    "# Step 4. Compute and visualise test statistic\n",
    "\n",
    "test_statistic_value = ((1.9668 - 2) / 0.0927) * math.sqrt(20)  # compute test statistc\n",
    "print(\"The test statistic is\", test_statistic_value)\n",
    "plt.annotate(\n",
    "    \"Test Statistic is -1.601\",\n",
    "    (test_statistic_value, 0),\n",
    "    (test_statistic_value + 4, 0.15),\n",
    "    arrowprops=dict(arrowstyle=\"wedge,tail_width=0.5\", alpha=0.3),\n",
    ")  # Annotation\n",
    "print(\"The test statistic is not in the critical region, null hypothesis is retained \")"
   ]
  },
  {
   "cell_type": "markdown",
   "id": "21d8a285",
   "metadata": {},
   "source": [
    "**TASK**: Using the same example as above with $\\alpha = 0.05$, sample mean $\\bar{x} = 1.9668$, and  sample variance $s_x^2 = 0.0927^2$.\n",
    "\n",
    "This time we assume $n=40$ and $H_0: \\mu = 2$ as a **two-sided hypothesis**.\n",
    "\n",
    "Following the steps from the demo above, visualise the critical region, compute the **test statistic** and make a conclusion about the rejection/retention of the null hypothesis.\n"
   ]
  },
  {
   "cell_type": "code",
   "execution_count": 65,
   "id": "5d8e2b88",
   "metadata": {},
   "outputs": [
    {
     "name": "stdout",
     "output_type": "stream",
     "text": [
      "-2.0226909117347285 2.022690911734728 -2.265105033820709\n",
      "The test statistic is -2.265105033820709\n",
      "The test statistic is not in the critical region, null hypothesis is retained \n"
     ]
    },
    {
     "data": {
      "image/png": "[encoded data removed]",
      "text/plain": [
       "<Figure size 640x480 with 1 Axes>"
      ]
     },
     "metadata": {},
     "output_type": "display_data"
    }
   ],
   "source": [
    "# Step 2. Compute critical value for alpha = 0.05\n",
    "\n",
    "C_value1 = sts.t.ppf(\n",
    "    0.025, 39, loc=0, scale=1\n",
    ")  # compute critical value by using the inverse function of cdf of t-distribution\n",
    "C_value2 = sts.t.ppf(\n",
    "    0.975, 39, loc=0, scale=1\n",
    ")  # compute critical value by using the inverse function of cdf of t-distribution\n",
    "\"\"\"\n",
    "0.05：这是你所关心的分位数的概率。在这个上下文中，我们计算的是下侧的5%分位数。\n",
    "通常，在假设检验的上下文中，这与你选择的显著性水平（alpha）有关。\n",
    "\n",
    "19：这是自由度的数量。在t检验的上下文中，自由度通常等于样本大小减去一。\n",
    "在这个例子中，自由度是19，暗示了样本大小可能是20。\n",
    "\n",
    "loc=0：这是分布的均值。对于标准t分布来说，均值是0。\n",
    "\n",
    "scale=1：这是分布的标准差。对于标准t分布来说，标准差是1。\n",
    "\"\"\"\n",
    "\n",
    "\n",
    "test_statistic_value = ((1.9668 - 2) / 0.0927) * math.sqrt(40)  # compute test statistc\n",
    "print(C_value1, C_value2, test_statistic_value)\n",
    "\n",
    "# Step 1. Generate PDF of t-distribution with 19 degrees of freedom\n",
    "\n",
    "x = np.linspace(-8, 8, 100)\n",
    "plt.plot(x, sts.t.pdf(x, 39), \"r-\", alpha=0.6)\n",
    "plt.title(\"PDF of t-Distribution\")\n",
    "plt.ylabel(\"f(x)\")\n",
    "plt.xlabel(\"x\")\n",
    "\n",
    "# Step 2. Compute critical value for alpha = 0.05\n",
    "\n",
    "# Step 3. Visualise critical region\n",
    "\n",
    "x2 = np.linspace(\n",
    "    -8, C_value, 100\n",
    ")  # Return evenly spaced numbers over a specified interval between -8 and critical value.\n",
    "plt.fill_between(\n",
    "    x2, sts.t.pdf(x2, 39), color=\"green\", alpha=0.6\n",
    ")  # Generate a shaped area under the curve sts.t.pdf(x2, 19)\n",
    "\n",
    "plt.fill_between(\n",
    "    x2, sts.t.pdf(x2, 39), color=\"red\", alpha=0.6\n",
    ")  # Generate a shaped area under the curve sts.t.pdf(x2, 19)\n",
    "plt.annotate(\n",
    "    \"Critical Value is -2.02\",\n",
    "    (C_value1, 0),\n",
    "    (C_value1 - 4, 0.10),\n",
    "    arrowprops=dict(\n",
    "        arrowstyle=\"fancy\",\n",
    "        fc=\"0.3\",\n",
    "        ec=\"none\",\n",
    "        connectionstyle=\"angle3,angleA=0,angleB=-90\",\n",
    "    ),\n",
    ")  # Annotation\n",
    "plt.annotate(\n",
    "    \"Critical Value is 2.02\",\n",
    "    (C_value2, 0),\n",
    "    (C_value2 + 2, 0.10),\n",
    "    arrowprops=dict(\n",
    "        arrowstyle=\"fancy\",\n",
    "        fc=\"0.3\",\n",
    "        ec=\"none\",\n",
    "        connectionstyle=\"angle3,angleA=0,angleB=-90\",\n",
    "    ),\n",
    ")  # Annotation\n",
    "\n",
    "# Step 4. Compute and visualise test statistic\n",
    "\n",
    "print(\"The test statistic is\", test_statistic_value)\n",
    "plt.annotate(\n",
    "    \"Test Statistic is -2.26\",\n",
    "    (test_statistic_value, 0),\n",
    "    (test_statistic_value + 4, 0.15),\n",
    "    arrowprops=dict(arrowstyle=\"wedge,tail_width=0.5\", alpha=0.3),\n",
    ")  # Annotation\n",
    "print(\"The test statistic is not in the critical region, null hypothesis is retained \")"
   ]
  },
  {
   "cell_type": "markdown",
   "id": "135d49e0",
   "metadata": {},
   "source": [
    "### Task 1.3: Comparing the means of two independent samples"
   ]
  },
  {
   "cell_type": "markdown",
   "id": "e907e55e",
   "metadata": {},
   "source": [
    "A different bakery from the above sells cookies in packages of 500g. The cookies are handmade and packaging is either done by the baker herself or her son. However, some customers claim that the son is more generous than the baker and puts more cookies in his packages. \n",
    "\n",
    "A customer decides to find out whether this rumour is true and does an experiment: He buys packages of cookies packed by the baker and her son over 8 days each and weighs the packages. He gets the following two samples:"
   ]
  },
  {
   "cell_type": "markdown",
   "id": "b6a27f29",
   "metadata": {},
   "source": [
    "| Sample | 1 | 2 | 3 | 4 | 5 | 6 | 7 | 8 |\n",
    "| --- | --- | --- |--- |--- |--- |--- |--- |--- |\n",
    "| Weight (son) X | 512 | 530 | 498 | 540 | 521 | 528 | 505 | 523|\n",
    "| Weight (baker) Y | 499 | 500 | 510 | 495 | 515 | 503 | 490 | 511"
   ]
  },
  {
   "cell_type": "markdown",
   "id": "374fb200",
   "metadata": {},
   "source": [
    "**TASK**\n",
    "\n",
    "1. Using a critical region approach, test whether the complaint is justified using a two-sided hypothesis test for $H_0: \\mu_x = \\mu_y$ with $\\alpha = 0.05$, and visualise the solution. \n",
    "\n",
    "Just like we did in Task 1.2, you will want to compute the test-statistic and compare it to the critical region. You will want to use the [Welch test](https://docs.scipy.org/doc/scipy/reference/generated/scipy.stats.ttest_ind.html) for this. It is available via SciPy.stats as the ttest_ind() function.\n",
    "\n",
    "2. Based on this above, make a statement about the rejection/retention of the null hypothesis using the **p-value**.\n",
    "\n",
    "Like we did in Task 1.1, for this you will want to compare the p-value to our chosen $\\alpha = 0.05$.\n"
   ]
  },
  {
   "cell_type": "code",
   "execution_count": 33,
   "id": "33aed410",
   "metadata": {},
   "outputs": [],
   "source": [
    "l1 = [512, 530, 498, 540, 521, 528, 505, 523]"
   ]
  },
  {
   "cell_type": "code",
   "execution_count": 34,
   "id": "10f9c418",
   "metadata": {},
   "outputs": [],
   "source": [
    "# Your code here"
   ]
  },
  {
   "cell_type": "markdown",
   "id": "6fabe19c",
   "metadata": {},
   "source": [
    "### Task 1.4: $\\chi^2$ Goodness-of-Fit test"
   ]
  },
  {
   "cell_type": "markdown",
   "id": "ebb7bd56",
   "metadata": {},
   "source": [
    "Gregor Mendel was a famous biologist and created the concept of [Mendelian inheritance](https://en.wikipedia.org/wiki/Mendelian_inheritance) when describing how pea plants passed on genetic traits. He created a number of experiments with these plants and recorded their different shapes and colours.\n",
    "\n",
    "Imagine his experiments resulted in the following sample:"
   ]
  },
  {
   "cell_type": "markdown",
   "id": "2b2ce528",
   "metadata": {},
   "source": [
    "| Sample | Round Yellow | Round Green | Edged Yellow | Edged Green \n",
    "| --- | --- | --- | --- | --- |\n",
    "| Observation $X_i$ | 315 | 108 | 101 | 32"
   ]
  },
  {
   "cell_type": "markdown",
   "id": "6af4474f",
   "metadata": {},
   "source": [
    "Mendel had the hypothesis that the four different types occur in proportions of 9:3:3:1, that is, he proposed about the probabilities of these traits $$p_1 = \\frac{9}{16}, p_2 = \\frac{3}{16}, p_3 = \\frac{3}{16}, p_4 = \\frac{1}{16}$$.\n",
    "\n",
    "As this is our initial assumption, we can say that $H_0: P(X = i) = p_i$.\n",
    "\n",
    "We want to test whether our sample data is generated from this hypothetical distribution using the $\\chi^2$ Goodness-of-Fit test. As before, SciPy let's us achieve this using their chisquare() function with documentation [here](https://docs.scipy.org/doc/scipy/reference/generated/scipy.stats.chisquare.html)."
   ]
  },
  {
   "cell_type": "markdown",
   "id": "f2d99290",
   "metadata": {},
   "source": [
    "**TASK** \n",
    "\n",
    "Using the p-value approach as in task 1.1 and the second part of 1.3, compute the test statistic and compare the resulting p-value with our chosen $\\alpha = 0.05$ to decide whether the null hypothesis should be retained or rejected."
   ]
  },
  {
   "cell_type": "code",
   "execution_count": 35,
   "id": "d6e510d6",
   "metadata": {},
   "outputs": [],
   "source": [
    "# Your code here"
   ]
  },
  {
   "cell_type": "markdown",
   "id": "055cb6f1",
   "metadata": {},
   "source": [
    "**OPTIONAL TASK** \n",
    "\n",
    "You can also replicate the critical region approach and visualisation as we did before for this."
   ]
  },
  {
   "cell_type": "code",
   "execution_count": 36,
   "id": "272be7b4",
   "metadata": {},
   "outputs": [],
   "source": [
    "# Your code here"
   ]
  }
 ],
 "metadata": {
  "kernelspec": {
   "display_name": "Python 3 (ipykernel)",
   "language": "python",
   "name": "python3"
  },
  "language_info": {
   "codemirror_mode": {
    "name": "ipython",
    "version": 3
   },
   "file_extension": ".py",
   "mimetype": "text/x-python",
   "name": "python",
   "nbconvert_exporter": "python",
   "pygments_lexer": "ipython3",
   "version": "3.11.2"
  }
 },
 "nbformat": 4,
 "nbformat_minor": 5
}
