{
 "cells": [
  {
   "cell_type": "markdown",
   "id": "0766f9cf",
   "metadata": {},
   "source": [
    "# Welcome back to Week 4\n",
    "\n",
    "This week we will look into the analysis of variance (ANOVA) and how we can implement both one-way and two-way ANOVA models."
   ]
  },
  {
   "cell_type": "markdown",
   "id": "d3c2370e",
   "metadata": {},
   "source": [
    "## Demo 1: F-distribution\n",
    "\n",
    "The first thing we have to understand before we can implement ANOVA is the F-distribution. You will remember from the lecture that the F-distribution is roughly equal to the t-distribution squared.\n",
    "\n",
    "If you want to visualise this, you can have a look at the following demo. We will  visualise\n",
    "\n",
    "- F-distribution with 1 and 19 degrees of freedom\n",
    "- t-distribution with 19 degrees of freedom\n",
    "- t-distribution with 19 degrees of freedom but SQUARED"
   ]
  },
  {
   "cell_type": "code",
   "execution_count": 1,
   "id": "31e77545",
   "metadata": {},
   "outputs": [
    {
     "name": "stdout",
     "output_type": "stream",
     "text": [
      "array([3.08897318, 2.66711039, 3.5681412 , ..., 0.2010744 , 1.93470659,\n",
      "       3.66122222])\n",
      "array([1.91986621e-01, 6.40541440e+00, 6.91834178e-04, ...,\n",
      "       2.66698393e+00, 1.88805157e+00, 1.02490494e+00])\n"
     ]
    },
    {
     "data": {
      "text/plain": [
       "<matplotlib.legend.Legend at 0x1f8391d0350>"
      ]
     },
     "execution_count": 1,
     "metadata": {},
     "output_type": "execute_result"
    },
    {
     "data": {
      "image/png": "[encoded data removed]",
      "text/plain": [
       "<Figure size 1200x600 with 2 Axes>"
      ]
     },
     "metadata": {},
     "output_type": "display_data"
    }
   ],
   "source": [
    "import pprint as pp\n",
    "import matplotlib.pyplot as plt\n",
    "import scipy.stats as sts\n",
    "import numpy as np\n",
    "\n",
    "# generate 1000 realisations of the three chosen distributions\n",
    "F_Ran = sts.f.rvs(1, 19, size=10000)\n",
    "t_Ran = sts.t.rvs(19, loc=0, scale=1, size=10000)\n",
    "t_Ran_2 = t_Ran**2\n",
    "\n",
    "pp.pprint(F_Ran)\n",
    "pp.pprint(t_Ran_2)\n",
    "\n",
    "fig, ax = plt.subplots(1, 2, figsize=(12, 6))  # 1 row, 2 columns\n",
    "\n",
    "# plot the results; choose different colours and levels of transparency (3rd and 4th parameter) to plot them together in one\n",
    "# plt.hist(t_Ran, bins=\"auto\", alpha=0.5, color=\"green\", label=\"t-distribution\")\n",
    "ax[0].hist(F_Ran, bins=\"auto\", alpha=0.5, color=\"blue\", label=\"F-distribution\")\n",
    "ax[0].legend()\n",
    "ax[1].hist(\n",
    "    t_Ran_2, bins=\"auto\", alpha=0.5, color=\"yellow\", label=\"t-distribution squared\"\n",
    ")\n",
    "ax[1].legend()"
   ]
  },
  {
   "cell_type": "markdown",
   "id": "374fc227",
   "metadata": {},
   "source": [
    "## Part 2: One-way ANOVA\n",
    "\n",
    "You are given the following exam scores for different course delivery formats.\n",
    "\n",
    "| Index | Online | Hybrid | Face-to-Face |\n",
    "| --- | --- | --- | --- |\n",
    "| 1 | 72 | 83 | 80 |\n",
    "| 2 | 84 | 73 | 78 |\n",
    "| 3 | 77 | 84 | 84 |\n",
    "| 4 | 80 | 81 | 81 | \n",
    "| 5 | 81 |    | 86 | \n",
    "| 6 |    |    | 79 | \n",
    "| 7 |    |    | 82 | \n",
    "\n",
    "We want to conduct a one-way ANOVA, where exam score is our measurement and our three groups are the course delivery formats.\n",
    "\n",
    "First step is therefore to:\n",
    "- Formulate a omnibus null hypothesis for one-way ANOVA.\n",
    "\n",
    "$H_0: \\mu_{online} = \\mu_{hybrid} = \\mu_{f2f}$\n",
    "\n",
    "For this analysis we then have to follow the following steps:\n",
    "\n",
    "**1. Check Assumptions**\n",
    "- Perform the Chi-squared goodness of fit test to check the normality assumption under type I error 5%.\n",
    "- Perform the Levene's test (scipy.stats.levene) to check if all groups have equal variances under type I error 5%, please refer to [documentation here](https://docs.scipy.org/doc/scipy/reference/generated/scipy.stats.levene.html).\n",
    "\n",
    "**2. Calculate the degrees of freedom and variations for our test statistic calculations later**\n",
    "- Compute degrees of freedom for among and within -group variations.\n",
    "- Calculate among-group and within-group variations.\n",
    "\n",
    "**3. Follow the critical region approach to check the null hypothesis**\n",
    "- Fix the type I error at 5% and visualise the critial region.\n",
    "- Compute the test statistic and make the decision by using critical region approach."
   ]
  },
  {
   "cell_type": "markdown",
   "id": "1198b6f7",
   "metadata": {},
   "source": [
    "### 2.1 Checking assumptions\n",
    "\n",
    "**DEMO** I will first demonstrate how to check the assumptions for the \"online\" data. "
   ]
  },
  {
   "cell_type": "code",
   "execution_count": 2,
   "id": "15db9cce",
   "metadata": {},
   "outputs": [
    {
     "name": "stdout",
     "output_type": "stream",
     "text": [
      "p-value is 0.8012519569012009\n",
      "null hypothesis for group online should be retained, as p-value> 5% \n"
     ]
    },
    {
     "name": "stderr",
     "output_type": "stream",
     "text": [
      "c:\\Users\\redhawc\\.pyenv\\pyenv-win\\versions\\3.11.2\\Lib\\site-packages\\scipy\\stats\\_distn_infrastructure.py:2241: RuntimeWarning: invalid value encountered in multiply\n",
      "  lower_bound = _a * scale + loc\n",
      "c:\\Users\\redhawc\\.pyenv\\pyenv-win\\versions\\3.11.2\\Lib\\site-packages\\scipy\\stats\\_distn_infrastructure.py:2242: RuntimeWarning: invalid value encountered in multiply\n",
      "  upper_bound = _b * scale + loc\n"
     ]
    }
   ],
   "source": [
    "import scipy.stats as sts\n",
    "import numpy as np\n",
    "\n",
    "# Objective: Perform the Chi-squared goodness of fit test to check the normality assumption under type I error 5%\n",
    "\n",
    "# We know that a random variable that follows normal distribution is continuous.\n",
    "# For Chi-squared goodness of fit test, the test statistic is summing the squared difference between the observed frequency and the expected frequency of an outcome.\n",
    "# Continuous normal distribution means a infinite number of outcomes.\n",
    "# Hence, we should discretise the continuous normal distribution by using bins/sub-regions.\n",
    "Group1 = np.array([72, 84, 77, 80, 81])\n",
    "Group2 = np.array([83, 73, 84, 81])\n",
    "Group3 = np.array([80, 78, 84, 86, 81, 79, 82])\n",
    "\n",
    "# Chi-squared goodness of fit test is a one-sample test, meaning that compare population parameters with fixed values\n",
    "# the fixed values are the population parameters of the normal distribution. Each group follow a normal distribution\n",
    "# Use sample mean and variance as unbiased estimators of popluation mean and variance.\n",
    "mean_G = np.zeros((3, 1))\n",
    "var_G = np.zeros((3, 1))\n",
    "\n",
    "# ddof is delta degree of freedom, ddof=1: using sample mean formula\n",
    "mean_G[0, 0] = np.mean(Group1)\n",
    "var_G[0, 0] = np.var(Group1, ddof=1)\n",
    "\n",
    "# Let the number of bins be 6, so we devide the PDF of N~(mean_G1/2/3,var_G1/2/3) into 6 regions of equal probability.\n",
    "# large number of bins, better approximation of normal distribution\n",
    "# 6 here is because our sample data is a relatively small.\n",
    "# Cutoffs for those bins can be found via the inverse function of CDF\n",
    "# 6 bins require 5 cutoffs.\n",
    "Bin_Cutoff = np.zeros((5, 3))\n",
    "for i in range(5):\n",
    "    for j in range(3):\n",
    "        Bin_Cutoff[i, j] = sts.norm.ppf(\n",
    "            (i + 1) / 6, loc=mean_G[j, 0], scale=np.sqrt(var_G[j, 0])\n",
    "        )\n",
    "\n",
    "# all bins have equal probabilities, the sum is 1.\n",
    "Expected_Relative_Freq = np.ones((6, 3)) * 1 / 6\n",
    "\n",
    "# Compute the observed absolute frequency for each bin by counting the number of sample points in each bin\n",
    "Observed_Absolute_Freq = np.zeros((6, 3))\n",
    "Observed_Absolute_Freq[0, 0] = len(np.where(Group1 <= Bin_Cutoff[0, 0])[0])\n",
    "\n",
    "\n",
    "for i in range(1, 5):\n",
    "    Observed_Absolute_Freq[i, 0] = len(\n",
    "        np.where(Group1 <= Bin_Cutoff[i, 0])[0]\n",
    "    ) - np.sum(Observed_Absolute_Freq[0:i, 0])\n",
    "    Observed_Absolute_Freq[5, 0] = len(Group1) - np.sum(Observed_Absolute_Freq[0:5, 0])\n",
    "\n",
    "\n",
    "# Compute the expected absolute frequency for each bin: bin probability x sample size of each group\n",
    "Expected_Absolute_Freq = np.zeros((6, 3))\n",
    "Expected_Absolute_Freq[:, 0] = Expected_Relative_Freq[:, 0] * len(Group1)\n",
    "\n",
    "\n",
    "# compute p value for each group by using chi square goodness of fit test;ddof=2: we lost 2 degrees of freedom when estimating population mean and varaince\n",
    "print(\n",
    "    \"p-value is\",\n",
    "    sts.chisquare(Observed_Absolute_Freq[:, 0], Expected_Absolute_Freq[:, 0], ddof=2)[\n",
    "        1\n",
    "    ],\n",
    ")\n",
    "print(\"null hypothesis for group online should be retained, as p-value> 5% \")"
   ]
  },
  {
   "cell_type": "markdown",
   "id": "44db2c10",
   "metadata": {},
   "source": [
    "**TASK**: Replicate the above for the groups \"hybrid\" and \"face to face\".\n",
    "\n",
    "You can add lines of code to the above if you like, as it is already designed to loop over more than one group."
   ]
  },
  {
   "cell_type": "code",
   "execution_count": 13,
   "id": "c3c8ecb9",
   "metadata": {},
   "outputs": [
    {
     "name": "stdout",
     "output_type": "stream",
     "text": [
      "p-value is 0.17179714429673348\n",
      "null hypothesis for group online should be retained, as p-value> 5% \n"
     ]
    },
    {
     "name": "stderr",
     "output_type": "stream",
     "text": [
      "c:\\Users\\redhawc\\.pyenv\\pyenv-win\\versions\\3.11.2\\Lib\\site-packages\\scipy\\stats\\_distn_infrastructure.py:2241: RuntimeWarning: invalid value encountered in multiply\n",
      "  lower_bound = _a * scale + loc\n",
      "c:\\Users\\redhawc\\.pyenv\\pyenv-win\\versions\\3.11.2\\Lib\\site-packages\\scipy\\stats\\_distn_infrastructure.py:2242: RuntimeWarning: invalid value encountered in multiply\n",
      "  upper_bound = _b * scale + loc\n"
     ]
    }
   ],
   "source": [
    "import scipy.stats as sts\n",
    "import numpy as np\n",
    "\n",
    "# Objective: Perform the Chi-squared goodness of fit test to check the normality assumption under type I error 5%\n",
    "\n",
    "# We know that a random variable that follows normal distribution is continuous.\n",
    "# For Chi-squared goodness of fit test, the test statistic is summing the squared difference between the observed frequency and the expected frequency of an outcome.\n",
    "# Continuous normal distribution means a infinite number of outcomes.\n",
    "# Hence, we should discretise the continuous normal distribution by using bins/sub-regions.\n",
    "Group1 = np.array([72, 84, 77, 80, 81])\n",
    "Group2 = np.array([83, 73, 84, 81])\n",
    "Group3 = np.array([80, 78, 84, 86, 81, 79, 82])\n",
    "\n",
    "# Chi-squared goodness of fit test is a one-sample test, meaning that compare population parameters with fixed values\n",
    "# the fixed values are the population parameters of the normal distribution. Each group follow a normal distribution\n",
    "# Use sample mean and variance as unbiased estimators of popluation mean and variance.\n",
    "mean_G = np.zeros((3, 1))\n",
    "var_G = np.zeros((3, 1))\n",
    "\n",
    "# ddof is delta degree of freedom, ddof=1: using sample mean formula\n",
    "mean_G[0, 0] = np.mean(Group2)\n",
    "var_G[0, 0] = np.var(Group2, ddof=1)\n",
    "\n",
    "# Let the number of bins be 6, so we devide the PDF of N~(mean_G1/2/3,var_G1/2/3) into 6 regions of equal probability.\n",
    "# large number of bins, better approximation of normal distribution\n",
    "# 6 here is because our sample data is a relatively small.\n",
    "# Cutoffs for those bins can be found via the inverse function of CDF\n",
    "# 6 bins require 5 cutoffs.\n",
    "Bin_Cutoff = np.zeros((5, 3))\n",
    "for i in range(5):\n",
    "    for j in range(3):\n",
    "        Bin_Cutoff[i, j] = sts.norm.ppf(\n",
    "            (i + 1) / 6, loc=mean_G[j, 0], scale=np.sqrt(var_G[j, 0])\n",
    "        )\n",
    "\n",
    "# all bins have equal probabilities, the sum is 1.\n",
    "Expected_Relative_Freq = np.ones((6, 3)) * 1 / 6\n",
    "\n",
    "# Compute the observed absolute frequency for each bin by counting the number of sample points in each bin\n",
    "Observed_Absolute_Freq = np.zeros((6, 3))\n",
    "Observed_Absolute_Freq[0, 0] = len(np.where(Group2 <= Bin_Cutoff[0, 0])[0])\n",
    "\n",
    "\n",
    "for i in range(1, 5):\n",
    "    Observed_Absolute_Freq[i, 0] = len(\n",
    "        np.where(Group2 <= Bin_Cutoff[i, 0])[0]\n",
    "    ) - np.sum(Observed_Absolute_Freq[0:i, 0])\n",
    "    Observed_Absolute_Freq[5, 0] = len(Group2) - np.sum(Observed_Absolute_Freq[0:5, 0])\n",
    "\n",
    "\n",
    "# Compute the expected absolute frequency for each bin: bin probability x sample size of each group\n",
    "Expected_Absolute_Freq = np.zeros((6, 3))\n",
    "Expected_Absolute_Freq[:, 0] = Expected_Relative_Freq[:, 0] * len(Group2)\n",
    "\n",
    "\n",
    "# compute p value for each group by using chi square goodness of fit test;ddof=2: we lost 2 degrees of freedom when estimating population mean and varaince\n",
    "print(\n",
    "    \"p-value is\",\n",
    "    sts.chisquare(Observed_Absolute_Freq[:, 0], Expected_Absolute_Freq[:, 0], ddof=2)[\n",
    "        1\n",
    "    ],\n",
    ")\n",
    "print(\"null hypothesis for group online should be retained, as p-value> 5% \")"
   ]
  },
  {
   "cell_type": "markdown",
   "id": "c74394ca",
   "metadata": {},
   "source": [
    "**Demo: Levene Test**\n",
    "\n",
    "If you save the arrays above as Group2 and Group2, equivalent to what I did with Group1, you can run the code below to perform the Levene Test."
   ]
  },
  {
   "cell_type": "code",
   "execution_count": 4,
   "id": "65fab7fb",
   "metadata": {},
   "outputs": [
    {
     "name": "stdout",
     "output_type": "stream",
     "text": [
      "LeveneResult(statistic=0.7553319113344037, pvalue=0.48940056420757244)\n",
      "p-value is greater than 5%, and thus accept null hypothesis of Levene test\n"
     ]
    }
   ],
   "source": [
    "#Perform the Levene's test to determine if the variances of all groups are equal\n",
    "#compute p value for each group by using chi square goodness of fit test\n",
    "import numpy as np\n",
    "import scipy.stats as sts\n",
    "\n",
    "#4th par: use 'mean' because samples follow normal distributions.\n",
    "print(sts.levene(Group1, Group2, Group3,center='mean'))\n",
    "print('p-value is greater than 5%, and thus accept null hypothesis of Levene test')"
   ]
  },
  {
   "cell_type": "markdown",
   "id": "b54ed9b2",
   "metadata": {},
   "source": [
    "We have thus performed all necessary assumptions tests and retained our null hypotheses of normality and equal variance. \n",
    "\n",
    "We can proceed with the one-way ANOVA analysis."
   ]
  },
  {
   "cell_type": "markdown",
   "id": "d51f680b",
   "metadata": {},
   "source": [
    "## 2.2 Degrees of freedom and variations calculation"
   ]
  },
  {
   "cell_type": "markdown",
   "id": "d236d4c4",
   "metadata": {},
   "source": [
    "**DEMO** I will here demonstrate how to calculate the degrees of freedom and among-group/within-group variation here. You can then try this out yourself for the two-way ANOVA later."
   ]
  },
  {
   "cell_type": "code",
   "execution_count": 5,
   "id": "e34150ee",
   "metadata": {},
   "outputs": [
    {
     "name": "stdout",
     "output_type": "stream",
     "text": [
      "For among-group variation, degrees of freedom is 2\n",
      "For within-group variation, degrees of freedom is 13\n"
     ]
    }
   ],
   "source": [
    "import pandas as pd\n",
    "\n",
    "Group1 = np.array([72, 84, 77, 80, 81])\n",
    "Group2 = np.array([83, 73, 84, 81])\n",
    "Group3 = np.array([80, 78, 84, 81, 86, 79, 82])\n",
    "\n",
    "df = pd.DataFrame({\"online\": Group1})\n",
    "df1 = pd.DataFrame({\"hybrid\": Group2})\n",
    "df2 = pd.DataFrame({\"f2f\": Group3})\n",
    "\n",
    "# Concatenate pandas objects along a particular axis.\n",
    "dataframe_ob = pd.concat([df, df1, df2], axis=1)\n",
    "dof_SSA = 3 - 1\n",
    "Num_Measurement_Group = np.zeros((3, 1), dtype=np.int16)\n",
    "\n",
    "for i in range(3):\n",
    "    temp = dataframe_ob.values[:, i]  # read values from ith column from dataframe\n",
    "    temp2 = temp[~np.isnan(temp)]  # read values that are not nan\n",
    "    Num_Measurement_Group[i, 0] = len(temp2)\n",
    "\n",
    "dof_SSW = np.sum(Num_Measurement_Group) - 3\n",
    "print(\"For among-group variation, degrees of freedom is\", dof_SSA)\n",
    "print(\"For within-group variation, degrees of freedom is\", dof_SSW)"
   ]
  },
  {
   "cell_type": "code",
   "execution_count": 6,
   "id": "f9865306",
   "metadata": {},
   "outputs": [
    {
     "name": "stdout",
     "output_type": "stream",
     "text": [
      "Among-group variation SSA is  20.17321428571436\n",
      "Within-group variation SSW is  205.26428571428582\n"
     ]
    }
   ],
   "source": [
    "# Calculate among-group and within-group variations.\n",
    "\n",
    "# compute grand mean\n",
    "\n",
    "Group = np.concatenate((Group1, Group2, Group3), axis=None)\n",
    "grand_mean = np.mean(Group)\n",
    "SSA = 0\n",
    "\n",
    "for j in range(3):\n",
    "    temp = dataframe_ob.values[:, j]  # read values from ith column from dataframe\n",
    "    temp2 = temp[~np.isnan(temp)]  # read values that are not nan\n",
    "    SSA = (\n",
    "        SSA + Num_Measurement_Group[j, 0] * (np.mean(temp2) - grand_mean) ** 2\n",
    "    )  # formula of SSA\n",
    "\n",
    "SSW = 0\n",
    "\n",
    "for j in range(3):\n",
    "    for i in range(Num_Measurement_Group[j, 0]):\n",
    "        temp = dataframe_ob.values[:, j]  # read values from ith column from dataframe\n",
    "        temp2 = temp[~np.isnan(temp)]  # read values that are not nan\n",
    "        SSW = SSW + (temp2[i] - np.mean(temp2)) ** 2  # formula of SSW\n",
    "\n",
    "print(\"Among-group variation SSA is \", SSA)\n",
    "print(\"Within-group variation SSW is \", SSW)"
   ]
  },
  {
   "cell_type": "markdown",
   "id": "911525ea",
   "metadata": {},
   "source": [
    "## 2.3 Critical region approach to testing hypothesis\n",
    "\n",
    "**TASK: Critical region approach** \n",
    "\n",
    "You will remember this approach from last week's computer lab, so you can try this yourself if you like. There's an easier inbuilt package version in the next task if you'd rather try that.\n",
    "\n",
    "Here's how to do a one-way ANOVA using the critical region approach:\n",
    "Calculate the C-Value using the F-distribution with the degrees of freedom which we defined above and with 5% alpha as:\n",
    "\n",
    "sts.f.ppf(0.95, dof_SSA, dof_SSW, loc=0, scale=1).\n",
    "\n",
    "You can then calculate the test statistic as:\n",
    "\n",
    "(SSA/dof_SSA) / (SSW/dof_SSW).\n",
    "\n",
    "Use the critical value approach like we did last week to check whether the null hypothesis should be retained."
   ]
  },
  {
   "cell_type": "code",
   "execution_count": 14,
   "id": "f59c04f8",
   "metadata": {},
   "outputs": [
    {
     "data": {
      "text/plain": [
       "3.805565252978057"
      ]
     },
     "execution_count": 14,
     "metadata": {},
     "output_type": "execute_result"
    }
   ],
   "source": [
    "# Add your code here\n",
    "sts.f.ppf(0.95, dof_SSA, dof_SSW, loc=0, scale=1)"
   ]
  },
  {
   "cell_type": "code",
   "execution_count": 15,
   "id": "b1034922",
   "metadata": {},
   "outputs": [
    {
     "data": {
      "text/plain": [
       "0.6388149424087433"
      ]
     },
     "execution_count": 15,
     "metadata": {},
     "output_type": "execute_result"
    }
   ],
   "source": [
    "(SSA/dof_SSA) / (SSW/dof_SSW)"
   ]
  },
  {
   "cell_type": "markdown",
   "id": "203fac23",
   "metadata": {},
   "source": [
    "**OPTIONAL TASK: Inbuilt scipy function** \n",
    "\n",
    "An easier way to achieve the same, is to use an inbuilt one-way ANOVA package. \n",
    "\n",
    "The scipy library provides us with oen in the form of oneway(). Check out the documentation [here](https://docs.scipy.org/doc/scipy/reference/generated/scipy.stats.f_oneway.html).\n",
    "\n",
    "Try implementing it below. You will just have to input your three arrays for the three groups, so it should be doable in one or two lines of code!"
   ]
  },
  {
   "cell_type": "code",
   "execution_count": 17,
   "id": "d7b748bb",
   "metadata": {},
   "outputs": [
    {
     "data": {
      "text/plain": [
       "F_onewayResult(statistic=0.6388149424087414, pvalue=0.5437096137268844)"
      ]
     },
     "execution_count": 17,
     "metadata": {},
     "output_type": "execute_result"
    }
   ],
   "source": [
    "import scipy.stats as sts\n",
    "\n",
    "sts.f_oneway(Group1, Group2, Group3)"
   ]
  },
  {
   "cell_type": "markdown",
   "id": "95438538",
   "metadata": {},
   "source": [
    "# Part 3: Two-way ANOVA\n",
    "\n",
    "Let's now try to implement a two-way ANOVA. \n",
    "\n",
    "You are given the following data. The effective life (in hours) of batteries is compared by material type (1, 2 or 3) and operating temperature: Low (-10 ̊ C), Medium (20 ̊ C) or High (45 ̊ C). Twelve batteries are randomly selected from each material type and are then randomly allocated to each temperature level. The resulting life of all 36 batteries is shown below:\n",
    "\n",
    "| Material type | Low (-10C) | Medium (20C) | High (45C) |\n",
    "| --- | --- | --- | --- |\n",
    "| 1 | 130, 155, 74, 180 | 34, 40, 80, 75 | 20,70,82,58 |\n",
    "| 2 | 150,188,159,126 | 136,122,106,115 | 25,70,58,45 |\n",
    "| 3 | 138,110,168,160 | 174,120,150,139 | 96,104,82,60|\n",
    "\n",
    "To keep this part of the script a bit shorter, we will assume that the assumptions are already met in this case.\n",
    "\n",
    "We will now complete the following tasks:\n",
    "\n",
    "- Generate one graph to visulise marginal means of groups for each factor and check if there is any evidence showing interaction effect.\n",
    "- Formulate the omnibus null hypotheses for factor and interacton tests.\n",
    "- Compute degrees of freedom for SSA, SSB, SSAB and SSE\n",
    "- Given a Type I error 5%, use the inverse function of CDF of F-distribution to compute critical value(s) of one-sided critical regions for factor and interaction effects.\n",
    "- Calculate the test statistic for factor and interaction effects and make the decision.\n"
   ]
  },
  {
   "cell_type": "markdown",
   "id": "903321d0",
   "metadata": {},
   "source": [
    "## 3.1 Visualising the marginal means\n",
    "\n",
    "**DEMO** \n",
    "\n",
    "As this is more for visualisation purposes, I will demonstrate how the marginal means are calculated and plotted. Please run my code, as I will use the same variables again later.\n"
   ]
  },
  {
   "cell_type": "code",
   "execution_count": 9,
   "id": "2a784e50",
   "metadata": {},
   "outputs": [
    {
     "name": "stderr",
     "output_type": "stream",
     "text": [
      "C:\\Users\\redhawc\\AppData\\Local\\Temp\\ipykernel_19148\\1208774176.py:39: UserWarning: set_ticklabels() should only be used with a fixed number of ticks, i.e. after set_ticks() or using a FixedLocator.\n",
      "  ax1.set_xticklabels(labels)\n",
      "C:\\Users\\redhawc\\AppData\\Local\\Temp\\ipykernel_19148\\1208774176.py:55: UserWarning: set_ticklabels() should only be used with a fixed number of ticks, i.e. after set_ticks() or using a FixedLocator.\n",
      "  ax2.set_xticklabels(labels)\n"
     ]
    },
    {
     "data": {
      "text/plain": [
       "Text(0, 0.5, 'Marginal Mean of Temperature')"
      ]
     },
     "execution_count": 9,
     "metadata": {},
     "output_type": "execute_result"
    },
    {
     "data": {
      "image/png": "[encoded data removed]",
      "text/plain": [
       "<Figure size 1600x1200 with 2 Axes>"
      ]
     },
     "metadata": {},
     "output_type": "display_data"
    }
   ],
   "source": [
    "# construct one dataframe object for each combination of factor A group and factor B group\n",
    "# in total, 9 combinations for this experiment\n",
    "import pandas as pd\n",
    "import numpy as np\n",
    "import matplotlib.pyplot as plt\n",
    "\n",
    "# construct a dataframe object for each combination\n",
    "df = pd.DataFrame({\"M1-Low\": [130, 155, 74, 180]})\n",
    "df1 = pd.DataFrame({\"M1-Med\": [34, 40, 80, 75]})\n",
    "df2 = pd.DataFrame({\"M1-High\": [20, 70, 82, 58]})\n",
    "df3 = pd.DataFrame({\"M2-Low\": [150, 188, 159, 126]})\n",
    "df4 = pd.DataFrame({\"M2-Med\": [136, 122, 106, 115]})\n",
    "df5 = pd.DataFrame({\"M2-High\": [25, 70, 58, 45]})\n",
    "df6 = pd.DataFrame({\"M3-Low\": [138, 110, 168, 160]})\n",
    "df7 = pd.DataFrame({\"M3-Med\": [174, 120, 150, 139]})\n",
    "df8 = pd.DataFrame({\"M3-High\": [96, 104, 82, 60]})\n",
    "\n",
    "# merge all dataframe objects\n",
    "dataframe_ob_two = pd.concat([df, df1, df2, df3, df4, df5, df6, df7, df8], axis=1)\n",
    "\n",
    "# compute the marginal mean for each material type, for M1, compute average of combinations M1-Low, M1-med, and M1-high\n",
    "# for M2, compute average of combinations M2-Low, M2-med, and M2-high\n",
    "# for M3, compute average of combinations M3-Low, M3-med, and M3-high\n",
    "Marginal_Mean_M1 = np.mean(\n",
    "    np.concatenate(\n",
    "        (\n",
    "            dataframe_ob_two[\"M1-Low\"].values,\n",
    "            dataframe_ob_two[\"M1-Med\"].values,\n",
    "            dataframe_ob_two[\"M1-High\"].values,\n",
    "        ),\n",
    "        axis=None,\n",
    "    )\n",
    ")\n",
    "Marginal_Mean_M2 = np.mean(\n",
    "    np.concatenate(\n",
    "        (\n",
    "            dataframe_ob_two[\"M2-Low\"].values,\n",
    "            dataframe_ob_two[\"M2-Med\"].values,\n",
    "            dataframe_ob_two[\"M2-High\"].values,\n",
    "        ),\n",
    "        axis=None,\n",
    "    )\n",
    ")\n",
    "Marginal_Mean_M3 = np.mean(\n",
    "    np.concatenate(\n",
    "        (\n",
    "            dataframe_ob_two[\"M3-Low\"].values,\n",
    "            dataframe_ob_two[\"M3-Med\"].values,\n",
    "            dataframe_ob_two[\"M3-High\"].values,\n",
    "        ),\n",
    "        axis=None,\n",
    "    )\n",
    ")\n",
    "\n",
    "# generate 8 in x 6 in plot, dpi=200\n",
    "fig = plt.figure(figsize=(8, 6), dpi=200)\n",
    "ax1 = fig.add_subplot(1, 2, 1)\n",
    "ax2 = fig.add_subplot(1, 2, 2)\n",
    "\n",
    "# plot for marginal means of 3 material types\n",
    "ax1.plot(\n",
    "    [1, 2, 3],\n",
    "    [Marginal_Mean_M1, Marginal_Mean_M2, Marginal_Mean_M3],\n",
    "    linestyle=\"--\",\n",
    "    marker=\"o\",\n",
    "    color=\"b\",\n",
    ")\n",
    "labels = [item.get_text() for item in ax1.get_xticklabels()]\n",
    "labels[1] = \"Type 1\"\n",
    "labels[3] = \"Type 2\"\n",
    "labels[5] = \"Type 3\"\n",
    "ax1.set_xticklabels(labels)\n",
    "ax1.set_ylabel(\"Marginal Mean of Material Type\")\n",
    "\n",
    "# compute the marginal mean for temperature, for low, compute average of combinations M1-Low, M2-low, and M3-low\n",
    "# for med, compute average of combinations M1-med, M2-med, and M3-med\n",
    "# for high, compute average of combinations M1-high, M2-high, and M3-high\n",
    "Marginal_Mean_Low = np.mean(\n",
    "    np.concatenate(\n",
    "        (\n",
    "            dataframe_ob_two[\"M1-Low\"].values,\n",
    "            dataframe_ob_two[\"M2-Low\"].values,\n",
    "            dataframe_ob_two[\"M3-Low\"].values,\n",
    "        ),\n",
    "        axis=None,\n",
    "    )\n",
    ")\n",
    "Marginal_Mean_Med = np.mean(\n",
    "    np.concatenate(\n",
    "        (\n",
    "            dataframe_ob_two[\"M1-Med\"].values,\n",
    "            dataframe_ob_two[\"M2-Med\"].values,\n",
    "            dataframe_ob_two[\"M3-Med\"].values,\n",
    "        ),\n",
    "        axis=None,\n",
    "    )\n",
    ")\n",
    "Marginal_Mean_High = np.mean(\n",
    "    np.concatenate(\n",
    "        (\n",
    "            dataframe_ob_two[\"M1-High\"].values,\n",
    "            dataframe_ob_two[\"M2-High\"].values,\n",
    "            dataframe_ob_two[\"M3-High\"].values,\n",
    "        ),\n",
    "        axis=None,\n",
    "    )\n",
    ")\n",
    "\n",
    "# plot for marginal means of 3 levels of temperature\n",
    "ax2.plot(\n",
    "    [1, 2, 3],\n",
    "    [Marginal_Mean_Low, Marginal_Mean_Med, Marginal_Mean_High],\n",
    "    linestyle=\"-\",\n",
    "    marker=\"*\",\n",
    "    color=\"r\",\n",
    ")\n",
    "labels = [item.get_text() for item in ax2.get_xticklabels()]\n",
    "labels[1] = \"Low\"\n",
    "labels[3] = \"Medium\"\n",
    "labels[5] = \"High\"\n",
    "ax2.set_xticklabels(labels)\n",
    "ax2.set_ylabel(\"Marginal Mean of Temperature\")"
   ]
  },
  {
   "cell_type": "markdown",
   "id": "a804b39c",
   "metadata": {},
   "source": [
    "How to interpret the graphs?\n",
    "\n",
    "If putting two lines into a single plot, then there is a crossing point, indicating interaction effect exists. That gives us a good idea what to expect, but we want to run a hypothesis test to be sure."
   ]
  },
  {
   "cell_type": "markdown",
   "id": "472c23f2",
   "metadata": {},
   "source": [
    "### 3.2 Hypothesis formulation\n",
    "\n",
    "Three omnibus null hypotheses for this two-way ANOVA:\n",
    "\n",
    "- **material effect** $H_0$ marginal mean for material1 = marginal mean for material2 = marginal mean for material3\n",
    "- **temperature effect** $H_0$ marginal mean for low = marginal mean for medium = marginal mean for high\n",
    "- **interaction effect** $H_0$ interaction effect between material and temperature is zero"
   ]
  },
  {
   "cell_type": "markdown",
   "id": "30473402",
   "metadata": {},
   "source": [
    "### 3.3 Compute degrees of freedom"
   ]
  },
  {
   "cell_type": "markdown",
   "id": "38208c8b",
   "metadata": {},
   "source": [
    "**TASK**\n",
    "\n",
    "Calculate the degrees of freedom for SSA, SSB, SSAB and SSE. You can have a look at the lecture notes if you need to look up the formulas."
   ]
  },
  {
   "cell_type": "code",
   "execution_count": 10,
   "id": "3d7fe002",
   "metadata": {},
   "outputs": [],
   "source": []
  },
  {
   "cell_type": "markdown",
   "id": "22f61392",
   "metadata": {},
   "source": [
    "### 3.4 Compute critical regions"
   ]
  },
  {
   "cell_type": "markdown",
   "id": "74000530",
   "metadata": {},
   "source": [
    "**TASK**\n",
    "\n",
    "Now it's time for our critical value(s) approach again.\n",
    "\n",
    "As usual: Given a Type I error 5%, use the inverse function of CDF of F-distribution to compute critical value(s) of one-sided critical regions for factor and interaction effects.\n",
    "\n",
    "These are three separate tasks, so I will demonstrate it for the first of the two factor effects, and you can then try it out for the second factor and the interaction effects."
   ]
  },
  {
   "cell_type": "code",
   "execution_count": 11,
   "id": "283696d1",
   "metadata": {},
   "outputs": [
    {
     "ename": "NameError",
     "evalue": "name 'dof_SSE' is not defined",
     "output_type": "error",
     "traceback": [
      "\u001b[1;31m---------------------------------------------------------------------------\u001b[0m",
      "\u001b[1;31mNameError\u001b[0m                                 Traceback (most recent call last)",
      "\u001b[1;32mc:\\Users\\redhawc\\Desktop\\EDI_BUSANA\\Principle\\coding_problems\\PODA_Week4.ipynb Cell 30\u001b[0m line \u001b[0;36m5\n\u001b[0;32m      <a href='vscode-notebook-cell:/c%3A/Users/redhawc/Desktop/EDI_BUSANA/Principle/coding_problems/PODA_Week4.ipynb#X41sZmlsZQ%3D%3D?line=0'>1</a>\u001b[0m \u001b[39m# DEMO: Factor effects for 'material'\u001b[39;00m\n\u001b[0;32m      <a href='vscode-notebook-cell:/c%3A/Users/redhawc/Desktop/EDI_BUSANA/Principle/coding_problems/PODA_Week4.ipynb#X41sZmlsZQ%3D%3D?line=1'>2</a>\u001b[0m \n\u001b[0;32m      <a href='vscode-notebook-cell:/c%3A/Users/redhawc/Desktop/EDI_BUSANA/Principle/coding_problems/PODA_Week4.ipynb#X41sZmlsZQ%3D%3D?line=2'>3</a>\u001b[0m \u001b[39m# create empty plot to fill\u001b[39;00m\n\u001b[0;32m      <a href='vscode-notebook-cell:/c%3A/Users/redhawc/Desktop/EDI_BUSANA/Principle/coding_problems/PODA_Week4.ipynb#X41sZmlsZQ%3D%3D?line=3'>4</a>\u001b[0m x1 \u001b[39m=\u001b[39m np\u001b[39m.\u001b[39mlinspace(\u001b[39m-\u001b[39m\u001b[39m8\u001b[39m, \u001b[39m8\u001b[39m, \u001b[39m100\u001b[39m)\n\u001b[1;32m----> <a href='vscode-notebook-cell:/c%3A/Users/redhawc/Desktop/EDI_BUSANA/Principle/coding_problems/PODA_Week4.ipynb#X41sZmlsZQ%3D%3D?line=4'>5</a>\u001b[0m plt\u001b[39m.\u001b[39mplot(x1, sts\u001b[39m.\u001b[39mf\u001b[39m.\u001b[39mpdf(x1,dof_SSA, dof_SSE,loc\u001b[39m=\u001b[39m\u001b[39m0\u001b[39m, scale\u001b[39m=\u001b[39m\u001b[39m1\u001b[39m), \u001b[39m'\u001b[39m\u001b[39mr-\u001b[39m\u001b[39m'\u001b[39m, alpha\u001b[39m=\u001b[39m\u001b[39m0.6\u001b[39m)\n\u001b[0;32m      <a href='vscode-notebook-cell:/c%3A/Users/redhawc/Desktop/EDI_BUSANA/Principle/coding_problems/PODA_Week4.ipynb#X41sZmlsZQ%3D%3D?line=5'>6</a>\u001b[0m plt\u001b[39m.\u001b[39mtitle(\u001b[39m'\u001b[39m\u001b[39mPDF of F-distribution for material effect test\u001b[39m\u001b[39m'\u001b[39m)\n\u001b[0;32m      <a href='vscode-notebook-cell:/c%3A/Users/redhawc/Desktop/EDI_BUSANA/Principle/coding_problems/PODA_Week4.ipynb#X41sZmlsZQ%3D%3D?line=6'>7</a>\u001b[0m plt\u001b[39m.\u001b[39mylabel(\u001b[39m'\u001b[39m\u001b[39mf(x)\u001b[39m\u001b[39m'\u001b[39m)\n",
      "\u001b[1;31mNameError\u001b[0m: name 'dof_SSE' is not defined"
     ]
    }
   ],
   "source": [
    "# DEMO: Factor effects for 'material'\n",
    "\n",
    "# create empty plot to fill\n",
    "x1 = np.linspace(-8, 8, 100)\n",
    "plt.plot(x1, sts.f.pdf(x1, dof_SSA, dof_SSE, loc=0, scale=1), \"r-\", alpha=0.6)\n",
    "plt.title(\"PDF of F-distribution for material effect test\")\n",
    "plt.ylabel(\"f(x)\")\n",
    "plt.xlabel(\"x\")\n",
    "\n",
    "# one sided test for alpha=0.05, with our DOF for SSA (as we denoted this our factor A) and SSE\n",
    "C_value_material = sts.f.ppf(0.95, dof_SSA, dof_SSE, loc=0, scale=1)\n",
    "print(\"critical value is\", C_value_material)\n",
    "\n",
    "# fill plot with critical value\n",
    "x2 = np.linspace(C_value_material, 8, 100)\n",
    "plt.fill_between(\n",
    "    x2, sts.f.pdf(x2, dof_SSA, dof_SSE, loc=0, scale=1), color=\"purple\", alpha=0.6\n",
    ")\n",
    "plt.annotate(\n",
    "    \"Critical Value is 3.354\",\n",
    "    (C_value_material, 0),\n",
    "    (C_value_material - 1, 0.15),\n",
    "    arrowprops=dict(\n",
    "        arrowstyle=\"fancy\",\n",
    "        fc=\"0.3\",\n",
    "        ec=\"none\",\n",
    "        connectionstyle=\"angle3,angleA=0,angleB=-90\",\n",
    "    ),\n",
    ")"
   ]
  },
  {
   "cell_type": "markdown",
   "id": "6245ab39",
   "metadata": {},
   "source": [
    "**TASK** Replicate the above for factor B (temperature) and the interaction effects. These should be two separate plots (one each)."
   ]
  },
  {
   "cell_type": "code",
   "execution_count": null,
   "id": "81cedfe9",
   "metadata": {},
   "outputs": [],
   "source": [
    "# Add your code here\n"
   ]
  },
  {
   "cell_type": "markdown",
   "id": "fc1662a1",
   "metadata": {},
   "source": [
    "### 3.5 Compute test statistics"
   ]
  },
  {
   "cell_type": "markdown",
   "id": "116dc66d",
   "metadata": {},
   "source": [
    "We can now test our hypotheses. Remember that we had three:\n",
    "\n",
    "- **material effect** $H_0$ marginal mean for material1 = marginal mean for material2 = marginal mean for material3\n",
    "- **temperature effect** $H_0$ marginal mean for low = marginal mean for medium = marginal mean for high\n",
    "- **interaction effect** $H_0$ interaction effect between material and temperature is zero\n",
    "\n",
    "You will need to calculate the SSA, SSB, SSAB and SSE values. For that, you need to calculate the grand mean.\n",
    "\n",
    "Because the sample sizes in all combination are 4, the grand mean can be computed by using either marginal means for material or marginal means for temperature. They will both result in the same value."
   ]
  },
  {
   "cell_type": "code",
   "execution_count": null,
   "id": "660fb717",
   "metadata": {},
   "outputs": [],
   "source": [
    "# We calculate the marginal means earlier in 3.1, so if you get an error here double check whether you executed that cell\n",
    "\n",
    "Marginal_Mean_material = [Marginal_Mean_M1,Marginal_Mean_M2,Marginal_Mean_M3]\n",
    "Marginal_Mean_temperature = [Marginal_Mean_Low,Marginal_Mean_Med,Marginal_Mean_High]\n",
    "\n",
    "grand_mean_two=np.mean(Marginal_Mean_material)"
   ]
  },
  {
   "cell_type": "markdown",
   "id": "f9689899",
   "metadata": {},
   "source": [
    "**TASK** \n",
    "\n",
    "Given the grand mean above, calculate SSA, SSB, SSAB and SSE. This follows the same approach as we did in 2.2, so check that out if you're not sure how to start."
   ]
  },
  {
   "cell_type": "code",
   "execution_count": null,
   "id": "443e206d",
   "metadata": {},
   "outputs": [],
   "source": [
    "# Add your code here"
   ]
  },
  {
   "cell_type": "markdown",
   "id": "0cde0bfb",
   "metadata": {},
   "source": [
    "**TASK**\n",
    "\n",
    "After calculating these variations, we can then use our test statistic approach to make a decision for each of our hypotheses.\n",
    "\n",
    "Check back to Task 2.3, as that was the same approach.\n",
    "\n",
    "You'll need one test statistic each for the two factors. They are for example calculated as\n",
    "\n",
    "test statistic A = (SSA/DOF_SSA) / (SSE/DOF_SSE)\n",
    "\n",
    "for A, the equivalent for B and for AB (interaction)."
   ]
  },
  {
   "cell_type": "code",
   "execution_count": null,
   "id": "925f61de",
   "metadata": {},
   "outputs": [],
   "source": [
    "# Add your code here"
   ]
  },
  {
   "cell_type": "markdown",
   "id": "b98a26f2",
   "metadata": {},
   "source": [
    "### DEMO: Tukey-Kramer procedure\n",
    "\n",
    "As you can see, we could reject all three of our null hypotheses. If we want to know WHERE the effects are happening, we can use the Tukey-Kramer approach to do that. I demonstrate how to use this approach below."
   ]
  },
  {
   "cell_type": "code",
   "execution_count": null,
   "id": "83885c84",
   "metadata": {},
   "outputs": [
    {
     "name": "stdout",
     "output_type": "stream",
     "text": [
      "there is a significant difference in population mean between groups 1 and 0 of factor material.\n",
      "there is a significant difference in population mean between groups 1 and 0 of factor temperature.\n",
      "there is a significant difference in population mean between groups 2 and 0 of factor material.\n",
      "there is a significant difference in population mean between groups 2 and 0 of factor temperature.\n",
      "there is no difference in population mean between groups 2 and 1 of factor material.\n",
      "there is a significant difference in population mean between groups 2 and 1 of factor temperature.\n"
     ]
    }
   ],
   "source": [
    "# Step 1: Compute pairwise absolute difference between marginal sample means of factors material and temperature\n",
    "Pair_Diff_material=np.zeros((3,3))\n",
    "Pair_Diff_temperature=np.zeros((3,3))\n",
    "\n",
    "#compute the pairwise absolute difference for distinctive pairs\n",
    "for i in range(3):\n",
    "    for j in range(3):\n",
    "        if i > j :\n",
    "            Pair_Diff_material[i,j]=abs(Marginal_Mean_material[i]-Marginal_Mean_material[j])\n",
    "            Pair_Diff_temperature[i,j]=abs(Marginal_Mean_temperature[i]-Marginal_Mean_temperature[j])\n",
    "\n",
    "# Step 2: Given Type I error 5% , compute the critical region for factor material and temperature by the inverse function of CDF of studentized range distribution\n",
    "# for the use of studentized range distribution, refer to https://docs.scipy.org/doc/scipy/reference/generated/scipy.stats.studentized_range.html\n",
    "critical_value_material_TK= sts.studentized_range.ppf(0.95,dof_SSA,dof_SSE,loc=0, scale=1)*np.sqrt((SSE/dof_SSE)/(3*4))\n",
    "critical_value_temperature_TK= sts.studentized_range.ppf(0.95,dof_SSB,dof_SSE,loc=0, scale=1)*np.sqrt((SSE/dof_SSE)/(3*4))\n",
    "\n",
    "# Step 3: Compare each pairwise absolute difference with the corresponding critical values.\n",
    "for i in range(3):\n",
    "    for j in range(3):\n",
    "        if i > j :\n",
    "            if Pair_Diff_material[i,j]>critical_value_material_TK:\n",
    "                print('there is a significant difference in population mean between groups',i,'and',j, 'of factor material.')\n",
    "            else:\n",
    "                print('there is no difference in population mean between groups',i,'and',j, 'of factor material.')\n",
    "            if Pair_Diff_temperature[i,j]>critical_value_temperature_TK:\n",
    "                print('there is a significant difference in population mean between groups',i,'and',j, 'of factor temperature.')\n",
    "            else:\n",
    "                print('there is no difference in population mean between groups',i,'and',j, 'of factor temperature.')"
   ]
  }
 ],
 "metadata": {
  "kernelspec": {
   "display_name": "Python 3 (ipykernel)",
   "language": "python",
   "name": "python3"
  },
  "language_info": {
   "codemirror_mode": {
    "name": "ipython",
    "version": 3
   },
   "file_extension": ".py",
   "mimetype": "text/x-python",
   "name": "python",
   "nbconvert_exporter": "python",
   "pygments_lexer": "ipython3",
   "version": "3.11.2"
  }
 },
 "nbformat": 4,
 "nbformat_minor": 5
}
